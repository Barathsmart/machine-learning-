{
 "cells": [
  {
   "cell_type": "markdown",
   "id": "45817182",
   "metadata": {},
   "source": [
    "# Outline:"
   ]
  },
  {
   "cell_type": "markdown",
   "id": "d0a3308f",
   "metadata": {},
   "source": [
    "1. Explore dataset\n",
    "   * Missing or null values\n",
    "   * Distributions\n",
    "   * Summary statistics\n",
    "\n",
    "2. Multicollinearity\n",
    "   * Correlation matrix\n",
    "\n",
    "3. Categorical variable \n",
    "\n",
    "4. Outlier analysis\n",
    "\n",
    "5. Model building from Scratch\n",
    "   * Split dataset into train and test set\n",
    "   * Define and fit the model\n",
    "   * Model summary\n",
    "   * Summary statistics\n",
    "   * Model adequacy checking\n",
    "\n",
    "6. Conclusion\n"
   ]
  },
  {
   "cell_type": "markdown",
   "id": "4c9f2708",
   "metadata": {},
   "source": [
    "# Import Libraries"
   ]
  },
  {
   "cell_type": "code",
   "execution_count": 1,
   "id": "eed37a71",
   "metadata": {},
   "outputs": [],
   "source": [
    "import pandas as pd # For data Analysis\n",
    "import numpy as np # working with arrays\n",
    "import matplotlib.pyplot as plt #for visualization\n",
    "import seaborn as sns # for visualizing"
   ]
  },
  {
   "cell_type": "markdown",
   "id": "9fa88974",
   "metadata": {},
   "source": [
    "# Read Dataset"
   ]
  },
  {
   "cell_type": "code",
   "execution_count": 2,
   "id": "589a742e",
   "metadata": {},
   "outputs": [],
   "source": [
    "data=pd.read_csv(\"Fish.csv\")"
   ]
  },
  {
   "cell_type": "code",
   "execution_count": 3,
   "id": "e4b5773e",
   "metadata": {},
   "outputs": [
    {
     "data": {
      "text/html": [
       "<div>\n",
       "<style scoped>\n",
       "    .dataframe tbody tr th:only-of-type {\n",
       "        vertical-align: middle;\n",
       "    }\n",
       "\n",
       "    .dataframe tbody tr th {\n",
       "        vertical-align: top;\n",
       "    }\n",
       "\n",
       "    .dataframe thead th {\n",
       "        text-align: right;\n",
       "    }\n",
       "</style>\n",
       "<table border=\"1\" class=\"dataframe\">\n",
       "  <thead>\n",
       "    <tr style=\"text-align: right;\">\n",
       "      <th></th>\n",
       "      <th>Species</th>\n",
       "      <th>Weight</th>\n",
       "      <th>Length1</th>\n",
       "      <th>Length2</th>\n",
       "      <th>Length3</th>\n",
       "      <th>Height</th>\n",
       "      <th>Width</th>\n",
       "    </tr>\n",
       "  </thead>\n",
       "  <tbody>\n",
       "    <tr>\n",
       "      <th>0</th>\n",
       "      <td>Bream</td>\n",
       "      <td>242.0</td>\n",
       "      <td>23.2</td>\n",
       "      <td>25.4</td>\n",
       "      <td>30.0</td>\n",
       "      <td>11.5200</td>\n",
       "      <td>4.0200</td>\n",
       "    </tr>\n",
       "    <tr>\n",
       "      <th>1</th>\n",
       "      <td>Bream</td>\n",
       "      <td>290.0</td>\n",
       "      <td>24.0</td>\n",
       "      <td>26.3</td>\n",
       "      <td>31.2</td>\n",
       "      <td>12.4800</td>\n",
       "      <td>4.3056</td>\n",
       "    </tr>\n",
       "    <tr>\n",
       "      <th>2</th>\n",
       "      <td>Bream</td>\n",
       "      <td>340.0</td>\n",
       "      <td>23.9</td>\n",
       "      <td>26.5</td>\n",
       "      <td>31.1</td>\n",
       "      <td>12.3778</td>\n",
       "      <td>4.6961</td>\n",
       "    </tr>\n",
       "    <tr>\n",
       "      <th>3</th>\n",
       "      <td>Bream</td>\n",
       "      <td>363.0</td>\n",
       "      <td>26.3</td>\n",
       "      <td>29.0</td>\n",
       "      <td>33.5</td>\n",
       "      <td>12.7300</td>\n",
       "      <td>4.4555</td>\n",
       "    </tr>\n",
       "    <tr>\n",
       "      <th>4</th>\n",
       "      <td>Bream</td>\n",
       "      <td>430.0</td>\n",
       "      <td>26.5</td>\n",
       "      <td>29.0</td>\n",
       "      <td>34.0</td>\n",
       "      <td>12.4440</td>\n",
       "      <td>5.1340</td>\n",
       "    </tr>\n",
       "    <tr>\n",
       "      <th>...</th>\n",
       "      <td>...</td>\n",
       "      <td>...</td>\n",
       "      <td>...</td>\n",
       "      <td>...</td>\n",
       "      <td>...</td>\n",
       "      <td>...</td>\n",
       "      <td>...</td>\n",
       "    </tr>\n",
       "    <tr>\n",
       "      <th>154</th>\n",
       "      <td>Smelt</td>\n",
       "      <td>12.2</td>\n",
       "      <td>11.5</td>\n",
       "      <td>12.2</td>\n",
       "      <td>13.4</td>\n",
       "      <td>2.0904</td>\n",
       "      <td>1.3936</td>\n",
       "    </tr>\n",
       "    <tr>\n",
       "      <th>155</th>\n",
       "      <td>Smelt</td>\n",
       "      <td>13.4</td>\n",
       "      <td>11.7</td>\n",
       "      <td>12.4</td>\n",
       "      <td>13.5</td>\n",
       "      <td>2.4300</td>\n",
       "      <td>1.2690</td>\n",
       "    </tr>\n",
       "    <tr>\n",
       "      <th>156</th>\n",
       "      <td>Smelt</td>\n",
       "      <td>12.2</td>\n",
       "      <td>12.1</td>\n",
       "      <td>13.0</td>\n",
       "      <td>13.8</td>\n",
       "      <td>2.2770</td>\n",
       "      <td>1.2558</td>\n",
       "    </tr>\n",
       "    <tr>\n",
       "      <th>157</th>\n",
       "      <td>Smelt</td>\n",
       "      <td>19.7</td>\n",
       "      <td>13.2</td>\n",
       "      <td>14.3</td>\n",
       "      <td>15.2</td>\n",
       "      <td>2.8728</td>\n",
       "      <td>2.0672</td>\n",
       "    </tr>\n",
       "    <tr>\n",
       "      <th>158</th>\n",
       "      <td>Smelt</td>\n",
       "      <td>19.9</td>\n",
       "      <td>13.8</td>\n",
       "      <td>15.0</td>\n",
       "      <td>16.2</td>\n",
       "      <td>2.9322</td>\n",
       "      <td>1.8792</td>\n",
       "    </tr>\n",
       "  </tbody>\n",
       "</table>\n",
       "<p>159 rows × 7 columns</p>\n",
       "</div>"
      ],
      "text/plain": [
       "    Species  Weight  Length1  Length2  Length3   Height   Width\n",
       "0     Bream   242.0     23.2     25.4     30.0  11.5200  4.0200\n",
       "1     Bream   290.0     24.0     26.3     31.2  12.4800  4.3056\n",
       "2     Bream   340.0     23.9     26.5     31.1  12.3778  4.6961\n",
       "3     Bream   363.0     26.3     29.0     33.5  12.7300  4.4555\n",
       "4     Bream   430.0     26.5     29.0     34.0  12.4440  5.1340\n",
       "..      ...     ...      ...      ...      ...      ...     ...\n",
       "154   Smelt    12.2     11.5     12.2     13.4   2.0904  1.3936\n",
       "155   Smelt    13.4     11.7     12.4     13.5   2.4300  1.2690\n",
       "156   Smelt    12.2     12.1     13.0     13.8   2.2770  1.2558\n",
       "157   Smelt    19.7     13.2     14.3     15.2   2.8728  2.0672\n",
       "158   Smelt    19.9     13.8     15.0     16.2   2.9322  1.8792\n",
       "\n",
       "[159 rows x 7 columns]"
      ]
     },
     "execution_count": 3,
     "metadata": {},
     "output_type": "execute_result"
    }
   ],
   "source": [
    "data"
   ]
  },
  {
   "cell_type": "code",
   "execution_count": 4,
   "id": "354a67b6",
   "metadata": {},
   "outputs": [
    {
     "name": "stdout",
     "output_type": "stream",
     "text": [
      "The columns are: Index(['Species', 'Weight', 'Length1', 'Length2', 'Length3', 'Height',\n",
      "       'Width'],\n",
      "      dtype='object')\n",
      "*****-------------------------*****\n",
      "The shape of the dataset: (159, 7)\n"
     ]
    }
   ],
   "source": [
    "print(\"The columns are:\",data.columns)\n",
    "print(\"*****-------------------------*****\")\n",
    "print(\"The shape of the dataset:\",data.shape)"
   ]
  },
  {
   "cell_type": "markdown",
   "id": "8f4eec0e",
   "metadata": {},
   "source": [
    "#### Column descriptions\n",
    "Weight - weight of fish in grams <br>\n",
    "Length1 - vertical length in cm<br>\n",
    "Length2 - Diagonal length in cm<br>\n",
    "Length3 - Cross length in cm<br>\n",
    "Height - height in cm<br>\n",
    "Width - Diagonal width in cm"
   ]
  },
  {
   "cell_type": "code",
   "execution_count": 5,
   "id": "51d91f44",
   "metadata": {},
   "outputs": [],
   "source": [
    "# rename the columns\n",
    "df = data.rename({'Length1':'Vertical_Length', 'Length2':'Diagonal_Length', 'Length3':'Cross_Length'}, axis='columns')"
   ]
  },
  {
   "cell_type": "code",
   "execution_count": 6,
   "id": "fd0b7c0c",
   "metadata": {},
   "outputs": [
    {
     "data": {
      "text/html": [
       "<div>\n",
       "<style scoped>\n",
       "    .dataframe tbody tr th:only-of-type {\n",
       "        vertical-align: middle;\n",
       "    }\n",
       "\n",
       "    .dataframe tbody tr th {\n",
       "        vertical-align: top;\n",
       "    }\n",
       "\n",
       "    .dataframe thead th {\n",
       "        text-align: right;\n",
       "    }\n",
       "</style>\n",
       "<table border=\"1\" class=\"dataframe\">\n",
       "  <thead>\n",
       "    <tr style=\"text-align: right;\">\n",
       "      <th></th>\n",
       "      <th>Species</th>\n",
       "      <th>Weight</th>\n",
       "      <th>Vertical_Length</th>\n",
       "      <th>Diagonal_Length</th>\n",
       "      <th>Cross_Length</th>\n",
       "      <th>Height</th>\n",
       "      <th>Width</th>\n",
       "    </tr>\n",
       "  </thead>\n",
       "  <tbody>\n",
       "    <tr>\n",
       "      <th>0</th>\n",
       "      <td>Bream</td>\n",
       "      <td>242.0</td>\n",
       "      <td>23.2</td>\n",
       "      <td>25.4</td>\n",
       "      <td>30.0</td>\n",
       "      <td>11.5200</td>\n",
       "      <td>4.0200</td>\n",
       "    </tr>\n",
       "    <tr>\n",
       "      <th>1</th>\n",
       "      <td>Bream</td>\n",
       "      <td>290.0</td>\n",
       "      <td>24.0</td>\n",
       "      <td>26.3</td>\n",
       "      <td>31.2</td>\n",
       "      <td>12.4800</td>\n",
       "      <td>4.3056</td>\n",
       "    </tr>\n",
       "    <tr>\n",
       "      <th>2</th>\n",
       "      <td>Bream</td>\n",
       "      <td>340.0</td>\n",
       "      <td>23.9</td>\n",
       "      <td>26.5</td>\n",
       "      <td>31.1</td>\n",
       "      <td>12.3778</td>\n",
       "      <td>4.6961</td>\n",
       "    </tr>\n",
       "  </tbody>\n",
       "</table>\n",
       "</div>"
      ],
      "text/plain": [
       "  Species  Weight  Vertical_Length  Diagonal_Length  Cross_Length   Height  \\\n",
       "0   Bream   242.0             23.2             25.4          30.0  11.5200   \n",
       "1   Bream   290.0             24.0             26.3          31.2  12.4800   \n",
       "2   Bream   340.0             23.9             26.5          31.1  12.3778   \n",
       "\n",
       "    Width  \n",
       "0  4.0200  \n",
       "1  4.3056  \n",
       "2  4.6961  "
      ]
     },
     "execution_count": 6,
     "metadata": {},
     "output_type": "execute_result"
    }
   ],
   "source": [
    "df.head(3)"
   ]
  },
  {
   "cell_type": "markdown",
   "id": "9f89544e",
   "metadata": {},
   "source": [
    "# Check Datatype "
   ]
  },
  {
   "cell_type": "code",
   "execution_count": 7,
   "id": "53d021a9",
   "metadata": {},
   "outputs": [
    {
     "name": "stdout",
     "output_type": "stream",
     "text": [
      "<class 'pandas.core.frame.DataFrame'>\n",
      "RangeIndex: 159 entries, 0 to 158\n",
      "Data columns (total 7 columns):\n",
      " #   Column           Non-Null Count  Dtype  \n",
      "---  ------           --------------  -----  \n",
      " 0   Species          159 non-null    object \n",
      " 1   Weight           159 non-null    float64\n",
      " 2   Vertical_Length  159 non-null    float64\n",
      " 3   Diagonal_Length  159 non-null    float64\n",
      " 4   Cross_Length     159 non-null    float64\n",
      " 5   Height           159 non-null    float64\n",
      " 6   Width            159 non-null    float64\n",
      "dtypes: float64(6), object(1)\n",
      "memory usage: 8.8+ KB\n"
     ]
    }
   ],
   "source": [
    "df.info()"
   ]
  },
  {
   "cell_type": "code",
   "execution_count": 8,
   "id": "a05cd4a7",
   "metadata": {},
   "outputs": [
    {
     "data": {
      "text/html": [
       "<div>\n",
       "<style scoped>\n",
       "    .dataframe tbody tr th:only-of-type {\n",
       "        vertical-align: middle;\n",
       "    }\n",
       "\n",
       "    .dataframe tbody tr th {\n",
       "        vertical-align: top;\n",
       "    }\n",
       "\n",
       "    .dataframe thead th {\n",
       "        text-align: right;\n",
       "    }\n",
       "</style>\n",
       "<table border=\"1\" class=\"dataframe\">\n",
       "  <thead>\n",
       "    <tr style=\"text-align: right;\">\n",
       "      <th></th>\n",
       "      <th>Weight</th>\n",
       "      <th>Vertical_Length</th>\n",
       "      <th>Diagonal_Length</th>\n",
       "      <th>Cross_Length</th>\n",
       "      <th>Height</th>\n",
       "      <th>Width</th>\n",
       "    </tr>\n",
       "  </thead>\n",
       "  <tbody>\n",
       "    <tr>\n",
       "      <th>count</th>\n",
       "      <td>159.000000</td>\n",
       "      <td>159.000000</td>\n",
       "      <td>159.000000</td>\n",
       "      <td>159.000000</td>\n",
       "      <td>159.000000</td>\n",
       "      <td>159.000000</td>\n",
       "    </tr>\n",
       "    <tr>\n",
       "      <th>mean</th>\n",
       "      <td>398.326415</td>\n",
       "      <td>26.247170</td>\n",
       "      <td>28.415723</td>\n",
       "      <td>31.227044</td>\n",
       "      <td>8.970994</td>\n",
       "      <td>4.417486</td>\n",
       "    </tr>\n",
       "    <tr>\n",
       "      <th>std</th>\n",
       "      <td>357.978317</td>\n",
       "      <td>9.996441</td>\n",
       "      <td>10.716328</td>\n",
       "      <td>11.610246</td>\n",
       "      <td>4.286208</td>\n",
       "      <td>1.685804</td>\n",
       "    </tr>\n",
       "    <tr>\n",
       "      <th>min</th>\n",
       "      <td>0.000000</td>\n",
       "      <td>7.500000</td>\n",
       "      <td>8.400000</td>\n",
       "      <td>8.800000</td>\n",
       "      <td>1.728400</td>\n",
       "      <td>1.047600</td>\n",
       "    </tr>\n",
       "    <tr>\n",
       "      <th>25%</th>\n",
       "      <td>120.000000</td>\n",
       "      <td>19.050000</td>\n",
       "      <td>21.000000</td>\n",
       "      <td>23.150000</td>\n",
       "      <td>5.944800</td>\n",
       "      <td>3.385650</td>\n",
       "    </tr>\n",
       "    <tr>\n",
       "      <th>50%</th>\n",
       "      <td>273.000000</td>\n",
       "      <td>25.200000</td>\n",
       "      <td>27.300000</td>\n",
       "      <td>29.400000</td>\n",
       "      <td>7.786000</td>\n",
       "      <td>4.248500</td>\n",
       "    </tr>\n",
       "    <tr>\n",
       "      <th>75%</th>\n",
       "      <td>650.000000</td>\n",
       "      <td>32.700000</td>\n",
       "      <td>35.500000</td>\n",
       "      <td>39.650000</td>\n",
       "      <td>12.365900</td>\n",
       "      <td>5.584500</td>\n",
       "    </tr>\n",
       "    <tr>\n",
       "      <th>max</th>\n",
       "      <td>1650.000000</td>\n",
       "      <td>59.000000</td>\n",
       "      <td>63.400000</td>\n",
       "      <td>68.000000</td>\n",
       "      <td>18.957000</td>\n",
       "      <td>8.142000</td>\n",
       "    </tr>\n",
       "  </tbody>\n",
       "</table>\n",
       "</div>"
      ],
      "text/plain": [
       "            Weight  Vertical_Length  Diagonal_Length  Cross_Length  \\\n",
       "count   159.000000       159.000000       159.000000    159.000000   \n",
       "mean    398.326415        26.247170        28.415723     31.227044   \n",
       "std     357.978317         9.996441        10.716328     11.610246   \n",
       "min       0.000000         7.500000         8.400000      8.800000   \n",
       "25%     120.000000        19.050000        21.000000     23.150000   \n",
       "50%     273.000000        25.200000        27.300000     29.400000   \n",
       "75%     650.000000        32.700000        35.500000     39.650000   \n",
       "max    1650.000000        59.000000        63.400000     68.000000   \n",
       "\n",
       "           Height       Width  \n",
       "count  159.000000  159.000000  \n",
       "mean     8.970994    4.417486  \n",
       "std      4.286208    1.685804  \n",
       "min      1.728400    1.047600  \n",
       "25%      5.944800    3.385650  \n",
       "50%      7.786000    4.248500  \n",
       "75%     12.365900    5.584500  \n",
       "max     18.957000    8.142000  "
      ]
     },
     "execution_count": 8,
     "metadata": {},
     "output_type": "execute_result"
    }
   ],
   "source": [
    "df.describe()"
   ]
  },
  {
   "cell_type": "markdown",
   "id": "2bea75ad",
   "metadata": {},
   "source": [
    "Notes\n",
    "\n",
    "Notice there are some values where the weight is equal to zero, which is impossible, so it may be an input error and could possibly remove those values\n",
    "I should maybe explore each category of species to see if any might be out of the ordinary there"
   ]
  },
  {
   "cell_type": "code",
   "execution_count": 9,
   "id": "bf4b489e",
   "metadata": {},
   "outputs": [
    {
     "data": {
      "text/html": [
       "<div>\n",
       "<style scoped>\n",
       "    .dataframe tbody tr th:only-of-type {\n",
       "        vertical-align: middle;\n",
       "    }\n",
       "\n",
       "    .dataframe tbody tr th {\n",
       "        vertical-align: top;\n",
       "    }\n",
       "\n",
       "    .dataframe thead th {\n",
       "        text-align: right;\n",
       "    }\n",
       "</style>\n",
       "<table border=\"1\" class=\"dataframe\">\n",
       "  <thead>\n",
       "    <tr style=\"text-align: right;\">\n",
       "      <th></th>\n",
       "      <th>Species</th>\n",
       "      <th>Weight</th>\n",
       "      <th>Vertical_Length</th>\n",
       "      <th>Diagonal_Length</th>\n",
       "      <th>Cross_Length</th>\n",
       "      <th>Height</th>\n",
       "      <th>Width</th>\n",
       "    </tr>\n",
       "  </thead>\n",
       "  <tbody>\n",
       "    <tr>\n",
       "      <th>40</th>\n",
       "      <td>Roach</td>\n",
       "      <td>0.0</td>\n",
       "      <td>19.0</td>\n",
       "      <td>20.5</td>\n",
       "      <td>22.8</td>\n",
       "      <td>6.4752</td>\n",
       "      <td>3.3516</td>\n",
       "    </tr>\n",
       "  </tbody>\n",
       "</table>\n",
       "</div>"
      ],
      "text/plain": [
       "   Species  Weight  Vertical_Length  Diagonal_Length  Cross_Length  Height  \\\n",
       "40   Roach     0.0             19.0             20.5          22.8  6.4752   \n",
       "\n",
       "     Width  \n",
       "40  3.3516  "
      ]
     },
     "execution_count": 9,
     "metadata": {},
     "output_type": "execute_result"
    }
   ],
   "source": [
    "# Weight cannot be 0g, so should look at those values\n",
    "zeros = df[df['Weight'] == 0]\n",
    "zeros"
   ]
  },
  {
   "cell_type": "markdown",
   "id": "774638c4",
   "metadata": {},
   "source": [
    "This fish cannot possibly weigh 0g, so we will assume for our example that maybe the value was input in error, and will delete this record"
   ]
  },
  {
   "cell_type": "code",
   "execution_count": 10,
   "id": "2e94f479",
   "metadata": {},
   "outputs": [
    {
     "data": {
      "text/html": [
       "<div>\n",
       "<style scoped>\n",
       "    .dataframe tbody tr th:only-of-type {\n",
       "        vertical-align: middle;\n",
       "    }\n",
       "\n",
       "    .dataframe tbody tr th {\n",
       "        vertical-align: top;\n",
       "    }\n",
       "\n",
       "    .dataframe thead th {\n",
       "        text-align: right;\n",
       "    }\n",
       "</style>\n",
       "<table border=\"1\" class=\"dataframe\">\n",
       "  <thead>\n",
       "    <tr style=\"text-align: right;\">\n",
       "      <th></th>\n",
       "      <th>Weight</th>\n",
       "      <th>Vertical_Length</th>\n",
       "      <th>Diagonal_Length</th>\n",
       "      <th>Cross_Length</th>\n",
       "      <th>Height</th>\n",
       "      <th>Width</th>\n",
       "    </tr>\n",
       "  </thead>\n",
       "  <tbody>\n",
       "    <tr>\n",
       "      <th>count</th>\n",
       "      <td>158.000000</td>\n",
       "      <td>158.000000</td>\n",
       "      <td>158.000000</td>\n",
       "      <td>158.000000</td>\n",
       "      <td>158.000000</td>\n",
       "      <td>158.000000</td>\n",
       "    </tr>\n",
       "    <tr>\n",
       "      <th>mean</th>\n",
       "      <td>400.847468</td>\n",
       "      <td>26.293038</td>\n",
       "      <td>28.465823</td>\n",
       "      <td>31.280380</td>\n",
       "      <td>8.986790</td>\n",
       "      <td>4.424232</td>\n",
       "    </tr>\n",
       "    <tr>\n",
       "      <th>std</th>\n",
       "      <td>357.697796</td>\n",
       "      <td>10.011427</td>\n",
       "      <td>10.731707</td>\n",
       "      <td>11.627605</td>\n",
       "      <td>4.295191</td>\n",
       "      <td>1.689010</td>\n",
       "    </tr>\n",
       "    <tr>\n",
       "      <th>min</th>\n",
       "      <td>5.900000</td>\n",
       "      <td>7.500000</td>\n",
       "      <td>8.400000</td>\n",
       "      <td>8.800000</td>\n",
       "      <td>1.728400</td>\n",
       "      <td>1.047600</td>\n",
       "    </tr>\n",
       "    <tr>\n",
       "      <th>25%</th>\n",
       "      <td>121.250000</td>\n",
       "      <td>19.150000</td>\n",
       "      <td>21.000000</td>\n",
       "      <td>23.200000</td>\n",
       "      <td>5.940600</td>\n",
       "      <td>3.398650</td>\n",
       "    </tr>\n",
       "    <tr>\n",
       "      <th>50%</th>\n",
       "      <td>281.500000</td>\n",
       "      <td>25.300000</td>\n",
       "      <td>27.400000</td>\n",
       "      <td>29.700000</td>\n",
       "      <td>7.789000</td>\n",
       "      <td>4.277050</td>\n",
       "    </tr>\n",
       "    <tr>\n",
       "      <th>75%</th>\n",
       "      <td>650.000000</td>\n",
       "      <td>32.700000</td>\n",
       "      <td>35.750000</td>\n",
       "      <td>39.675000</td>\n",
       "      <td>12.371850</td>\n",
       "      <td>5.586750</td>\n",
       "    </tr>\n",
       "    <tr>\n",
       "      <th>max</th>\n",
       "      <td>1650.000000</td>\n",
       "      <td>59.000000</td>\n",
       "      <td>63.400000</td>\n",
       "      <td>68.000000</td>\n",
       "      <td>18.957000</td>\n",
       "      <td>8.142000</td>\n",
       "    </tr>\n",
       "  </tbody>\n",
       "</table>\n",
       "</div>"
      ],
      "text/plain": [
       "            Weight  Vertical_Length  Diagonal_Length  Cross_Length  \\\n",
       "count   158.000000       158.000000       158.000000    158.000000   \n",
       "mean    400.847468        26.293038        28.465823     31.280380   \n",
       "std     357.697796        10.011427        10.731707     11.627605   \n",
       "min       5.900000         7.500000         8.400000      8.800000   \n",
       "25%     121.250000        19.150000        21.000000     23.200000   \n",
       "50%     281.500000        25.300000        27.400000     29.700000   \n",
       "75%     650.000000        32.700000        35.750000     39.675000   \n",
       "max    1650.000000        59.000000        63.400000     68.000000   \n",
       "\n",
       "           Height       Width  \n",
       "count  158.000000  158.000000  \n",
       "mean     8.986790    4.424232  \n",
       "std      4.295191    1.689010  \n",
       "min      1.728400    1.047600  \n",
       "25%      5.940600    3.398650  \n",
       "50%      7.789000    4.277050  \n",
       "75%     12.371850    5.586750  \n",
       "max     18.957000    8.142000  "
      ]
     },
     "execution_count": 10,
     "metadata": {},
     "output_type": "execute_result"
    }
   ],
   "source": [
    "# new df with 0 value removed and view summary statistics\n",
    "df1 = df[df['Weight'] != 0]\n",
    "df1.describe() "
   ]
  },
  {
   "cell_type": "code",
   "execution_count": 11,
   "id": "a3be958f",
   "metadata": {},
   "outputs": [
    {
     "data": {
      "text/plain": [
       "Species    0\n",
       "Weight     0\n",
       "Length1    0\n",
       "Length2    0\n",
       "Length3    0\n",
       "Height     0\n",
       "Width      0\n",
       "dtype: int64"
      ]
     },
     "execution_count": 11,
     "metadata": {},
     "output_type": "execute_result"
    }
   ],
   "source": [
    "# Find the null values\n",
    "data.isnull().sum() "
   ]
  },
  {
   "cell_type": "code",
   "execution_count": 12,
   "id": "b4fef336",
   "metadata": {},
   "outputs": [
    {
     "data": {
      "text/html": [
       "<div>\n",
       "<style scoped>\n",
       "    .dataframe tbody tr th:only-of-type {\n",
       "        vertical-align: middle;\n",
       "    }\n",
       "\n",
       "    .dataframe tbody tr th {\n",
       "        vertical-align: top;\n",
       "    }\n",
       "\n",
       "    .dataframe thead th {\n",
       "        text-align: right;\n",
       "    }\n",
       "</style>\n",
       "<table border=\"1\" class=\"dataframe\">\n",
       "  <thead>\n",
       "    <tr style=\"text-align: right;\">\n",
       "      <th></th>\n",
       "      <th>Species</th>\n",
       "    </tr>\n",
       "  </thead>\n",
       "  <tbody>\n",
       "    <tr>\n",
       "      <th>count</th>\n",
       "      <td>159</td>\n",
       "    </tr>\n",
       "    <tr>\n",
       "      <th>unique</th>\n",
       "      <td>7</td>\n",
       "    </tr>\n",
       "    <tr>\n",
       "      <th>top</th>\n",
       "      <td>Perch</td>\n",
       "    </tr>\n",
       "    <tr>\n",
       "      <th>freq</th>\n",
       "      <td>56</td>\n",
       "    </tr>\n",
       "  </tbody>\n",
       "</table>\n",
       "</div>"
      ],
      "text/plain": [
       "       Species\n",
       "count      159\n",
       "unique       7\n",
       "top      Perch\n",
       "freq        56"
      ]
     },
     "execution_count": 12,
     "metadata": {},
     "output_type": "execute_result"
    }
   ],
   "source": [
    "df.describe(include='object')"
   ]
  },
  {
   "cell_type": "code",
   "execution_count": 13,
   "id": "7daec3ff",
   "metadata": {},
   "outputs": [
    {
     "data": {
      "text/plain": [
       "array(['Bream', 'Roach', 'Whitefish', 'Parkki', 'Perch', 'Pike', 'Smelt'],\n",
       "      dtype=object)"
      ]
     },
     "execution_count": 13,
     "metadata": {},
     "output_type": "execute_result"
    }
   ],
   "source": [
    "s=data['Species'].unique()\n",
    "s"
   ]
  },
  {
   "cell_type": "code",
   "execution_count": 14,
   "id": "b2317c79",
   "metadata": {},
   "outputs": [
    {
     "data": {
      "text/plain": [
       "False    159\n",
       "dtype: int64"
      ]
     },
     "execution_count": 14,
     "metadata": {},
     "output_type": "execute_result"
    }
   ],
   "source": [
    "df.duplicated().value_counts()"
   ]
  },
  {
   "cell_type": "code",
   "execution_count": 15,
   "id": "f434611b",
   "metadata": {},
   "outputs": [
    {
     "name": "stderr",
     "output_type": "stream",
     "text": [
      "<ipython-input-15-2abde9ecbf4f>:1: FutureWarning: Indexing with multiple keys (implicitly converted to a tuple of keys) will be deprecated, use a list instead.\n",
      "  aa = df.groupby('Species')['Weight', 'Vertical_Length', 'Diagonal_Length', 'Cross_Length','Height','Width'].mean()\n"
     ]
    },
    {
     "data": {
      "text/html": [
       "<div>\n",
       "<style scoped>\n",
       "    .dataframe tbody tr th:only-of-type {\n",
       "        vertical-align: middle;\n",
       "    }\n",
       "\n",
       "    .dataframe tbody tr th {\n",
       "        vertical-align: top;\n",
       "    }\n",
       "\n",
       "    .dataframe thead th {\n",
       "        text-align: right;\n",
       "    }\n",
       "</style>\n",
       "<table border=\"1\" class=\"dataframe\">\n",
       "  <thead>\n",
       "    <tr style=\"text-align: right;\">\n",
       "      <th></th>\n",
       "      <th>Weight</th>\n",
       "      <th>Vertical_Length</th>\n",
       "      <th>Diagonal_Length</th>\n",
       "      <th>Cross_Length</th>\n",
       "      <th>Height</th>\n",
       "      <th>Width</th>\n",
       "    </tr>\n",
       "    <tr>\n",
       "      <th>Species</th>\n",
       "      <th></th>\n",
       "      <th></th>\n",
       "      <th></th>\n",
       "      <th></th>\n",
       "      <th></th>\n",
       "      <th></th>\n",
       "    </tr>\n",
       "  </thead>\n",
       "  <tbody>\n",
       "    <tr>\n",
       "      <th>Bream</th>\n",
       "      <td>617.828571</td>\n",
       "      <td>30.305714</td>\n",
       "      <td>33.108571</td>\n",
       "      <td>38.354286</td>\n",
       "      <td>15.183211</td>\n",
       "      <td>5.427614</td>\n",
       "    </tr>\n",
       "    <tr>\n",
       "      <th>Parkki</th>\n",
       "      <td>154.818182</td>\n",
       "      <td>18.727273</td>\n",
       "      <td>20.345455</td>\n",
       "      <td>22.790909</td>\n",
       "      <td>8.962427</td>\n",
       "      <td>3.220736</td>\n",
       "    </tr>\n",
       "    <tr>\n",
       "      <th>Perch</th>\n",
       "      <td>382.239286</td>\n",
       "      <td>25.735714</td>\n",
       "      <td>27.892857</td>\n",
       "      <td>29.571429</td>\n",
       "      <td>7.861870</td>\n",
       "      <td>4.745723</td>\n",
       "    </tr>\n",
       "    <tr>\n",
       "      <th>Pike</th>\n",
       "      <td>718.705882</td>\n",
       "      <td>42.476471</td>\n",
       "      <td>45.482353</td>\n",
       "      <td>48.717647</td>\n",
       "      <td>7.713771</td>\n",
       "      <td>5.086382</td>\n",
       "    </tr>\n",
       "    <tr>\n",
       "      <th>Roach</th>\n",
       "      <td>152.050000</td>\n",
       "      <td>20.645000</td>\n",
       "      <td>22.275000</td>\n",
       "      <td>24.970000</td>\n",
       "      <td>6.694795</td>\n",
       "      <td>3.657850</td>\n",
       "    </tr>\n",
       "    <tr>\n",
       "      <th>Smelt</th>\n",
       "      <td>11.178571</td>\n",
       "      <td>11.257143</td>\n",
       "      <td>11.921429</td>\n",
       "      <td>13.035714</td>\n",
       "      <td>2.209371</td>\n",
       "      <td>1.340093</td>\n",
       "    </tr>\n",
       "    <tr>\n",
       "      <th>Whitefish</th>\n",
       "      <td>531.000000</td>\n",
       "      <td>28.800000</td>\n",
       "      <td>31.316667</td>\n",
       "      <td>34.316667</td>\n",
       "      <td>10.027167</td>\n",
       "      <td>5.473050</td>\n",
       "    </tr>\n",
       "  </tbody>\n",
       "</table>\n",
       "</div>"
      ],
      "text/plain": [
       "               Weight  Vertical_Length  Diagonal_Length  Cross_Length  \\\n",
       "Species                                                                 \n",
       "Bream      617.828571        30.305714        33.108571     38.354286   \n",
       "Parkki     154.818182        18.727273        20.345455     22.790909   \n",
       "Perch      382.239286        25.735714        27.892857     29.571429   \n",
       "Pike       718.705882        42.476471        45.482353     48.717647   \n",
       "Roach      152.050000        20.645000        22.275000     24.970000   \n",
       "Smelt       11.178571        11.257143        11.921429     13.035714   \n",
       "Whitefish  531.000000        28.800000        31.316667     34.316667   \n",
       "\n",
       "              Height     Width  \n",
       "Species                         \n",
       "Bream      15.183211  5.427614  \n",
       "Parkki      8.962427  3.220736  \n",
       "Perch       7.861870  4.745723  \n",
       "Pike        7.713771  5.086382  \n",
       "Roach       6.694795  3.657850  \n",
       "Smelt       2.209371  1.340093  \n",
       "Whitefish  10.027167  5.473050  "
      ]
     },
     "execution_count": 15,
     "metadata": {},
     "output_type": "execute_result"
    }
   ],
   "source": [
    "aa = df.groupby('Species')['Weight', 'Vertical_Length', 'Diagonal_Length', 'Cross_Length','Height','Width'].mean()\n",
    "aa"
   ]
  },
  {
   "cell_type": "markdown",
   "id": "3ff29ad1",
   "metadata": {},
   "source": [
    "# Fish Name to Numberic"
   ]
  },
  {
   "cell_type": "code",
   "execution_count": 16,
   "id": "a07a801a",
   "metadata": {},
   "outputs": [
    {
     "data": {
      "text/plain": [
       "Index(['Perch', 'Bream', 'Roach', 'Pike', 'Smelt', 'Parkki', 'Whitefish'], dtype='object')"
      ]
     },
     "execution_count": 16,
     "metadata": {},
     "output_type": "execute_result"
    }
   ],
   "source": [
    "df['Species'].value_counts().keys()"
   ]
  },
  {
   "cell_type": "code",
   "execution_count": 17,
   "id": "013e8e3c",
   "metadata": {},
   "outputs": [
    {
     "data": {
      "text/plain": [
       "Perch        56\n",
       "Bream        35\n",
       "Roach        20\n",
       "Pike         17\n",
       "Smelt        14\n",
       "Parkki       11\n",
       "Whitefish     6\n",
       "Name: Species, dtype: int64"
      ]
     },
     "execution_count": 17,
     "metadata": {},
     "output_type": "execute_result"
    }
   ],
   "source": [
    "df[\"Species\"].value_counts()"
   ]
  },
  {
   "cell_type": "code",
   "execution_count": 18,
   "id": "67434060",
   "metadata": {
    "scrolled": true
   },
   "outputs": [
    {
     "data": {
      "image/png": "[encoded data removed]",
      "text/plain": [
       "<Figure size 432x288 with 1 Axes>"
      ]
     },
     "metadata": {
      "needs_background": "light"
     },
     "output_type": "display_data"
    }
   ],
   "source": [
    "sns.countplot(x=df.Species)\n",
    "plt.show()"
   ]
  },
  {
   "cell_type": "code",
   "execution_count": 19,
   "id": "1f9eb8c8",
   "metadata": {},
   "outputs": [],
   "source": [
    "df['Species'] = df['Species'].replace({'Perch':0, 'Bream':1, 'Roach':2, 'Pike':3, 'Smelt':4, 'Parkki':5, 'Whitefish':6})"
   ]
  },
  {
   "cell_type": "code",
   "execution_count": 20,
   "id": "ad3ec4d0",
   "metadata": {},
   "outputs": [
    {
     "data": {
      "image/png": "[encoded data removed]",
      "text/plain": [
       "<Figure size 432x288 with 1 Axes>"
      ]
     },
     "metadata": {
      "needs_background": "light"
     },
     "output_type": "display_data"
    }
   ],
   "source": [
    "sns.countplot(x=df.Species)\n",
    "plt.show()"
   ]
  },
  {
   "cell_type": "code",
   "execution_count": 21,
   "id": "d1a35049",
   "metadata": {},
   "outputs": [
    {
     "data": {
      "text/html": [
       "<div>\n",
       "<style scoped>\n",
       "    .dataframe tbody tr th:only-of-type {\n",
       "        vertical-align: middle;\n",
       "    }\n",
       "\n",
       "    .dataframe tbody tr th {\n",
       "        vertical-align: top;\n",
       "    }\n",
       "\n",
       "    .dataframe thead th {\n",
       "        text-align: right;\n",
       "    }\n",
       "</style>\n",
       "<table border=\"1\" class=\"dataframe\">\n",
       "  <thead>\n",
       "    <tr style=\"text-align: right;\">\n",
       "      <th></th>\n",
       "      <th>Species</th>\n",
       "      <th>Weight</th>\n",
       "      <th>Vertical_Length</th>\n",
       "      <th>Diagonal_Length</th>\n",
       "      <th>Cross_Length</th>\n",
       "      <th>Height</th>\n",
       "      <th>Width</th>\n",
       "    </tr>\n",
       "  </thead>\n",
       "  <tbody>\n",
       "    <tr>\n",
       "      <th>135</th>\n",
       "      <td>3</td>\n",
       "      <td>510.0</td>\n",
       "      <td>40.0</td>\n",
       "      <td>42.5</td>\n",
       "      <td>45.5</td>\n",
       "      <td>6.8250</td>\n",
       "      <td>4.459</td>\n",
       "    </tr>\n",
       "    <tr>\n",
       "      <th>24</th>\n",
       "      <td>1</td>\n",
       "      <td>700.0</td>\n",
       "      <td>31.9</td>\n",
       "      <td>35.0</td>\n",
       "      <td>40.5</td>\n",
       "      <td>16.2405</td>\n",
       "      <td>5.589</td>\n",
       "    </tr>\n",
       "    <tr>\n",
       "      <th>54</th>\n",
       "      <td>2</td>\n",
       "      <td>390.0</td>\n",
       "      <td>29.5</td>\n",
       "      <td>31.7</td>\n",
       "      <td>35.0</td>\n",
       "      <td>9.4850</td>\n",
       "      <td>5.355</td>\n",
       "    </tr>\n",
       "  </tbody>\n",
       "</table>\n",
       "</div>"
      ],
      "text/plain": [
       "     Species  Weight  Vertical_Length  Diagonal_Length  Cross_Length   Height  \\\n",
       "135        3   510.0             40.0             42.5          45.5   6.8250   \n",
       "24         1   700.0             31.9             35.0          40.5  16.2405   \n",
       "54         2   390.0             29.5             31.7          35.0   9.4850   \n",
       "\n",
       "     Width  \n",
       "135  4.459  \n",
       "24   5.589  \n",
       "54   5.355  "
      ]
     },
     "execution_count": 21,
     "metadata": {},
     "output_type": "execute_result"
    }
   ],
   "source": [
    "df.sample(3)"
   ]
  },
  {
   "cell_type": "code",
   "execution_count": 22,
   "id": "427a87de",
   "metadata": {},
   "outputs": [
    {
     "data": {
      "image/png": "[encoded data removed]",
      "text/plain": [
       "<Figure size 720x432 with 2 Axes>"
      ]
     },
     "metadata": {
      "needs_background": "light"
     },
     "output_type": "display_data"
    }
   ],
   "source": [
    "# make figure a bit bigger\n",
    "plt.figure(figsize=(10,6))\n",
    "\n",
    "# correlation heatmap\n",
    "sns.heatmap(df1.corr(), annot=True, vmin=0, vmax=1, cmap=\"rocket_r\")\n",
    "plt.show()"
   ]
  },
  {
   "cell_type": "code",
   "execution_count": 23,
   "id": "ff7c2c2a",
   "metadata": {},
   "outputs": [
    {
     "data": {
      "text/plain": [
       "Text(0.5, 0, 'Diagonal width (cm)')"
      ]
     },
     "execution_count": 23,
     "metadata": {},
     "output_type": "execute_result"
    },
    {
     "data": {
      "image/png": "[encoded data removed]",
      "text/plain": [
       "<Figure size 432x288 with 1 Axes>"
      ]
     },
     "metadata": {
      "needs_background": "light"
     },
     "output_type": "display_data"
    }
   ],
   "source": [
    "x = df.Width.values.reshape(-1, 1)\n",
    "y = df.Weight.values.reshape(-1, 1)\n",
    "\n",
    "plt.scatter(x, y, s = 8, c = \"red\")\n",
    "plt.ylabel(\"Weight of fish (Grams)\")\n",
    "plt.xlabel(\"Diagonal width (cm)\")"
   ]
  },
  {
   "cell_type": "code",
   "execution_count": 24,
   "id": "d038b476",
   "metadata": {},
   "outputs": [
    {
     "name": "stdout",
     "output_type": "stream",
     "text": [
      "outlier counter of the all features\n"
     ]
    },
    {
     "name": "stderr",
     "output_type": "stream",
     "text": [
      "<ipython-input-24-ba7c2409fede>:8: FutureWarning: Automatic reindexing on DataFrame vs Series comparisons is deprecated and will raise ValueError in a future version.  Do `left, right = left.align(right, axis=1, copy=False)` before e.g. `left == right`\n",
      "  ((data<(Q1-1.5*IQR))|(data>(Q3+1.5*IQR))).sum()\n",
      "<ipython-input-24-ba7c2409fede>:8: FutureWarning: Automatic reindexing on DataFrame vs Series comparisons is deprecated and will raise ValueError in a future version.  Do `left, right = left.align(right, axis=1, copy=False)` before e.g. `left == right`\n",
      "  ((data<(Q1-1.5*IQR))|(data>(Q3+1.5*IQR))).sum()\n"
     ]
    },
    {
     "data": {
      "text/plain": [
       "Height     0\n",
       "Length1    3\n",
       "Length2    3\n",
       "Length3    1\n",
       "Species    0\n",
       "Weight     3\n",
       "Width      0\n",
       "dtype: int64"
      ]
     },
     "execution_count": 24,
     "metadata": {},
     "output_type": "execute_result"
    }
   ],
   "source": [
    "# Detect outlier\n",
    "# Outlier Detection using Tnter Quantile Range \n",
    "Q1=data.quantile(0.25)\n",
    "Q3=data.quantile(0.75)\n",
    "IQR=Q3-Q1\n",
    "IQR\n",
    "print(\"outlier counter of the all features\")\n",
    "((data<(Q1-1.5*IQR))|(data>(Q3+1.5*IQR))).sum()"
   ]
  },
  {
   "cell_type": "code",
   "execution_count": 25,
   "id": "86ccdc76",
   "metadata": {},
   "outputs": [],
   "source": [
    "## Outliers replace using Mean\n",
    "for col in data.columns:\n",
    "    if data[col].dtypes !='object':\n",
    "        q1,q3=data[col].quantile(0.25),data[col].quantile(0.75)\n",
    "        iqr = q3 - q1\n",
    "        ll = q1-1.5*iqr\n",
    "        ul = q3 + 1.5*iqr\n",
    "        data[col] = np.where(data[col]>ul,data[col].mean(),np.where(data[col]<ll,data[col].mean(),data[col]))\n",
    "       "
   ]
  },
  {
   "cell_type": "code",
   "execution_count": 26,
   "id": "52d3139b",
   "metadata": {},
   "outputs": [
    {
     "name": "stdout",
     "output_type": "stream",
     "text": [
      "outlier counter of the all features\n"
     ]
    },
    {
     "name": "stderr",
     "output_type": "stream",
     "text": [
      "<ipython-input-26-ba7c2409fede>:8: FutureWarning: Automatic reindexing on DataFrame vs Series comparisons is deprecated and will raise ValueError in a future version.  Do `left, right = left.align(right, axis=1, copy=False)` before e.g. `left == right`\n",
      "  ((data<(Q1-1.5*IQR))|(data>(Q3+1.5*IQR))).sum()\n",
      "<ipython-input-26-ba7c2409fede>:8: FutureWarning: Automatic reindexing on DataFrame vs Series comparisons is deprecated and will raise ValueError in a future version.  Do `left, right = left.align(right, axis=1, copy=False)` before e.g. `left == right`\n",
      "  ((data<(Q1-1.5*IQR))|(data>(Q3+1.5*IQR))).sum()\n"
     ]
    },
    {
     "data": {
      "text/plain": [
       "Height     0\n",
       "Length1    1\n",
       "Length2    0\n",
       "Length3    0\n",
       "Species    0\n",
       "Weight     0\n",
       "Width      0\n",
       "dtype: int64"
      ]
     },
     "execution_count": 26,
     "metadata": {},
     "output_type": "execute_result"
    }
   ],
   "source": [
    "# Detect outlier\n",
    "# Outlier Detection using Tnter Quantile Range \n",
    "Q1=data.quantile(0.25)\n",
    "Q3=data.quantile(0.75)\n",
    "IQR=Q3-Q1\n",
    "IQR\n",
    "print(\"outlier counter of the all features\")\n",
    "((data<(Q1-1.5*IQR))|(data>(Q3+1.5*IQR))).sum()"
   ]
  },
  {
   "cell_type": "markdown",
   "id": "a2e24c0c",
   "metadata": {},
   "source": [
    "Select the dependent and independent variable\n",
    "* Dependent variable- Weight\n",
    "* independent variable- size and length"
   ]
  },
  {
   "cell_type": "code",
   "execution_count": 27,
   "id": "70a487f8",
   "metadata": {},
   "outputs": [],
   "source": [
    "#Split the Data in x and y\n",
    "y = df.iloc[:, 1].values  # we choose here y as arbitrary output / dependent variable\n",
    "X = df.iloc[:,2:].values  # we choose here x as arbitrary input / independent variable \n",
    "\n",
    "# Here we choose predicted variable is weight"
   ]
  },
  {
   "cell_type": "code",
   "execution_count": 28,
   "id": "29aa5b2d",
   "metadata": {},
   "outputs": [
    {
     "data": {
      "text/plain": [
       "(159,)"
      ]
     },
     "execution_count": 28,
     "metadata": {},
     "output_type": "execute_result"
    }
   ],
   "source": [
    "y.shape"
   ]
  },
  {
   "cell_type": "code",
   "execution_count": 29,
   "id": "972e6413",
   "metadata": {},
   "outputs": [
    {
     "data": {
      "text/plain": [
       "(159, 5)"
      ]
     },
     "execution_count": 29,
     "metadata": {},
     "output_type": "execute_result"
    }
   ],
   "source": [
    "X.shape"
   ]
  },
  {
   "cell_type": "code",
   "execution_count": 53,
   "id": "2df6cf39",
   "metadata": {},
   "outputs": [],
   "source": [
    "\n",
    "import math \n",
    "import operator\n",
    "\n",
    "\n",
    "eps = np.finfo(float).eps\n",
    "\n",
    "def rmse_score(y_true, y_pred):\n",
    "\n",
    "    \"\"\" rmse score = sqrt((sum[i=0 to n](y_true - y_pred)) / len(y_true)) \"\"\"\n",
    "\n",
    "    return np.sqrt((np.subtract(y_pred, y_true) ** 2).sum()/len(y_true))\n",
    "\n",
    "def train_test_split(x, y, test_size = 0.25, random_state = None):\n",
    "\n",
    "    \"\"\" partioning the data into train and test sets \"\"\"\n",
    "\n",
    "    x_test = x.sample(frac = test_size, random_state = random_state)\n",
    "    y_test = y[x_test.index]\n",
    "\n",
    "    x_train = x.drop(x_test.index)\n",
    "    y_train = y.drop(y_test.index)\n",
    "\n",
    "    return x_train, x_test, y_train, y_test\n",
    "\n",
    "\n",
    "\n",
    "\n",
    "class ID3DecisionTreeRegressor: #class is used to create user-defined structure\n",
    "\n",
    "    def __init__(self, max_depth = None, min_sample_leaf = 3,min_sample_split=2):\n",
    "\n",
    "        self.depth = 0 #Depth of the tree\n",
    "        self.max_depth = max_depth\t#Maximum depth of the tree\n",
    "        self.min_sample_leaf = min_sample_leaf\t#Minimum number of samples for each node\n",
    "        self.min_sample_split =min_sample_split\n",
    "        self.coefficient_of_variation = 10 \t#Stopping Criterion\n",
    "\n",
    "        self.features = list\n",
    "        self.X_train = np.array\n",
    "        self.y_train = np.array\n",
    "        self.num_feats = int \n",
    "        self.train_size = int \n",
    "\n",
    "    def fit(self, X, y):\n",
    "\n",
    "        self.X_train = X \n",
    "        self.y_train = y\n",
    "        self.features = list(X.columns)\n",
    "        self.train_size = X.shape[0]\n",
    "        self.num_feats = X.shape[1]\n",
    "\n",
    "        df = X.copy()\n",
    "        df['target'] = y.copy()\n",
    "\n",
    "        #Builds Decision Tree\n",
    "        self.tree = self._build_tree(df)\n",
    "\n",
    "        print(\"\\nDecision Tree(depth = {}) : \\n {}\".format(self.depth, self.tree))\n",
    "\n",
    "    def _build_tree(self, df, tree = None):\n",
    "\n",
    "        \"\"\"\n",
    "            Args:\n",
    "                df: current number of rows available for splitting(decision making)\n",
    "        \"\"\"\n",
    "\n",
    "        #Get feature with minimum score\n",
    "        feature, cutoff = self._find_best_split(df)\n",
    "\n",
    "        if cutoff is None:\n",
    "            return tree\n",
    "\n",
    "        #Initialization of tree\n",
    "        if tree is None:\n",
    "            tree = {}\n",
    "            tree[feature] = {}\n",
    "\n",
    "        #Left Child\n",
    "        new_df = self._split_rows(df, feature, cutoff, operator.le)\n",
    "\n",
    "        target_coef_of_var = self._coef_ov(new_df['target'])\n",
    "\n",
    "        self.depth += 1\n",
    "\n",
    "        if(target_coef_of_var < self.coefficient_of_variation or len(new_df) <= self.min_sample_leaf): #pure group\n",
    "            tree[feature]['<=' + str(cutoff)] = new_df['target'].mean()\n",
    "        else:\n",
    "            if self.max_depth is not None and self.depth >= self.max_depth:\n",
    "                tree[feature]['<=' + str(cutoff)] = new_df['target'].mean()\n",
    "            else:\n",
    "                tree[feature]['<=' + str(cutoff)] = self._build_tree(new_df)\n",
    "\n",
    "\n",
    "        #Right Child\n",
    "        new_df = self._split_rows(df, feature, cutoff, operator.gt)\n",
    "\n",
    "        target_coef_of_var = self._coef_ov(new_df['target'])\n",
    "\n",
    "        if(target_coef_of_var < self.coefficient_of_variation or len(new_df) <= self.min_sample_leaf): #pure group\n",
    "            tree[feature]['>' + str(cutoff)] = new_df['target'].mean()\n",
    "        else:\n",
    "            if self.max_depth is not None and self.depth >= self.max_depth:\n",
    "                tree[feature]['>' + str(cutoff)] = new_df['target'].mean()\n",
    "            else:\n",
    "                tree[feature]['>' + str(cutoff)] = self._build_tree(new_df)\n",
    "\n",
    "        return tree\n",
    "\n",
    "    def _coef_ov(self, y):\n",
    "\n",
    "        \"\"\" calculates coefficient of variation:\n",
    "            COV = (Mean of y / Standard Deviation of y) * 100\n",
    "        \"\"\"\n",
    "        if(y.std() == 0):\n",
    "            return 0\n",
    "        coef_of_var = (y.mean()/y.std()) * 100\n",
    "\n",
    "        return coef_of_var\n",
    "\n",
    "    def _split_rows(self, df, feature, feat_val, operation ):\n",
    "\n",
    "        \"\"\" split rows based on given criterion \"\"\"\n",
    "\n",
    "        return df[operation(df[feature], feat_val)].reset_index(drop = True)\n",
    "\n",
    "    def _find_best_split(self, df):\n",
    "\n",
    "        \"\"\"\n",
    "            Finds the column to split on first.\n",
    "        \"\"\"\n",
    "\n",
    "        best_feature = str\n",
    "        cutoff = None\n",
    "        best_score = float('inf')\n",
    "\n",
    "\n",
    "        for feature in list(df.columns[:-1]):\n",
    "\n",
    "            score, threshold = self._find_feature_split(feature, df)\n",
    "\n",
    "            if score < best_score:\n",
    "                best_feature = feature\n",
    "                best_score = score\n",
    "                cutoff = threshold\n",
    "        \n",
    "        return best_feature, cutoff \n",
    "\n",
    "    def _find_feature_split(self, feature, df):\n",
    "\n",
    "        best_score = float('inf')\n",
    "        cutoff = float\n",
    "\n",
    "        for val in df[feature]:\n",
    "            left_child = df[feature][df[feature] <= val] \n",
    "            right_child = df[feature][df[feature] > val]\n",
    "\n",
    "            if(len(left_child) > 0 and len(right_child) > 0):\n",
    "                score = self._find_score(df, left_child, right_child)\n",
    "\n",
    "                if score < best_score:\n",
    "                    best_score = score\n",
    "                    cutoff = val\n",
    "\n",
    "        return best_score, cutoff\n",
    "\n",
    "\n",
    "    def _find_score(self, df, lhs, rhs):\n",
    "\n",
    "        y = df['target']\n",
    "\n",
    "        lhs_std = y.iloc[lhs.index].std()\n",
    "        rhs_std = y.iloc[rhs.index].std()\n",
    "\n",
    "        if(np.isnan(lhs_std)):\n",
    "            lhs_std = 0\n",
    "        if(np.isnan(rhs_std)):\n",
    "            rhs_std = 0\n",
    "\n",
    "        return lhs_std * lhs.sum() + rhs_std * rhs.sum()\n",
    "\n",
    "    def _predict_target(self, feature_lookup, x, tree):\n",
    "\n",
    "        for node in tree.keys():\n",
    "            val = x[node]\n",
    "            if type(val) == str:\n",
    "                tree = tree[node][val]\n",
    "            else:\n",
    "                cutoff = str(list(tree[node].keys())[0]).split('<=')[1]\n",
    "\n",
    "                if(val <= float(cutoff)):   #Left Child\n",
    "                    tree = tree[node]['<='+cutoff]\n",
    "                else:                       #Right Child\n",
    "                    tree = tree[node]['>'+cutoff]\n",
    "\n",
    "            prediction = str\n",
    "\n",
    "            if type(tree) is dict:\n",
    "                prediction = self._predict_target(feature_lookup, x, tree)\n",
    "            else:\n",
    "                predicton = tree \n",
    "                return predicton\n",
    "\n",
    "        return prediction   \n",
    "\n",
    "\n",
    "    def predict(self, X):\n",
    "\n",
    "        results= []\n",
    "        feature_lookup = {key: i for i, key in enumerate(list(X.columns))}\n",
    "\n",
    "        for index in range(len(X)):\n",
    "\n",
    "            results.append(self._predict_target(feature_lookup, X.iloc[index], self.tree))\n",
    "\n",
    "        return np.array(results)\n",
    "    \n",
    "        \n"
   ]
  },
  {
   "cell_type": "code",
   "execution_count": 54,
   "id": "d40aa91d",
   "metadata": {},
   "outputs": [
    {
     "name": "stdout",
     "output_type": "stream",
     "text": [
      "\n",
      "Decision Tree(depth = 86) : \n",
      " {'Height': {'<=9.396': {'Height': {'<=5.082': {'Height': {'<=2.43': {'Height': {'<=1.972': 1.1186666666666667, '>1.972': {'Height': {'<=2.196': {'Height': {'<=2.0832': 1.2812, '>2.0832': 1.3938666666666666}}, '>2.196': {'Height': {'<=2.2044': 1.1484, '>2.2044': {'Height': {'<=2.277': 1.2351666666666665, '>2.277': 1.269}}}}}}}}, '>2.43': {'Height': {'<=4.1472': {'Height': {'<=3.528': 1.9818666666666667, '>3.528': 2.3499999999999996}}, '>4.1472': 2.7817000000000003}}}}, '>5.082': {'Height': {'<=6.9153': {'Height': {'<=5.6358': {'Height': {'<=5.568': {'Height': {'<=5.1992': 3.0801, '>5.1992': {'Height': {'<=5.2185': 3.626, '>5.2185': {'Height': {'<=5.2983': 3.07165, '>5.2983': 3.6853}}}}}}, '>5.568': 3.0430666666666664}}, '>5.6358': {'Height': {'<=6.561': {'Height': {'<=6.55': {'Height': {'<=6.4395': {'Height': {'<=6.216': {'Height': {'<=5.9532': {'Height': {'<=5.6925': 3.5825, '>5.6925': {'Height': {'<=5.7078': 4.158, '>5.7078': {'Height': {'<=5.9175': {'Height': {'<=5.875': 3.6344666666666665, '>5.875': 3.3075}}, '>5.9175': 4.0072}}}}}}, '>5.9532': {'Height': {'<=6.1677': {'Height': {'<=6.11': 3.46625, '>6.11': 3.3449999999999998}}, '>6.1677': 3.5742}}}}, '>6.216': {'Height': {'<=6.4': {'Height': {'<=6.275': 3.725, '>6.275': {'Height': {'<=6.2884': 4.0198, '>6.2884': {'Height': {'<=6.384': 3.6795, '>6.384': 3.8884999999999996}}}}}}, '>6.4': 3.6835}}}}, '>6.4395': 3.3383000000000003}}, '>6.55': 4.239}}, '>6.561': {'Height': {'<=6.5772': 2.3142, '>6.5772': {'Height': {'<=6.825': {'Height': {'<=6.792': 3.7792, '>6.792': 4.459}}, '>6.825': 2.97885}}}}}}}}, '>6.9153': {'Height': {'<=8.9262': {'Height': {'<=8.8928': {'Height': {'<=8.8768': {'Height': {'<=8.5376': {'Height': {'<=8.3804': {'Height': {'<=7.5344': {'Height': {'<=7.3968': {'Height': {'<=6.96': 4.896, '>6.96': {'Height': {'<=7.0334': 3.8203, '>7.0334': {'Height': {'<=7.29': {'Height': {'<=7.28': {'Height': {'<=7.0516': 4.335, '>7.0516': {'Height': {'<=7.0866': 3.906, '>7.0866': 4.267166666666666}}}}, '>7.28': 4.571350000000001}}, '>7.29': 3.9251}}}}}}, '>7.3968': 3.2541}}, '>7.5344': {'Height': {'<=7.792': {'Height': {'<=7.6156': 4.7035, '>7.6156': 5.1252}}, '>7.792': {'Height': {'<=8.1454': 4.22635, '>8.1454': 4.69245}}}}}}, '>8.3804': 3.10625}}, '>8.5376': 4.650666666666667}}, '>8.8768': 3.2928}}, '>8.8928': 6.1712}}, '>8.9262': 3.4104}}}}}}, '>9.396': {'Height': {'<=12.8002': {'Height': {'<=10.3458': {'Length1': {'<=21.2': 3.41035, '>21.2': {'Height': {'<=9.485': 5.355, '>9.485': {'Height': {'<=10.03': 6.101999999999999, '>10.03': 6.3875}}}}}}, '>10.3458': {'Height': {'<=10.881': {'Height': {'<=10.5717': 6.3666, '>10.5717': {'Height': {'<=10.835': {'Height': {'<=10.812': {'Height': {'<=10.744': 6.762566666666667, '>10.744': 7.48}}, '>10.812': 6.2646}}, '>10.835': 6.864}}}}, '>10.881': {'Height': {'<=11.088': 4.144, '>11.088': {'Height': {'<=12.73': {'Height': {'<=12.604': {'Height': {'<=12.48': {'Height': {'<=12.4313': {'Height': {'<=12.3778': {'Height': {'<=12.354': {'Height': {'<=11.52': {'Height': {'<=11.4884': {'Height': {'<=11.368': {'Height': {'<=11.1366': 6.7088, '>11.1366': 4.234}}, '>11.368': 7.7957}}, '>11.4884': 4.02}}, '>11.52': {'Height': {'<=11.9328': {'Length1': {'<=33.7': 6.5736, '>33.7': 7.202866666666666}}, '>11.9328': 6.525}}}}, '>12.354': 4.6961}}, '>12.3778': 7.4069}}, '>12.4313': 4.7198}}, '>12.48': 7.7181}}, '>12.604': 4.57275}}, '>12.73': 6.8684}}}}}}}}, '>12.8002': {'Height': {'<=16.2405': {'Height': {'<=14.3714': {'Height': {'<=13.7592': 4.6477, '>13.7592': {'Height': {'<=14.2628': {'Height': {'<=14.2266': {'Height': {'<=14.1795': 5.065033333333333, '>14.1795': 4.9594}}, '>14.2266': 5.1042}}, '>14.2628': 4.8146}}}}, '>14.3714': {'Height': {'<=14.4738': 5.7276, '>14.4738': {'Height': {'<=14.9544': 5.217899999999999, '>14.9544': {'Height': {'<=15.4686': 5.760033333333333, '>15.4686': {'Height': {'<=15.9936': 5.261433333333334, '>15.9936': 5.589}}}}}}}}}}, '>16.2405': {'Height': {'<=18.084': {'Height': {'<=16.517': 5.998233333333334, '>16.517': {'Height': {'<=16.8896': 6.1984, '>16.8896': 6.322933333333334}}}}, '>18.084': 6.699999999999999}}}}}}}}\n",
      "\n",
      "Train RMSE : 0.19207281475298252\n",
      "\n",
      "Test RMSE: 0.1954400209214525\n"
     ]
    }
   ],
   "source": [
    "\n",
    "if __name__ == '__main__':\n",
    "\n",
    "\n",
    "    #Split Features and target\n",
    "    X, y = data.drop([data.columns[0], data.columns[-1]], axis = 1), data[data.columns[-1]]\n",
    "\n",
    "    #Split data into Training and Testing Sets\n",
    "    X_train, X_test, y_train, y_test = train_test_split(X, y, test_size = 0.25, random_state = 0)\n",
    "\n",
    "    dt_reg = ID3DecisionTreeRegressor()\n",
    "    dt_reg.fit(X, y)\n",
    "    \n",
    "    print(\"\\nTrain RMSE : {}\".format(rmse_score(y_train, dt_reg.predict(X_train))))\n",
    "    print(\"\\nTest RMSE: {}\".format(rmse_score(y_test, dt_reg.predict(X_test))))\n",
    "\n",
    "\n",
    "    #dt_reg = ID3DecisionTreeRegressor(max_depth = 150)\n",
    "    #dt_reg.fit(X, y)\n",
    "    \n",
    "    #print(\"\\nTrain RMSE : {}\".format(rmse_score(y_train, dt_reg.predict(X_train))))\n",
    "    #print(\"\\nTest RMSE: {}\".format(rmse_score(y_test, dt_reg.predict(X_test))))"
   ]
  },
  {
   "cell_type": "markdown",
   "id": "673a0106",
   "metadata": {},
   "source": [
    "#### Still here its correct raa,   next i need to hyper parameter tuning from scratch"
   ]
  },
  {
   "cell_type": "code",
   "execution_count": 57,
   "id": "796719fd",
   "metadata": {},
   "outputs": [],
   "source": [
    "import itertools\n",
    "import numpy as np\n",
    "\n",
    "class GridSearchCV:\n",
    "    def __init__(self, estimator, param_grid, cv=5):\n",
    "        self.estimator = estimator\n",
    "        self.param_grid = param_grid\n",
    "        self.cv = cv\n",
    "\n",
    "    def fit(self, data, labels):\n",
    "        combinations = list(itertools.product(*self.param_grid.values()))\n",
    "        results = []\n",
    "        for combination in combinations:\n",
    "            params = dict(zip(self.param_grid.keys(), combination))\n",
    "            estimator = self.estimator(**params)\n",
    "            scores = self._cross_val_score(estimator, data, labels)\n",
    "            results.append((scores.mean(), params))\n",
    "\n",
    "        self.best_params = max(results, key=lambda x: x[0])[1]\n",
    "        self.best_estimator = self.estimator(**self.best_params)\n",
    "        self.best_estimator.fit(data, labels)\n",
    "\n",
    "    def _cross_val_score(self, estimator, data, labels):\n",
    "        n_samples = len(data)\n",
    "        indices = np.arange(n_samples)\n",
    "        np.random.shuffle(indices)\n",
    "        fold_sizes = np.full(self.cv, n_samples // self.cv, dtype=np.int)\n",
    "        fold_sizes[:n_samples % self.cv] += 1\n",
    "        current = 0\n",
    "        scores = []\n",
    "        for fold_size in fold_sizes:\n",
    "            start, stop = current, current + fold_size\n",
    "            test_indices = indices[start:stop]\n",
    "            train_indices = np.concatenate((indices[:start], indices[stop:]))\n",
    "            train_data, train_labels = data[train_indices], labels[train_indices]\n",
    "            test_data, test_labels = data[test_indices], labels[test_indices]\n",
    "            estimator.fit(train_data, train_labels)\n",
    "            predictions = estimator.predict(test_data)\n",
    "            score = self._score(predictions, test_labels)\n",
    "            scores.append(score)\n",
    "            current = stop\n",
    "        return np.array(scores)\n",
    "\n",
    "    def _score(self, predictions, labels):\n",
    "        return -np.mean((predictions - labels) ** 2)\n"
   ]
  },
  {
   "cell_type": "code",
   "execution_count": 59,
   "id": "b4e69871",
   "metadata": {},
   "outputs": [
    {
     "ename": "TypeError",
     "evalue": "__init__() got an unexpected keyword argument 'min_samples_split'",
     "output_type": "error",
     "traceback": [
      "\u001b[1;31m---------------------------------------------------------------------------\u001b[0m",
      "\u001b[1;31mTypeError\u001b[0m                                 Traceback (most recent call last)",
      "\u001b[1;32m<ipython-input-59-88ef75f5d9ae>\u001b[0m in \u001b[0;36m<module>\u001b[1;34m\u001b[0m\n\u001b[0;32m      7\u001b[0m }\n\u001b[0;32m      8\u001b[0m \u001b[0mgrid_search\u001b[0m \u001b[1;33m=\u001b[0m \u001b[0mGridSearchCV\u001b[0m\u001b[1;33m(\u001b[0m\u001b[0mID3DecisionTreeRegressor\u001b[0m\u001b[1;33m,\u001b[0m \u001b[0mparam_grid\u001b[0m\u001b[1;33m)\u001b[0m\u001b[1;33m\u001b[0m\u001b[1;33m\u001b[0m\u001b[0m\n\u001b[1;32m----> 9\u001b[1;33m \u001b[0mgrid_search\u001b[0m\u001b[1;33m.\u001b[0m\u001b[0mfit\u001b[0m\u001b[1;33m(\u001b[0m\u001b[0mX\u001b[0m\u001b[1;33m,\u001b[0m \u001b[0my\u001b[0m\u001b[1;33m)\u001b[0m\u001b[1;33m\u001b[0m\u001b[1;33m\u001b[0m\u001b[0m\n\u001b[0m\u001b[0;32m     10\u001b[0m \u001b[0mprint\u001b[0m\u001b[1;33m(\u001b[0m\u001b[1;34m\"Best parameters:\"\u001b[0m\u001b[1;33m,\u001b[0m \u001b[0mgrid_search\u001b[0m\u001b[1;33m.\u001b[0m\u001b[0mbest_params_\u001b[0m\u001b[1;33m)\u001b[0m\u001b[1;33m\u001b[0m\u001b[1;33m\u001b[0m\u001b[0m\n\u001b[0;32m     11\u001b[0m \u001b[0mprint\u001b[0m\u001b[1;33m(\u001b[0m\u001b[1;34m\"Best score:\"\u001b[0m\u001b[1;33m,\u001b[0m \u001b[0mgridaz_search\u001b[0m\u001b[1;33m.\u001b[0m\u001b[0mbest_score_\u001b[0m\u001b[1;33m)\u001b[0m\u001b[1;33m\u001b[0m\u001b[1;33m\u001b[0m\u001b[0m\n",
      "\u001b[1;32m<ipython-input-57-26567862a003>\u001b[0m in \u001b[0;36mfit\u001b[1;34m(self, data, labels)\u001b[0m\n\u001b[0;32m     13\u001b[0m         \u001b[1;32mfor\u001b[0m \u001b[0mcombination\u001b[0m \u001b[1;32min\u001b[0m \u001b[0mcombinations\u001b[0m\u001b[1;33m:\u001b[0m\u001b[1;33m\u001b[0m\u001b[1;33m\u001b[0m\u001b[0m\n\u001b[0;32m     14\u001b[0m             \u001b[0mparams\u001b[0m \u001b[1;33m=\u001b[0m \u001b[0mdict\u001b[0m\u001b[1;33m(\u001b[0m\u001b[0mzip\u001b[0m\u001b[1;33m(\u001b[0m\u001b[0mself\u001b[0m\u001b[1;33m.\u001b[0m\u001b[0mparam_grid\u001b[0m\u001b[1;33m.\u001b[0m\u001b[0mkeys\u001b[0m\u001b[1;33m(\u001b[0m\u001b[1;33m)\u001b[0m\u001b[1;33m,\u001b[0m \u001b[0mcombination\u001b[0m\u001b[1;33m)\u001b[0m\u001b[1;33m)\u001b[0m\u001b[1;33m\u001b[0m\u001b[1;33m\u001b[0m\u001b[0m\n\u001b[1;32m---> 15\u001b[1;33m             \u001b[0mestimator\u001b[0m \u001b[1;33m=\u001b[0m \u001b[0mself\u001b[0m\u001b[1;33m.\u001b[0m\u001b[0mestimator\u001b[0m\u001b[1;33m(\u001b[0m\u001b[1;33m**\u001b[0m\u001b[0mparams\u001b[0m\u001b[1;33m)\u001b[0m\u001b[1;33m\u001b[0m\u001b[1;33m\u001b[0m\u001b[0m\n\u001b[0m\u001b[0;32m     16\u001b[0m             \u001b[0mscores\u001b[0m \u001b[1;33m=\u001b[0m \u001b[0mself\u001b[0m\u001b[1;33m.\u001b[0m\u001b[0m_cross_val_score\u001b[0m\u001b[1;33m(\u001b[0m\u001b[0mestimator\u001b[0m\u001b[1;33m,\u001b[0m \u001b[0mdata\u001b[0m\u001b[1;33m,\u001b[0m \u001b[0mlabels\u001b[0m\u001b[1;33m)\u001b[0m\u001b[1;33m\u001b[0m\u001b[1;33m\u001b[0m\u001b[0m\n\u001b[0;32m     17\u001b[0m             \u001b[0mresults\u001b[0m\u001b[1;33m.\u001b[0m\u001b[0mappend\u001b[0m\u001b[1;33m(\u001b[0m\u001b[1;33m(\u001b[0m\u001b[0mscores\u001b[0m\u001b[1;33m.\u001b[0m\u001b[0mmean\u001b[0m\u001b[1;33m(\u001b[0m\u001b[1;33m)\u001b[0m\u001b[1;33m,\u001b[0m \u001b[0mparams\u001b[0m\u001b[1;33m)\u001b[0m\u001b[1;33m)\u001b[0m\u001b[1;33m\u001b[0m\u001b[1;33m\u001b[0m\u001b[0m\n",
      "\u001b[1;31mTypeError\u001b[0m: __init__() got an unexpected keyword argument 'min_samples_split'"
     ]
    }
   ],
   "source": [
    "# hyperparameter tuning\n",
    "param_grid = {\n",
    "    'max_depth': [None, 5, 10],\n",
    "    'min_samples_split': [2, 5, 10],\n",
    "    'min_samples_leaf': [1, 2, 4],\n",
    "    'standard_deviation_reduction': [True, False]\n",
    "}\n",
    "grid_search = GridSearchCV(ID3DecisionTreeRegressor, param_grid)\n",
    "grid_search.fit(X, y)\n",
    "print(\"Best parameters:\", grid_search.best_params_)\n",
    "print(\"Best score:\", gridaz_search.best_score_)\n"
   ]
  },
  {
   "cell_type": "code",
   "execution_count": null,
   "id": "77896d49",
   "metadata": {},
   "outputs": [],
   "source": []
  }
 ],
 "metadata": {
  "kernelspec": {
   "display_name": "Python 3 (ipykernel)",
   "language": "python",
   "name": "python3"
  },
  "language_info": {
   "codemirror_mode": {
    "name": "ipython",
    "version": 3
   },
   "file_extension": ".py",
   "mimetype": "text/x-python",
   "name": "python",
   "nbconvert_exporter": "python",
   "pygments_lexer": "ipython3",
   "version": "3.9.13"
  }
 },
 "nbformat": 4,
 "nbformat_minor": 5
}
