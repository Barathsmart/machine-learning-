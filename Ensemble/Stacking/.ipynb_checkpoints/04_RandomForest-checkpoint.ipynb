{
 "cells": [
  {
   "cell_type": "markdown",
   "metadata": {
    "id": "zZCqbIRvwwRZ",
    "toc": true
   },
   "source": [
    "<h1>Table of Contents<span class=\"tocSkip\"></span></h1>\n",
    "<div class=\"toc\"><ul class=\"toc-item\"><li><span><a href=\"#Problem\" data-toc-modified-id=\"Problem-1\"><span class=\"toc-item-num\">1&nbsp;&nbsp;</span>Problem</a></span><ul class=\"toc-item\"><li><span><a href=\"#What-is-a-Backorder?\" data-toc-modified-id=\"What-is-a-Backorder?-1.1\"><span class=\"toc-item-num\">1.1&nbsp;&nbsp;</span>What is a Backorder?</a></span></li><li><span><a href=\"#Data-description\" data-toc-modified-id=\"Data-description-1.2\"><span class=\"toc-item-num\">1.2&nbsp;&nbsp;</span>Data description</a></span></li></ul></li><li><span><a href=\"#Loading-the-required-libraries\" data-toc-modified-id=\"Loading-the-required-libraries-2\"><span class=\"toc-item-num\">2&nbsp;&nbsp;</span>Loading the required libraries</a></span></li><li><span><a href=\"#Identify-Right-Error-Metrics\" data-toc-modified-id=\"Identify-Right-Error-Metrics-3\"><span class=\"toc-item-num\">3&nbsp;&nbsp;</span>Identify Right Error Metrics</a></span><ul class=\"toc-item\"><li><span><a href=\"#Confusion-Matrix\" data-toc-modified-id=\"Confusion-Matrix-3.1\"><span class=\"toc-item-num\">3.1&nbsp;&nbsp;</span>Confusion Matrix</a></span></li><li><span><a href=\"#Function-to-calculate-required-metrics\" data-toc-modified-id=\"Function-to-calculate-required-metrics-3.2\"><span class=\"toc-item-num\">3.2&nbsp;&nbsp;</span>Function to calculate required metrics</a></span></li></ul></li><li><span><a href=\"#Loading-the-data\" data-toc-modified-id=\"Loading-the-data-4\"><span class=\"toc-item-num\">4&nbsp;&nbsp;</span>Loading the data</a></span></li><li><span><a href=\"#Understand-the-Data---Exploratory-Data-Analysis-(EDA)\" data-toc-modified-id=\"Understand-the-Data---Exploratory-Data-Analysis-(EDA)-5\"><span class=\"toc-item-num\">5&nbsp;&nbsp;</span>Understand the Data - Exploratory Data Analysis (EDA)</a></span><ul class=\"toc-item\"><li><span><a href=\"#Number-row-and-columns\" data-toc-modified-id=\"Number-row-and-columns-5.1\"><span class=\"toc-item-num\">5.1&nbsp;&nbsp;</span>Number row and columns</a></span></li><li><span><a href=\"#First-and-last-5-rows\" data-toc-modified-id=\"First-and-last-5-rows-5.2\"><span class=\"toc-item-num\">5.2&nbsp;&nbsp;</span>First and last 5 rows</a></span></li><li><span><a href=\"#Statistic-summary\" data-toc-modified-id=\"Statistic-summary-5.3\"><span class=\"toc-item-num\">5.3&nbsp;&nbsp;</span>Statistic summary</a></span></li><li><span><a href=\"#Data-type\" data-toc-modified-id=\"Data-type-5.4\"><span class=\"toc-item-num\">5.4&nbsp;&nbsp;</span>Data type</a></span></li></ul></li><li><span><a href=\"#Data-pre-processing\" data-toc-modified-id=\"Data-pre-processing-6\"><span class=\"toc-item-num\">6&nbsp;&nbsp;</span>Data pre-processing</a></span><ul class=\"toc-item\"><li><span><a href=\"#Convert-all-the-attributes-to-appropriate-type\" data-toc-modified-id=\"Convert-all-the-attributes-to-appropriate-type-6.1\"><span class=\"toc-item-num\">6.1&nbsp;&nbsp;</span>Convert all the attributes to appropriate type</a></span><ul class=\"toc-item\"><li><span><a href=\"#Re-display-data-type-of-each-variable\" data-toc-modified-id=\"Re-display-data-type-of-each-variable-6.1.1\"><span class=\"toc-item-num\">6.1.1&nbsp;&nbsp;</span>Re-display data type of each variable</a></span></li><li><span><a href=\"#Statistic-summary\" data-toc-modified-id=\"Statistic-summary-6.1.2\"><span class=\"toc-item-num\">6.1.2&nbsp;&nbsp;</span>Statistic summary</a></span></li></ul></li><li><span><a href=\"#Delete-sku-attribute\" data-toc-modified-id=\"Delete-sku-attribute-6.2\"><span class=\"toc-item-num\">6.2&nbsp;&nbsp;</span>Delete sku attribute</a></span></li><li><span><a href=\"#Missing-Data\" data-toc-modified-id=\"Missing-Data-6.3\"><span class=\"toc-item-num\">6.3&nbsp;&nbsp;</span>Missing Data</a></span></li><li><span><a href=\"#Train-and-test-split\" data-toc-modified-id=\"Train-and-test-split-6.4\"><span class=\"toc-item-num\">6.4&nbsp;&nbsp;</span>Train and test split</a></span><ul class=\"toc-item\"><li><span><a href=\"#Target-attribute-distribution\" data-toc-modified-id=\"Target-attribute-distribution-6.4.1\"><span class=\"toc-item-num\">6.4.1&nbsp;&nbsp;</span>Target attribute distribution</a></span></li><li><span><a href=\"#Split-the-data-into-train-and-test\" data-toc-modified-id=\"Split-the-data-into-train-and-test-6.4.2\"><span class=\"toc-item-num\">6.4.2&nbsp;&nbsp;</span>Split the data into train and test</a></span></li><li><span><a href=\"#Target-attribute-distribution-after-the-split\" data-toc-modified-id=\"Target-attribute-distribution-after-the-split-6.4.3\"><span class=\"toc-item-num\">6.4.3&nbsp;&nbsp;</span>Target attribute distribution after the split</a></span></li></ul></li><li><span><a href=\"#Convert-categorical-target-attribute-to-numeric\" data-toc-modified-id=\"Convert-categorical-target-attribute-to-numeric-6.5\"><span class=\"toc-item-num\">6.5&nbsp;&nbsp;</span>Convert categorical target attribute to numeric</a></span><ul class=\"toc-item\"><li><span><a href=\"#Target-attribute-distribution\" data-toc-modified-id=\"Target-attribute-distribution-6.5.1\"><span class=\"toc-item-num\">6.5.1&nbsp;&nbsp;</span>Target attribute distribution</a></span></li></ul></li><li><span><a href=\"#Checking-the-data-types\" data-toc-modified-id=\"Checking-the-data-types-6.6\"><span class=\"toc-item-num\">6.6&nbsp;&nbsp;</span>Checking the data types</a></span></li><li><span><a href=\"#Standardize-the-numerical-attributes\" data-toc-modified-id=\"Standardize-the-numerical-attributes-6.7\"><span class=\"toc-item-num\">6.7&nbsp;&nbsp;</span>Standardize the numerical attributes</a></span><ul class=\"toc-item\"><li><span><a href=\"#Store-numerical-attributes-name\" data-toc-modified-id=\"Store-numerical-attributes-name-6.7.1\"><span class=\"toc-item-num\">6.7.1&nbsp;&nbsp;</span>Store numerical attributes name</a></span></li><li><span><a href=\"#Using-StandardScaler,-standardize-the-numerical-attributes\" data-toc-modified-id=\"Using-StandardScaler,-standardize-the-numerical-attributes-6.7.2\"><span class=\"toc-item-num\">6.7.2&nbsp;&nbsp;</span>Using StandardScaler, standardize the numerical attributes</a></span></li></ul></li><li><span><a href=\"#Converting-Categorical-attributes-to-Numeric-attributes\" data-toc-modified-id=\"Converting-Categorical-attributes-to-Numeric-attributes-6.8\"><span class=\"toc-item-num\">6.8&nbsp;&nbsp;</span>Converting Categorical attributes to Numeric attributes</a></span><ul class=\"toc-item\"><li><span><a href=\"#Store-categorical-attributes-name\" data-toc-modified-id=\"Store-categorical-attributes-name-6.8.1\"><span class=\"toc-item-num\">6.8.1&nbsp;&nbsp;</span>Store categorical attributes name</a></span></li><li><span><a href=\"#Using-OneHotEncoder,--converting-Categorical-attributes-to-Numeric-attributes\" data-toc-modified-id=\"Using-OneHotEncoder,--converting-Categorical-attributes-to-Numeric-attributes-6.8.2\"><span class=\"toc-item-num\">6.8.2&nbsp;&nbsp;</span>Using OneHotEncoder,  converting Categorical attributes to Numeric attributes</a></span></li></ul></li><li><span><a href=\"#Concatenate-attribute\" data-toc-modified-id=\"Concatenate-attribute-6.9\"><span class=\"toc-item-num\">6.9&nbsp;&nbsp;</span>Concatenate attribute</a></span></li></ul></li><li><span><a href=\"#Model-building\" data-toc-modified-id=\"Model-building-7\"><span class=\"toc-item-num\">7&nbsp;&nbsp;</span>Model building</a></span><ul class=\"toc-item\"><li><span><a href=\"#RandomForestClassifier-Model\" data-toc-modified-id=\"RandomForestClassifier-Model-7.1\"><span class=\"toc-item-num\">7.1&nbsp;&nbsp;</span>RandomForestClassifier Model</a></span><ul class=\"toc-item\"><li><span><a href=\"#Instantiate-Model\" data-toc-modified-id=\"Instantiate-Model-7.1.1\"><span class=\"toc-item-num\">7.1.1&nbsp;&nbsp;</span>Instantiate Model</a></span></li><li><span><a href=\"#Train-Model\" data-toc-modified-id=\"Train-Model-7.1.2\"><span class=\"toc-item-num\">7.1.2&nbsp;&nbsp;</span>Train Model</a></span></li><li><span><a href=\"#List-important-features\" data-toc-modified-id=\"List-important-features-7.1.3\"><span class=\"toc-item-num\">7.1.3&nbsp;&nbsp;</span>List important features</a></span></li><li><span><a href=\"#Predict\" data-toc-modified-id=\"Predict-7.1.4\"><span class=\"toc-item-num\">7.1.4&nbsp;&nbsp;</span>Predict</a></span></li><li><span><a href=\"#Evaluate\" data-toc-modified-id=\"Evaluate-7.1.5\"><span class=\"toc-item-num\">7.1.5&nbsp;&nbsp;</span>Evaluate</a></span></li></ul></li><li><span><a href=\"#Up-sampling\" data-toc-modified-id=\"Up-sampling-7.2\"><span class=\"toc-item-num\">7.2&nbsp;&nbsp;</span>Up-sampling</a></span><ul class=\"toc-item\"><li><span><a href=\"#Instantiate-SMOTE\" data-toc-modified-id=\"Instantiate-SMOTE-7.2.1\"><span class=\"toc-item-num\">7.2.1&nbsp;&nbsp;</span>Instantiate SMOTE</a></span></li><li><span><a href=\"#Fit-Sample\" data-toc-modified-id=\"Fit-Sample-7.2.2\"><span class=\"toc-item-num\">7.2.2&nbsp;&nbsp;</span>Fit Sample</a></span></li></ul></li><li><span><a href=\"#RandomForestClassifier-with-up-sample-data\" data-toc-modified-id=\"RandomForestClassifier-with-up-sample-data-7.3\"><span class=\"toc-item-num\">7.3&nbsp;&nbsp;</span>RandomForestClassifier with up-sample data</a></span><ul class=\"toc-item\"><li><span><a href=\"#Instantiate-Model\" data-toc-modified-id=\"Instantiate-Model-7.3.1\"><span class=\"toc-item-num\">7.3.1&nbsp;&nbsp;</span>Instantiate Model</a></span></li><li><span><a href=\"#Train-the-model\" data-toc-modified-id=\"Train-the-model-7.3.2\"><span class=\"toc-item-num\">7.3.2&nbsp;&nbsp;</span>Train the model</a></span></li><li><span><a href=\"#List-important-features\" data-toc-modified-id=\"List-important-features-7.3.3\"><span class=\"toc-item-num\">7.3.3&nbsp;&nbsp;</span>List important features</a></span></li><li><span><a href=\"#Predict\" data-toc-modified-id=\"Predict-7.3.4\"><span class=\"toc-item-num\">7.3.4&nbsp;&nbsp;</span>Predict</a></span></li><li><span><a href=\"#Evaluate\" data-toc-modified-id=\"Evaluate-7.3.5\"><span class=\"toc-item-num\">7.3.5&nbsp;&nbsp;</span>Evaluate</a></span></li></ul></li><li><span><a href=\"#Hyper-parameter-tuning-using-Grid-Search-and-Cross-Validation\" data-toc-modified-id=\"Hyper-parameter-tuning-using-Grid-Search-and-Cross-Validation-7.4\"><span class=\"toc-item-num\">7.4&nbsp;&nbsp;</span>Hyper-parameter tuning using Grid Search and Cross Validation</a></span><ul class=\"toc-item\"><li><span><a href=\"#Parameters-to-test\" data-toc-modified-id=\"Parameters-to-test-7.4.1\"><span class=\"toc-item-num\">7.4.1&nbsp;&nbsp;</span>Parameters to test</a></span></li><li><span><a href=\"#Instantiate-Decision-Tree\" data-toc-modified-id=\"Instantiate-Decision-Tree-7.4.2\"><span class=\"toc-item-num\">7.4.2&nbsp;&nbsp;</span>Instantiate Decision Tree</a></span></li><li><span><a href=\"#Instantiate-GridSearchCV\" data-toc-modified-id=\"Instantiate-GridSearchCV-7.4.3\"><span class=\"toc-item-num\">7.4.3&nbsp;&nbsp;</span>Instantiate GridSearchCV</a></span></li><li><span><a href=\"#Train-DT-using-GridSearchCV\" data-toc-modified-id=\"Train-DT-using-GridSearchCV-7.4.4\"><span class=\"toc-item-num\">7.4.4&nbsp;&nbsp;</span>Train DT using GridSearchCV</a></span></li><li><span><a href=\"#Best-Params\" data-toc-modified-id=\"Best-Params-7.4.5\"><span class=\"toc-item-num\">7.4.5&nbsp;&nbsp;</span>Best Params</a></span></li><li><span><a href=\"#Predict\" data-toc-modified-id=\"Predict-7.4.6\"><span class=\"toc-item-num\">7.4.6&nbsp;&nbsp;</span>Predict</a></span></li><li><span><a href=\"#Evaluate\" data-toc-modified-id=\"Evaluate-7.4.7\"><span class=\"toc-item-num\">7.4.7&nbsp;&nbsp;</span>Evaluate</a></span></li></ul></li><li><span><a href=\"#Building-RandomForestClassifier-Model-using-Variable-Importance\" data-toc-modified-id=\"Building-RandomForestClassifier-Model-using-Variable-Importance-7.5\"><span class=\"toc-item-num\">7.5&nbsp;&nbsp;</span>Building RandomForestClassifier Model using Variable Importance</a></span><ul class=\"toc-item\"><li><span><a href=\"#Instantiate-Model\" data-toc-modified-id=\"Instantiate-Model-7.5.1\"><span class=\"toc-item-num\">7.5.1&nbsp;&nbsp;</span>Instantiate Model</a></span></li><li><span><a href=\"#Train-the-model\" data-toc-modified-id=\"Train-the-model-7.5.2\"><span class=\"toc-item-num\">7.5.2&nbsp;&nbsp;</span>Train the model</a></span></li><li><span><a href=\"#Predict\" data-toc-modified-id=\"Predict-7.5.3\"><span class=\"toc-item-num\">7.5.3&nbsp;&nbsp;</span>Predict</a></span></li><li><span><a href=\"#Evaluate\" data-toc-modified-id=\"Evaluate-7.5.4\"><span class=\"toc-item-num\">7.5.4&nbsp;&nbsp;</span>Evaluate</a></span></li></ul></li></ul></li></ul></div>"
   ]
  },
  {
   "cell_type": "markdown",
   "metadata": {
    "id": "dZxw7_hWwwR5"
   },
   "source": [
    "# Problem\n",
    "\n",
    "Is to identify products at risk of backorder before the event occurs so that business has time to react. "
   ]
  },
  {
   "cell_type": "code",
   "execution_count": null,
   "metadata": {},
   "outputs": [],
   "source": [
    "Data Requirement : Domain Expert"
   ]
  },
  {
   "cell_type": "code",
   "execution_count": null,
   "metadata": {},
   "outputs": [],
   "source": [
    "Data Engineering : Data collection "
   ]
  },
  {
   "cell_type": "code",
   "execution_count": null,
   "metadata": {},
   "outputs": [],
   "source": []
  },
  {
   "cell_type": "markdown",
   "metadata": {
    "id": "-HhFav59wwR7"
   },
   "source": [
    "## What is a Backorder?\n",
    "Backorders are products that are temporarily out of stock, but a customer is permitted to place an order against future inventory. \n",
    "A backorder generally indicates that customer demand for a product or service exceeds a company’s capacity to supply it. Back orders are both good and bad. Strong demand can drive back orders, but so can suboptimal planning. "
   ]
  },
  {
   "cell_type": "markdown",
   "metadata": {
    "id": "jdu8KTRcwwR8"
   },
   "source": [
    "## Data description\n",
    "\n",
    "Data file contains the historical data for the 8 weeks prior to the week we are trying to predict. The data was taken as weekly snapshots at the start of each week. Columns are defined as follows:\n",
    "\n",
    "    sku - Random ID for the product\n",
    "\n",
    "    national_inv - Current inventory level for the part\n",
    "\n",
    "    lead_time - Transit time for product (if available)\n",
    "\n",
    "    in_transit_qty - Amount of product in transit from source\n",
    "\n",
    "    forecast_3_month - Forecast sales for the next 3 months\n",
    "\n",
    "    forecast_6_month - Forecast sales for the next 6 months\n",
    "\n",
    "    forecast_9_month - Forecast sales for the next 9 months\n",
    "\n",
    "    sales_1_month - Sales quantity for the prior 1 month time period\n",
    "\n",
    "    sales_3_month - Sales quantity for the prior 3 month time period\n",
    "\n",
    "    sales_6_month - Sales quantity for the prior 6 month time period\n",
    "\n",
    "    sales_9_month - Sales quantity for the prior 9 month time period\n",
    "\n",
    "    min_bank - Minimum recommend amount to stock\n",
    "\n",
    "    potential_issue - Source issue for part identified\n",
    "\n",
    "    pieces_past_due - Parts overdue from source\n",
    "\n",
    "    perf_6_month_avg - Source performance for prior 6 month period\n",
    "\n",
    "    perf_12_month_avg - Source performance for prior 12 month period\n",
    "\n",
    "    local_bo_qty - Amount of stock orders overdue\n",
    "\n",
    "    deck_risk - Part risk flag\n",
    "\n",
    "    oe_constraint - Part risk flag\n",
    "\n",
    "    ppap_risk - Part risk flag\n",
    "\n",
    "    stop_auto_buy - Part risk flag\n",
    "\n",
    "    rev_stop - Part risk flag\n",
    "\n",
    "    went_on_backorder - Product actually went on backorder. This is the target value.\n",
    "    \n",
    "         Yes or 1 : Product backordered\n",
    "\n",
    "         No or 0  : Product not backordered"
   ]
  },
  {
   "cell_type": "markdown",
   "metadata": {
    "id": "tZ-cSoYVwwR-"
   },
   "source": [
    "# Loading the required libraries"
   ]
  },
  {
   "cell_type": "code",
   "execution_count": 2,
   "metadata": {
    "colab": {
     "base_uri": "https://localhost:8080/"
    },
    "id": "F-f4qrI3wwR_",
    "outputId": "d9550810-78cc-40aa-d924-607feeeb8500",
    "scrolled": true
   },
   "outputs": [],
   "source": [
    "import pandas as pd\n",
    "import numpy as np\n",
    "\n",
    "from sklearn.model_selection import train_test_split\n",
    "\n",
    "from sklearn.preprocessing import LabelEncoder, OneHotEncoder, StandardScaler\n",
    "\n",
    "from sklearn.ensemble import RandomForestClassifier\n",
    "\n",
    "from imblearn.over_sampling import SMOTE\n",
    "\n",
    "from sklearn.model_selection import GridSearchCV\n",
    "\n",
    "from sklearn.metrics import confusion_matrix, accuracy_score, recall_score, precision_score, roc_curve, auc\n",
    "\n",
    "import matplotlib.pyplot as plt"
   ]
  },
  {
   "cell_type": "markdown",
   "metadata": {
    "id": "ujIyaNGlwwSD"
   },
   "source": [
    "# Identify Right Error Metrics\n",
    "\n",
    "    Based on the business have to identify the right error metrics."
   ]
  },
  {
   "cell_type": "raw",
   "metadata": {},
   "source": [
    "went_on_backorder - Product actually went on backorder. This is the target value.\n",
    "\n",
    "     Yes or 1 : Product backordered\n",
    "\n",
    "     No or 0  : Product not backordered\n",
    "\n",
    "\n",
    "\n",
    "\n",
    "TP= Higher\n",
    "\n",
    "TN=  Higher\n",
    "\n",
    "FP = Model = Prediction = Product Backoredr\n",
    "             Actual= No Backordr\n",
    "     \n",
    "\n",
    "\n",
    "FN =     Prediction = Not Backordered\n",
    "         Actaul =  Backorderes\n",
    "\n",
    "R=TP/TP+FN\n",
    "\n",
    "\n",
    "P="
   ]
  },
  {
   "cell_type": "code",
   "execution_count": null,
   "metadata": {},
   "outputs": [],
   "source": []
  },
  {
   "cell_type": "code",
   "execution_count": null,
   "metadata": {},
   "outputs": [],
   "source": []
  },
  {
   "cell_type": "markdown",
   "metadata": {},
   "source": [
    "Accuracy Paradox= Imabalance dataset = do not select Accuracy as Metrics"
   ]
  },
  {
   "cell_type": "markdown",
   "metadata": {
    "id": "b3g8UIOfwwSE"
   },
   "source": [
    "## Function to calculate required metrics"
   ]
  },
  {
   "cell_type": "code",
   "execution_count": 4,
   "metadata": {
    "id": "cq_3eDnUwwSG"
   },
   "outputs": [],
   "source": [
    "def evaluate_model(act, pred):\n",
    "    print(\"Confusion Matrix \\n\", confusion_matrix(act, pred))\n",
    "    print(\"Accurcay : \", accuracy_score(act, pred))\n",
    "    print(\"Recall   : \", recall_score(act, pred))\n",
    "    print(\"Precision: \", precision_score(act, pred))    "
   ]
  },
  {
   "cell_type": "markdown",
   "metadata": {
    "id": "8LTwseRuwwSI"
   },
   "source": [
    "# Loading the data"
   ]
  },
  {
   "cell_type": "code",
   "execution_count": 5,
   "metadata": {
    "id": "MZqwN21OwwSJ"
   },
   "outputs": [],
   "source": [
    "data = pd.read_csv(\"BackOrders.csv\",skiprows=4,na_values=['$','#','Null'])"
   ]
  },
  {
   "cell_type": "markdown",
   "metadata": {
    "id": "sfy0TAWpwwSK"
   },
   "source": [
    "# Understand the Data - Exploratory Data Analysis (EDA)"
   ]
  },
  {
   "cell_type": "markdown",
   "metadata": {
    "id": "dvNzdeDkwwSL"
   },
   "source": [
    "## Number row and columns"
   ]
  },
  {
   "cell_type": "code",
   "execution_count": 6,
   "metadata": {
    "colab": {
     "base_uri": "https://localhost:8080/"
    },
    "id": "UkIjoi-ywwSM",
    "outputId": "a9b8f02a-62cf-430d-8df9-902cc3ea1296"
   },
   "outputs": [
    {
     "data": {
      "text/plain": [
       "(61594, 23)"
      ]
     },
     "execution_count": 6,
     "metadata": {},
     "output_type": "execute_result"
    }
   ],
   "source": [
    "data.shape"
   ]
  },
  {
   "cell_type": "markdown",
   "metadata": {
    "id": "E0u-2HAowwSN"
   },
   "source": [
    "## First and last 5 rows"
   ]
  },
  {
   "cell_type": "code",
   "execution_count": 7,
   "metadata": {
    "colab": {
     "base_uri": "https://localhost:8080/",
     "height": 224
    },
    "id": "4kQKzrgswwSO",
    "outputId": "a20d17a5-1138-4f42-b370-c33b254d002c"
   },
   "outputs": [
    {
     "data": {
      "text/html": [
       "<div>\n",
       "<style scoped>\n",
       "    .dataframe tbody tr th:only-of-type {\n",
       "        vertical-align: middle;\n",
       "    }\n",
       "\n",
       "    .dataframe tbody tr th {\n",
       "        vertical-align: top;\n",
       "    }\n",
       "\n",
       "    .dataframe thead th {\n",
       "        text-align: right;\n",
       "    }\n",
       "</style>\n",
       "<table border=\"1\" class=\"dataframe\">\n",
       "  <thead>\n",
       "    <tr style=\"text-align: right;\">\n",
       "      <th></th>\n",
       "      <th>sku</th>\n",
       "      <th>national_inv</th>\n",
       "      <th>lead_time</th>\n",
       "      <th>in_transit_qty</th>\n",
       "      <th>forecast_3_month</th>\n",
       "      <th>forecast_6_month</th>\n",
       "      <th>forecast_9_month</th>\n",
       "      <th>sales_1_month</th>\n",
       "      <th>sales_3_month</th>\n",
       "      <th>sales_6_month</th>\n",
       "      <th>...</th>\n",
       "      <th>pieces_past_due</th>\n",
       "      <th>perf_6_month_avg</th>\n",
       "      <th>perf_12_month_avg</th>\n",
       "      <th>local_bo_qty</th>\n",
       "      <th>deck_risk</th>\n",
       "      <th>oe_constraint</th>\n",
       "      <th>ppap_risk</th>\n",
       "      <th>stop_auto_buy</th>\n",
       "      <th>rev_stop</th>\n",
       "      <th>went_on_backorder</th>\n",
       "    </tr>\n",
       "  </thead>\n",
       "  <tbody>\n",
       "    <tr>\n",
       "      <th>0</th>\n",
       "      <td>1888279</td>\n",
       "      <td>NaN</td>\n",
       "      <td>NaN</td>\n",
       "      <td>0.0</td>\n",
       "      <td>0.0</td>\n",
       "      <td>0.0</td>\n",
       "      <td>0.0</td>\n",
       "      <td>0.0</td>\n",
       "      <td>0.0</td>\n",
       "      <td>15.0</td>\n",
       "      <td>...</td>\n",
       "      <td>0.0</td>\n",
       "      <td>-99.00</td>\n",
       "      <td>-99.00</td>\n",
       "      <td>0.0</td>\n",
       "      <td>No</td>\n",
       "      <td>No</td>\n",
       "      <td>Yes</td>\n",
       "      <td>Yes</td>\n",
       "      <td>No</td>\n",
       "      <td>No</td>\n",
       "    </tr>\n",
       "    <tr>\n",
       "      <th>1</th>\n",
       "      <td>1870557</td>\n",
       "      <td>7.0</td>\n",
       "      <td>2.0</td>\n",
       "      <td>0.0</td>\n",
       "      <td>0.0</td>\n",
       "      <td>0.0</td>\n",
       "      <td>0.0</td>\n",
       "      <td>0.0</td>\n",
       "      <td>0.0</td>\n",
       "      <td>0.0</td>\n",
       "      <td>...</td>\n",
       "      <td>0.0</td>\n",
       "      <td>0.50</td>\n",
       "      <td>0.28</td>\n",
       "      <td>0.0</td>\n",
       "      <td>Yes</td>\n",
       "      <td>No</td>\n",
       "      <td>No</td>\n",
       "      <td>Yes</td>\n",
       "      <td>No</td>\n",
       "      <td>No</td>\n",
       "    </tr>\n",
       "    <tr>\n",
       "      <th>2</th>\n",
       "      <td>1475481</td>\n",
       "      <td>258.0</td>\n",
       "      <td>15.0</td>\n",
       "      <td>10.0</td>\n",
       "      <td>10.0</td>\n",
       "      <td>77.0</td>\n",
       "      <td>184.0</td>\n",
       "      <td>46.0</td>\n",
       "      <td>132.0</td>\n",
       "      <td>256.0</td>\n",
       "      <td>...</td>\n",
       "      <td>0.0</td>\n",
       "      <td>0.54</td>\n",
       "      <td>0.70</td>\n",
       "      <td>0.0</td>\n",
       "      <td>No</td>\n",
       "      <td>No</td>\n",
       "      <td>No</td>\n",
       "      <td>Yes</td>\n",
       "      <td>No</td>\n",
       "      <td>No</td>\n",
       "    </tr>\n",
       "    <tr>\n",
       "      <th>3</th>\n",
       "      <td>1758220</td>\n",
       "      <td>46.0</td>\n",
       "      <td>2.0</td>\n",
       "      <td>0.0</td>\n",
       "      <td>0.0</td>\n",
       "      <td>0.0</td>\n",
       "      <td>0.0</td>\n",
       "      <td>1.0</td>\n",
       "      <td>2.0</td>\n",
       "      <td>6.0</td>\n",
       "      <td>...</td>\n",
       "      <td>0.0</td>\n",
       "      <td>0.75</td>\n",
       "      <td>0.90</td>\n",
       "      <td>0.0</td>\n",
       "      <td>Yes</td>\n",
       "      <td>No</td>\n",
       "      <td>No</td>\n",
       "      <td>Yes</td>\n",
       "      <td>No</td>\n",
       "      <td>No</td>\n",
       "    </tr>\n",
       "    <tr>\n",
       "      <th>4</th>\n",
       "      <td>1360312</td>\n",
       "      <td>2.0</td>\n",
       "      <td>2.0</td>\n",
       "      <td>0.0</td>\n",
       "      <td>4.0</td>\n",
       "      <td>6.0</td>\n",
       "      <td>10.0</td>\n",
       "      <td>2.0</td>\n",
       "      <td>2.0</td>\n",
       "      <td>5.0</td>\n",
       "      <td>...</td>\n",
       "      <td>0.0</td>\n",
       "      <td>0.97</td>\n",
       "      <td>0.92</td>\n",
       "      <td>0.0</td>\n",
       "      <td>No</td>\n",
       "      <td>No</td>\n",
       "      <td>No</td>\n",
       "      <td>Yes</td>\n",
       "      <td>No</td>\n",
       "      <td>No</td>\n",
       "    </tr>\n",
       "  </tbody>\n",
       "</table>\n",
       "<p>5 rows × 23 columns</p>\n",
       "</div>"
      ],
      "text/plain": [
       "       sku  national_inv  lead_time  in_transit_qty  forecast_3_month  \\\n",
       "0  1888279           NaN        NaN             0.0               0.0   \n",
       "1  1870557           7.0        2.0             0.0               0.0   \n",
       "2  1475481         258.0       15.0            10.0              10.0   \n",
       "3  1758220          46.0        2.0             0.0               0.0   \n",
       "4  1360312           2.0        2.0             0.0               4.0   \n",
       "\n",
       "   forecast_6_month  forecast_9_month  sales_1_month  sales_3_month  \\\n",
       "0               0.0               0.0            0.0            0.0   \n",
       "1               0.0               0.0            0.0            0.0   \n",
       "2              77.0             184.0           46.0          132.0   \n",
       "3               0.0               0.0            1.0            2.0   \n",
       "4               6.0              10.0            2.0            2.0   \n",
       "\n",
       "   sales_6_month  ...  pieces_past_due  perf_6_month_avg perf_12_month_avg  \\\n",
       "0           15.0  ...              0.0            -99.00            -99.00   \n",
       "1            0.0  ...              0.0              0.50              0.28   \n",
       "2          256.0  ...              0.0              0.54              0.70   \n",
       "3            6.0  ...              0.0              0.75              0.90   \n",
       "4            5.0  ...              0.0              0.97              0.92   \n",
       "\n",
       "   local_bo_qty  deck_risk  oe_constraint  ppap_risk stop_auto_buy rev_stop  \\\n",
       "0           0.0         No             No        Yes           Yes       No   \n",
       "1           0.0        Yes             No         No           Yes       No   \n",
       "2           0.0         No             No         No           Yes       No   \n",
       "3           0.0        Yes             No         No           Yes       No   \n",
       "4           0.0         No             No         No           Yes       No   \n",
       "\n",
       "  went_on_backorder  \n",
       "0                No  \n",
       "1                No  \n",
       "2                No  \n",
       "3                No  \n",
       "4                No  \n",
       "\n",
       "[5 rows x 23 columns]"
      ]
     },
     "execution_count": 7,
     "metadata": {},
     "output_type": "execute_result"
    }
   ],
   "source": [
    "data.head()"
   ]
  },
  {
   "cell_type": "code",
   "execution_count": 8,
   "metadata": {
    "colab": {
     "base_uri": "https://localhost:8080/",
     "height": 379
    },
    "id": "CXLdjUQdwwSP",
    "outputId": "e6e97212-4647-4d41-88c6-fed41dcef282"
   },
   "outputs": [
    {
     "data": {
      "text/html": [
       "<div>\n",
       "<style scoped>\n",
       "    .dataframe tbody tr th:only-of-type {\n",
       "        vertical-align: middle;\n",
       "    }\n",
       "\n",
       "    .dataframe tbody tr th {\n",
       "        vertical-align: top;\n",
       "    }\n",
       "\n",
       "    .dataframe thead th {\n",
       "        text-align: right;\n",
       "    }\n",
       "</style>\n",
       "<table border=\"1\" class=\"dataframe\">\n",
       "  <thead>\n",
       "    <tr style=\"text-align: right;\">\n",
       "      <th></th>\n",
       "      <th>sku</th>\n",
       "      <th>national_inv</th>\n",
       "      <th>lead_time</th>\n",
       "      <th>in_transit_qty</th>\n",
       "      <th>forecast_3_month</th>\n",
       "      <th>forecast_6_month</th>\n",
       "      <th>forecast_9_month</th>\n",
       "      <th>sales_1_month</th>\n",
       "      <th>sales_3_month</th>\n",
       "      <th>sales_6_month</th>\n",
       "      <th>...</th>\n",
       "      <th>pieces_past_due</th>\n",
       "      <th>perf_6_month_avg</th>\n",
       "      <th>perf_12_month_avg</th>\n",
       "      <th>local_bo_qty</th>\n",
       "      <th>deck_risk</th>\n",
       "      <th>oe_constraint</th>\n",
       "      <th>ppap_risk</th>\n",
       "      <th>stop_auto_buy</th>\n",
       "      <th>rev_stop</th>\n",
       "      <th>went_on_backorder</th>\n",
       "    </tr>\n",
       "  </thead>\n",
       "  <tbody>\n",
       "    <tr>\n",
       "      <th>61584</th>\n",
       "      <td>1397275</td>\n",
       "      <td>6.0</td>\n",
       "      <td>8.0</td>\n",
       "      <td>0.0</td>\n",
       "      <td>24.0</td>\n",
       "      <td>24.0</td>\n",
       "      <td>24.0</td>\n",
       "      <td>0.0</td>\n",
       "      <td>7.0</td>\n",
       "      <td>9.0</td>\n",
       "      <td>...</td>\n",
       "      <td>0.0</td>\n",
       "      <td>0.98</td>\n",
       "      <td>0.98</td>\n",
       "      <td>0.0</td>\n",
       "      <td>No</td>\n",
       "      <td>No</td>\n",
       "      <td>No</td>\n",
       "      <td>Yes</td>\n",
       "      <td>No</td>\n",
       "      <td>No</td>\n",
       "    </tr>\n",
       "    <tr>\n",
       "      <th>61585</th>\n",
       "      <td>3072139</td>\n",
       "      <td>130.0</td>\n",
       "      <td>2.0</td>\n",
       "      <td>0.0</td>\n",
       "      <td>40.0</td>\n",
       "      <td>80.0</td>\n",
       "      <td>140.0</td>\n",
       "      <td>18.0</td>\n",
       "      <td>108.0</td>\n",
       "      <td>230.0</td>\n",
       "      <td>...</td>\n",
       "      <td>0.0</td>\n",
       "      <td>0.51</td>\n",
       "      <td>0.28</td>\n",
       "      <td>0.0</td>\n",
       "      <td>No</td>\n",
       "      <td>No</td>\n",
       "      <td>No</td>\n",
       "      <td>Yes</td>\n",
       "      <td>No</td>\n",
       "      <td>No</td>\n",
       "    </tr>\n",
       "    <tr>\n",
       "      <th>61586</th>\n",
       "      <td>1909363</td>\n",
       "      <td>135.0</td>\n",
       "      <td>9.0</td>\n",
       "      <td>0.0</td>\n",
       "      <td>0.0</td>\n",
       "      <td>0.0</td>\n",
       "      <td>0.0</td>\n",
       "      <td>10.0</td>\n",
       "      <td>40.0</td>\n",
       "      <td>65.0</td>\n",
       "      <td>...</td>\n",
       "      <td>0.0</td>\n",
       "      <td>1.00</td>\n",
       "      <td>0.99</td>\n",
       "      <td>0.0</td>\n",
       "      <td>No</td>\n",
       "      <td>No</td>\n",
       "      <td>Yes</td>\n",
       "      <td>Yes</td>\n",
       "      <td>No</td>\n",
       "      <td>No</td>\n",
       "    </tr>\n",
       "    <tr>\n",
       "      <th>61587</th>\n",
       "      <td>1845783</td>\n",
       "      <td>63.0</td>\n",
       "      <td>NaN</td>\n",
       "      <td>0.0</td>\n",
       "      <td>0.0</td>\n",
       "      <td>0.0</td>\n",
       "      <td>0.0</td>\n",
       "      <td>452.0</td>\n",
       "      <td>1715.0</td>\n",
       "      <td>3425.0</td>\n",
       "      <td>...</td>\n",
       "      <td>0.0</td>\n",
       "      <td>-99.00</td>\n",
       "      <td>-99.00</td>\n",
       "      <td>1.0</td>\n",
       "      <td>No</td>\n",
       "      <td>No</td>\n",
       "      <td>No</td>\n",
       "      <td>No</td>\n",
       "      <td>No</td>\n",
       "      <td>Yes</td>\n",
       "    </tr>\n",
       "    <tr>\n",
       "      <th>61588</th>\n",
       "      <td>1200539</td>\n",
       "      <td>0.0</td>\n",
       "      <td>2.0</td>\n",
       "      <td>0.0</td>\n",
       "      <td>8.0</td>\n",
       "      <td>8.0</td>\n",
       "      <td>8.0</td>\n",
       "      <td>0.0</td>\n",
       "      <td>1.0</td>\n",
       "      <td>1.0</td>\n",
       "      <td>...</td>\n",
       "      <td>0.0</td>\n",
       "      <td>0.79</td>\n",
       "      <td>0.78</td>\n",
       "      <td>0.0</td>\n",
       "      <td>Yes</td>\n",
       "      <td>No</td>\n",
       "      <td>No</td>\n",
       "      <td>Yes</td>\n",
       "      <td>No</td>\n",
       "      <td>Yes</td>\n",
       "    </tr>\n",
       "    <tr>\n",
       "      <th>61589</th>\n",
       "      <td>1221200</td>\n",
       "      <td>NaN</td>\n",
       "      <td>NaN</td>\n",
       "      <td>NaN</td>\n",
       "      <td>NaN</td>\n",
       "      <td>NaN</td>\n",
       "      <td>NaN</td>\n",
       "      <td>NaN</td>\n",
       "      <td>NaN</td>\n",
       "      <td>NaN</td>\n",
       "      <td>...</td>\n",
       "      <td>NaN</td>\n",
       "      <td>NaN</td>\n",
       "      <td>NaN</td>\n",
       "      <td>NaN</td>\n",
       "      <td>NaN</td>\n",
       "      <td>NaN</td>\n",
       "      <td>NaN</td>\n",
       "      <td>NaN</td>\n",
       "      <td>NaN</td>\n",
       "      <td>NaN</td>\n",
       "    </tr>\n",
       "    <tr>\n",
       "      <th>61590</th>\n",
       "      <td>1221201</td>\n",
       "      <td>NaN</td>\n",
       "      <td>NaN</td>\n",
       "      <td>NaN</td>\n",
       "      <td>NaN</td>\n",
       "      <td>NaN</td>\n",
       "      <td>NaN</td>\n",
       "      <td>NaN</td>\n",
       "      <td>NaN</td>\n",
       "      <td>NaN</td>\n",
       "      <td>...</td>\n",
       "      <td>NaN</td>\n",
       "      <td>NaN</td>\n",
       "      <td>NaN</td>\n",
       "      <td>NaN</td>\n",
       "      <td>NaN</td>\n",
       "      <td>NaN</td>\n",
       "      <td>NaN</td>\n",
       "      <td>NaN</td>\n",
       "      <td>NaN</td>\n",
       "      <td>NaN</td>\n",
       "    </tr>\n",
       "    <tr>\n",
       "      <th>61591</th>\n",
       "      <td>1221209</td>\n",
       "      <td>NaN</td>\n",
       "      <td>NaN</td>\n",
       "      <td>NaN</td>\n",
       "      <td>NaN</td>\n",
       "      <td>NaN</td>\n",
       "      <td>NaN</td>\n",
       "      <td>NaN</td>\n",
       "      <td>NaN</td>\n",
       "      <td>NaN</td>\n",
       "      <td>...</td>\n",
       "      <td>NaN</td>\n",
       "      <td>NaN</td>\n",
       "      <td>NaN</td>\n",
       "      <td>NaN</td>\n",
       "      <td>NaN</td>\n",
       "      <td>NaN</td>\n",
       "      <td>NaN</td>\n",
       "      <td>NaN</td>\n",
       "      <td>NaN</td>\n",
       "      <td>NaN</td>\n",
       "    </tr>\n",
       "    <tr>\n",
       "      <th>61592</th>\n",
       "      <td>1220987</td>\n",
       "      <td>NaN</td>\n",
       "      <td>NaN</td>\n",
       "      <td>NaN</td>\n",
       "      <td>NaN</td>\n",
       "      <td>NaN</td>\n",
       "      <td>NaN</td>\n",
       "      <td>NaN</td>\n",
       "      <td>NaN</td>\n",
       "      <td>NaN</td>\n",
       "      <td>...</td>\n",
       "      <td>NaN</td>\n",
       "      <td>NaN</td>\n",
       "      <td>NaN</td>\n",
       "      <td>NaN</td>\n",
       "      <td>NaN</td>\n",
       "      <td>NaN</td>\n",
       "      <td>NaN</td>\n",
       "      <td>NaN</td>\n",
       "      <td>NaN</td>\n",
       "      <td>NaN</td>\n",
       "    </tr>\n",
       "    <tr>\n",
       "      <th>61593</th>\n",
       "      <td>1289323</td>\n",
       "      <td>NaN</td>\n",
       "      <td>NaN</td>\n",
       "      <td>NaN</td>\n",
       "      <td>NaN</td>\n",
       "      <td>NaN</td>\n",
       "      <td>NaN</td>\n",
       "      <td>NaN</td>\n",
       "      <td>NaN</td>\n",
       "      <td>NaN</td>\n",
       "      <td>...</td>\n",
       "      <td>NaN</td>\n",
       "      <td>NaN</td>\n",
       "      <td>NaN</td>\n",
       "      <td>NaN</td>\n",
       "      <td>NaN</td>\n",
       "      <td>NaN</td>\n",
       "      <td>NaN</td>\n",
       "      <td>NaN</td>\n",
       "      <td>NaN</td>\n",
       "      <td>NaN</td>\n",
       "    </tr>\n",
       "  </tbody>\n",
       "</table>\n",
       "<p>10 rows × 23 columns</p>\n",
       "</div>"
      ],
      "text/plain": [
       "           sku  national_inv  lead_time  in_transit_qty  forecast_3_month  \\\n",
       "61584  1397275           6.0        8.0             0.0              24.0   \n",
       "61585  3072139         130.0        2.0             0.0              40.0   \n",
       "61586  1909363         135.0        9.0             0.0               0.0   \n",
       "61587  1845783          63.0        NaN             0.0               0.0   \n",
       "61588  1200539           0.0        2.0             0.0               8.0   \n",
       "61589  1221200           NaN        NaN             NaN               NaN   \n",
       "61590  1221201           NaN        NaN             NaN               NaN   \n",
       "61591  1221209           NaN        NaN             NaN               NaN   \n",
       "61592  1220987           NaN        NaN             NaN               NaN   \n",
       "61593  1289323           NaN        NaN             NaN               NaN   \n",
       "\n",
       "       forecast_6_month  forecast_9_month  sales_1_month  sales_3_month  \\\n",
       "61584              24.0              24.0            0.0            7.0   \n",
       "61585              80.0             140.0           18.0          108.0   \n",
       "61586               0.0               0.0           10.0           40.0   \n",
       "61587               0.0               0.0          452.0         1715.0   \n",
       "61588               8.0               8.0            0.0            1.0   \n",
       "61589               NaN               NaN            NaN            NaN   \n",
       "61590               NaN               NaN            NaN            NaN   \n",
       "61591               NaN               NaN            NaN            NaN   \n",
       "61592               NaN               NaN            NaN            NaN   \n",
       "61593               NaN               NaN            NaN            NaN   \n",
       "\n",
       "       sales_6_month  ...  pieces_past_due  perf_6_month_avg  \\\n",
       "61584            9.0  ...              0.0              0.98   \n",
       "61585          230.0  ...              0.0              0.51   \n",
       "61586           65.0  ...              0.0              1.00   \n",
       "61587         3425.0  ...              0.0            -99.00   \n",
       "61588            1.0  ...              0.0              0.79   \n",
       "61589            NaN  ...              NaN               NaN   \n",
       "61590            NaN  ...              NaN               NaN   \n",
       "61591            NaN  ...              NaN               NaN   \n",
       "61592            NaN  ...              NaN               NaN   \n",
       "61593            NaN  ...              NaN               NaN   \n",
       "\n",
       "      perf_12_month_avg  local_bo_qty  deck_risk  oe_constraint  ppap_risk  \\\n",
       "61584              0.98           0.0         No             No         No   \n",
       "61585              0.28           0.0         No             No         No   \n",
       "61586              0.99           0.0         No             No        Yes   \n",
       "61587            -99.00           1.0         No             No         No   \n",
       "61588              0.78           0.0        Yes             No         No   \n",
       "61589               NaN           NaN        NaN            NaN        NaN   \n",
       "61590               NaN           NaN        NaN            NaN        NaN   \n",
       "61591               NaN           NaN        NaN            NaN        NaN   \n",
       "61592               NaN           NaN        NaN            NaN        NaN   \n",
       "61593               NaN           NaN        NaN            NaN        NaN   \n",
       "\n",
       "      stop_auto_buy rev_stop went_on_backorder  \n",
       "61584           Yes       No                No  \n",
       "61585           Yes       No                No  \n",
       "61586           Yes       No                No  \n",
       "61587            No       No               Yes  \n",
       "61588           Yes       No               Yes  \n",
       "61589           NaN      NaN               NaN  \n",
       "61590           NaN      NaN               NaN  \n",
       "61591           NaN      NaN               NaN  \n",
       "61592           NaN      NaN               NaN  \n",
       "61593           NaN      NaN               NaN  \n",
       "\n",
       "[10 rows x 23 columns]"
      ]
     },
     "execution_count": 8,
     "metadata": {},
     "output_type": "execute_result"
    }
   ],
   "source": [
    "data.tail(10)"
   ]
  },
  {
   "cell_type": "markdown",
   "metadata": {
    "id": "gj91q1VlwwSR"
   },
   "source": [
    "## Statistic summary \n",
    "    Using describe function"
   ]
  },
  {
   "cell_type": "code",
   "execution_count": 9,
   "metadata": {
    "colab": {
     "base_uri": "https://localhost:8080/",
     "height": 410
    },
    "id": "frwX9M7AwwSS",
    "outputId": "f5f31d39-f164-4f03-aa37-adc322c31f2e",
    "scrolled": true
   },
   "outputs": [
    {
     "data": {
      "text/html": [
       "<div>\n",
       "<style scoped>\n",
       "    .dataframe tbody tr th:only-of-type {\n",
       "        vertical-align: middle;\n",
       "    }\n",
       "\n",
       "    .dataframe tbody tr th {\n",
       "        vertical-align: top;\n",
       "    }\n",
       "\n",
       "    .dataframe thead th {\n",
       "        text-align: right;\n",
       "    }\n",
       "</style>\n",
       "<table border=\"1\" class=\"dataframe\">\n",
       "  <thead>\n",
       "    <tr style=\"text-align: right;\">\n",
       "      <th></th>\n",
       "      <th>sku</th>\n",
       "      <th>national_inv</th>\n",
       "      <th>lead_time</th>\n",
       "      <th>in_transit_qty</th>\n",
       "      <th>forecast_3_month</th>\n",
       "      <th>forecast_6_month</th>\n",
       "      <th>forecast_9_month</th>\n",
       "      <th>sales_1_month</th>\n",
       "      <th>sales_3_month</th>\n",
       "      <th>sales_6_month</th>\n",
       "      <th>...</th>\n",
       "      <th>pieces_past_due</th>\n",
       "      <th>perf_6_month_avg</th>\n",
       "      <th>perf_12_month_avg</th>\n",
       "      <th>local_bo_qty</th>\n",
       "      <th>deck_risk</th>\n",
       "      <th>oe_constraint</th>\n",
       "      <th>ppap_risk</th>\n",
       "      <th>stop_auto_buy</th>\n",
       "      <th>rev_stop</th>\n",
       "      <th>went_on_backorder</th>\n",
       "    </tr>\n",
       "  </thead>\n",
       "  <tbody>\n",
       "    <tr>\n",
       "      <th>count</th>\n",
       "      <td>6.159400e+04</td>\n",
       "      <td>61586.000000</td>\n",
       "      <td>58186.000000</td>\n",
       "      <td>61588.000000</td>\n",
       "      <td>6.158900e+04</td>\n",
       "      <td>6.158900e+04</td>\n",
       "      <td>6.158900e+04</td>\n",
       "      <td>61589.000000</td>\n",
       "      <td>61589.000000</td>\n",
       "      <td>6.158900e+04</td>\n",
       "      <td>...</td>\n",
       "      <td>61589.000000</td>\n",
       "      <td>61589.000000</td>\n",
       "      <td>61589.000000</td>\n",
       "      <td>61589.000000</td>\n",
       "      <td>61589</td>\n",
       "      <td>61589</td>\n",
       "      <td>61589</td>\n",
       "      <td>61589</td>\n",
       "      <td>61589</td>\n",
       "      <td>61589</td>\n",
       "    </tr>\n",
       "    <tr>\n",
       "      <th>unique</th>\n",
       "      <td>NaN</td>\n",
       "      <td>NaN</td>\n",
       "      <td>NaN</td>\n",
       "      <td>NaN</td>\n",
       "      <td>NaN</td>\n",
       "      <td>NaN</td>\n",
       "      <td>NaN</td>\n",
       "      <td>NaN</td>\n",
       "      <td>NaN</td>\n",
       "      <td>NaN</td>\n",
       "      <td>...</td>\n",
       "      <td>NaN</td>\n",
       "      <td>NaN</td>\n",
       "      <td>NaN</td>\n",
       "      <td>NaN</td>\n",
       "      <td>2</td>\n",
       "      <td>2</td>\n",
       "      <td>2</td>\n",
       "      <td>2</td>\n",
       "      <td>2</td>\n",
       "      <td>2</td>\n",
       "    </tr>\n",
       "    <tr>\n",
       "      <th>top</th>\n",
       "      <td>NaN</td>\n",
       "      <td>NaN</td>\n",
       "      <td>NaN</td>\n",
       "      <td>NaN</td>\n",
       "      <td>NaN</td>\n",
       "      <td>NaN</td>\n",
       "      <td>NaN</td>\n",
       "      <td>NaN</td>\n",
       "      <td>NaN</td>\n",
       "      <td>NaN</td>\n",
       "      <td>...</td>\n",
       "      <td>NaN</td>\n",
       "      <td>NaN</td>\n",
       "      <td>NaN</td>\n",
       "      <td>NaN</td>\n",
       "      <td>No</td>\n",
       "      <td>No</td>\n",
       "      <td>No</td>\n",
       "      <td>Yes</td>\n",
       "      <td>No</td>\n",
       "      <td>No</td>\n",
       "    </tr>\n",
       "    <tr>\n",
       "      <th>freq</th>\n",
       "      <td>NaN</td>\n",
       "      <td>NaN</td>\n",
       "      <td>NaN</td>\n",
       "      <td>NaN</td>\n",
       "      <td>NaN</td>\n",
       "      <td>NaN</td>\n",
       "      <td>NaN</td>\n",
       "      <td>NaN</td>\n",
       "      <td>NaN</td>\n",
       "      <td>NaN</td>\n",
       "      <td>...</td>\n",
       "      <td>NaN</td>\n",
       "      <td>NaN</td>\n",
       "      <td>NaN</td>\n",
       "      <td>NaN</td>\n",
       "      <td>48145</td>\n",
       "      <td>61577</td>\n",
       "      <td>53792</td>\n",
       "      <td>59303</td>\n",
       "      <td>61569</td>\n",
       "      <td>50296</td>\n",
       "    </tr>\n",
       "    <tr>\n",
       "      <th>mean</th>\n",
       "      <td>2.037123e+06</td>\n",
       "      <td>287.675835</td>\n",
       "      <td>7.559619</td>\n",
       "      <td>30.193333</td>\n",
       "      <td>1.692728e+02</td>\n",
       "      <td>3.150413e+02</td>\n",
       "      <td>4.535760e+02</td>\n",
       "      <td>44.742957</td>\n",
       "      <td>150.732631</td>\n",
       "      <td>2.835465e+02</td>\n",
       "      <td>...</td>\n",
       "      <td>1.605400</td>\n",
       "      <td>-6.264182</td>\n",
       "      <td>-5.863664</td>\n",
       "      <td>1.205361</td>\n",
       "      <td>NaN</td>\n",
       "      <td>NaN</td>\n",
       "      <td>NaN</td>\n",
       "      <td>NaN</td>\n",
       "      <td>NaN</td>\n",
       "      <td>NaN</td>\n",
       "    </tr>\n",
       "    <tr>\n",
       "      <th>std</th>\n",
       "      <td>6.564310e+05</td>\n",
       "      <td>4233.992770</td>\n",
       "      <td>6.498952</td>\n",
       "      <td>792.875680</td>\n",
       "      <td>5.286742e+03</td>\n",
       "      <td>9.774362e+03</td>\n",
       "      <td>1.420201e+04</td>\n",
       "      <td>1373.805831</td>\n",
       "      <td>5224.959649</td>\n",
       "      <td>8.872270e+03</td>\n",
       "      <td>...</td>\n",
       "      <td>42.309229</td>\n",
       "      <td>25.537906</td>\n",
       "      <td>24.844514</td>\n",
       "      <td>29.981155</td>\n",
       "      <td>NaN</td>\n",
       "      <td>NaN</td>\n",
       "      <td>NaN</td>\n",
       "      <td>NaN</td>\n",
       "      <td>NaN</td>\n",
       "      <td>NaN</td>\n",
       "    </tr>\n",
       "    <tr>\n",
       "      <th>min</th>\n",
       "      <td>1.068628e+06</td>\n",
       "      <td>-2999.000000</td>\n",
       "      <td>0.000000</td>\n",
       "      <td>0.000000</td>\n",
       "      <td>0.000000e+00</td>\n",
       "      <td>0.000000e+00</td>\n",
       "      <td>0.000000e+00</td>\n",
       "      <td>0.000000</td>\n",
       "      <td>0.000000</td>\n",
       "      <td>0.000000e+00</td>\n",
       "      <td>...</td>\n",
       "      <td>0.000000</td>\n",
       "      <td>-99.000000</td>\n",
       "      <td>-99.000000</td>\n",
       "      <td>0.000000</td>\n",
       "      <td>NaN</td>\n",
       "      <td>NaN</td>\n",
       "      <td>NaN</td>\n",
       "      <td>NaN</td>\n",
       "      <td>NaN</td>\n",
       "      <td>NaN</td>\n",
       "    </tr>\n",
       "    <tr>\n",
       "      <th>25%</th>\n",
       "      <td>1.498434e+06</td>\n",
       "      <td>3.000000</td>\n",
       "      <td>4.000000</td>\n",
       "      <td>0.000000</td>\n",
       "      <td>0.000000e+00</td>\n",
       "      <td>0.000000e+00</td>\n",
       "      <td>0.000000e+00</td>\n",
       "      <td>0.000000</td>\n",
       "      <td>0.000000</td>\n",
       "      <td>0.000000e+00</td>\n",
       "      <td>...</td>\n",
       "      <td>0.000000</td>\n",
       "      <td>0.620000</td>\n",
       "      <td>0.640000</td>\n",
       "      <td>0.000000</td>\n",
       "      <td>NaN</td>\n",
       "      <td>NaN</td>\n",
       "      <td>NaN</td>\n",
       "      <td>NaN</td>\n",
       "      <td>NaN</td>\n",
       "      <td>NaN</td>\n",
       "    </tr>\n",
       "    <tr>\n",
       "      <th>50%</th>\n",
       "      <td>1.898020e+06</td>\n",
       "      <td>10.000000</td>\n",
       "      <td>8.000000</td>\n",
       "      <td>0.000000</td>\n",
       "      <td>0.000000e+00</td>\n",
       "      <td>0.000000e+00</td>\n",
       "      <td>0.000000e+00</td>\n",
       "      <td>0.000000</td>\n",
       "      <td>2.000000</td>\n",
       "      <td>4.000000e+00</td>\n",
       "      <td>...</td>\n",
       "      <td>0.000000</td>\n",
       "      <td>0.820000</td>\n",
       "      <td>0.800000</td>\n",
       "      <td>0.000000</td>\n",
       "      <td>NaN</td>\n",
       "      <td>NaN</td>\n",
       "      <td>NaN</td>\n",
       "      <td>NaN</td>\n",
       "      <td>NaN</td>\n",
       "      <td>NaN</td>\n",
       "    </tr>\n",
       "    <tr>\n",
       "      <th>75%</th>\n",
       "      <td>2.314815e+06</td>\n",
       "      <td>57.000000</td>\n",
       "      <td>8.000000</td>\n",
       "      <td>0.000000</td>\n",
       "      <td>1.200000e+01</td>\n",
       "      <td>2.500000e+01</td>\n",
       "      <td>3.600000e+01</td>\n",
       "      <td>6.000000</td>\n",
       "      <td>17.000000</td>\n",
       "      <td>3.400000e+01</td>\n",
       "      <td>...</td>\n",
       "      <td>0.000000</td>\n",
       "      <td>0.960000</td>\n",
       "      <td>0.950000</td>\n",
       "      <td>0.000000</td>\n",
       "      <td>NaN</td>\n",
       "      <td>NaN</td>\n",
       "      <td>NaN</td>\n",
       "      <td>NaN</td>\n",
       "      <td>NaN</td>\n",
       "      <td>NaN</td>\n",
       "    </tr>\n",
       "    <tr>\n",
       "      <th>max</th>\n",
       "      <td>3.284895e+06</td>\n",
       "      <td>673445.000000</td>\n",
       "      <td>52.000000</td>\n",
       "      <td>170976.000000</td>\n",
       "      <td>1.126656e+06</td>\n",
       "      <td>2.094336e+06</td>\n",
       "      <td>3.062016e+06</td>\n",
       "      <td>295197.000000</td>\n",
       "      <td>934593.000000</td>\n",
       "      <td>1.799099e+06</td>\n",
       "      <td>...</td>\n",
       "      <td>7392.000000</td>\n",
       "      <td>1.000000</td>\n",
       "      <td>1.000000</td>\n",
       "      <td>2999.000000</td>\n",
       "      <td>NaN</td>\n",
       "      <td>NaN</td>\n",
       "      <td>NaN</td>\n",
       "      <td>NaN</td>\n",
       "      <td>NaN</td>\n",
       "      <td>NaN</td>\n",
       "    </tr>\n",
       "  </tbody>\n",
       "</table>\n",
       "<p>11 rows × 23 columns</p>\n",
       "</div>"
      ],
      "text/plain": [
       "                 sku   national_inv     lead_time  in_transit_qty  \\\n",
       "count   6.159400e+04   61586.000000  58186.000000    61588.000000   \n",
       "unique           NaN            NaN           NaN             NaN   \n",
       "top              NaN            NaN           NaN             NaN   \n",
       "freq             NaN            NaN           NaN             NaN   \n",
       "mean    2.037123e+06     287.675835      7.559619       30.193333   \n",
       "std     6.564310e+05    4233.992770      6.498952      792.875680   \n",
       "min     1.068628e+06   -2999.000000      0.000000        0.000000   \n",
       "25%     1.498434e+06       3.000000      4.000000        0.000000   \n",
       "50%     1.898020e+06      10.000000      8.000000        0.000000   \n",
       "75%     2.314815e+06      57.000000      8.000000        0.000000   \n",
       "max     3.284895e+06  673445.000000     52.000000   170976.000000   \n",
       "\n",
       "        forecast_3_month  forecast_6_month  forecast_9_month  sales_1_month  \\\n",
       "count       6.158900e+04      6.158900e+04      6.158900e+04   61589.000000   \n",
       "unique               NaN               NaN               NaN            NaN   \n",
       "top                  NaN               NaN               NaN            NaN   \n",
       "freq                 NaN               NaN               NaN            NaN   \n",
       "mean        1.692728e+02      3.150413e+02      4.535760e+02      44.742957   \n",
       "std         5.286742e+03      9.774362e+03      1.420201e+04    1373.805831   \n",
       "min         0.000000e+00      0.000000e+00      0.000000e+00       0.000000   \n",
       "25%         0.000000e+00      0.000000e+00      0.000000e+00       0.000000   \n",
       "50%         0.000000e+00      0.000000e+00      0.000000e+00       0.000000   \n",
       "75%         1.200000e+01      2.500000e+01      3.600000e+01       6.000000   \n",
       "max         1.126656e+06      2.094336e+06      3.062016e+06  295197.000000   \n",
       "\n",
       "        sales_3_month  sales_6_month  ...  pieces_past_due  perf_6_month_avg  \\\n",
       "count    61589.000000   6.158900e+04  ...     61589.000000      61589.000000   \n",
       "unique            NaN            NaN  ...              NaN               NaN   \n",
       "top               NaN            NaN  ...              NaN               NaN   \n",
       "freq              NaN            NaN  ...              NaN               NaN   \n",
       "mean       150.732631   2.835465e+02  ...         1.605400         -6.264182   \n",
       "std       5224.959649   8.872270e+03  ...        42.309229         25.537906   \n",
       "min          0.000000   0.000000e+00  ...         0.000000        -99.000000   \n",
       "25%          0.000000   0.000000e+00  ...         0.000000          0.620000   \n",
       "50%          2.000000   4.000000e+00  ...         0.000000          0.820000   \n",
       "75%         17.000000   3.400000e+01  ...         0.000000          0.960000   \n",
       "max     934593.000000   1.799099e+06  ...      7392.000000          1.000000   \n",
       "\n",
       "       perf_12_month_avg  local_bo_qty  deck_risk  oe_constraint  ppap_risk  \\\n",
       "count       61589.000000  61589.000000      61589          61589      61589   \n",
       "unique               NaN           NaN          2              2          2   \n",
       "top                  NaN           NaN         No             No         No   \n",
       "freq                 NaN           NaN      48145          61577      53792   \n",
       "mean           -5.863664      1.205361        NaN            NaN        NaN   \n",
       "std            24.844514     29.981155        NaN            NaN        NaN   \n",
       "min           -99.000000      0.000000        NaN            NaN        NaN   \n",
       "25%             0.640000      0.000000        NaN            NaN        NaN   \n",
       "50%             0.800000      0.000000        NaN            NaN        NaN   \n",
       "75%             0.950000      0.000000        NaN            NaN        NaN   \n",
       "max             1.000000   2999.000000        NaN            NaN        NaN   \n",
       "\n",
       "       stop_auto_buy rev_stop went_on_backorder  \n",
       "count          61589    61589             61589  \n",
       "unique             2        2                 2  \n",
       "top              Yes       No                No  \n",
       "freq           59303    61569             50296  \n",
       "mean             NaN      NaN               NaN  \n",
       "std              NaN      NaN               NaN  \n",
       "min              NaN      NaN               NaN  \n",
       "25%              NaN      NaN               NaN  \n",
       "50%              NaN      NaN               NaN  \n",
       "75%              NaN      NaN               NaN  \n",
       "max              NaN      NaN               NaN  \n",
       "\n",
       "[11 rows x 23 columns]"
      ]
     },
     "execution_count": 9,
     "metadata": {},
     "output_type": "execute_result"
    }
   ],
   "source": [
    "data.describe(include='all')"
   ]
  },
  {
   "cell_type": "markdown",
   "metadata": {
    "id": "nV45XNB1wwST"
   },
   "source": [
    "## Data type"
   ]
  },
  {
   "cell_type": "code",
   "execution_count": 10,
   "metadata": {
    "colab": {
     "base_uri": "https://localhost:8080/"
    },
    "id": "ygaZtdMXwwSU",
    "outputId": "36f021ed-900d-45c1-912e-3d613ce811b6"
   },
   "outputs": [
    {
     "data": {
      "text/plain": [
       "sku                    int64\n",
       "national_inv         float64\n",
       "lead_time            float64\n",
       "in_transit_qty       float64\n",
       "forecast_3_month     float64\n",
       "forecast_6_month     float64\n",
       "forecast_9_month     float64\n",
       "sales_1_month        float64\n",
       "sales_3_month        float64\n",
       "sales_6_month        float64\n",
       "sales_9_month        float64\n",
       "min_bank             float64\n",
       "potential_issue       object\n",
       "pieces_past_due      float64\n",
       "perf_6_month_avg     float64\n",
       "perf_12_month_avg    float64\n",
       "local_bo_qty         float64\n",
       "deck_risk             object\n",
       "oe_constraint         object\n",
       "ppap_risk             object\n",
       "stop_auto_buy         object\n",
       "rev_stop              object\n",
       "went_on_backorder     object\n",
       "dtype: object"
      ]
     },
     "execution_count": 10,
     "metadata": {},
     "output_type": "execute_result"
    }
   ],
   "source": [
    "data.dtypes"
   ]
  },
  {
   "cell_type": "markdown",
   "metadata": {
    "id": "MWBNRk18wwSW"
   },
   "source": [
    "__Observations__\n",
    "\n",
    "* sku is `categorical` but is interpreted as `int64` \n",
    "* potential_issue, deck_risk, oe_constraint, ppap_risk, stop_auto_buy, rev_stop, and went_on_backorder are also `categorical` but is interpreted as `object`. "
   ]
  },
  {
   "cell_type": "markdown",
   "metadata": {
    "id": "M6fOdTVXwwSX"
   },
   "source": [
    "# Data pre-processing"
   ]
  },
  {
   "cell_type": "markdown",
   "metadata": {
    "id": "VAMrhelUwwSY"
   },
   "source": [
    "## Convert all the attributes to appropriate type"
   ]
  },
  {
   "cell_type": "markdown",
   "metadata": {
    "id": "VBxgIHn4wwSZ"
   },
   "source": [
    "Data type conversion\n",
    "\n",
    "    Using astype('category') to convert potential_issue, deck_risk, oe_constraint, ppap_risk, stop_auto_buy, rev_stop, and went_on_backorder attributes to categorical attributes.\n"
   ]
  },
  {
   "cell_type": "code",
   "execution_count": 11,
   "metadata": {
    "id": "X-jO4wRiwwSa"
   },
   "outputs": [],
   "source": [
    "for col in ['sku', 'potential_issue', 'deck_risk', 'oe_constraint', 'ppap_risk', \n",
    "            'stop_auto_buy', 'rev_stop', 'went_on_backorder']:\n",
    "    data[col] = data[col].astype('category')"
   ]
  },
  {
   "cell_type": "markdown",
   "metadata": {
    "id": "3yItIGQGwwSb"
   },
   "source": [
    "### Re-display data type of each variable"
   ]
  },
  {
   "cell_type": "code",
   "execution_count": 12,
   "metadata": {
    "colab": {
     "base_uri": "https://localhost:8080/"
    },
    "id": "rGTCY14cwwSb",
    "outputId": "9f370e90-3b93-44c3-d37c-8c2b5c43a478"
   },
   "outputs": [
    {
     "data": {
      "text/plain": [
       "sku                  category\n",
       "national_inv          float64\n",
       "lead_time             float64\n",
       "in_transit_qty        float64\n",
       "forecast_3_month      float64\n",
       "forecast_6_month      float64\n",
       "forecast_9_month      float64\n",
       "sales_1_month         float64\n",
       "sales_3_month         float64\n",
       "sales_6_month         float64\n",
       "sales_9_month         float64\n",
       "min_bank              float64\n",
       "potential_issue      category\n",
       "pieces_past_due       float64\n",
       "perf_6_month_avg      float64\n",
       "perf_12_month_avg     float64\n",
       "local_bo_qty          float64\n",
       "deck_risk            category\n",
       "oe_constraint        category\n",
       "ppap_risk            category\n",
       "stop_auto_buy        category\n",
       "rev_stop             category\n",
       "went_on_backorder    category\n",
       "dtype: object"
      ]
     },
     "execution_count": 12,
     "metadata": {},
     "output_type": "execute_result"
    }
   ],
   "source": [
    "data.dtypes"
   ]
  },
  {
   "cell_type": "markdown",
   "metadata": {
    "id": "7Nwg-weewwSf"
   },
   "source": [
    "### Statistic summary \n",
    "    Using describe function"
   ]
  },
  {
   "cell_type": "code",
   "execution_count": 13,
   "metadata": {
    "colab": {
     "base_uri": "https://localhost:8080/",
     "height": 410
    },
    "id": "WUUB3yjUwwSg",
    "outputId": "a1fbd26f-db3f-45ce-f0a9-0c03f5ea7f26",
    "scrolled": true
   },
   "outputs": [
    {
     "data": {
      "text/html": [
       "<div>\n",
       "<style scoped>\n",
       "    .dataframe tbody tr th:only-of-type {\n",
       "        vertical-align: middle;\n",
       "    }\n",
       "\n",
       "    .dataframe tbody tr th {\n",
       "        vertical-align: top;\n",
       "    }\n",
       "\n",
       "    .dataframe thead th {\n",
       "        text-align: right;\n",
       "    }\n",
       "</style>\n",
       "<table border=\"1\" class=\"dataframe\">\n",
       "  <thead>\n",
       "    <tr style=\"text-align: right;\">\n",
       "      <th></th>\n",
       "      <th>sku</th>\n",
       "      <th>national_inv</th>\n",
       "      <th>lead_time</th>\n",
       "      <th>in_transit_qty</th>\n",
       "      <th>forecast_3_month</th>\n",
       "      <th>forecast_6_month</th>\n",
       "      <th>forecast_9_month</th>\n",
       "      <th>sales_1_month</th>\n",
       "      <th>sales_3_month</th>\n",
       "      <th>sales_6_month</th>\n",
       "      <th>...</th>\n",
       "      <th>pieces_past_due</th>\n",
       "      <th>perf_6_month_avg</th>\n",
       "      <th>perf_12_month_avg</th>\n",
       "      <th>local_bo_qty</th>\n",
       "      <th>deck_risk</th>\n",
       "      <th>oe_constraint</th>\n",
       "      <th>ppap_risk</th>\n",
       "      <th>stop_auto_buy</th>\n",
       "      <th>rev_stop</th>\n",
       "      <th>went_on_backorder</th>\n",
       "    </tr>\n",
       "  </thead>\n",
       "  <tbody>\n",
       "    <tr>\n",
       "      <th>count</th>\n",
       "      <td>61594.0</td>\n",
       "      <td>61586.000000</td>\n",
       "      <td>58186.000000</td>\n",
       "      <td>61588.000000</td>\n",
       "      <td>6.158900e+04</td>\n",
       "      <td>6.158900e+04</td>\n",
       "      <td>6.158900e+04</td>\n",
       "      <td>61589.000000</td>\n",
       "      <td>61589.000000</td>\n",
       "      <td>6.158900e+04</td>\n",
       "      <td>...</td>\n",
       "      <td>61589.000000</td>\n",
       "      <td>61589.000000</td>\n",
       "      <td>61589.000000</td>\n",
       "      <td>61589.000000</td>\n",
       "      <td>61589</td>\n",
       "      <td>61589</td>\n",
       "      <td>61589</td>\n",
       "      <td>61589</td>\n",
       "      <td>61589</td>\n",
       "      <td>61589</td>\n",
       "    </tr>\n",
       "    <tr>\n",
       "      <th>unique</th>\n",
       "      <td>61594.0</td>\n",
       "      <td>NaN</td>\n",
       "      <td>NaN</td>\n",
       "      <td>NaN</td>\n",
       "      <td>NaN</td>\n",
       "      <td>NaN</td>\n",
       "      <td>NaN</td>\n",
       "      <td>NaN</td>\n",
       "      <td>NaN</td>\n",
       "      <td>NaN</td>\n",
       "      <td>...</td>\n",
       "      <td>NaN</td>\n",
       "      <td>NaN</td>\n",
       "      <td>NaN</td>\n",
       "      <td>NaN</td>\n",
       "      <td>2</td>\n",
       "      <td>2</td>\n",
       "      <td>2</td>\n",
       "      <td>2</td>\n",
       "      <td>2</td>\n",
       "      <td>2</td>\n",
       "    </tr>\n",
       "    <tr>\n",
       "      <th>top</th>\n",
       "      <td>1068628.0</td>\n",
       "      <td>NaN</td>\n",
       "      <td>NaN</td>\n",
       "      <td>NaN</td>\n",
       "      <td>NaN</td>\n",
       "      <td>NaN</td>\n",
       "      <td>NaN</td>\n",
       "      <td>NaN</td>\n",
       "      <td>NaN</td>\n",
       "      <td>NaN</td>\n",
       "      <td>...</td>\n",
       "      <td>NaN</td>\n",
       "      <td>NaN</td>\n",
       "      <td>NaN</td>\n",
       "      <td>NaN</td>\n",
       "      <td>No</td>\n",
       "      <td>No</td>\n",
       "      <td>No</td>\n",
       "      <td>Yes</td>\n",
       "      <td>No</td>\n",
       "      <td>No</td>\n",
       "    </tr>\n",
       "    <tr>\n",
       "      <th>freq</th>\n",
       "      <td>1.0</td>\n",
       "      <td>NaN</td>\n",
       "      <td>NaN</td>\n",
       "      <td>NaN</td>\n",
       "      <td>NaN</td>\n",
       "      <td>NaN</td>\n",
       "      <td>NaN</td>\n",
       "      <td>NaN</td>\n",
       "      <td>NaN</td>\n",
       "      <td>NaN</td>\n",
       "      <td>...</td>\n",
       "      <td>NaN</td>\n",
       "      <td>NaN</td>\n",
       "      <td>NaN</td>\n",
       "      <td>NaN</td>\n",
       "      <td>48145</td>\n",
       "      <td>61577</td>\n",
       "      <td>53792</td>\n",
       "      <td>59303</td>\n",
       "      <td>61569</td>\n",
       "      <td>50296</td>\n",
       "    </tr>\n",
       "    <tr>\n",
       "      <th>mean</th>\n",
       "      <td>NaN</td>\n",
       "      <td>287.675835</td>\n",
       "      <td>7.559619</td>\n",
       "      <td>30.193333</td>\n",
       "      <td>1.692728e+02</td>\n",
       "      <td>3.150413e+02</td>\n",
       "      <td>4.535760e+02</td>\n",
       "      <td>44.742957</td>\n",
       "      <td>150.732631</td>\n",
       "      <td>2.835465e+02</td>\n",
       "      <td>...</td>\n",
       "      <td>1.605400</td>\n",
       "      <td>-6.264182</td>\n",
       "      <td>-5.863664</td>\n",
       "      <td>1.205361</td>\n",
       "      <td>NaN</td>\n",
       "      <td>NaN</td>\n",
       "      <td>NaN</td>\n",
       "      <td>NaN</td>\n",
       "      <td>NaN</td>\n",
       "      <td>NaN</td>\n",
       "    </tr>\n",
       "    <tr>\n",
       "      <th>std</th>\n",
       "      <td>NaN</td>\n",
       "      <td>4233.992770</td>\n",
       "      <td>6.498952</td>\n",
       "      <td>792.875680</td>\n",
       "      <td>5.286742e+03</td>\n",
       "      <td>9.774362e+03</td>\n",
       "      <td>1.420201e+04</td>\n",
       "      <td>1373.805831</td>\n",
       "      <td>5224.959649</td>\n",
       "      <td>8.872270e+03</td>\n",
       "      <td>...</td>\n",
       "      <td>42.309229</td>\n",
       "      <td>25.537906</td>\n",
       "      <td>24.844514</td>\n",
       "      <td>29.981155</td>\n",
       "      <td>NaN</td>\n",
       "      <td>NaN</td>\n",
       "      <td>NaN</td>\n",
       "      <td>NaN</td>\n",
       "      <td>NaN</td>\n",
       "      <td>NaN</td>\n",
       "    </tr>\n",
       "    <tr>\n",
       "      <th>min</th>\n",
       "      <td>NaN</td>\n",
       "      <td>-2999.000000</td>\n",
       "      <td>0.000000</td>\n",
       "      <td>0.000000</td>\n",
       "      <td>0.000000e+00</td>\n",
       "      <td>0.000000e+00</td>\n",
       "      <td>0.000000e+00</td>\n",
       "      <td>0.000000</td>\n",
       "      <td>0.000000</td>\n",
       "      <td>0.000000e+00</td>\n",
       "      <td>...</td>\n",
       "      <td>0.000000</td>\n",
       "      <td>-99.000000</td>\n",
       "      <td>-99.000000</td>\n",
       "      <td>0.000000</td>\n",
       "      <td>NaN</td>\n",
       "      <td>NaN</td>\n",
       "      <td>NaN</td>\n",
       "      <td>NaN</td>\n",
       "      <td>NaN</td>\n",
       "      <td>NaN</td>\n",
       "    </tr>\n",
       "    <tr>\n",
       "      <th>25%</th>\n",
       "      <td>NaN</td>\n",
       "      <td>3.000000</td>\n",
       "      <td>4.000000</td>\n",
       "      <td>0.000000</td>\n",
       "      <td>0.000000e+00</td>\n",
       "      <td>0.000000e+00</td>\n",
       "      <td>0.000000e+00</td>\n",
       "      <td>0.000000</td>\n",
       "      <td>0.000000</td>\n",
       "      <td>0.000000e+00</td>\n",
       "      <td>...</td>\n",
       "      <td>0.000000</td>\n",
       "      <td>0.620000</td>\n",
       "      <td>0.640000</td>\n",
       "      <td>0.000000</td>\n",
       "      <td>NaN</td>\n",
       "      <td>NaN</td>\n",
       "      <td>NaN</td>\n",
       "      <td>NaN</td>\n",
       "      <td>NaN</td>\n",
       "      <td>NaN</td>\n",
       "    </tr>\n",
       "    <tr>\n",
       "      <th>50%</th>\n",
       "      <td>NaN</td>\n",
       "      <td>10.000000</td>\n",
       "      <td>8.000000</td>\n",
       "      <td>0.000000</td>\n",
       "      <td>0.000000e+00</td>\n",
       "      <td>0.000000e+00</td>\n",
       "      <td>0.000000e+00</td>\n",
       "      <td>0.000000</td>\n",
       "      <td>2.000000</td>\n",
       "      <td>4.000000e+00</td>\n",
       "      <td>...</td>\n",
       "      <td>0.000000</td>\n",
       "      <td>0.820000</td>\n",
       "      <td>0.800000</td>\n",
       "      <td>0.000000</td>\n",
       "      <td>NaN</td>\n",
       "      <td>NaN</td>\n",
       "      <td>NaN</td>\n",
       "      <td>NaN</td>\n",
       "      <td>NaN</td>\n",
       "      <td>NaN</td>\n",
       "    </tr>\n",
       "    <tr>\n",
       "      <th>75%</th>\n",
       "      <td>NaN</td>\n",
       "      <td>57.000000</td>\n",
       "      <td>8.000000</td>\n",
       "      <td>0.000000</td>\n",
       "      <td>1.200000e+01</td>\n",
       "      <td>2.500000e+01</td>\n",
       "      <td>3.600000e+01</td>\n",
       "      <td>6.000000</td>\n",
       "      <td>17.000000</td>\n",
       "      <td>3.400000e+01</td>\n",
       "      <td>...</td>\n",
       "      <td>0.000000</td>\n",
       "      <td>0.960000</td>\n",
       "      <td>0.950000</td>\n",
       "      <td>0.000000</td>\n",
       "      <td>NaN</td>\n",
       "      <td>NaN</td>\n",
       "      <td>NaN</td>\n",
       "      <td>NaN</td>\n",
       "      <td>NaN</td>\n",
       "      <td>NaN</td>\n",
       "    </tr>\n",
       "    <tr>\n",
       "      <th>max</th>\n",
       "      <td>NaN</td>\n",
       "      <td>673445.000000</td>\n",
       "      <td>52.000000</td>\n",
       "      <td>170976.000000</td>\n",
       "      <td>1.126656e+06</td>\n",
       "      <td>2.094336e+06</td>\n",
       "      <td>3.062016e+06</td>\n",
       "      <td>295197.000000</td>\n",
       "      <td>934593.000000</td>\n",
       "      <td>1.799099e+06</td>\n",
       "      <td>...</td>\n",
       "      <td>7392.000000</td>\n",
       "      <td>1.000000</td>\n",
       "      <td>1.000000</td>\n",
       "      <td>2999.000000</td>\n",
       "      <td>NaN</td>\n",
       "      <td>NaN</td>\n",
       "      <td>NaN</td>\n",
       "      <td>NaN</td>\n",
       "      <td>NaN</td>\n",
       "      <td>NaN</td>\n",
       "    </tr>\n",
       "  </tbody>\n",
       "</table>\n",
       "<p>11 rows × 23 columns</p>\n",
       "</div>"
      ],
      "text/plain": [
       "              sku   national_inv     lead_time  in_transit_qty  \\\n",
       "count     61594.0   61586.000000  58186.000000    61588.000000   \n",
       "unique    61594.0            NaN           NaN             NaN   \n",
       "top     1068628.0            NaN           NaN             NaN   \n",
       "freq          1.0            NaN           NaN             NaN   \n",
       "mean          NaN     287.675835      7.559619       30.193333   \n",
       "std           NaN    4233.992770      6.498952      792.875680   \n",
       "min           NaN   -2999.000000      0.000000        0.000000   \n",
       "25%           NaN       3.000000      4.000000        0.000000   \n",
       "50%           NaN      10.000000      8.000000        0.000000   \n",
       "75%           NaN      57.000000      8.000000        0.000000   \n",
       "max           NaN  673445.000000     52.000000   170976.000000   \n",
       "\n",
       "        forecast_3_month  forecast_6_month  forecast_9_month  sales_1_month  \\\n",
       "count       6.158900e+04      6.158900e+04      6.158900e+04   61589.000000   \n",
       "unique               NaN               NaN               NaN            NaN   \n",
       "top                  NaN               NaN               NaN            NaN   \n",
       "freq                 NaN               NaN               NaN            NaN   \n",
       "mean        1.692728e+02      3.150413e+02      4.535760e+02      44.742957   \n",
       "std         5.286742e+03      9.774362e+03      1.420201e+04    1373.805831   \n",
       "min         0.000000e+00      0.000000e+00      0.000000e+00       0.000000   \n",
       "25%         0.000000e+00      0.000000e+00      0.000000e+00       0.000000   \n",
       "50%         0.000000e+00      0.000000e+00      0.000000e+00       0.000000   \n",
       "75%         1.200000e+01      2.500000e+01      3.600000e+01       6.000000   \n",
       "max         1.126656e+06      2.094336e+06      3.062016e+06  295197.000000   \n",
       "\n",
       "        sales_3_month  sales_6_month  ...  pieces_past_due  perf_6_month_avg  \\\n",
       "count    61589.000000   6.158900e+04  ...     61589.000000      61589.000000   \n",
       "unique            NaN            NaN  ...              NaN               NaN   \n",
       "top               NaN            NaN  ...              NaN               NaN   \n",
       "freq              NaN            NaN  ...              NaN               NaN   \n",
       "mean       150.732631   2.835465e+02  ...         1.605400         -6.264182   \n",
       "std       5224.959649   8.872270e+03  ...        42.309229         25.537906   \n",
       "min          0.000000   0.000000e+00  ...         0.000000        -99.000000   \n",
       "25%          0.000000   0.000000e+00  ...         0.000000          0.620000   \n",
       "50%          2.000000   4.000000e+00  ...         0.000000          0.820000   \n",
       "75%         17.000000   3.400000e+01  ...         0.000000          0.960000   \n",
       "max     934593.000000   1.799099e+06  ...      7392.000000          1.000000   \n",
       "\n",
       "       perf_12_month_avg  local_bo_qty  deck_risk  oe_constraint  ppap_risk  \\\n",
       "count       61589.000000  61589.000000      61589          61589      61589   \n",
       "unique               NaN           NaN          2              2          2   \n",
       "top                  NaN           NaN         No             No         No   \n",
       "freq                 NaN           NaN      48145          61577      53792   \n",
       "mean           -5.863664      1.205361        NaN            NaN        NaN   \n",
       "std            24.844514     29.981155        NaN            NaN        NaN   \n",
       "min           -99.000000      0.000000        NaN            NaN        NaN   \n",
       "25%             0.640000      0.000000        NaN            NaN        NaN   \n",
       "50%             0.800000      0.000000        NaN            NaN        NaN   \n",
       "75%             0.950000      0.000000        NaN            NaN        NaN   \n",
       "max             1.000000   2999.000000        NaN            NaN        NaN   \n",
       "\n",
       "       stop_auto_buy rev_stop went_on_backorder  \n",
       "count          61589    61589             61589  \n",
       "unique             2        2                 2  \n",
       "top              Yes       No                No  \n",
       "freq           59303    61569             50296  \n",
       "mean             NaN      NaN               NaN  \n",
       "std              NaN      NaN               NaN  \n",
       "min              NaN      NaN               NaN  \n",
       "25%              NaN      NaN               NaN  \n",
       "50%              NaN      NaN               NaN  \n",
       "75%              NaN      NaN               NaN  \n",
       "max              NaN      NaN               NaN  \n",
       "\n",
       "[11 rows x 23 columns]"
      ]
     },
     "execution_count": 13,
     "metadata": {},
     "output_type": "execute_result"
    }
   ],
   "source": [
    "data.describe(include='all')"
   ]
  },
  {
   "cell_type": "markdown",
   "metadata": {
    "id": "RIXPTeLewwSi"
   },
   "source": [
    "## Delete sku attribute"
   ]
  },
  {
   "cell_type": "code",
   "execution_count": 14,
   "metadata": {
    "colab": {
     "base_uri": "https://localhost:8080/"
    },
    "id": "MRv47J26wwSj",
    "outputId": "290cb04b-11b5-4c26-be92-dd75a6dbee83"
   },
   "outputs": [
    {
     "data": {
      "text/plain": [
       "61594"
      ]
     },
     "execution_count": 14,
     "metadata": {},
     "output_type": "execute_result"
    }
   ],
   "source": [
    "np.size(np.unique(data.sku, return_counts=True)[0])"
   ]
  },
  {
   "cell_type": "code",
   "execution_count": 15,
   "metadata": {
    "id": "flqH4S5CwwSk"
   },
   "outputs": [],
   "source": [
    "data.drop('sku', axis=1, inplace=True)"
   ]
  },
  {
   "cell_type": "markdown",
   "metadata": {
    "id": "qg_nDLxRwwSl"
   },
   "source": [
    "## Missing Data\n",
    "\n",
    "    Missing value analysis and dropping the records with missing values"
   ]
  },
  {
   "cell_type": "code",
   "execution_count": 16,
   "metadata": {
    "colab": {
     "base_uri": "https://localhost:8080/"
    },
    "id": "FpqXg8k6wwSn",
    "outputId": "01faabde-4caf-44e9-a173-15859fc21299"
   },
   "outputs": [
    {
     "data": {
      "text/plain": [
       "national_inv            8\n",
       "lead_time            3408\n",
       "in_transit_qty          6\n",
       "forecast_3_month        5\n",
       "forecast_6_month        5\n",
       "forecast_9_month        5\n",
       "sales_1_month           5\n",
       "sales_3_month           5\n",
       "sales_6_month           5\n",
       "sales_9_month           5\n",
       "min_bank                5\n",
       "potential_issue         5\n",
       "pieces_past_due         5\n",
       "perf_6_month_avg        5\n",
       "perf_12_month_avg       5\n",
       "local_bo_qty            5\n",
       "deck_risk               5\n",
       "oe_constraint           5\n",
       "ppap_risk               5\n",
       "stop_auto_buy           5\n",
       "rev_stop                5\n",
       "went_on_backorder       5\n",
       "dtype: int64"
      ]
     },
     "execution_count": 16,
     "metadata": {},
     "output_type": "execute_result"
    }
   ],
   "source": [
    "data.isnull().sum()"
   ]
  },
  {
   "cell_type": "markdown",
   "metadata": {
    "id": "2wcmK-dKwwSp"
   },
   "source": [
    "Observing the number of records before and after missing value records removal"
   ]
  },
  {
   "cell_type": "code",
   "execution_count": 17,
   "metadata": {
    "colab": {
     "base_uri": "https://localhost:8080/"
    },
    "id": "Q9mY9AJCwwSq",
    "outputId": "9d96b781-6210-47f5-9819-ba9aada190c2"
   },
   "outputs": [
    {
     "name": "stdout",
     "output_type": "stream",
     "text": [
      "(61594, 22)\n"
     ]
    }
   ],
   "source": [
    "print (data.shape)"
   ]
  },
  {
   "cell_type": "markdown",
   "metadata": {
    "id": "Y2ixoJhwwwSs"
   },
   "source": [
    "Since the number of missing values is about 5% and as we have around 61K records. For initial analysis we ignore all these records"
   ]
  },
  {
   "cell_type": "code",
   "execution_count": 18,
   "metadata": {
    "id": "lg8XRs0cwwSt"
   },
   "outputs": [],
   "source": [
    "data = data.dropna(axis=0)"
   ]
  },
  {
   "cell_type": "code",
   "execution_count": 19,
   "metadata": {
    "colab": {
     "base_uri": "https://localhost:8080/"
    },
    "id": "1tuYerKNwwSu",
    "outputId": "c2be8d4b-7b8d-40d5-e837-30bf05bb6ae2"
   },
   "outputs": [
    {
     "name": "stdout",
     "output_type": "stream",
     "text": [
      "national_inv         0\n",
      "lead_time            0\n",
      "in_transit_qty       0\n",
      "forecast_3_month     0\n",
      "forecast_6_month     0\n",
      "forecast_9_month     0\n",
      "sales_1_month        0\n",
      "sales_3_month        0\n",
      "sales_6_month        0\n",
      "sales_9_month        0\n",
      "min_bank             0\n",
      "potential_issue      0\n",
      "pieces_past_due      0\n",
      "perf_6_month_avg     0\n",
      "perf_12_month_avg    0\n",
      "local_bo_qty         0\n",
      "deck_risk            0\n",
      "oe_constraint        0\n",
      "ppap_risk            0\n",
      "stop_auto_buy        0\n",
      "rev_stop             0\n",
      "went_on_backorder    0\n",
      "dtype: int64\n",
      "(58184, 22)\n"
     ]
    }
   ],
   "source": [
    "print(data.isnull().sum())\n",
    "print(data.shape)"
   ]
  },
  {
   "cell_type": "markdown",
   "metadata": {
    "id": "jceRSipBwwSx"
   },
   "source": [
    "## Train and test split"
   ]
  },
  {
   "cell_type": "markdown",
   "metadata": {
    "id": "w5C76mkUwwSy"
   },
   "source": [
    "### Target attribute distribution "
   ]
  },
  {
   "cell_type": "code",
   "execution_count": 20,
   "metadata": {
    "colab": {
     "base_uri": "https://localhost:8080/"
    },
    "id": "mvp2UtuQwwSz",
    "outputId": "36bf92e4-c4cc-49a3-d1d7-177b4a00eef6"
   },
   "outputs": [
    {
     "data": {
      "text/plain": [
       "No     47215\n",
       "Yes    10969\n",
       "Name: went_on_backorder, dtype: int64"
      ]
     },
     "execution_count": 20,
     "metadata": {},
     "output_type": "execute_result"
    }
   ],
   "source": [
    "data['went_on_backorder'].value_counts()"
   ]
  },
  {
   "cell_type": "code",
   "execution_count": 21,
   "metadata": {
    "colab": {
     "base_uri": "https://localhost:8080/"
    },
    "id": "EO8kfjtVwwS1",
    "outputId": "16dc7f05-cf11-49d3-d82c-0aa767d56b78"
   },
   "outputs": [
    {
     "data": {
      "text/plain": [
       "No     81.147738\n",
       "Yes    18.852262\n",
       "Name: went_on_backorder, dtype: float64"
      ]
     },
     "execution_count": 21,
     "metadata": {},
     "output_type": "execute_result"
    }
   ],
   "source": [
    "data['went_on_backorder'].value_counts(normalize=True)*100"
   ]
  },
  {
   "cell_type": "markdown",
   "metadata": {
    "id": "b63NOiy5wwS5"
   },
   "source": [
    "### Split the data into train and test\n",
    "sklearn.model_selection.train_test_split\n",
    "\n",
    "    Split arrays or matrices into random train and test subsets"
   ]
  },
  {
   "cell_type": "code",
   "execution_count": 22,
   "metadata": {
    "id": "WLlVADt3wwS7"
   },
   "outputs": [],
   "source": [
    "X = data.drop('went_on_backorder', axis=1)\n",
    "y = data['went_on_backorder']\n",
    "\n",
    "X_train, X_test, y_train, y_test = train_test_split(X, y, test_size=0.30, random_state=123) "
   ]
  },
  {
   "cell_type": "markdown",
   "metadata": {
    "id": "iKGRdEVOwwS8"
   },
   "source": [
    "### Target attribute distribution after the split"
   ]
  },
  {
   "cell_type": "code",
   "execution_count": 23,
   "metadata": {
    "colab": {
     "base_uri": "https://localhost:8080/"
    },
    "id": "W98okurZwwS9",
    "outputId": "5d8044ff-2112-441d-f379-cde88215eee9"
   },
   "outputs": [
    {
     "name": "stdout",
     "output_type": "stream",
     "text": [
      "No     81.219309\n",
      "Yes    18.780691\n",
      "Name: went_on_backorder, dtype: float64\n",
      "No     80.980752\n",
      "Yes    19.019248\n",
      "Name: went_on_backorder, dtype: float64\n"
     ]
    }
   ],
   "source": [
    "print(pd.value_counts(y_train)/y_train.count() * 100)\n",
    "\n",
    "print(pd.value_counts(y_test) /y_test.count() * 100)"
   ]
  },
  {
   "cell_type": "markdown",
   "metadata": {
    "id": "JOXafz9awwS-"
   },
   "source": [
    "## Convert categorical target attribute to numeric\n",
    "\n",
    "Using `LabelEncoder` convert categorical target attribute __went_on_backorder__ to numeric"
   ]
  },
  {
   "cell_type": "code",
   "execution_count": 24,
   "metadata": {
    "id": "enzsY3iBwwS-"
   },
   "outputs": [],
   "source": [
    "le = LabelEncoder()"
   ]
  },
  {
   "cell_type": "code",
   "execution_count": 25,
   "metadata": {
    "colab": {
     "base_uri": "https://localhost:8080/"
    },
    "id": "QDsE8U8NwwS_",
    "outputId": "2e65a348-85e3-4ee7-c961-44ddb7d20de5"
   },
   "outputs": [
    {
     "data": {
      "text/plain": [
       "LabelEncoder()"
      ]
     },
     "execution_count": 25,
     "metadata": {},
     "output_type": "execute_result"
    }
   ],
   "source": [
    "le.fit(y_train)"
   ]
  },
  {
   "cell_type": "code",
   "execution_count": 26,
   "metadata": {
    "id": "GDPt0UN_wwTA"
   },
   "outputs": [],
   "source": [
    "y_train = le.transform(y_train)\n",
    "y_test = le.transform(y_test)"
   ]
  },
  {
   "cell_type": "markdown",
   "metadata": {
    "id": "p18Rwi-LwwTB"
   },
   "source": [
    "### Target attribute distribution"
   ]
  },
  {
   "cell_type": "code",
   "execution_count": 27,
   "metadata": {
    "colab": {
     "base_uri": "https://localhost:8080/"
    },
    "id": "kyy3YuhGwwTB",
    "outputId": "c3825192-cd48-4ddd-bc62-9e42689bacc7"
   },
   "outputs": [
    {
     "data": {
      "text/plain": [
       "40728"
      ]
     },
     "execution_count": 27,
     "metadata": {},
     "output_type": "execute_result"
    }
   ],
   "source": [
    "y_train.size"
   ]
  },
  {
   "cell_type": "code",
   "execution_count": 28,
   "metadata": {
    "colab": {
     "base_uri": "https://localhost:8080/"
    },
    "id": "st2LOw8twwTC",
    "outputId": "b72b62c6-da00-44ac-a433-9484348d4647"
   },
   "outputs": [
    {
     "data": {
      "text/plain": [
       "0    81.219309\n",
       "1    18.780691\n",
       "dtype: float64"
      ]
     },
     "execution_count": 28,
     "metadata": {},
     "output_type": "execute_result"
    }
   ],
   "source": [
    "pd.value_counts(y_train)/y_train.size * 100"
   ]
  },
  {
   "cell_type": "markdown",
   "metadata": {
    "id": "ZTVlN73mwwTD"
   },
   "source": [
    "## Checking the data types"
   ]
  },
  {
   "cell_type": "code",
   "execution_count": 29,
   "metadata": {
    "colab": {
     "base_uri": "https://localhost:8080/"
    },
    "id": "vSL6D9q_wwTE",
    "outputId": "c80ed4db-4130-4483-e395-d55f223df85a"
   },
   "outputs": [
    {
     "data": {
      "text/plain": [
       "national_inv          float64\n",
       "lead_time             float64\n",
       "in_transit_qty        float64\n",
       "forecast_3_month      float64\n",
       "forecast_6_month      float64\n",
       "forecast_9_month      float64\n",
       "sales_1_month         float64\n",
       "sales_3_month         float64\n",
       "sales_6_month         float64\n",
       "sales_9_month         float64\n",
       "min_bank              float64\n",
       "potential_issue      category\n",
       "pieces_past_due       float64\n",
       "perf_6_month_avg      float64\n",
       "perf_12_month_avg     float64\n",
       "local_bo_qty          float64\n",
       "deck_risk            category\n",
       "oe_constraint        category\n",
       "ppap_risk            category\n",
       "stop_auto_buy        category\n",
       "rev_stop             category\n",
       "dtype: object"
      ]
     },
     "execution_count": 29,
     "metadata": {},
     "output_type": "execute_result"
    }
   ],
   "source": [
    "X_train.dtypes"
   ]
  },
  {
   "cell_type": "markdown",
   "metadata": {
    "id": "_zLQKrOpwwTF"
   },
   "source": [
    "## Standardize the numerical attributes\n",
    "\n",
    "__Note__: For Decision Tree and Random Forest Numeric attributes need not be standardized. "
   ]
  },
  {
   "cell_type": "markdown",
   "metadata": {
    "id": "AH7U9IEXwwTG"
   },
   "source": [
    "### Store numerical attributes name"
   ]
  },
  {
   "cell_type": "code",
   "execution_count": 30,
   "metadata": {
    "colab": {
     "base_uri": "https://localhost:8080/"
    },
    "id": "nde_4YnawwTG",
    "outputId": "5b29ce3c-cd62-48c3-dcd2-c9fe64bb40b0"
   },
   "outputs": [
    {
     "data": {
      "text/plain": [
       "Index(['national_inv', 'lead_time', 'in_transit_qty', 'forecast_3_month',\n",
       "       'forecast_6_month', 'forecast_9_month', 'sales_1_month',\n",
       "       'sales_3_month', 'sales_6_month', 'sales_9_month', 'min_bank',\n",
       "       'pieces_past_due', 'perf_6_month_avg', 'perf_12_month_avg',\n",
       "       'local_bo_qty'],\n",
       "      dtype='object')"
      ]
     },
     "execution_count": 30,
     "metadata": {},
     "output_type": "execute_result"
    }
   ],
   "source": [
    "num_attr = X_train.select_dtypes(include=['float64', 'int64']).columns\n",
    "num_attr"
   ]
  },
  {
   "cell_type": "markdown",
   "metadata": {
    "collapsed": true,
    "id": "-OWc5L--wwTI"
   },
   "source": [
    "### Using StandardScaler, standardize the numerical attributes "
   ]
  },
  {
   "cell_type": "code",
   "execution_count": 31,
   "metadata": {
    "colab": {
     "base_uri": "https://localhost:8080/"
    },
    "id": "wBLIoeGUwwTK",
    "outputId": "ca8feecd-d8b7-4211-ba16-354bb6ffc459"
   },
   "outputs": [
    {
     "data": {
      "text/plain": [
       "StandardScaler()"
      ]
     },
     "execution_count": 31,
     "metadata": {},
     "output_type": "execute_result"
    }
   ],
   "source": [
    "scaler = StandardScaler()\n",
    "scaler.fit(X_train[num_attr])"
   ]
  },
  {
   "cell_type": "code",
   "execution_count": 32,
   "metadata": {
    "id": "v49-ioHfwwTM"
   },
   "outputs": [],
   "source": [
    "X_train_std = scaler.transform(X_train[num_attr])\n",
    "X_test_std = scaler.transform(X_test[num_attr])"
   ]
  },
  {
   "cell_type": "code",
   "execution_count": 33,
   "metadata": {
    "colab": {
     "base_uri": "https://localhost:8080/"
    },
    "id": "qPRt93fGwwTN",
    "outputId": "e4e1ce28-7fd7-4579-dee2-4acedfcefa48"
   },
   "outputs": [
    {
     "name": "stdout",
     "output_type": "stream",
     "text": [
      "(40728, 15)\n",
      "(17456, 15)\n"
     ]
    }
   ],
   "source": [
    "print(X_train_std.shape)\n",
    "print(X_test_std.shape)"
   ]
  },
  {
   "cell_type": "markdown",
   "metadata": {
    "id": "irAFiFZTwwTP"
   },
   "source": [
    "## Converting Categorical attributes to Numeric attributes"
   ]
  },
  {
   "cell_type": "markdown",
   "metadata": {
    "id": "fKJ5Spf-wwTR"
   },
   "source": [
    "### Store categorical attributes name"
   ]
  },
  {
   "cell_type": "code",
   "execution_count": 34,
   "metadata": {
    "colab": {
     "base_uri": "https://localhost:8080/"
    },
    "id": "M6NjFgQgwwTS",
    "outputId": "17e3c1b7-5db9-4951-a28f-761bc234ad8b"
   },
   "outputs": [
    {
     "data": {
      "text/plain": [
       "Index(['potential_issue', 'deck_risk', 'oe_constraint', 'ppap_risk',\n",
       "       'stop_auto_buy', 'rev_stop'],\n",
       "      dtype='object')"
      ]
     },
     "execution_count": 34,
     "metadata": {},
     "output_type": "execute_result"
    }
   ],
   "source": [
    "cat_attr = X_train.select_dtypes(include=['category']).columns\n",
    "cat_attr"
   ]
  },
  {
   "cell_type": "markdown",
   "metadata": {
    "id": "CkgqYW8LwwTV"
   },
   "source": [
    "### Using OneHotEncoder,  converting Categorical attributes to Numeric attributes "
   ]
  },
  {
   "cell_type": "code",
   "execution_count": 35,
   "metadata": {
    "colab": {
     "base_uri": "https://localhost:8080/"
    },
    "id": "ikZGbzPJwwTV",
    "outputId": "e6c0d73c-81da-4854-b3e4-034df55f06c4"
   },
   "outputs": [
    {
     "data": {
      "text/plain": [
       "OneHotEncoder(drop='first')"
      ]
     },
     "execution_count": 35,
     "metadata": {},
     "output_type": "execute_result"
    }
   ],
   "source": [
    "enc = OneHotEncoder(drop = 'first')\n",
    "\n",
    "enc.fit(X_train[cat_attr])"
   ]
  },
  {
   "cell_type": "code",
   "execution_count": 36,
   "metadata": {
    "id": "6Mprz3Z9wwTX"
   },
   "outputs": [],
   "source": [
    "X_train_ohe=enc.transform(X_train[cat_attr]).toarray()\n",
    "X_test_ohe=enc.transform(X_test[cat_attr]).toarray()"
   ]
  },
  {
   "cell_type": "markdown",
   "metadata": {
    "id": "27s3F5howwTY"
   },
   "source": [
    "## Concatenate attribute\n",
    "Standardised numeric attributes and One hot encoded categorical attributes"
   ]
  },
  {
   "cell_type": "code",
   "execution_count": 37,
   "metadata": {
    "id": "a2gKYMGnwwTZ"
   },
   "outputs": [],
   "source": [
    "X_train_con = np.concatenate([X_train_std, X_train_ohe], axis=1)\n",
    "X_test_con = np.concatenate([X_test_std, X_test_ohe], axis=1)"
   ]
  },
  {
   "cell_type": "code",
   "execution_count": 38,
   "metadata": {
    "colab": {
     "base_uri": "https://localhost:8080/"
    },
    "id": "cqXxnM-dwwTa",
    "outputId": "a4d938a1-a8e2-483a-b80b-36bbf8f357b8"
   },
   "outputs": [
    {
     "data": {
      "text/plain": [
       "(40728, 21)"
      ]
     },
     "execution_count": 38,
     "metadata": {},
     "output_type": "execute_result"
    }
   ],
   "source": [
    "X_train_con.shape"
   ]
  },
  {
   "cell_type": "markdown",
   "metadata": {
    "id": "GqpC_7Z8wwTb"
   },
   "source": [
    "# Model building"
   ]
  },
  {
   "cell_type": "markdown",
   "metadata": {
    "id": "mw-Itw-8wwTc"
   },
   "source": [
    "## RandomForestClassifier Model"
   ]
  },
  {
   "cell_type": "markdown",
   "metadata": {
    "id": "BVi1ftXKwwTd"
   },
   "source": [
    "### Instantiate Model"
   ]
  },
  {
   "cell_type": "code",
   "execution_count": 39,
   "metadata": {
    "id": "FfagP7N3wwTe"
   },
   "outputs": [],
   "source": [
    "clf1 = RandomForestClassifier(n_estimators=100)"
   ]
  },
  {
   "cell_type": "markdown",
   "metadata": {
    "id": "vP9obd_EwwTf"
   },
   "source": [
    "### Train Model"
   ]
  },
  {
   "cell_type": "code",
   "execution_count": 40,
   "metadata": {
    "colab": {
     "base_uri": "https://localhost:8080/"
    },
    "id": "9yOb1CozwwTf",
    "outputId": "4b00a44c-4bd8-4818-c88a-eb32a8664637"
   },
   "outputs": [
    {
     "data": {
      "text/plain": [
       "RandomForestClassifier()"
      ]
     },
     "execution_count": 40,
     "metadata": {},
     "output_type": "execute_result"
    }
   ],
   "source": [
    "clf1.fit(X_train_con, y_train)"
   ]
  },
  {
   "cell_type": "markdown",
   "metadata": {
    "id": "SpByRtjXwwTg"
   },
   "source": [
    "### List important features"
   ]
  },
  {
   "cell_type": "code",
   "execution_count": 41,
   "metadata": {
    "colab": {
     "base_uri": "https://localhost:8080/"
    },
    "id": "Eo5Pf8sQwwTi",
    "outputId": "369705a5-90db-4e25-954a-9136ae68ac27"
   },
   "outputs": [
    {
     "name": "stdout",
     "output_type": "stream",
     "text": [
      "[2.33021677e-01 3.07653188e-02 4.33261269e-02 1.08034509e-01\n",
      " 8.11281919e-02 8.01674754e-02 4.22617198e-02 5.00120694e-02\n",
      " 5.42269941e-02 5.84227774e-02 3.85264401e-02 9.84862030e-03\n",
      " 6.26860398e-02 6.28203428e-02 2.39718368e-02 3.71869054e-04\n",
      " 9.26474245e-03 5.32424060e-05 8.59948752e-03 2.48781664e-03\n",
      " 2.70283677e-06]\n",
      "[ 0  3  4  5 13 12  9  8  7  2  6 10  1 14 11 16 18 19 15 17 20]\n"
     ]
    }
   ],
   "source": [
    "features = data.columns\n",
    "importances = clf1.feature_importances_\n",
    "print(importances)\n",
    "\n",
    "indices = np.argsort(importances)[::-1]\n",
    "print(indices)"
   ]
  },
  {
   "cell_type": "code",
   "execution_count": 42,
   "metadata": {
    "colab": {
     "base_uri": "https://localhost:8080/",
     "height": 295
    },
    "id": "KnkmuM-LwwTj",
    "outputId": "aaa12356-be8b-45e3-a22f-2ddf8a258b18"
   },
   "outputs": [
    {
     "data": {
      "image/png": "[encoded data removed]",
      "text/plain": [
       "<Figure size 432x288 with 1 Axes>"
      ]
     },
     "metadata": {
      "needs_background": "light"
     },
     "output_type": "display_data"
    }
   ],
   "source": [
    "plt.title('Feature Importances')\n",
    "plt.barh(range(len(indices)), importances[indices], color='black')\n",
    "plt.yticks(range(len(indices)), [features[i] for i in indices])\n",
    "plt.xlabel('Relative Importance')\n",
    "plt.show()"
   ]
  },
  {
   "cell_type": "code",
   "execution_count": 43,
   "metadata": {
    "colab": {
     "base_uri": "https://localhost:8080/",
     "height": 148
    },
    "id": "Y99GazhlwwTl",
    "outputId": "0cfbc16f-00bd-41c8-ee7a-44ac387592db"
   },
   "outputs": [
    {
     "data": {
      "text/html": [
       "<div>\n",
       "<style scoped>\n",
       "    .dataframe tbody tr th:only-of-type {\n",
       "        vertical-align: middle;\n",
       "    }\n",
       "\n",
       "    .dataframe tbody tr th {\n",
       "        vertical-align: top;\n",
       "    }\n",
       "\n",
       "    .dataframe thead th {\n",
       "        text-align: right;\n",
       "    }\n",
       "</style>\n",
       "<table border=\"1\" class=\"dataframe\">\n",
       "  <thead>\n",
       "    <tr style=\"text-align: right;\">\n",
       "      <th></th>\n",
       "      <th>0</th>\n",
       "      <th>1</th>\n",
       "      <th>2</th>\n",
       "      <th>3</th>\n",
       "      <th>4</th>\n",
       "      <th>5</th>\n",
       "      <th>6</th>\n",
       "      <th>7</th>\n",
       "      <th>8</th>\n",
       "      <th>9</th>\n",
       "      <th>...</th>\n",
       "      <th>11</th>\n",
       "      <th>12</th>\n",
       "      <th>13</th>\n",
       "      <th>14</th>\n",
       "      <th>15</th>\n",
       "      <th>16</th>\n",
       "      <th>17</th>\n",
       "      <th>18</th>\n",
       "      <th>19</th>\n",
       "      <th>20</th>\n",
       "    </tr>\n",
       "  </thead>\n",
       "  <tbody>\n",
       "    <tr>\n",
       "      <th>0</th>\n",
       "      <td>national_inv</td>\n",
       "      <td>forecast_3_month</td>\n",
       "      <td>forecast_6_month</td>\n",
       "      <td>forecast_9_month</td>\n",
       "      <td>perf_12_month_avg</td>\n",
       "      <td>perf_6_month_avg</td>\n",
       "      <td>sales_9_month</td>\n",
       "      <td>sales_6_month</td>\n",
       "      <td>sales_3_month</td>\n",
       "      <td>in_transit_qty</td>\n",
       "      <td>...</td>\n",
       "      <td>min_bank</td>\n",
       "      <td>lead_time</td>\n",
       "      <td>local_bo_qty</td>\n",
       "      <td>pieces_past_due</td>\n",
       "      <td>deck_risk</td>\n",
       "      <td>ppap_risk</td>\n",
       "      <td>stop_auto_buy</td>\n",
       "      <td>potential_issue</td>\n",
       "      <td>oe_constraint</td>\n",
       "      <td>rev_stop</td>\n",
       "    </tr>\n",
       "    <tr>\n",
       "      <th>1</th>\n",
       "      <td>0.233022</td>\n",
       "      <td>0.108035</td>\n",
       "      <td>0.081128</td>\n",
       "      <td>0.080167</td>\n",
       "      <td>0.06282</td>\n",
       "      <td>0.062686</td>\n",
       "      <td>0.058423</td>\n",
       "      <td>0.054227</td>\n",
       "      <td>0.050012</td>\n",
       "      <td>0.043326</td>\n",
       "      <td>...</td>\n",
       "      <td>0.038526</td>\n",
       "      <td>0.030765</td>\n",
       "      <td>0.023972</td>\n",
       "      <td>0.009849</td>\n",
       "      <td>0.009265</td>\n",
       "      <td>0.008599</td>\n",
       "      <td>0.002488</td>\n",
       "      <td>0.000372</td>\n",
       "      <td>0.000053</td>\n",
       "      <td>0.000003</td>\n",
       "    </tr>\n",
       "  </tbody>\n",
       "</table>\n",
       "<p>2 rows × 21 columns</p>\n",
       "</div>"
      ],
      "text/plain": [
       "             0                 1                 2                 3   \\\n",
       "0  national_inv  forecast_3_month  forecast_6_month  forecast_9_month   \n",
       "1      0.233022          0.108035          0.081128          0.080167   \n",
       "\n",
       "                  4                 5              6              7   \\\n",
       "0  perf_12_month_avg  perf_6_month_avg  sales_9_month  sales_6_month   \n",
       "1            0.06282          0.062686       0.058423       0.054227   \n",
       "\n",
       "              8               9   ...        11         12            13  \\\n",
       "0  sales_3_month  in_transit_qty  ...  min_bank  lead_time  local_bo_qty   \n",
       "1       0.050012        0.043326  ...  0.038526   0.030765      0.023972   \n",
       "\n",
       "                14         15         16             17               18  \\\n",
       "0  pieces_past_due  deck_risk  ppap_risk  stop_auto_buy  potential_issue   \n",
       "1         0.009849   0.009265   0.008599       0.002488         0.000372   \n",
       "\n",
       "              19        20  \n",
       "0  oe_constraint  rev_stop  \n",
       "1       0.000053  0.000003  \n",
       "\n",
       "[2 rows x 21 columns]"
      ]
     },
     "execution_count": 43,
     "metadata": {},
     "output_type": "execute_result"
    }
   ],
   "source": [
    "ind_attr_names = np.concatenate((num_attr, cat_attr), axis=0)\n",
    "\n",
    "pd.DataFrame([ind_attr_names[indices], np.sort(importances)[::-1]])"
   ]
  },
  {
   "cell_type": "code",
   "execution_count": 44,
   "metadata": {
    "colab": {
     "base_uri": "https://localhost:8080/"
    },
    "id": "TK58xzhnwwTm",
    "outputId": "66665aba-03ea-4f01-e151-1c172255d1f0"
   },
   "outputs": [
    {
     "data": {
      "text/plain": [
       "array(['national_inv', 'lead_time', 'in_transit_qty', 'forecast_3_month',\n",
       "       'forecast_6_month', 'forecast_9_month', 'sales_1_month',\n",
       "       'sales_3_month', 'sales_6_month', 'sales_9_month', 'min_bank',\n",
       "       'pieces_past_due', 'perf_6_month_avg', 'perf_12_month_avg',\n",
       "       'local_bo_qty', 'potential_issue', 'deck_risk', 'oe_constraint',\n",
       "       'ppap_risk', 'stop_auto_buy', 'rev_stop'], dtype=object)"
      ]
     },
     "execution_count": 44,
     "metadata": {},
     "output_type": "execute_result"
    }
   ],
   "source": [
    "ind_attr_names"
   ]
  },
  {
   "cell_type": "code",
   "execution_count": 45,
   "metadata": {
    "colab": {
     "base_uri": "https://localhost:8080/",
     "height": 148
    },
    "id": "RU-5k-_gwwTq",
    "outputId": "325bf907-f34c-475e-e709-677be747dc13"
   },
   "outputs": [
    {
     "data": {
      "text/html": [
       "<div>\n",
       "<style scoped>\n",
       "    .dataframe tbody tr th:only-of-type {\n",
       "        vertical-align: middle;\n",
       "    }\n",
       "\n",
       "    .dataframe tbody tr th {\n",
       "        vertical-align: top;\n",
       "    }\n",
       "\n",
       "    .dataframe thead th {\n",
       "        text-align: right;\n",
       "    }\n",
       "</style>\n",
       "<table border=\"1\" class=\"dataframe\">\n",
       "  <thead>\n",
       "    <tr style=\"text-align: right;\">\n",
       "      <th></th>\n",
       "      <th>0</th>\n",
       "      <th>1</th>\n",
       "      <th>2</th>\n",
       "      <th>3</th>\n",
       "      <th>4</th>\n",
       "      <th>5</th>\n",
       "      <th>6</th>\n",
       "      <th>7</th>\n",
       "      <th>8</th>\n",
       "      <th>9</th>\n",
       "      <th>...</th>\n",
       "      <th>11</th>\n",
       "      <th>12</th>\n",
       "      <th>13</th>\n",
       "      <th>14</th>\n",
       "      <th>15</th>\n",
       "      <th>16</th>\n",
       "      <th>17</th>\n",
       "      <th>18</th>\n",
       "      <th>19</th>\n",
       "      <th>20</th>\n",
       "    </tr>\n",
       "  </thead>\n",
       "  <tbody>\n",
       "    <tr>\n",
       "      <th>0</th>\n",
       "      <td>national_inv</td>\n",
       "      <td>forecast_3_month</td>\n",
       "      <td>forecast_6_month</td>\n",
       "      <td>forecast_9_month</td>\n",
       "      <td>perf_12_month_avg</td>\n",
       "      <td>perf_6_month_avg</td>\n",
       "      <td>sales_9_month</td>\n",
       "      <td>sales_6_month</td>\n",
       "      <td>sales_3_month</td>\n",
       "      <td>in_transit_qty</td>\n",
       "      <td>...</td>\n",
       "      <td>min_bank</td>\n",
       "      <td>lead_time</td>\n",
       "      <td>local_bo_qty</td>\n",
       "      <td>pieces_past_due</td>\n",
       "      <td>deck_risk</td>\n",
       "      <td>ppap_risk</td>\n",
       "      <td>stop_auto_buy</td>\n",
       "      <td>potential_issue</td>\n",
       "      <td>oe_constraint</td>\n",
       "      <td>rev_stop</td>\n",
       "    </tr>\n",
       "    <tr>\n",
       "      <th>1</th>\n",
       "      <td>0.233022</td>\n",
       "      <td>0.108035</td>\n",
       "      <td>0.081128</td>\n",
       "      <td>0.080167</td>\n",
       "      <td>0.06282</td>\n",
       "      <td>0.062686</td>\n",
       "      <td>0.058423</td>\n",
       "      <td>0.054227</td>\n",
       "      <td>0.050012</td>\n",
       "      <td>0.043326</td>\n",
       "      <td>...</td>\n",
       "      <td>0.038526</td>\n",
       "      <td>0.030765</td>\n",
       "      <td>0.023972</td>\n",
       "      <td>0.009849</td>\n",
       "      <td>0.009265</td>\n",
       "      <td>0.008599</td>\n",
       "      <td>0.002488</td>\n",
       "      <td>0.000372</td>\n",
       "      <td>0.000053</td>\n",
       "      <td>0.000003</td>\n",
       "    </tr>\n",
       "  </tbody>\n",
       "</table>\n",
       "<p>2 rows × 21 columns</p>\n",
       "</div>"
      ],
      "text/plain": [
       "             0                 1                 2                 3   \\\n",
       "0  national_inv  forecast_3_month  forecast_6_month  forecast_9_month   \n",
       "1      0.233022          0.108035          0.081128          0.080167   \n",
       "\n",
       "                  4                 5              6              7   \\\n",
       "0  perf_12_month_avg  perf_6_month_avg  sales_9_month  sales_6_month   \n",
       "1            0.06282          0.062686       0.058423       0.054227   \n",
       "\n",
       "              8               9   ...        11         12            13  \\\n",
       "0  sales_3_month  in_transit_qty  ...  min_bank  lead_time  local_bo_qty   \n",
       "1       0.050012        0.043326  ...  0.038526   0.030765      0.023972   \n",
       "\n",
       "                14         15         16             17               18  \\\n",
       "0  pieces_past_due  deck_risk  ppap_risk  stop_auto_buy  potential_issue   \n",
       "1         0.009849   0.009265   0.008599       0.002488         0.000372   \n",
       "\n",
       "              19        20  \n",
       "0  oe_constraint  rev_stop  \n",
       "1       0.000053  0.000003  \n",
       "\n",
       "[2 rows x 21 columns]"
      ]
     },
     "execution_count": 45,
     "metadata": {},
     "output_type": "execute_result"
    }
   ],
   "source": [
    "pd.DataFrame([ind_attr_names[indices], np.sort(importances)[::-1]])"
   ]
  },
  {
   "cell_type": "markdown",
   "metadata": {
    "id": "TBwhKNVGwwTr"
   },
   "source": [
    "### Predict"
   ]
  },
  {
   "cell_type": "code",
   "execution_count": 46,
   "metadata": {
    "id": "PZfM5cwkwwTt"
   },
   "outputs": [],
   "source": [
    "train_pred = clf1.predict(X_train_con)\n",
    "test_pred = clf1.predict(X_test_con)"
   ]
  },
  {
   "cell_type": "markdown",
   "metadata": {
    "id": "EWe1cGrHwwTu"
   },
   "source": [
    "### Evaluate"
   ]
  },
  {
   "cell_type": "code",
   "execution_count": 47,
   "metadata": {
    "colab": {
     "base_uri": "https://localhost:8080/"
    },
    "id": "Tj2727JWwwTu",
    "outputId": "2dad9b62-37b4-4f86-84c2-95f9b16717bf"
   },
   "outputs": [
    {
     "name": "stdout",
     "output_type": "stream",
     "text": [
      "--Train--\n",
      "Confusion Matrix \n",
      " [[33045    34]\n",
      " [   57  7592]]\n",
      "Accurcay :  0.9977656648988411\n",
      "Recall   :  0.9925480454961433\n",
      "Precision:  0.9955415683189089\n",
      "--Test--\n",
      "Confusion Matrix \n",
      " [[13574   562]\n",
      " [  602  2718]]\n",
      "Accurcay :  0.9333180568285976\n",
      "Recall   :  0.8186746987951807\n",
      "Precision:  0.8286585365853658\n"
     ]
    }
   ],
   "source": [
    "print(\"--Train--\")\n",
    "evaluate_model(y_train, train_pred)\n",
    "print(\"--Test--\")\n",
    "evaluate_model(y_test, test_pred)"
   ]
  },
  {
   "cell_type": "markdown",
   "metadata": {
    "id": "myBPaa3zwwTv"
   },
   "source": [
    "## Up-sampling \n",
    "\n",
    "    Using SMOTE (Synthetic Minority Over-sampling Technique)\n",
    "    \n",
    " <img src=\"smote.png\">"
   ]
  },
  {
   "cell_type": "markdown",
   "metadata": {
    "id": "z5MBdBvlwwTw"
   },
   "source": [
    "### Instantiate SMOTE"
   ]
  },
  {
   "cell_type": "code",
   "execution_count": 51,
   "metadata": {
    "id": "cFHS9BQZwwTx"
   },
   "outputs": [],
   "source": [
    "smote = SMOTE(random_state=123)"
   ]
  },
  {
   "cell_type": "markdown",
   "metadata": {
    "id": "O6I8RcQywwTx"
   },
   "source": [
    "### Fit Sample"
   ]
  },
  {
   "cell_type": "code",
   "execution_count": 53,
   "metadata": {
    "colab": {
     "base_uri": "https://localhost:8080/"
    },
    "id": "SqxgliVfwwTy",
    "outputId": "436f281b-eabe-4d0c-be3c-3a5c35405451"
   },
   "outputs": [],
   "source": [
    "X_train_sm, y_train_sm = smote.fit_resample(X_train_con, y_train)"
   ]
  },
  {
   "cell_type": "code",
   "execution_count": 54,
   "metadata": {
    "colab": {
     "base_uri": "https://localhost:8080/"
    },
    "id": "XhE5Z5HCwwTz",
    "outputId": "31767560-dc0e-4f37-ac3a-db3655a52bd5"
   },
   "outputs": [
    {
     "data": {
      "text/plain": [
       "(array([0, 1]), array([33079,  7649], dtype=int64))"
      ]
     },
     "execution_count": 54,
     "metadata": {},
     "output_type": "execute_result"
    }
   ],
   "source": [
    "np.unique(y_train, return_counts= True)"
   ]
  },
  {
   "cell_type": "code",
   "execution_count": 55,
   "metadata": {
    "colab": {
     "base_uri": "https://localhost:8080/"
    },
    "id": "3QOj4YswwwTz",
    "outputId": "2478544c-e6a5-4109-9fcd-20859e56e136",
    "scrolled": true
   },
   "outputs": [
    {
     "data": {
      "text/plain": [
       "(array([0, 1]), array([33079, 33079], dtype=int64))"
      ]
     },
     "execution_count": 55,
     "metadata": {},
     "output_type": "execute_result"
    }
   ],
   "source": [
    "np.unique(y_train_sm, return_counts= True)"
   ]
  },
  {
   "cell_type": "markdown",
   "metadata": {
    "id": "oBIcdRUVwwT0"
   },
   "source": [
    "## RandomForestClassifier with up-sample data"
   ]
  },
  {
   "cell_type": "markdown",
   "metadata": {
    "id": "28ex93B1wwT1"
   },
   "source": [
    "### Instantiate Model"
   ]
  },
  {
   "cell_type": "code",
   "execution_count": 56,
   "metadata": {
    "id": "1Zp0wcPYwwT2"
   },
   "outputs": [],
   "source": [
    "clf2 = RandomForestClassifier()"
   ]
  },
  {
   "cell_type": "markdown",
   "metadata": {
    "id": "InBhc1jIwwT3"
   },
   "source": [
    "### Train the model"
   ]
  },
  {
   "cell_type": "code",
   "execution_count": 57,
   "metadata": {
    "colab": {
     "base_uri": "https://localhost:8080/"
    },
    "id": "vceq0vRnwwT4",
    "outputId": "4a902f9f-c432-467a-c45e-dac70b8c4db1"
   },
   "outputs": [
    {
     "data": {
      "text/plain": [
       "RandomForestClassifier()"
      ]
     },
     "execution_count": 57,
     "metadata": {},
     "output_type": "execute_result"
    }
   ],
   "source": [
    "clf2.fit(X_train_sm, y_train_sm)"
   ]
  },
  {
   "cell_type": "markdown",
   "metadata": {
    "id": "xyb7LjLYwwT5"
   },
   "source": [
    "### List important features"
   ]
  },
  {
   "cell_type": "code",
   "execution_count": 58,
   "metadata": {
    "colab": {
     "base_uri": "https://localhost:8080/"
    },
    "id": "qt0gV0Q3wwT7",
    "outputId": "721e707b-33c6-43bc-ec32-ad42c36c2085"
   },
   "outputs": [
    {
     "name": "stdout",
     "output_type": "stream",
     "text": [
      "[2.10568836e-01 2.62072296e-02 3.85729611e-02 1.60505123e-01\n",
      " 1.20050291e-01 1.05453837e-01 4.82998048e-02 4.74494692e-02\n",
      " 4.20229328e-02 4.75495331e-02 2.78334564e-02 6.48446006e-03\n",
      " 4.44164303e-02 4.40885499e-02 1.58067499e-02 1.51297449e-04\n",
      " 6.44204204e-03 5.26820093e-05 6.12028921e-03 1.92233703e-03\n",
      " 1.68784594e-06]\n",
      "[ 0  3  4  5  6  9  7 12 13  8  2 10  1 14 11 16 18 19 15 17 20]\n"
     ]
    }
   ],
   "source": [
    "importances = clf2.feature_importances_\n",
    "print(importances)\n",
    "\n",
    "indices = np.argsort(importances)[::-1]\n",
    "print(indices)"
   ]
  },
  {
   "cell_type": "code",
   "execution_count": 59,
   "metadata": {
    "colab": {
     "base_uri": "https://localhost:8080/",
     "height": 148
    },
    "id": "fkL-bggywwT8",
    "outputId": "e3c8776e-2d94-443b-8707-9d373fd9624e"
   },
   "outputs": [
    {
     "data": {
      "text/html": [
       "<div>\n",
       "<style scoped>\n",
       "    .dataframe tbody tr th:only-of-type {\n",
       "        vertical-align: middle;\n",
       "    }\n",
       "\n",
       "    .dataframe tbody tr th {\n",
       "        vertical-align: top;\n",
       "    }\n",
       "\n",
       "    .dataframe thead th {\n",
       "        text-align: right;\n",
       "    }\n",
       "</style>\n",
       "<table border=\"1\" class=\"dataframe\">\n",
       "  <thead>\n",
       "    <tr style=\"text-align: right;\">\n",
       "      <th></th>\n",
       "      <th>0</th>\n",
       "      <th>1</th>\n",
       "      <th>2</th>\n",
       "      <th>3</th>\n",
       "      <th>4</th>\n",
       "      <th>5</th>\n",
       "      <th>6</th>\n",
       "      <th>7</th>\n",
       "      <th>8</th>\n",
       "      <th>9</th>\n",
       "      <th>...</th>\n",
       "      <th>11</th>\n",
       "      <th>12</th>\n",
       "      <th>13</th>\n",
       "      <th>14</th>\n",
       "      <th>15</th>\n",
       "      <th>16</th>\n",
       "      <th>17</th>\n",
       "      <th>18</th>\n",
       "      <th>19</th>\n",
       "      <th>20</th>\n",
       "    </tr>\n",
       "  </thead>\n",
       "  <tbody>\n",
       "    <tr>\n",
       "      <th>0</th>\n",
       "      <td>national_inv</td>\n",
       "      <td>forecast_3_month</td>\n",
       "      <td>forecast_6_month</td>\n",
       "      <td>forecast_9_month</td>\n",
       "      <td>sales_1_month</td>\n",
       "      <td>sales_9_month</td>\n",
       "      <td>sales_3_month</td>\n",
       "      <td>perf_6_month_avg</td>\n",
       "      <td>perf_12_month_avg</td>\n",
       "      <td>sales_6_month</td>\n",
       "      <td>...</td>\n",
       "      <td>min_bank</td>\n",
       "      <td>lead_time</td>\n",
       "      <td>local_bo_qty</td>\n",
       "      <td>pieces_past_due</td>\n",
       "      <td>deck_risk</td>\n",
       "      <td>ppap_risk</td>\n",
       "      <td>stop_auto_buy</td>\n",
       "      <td>potential_issue</td>\n",
       "      <td>oe_constraint</td>\n",
       "      <td>rev_stop</td>\n",
       "    </tr>\n",
       "    <tr>\n",
       "      <th>1</th>\n",
       "      <td>0.210569</td>\n",
       "      <td>0.160505</td>\n",
       "      <td>0.12005</td>\n",
       "      <td>0.105454</td>\n",
       "      <td>0.0483</td>\n",
       "      <td>0.04755</td>\n",
       "      <td>0.047449</td>\n",
       "      <td>0.044416</td>\n",
       "      <td>0.044089</td>\n",
       "      <td>0.042023</td>\n",
       "      <td>...</td>\n",
       "      <td>0.027833</td>\n",
       "      <td>0.026207</td>\n",
       "      <td>0.015807</td>\n",
       "      <td>0.006484</td>\n",
       "      <td>0.006442</td>\n",
       "      <td>0.00612</td>\n",
       "      <td>0.001922</td>\n",
       "      <td>0.000151</td>\n",
       "      <td>0.000053</td>\n",
       "      <td>0.000002</td>\n",
       "    </tr>\n",
       "  </tbody>\n",
       "</table>\n",
       "<p>2 rows × 21 columns</p>\n",
       "</div>"
      ],
      "text/plain": [
       "             0                 1                 2                 3   \\\n",
       "0  national_inv  forecast_3_month  forecast_6_month  forecast_9_month   \n",
       "1      0.210569          0.160505           0.12005          0.105454   \n",
       "\n",
       "              4              5              6                 7   \\\n",
       "0  sales_1_month  sales_9_month  sales_3_month  perf_6_month_avg   \n",
       "1         0.0483        0.04755       0.047449          0.044416   \n",
       "\n",
       "                  8              9   ...        11         12            13  \\\n",
       "0  perf_12_month_avg  sales_6_month  ...  min_bank  lead_time  local_bo_qty   \n",
       "1           0.044089       0.042023  ...  0.027833   0.026207      0.015807   \n",
       "\n",
       "                14         15         16             17               18  \\\n",
       "0  pieces_past_due  deck_risk  ppap_risk  stop_auto_buy  potential_issue   \n",
       "1         0.006484   0.006442    0.00612       0.001922         0.000151   \n",
       "\n",
       "              19        20  \n",
       "0  oe_constraint  rev_stop  \n",
       "1       0.000053  0.000002  \n",
       "\n",
       "[2 rows x 21 columns]"
      ]
     },
     "execution_count": 59,
     "metadata": {},
     "output_type": "execute_result"
    }
   ],
   "source": [
    "pd.DataFrame([ind_attr_names[indices], np.sort(importances)[::-1]])"
   ]
  },
  {
   "cell_type": "markdown",
   "metadata": {
    "id": "j01eF5RFwwT9"
   },
   "source": [
    "### Predict"
   ]
  },
  {
   "cell_type": "code",
   "execution_count": 60,
   "metadata": {
    "id": "NNBVa6LUwwT-"
   },
   "outputs": [],
   "source": [
    "train_pred = clf2.predict(X_train_sm)\n",
    "test_pred = clf2.predict(X_test_con)"
   ]
  },
  {
   "cell_type": "markdown",
   "metadata": {
    "id": "eX57RYHVwwT_"
   },
   "source": [
    "### Evaluate"
   ]
  },
  {
   "cell_type": "code",
   "execution_count": 61,
   "metadata": {
    "colab": {
     "base_uri": "https://localhost:8080/"
    },
    "id": "EgybKl4ZwwUA",
    "outputId": "4d5dfbfe-3a77-4b92-e69d-c8958cfdecec"
   },
   "outputs": [
    {
     "name": "stdout",
     "output_type": "stream",
     "text": [
      "--Train--\n",
      "Confusion Matrix \n",
      " [[33020    59]\n",
      " [   50 33029]]\n",
      "Accurcay :  0.9983524290335258\n",
      "Recall   :  0.9984884670032347\n",
      "Precision:  0.9982168762088974\n",
      "--Test--\n",
      "Confusion Matrix \n",
      " [[13288   848]\n",
      " [  421  2899]]\n",
      "Accurcay :  0.9273029330889092\n",
      "Recall   :  0.8731927710843373\n",
      "Precision:  0.7736856151587937\n"
     ]
    }
   ],
   "source": [
    "print(\"--Train--\")\n",
    "evaluate_model(y_train_sm, train_pred)\n",
    "print(\"--Test--\")\n",
    "evaluate_model(y_test, test_pred)"
   ]
  },
  {
   "cell_type": "markdown",
   "metadata": {
    "id": "jijH0po4wwUC"
   },
   "source": [
    "## Hyper-parameter tuning using Grid Search and Cross Validation"
   ]
  },
  {
   "cell_type": "markdown",
   "metadata": {
    "id": "j-TyhBl7wwUD"
   },
   "source": [
    "### Parameters to test"
   ]
  },
  {
   "cell_type": "code",
   "execution_count": 62,
   "metadata": {
    "id": "jvScXZkAwwUF"
   },
   "outputs": [],
   "source": [
    "param_grid = {\"n_estimators\" : [50, 100],   \n",
    "              \"max_depth\" : [1,5],          \n",
    "              \"max_features\" : [3, 5],      \n",
    "              \"min_samples_leaf\" : [1, 2, 4]}   "
   ]
  },
  {
   "cell_type": "markdown",
   "metadata": {
    "id": "87itpQ1zwwUH"
   },
   "source": [
    "### Instantiate Decision Tree"
   ]
  },
  {
   "cell_type": "code",
   "execution_count": 63,
   "metadata": {
    "id": "dl1MuQ-EwwUI"
   },
   "outputs": [],
   "source": [
    "clf3 = RandomForestClassifier()"
   ]
  },
  {
   "cell_type": "markdown",
   "metadata": {
    "id": "oehOVBzHwwUI"
   },
   "source": [
    "### Instantiate GridSearchCV "
   ]
  },
  {
   "cell_type": "code",
   "execution_count": 64,
   "metadata": {
    "id": "zwPYuLaHwwUJ"
   },
   "outputs": [],
   "source": [
    "clf_grid = GridSearchCV(clf2, param_grid, cv=2)"
   ]
  },
  {
   "cell_type": "markdown",
   "metadata": {
    "id": "JZE-reGpwwUK"
   },
   "source": [
    "### Train DT using GridSearchCV"
   ]
  },
  {
   "cell_type": "code",
   "execution_count": 65,
   "metadata": {
    "colab": {
     "base_uri": "https://localhost:8080/"
    },
    "id": "15gnW6XowwUL",
    "outputId": "5aaf49c0-c725-4dac-aaa5-58236e761526"
   },
   "outputs": [
    {
     "data": {
      "text/plain": [
       "GridSearchCV(cv=2, estimator=RandomForestClassifier(),\n",
       "             param_grid={'max_depth': [1, 5], 'max_features': [3, 5],\n",
       "                         'min_samples_leaf': [1, 2, 4],\n",
       "                         'n_estimators': [50, 100]})"
      ]
     },
     "execution_count": 65,
     "metadata": {},
     "output_type": "execute_result"
    }
   ],
   "source": [
    "clf_grid.fit(X_train_sm, y_train_sm)"
   ]
  },
  {
   "cell_type": "markdown",
   "metadata": {
    "id": "bnNPXY6bwwUM"
   },
   "source": [
    "### Best Params"
   ]
  },
  {
   "cell_type": "code",
   "execution_count": 66,
   "metadata": {
    "colab": {
     "base_uri": "https://localhost:8080/"
    },
    "id": "OM-LqemCwwUN",
    "outputId": "6887bef4-2d04-4c1f-f3f0-225d0ebe193c",
    "scrolled": true
   },
   "outputs": [
    {
     "data": {
      "text/plain": [
       "{'max_depth': 5, 'max_features': 5, 'min_samples_leaf': 1, 'n_estimators': 50}"
      ]
     },
     "execution_count": 66,
     "metadata": {},
     "output_type": "execute_result"
    }
   ],
   "source": [
    "clf_grid.best_params_"
   ]
  },
  {
   "cell_type": "markdown",
   "metadata": {
    "id": "hKzyWAaawwUO"
   },
   "source": [
    "### Predict "
   ]
  },
  {
   "cell_type": "code",
   "execution_count": 67,
   "metadata": {
    "id": "aJ3F85VjwwUP"
   },
   "outputs": [],
   "source": [
    "train_pred = clf_grid.predict(X_train_sm)\n",
    "test_pred = clf_grid.predict(X_test_con)"
   ]
  },
  {
   "cell_type": "markdown",
   "metadata": {
    "id": "TV4YtZvzwwUQ"
   },
   "source": [
    "### Evaluate"
   ]
  },
  {
   "cell_type": "code",
   "execution_count": 68,
   "metadata": {
    "colab": {
     "base_uri": "https://localhost:8080/"
    },
    "id": "_9EtrZvJwwUR",
    "outputId": "2feb0582-ae26-4623-f70a-b17b92f1d510"
   },
   "outputs": [
    {
     "name": "stdout",
     "output_type": "stream",
     "text": [
      "--Train--\n",
      "Confusion Matrix \n",
      " [[28008  5071]\n",
      " [ 3138 29941]]\n",
      "Accurcay :  0.8759182562955349\n",
      "Recall   :  0.9051361891230085\n",
      "Precision:  0.8551639437907004\n",
      "--Test--\n",
      "Confusion Matrix \n",
      " [[11923  2213]\n",
      " [  503  2817]]\n",
      "Accurcay :  0.8444087992667277\n",
      "Recall   :  0.8484939759036144\n",
      "Precision:  0.5600397614314115\n"
     ]
    }
   ],
   "source": [
    "print(\"--Train--\")\n",
    "evaluate_model(y_train_sm, train_pred)\n",
    "print(\"--Test--\")\n",
    "evaluate_model(y_test, test_pred)"
   ]
  },
  {
   "cell_type": "markdown",
   "metadata": {
    "id": "TOejszhNwwUS"
   },
   "source": [
    "## Building RandomForestClassifier Model using Variable Importance"
   ]
  },
  {
   "cell_type": "code",
   "execution_count": 69,
   "metadata": {
    "colab": {
     "base_uri": "https://localhost:8080/"
    },
    "id": "bPe7d7fVwwUT",
    "outputId": "1f665b92-1431-4965-fce6-f53630c75739"
   },
   "outputs": [
    {
     "name": "stdout",
     "output_type": "stream",
     "text": [
      "[ 0  4  3  5  6  2  9  7  8 14  1 10 12 11 13 18 16 19 15 17 20]\n",
      "[0 4 3 5 6]\n"
     ]
    }
   ],
   "source": [
    "importances = clf_grid.best_estimator_.feature_importances_\n",
    "indices = np.argsort(importances)[::-1]\n",
    "print(indices)\n",
    "\n",
    "select = indices[0:5]\n",
    "print(select)"
   ]
  },
  {
   "cell_type": "markdown",
   "metadata": {
    "id": "du6XYusmwwUV"
   },
   "source": [
    "### Instantiate Model"
   ]
  },
  {
   "cell_type": "code",
   "execution_count": 70,
   "metadata": {
    "id": "rf-4yiOswwUX"
   },
   "outputs": [],
   "source": [
    "clf4 = RandomForestClassifier(max_depth=5, max_features=5,\n",
    "                              min_samples_leaf=2, n_estimators=100)"
   ]
  },
  {
   "cell_type": "markdown",
   "metadata": {
    "id": "WpHq9iIvwwUY"
   },
   "source": [
    "### Train the model"
   ]
  },
  {
   "cell_type": "code",
   "execution_count": 71,
   "metadata": {
    "colab": {
     "base_uri": "https://localhost:8080/"
    },
    "id": "vhgjCuMawwUZ",
    "outputId": "8e27c7d8-657f-4bb5-c0d4-5aba420bc029"
   },
   "outputs": [
    {
     "data": {
      "text/plain": [
       "RandomForestClassifier(max_depth=5, max_features=5, min_samples_leaf=2)"
      ]
     },
     "execution_count": 71,
     "metadata": {},
     "output_type": "execute_result"
    }
   ],
   "source": [
    "clf4.fit(X_train_sm[:,select], y_train_sm)"
   ]
  },
  {
   "cell_type": "markdown",
   "metadata": {
    "id": "uCtKx8UzwwUb"
   },
   "source": [
    "### Predict"
   ]
  },
  {
   "cell_type": "code",
   "execution_count": 72,
   "metadata": {
    "id": "1Xg9RdKywwUc"
   },
   "outputs": [],
   "source": [
    "train_pred = clf4.predict(X_train_sm[:,select])\n",
    "test_pred = clf4.predict(X_test_con[:,select])"
   ]
  },
  {
   "cell_type": "markdown",
   "metadata": {
    "id": "dWqHMYsewwUe"
   },
   "source": [
    "### Evaluate"
   ]
  },
  {
   "cell_type": "code",
   "execution_count": 73,
   "metadata": {
    "colab": {
     "base_uri": "https://localhost:8080/"
    },
    "id": "Tyd6buzWwwUf",
    "outputId": "7e78c18f-d22d-42e5-ef3e-52b6defccbac"
   },
   "outputs": [
    {
     "name": "stdout",
     "output_type": "stream",
     "text": [
      "--Train--\n",
      "Confusion Matrix \n",
      " [[29393  3686]\n",
      " [ 4088 28991]]\n",
      "Accurcay :  0.8824934248314641\n",
      "Recall   :  0.8764170621844675\n",
      "Precision:  0.8871989472717814\n",
      "--Test--\n",
      "Confusion Matrix \n",
      " [[12546  1590]\n",
      " [  655  2665]]\n",
      "Accurcay :  0.8713909257561869\n",
      "Recall   :  0.802710843373494\n",
      "Precision:  0.6263219741480611\n"
     ]
    }
   ],
   "source": [
    "print(\"--Train--\")\n",
    "evaluate_model(y_train_sm, train_pred)\n",
    "print(\"--Test--\")\n",
    "evaluate_model(y_test, test_pred)"
   ]
  },
  {
   "cell_type": "code",
   "execution_count": 68,
   "metadata": {
    "id": "hq0sibVJwwUg"
   },
   "outputs": [],
   "source": []
  },
  {
   "cell_type": "code",
   "execution_count": 68,
   "metadata": {
    "id": "-ZNYdpLdwwUh"
   },
   "outputs": [],
   "source": []
  },
  {
   "cell_type": "code",
   "execution_count": null,
   "metadata": {
    "id": "1QdJu6xbwwUi"
   },
   "outputs": [],
   "source": []
  }
 ],
 "metadata": {
  "colab": {
   "collapsed_sections": [],
   "name": "20210511_Batch94a_CSE 7405o_Lab_Ensembles_RandomForest_DS.ipynb",
   "provenance": []
  },
  "kernelspec": {
   "display_name": "Python 3 (ipykernel)",
   "language": "python",
   "name": "python3"
  },
  "language_info": {
   "codemirror_mode": {
    "name": "ipython",
    "version": 3
   },
   "file_extension": ".py",
   "mimetype": "text/x-python",
   "name": "python",
   "nbconvert_exporter": "python",
   "pygments_lexer": "ipython3",
   "version": "3.8.5"
  },
  "toc": {
   "base_numbering": 1,
   "nav_menu": {},
   "number_sections": true,
   "sideBar": true,
   "skip_h1_title": false,
   "title_cell": "Table of Contents",
   "title_sidebar": "Contents",
   "toc_cell": true,
   "toc_position": {
    "height": "calc(100% - 180px)",
    "left": "10px",
    "top": "150px",
    "width": "165px"
   },
   "toc_section_display": true,
   "toc_window_display": false
  }
 },
 "nbformat": 4,
 "nbformat_minor": 1
}
