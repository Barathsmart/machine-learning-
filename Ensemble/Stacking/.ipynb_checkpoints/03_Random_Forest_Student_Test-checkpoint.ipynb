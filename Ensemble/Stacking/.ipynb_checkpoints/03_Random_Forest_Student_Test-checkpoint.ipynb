{
 "cells": [
  {
   "cell_type": "markdown",
   "metadata": {
    "toc": true
   },
   "source": [
    "<h1>Table of Contents<span class=\"tocSkip\"></span></h1>\n",
    "<div class=\"toc\"><ul class=\"toc-item\"><li><span><a href=\"#Problem\" data-toc-modified-id=\"Problem-1\"><span class=\"toc-item-num\">1&nbsp;&nbsp;</span>Problem</a></span><ul class=\"toc-item\"><li><span><a href=\"#What-is-a-Backorder?\" data-toc-modified-id=\"What-is-a-Backorder?-1.1\"><span class=\"toc-item-num\">1.1&nbsp;&nbsp;</span>What is a Backorder?</a></span></li><li><span><a href=\"#Data-description\" data-toc-modified-id=\"Data-description-1.2\"><span class=\"toc-item-num\">1.2&nbsp;&nbsp;</span>Data description</a></span></li></ul></li><li><span><a href=\"#Loading-the-required-libraries\" data-toc-modified-id=\"Loading-the-required-libraries-2\"><span class=\"toc-item-num\">2&nbsp;&nbsp;</span>Loading the required libraries</a></span></li><li><span><a href=\"#Identify-Right-Error-Metrics\" data-toc-modified-id=\"Identify-Right-Error-Metrics-3\"><span class=\"toc-item-num\">3&nbsp;&nbsp;</span>Identify Right Error Metrics</a></span><ul class=\"toc-item\"><li><span><a href=\"#Confusion-Matrix\" data-toc-modified-id=\"Confusion-Matrix-3.1\"><span class=\"toc-item-num\">3.1&nbsp;&nbsp;</span>Confusion Matrix</a></span></li><li><span><a href=\"#Function-to-calculate-required-metrics\" data-toc-modified-id=\"Function-to-calculate-required-metrics-3.2\"><span class=\"toc-item-num\">3.2&nbsp;&nbsp;</span>Function to calculate required metrics</a></span></li></ul></li><li><span><a href=\"#Loading-the-data\" data-toc-modified-id=\"Loading-the-data-4\"><span class=\"toc-item-num\">4&nbsp;&nbsp;</span>Loading the data</a></span></li><li><span><a href=\"#Understand-the-Data---Exploratory-Data-Analysis-(EDA)\" data-toc-modified-id=\"Understand-the-Data---Exploratory-Data-Analysis-(EDA)-5\"><span class=\"toc-item-num\">5&nbsp;&nbsp;</span>Understand the Data - Exploratory Data Analysis (EDA)</a></span><ul class=\"toc-item\"><li><span><a href=\"#Number-row-and-columns\" data-toc-modified-id=\"Number-row-and-columns-5.1\"><span class=\"toc-item-num\">5.1&nbsp;&nbsp;</span>Number row and columns</a></span></li><li><span><a href=\"#First-and-last-5-rows\" data-toc-modified-id=\"First-and-last-5-rows-5.2\"><span class=\"toc-item-num\">5.2&nbsp;&nbsp;</span>First and last 5 rows</a></span></li><li><span><a href=\"#Statistic-summary\" data-toc-modified-id=\"Statistic-summary-5.3\"><span class=\"toc-item-num\">5.3&nbsp;&nbsp;</span>Statistic summary</a></span></li><li><span><a href=\"#Data-type\" data-toc-modified-id=\"Data-type-5.4\"><span class=\"toc-item-num\">5.4&nbsp;&nbsp;</span>Data type</a></span></li></ul></li><li><span><a href=\"#Data-pre-processing\" data-toc-modified-id=\"Data-pre-processing-6\"><span class=\"toc-item-num\">6&nbsp;&nbsp;</span>Data pre-processing</a></span><ul class=\"toc-item\"><li><span><a href=\"#Convert-all-the-attributes-to-appropriate-type\" data-toc-modified-id=\"Convert-all-the-attributes-to-appropriate-type-6.1\"><span class=\"toc-item-num\">6.1&nbsp;&nbsp;</span>Convert all the attributes to appropriate type</a></span><ul class=\"toc-item\"><li><span><a href=\"#Re-display-data-type-of-each-variable\" data-toc-modified-id=\"Re-display-data-type-of-each-variable-6.1.1\"><span class=\"toc-item-num\">6.1.1&nbsp;&nbsp;</span>Re-display data type of each variable</a></span></li><li><span><a href=\"#Statistic-summary\" data-toc-modified-id=\"Statistic-summary-6.1.2\"><span class=\"toc-item-num\">6.1.2&nbsp;&nbsp;</span>Statistic summary</a></span></li></ul></li><li><span><a href=\"#Delete-sku-attribute\" data-toc-modified-id=\"Delete-sku-attribute-6.2\"><span class=\"toc-item-num\">6.2&nbsp;&nbsp;</span>Delete sku attribute</a></span></li><li><span><a href=\"#Missing-Data\" data-toc-modified-id=\"Missing-Data-6.3\"><span class=\"toc-item-num\">6.3&nbsp;&nbsp;</span>Missing Data</a></span></li><li><span><a href=\"#Train-and-test-split\" data-toc-modified-id=\"Train-and-test-split-6.4\"><span class=\"toc-item-num\">6.4&nbsp;&nbsp;</span>Train and test split</a></span><ul class=\"toc-item\"><li><span><a href=\"#Target-attribute-distribution\" data-toc-modified-id=\"Target-attribute-distribution-6.4.1\"><span class=\"toc-item-num\">6.4.1&nbsp;&nbsp;</span>Target attribute distribution</a></span></li><li><span><a href=\"#Split-the-data-into-train-and-test\" data-toc-modified-id=\"Split-the-data-into-train-and-test-6.4.2\"><span class=\"toc-item-num\">6.4.2&nbsp;&nbsp;</span>Split the data into train and test</a></span></li><li><span><a href=\"#Target-attribute-distribution-after-the-split\" data-toc-modified-id=\"Target-attribute-distribution-after-the-split-6.4.3\"><span class=\"toc-item-num\">6.4.3&nbsp;&nbsp;</span>Target attribute distribution after the split</a></span></li></ul></li><li><span><a href=\"#Convert-categorical-target-attribute-to-numeric\" data-toc-modified-id=\"Convert-categorical-target-attribute-to-numeric-6.5\"><span class=\"toc-item-num\">6.5&nbsp;&nbsp;</span>Convert categorical target attribute to numeric</a></span><ul class=\"toc-item\"><li><span><a href=\"#Target-attribute-distribution\" data-toc-modified-id=\"Target-attribute-distribution-6.5.1\"><span class=\"toc-item-num\">6.5.1&nbsp;&nbsp;</span>Target attribute distribution</a></span></li></ul></li><li><span><a href=\"#Checking-the-data-types\" data-toc-modified-id=\"Checking-the-data-types-6.6\"><span class=\"toc-item-num\">6.6&nbsp;&nbsp;</span>Checking the data types</a></span></li><li><span><a href=\"#Standardize-the-numerical-attributes\" data-toc-modified-id=\"Standardize-the-numerical-attributes-6.7\"><span class=\"toc-item-num\">6.7&nbsp;&nbsp;</span>Standardize the numerical attributes</a></span><ul class=\"toc-item\"><li><span><a href=\"#Store-numerical-attributes-name\" data-toc-modified-id=\"Store-numerical-attributes-name-6.7.1\"><span class=\"toc-item-num\">6.7.1&nbsp;&nbsp;</span>Store numerical attributes name</a></span></li><li><span><a href=\"#Using-StandardScaler,-standardize-the-numerical-attributes\" data-toc-modified-id=\"Using-StandardScaler,-standardize-the-numerical-attributes-6.7.2\"><span class=\"toc-item-num\">6.7.2&nbsp;&nbsp;</span>Using StandardScaler, standardize the numerical attributes</a></span></li></ul></li><li><span><a href=\"#Converting-Categorical-attributes-to-Numeric-attributes\" data-toc-modified-id=\"Converting-Categorical-attributes-to-Numeric-attributes-6.8\"><span class=\"toc-item-num\">6.8&nbsp;&nbsp;</span>Converting Categorical attributes to Numeric attributes</a></span><ul class=\"toc-item\"><li><span><a href=\"#Store-categorical-attributes-name\" data-toc-modified-id=\"Store-categorical-attributes-name-6.8.1\"><span class=\"toc-item-num\">6.8.1&nbsp;&nbsp;</span>Store categorical attributes name</a></span></li><li><span><a href=\"#Using-OneHotEncoder,--converting-Categorical-attributes-to-Numeric-attributes\" data-toc-modified-id=\"Using-OneHotEncoder,--converting-Categorical-attributes-to-Numeric-attributes-6.8.2\"><span class=\"toc-item-num\">6.8.2&nbsp;&nbsp;</span>Using OneHotEncoder,  converting Categorical attributes to Numeric attributes</a></span></li></ul></li><li><span><a href=\"#Concatenate-attribute\" data-toc-modified-id=\"Concatenate-attribute-6.9\"><span class=\"toc-item-num\">6.9&nbsp;&nbsp;</span>Concatenate attribute</a></span></li></ul></li><li><span><a href=\"#Model-building\" data-toc-modified-id=\"Model-building-7\"><span class=\"toc-item-num\">7&nbsp;&nbsp;</span>Model building</a></span><ul class=\"toc-item\"><li><span><a href=\"#RandomForestClassifier-Model\" data-toc-modified-id=\"RandomForestClassifier-Model-7.1\"><span class=\"toc-item-num\">7.1&nbsp;&nbsp;</span>RandomForestClassifier Model</a></span><ul class=\"toc-item\"><li><span><a href=\"#Instantiate-Model\" data-toc-modified-id=\"Instantiate-Model-7.1.1\"><span class=\"toc-item-num\">7.1.1&nbsp;&nbsp;</span>Instantiate Model</a></span></li><li><span><a href=\"#Train-Model\" data-toc-modified-id=\"Train-Model-7.1.2\"><span class=\"toc-item-num\">7.1.2&nbsp;&nbsp;</span>Train Model</a></span></li><li><span><a href=\"#List-important-features\" data-toc-modified-id=\"List-important-features-7.1.3\"><span class=\"toc-item-num\">7.1.3&nbsp;&nbsp;</span>List important features</a></span></li><li><span><a href=\"#Predict\" data-toc-modified-id=\"Predict-7.1.4\"><span class=\"toc-item-num\">7.1.4&nbsp;&nbsp;</span>Predict</a></span></li><li><span><a href=\"#Evaluate\" data-toc-modified-id=\"Evaluate-7.1.5\"><span class=\"toc-item-num\">7.1.5&nbsp;&nbsp;</span>Evaluate</a></span></li></ul></li><li><span><a href=\"#Up-sampling\" data-toc-modified-id=\"Up-sampling-7.2\"><span class=\"toc-item-num\">7.2&nbsp;&nbsp;</span>Up-sampling</a></span><ul class=\"toc-item\"><li><span><a href=\"#Instantiate-SMOTE\" data-toc-modified-id=\"Instantiate-SMOTE-7.2.1\"><span class=\"toc-item-num\">7.2.1&nbsp;&nbsp;</span>Instantiate SMOTE</a></span></li><li><span><a href=\"#Fit-Sample\" data-toc-modified-id=\"Fit-Sample-7.2.2\"><span class=\"toc-item-num\">7.2.2&nbsp;&nbsp;</span>Fit Sample</a></span></li></ul></li><li><span><a href=\"#RandomForestClassifier-with-up-sample-data\" data-toc-modified-id=\"RandomForestClassifier-with-up-sample-data-7.3\"><span class=\"toc-item-num\">7.3&nbsp;&nbsp;</span>RandomForestClassifier with up-sample data</a></span><ul class=\"toc-item\"><li><span><a href=\"#Instantiate-Model\" data-toc-modified-id=\"Instantiate-Model-7.3.1\"><span class=\"toc-item-num\">7.3.1&nbsp;&nbsp;</span>Instantiate Model</a></span></li><li><span><a href=\"#Train-the-model\" data-toc-modified-id=\"Train-the-model-7.3.2\"><span class=\"toc-item-num\">7.3.2&nbsp;&nbsp;</span>Train the model</a></span></li><li><span><a href=\"#List-important-features\" data-toc-modified-id=\"List-important-features-7.3.3\"><span class=\"toc-item-num\">7.3.3&nbsp;&nbsp;</span>List important features</a></span></li><li><span><a href=\"#Predict\" data-toc-modified-id=\"Predict-7.3.4\"><span class=\"toc-item-num\">7.3.4&nbsp;&nbsp;</span>Predict</a></span></li><li><span><a href=\"#Evaluate\" data-toc-modified-id=\"Evaluate-7.3.5\"><span class=\"toc-item-num\">7.3.5&nbsp;&nbsp;</span>Evaluate</a></span></li></ul></li><li><span><a href=\"#Hyper-parameter-tuning-using-Grid-Search-and-Cross-Validation\" data-toc-modified-id=\"Hyper-parameter-tuning-using-Grid-Search-and-Cross-Validation-7.4\"><span class=\"toc-item-num\">7.4&nbsp;&nbsp;</span>Hyper-parameter tuning using Grid Search and Cross Validation</a></span><ul class=\"toc-item\"><li><span><a href=\"#Parameters-to-test\" data-toc-modified-id=\"Parameters-to-test-7.4.1\"><span class=\"toc-item-num\">7.4.1&nbsp;&nbsp;</span>Parameters to test</a></span></li><li><span><a href=\"#Instantiate-Decision-Tree\" data-toc-modified-id=\"Instantiate-Decision-Tree-7.4.2\"><span class=\"toc-item-num\">7.4.2&nbsp;&nbsp;</span>Instantiate Decision Tree</a></span></li><li><span><a href=\"#Instantiate-GridSearchCV\" data-toc-modified-id=\"Instantiate-GridSearchCV-7.4.3\"><span class=\"toc-item-num\">7.4.3&nbsp;&nbsp;</span>Instantiate GridSearchCV</a></span></li><li><span><a href=\"#Train-DT-using-GridSearchCV\" data-toc-modified-id=\"Train-DT-using-GridSearchCV-7.4.4\"><span class=\"toc-item-num\">7.4.4&nbsp;&nbsp;</span>Train DT using GridSearchCV</a></span></li><li><span><a href=\"#Best-Params\" data-toc-modified-id=\"Best-Params-7.4.5\"><span class=\"toc-item-num\">7.4.5&nbsp;&nbsp;</span>Best Params</a></span></li><li><span><a href=\"#Predict\" data-toc-modified-id=\"Predict-7.4.6\"><span class=\"toc-item-num\">7.4.6&nbsp;&nbsp;</span>Predict</a></span></li><li><span><a href=\"#Evaluate\" data-toc-modified-id=\"Evaluate-7.4.7\"><span class=\"toc-item-num\">7.4.7&nbsp;&nbsp;</span>Evaluate</a></span></li></ul></li><li><span><a href=\"#Building-RandomForestClassifier-Model-using-Variable-Importance\" data-toc-modified-id=\"Building-RandomForestClassifier-Model-using-Variable-Importance-7.5\"><span class=\"toc-item-num\">7.5&nbsp;&nbsp;</span>Building RandomForestClassifier Model using Variable Importance</a></span><ul class=\"toc-item\"><li><span><a href=\"#Instantiate-Model\" data-toc-modified-id=\"Instantiate-Model-7.5.1\"><span class=\"toc-item-num\">7.5.1&nbsp;&nbsp;</span>Instantiate Model</a></span></li><li><span><a href=\"#Train-the-model\" data-toc-modified-id=\"Train-the-model-7.5.2\"><span class=\"toc-item-num\">7.5.2&nbsp;&nbsp;</span>Train the model</a></span></li><li><span><a href=\"#Predict\" data-toc-modified-id=\"Predict-7.5.3\"><span class=\"toc-item-num\">7.5.3&nbsp;&nbsp;</span>Predict</a></span></li><li><span><a href=\"#Evaluate\" data-toc-modified-id=\"Evaluate-7.5.4\"><span class=\"toc-item-num\">7.5.4&nbsp;&nbsp;</span>Evaluate</a></span></li></ul></li></ul></li></ul></div>"
   ]
  },
  {
   "cell_type": "markdown",
   "metadata": {},
   "source": [
    "# Problem\n",
    "\n",
    "Is to identify products at risk of backorder before the event occurs so that business has time to react. "
   ]
  },
  {
   "cell_type": "markdown",
   "metadata": {},
   "source": [
    "## What is a Backorder?\n",
    "Backorders are products that are temporarily out of stock, but a customer is permitted to place an order against future inventory. \n",
    "A backorder generally indicates that customer demand for a product or service exceeds a company’s capacity to supply it. Back orders are both good and bad. Strong demand can drive back orders, but so can suboptimal planning. "
   ]
  },
  {
   "cell_type": "markdown",
   "metadata": {},
   "source": [
    "## Data description\n",
    "\n",
    "Data file contains the historical data for the 8 weeks prior to the week we are trying to predict. The data was taken as weekly snapshots at the start of each week. Columns are defined as follows:\n",
    "\n",
    "    sku - Random ID for the product\n",
    "\n",
    "    national_inv - Current inventory level for the part\n",
    "\n",
    "    lead_time - Transit time for product (if available)\n",
    "\n",
    "    in_transit_qty - Amount of product in transit from source\n",
    "\n",
    "    forecast_3_month - Forecast sales for the next 3 months\n",
    "\n",
    "    forecast_6_month - Forecast sales for the next 6 months\n",
    "\n",
    "    forecast_9_month - Forecast sales for the next 9 months\n",
    "\n",
    "    sales_1_month - Sales quantity for the prior 1 month time period\n",
    "\n",
    "    sales_3_month - Sales quantity for the prior 3 month time period\n",
    "\n",
    "    sales_6_month - Sales quantity for the prior 6 month time period\n",
    "\n",
    "    sales_9_month - Sales quantity for the prior 9 month time period\n",
    "\n",
    "    min_bank - Minimum recommend amount to stock\n",
    "\n",
    "    potential_issue - Source issue for part identified\n",
    "\n",
    "    pieces_past_due - Parts overdue from source\n",
    "\n",
    "    perf_6_month_avg - Source performance for prior 6 month period\n",
    "\n",
    "    perf_12_month_avg - Source performance for prior 12 month period\n",
    "\n",
    "    local_bo_qty - Amount of stock orders overdue\n",
    "\n",
    "    deck_risk - Part risk flag\n",
    "\n",
    "    oe_constraint - Part risk flag\n",
    "\n",
    "    ppap_risk - Part risk flag\n",
    "\n",
    "    stop_auto_buy - Part risk flag\n",
    "\n",
    "    rev_stop - Part risk flag\n",
    "\n",
    "    went_on_backorder - Product actually went on backorder. This is the target value.\n",
    "    \n",
    "         Yes or 1 : Product backordered\n",
    "\n",
    "         No or 0  : Product not backordered"
   ]
  },
  {
   "cell_type": "markdown",
   "metadata": {},
   "source": [
    "# Loading the required libraries"
   ]
  },
  {
   "cell_type": "code",
   "execution_count": 1,
   "metadata": {
    "scrolled": true
   },
   "outputs": [],
   "source": [
    "import pandas as pd\n",
    "import numpy as np\n",
    "\n",
    "from sklearn.model_selection import train_test_split\n",
    "\n",
    "from sklearn.preprocessing import LabelEncoder, OneHotEncoder, StandardScaler\n",
    "\n",
    "from sklearn.ensemble import RandomForestClassifier\n",
    "\n",
    "from imblearn.over_sampling import SMOTE\n",
    "\n",
    "from sklearn.model_selection import GridSearchCV\n",
    "\n",
    "from sklearn.metrics import confusion_matrix, accuracy_score, recall_score, precision_score, roc_curve, auc\n",
    "\n",
    "import matplotlib.pyplot as plt"
   ]
  },
  {
   "cell_type": "markdown",
   "metadata": {},
   "source": [
    "# Identify Right Error Metrics\n",
    "\n",
    "    Based on the business have to identify the right error metrics."
   ]
  },
  {
   "cell_type": "markdown",
   "metadata": {},
   "source": [
    "## Confusion Matrix\n",
    "\n",
    "![](img/Confusion_Matrix.png)"
   ]
  },
  {
   "cell_type": "raw",
   "metadata": {},
   "source": []
  },
  {
   "cell_type": "markdown",
   "metadata": {},
   "source": [
    "## Function to calculate required metrics"
   ]
  },
  {
   "cell_type": "code",
   "execution_count": 2,
   "metadata": {},
   "outputs": [],
   "source": [
    "def evaluate_model(act, pred):\n",
    "    print(\"Confusion Matrix \\n\", confusion_matrix(act, pred))\n",
    "    print(\"Accurcay : \", accuracy_score(act, pred))\n",
    "    print(\"Recall   : \", recall_score(act, pred))\n",
    "    print(\"Precision: \", precision_score(act, pred))    "
   ]
  },
  {
   "cell_type": "markdown",
   "metadata": {},
   "source": [
    "# Loading the data"
   ]
  },
  {
   "cell_type": "code",
   "execution_count": 3,
   "metadata": {},
   "outputs": [],
   "source": [
    "data = pd.read_csv(\"BackOrders.csv\", header=0)"
   ]
  },
  {
   "cell_type": "markdown",
   "metadata": {},
   "source": [
    "# Understand the Data - Exploratory Data Analysis (EDA)"
   ]
  },
  {
   "cell_type": "markdown",
   "metadata": {},
   "source": [
    "## Number row and columns"
   ]
  },
  {
   "cell_type": "code",
   "execution_count": 4,
   "metadata": {},
   "outputs": [
    {
     "data": {
      "text/plain": [
       "(61589, 23)"
      ]
     },
     "execution_count": 4,
     "metadata": {},
     "output_type": "execute_result"
    }
   ],
   "source": []
  },
  {
   "cell_type": "markdown",
   "metadata": {},
   "source": [
    "## First and last 5 rows"
   ]
  },
  {
   "cell_type": "code",
   "execution_count": 5,
   "metadata": {},
   "outputs": [
    {
     "data": {
      "text/html": [
       "<div>\n",
       "<style scoped>\n",
       "    .dataframe tbody tr th:only-of-type {\n",
       "        vertical-align: middle;\n",
       "    }\n",
       "\n",
       "    .dataframe tbody tr th {\n",
       "        vertical-align: top;\n",
       "    }\n",
       "\n",
       "    .dataframe thead th {\n",
       "        text-align: right;\n",
       "    }\n",
       "</style>\n",
       "<table border=\"1\" class=\"dataframe\">\n",
       "  <thead>\n",
       "    <tr style=\"text-align: right;\">\n",
       "      <th></th>\n",
       "      <th>sku</th>\n",
       "      <th>national_inv</th>\n",
       "      <th>lead_time</th>\n",
       "      <th>in_transit_qty</th>\n",
       "      <th>forecast_3_month</th>\n",
       "      <th>forecast_6_month</th>\n",
       "      <th>forecast_9_month</th>\n",
       "      <th>sales_1_month</th>\n",
       "      <th>sales_3_month</th>\n",
       "      <th>sales_6_month</th>\n",
       "      <th>...</th>\n",
       "      <th>pieces_past_due</th>\n",
       "      <th>perf_6_month_avg</th>\n",
       "      <th>perf_12_month_avg</th>\n",
       "      <th>local_bo_qty</th>\n",
       "      <th>deck_risk</th>\n",
       "      <th>oe_constraint</th>\n",
       "      <th>ppap_risk</th>\n",
       "      <th>stop_auto_buy</th>\n",
       "      <th>rev_stop</th>\n",
       "      <th>went_on_backorder</th>\n",
       "    </tr>\n",
       "  </thead>\n",
       "  <tbody>\n",
       "    <tr>\n",
       "      <th>0</th>\n",
       "      <td>1888279</td>\n",
       "      <td>117</td>\n",
       "      <td>NaN</td>\n",
       "      <td>0</td>\n",
       "      <td>0</td>\n",
       "      <td>0</td>\n",
       "      <td>0</td>\n",
       "      <td>0</td>\n",
       "      <td>0</td>\n",
       "      <td>15</td>\n",
       "      <td>...</td>\n",
       "      <td>0</td>\n",
       "      <td>-99.00</td>\n",
       "      <td>-99.00</td>\n",
       "      <td>0</td>\n",
       "      <td>No</td>\n",
       "      <td>No</td>\n",
       "      <td>Yes</td>\n",
       "      <td>Yes</td>\n",
       "      <td>No</td>\n",
       "      <td>No</td>\n",
       "    </tr>\n",
       "    <tr>\n",
       "      <th>1</th>\n",
       "      <td>1870557</td>\n",
       "      <td>7</td>\n",
       "      <td>2.0</td>\n",
       "      <td>0</td>\n",
       "      <td>0</td>\n",
       "      <td>0</td>\n",
       "      <td>0</td>\n",
       "      <td>0</td>\n",
       "      <td>0</td>\n",
       "      <td>0</td>\n",
       "      <td>...</td>\n",
       "      <td>0</td>\n",
       "      <td>0.50</td>\n",
       "      <td>0.28</td>\n",
       "      <td>0</td>\n",
       "      <td>Yes</td>\n",
       "      <td>No</td>\n",
       "      <td>No</td>\n",
       "      <td>Yes</td>\n",
       "      <td>No</td>\n",
       "      <td>No</td>\n",
       "    </tr>\n",
       "    <tr>\n",
       "      <th>2</th>\n",
       "      <td>1475481</td>\n",
       "      <td>258</td>\n",
       "      <td>15.0</td>\n",
       "      <td>10</td>\n",
       "      <td>10</td>\n",
       "      <td>77</td>\n",
       "      <td>184</td>\n",
       "      <td>46</td>\n",
       "      <td>132</td>\n",
       "      <td>256</td>\n",
       "      <td>...</td>\n",
       "      <td>0</td>\n",
       "      <td>0.54</td>\n",
       "      <td>0.70</td>\n",
       "      <td>0</td>\n",
       "      <td>No</td>\n",
       "      <td>No</td>\n",
       "      <td>No</td>\n",
       "      <td>Yes</td>\n",
       "      <td>No</td>\n",
       "      <td>No</td>\n",
       "    </tr>\n",
       "    <tr>\n",
       "      <th>3</th>\n",
       "      <td>1758220</td>\n",
       "      <td>46</td>\n",
       "      <td>2.0</td>\n",
       "      <td>0</td>\n",
       "      <td>0</td>\n",
       "      <td>0</td>\n",
       "      <td>0</td>\n",
       "      <td>1</td>\n",
       "      <td>2</td>\n",
       "      <td>6</td>\n",
       "      <td>...</td>\n",
       "      <td>0</td>\n",
       "      <td>0.75</td>\n",
       "      <td>0.90</td>\n",
       "      <td>0</td>\n",
       "      <td>Yes</td>\n",
       "      <td>No</td>\n",
       "      <td>No</td>\n",
       "      <td>Yes</td>\n",
       "      <td>No</td>\n",
       "      <td>No</td>\n",
       "    </tr>\n",
       "    <tr>\n",
       "      <th>4</th>\n",
       "      <td>1360312</td>\n",
       "      <td>2</td>\n",
       "      <td>2.0</td>\n",
       "      <td>0</td>\n",
       "      <td>4</td>\n",
       "      <td>6</td>\n",
       "      <td>10</td>\n",
       "      <td>2</td>\n",
       "      <td>2</td>\n",
       "      <td>5</td>\n",
       "      <td>...</td>\n",
       "      <td>0</td>\n",
       "      <td>0.97</td>\n",
       "      <td>0.92</td>\n",
       "      <td>0</td>\n",
       "      <td>No</td>\n",
       "      <td>No</td>\n",
       "      <td>No</td>\n",
       "      <td>Yes</td>\n",
       "      <td>No</td>\n",
       "      <td>No</td>\n",
       "    </tr>\n",
       "  </tbody>\n",
       "</table>\n",
       "<p>5 rows × 23 columns</p>\n",
       "</div>"
      ],
      "text/plain": [
       "       sku  national_inv  lead_time  in_transit_qty  forecast_3_month  \\\n",
       "0  1888279           117        NaN               0                 0   \n",
       "1  1870557             7        2.0               0                 0   \n",
       "2  1475481           258       15.0              10                10   \n",
       "3  1758220            46        2.0               0                 0   \n",
       "4  1360312             2        2.0               0                 4   \n",
       "\n",
       "   forecast_6_month  forecast_9_month  sales_1_month  sales_3_month  \\\n",
       "0                 0                 0              0              0   \n",
       "1                 0                 0              0              0   \n",
       "2                77               184             46            132   \n",
       "3                 0                 0              1              2   \n",
       "4                 6                10              2              2   \n",
       "\n",
       "   sales_6_month  ...  pieces_past_due  perf_6_month_avg perf_12_month_avg  \\\n",
       "0             15  ...                0            -99.00            -99.00   \n",
       "1              0  ...                0              0.50              0.28   \n",
       "2            256  ...                0              0.54              0.70   \n",
       "3              6  ...                0              0.75              0.90   \n",
       "4              5  ...                0              0.97              0.92   \n",
       "\n",
       "   local_bo_qty  deck_risk  oe_constraint  ppap_risk stop_auto_buy rev_stop  \\\n",
       "0             0         No             No        Yes           Yes       No   \n",
       "1             0        Yes             No         No           Yes       No   \n",
       "2             0         No             No         No           Yes       No   \n",
       "3             0        Yes             No         No           Yes       No   \n",
       "4             0         No             No         No           Yes       No   \n",
       "\n",
       "  went_on_backorder  \n",
       "0                No  \n",
       "1                No  \n",
       "2                No  \n",
       "3                No  \n",
       "4                No  \n",
       "\n",
       "[5 rows x 23 columns]"
      ]
     },
     "execution_count": 5,
     "metadata": {},
     "output_type": "execute_result"
    }
   ],
   "source": []
  },
  {
   "cell_type": "code",
   "execution_count": 6,
   "metadata": {},
   "outputs": [
    {
     "data": {
      "text/html": [
       "<div>\n",
       "<style scoped>\n",
       "    .dataframe tbody tr th:only-of-type {\n",
       "        vertical-align: middle;\n",
       "    }\n",
       "\n",
       "    .dataframe tbody tr th {\n",
       "        vertical-align: top;\n",
       "    }\n",
       "\n",
       "    .dataframe thead th {\n",
       "        text-align: right;\n",
       "    }\n",
       "</style>\n",
       "<table border=\"1\" class=\"dataframe\">\n",
       "  <thead>\n",
       "    <tr style=\"text-align: right;\">\n",
       "      <th></th>\n",
       "      <th>sku</th>\n",
       "      <th>national_inv</th>\n",
       "      <th>lead_time</th>\n",
       "      <th>in_transit_qty</th>\n",
       "      <th>forecast_3_month</th>\n",
       "      <th>forecast_6_month</th>\n",
       "      <th>forecast_9_month</th>\n",
       "      <th>sales_1_month</th>\n",
       "      <th>sales_3_month</th>\n",
       "      <th>sales_6_month</th>\n",
       "      <th>...</th>\n",
       "      <th>pieces_past_due</th>\n",
       "      <th>perf_6_month_avg</th>\n",
       "      <th>perf_12_month_avg</th>\n",
       "      <th>local_bo_qty</th>\n",
       "      <th>deck_risk</th>\n",
       "      <th>oe_constraint</th>\n",
       "      <th>ppap_risk</th>\n",
       "      <th>stop_auto_buy</th>\n",
       "      <th>rev_stop</th>\n",
       "      <th>went_on_backorder</th>\n",
       "    </tr>\n",
       "  </thead>\n",
       "  <tbody>\n",
       "    <tr>\n",
       "      <th>61584</th>\n",
       "      <td>1397275</td>\n",
       "      <td>6</td>\n",
       "      <td>8.0</td>\n",
       "      <td>0</td>\n",
       "      <td>24</td>\n",
       "      <td>24</td>\n",
       "      <td>24</td>\n",
       "      <td>0</td>\n",
       "      <td>7</td>\n",
       "      <td>9</td>\n",
       "      <td>...</td>\n",
       "      <td>0</td>\n",
       "      <td>0.98</td>\n",
       "      <td>0.98</td>\n",
       "      <td>0</td>\n",
       "      <td>No</td>\n",
       "      <td>No</td>\n",
       "      <td>No</td>\n",
       "      <td>Yes</td>\n",
       "      <td>No</td>\n",
       "      <td>No</td>\n",
       "    </tr>\n",
       "    <tr>\n",
       "      <th>61585</th>\n",
       "      <td>3072139</td>\n",
       "      <td>130</td>\n",
       "      <td>2.0</td>\n",
       "      <td>0</td>\n",
       "      <td>40</td>\n",
       "      <td>80</td>\n",
       "      <td>140</td>\n",
       "      <td>18</td>\n",
       "      <td>108</td>\n",
       "      <td>230</td>\n",
       "      <td>...</td>\n",
       "      <td>0</td>\n",
       "      <td>0.51</td>\n",
       "      <td>0.28</td>\n",
       "      <td>0</td>\n",
       "      <td>No</td>\n",
       "      <td>No</td>\n",
       "      <td>No</td>\n",
       "      <td>Yes</td>\n",
       "      <td>No</td>\n",
       "      <td>No</td>\n",
       "    </tr>\n",
       "    <tr>\n",
       "      <th>61586</th>\n",
       "      <td>1909363</td>\n",
       "      <td>135</td>\n",
       "      <td>9.0</td>\n",
       "      <td>0</td>\n",
       "      <td>0</td>\n",
       "      <td>0</td>\n",
       "      <td>0</td>\n",
       "      <td>10</td>\n",
       "      <td>40</td>\n",
       "      <td>65</td>\n",
       "      <td>...</td>\n",
       "      <td>0</td>\n",
       "      <td>1.00</td>\n",
       "      <td>0.99</td>\n",
       "      <td>0</td>\n",
       "      <td>No</td>\n",
       "      <td>No</td>\n",
       "      <td>Yes</td>\n",
       "      <td>Yes</td>\n",
       "      <td>No</td>\n",
       "      <td>No</td>\n",
       "    </tr>\n",
       "    <tr>\n",
       "      <th>61587</th>\n",
       "      <td>1845783</td>\n",
       "      <td>63</td>\n",
       "      <td>NaN</td>\n",
       "      <td>0</td>\n",
       "      <td>0</td>\n",
       "      <td>0</td>\n",
       "      <td>0</td>\n",
       "      <td>452</td>\n",
       "      <td>1715</td>\n",
       "      <td>3425</td>\n",
       "      <td>...</td>\n",
       "      <td>0</td>\n",
       "      <td>-99.00</td>\n",
       "      <td>-99.00</td>\n",
       "      <td>1</td>\n",
       "      <td>No</td>\n",
       "      <td>No</td>\n",
       "      <td>No</td>\n",
       "      <td>No</td>\n",
       "      <td>No</td>\n",
       "      <td>Yes</td>\n",
       "    </tr>\n",
       "    <tr>\n",
       "      <th>61588</th>\n",
       "      <td>1200539</td>\n",
       "      <td>0</td>\n",
       "      <td>2.0</td>\n",
       "      <td>0</td>\n",
       "      <td>8</td>\n",
       "      <td>8</td>\n",
       "      <td>8</td>\n",
       "      <td>0</td>\n",
       "      <td>1</td>\n",
       "      <td>1</td>\n",
       "      <td>...</td>\n",
       "      <td>0</td>\n",
       "      <td>0.79</td>\n",
       "      <td>0.78</td>\n",
       "      <td>0</td>\n",
       "      <td>Yes</td>\n",
       "      <td>No</td>\n",
       "      <td>No</td>\n",
       "      <td>Yes</td>\n",
       "      <td>No</td>\n",
       "      <td>Yes</td>\n",
       "    </tr>\n",
       "  </tbody>\n",
       "</table>\n",
       "<p>5 rows × 23 columns</p>\n",
       "</div>"
      ],
      "text/plain": [
       "           sku  national_inv  lead_time  in_transit_qty  forecast_3_month  \\\n",
       "61584  1397275             6        8.0               0                24   \n",
       "61585  3072139           130        2.0               0                40   \n",
       "61586  1909363           135        9.0               0                 0   \n",
       "61587  1845783            63        NaN               0                 0   \n",
       "61588  1200539             0        2.0               0                 8   \n",
       "\n",
       "       forecast_6_month  forecast_9_month  sales_1_month  sales_3_month  \\\n",
       "61584                24                24              0              7   \n",
       "61585                80               140             18            108   \n",
       "61586                 0                 0             10             40   \n",
       "61587                 0                 0            452           1715   \n",
       "61588                 8                 8              0              1   \n",
       "\n",
       "       sales_6_month  ...  pieces_past_due  perf_6_month_avg  \\\n",
       "61584              9  ...                0              0.98   \n",
       "61585            230  ...                0              0.51   \n",
       "61586             65  ...                0              1.00   \n",
       "61587           3425  ...                0            -99.00   \n",
       "61588              1  ...                0              0.79   \n",
       "\n",
       "      perf_12_month_avg  local_bo_qty  deck_risk  oe_constraint  ppap_risk  \\\n",
       "61584              0.98             0         No             No         No   \n",
       "61585              0.28             0         No             No         No   \n",
       "61586              0.99             0         No             No        Yes   \n",
       "61587            -99.00             1         No             No         No   \n",
       "61588              0.78             0        Yes             No         No   \n",
       "\n",
       "      stop_auto_buy rev_stop went_on_backorder  \n",
       "61584           Yes       No                No  \n",
       "61585           Yes       No                No  \n",
       "61586           Yes       No                No  \n",
       "61587            No       No               Yes  \n",
       "61588           Yes       No               Yes  \n",
       "\n",
       "[5 rows x 23 columns]"
      ]
     },
     "execution_count": 6,
     "metadata": {},
     "output_type": "execute_result"
    }
   ],
   "source": []
  },
  {
   "cell_type": "markdown",
   "metadata": {},
   "source": [
    "## Statistic summary \n",
    "    Using describe function"
   ]
  },
  {
   "cell_type": "code",
   "execution_count": 7,
   "metadata": {
    "scrolled": true
   },
   "outputs": [
    {
     "data": {
      "text/html": [
       "<div>\n",
       "<style scoped>\n",
       "    .dataframe tbody tr th:only-of-type {\n",
       "        vertical-align: middle;\n",
       "    }\n",
       "\n",
       "    .dataframe tbody tr th {\n",
       "        vertical-align: top;\n",
       "    }\n",
       "\n",
       "    .dataframe thead th {\n",
       "        text-align: right;\n",
       "    }\n",
       "</style>\n",
       "<table border=\"1\" class=\"dataframe\">\n",
       "  <thead>\n",
       "    <tr style=\"text-align: right;\">\n",
       "      <th></th>\n",
       "      <th>sku</th>\n",
       "      <th>national_inv</th>\n",
       "      <th>lead_time</th>\n",
       "      <th>in_transit_qty</th>\n",
       "      <th>forecast_3_month</th>\n",
       "      <th>forecast_6_month</th>\n",
       "      <th>forecast_9_month</th>\n",
       "      <th>sales_1_month</th>\n",
       "      <th>sales_3_month</th>\n",
       "      <th>sales_6_month</th>\n",
       "      <th>...</th>\n",
       "      <th>pieces_past_due</th>\n",
       "      <th>perf_6_month_avg</th>\n",
       "      <th>perf_12_month_avg</th>\n",
       "      <th>local_bo_qty</th>\n",
       "      <th>deck_risk</th>\n",
       "      <th>oe_constraint</th>\n",
       "      <th>ppap_risk</th>\n",
       "      <th>stop_auto_buy</th>\n",
       "      <th>rev_stop</th>\n",
       "      <th>went_on_backorder</th>\n",
       "    </tr>\n",
       "  </thead>\n",
       "  <tbody>\n",
       "    <tr>\n",
       "      <th>count</th>\n",
       "      <td>6.158900e+04</td>\n",
       "      <td>61589.000000</td>\n",
       "      <td>58186.000000</td>\n",
       "      <td>61589.000000</td>\n",
       "      <td>6.158900e+04</td>\n",
       "      <td>6.158900e+04</td>\n",
       "      <td>6.158900e+04</td>\n",
       "      <td>61589.000000</td>\n",
       "      <td>61589.000000</td>\n",
       "      <td>6.158900e+04</td>\n",
       "      <td>...</td>\n",
       "      <td>61589.000000</td>\n",
       "      <td>61589.000000</td>\n",
       "      <td>61589.000000</td>\n",
       "      <td>61589.000000</td>\n",
       "      <td>61589</td>\n",
       "      <td>61589</td>\n",
       "      <td>61589</td>\n",
       "      <td>61589</td>\n",
       "      <td>61589</td>\n",
       "      <td>61589</td>\n",
       "    </tr>\n",
       "    <tr>\n",
       "      <th>unique</th>\n",
       "      <td>NaN</td>\n",
       "      <td>NaN</td>\n",
       "      <td>NaN</td>\n",
       "      <td>NaN</td>\n",
       "      <td>NaN</td>\n",
       "      <td>NaN</td>\n",
       "      <td>NaN</td>\n",
       "      <td>NaN</td>\n",
       "      <td>NaN</td>\n",
       "      <td>NaN</td>\n",
       "      <td>...</td>\n",
       "      <td>NaN</td>\n",
       "      <td>NaN</td>\n",
       "      <td>NaN</td>\n",
       "      <td>NaN</td>\n",
       "      <td>2</td>\n",
       "      <td>2</td>\n",
       "      <td>2</td>\n",
       "      <td>2</td>\n",
       "      <td>2</td>\n",
       "      <td>2</td>\n",
       "    </tr>\n",
       "    <tr>\n",
       "      <th>top</th>\n",
       "      <td>NaN</td>\n",
       "      <td>NaN</td>\n",
       "      <td>NaN</td>\n",
       "      <td>NaN</td>\n",
       "      <td>NaN</td>\n",
       "      <td>NaN</td>\n",
       "      <td>NaN</td>\n",
       "      <td>NaN</td>\n",
       "      <td>NaN</td>\n",
       "      <td>NaN</td>\n",
       "      <td>...</td>\n",
       "      <td>NaN</td>\n",
       "      <td>NaN</td>\n",
       "      <td>NaN</td>\n",
       "      <td>NaN</td>\n",
       "      <td>No</td>\n",
       "      <td>No</td>\n",
       "      <td>No</td>\n",
       "      <td>Yes</td>\n",
       "      <td>No</td>\n",
       "      <td>No</td>\n",
       "    </tr>\n",
       "    <tr>\n",
       "      <th>freq</th>\n",
       "      <td>NaN</td>\n",
       "      <td>NaN</td>\n",
       "      <td>NaN</td>\n",
       "      <td>NaN</td>\n",
       "      <td>NaN</td>\n",
       "      <td>NaN</td>\n",
       "      <td>NaN</td>\n",
       "      <td>NaN</td>\n",
       "      <td>NaN</td>\n",
       "      <td>NaN</td>\n",
       "      <td>...</td>\n",
       "      <td>NaN</td>\n",
       "      <td>NaN</td>\n",
       "      <td>NaN</td>\n",
       "      <td>NaN</td>\n",
       "      <td>48145</td>\n",
       "      <td>61577</td>\n",
       "      <td>53792</td>\n",
       "      <td>59303</td>\n",
       "      <td>61569</td>\n",
       "      <td>50296</td>\n",
       "    </tr>\n",
       "    <tr>\n",
       "      <th>mean</th>\n",
       "      <td>2.037188e+06</td>\n",
       "      <td>287.721882</td>\n",
       "      <td>7.559619</td>\n",
       "      <td>30.192843</td>\n",
       "      <td>1.692728e+02</td>\n",
       "      <td>3.150413e+02</td>\n",
       "      <td>4.535760e+02</td>\n",
       "      <td>44.742957</td>\n",
       "      <td>150.732631</td>\n",
       "      <td>2.835465e+02</td>\n",
       "      <td>...</td>\n",
       "      <td>1.605400</td>\n",
       "      <td>-6.264182</td>\n",
       "      <td>-5.863664</td>\n",
       "      <td>1.205361</td>\n",
       "      <td>NaN</td>\n",
       "      <td>NaN</td>\n",
       "      <td>NaN</td>\n",
       "      <td>NaN</td>\n",
       "      <td>NaN</td>\n",
       "      <td>NaN</td>\n",
       "    </tr>\n",
       "    <tr>\n",
       "      <th>std</th>\n",
       "      <td>6.564178e+05</td>\n",
       "      <td>4233.906931</td>\n",
       "      <td>6.498952</td>\n",
       "      <td>792.869253</td>\n",
       "      <td>5.286742e+03</td>\n",
       "      <td>9.774362e+03</td>\n",
       "      <td>1.420201e+04</td>\n",
       "      <td>1373.805831</td>\n",
       "      <td>5224.959649</td>\n",
       "      <td>8.872270e+03</td>\n",
       "      <td>...</td>\n",
       "      <td>42.309229</td>\n",
       "      <td>25.537906</td>\n",
       "      <td>24.844514</td>\n",
       "      <td>29.981155</td>\n",
       "      <td>NaN</td>\n",
       "      <td>NaN</td>\n",
       "      <td>NaN</td>\n",
       "      <td>NaN</td>\n",
       "      <td>NaN</td>\n",
       "      <td>NaN</td>\n",
       "    </tr>\n",
       "    <tr>\n",
       "      <th>min</th>\n",
       "      <td>1.068628e+06</td>\n",
       "      <td>-2999.000000</td>\n",
       "      <td>0.000000</td>\n",
       "      <td>0.000000</td>\n",
       "      <td>0.000000e+00</td>\n",
       "      <td>0.000000e+00</td>\n",
       "      <td>0.000000e+00</td>\n",
       "      <td>0.000000</td>\n",
       "      <td>0.000000</td>\n",
       "      <td>0.000000e+00</td>\n",
       "      <td>...</td>\n",
       "      <td>0.000000</td>\n",
       "      <td>-99.000000</td>\n",
       "      <td>-99.000000</td>\n",
       "      <td>0.000000</td>\n",
       "      <td>NaN</td>\n",
       "      <td>NaN</td>\n",
       "      <td>NaN</td>\n",
       "      <td>NaN</td>\n",
       "      <td>NaN</td>\n",
       "      <td>NaN</td>\n",
       "    </tr>\n",
       "    <tr>\n",
       "      <th>25%</th>\n",
       "      <td>1.498574e+06</td>\n",
       "      <td>3.000000</td>\n",
       "      <td>4.000000</td>\n",
       "      <td>0.000000</td>\n",
       "      <td>0.000000e+00</td>\n",
       "      <td>0.000000e+00</td>\n",
       "      <td>0.000000e+00</td>\n",
       "      <td>0.000000</td>\n",
       "      <td>0.000000</td>\n",
       "      <td>0.000000e+00</td>\n",
       "      <td>...</td>\n",
       "      <td>0.000000</td>\n",
       "      <td>0.620000</td>\n",
       "      <td>0.640000</td>\n",
       "      <td>0.000000</td>\n",
       "      <td>NaN</td>\n",
       "      <td>NaN</td>\n",
       "      <td>NaN</td>\n",
       "      <td>NaN</td>\n",
       "      <td>NaN</td>\n",
       "      <td>NaN</td>\n",
       "    </tr>\n",
       "    <tr>\n",
       "      <th>50%</th>\n",
       "      <td>1.898033e+06</td>\n",
       "      <td>10.000000</td>\n",
       "      <td>8.000000</td>\n",
       "      <td>0.000000</td>\n",
       "      <td>0.000000e+00</td>\n",
       "      <td>0.000000e+00</td>\n",
       "      <td>0.000000e+00</td>\n",
       "      <td>0.000000</td>\n",
       "      <td>2.000000</td>\n",
       "      <td>4.000000e+00</td>\n",
       "      <td>...</td>\n",
       "      <td>0.000000</td>\n",
       "      <td>0.820000</td>\n",
       "      <td>0.800000</td>\n",
       "      <td>0.000000</td>\n",
       "      <td>NaN</td>\n",
       "      <td>NaN</td>\n",
       "      <td>NaN</td>\n",
       "      <td>NaN</td>\n",
       "      <td>NaN</td>\n",
       "      <td>NaN</td>\n",
       "    </tr>\n",
       "    <tr>\n",
       "      <th>75%</th>\n",
       "      <td>2.314826e+06</td>\n",
       "      <td>57.000000</td>\n",
       "      <td>8.000000</td>\n",
       "      <td>0.000000</td>\n",
       "      <td>1.200000e+01</td>\n",
       "      <td>2.500000e+01</td>\n",
       "      <td>3.600000e+01</td>\n",
       "      <td>6.000000</td>\n",
       "      <td>17.000000</td>\n",
       "      <td>3.400000e+01</td>\n",
       "      <td>...</td>\n",
       "      <td>0.000000</td>\n",
       "      <td>0.960000</td>\n",
       "      <td>0.950000</td>\n",
       "      <td>0.000000</td>\n",
       "      <td>NaN</td>\n",
       "      <td>NaN</td>\n",
       "      <td>NaN</td>\n",
       "      <td>NaN</td>\n",
       "      <td>NaN</td>\n",
       "      <td>NaN</td>\n",
       "    </tr>\n",
       "    <tr>\n",
       "      <th>max</th>\n",
       "      <td>3.284895e+06</td>\n",
       "      <td>673445.000000</td>\n",
       "      <td>52.000000</td>\n",
       "      <td>170976.000000</td>\n",
       "      <td>1.126656e+06</td>\n",
       "      <td>2.094336e+06</td>\n",
       "      <td>3.062016e+06</td>\n",
       "      <td>295197.000000</td>\n",
       "      <td>934593.000000</td>\n",
       "      <td>1.799099e+06</td>\n",
       "      <td>...</td>\n",
       "      <td>7392.000000</td>\n",
       "      <td>1.000000</td>\n",
       "      <td>1.000000</td>\n",
       "      <td>2999.000000</td>\n",
       "      <td>NaN</td>\n",
       "      <td>NaN</td>\n",
       "      <td>NaN</td>\n",
       "      <td>NaN</td>\n",
       "      <td>NaN</td>\n",
       "      <td>NaN</td>\n",
       "    </tr>\n",
       "  </tbody>\n",
       "</table>\n",
       "<p>11 rows × 23 columns</p>\n",
       "</div>"
      ],
      "text/plain": [
       "                 sku   national_inv     lead_time  in_transit_qty  \\\n",
       "count   6.158900e+04   61589.000000  58186.000000    61589.000000   \n",
       "unique           NaN            NaN           NaN             NaN   \n",
       "top              NaN            NaN           NaN             NaN   \n",
       "freq             NaN            NaN           NaN             NaN   \n",
       "mean    2.037188e+06     287.721882      7.559619       30.192843   \n",
       "std     6.564178e+05    4233.906931      6.498952      792.869253   \n",
       "min     1.068628e+06   -2999.000000      0.000000        0.000000   \n",
       "25%     1.498574e+06       3.000000      4.000000        0.000000   \n",
       "50%     1.898033e+06      10.000000      8.000000        0.000000   \n",
       "75%     2.314826e+06      57.000000      8.000000        0.000000   \n",
       "max     3.284895e+06  673445.000000     52.000000   170976.000000   \n",
       "\n",
       "        forecast_3_month  forecast_6_month  forecast_9_month  sales_1_month  \\\n",
       "count       6.158900e+04      6.158900e+04      6.158900e+04   61589.000000   \n",
       "unique               NaN               NaN               NaN            NaN   \n",
       "top                  NaN               NaN               NaN            NaN   \n",
       "freq                 NaN               NaN               NaN            NaN   \n",
       "mean        1.692728e+02      3.150413e+02      4.535760e+02      44.742957   \n",
       "std         5.286742e+03      9.774362e+03      1.420201e+04    1373.805831   \n",
       "min         0.000000e+00      0.000000e+00      0.000000e+00       0.000000   \n",
       "25%         0.000000e+00      0.000000e+00      0.000000e+00       0.000000   \n",
       "50%         0.000000e+00      0.000000e+00      0.000000e+00       0.000000   \n",
       "75%         1.200000e+01      2.500000e+01      3.600000e+01       6.000000   \n",
       "max         1.126656e+06      2.094336e+06      3.062016e+06  295197.000000   \n",
       "\n",
       "        sales_3_month  sales_6_month  ...  pieces_past_due  perf_6_month_avg  \\\n",
       "count    61589.000000   6.158900e+04  ...     61589.000000      61589.000000   \n",
       "unique            NaN            NaN  ...              NaN               NaN   \n",
       "top               NaN            NaN  ...              NaN               NaN   \n",
       "freq              NaN            NaN  ...              NaN               NaN   \n",
       "mean       150.732631   2.835465e+02  ...         1.605400         -6.264182   \n",
       "std       5224.959649   8.872270e+03  ...        42.309229         25.537906   \n",
       "min          0.000000   0.000000e+00  ...         0.000000        -99.000000   \n",
       "25%          0.000000   0.000000e+00  ...         0.000000          0.620000   \n",
       "50%          2.000000   4.000000e+00  ...         0.000000          0.820000   \n",
       "75%         17.000000   3.400000e+01  ...         0.000000          0.960000   \n",
       "max     934593.000000   1.799099e+06  ...      7392.000000          1.000000   \n",
       "\n",
       "       perf_12_month_avg  local_bo_qty  deck_risk  oe_constraint  ppap_risk  \\\n",
       "count       61589.000000  61589.000000      61589          61589      61589   \n",
       "unique               NaN           NaN          2              2          2   \n",
       "top                  NaN           NaN         No             No         No   \n",
       "freq                 NaN           NaN      48145          61577      53792   \n",
       "mean           -5.863664      1.205361        NaN            NaN        NaN   \n",
       "std            24.844514     29.981155        NaN            NaN        NaN   \n",
       "min           -99.000000      0.000000        NaN            NaN        NaN   \n",
       "25%             0.640000      0.000000        NaN            NaN        NaN   \n",
       "50%             0.800000      0.000000        NaN            NaN        NaN   \n",
       "75%             0.950000      0.000000        NaN            NaN        NaN   \n",
       "max             1.000000   2999.000000        NaN            NaN        NaN   \n",
       "\n",
       "       stop_auto_buy rev_stop went_on_backorder  \n",
       "count          61589    61589             61589  \n",
       "unique             2        2                 2  \n",
       "top              Yes       No                No  \n",
       "freq           59303    61569             50296  \n",
       "mean             NaN      NaN               NaN  \n",
       "std              NaN      NaN               NaN  \n",
       "min              NaN      NaN               NaN  \n",
       "25%              NaN      NaN               NaN  \n",
       "50%              NaN      NaN               NaN  \n",
       "75%              NaN      NaN               NaN  \n",
       "max              NaN      NaN               NaN  \n",
       "\n",
       "[11 rows x 23 columns]"
      ]
     },
     "execution_count": 7,
     "metadata": {},
     "output_type": "execute_result"
    }
   ],
   "source": []
  },
  {
   "cell_type": "markdown",
   "metadata": {},
   "source": [
    "## Data type"
   ]
  },
  {
   "cell_type": "code",
   "execution_count": 8,
   "metadata": {},
   "outputs": [
    {
     "data": {
      "text/plain": [
       "sku                    int64\n",
       "national_inv           int64\n",
       "lead_time            float64\n",
       "in_transit_qty         int64\n",
       "forecast_3_month       int64\n",
       "forecast_6_month       int64\n",
       "forecast_9_month       int64\n",
       "sales_1_month          int64\n",
       "sales_3_month          int64\n",
       "sales_6_month          int64\n",
       "sales_9_month          int64\n",
       "min_bank               int64\n",
       "potential_issue       object\n",
       "pieces_past_due        int64\n",
       "perf_6_month_avg     float64\n",
       "perf_12_month_avg    float64\n",
       "local_bo_qty           int64\n",
       "deck_risk             object\n",
       "oe_constraint         object\n",
       "ppap_risk             object\n",
       "stop_auto_buy         object\n",
       "rev_stop              object\n",
       "went_on_backorder     object\n",
       "dtype: object"
      ]
     },
     "execution_count": 8,
     "metadata": {},
     "output_type": "execute_result"
    }
   ],
   "source": []
  },
  {
   "cell_type": "markdown",
   "metadata": {},
   "source": [
    "__Observations__\n",
    "\n",
    "* sku is `categorical` but is interpreted as `int64` \n",
    "* potential_issue, deck_risk, oe_constraint, ppap_risk, stop_auto_buy, rev_stop, and went_on_backorder are also `categorical` but is interpreted as `object`. "
   ]
  },
  {
   "cell_type": "markdown",
   "metadata": {},
   "source": [
    "# Data pre-processing"
   ]
  },
  {
   "cell_type": "markdown",
   "metadata": {},
   "source": [
    "## Convert all the attributes to appropriate type"
   ]
  },
  {
   "cell_type": "markdown",
   "metadata": {},
   "source": [
    "Data type conversion\n",
    "\n",
    "    Using astype('category') to convert potential_issue, deck_risk, oe_constraint, ppap_risk, stop_auto_buy, rev_stop, and went_on_backorder attributes to categorical attributes.\n"
   ]
  },
  {
   "cell_type": "code",
   "execution_count": 9,
   "metadata": {},
   "outputs": [],
   "source": []
  },
  {
   "cell_type": "markdown",
   "metadata": {},
   "source": [
    "### Re-display data type of each variable"
   ]
  },
  {
   "cell_type": "code",
   "execution_count": 10,
   "metadata": {},
   "outputs": [
    {
     "data": {
      "text/plain": [
       "sku                  category\n",
       "national_inv            int64\n",
       "lead_time             float64\n",
       "in_transit_qty          int64\n",
       "forecast_3_month        int64\n",
       "forecast_6_month        int64\n",
       "forecast_9_month        int64\n",
       "sales_1_month           int64\n",
       "sales_3_month           int64\n",
       "sales_6_month           int64\n",
       "sales_9_month           int64\n",
       "min_bank                int64\n",
       "potential_issue      category\n",
       "pieces_past_due         int64\n",
       "perf_6_month_avg      float64\n",
       "perf_12_month_avg     float64\n",
       "local_bo_qty            int64\n",
       "deck_risk            category\n",
       "oe_constraint        category\n",
       "ppap_risk            category\n",
       "stop_auto_buy        category\n",
       "rev_stop             category\n",
       "went_on_backorder    category\n",
       "dtype: object"
      ]
     },
     "execution_count": 10,
     "metadata": {},
     "output_type": "execute_result"
    }
   ],
   "source": []
  },
  {
   "cell_type": "markdown",
   "metadata": {},
   "source": [
    "### Statistic summary \n",
    "    Using describe function"
   ]
  },
  {
   "cell_type": "code",
   "execution_count": 11,
   "metadata": {
    "scrolled": true
   },
   "outputs": [
    {
     "data": {
      "text/html": [
       "<div>\n",
       "<style scoped>\n",
       "    .dataframe tbody tr th:only-of-type {\n",
       "        vertical-align: middle;\n",
       "    }\n",
       "\n",
       "    .dataframe tbody tr th {\n",
       "        vertical-align: top;\n",
       "    }\n",
       "\n",
       "    .dataframe thead th {\n",
       "        text-align: right;\n",
       "    }\n",
       "</style>\n",
       "<table border=\"1\" class=\"dataframe\">\n",
       "  <thead>\n",
       "    <tr style=\"text-align: right;\">\n",
       "      <th></th>\n",
       "      <th>sku</th>\n",
       "      <th>national_inv</th>\n",
       "      <th>lead_time</th>\n",
       "      <th>in_transit_qty</th>\n",
       "      <th>forecast_3_month</th>\n",
       "      <th>forecast_6_month</th>\n",
       "      <th>forecast_9_month</th>\n",
       "      <th>sales_1_month</th>\n",
       "      <th>sales_3_month</th>\n",
       "      <th>sales_6_month</th>\n",
       "      <th>...</th>\n",
       "      <th>pieces_past_due</th>\n",
       "      <th>perf_6_month_avg</th>\n",
       "      <th>perf_12_month_avg</th>\n",
       "      <th>local_bo_qty</th>\n",
       "      <th>deck_risk</th>\n",
       "      <th>oe_constraint</th>\n",
       "      <th>ppap_risk</th>\n",
       "      <th>stop_auto_buy</th>\n",
       "      <th>rev_stop</th>\n",
       "      <th>went_on_backorder</th>\n",
       "    </tr>\n",
       "  </thead>\n",
       "  <tbody>\n",
       "    <tr>\n",
       "      <th>count</th>\n",
       "      <td>61589.0</td>\n",
       "      <td>61589.000000</td>\n",
       "      <td>58186.000000</td>\n",
       "      <td>61589.000000</td>\n",
       "      <td>6.158900e+04</td>\n",
       "      <td>6.158900e+04</td>\n",
       "      <td>6.158900e+04</td>\n",
       "      <td>61589.000000</td>\n",
       "      <td>61589.000000</td>\n",
       "      <td>6.158900e+04</td>\n",
       "      <td>...</td>\n",
       "      <td>61589.000000</td>\n",
       "      <td>61589.000000</td>\n",
       "      <td>61589.000000</td>\n",
       "      <td>61589.000000</td>\n",
       "      <td>61589</td>\n",
       "      <td>61589</td>\n",
       "      <td>61589</td>\n",
       "      <td>61589</td>\n",
       "      <td>61589</td>\n",
       "      <td>61589</td>\n",
       "    </tr>\n",
       "    <tr>\n",
       "      <th>unique</th>\n",
       "      <td>61589.0</td>\n",
       "      <td>NaN</td>\n",
       "      <td>NaN</td>\n",
       "      <td>NaN</td>\n",
       "      <td>NaN</td>\n",
       "      <td>NaN</td>\n",
       "      <td>NaN</td>\n",
       "      <td>NaN</td>\n",
       "      <td>NaN</td>\n",
       "      <td>NaN</td>\n",
       "      <td>...</td>\n",
       "      <td>NaN</td>\n",
       "      <td>NaN</td>\n",
       "      <td>NaN</td>\n",
       "      <td>NaN</td>\n",
       "      <td>2</td>\n",
       "      <td>2</td>\n",
       "      <td>2</td>\n",
       "      <td>2</td>\n",
       "      <td>2</td>\n",
       "      <td>2</td>\n",
       "    </tr>\n",
       "    <tr>\n",
       "      <th>top</th>\n",
       "      <td>3284895.0</td>\n",
       "      <td>NaN</td>\n",
       "      <td>NaN</td>\n",
       "      <td>NaN</td>\n",
       "      <td>NaN</td>\n",
       "      <td>NaN</td>\n",
       "      <td>NaN</td>\n",
       "      <td>NaN</td>\n",
       "      <td>NaN</td>\n",
       "      <td>NaN</td>\n",
       "      <td>...</td>\n",
       "      <td>NaN</td>\n",
       "      <td>NaN</td>\n",
       "      <td>NaN</td>\n",
       "      <td>NaN</td>\n",
       "      <td>No</td>\n",
       "      <td>No</td>\n",
       "      <td>No</td>\n",
       "      <td>Yes</td>\n",
       "      <td>No</td>\n",
       "      <td>No</td>\n",
       "    </tr>\n",
       "    <tr>\n",
       "      <th>freq</th>\n",
       "      <td>1.0</td>\n",
       "      <td>NaN</td>\n",
       "      <td>NaN</td>\n",
       "      <td>NaN</td>\n",
       "      <td>NaN</td>\n",
       "      <td>NaN</td>\n",
       "      <td>NaN</td>\n",
       "      <td>NaN</td>\n",
       "      <td>NaN</td>\n",
       "      <td>NaN</td>\n",
       "      <td>...</td>\n",
       "      <td>NaN</td>\n",
       "      <td>NaN</td>\n",
       "      <td>NaN</td>\n",
       "      <td>NaN</td>\n",
       "      <td>48145</td>\n",
       "      <td>61577</td>\n",
       "      <td>53792</td>\n",
       "      <td>59303</td>\n",
       "      <td>61569</td>\n",
       "      <td>50296</td>\n",
       "    </tr>\n",
       "    <tr>\n",
       "      <th>mean</th>\n",
       "      <td>NaN</td>\n",
       "      <td>287.721882</td>\n",
       "      <td>7.559619</td>\n",
       "      <td>30.192843</td>\n",
       "      <td>1.692728e+02</td>\n",
       "      <td>3.150413e+02</td>\n",
       "      <td>4.535760e+02</td>\n",
       "      <td>44.742957</td>\n",
       "      <td>150.732631</td>\n",
       "      <td>2.835465e+02</td>\n",
       "      <td>...</td>\n",
       "      <td>1.605400</td>\n",
       "      <td>-6.264182</td>\n",
       "      <td>-5.863664</td>\n",
       "      <td>1.205361</td>\n",
       "      <td>NaN</td>\n",
       "      <td>NaN</td>\n",
       "      <td>NaN</td>\n",
       "      <td>NaN</td>\n",
       "      <td>NaN</td>\n",
       "      <td>NaN</td>\n",
       "    </tr>\n",
       "    <tr>\n",
       "      <th>std</th>\n",
       "      <td>NaN</td>\n",
       "      <td>4233.906931</td>\n",
       "      <td>6.498952</td>\n",
       "      <td>792.869253</td>\n",
       "      <td>5.286742e+03</td>\n",
       "      <td>9.774362e+03</td>\n",
       "      <td>1.420201e+04</td>\n",
       "      <td>1373.805831</td>\n",
       "      <td>5224.959649</td>\n",
       "      <td>8.872270e+03</td>\n",
       "      <td>...</td>\n",
       "      <td>42.309229</td>\n",
       "      <td>25.537906</td>\n",
       "      <td>24.844514</td>\n",
       "      <td>29.981155</td>\n",
       "      <td>NaN</td>\n",
       "      <td>NaN</td>\n",
       "      <td>NaN</td>\n",
       "      <td>NaN</td>\n",
       "      <td>NaN</td>\n",
       "      <td>NaN</td>\n",
       "    </tr>\n",
       "    <tr>\n",
       "      <th>min</th>\n",
       "      <td>NaN</td>\n",
       "      <td>-2999.000000</td>\n",
       "      <td>0.000000</td>\n",
       "      <td>0.000000</td>\n",
       "      <td>0.000000e+00</td>\n",
       "      <td>0.000000e+00</td>\n",
       "      <td>0.000000e+00</td>\n",
       "      <td>0.000000</td>\n",
       "      <td>0.000000</td>\n",
       "      <td>0.000000e+00</td>\n",
       "      <td>...</td>\n",
       "      <td>0.000000</td>\n",
       "      <td>-99.000000</td>\n",
       "      <td>-99.000000</td>\n",
       "      <td>0.000000</td>\n",
       "      <td>NaN</td>\n",
       "      <td>NaN</td>\n",
       "      <td>NaN</td>\n",
       "      <td>NaN</td>\n",
       "      <td>NaN</td>\n",
       "      <td>NaN</td>\n",
       "    </tr>\n",
       "    <tr>\n",
       "      <th>25%</th>\n",
       "      <td>NaN</td>\n",
       "      <td>3.000000</td>\n",
       "      <td>4.000000</td>\n",
       "      <td>0.000000</td>\n",
       "      <td>0.000000e+00</td>\n",
       "      <td>0.000000e+00</td>\n",
       "      <td>0.000000e+00</td>\n",
       "      <td>0.000000</td>\n",
       "      <td>0.000000</td>\n",
       "      <td>0.000000e+00</td>\n",
       "      <td>...</td>\n",
       "      <td>0.000000</td>\n",
       "      <td>0.620000</td>\n",
       "      <td>0.640000</td>\n",
       "      <td>0.000000</td>\n",
       "      <td>NaN</td>\n",
       "      <td>NaN</td>\n",
       "      <td>NaN</td>\n",
       "      <td>NaN</td>\n",
       "      <td>NaN</td>\n",
       "      <td>NaN</td>\n",
       "    </tr>\n",
       "    <tr>\n",
       "      <th>50%</th>\n",
       "      <td>NaN</td>\n",
       "      <td>10.000000</td>\n",
       "      <td>8.000000</td>\n",
       "      <td>0.000000</td>\n",
       "      <td>0.000000e+00</td>\n",
       "      <td>0.000000e+00</td>\n",
       "      <td>0.000000e+00</td>\n",
       "      <td>0.000000</td>\n",
       "      <td>2.000000</td>\n",
       "      <td>4.000000e+00</td>\n",
       "      <td>...</td>\n",
       "      <td>0.000000</td>\n",
       "      <td>0.820000</td>\n",
       "      <td>0.800000</td>\n",
       "      <td>0.000000</td>\n",
       "      <td>NaN</td>\n",
       "      <td>NaN</td>\n",
       "      <td>NaN</td>\n",
       "      <td>NaN</td>\n",
       "      <td>NaN</td>\n",
       "      <td>NaN</td>\n",
       "    </tr>\n",
       "    <tr>\n",
       "      <th>75%</th>\n",
       "      <td>NaN</td>\n",
       "      <td>57.000000</td>\n",
       "      <td>8.000000</td>\n",
       "      <td>0.000000</td>\n",
       "      <td>1.200000e+01</td>\n",
       "      <td>2.500000e+01</td>\n",
       "      <td>3.600000e+01</td>\n",
       "      <td>6.000000</td>\n",
       "      <td>17.000000</td>\n",
       "      <td>3.400000e+01</td>\n",
       "      <td>...</td>\n",
       "      <td>0.000000</td>\n",
       "      <td>0.960000</td>\n",
       "      <td>0.950000</td>\n",
       "      <td>0.000000</td>\n",
       "      <td>NaN</td>\n",
       "      <td>NaN</td>\n",
       "      <td>NaN</td>\n",
       "      <td>NaN</td>\n",
       "      <td>NaN</td>\n",
       "      <td>NaN</td>\n",
       "    </tr>\n",
       "    <tr>\n",
       "      <th>max</th>\n",
       "      <td>NaN</td>\n",
       "      <td>673445.000000</td>\n",
       "      <td>52.000000</td>\n",
       "      <td>170976.000000</td>\n",
       "      <td>1.126656e+06</td>\n",
       "      <td>2.094336e+06</td>\n",
       "      <td>3.062016e+06</td>\n",
       "      <td>295197.000000</td>\n",
       "      <td>934593.000000</td>\n",
       "      <td>1.799099e+06</td>\n",
       "      <td>...</td>\n",
       "      <td>7392.000000</td>\n",
       "      <td>1.000000</td>\n",
       "      <td>1.000000</td>\n",
       "      <td>2999.000000</td>\n",
       "      <td>NaN</td>\n",
       "      <td>NaN</td>\n",
       "      <td>NaN</td>\n",
       "      <td>NaN</td>\n",
       "      <td>NaN</td>\n",
       "      <td>NaN</td>\n",
       "    </tr>\n",
       "  </tbody>\n",
       "</table>\n",
       "<p>11 rows × 23 columns</p>\n",
       "</div>"
      ],
      "text/plain": [
       "              sku   national_inv     lead_time  in_transit_qty  \\\n",
       "count     61589.0   61589.000000  58186.000000    61589.000000   \n",
       "unique    61589.0            NaN           NaN             NaN   \n",
       "top     3284895.0            NaN           NaN             NaN   \n",
       "freq          1.0            NaN           NaN             NaN   \n",
       "mean          NaN     287.721882      7.559619       30.192843   \n",
       "std           NaN    4233.906931      6.498952      792.869253   \n",
       "min           NaN   -2999.000000      0.000000        0.000000   \n",
       "25%           NaN       3.000000      4.000000        0.000000   \n",
       "50%           NaN      10.000000      8.000000        0.000000   \n",
       "75%           NaN      57.000000      8.000000        0.000000   \n",
       "max           NaN  673445.000000     52.000000   170976.000000   \n",
       "\n",
       "        forecast_3_month  forecast_6_month  forecast_9_month  sales_1_month  \\\n",
       "count       6.158900e+04      6.158900e+04      6.158900e+04   61589.000000   \n",
       "unique               NaN               NaN               NaN            NaN   \n",
       "top                  NaN               NaN               NaN            NaN   \n",
       "freq                 NaN               NaN               NaN            NaN   \n",
       "mean        1.692728e+02      3.150413e+02      4.535760e+02      44.742957   \n",
       "std         5.286742e+03      9.774362e+03      1.420201e+04    1373.805831   \n",
       "min         0.000000e+00      0.000000e+00      0.000000e+00       0.000000   \n",
       "25%         0.000000e+00      0.000000e+00      0.000000e+00       0.000000   \n",
       "50%         0.000000e+00      0.000000e+00      0.000000e+00       0.000000   \n",
       "75%         1.200000e+01      2.500000e+01      3.600000e+01       6.000000   \n",
       "max         1.126656e+06      2.094336e+06      3.062016e+06  295197.000000   \n",
       "\n",
       "        sales_3_month  sales_6_month  ...  pieces_past_due  perf_6_month_avg  \\\n",
       "count    61589.000000   6.158900e+04  ...     61589.000000      61589.000000   \n",
       "unique            NaN            NaN  ...              NaN               NaN   \n",
       "top               NaN            NaN  ...              NaN               NaN   \n",
       "freq              NaN            NaN  ...              NaN               NaN   \n",
       "mean       150.732631   2.835465e+02  ...         1.605400         -6.264182   \n",
       "std       5224.959649   8.872270e+03  ...        42.309229         25.537906   \n",
       "min          0.000000   0.000000e+00  ...         0.000000        -99.000000   \n",
       "25%          0.000000   0.000000e+00  ...         0.000000          0.620000   \n",
       "50%          2.000000   4.000000e+00  ...         0.000000          0.820000   \n",
       "75%         17.000000   3.400000e+01  ...         0.000000          0.960000   \n",
       "max     934593.000000   1.799099e+06  ...      7392.000000          1.000000   \n",
       "\n",
       "       perf_12_month_avg  local_bo_qty  deck_risk  oe_constraint  ppap_risk  \\\n",
       "count       61589.000000  61589.000000      61589          61589      61589   \n",
       "unique               NaN           NaN          2              2          2   \n",
       "top                  NaN           NaN         No             No         No   \n",
       "freq                 NaN           NaN      48145          61577      53792   \n",
       "mean           -5.863664      1.205361        NaN            NaN        NaN   \n",
       "std            24.844514     29.981155        NaN            NaN        NaN   \n",
       "min           -99.000000      0.000000        NaN            NaN        NaN   \n",
       "25%             0.640000      0.000000        NaN            NaN        NaN   \n",
       "50%             0.800000      0.000000        NaN            NaN        NaN   \n",
       "75%             0.950000      0.000000        NaN            NaN        NaN   \n",
       "max             1.000000   2999.000000        NaN            NaN        NaN   \n",
       "\n",
       "       stop_auto_buy rev_stop went_on_backorder  \n",
       "count          61589    61589             61589  \n",
       "unique             2        2                 2  \n",
       "top              Yes       No                No  \n",
       "freq           59303    61569             50296  \n",
       "mean             NaN      NaN               NaN  \n",
       "std              NaN      NaN               NaN  \n",
       "min              NaN      NaN               NaN  \n",
       "25%              NaN      NaN               NaN  \n",
       "50%              NaN      NaN               NaN  \n",
       "75%              NaN      NaN               NaN  \n",
       "max              NaN      NaN               NaN  \n",
       "\n",
       "[11 rows x 23 columns]"
      ]
     },
     "execution_count": 11,
     "metadata": {},
     "output_type": "execute_result"
    }
   ],
   "source": []
  },
  {
   "cell_type": "markdown",
   "metadata": {},
   "source": [
    "## Delete sku attribute"
   ]
  },
  {
   "cell_type": "code",
   "execution_count": 12,
   "metadata": {},
   "outputs": [
    {
     "data": {
      "text/plain": [
       "61589"
      ]
     },
     "execution_count": 12,
     "metadata": {},
     "output_type": "execute_result"
    }
   ],
   "source": []
  },
  {
   "cell_type": "code",
   "execution_count": 13,
   "metadata": {},
   "outputs": [],
   "source": []
  },
  {
   "cell_type": "markdown",
   "metadata": {},
   "source": [
    "## Missing Data\n",
    "\n",
    "    Missing value analysis and dropping the records with missing values"
   ]
  },
  {
   "cell_type": "code",
   "execution_count": 14,
   "metadata": {},
   "outputs": [
    {
     "data": {
      "text/plain": [
       "national_inv            0\n",
       "lead_time            3403\n",
       "in_transit_qty          0\n",
       "forecast_3_month        0\n",
       "forecast_6_month        0\n",
       "forecast_9_month        0\n",
       "sales_1_month           0\n",
       "sales_3_month           0\n",
       "sales_6_month           0\n",
       "sales_9_month           0\n",
       "min_bank                0\n",
       "potential_issue         0\n",
       "pieces_past_due         0\n",
       "perf_6_month_avg        0\n",
       "perf_12_month_avg       0\n",
       "local_bo_qty            0\n",
       "deck_risk               0\n",
       "oe_constraint           0\n",
       "ppap_risk               0\n",
       "stop_auto_buy           0\n",
       "rev_stop                0\n",
       "went_on_backorder       0\n",
       "dtype: int64"
      ]
     },
     "execution_count": 14,
     "metadata": {},
     "output_type": "execute_result"
    }
   ],
   "source": []
  },
  {
   "cell_type": "markdown",
   "metadata": {},
   "source": [
    "Observing the number of records before and after missing value records removal"
   ]
  },
  {
   "cell_type": "code",
   "execution_count": 15,
   "metadata": {},
   "outputs": [
    {
     "name": "stdout",
     "output_type": "stream",
     "text": [
      "(61589, 22)\n"
     ]
    }
   ],
   "source": []
  },
  {
   "cell_type": "markdown",
   "metadata": {},
   "source": [
    "Since the number of missing values is about 5% and as we have around 61K records. For initial analysis we ignore all these records"
   ]
  },
  {
   "cell_type": "code",
   "execution_count": 16,
   "metadata": {},
   "outputs": [],
   "source": []
  },
  {
   "cell_type": "code",
   "execution_count": 17,
   "metadata": {},
   "outputs": [
    {
     "name": "stdout",
     "output_type": "stream",
     "text": [
      "national_inv         0\n",
      "lead_time            0\n",
      "in_transit_qty       0\n",
      "forecast_3_month     0\n",
      "forecast_6_month     0\n",
      "forecast_9_month     0\n",
      "sales_1_month        0\n",
      "sales_3_month        0\n",
      "sales_6_month        0\n",
      "sales_9_month        0\n",
      "min_bank             0\n",
      "potential_issue      0\n",
      "pieces_past_due      0\n",
      "perf_6_month_avg     0\n",
      "perf_12_month_avg    0\n",
      "local_bo_qty         0\n",
      "deck_risk            0\n",
      "oe_constraint        0\n",
      "ppap_risk            0\n",
      "stop_auto_buy        0\n",
      "rev_stop             0\n",
      "went_on_backorder    0\n",
      "dtype: int64\n",
      "(58186, 22)\n"
     ]
    }
   ],
   "source": []
  },
  {
   "cell_type": "markdown",
   "metadata": {},
   "source": [
    "## Train and test split"
   ]
  },
  {
   "cell_type": "markdown",
   "metadata": {},
   "source": [
    "### Target attribute distribution "
   ]
  },
  {
   "cell_type": "code",
   "execution_count": 18,
   "metadata": {},
   "outputs": [
    {
     "data": {
      "text/plain": [
       "No     47217\n",
       "Yes    10969\n",
       "Name: went_on_backorder, dtype: int64"
      ]
     },
     "execution_count": 18,
     "metadata": {},
     "output_type": "execute_result"
    }
   ],
   "source": []
  },
  {
   "cell_type": "code",
   "execution_count": 19,
   "metadata": {},
   "outputs": [
    {
     "data": {
      "text/plain": [
       "No     81.148386\n",
       "Yes    18.851614\n",
       "Name: went_on_backorder, dtype: float64"
      ]
     },
     "execution_count": 19,
     "metadata": {},
     "output_type": "execute_result"
    }
   ],
   "source": []
  },
  {
   "cell_type": "markdown",
   "metadata": {},
   "source": [
    "### Split the data into train and test\n",
    "sklearn.model_selection.train_test_split\n",
    "\n",
    "    Split arrays or matrices into random train and test subsets"
   ]
  },
  {
   "cell_type": "code",
   "execution_count": 20,
   "metadata": {},
   "outputs": [],
   "source": []
  },
  {
   "cell_type": "markdown",
   "metadata": {},
   "source": [
    "### Target attribute distribution after the split"
   ]
  },
  {
   "cell_type": "code",
   "execution_count": 21,
   "metadata": {},
   "outputs": [
    {
     "name": "stdout",
     "output_type": "stream",
     "text": [
      "No     81.185858\n",
      "Yes    18.814142\n",
      "Name: went_on_backorder, dtype: float64\n",
      "No     81.060953\n",
      "Yes    18.939047\n",
      "Name: went_on_backorder, dtype: float64\n"
     ]
    }
   ],
   "source": []
  },
  {
   "cell_type": "markdown",
   "metadata": {},
   "source": [
    "## Convert categorical target attribute to numeric\n",
    "\n",
    "Using `LabelEncoder` convert categorical target attribute __went_on_backorder__ to numeric"
   ]
  },
  {
   "cell_type": "code",
   "execution_count": null,
   "metadata": {},
   "outputs": [],
   "source": []
  },
  {
   "cell_type": "code",
   "execution_count": null,
   "metadata": {},
   "outputs": [],
   "source": []
  },
  {
   "cell_type": "code",
   "execution_count": null,
   "metadata": {},
   "outputs": [],
   "source": []
  },
  {
   "cell_type": "markdown",
   "metadata": {},
   "source": [
    "### Target attribute distribution"
   ]
  },
  {
   "cell_type": "code",
   "execution_count": 25,
   "metadata": {},
   "outputs": [
    {
     "data": {
      "text/plain": [
       "40730"
      ]
     },
     "execution_count": 25,
     "metadata": {},
     "output_type": "execute_result"
    }
   ],
   "source": []
  },
  {
   "cell_type": "code",
   "execution_count": null,
   "metadata": {},
   "outputs": [],
   "source": []
  },
  {
   "cell_type": "markdown",
   "metadata": {},
   "source": [
    "## Checking the data types"
   ]
  },
  {
   "cell_type": "code",
   "execution_count": 27,
   "metadata": {},
   "outputs": [
    {
     "data": {
      "text/plain": [
       "national_inv            int64\n",
       "lead_time             float64\n",
       "in_transit_qty          int64\n",
       "forecast_3_month        int64\n",
       "forecast_6_month        int64\n",
       "forecast_9_month        int64\n",
       "sales_1_month           int64\n",
       "sales_3_month           int64\n",
       "sales_6_month           int64\n",
       "sales_9_month           int64\n",
       "min_bank                int64\n",
       "potential_issue      category\n",
       "pieces_past_due         int64\n",
       "perf_6_month_avg      float64\n",
       "perf_12_month_avg     float64\n",
       "local_bo_qty            int64\n",
       "deck_risk            category\n",
       "oe_constraint        category\n",
       "ppap_risk            category\n",
       "stop_auto_buy        category\n",
       "rev_stop             category\n",
       "dtype: object"
      ]
     },
     "execution_count": 27,
     "metadata": {},
     "output_type": "execute_result"
    }
   ],
   "source": []
  },
  {
   "cell_type": "markdown",
   "metadata": {},
   "source": [
    "## Standardize the numerical attributes\n",
    "\n",
    "__Note__: For Decision Tree and Random Forest Numeric attributes need not be standardized. "
   ]
  },
  {
   "cell_type": "markdown",
   "metadata": {},
   "source": [
    "### Store numerical attributes name"
   ]
  },
  {
   "cell_type": "code",
   "execution_count": 28,
   "metadata": {},
   "outputs": [
    {
     "data": {
      "text/plain": [
       "Index(['national_inv', 'lead_time', 'in_transit_qty', 'forecast_3_month',\n",
       "       'forecast_6_month', 'forecast_9_month', 'sales_1_month',\n",
       "       'sales_3_month', 'sales_6_month', 'sales_9_month', 'min_bank',\n",
       "       'pieces_past_due', 'perf_6_month_avg', 'perf_12_month_avg',\n",
       "       'local_bo_qty'],\n",
       "      dtype='object')"
      ]
     },
     "execution_count": 28,
     "metadata": {},
     "output_type": "execute_result"
    }
   ],
   "source": []
  },
  {
   "cell_type": "markdown",
   "metadata": {
    "collapsed": true
   },
   "source": [
    "### Using StandardScaler, standardize the numerical attributes "
   ]
  },
  {
   "cell_type": "code",
   "execution_count": 29,
   "metadata": {},
   "outputs": [
    {
     "data": {
      "text/plain": [
       "StandardScaler()"
      ]
     },
     "execution_count": 29,
     "metadata": {},
     "output_type": "execute_result"
    }
   ],
   "source": []
  },
  {
   "cell_type": "code",
   "execution_count": 30,
   "metadata": {},
   "outputs": [],
   "source": []
  },
  {
   "cell_type": "code",
   "execution_count": 31,
   "metadata": {},
   "outputs": [
    {
     "name": "stdout",
     "output_type": "stream",
     "text": [
      "(40730, 15)\n",
      "(17456, 15)\n"
     ]
    }
   ],
   "source": []
  },
  {
   "cell_type": "markdown",
   "metadata": {},
   "source": [
    "## Converting Categorical attributes to Numeric attributes"
   ]
  },
  {
   "cell_type": "markdown",
   "metadata": {},
   "source": [
    "### Store categorical attributes name"
   ]
  },
  {
   "cell_type": "code",
   "execution_count": 32,
   "metadata": {},
   "outputs": [
    {
     "data": {
      "text/plain": [
       "Index(['potential_issue', 'deck_risk', 'oe_constraint', 'ppap_risk',\n",
       "       'stop_auto_buy', 'rev_stop'],\n",
       "      dtype='object')"
      ]
     },
     "execution_count": 32,
     "metadata": {},
     "output_type": "execute_result"
    }
   ],
   "source": []
  },
  {
   "cell_type": "markdown",
   "metadata": {},
   "source": [
    "### Using OneHotEncoder,  converting Categorical attributes to Numeric attributes "
   ]
  },
  {
   "cell_type": "code",
   "execution_count": 33,
   "metadata": {},
   "outputs": [
    {
     "data": {
      "text/plain": [
       "OneHotEncoder(drop='first')"
      ]
     },
     "execution_count": 33,
     "metadata": {},
     "output_type": "execute_result"
    }
   ],
   "source": []
  },
  {
   "cell_type": "code",
   "execution_count": 34,
   "metadata": {},
   "outputs": [],
   "source": []
  },
  {
   "cell_type": "markdown",
   "metadata": {},
   "source": [
    "## Concatenate attribute\n",
    "Standardised numeric attributes and One hot encoded categorical attributes"
   ]
  },
  {
   "cell_type": "code",
   "execution_count": 35,
   "metadata": {},
   "outputs": [],
   "source": []
  },
  {
   "cell_type": "code",
   "execution_count": 36,
   "metadata": {},
   "outputs": [
    {
     "data": {
      "text/plain": [
       "(40730, 21)"
      ]
     },
     "execution_count": 36,
     "metadata": {},
     "output_type": "execute_result"
    }
   ],
   "source": []
  },
  {
   "cell_type": "markdown",
   "metadata": {},
   "source": [
    "# Model building"
   ]
  },
  {
   "cell_type": "markdown",
   "metadata": {},
   "source": [
    "## RandomForestClassifier Model"
   ]
  },
  {
   "cell_type": "markdown",
   "metadata": {},
   "source": [
    "### Instantiate Model"
   ]
  },
  {
   "cell_type": "code",
   "execution_count": 37,
   "metadata": {},
   "outputs": [],
   "source": [
    "clf1 = RandomForestClassifier()"
   ]
  },
  {
   "cell_type": "markdown",
   "metadata": {},
   "source": [
    "### Train Model"
   ]
  },
  {
   "cell_type": "code",
   "execution_count": 38,
   "metadata": {},
   "outputs": [
    {
     "data": {
      "text/plain": [
       "RandomForestClassifier()"
      ]
     },
     "execution_count": 38,
     "metadata": {},
     "output_type": "execute_result"
    }
   ],
   "source": [
    "clf1.fit(X_train_con, y_train)"
   ]
  },
  {
   "cell_type": "markdown",
   "metadata": {},
   "source": [
    "### List important features"
   ]
  },
  {
   "cell_type": "code",
   "execution_count": 39,
   "metadata": {},
   "outputs": [
    {
     "name": "stdout",
     "output_type": "stream",
     "text": [
      "[2.36380452e-01 3.14186428e-02 4.13113857e-02 1.02344387e-01\n",
      " 8.21643506e-02 8.48487415e-02 4.35289513e-02 5.14209762e-02\n",
      " 5.10667020e-02 5.89271276e-02 3.74437899e-02 1.10686279e-02\n",
      " 6.18321470e-02 6.54049631e-02 1.98836202e-02 3.21939891e-04\n",
      " 9.39468457e-03 5.48589068e-05 8.51575578e-03 2.66389727e-03\n",
      " 3.99905289e-06]\n",
      "[ 0  3  5  4 13 12  9  7  8  6  2 10  1 14 11 16 18 19 15 17 20]\n"
     ]
    }
   ],
   "source": [
    "importances = clf1.feature_importances_\n",
    "print(importances)\n",
    "\n",
    "indices = np.argsort(importances)[::-1]\n",
    "print(indices)"
   ]
  },
  {
   "cell_type": "code",
   "execution_count": 40,
   "metadata": {},
   "outputs": [
    {
     "data": {
      "text/html": [
       "<div>\n",
       "<style scoped>\n",
       "    .dataframe tbody tr th:only-of-type {\n",
       "        vertical-align: middle;\n",
       "    }\n",
       "\n",
       "    .dataframe tbody tr th {\n",
       "        vertical-align: top;\n",
       "    }\n",
       "\n",
       "    .dataframe thead th {\n",
       "        text-align: right;\n",
       "    }\n",
       "</style>\n",
       "<table border=\"1\" class=\"dataframe\">\n",
       "  <thead>\n",
       "    <tr style=\"text-align: right;\">\n",
       "      <th></th>\n",
       "      <th>0</th>\n",
       "      <th>1</th>\n",
       "      <th>2</th>\n",
       "      <th>3</th>\n",
       "      <th>4</th>\n",
       "      <th>5</th>\n",
       "      <th>6</th>\n",
       "      <th>7</th>\n",
       "      <th>8</th>\n",
       "      <th>9</th>\n",
       "      <th>...</th>\n",
       "      <th>11</th>\n",
       "      <th>12</th>\n",
       "      <th>13</th>\n",
       "      <th>14</th>\n",
       "      <th>15</th>\n",
       "      <th>16</th>\n",
       "      <th>17</th>\n",
       "      <th>18</th>\n",
       "      <th>19</th>\n",
       "      <th>20</th>\n",
       "    </tr>\n",
       "  </thead>\n",
       "  <tbody>\n",
       "    <tr>\n",
       "      <th>0</th>\n",
       "      <td>national_inv</td>\n",
       "      <td>forecast_3_month</td>\n",
       "      <td>forecast_9_month</td>\n",
       "      <td>forecast_6_month</td>\n",
       "      <td>perf_12_month_avg</td>\n",
       "      <td>perf_6_month_avg</td>\n",
       "      <td>sales_9_month</td>\n",
       "      <td>sales_3_month</td>\n",
       "      <td>sales_6_month</td>\n",
       "      <td>sales_1_month</td>\n",
       "      <td>...</td>\n",
       "      <td>min_bank</td>\n",
       "      <td>lead_time</td>\n",
       "      <td>local_bo_qty</td>\n",
       "      <td>pieces_past_due</td>\n",
       "      <td>deck_risk</td>\n",
       "      <td>ppap_risk</td>\n",
       "      <td>stop_auto_buy</td>\n",
       "      <td>potential_issue</td>\n",
       "      <td>oe_constraint</td>\n",
       "      <td>rev_stop</td>\n",
       "    </tr>\n",
       "    <tr>\n",
       "      <th>1</th>\n",
       "      <td>0.23638</td>\n",
       "      <td>0.102344</td>\n",
       "      <td>0.0848487</td>\n",
       "      <td>0.0821644</td>\n",
       "      <td>0.065405</td>\n",
       "      <td>0.0618321</td>\n",
       "      <td>0.0589271</td>\n",
       "      <td>0.051421</td>\n",
       "      <td>0.0510667</td>\n",
       "      <td>0.043529</td>\n",
       "      <td>...</td>\n",
       "      <td>0.0374438</td>\n",
       "      <td>0.0314186</td>\n",
       "      <td>0.0198836</td>\n",
       "      <td>0.0110686</td>\n",
       "      <td>0.00939468</td>\n",
       "      <td>0.00851576</td>\n",
       "      <td>0.0026639</td>\n",
       "      <td>0.00032194</td>\n",
       "      <td>5.48589e-05</td>\n",
       "      <td>3.99905e-06</td>\n",
       "    </tr>\n",
       "  </tbody>\n",
       "</table>\n",
       "<p>2 rows × 21 columns</p>\n",
       "</div>"
      ],
      "text/plain": [
       "             0                 1                 2                 3   \\\n",
       "0  national_inv  forecast_3_month  forecast_9_month  forecast_6_month   \n",
       "1       0.23638          0.102344         0.0848487         0.0821644   \n",
       "\n",
       "                  4                 5              6              7   \\\n",
       "0  perf_12_month_avg  perf_6_month_avg  sales_9_month  sales_3_month   \n",
       "1           0.065405         0.0618321      0.0589271       0.051421   \n",
       "\n",
       "              8              9   ...         11         12            13  \\\n",
       "0  sales_6_month  sales_1_month  ...   min_bank  lead_time  local_bo_qty   \n",
       "1      0.0510667       0.043529  ...  0.0374438  0.0314186     0.0198836   \n",
       "\n",
       "                14          15          16             17               18  \\\n",
       "0  pieces_past_due   deck_risk   ppap_risk  stop_auto_buy  potential_issue   \n",
       "1        0.0110686  0.00939468  0.00851576      0.0026639       0.00032194   \n",
       "\n",
       "              19           20  \n",
       "0  oe_constraint     rev_stop  \n",
       "1    5.48589e-05  3.99905e-06  \n",
       "\n",
       "[2 rows x 21 columns]"
      ]
     },
     "execution_count": 40,
     "metadata": {},
     "output_type": "execute_result"
    }
   ],
   "source": [
    "ind_attr_names = np.concatenate((num_attr, cat_attr), axis=0)\n",
    "\n",
    "pd.DataFrame([ind_attr_names[indices], np.sort(importances)[::-1]])"
   ]
  },
  {
   "cell_type": "markdown",
   "metadata": {},
   "source": [
    "### Predict"
   ]
  },
  {
   "cell_type": "code",
   "execution_count": 41,
   "metadata": {},
   "outputs": [],
   "source": [
    "train_pred = clf1.predict(X_train_con)\n",
    "test_pred = clf1.predict(X_test_con)"
   ]
  },
  {
   "cell_type": "markdown",
   "metadata": {},
   "source": [
    "### Evaluate"
   ]
  },
  {
   "cell_type": "code",
   "execution_count": 42,
   "metadata": {},
   "outputs": [
    {
     "name": "stdout",
     "output_type": "stream",
     "text": [
      "--Train--\n",
      "Confusion Matrix \n",
      " [[33032    35]\n",
      " [   54  7609]]\n",
      "Accurcay :  0.9978148784679597\n",
      "Recall   :  0.9929531515072426\n",
      "Precision:  0.9954212454212454\n",
      "--Test--\n",
      "Confusion Matrix \n",
      " [[13599   551]\n",
      " [  611  2695]]\n",
      "Accurcay :  0.9334326306141155\n",
      "Recall   :  0.8151845130066546\n",
      "Precision:  0.830252618607517\n"
     ]
    }
   ],
   "source": [
    "print(\"--Train--\")\n",
    "evaluate_model(y_train, train_pred)\n",
    "print(\"--Test--\")\n",
    "evaluate_model(y_test, test_pred)"
   ]
  },
  {
   "cell_type": "markdown",
   "metadata": {},
   "source": [
    "## Up-sampling \n",
    "\n",
    "    Using SMOTE (Synthetic Minority Over-sampling Technique)\n",
    "    \n",
    " <img src=\"smote.png\">"
   ]
  },
  {
   "cell_type": "markdown",
   "metadata": {},
   "source": [
    "### Instantiate SMOTE"
   ]
  },
  {
   "cell_type": "code",
   "execution_count": 43,
   "metadata": {},
   "outputs": [],
   "source": [
    "smote = SMOTE(random_state=123)"
   ]
  },
  {
   "cell_type": "markdown",
   "metadata": {},
   "source": [
    "### Fit Sample"
   ]
  },
  {
   "cell_type": "code",
   "execution_count": 44,
   "metadata": {},
   "outputs": [],
   "source": [
    "X_train_sm, y_train_sm = smote.fit_sample(X_train_con, y_train)"
   ]
  },
  {
   "cell_type": "code",
   "execution_count": 45,
   "metadata": {},
   "outputs": [
    {
     "data": {
      "text/plain": [
       "(array([0, 1]), array([33067,  7663]))"
      ]
     },
     "execution_count": 45,
     "metadata": {},
     "output_type": "execute_result"
    }
   ],
   "source": [
    "np.unique(y_train, return_counts= True)"
   ]
  },
  {
   "cell_type": "code",
   "execution_count": 46,
   "metadata": {
    "scrolled": true
   },
   "outputs": [
    {
     "data": {
      "text/plain": [
       "(array([0, 1]), array([33067, 33067]))"
      ]
     },
     "execution_count": 46,
     "metadata": {},
     "output_type": "execute_result"
    }
   ],
   "source": [
    "np.unique(y_train_sm, return_counts= True)"
   ]
  },
  {
   "cell_type": "markdown",
   "metadata": {},
   "source": [
    "## RandomForestClassifier with up-sample data"
   ]
  },
  {
   "cell_type": "markdown",
   "metadata": {},
   "source": [
    "### Instantiate Model"
   ]
  },
  {
   "cell_type": "code",
   "execution_count": 47,
   "metadata": {},
   "outputs": [],
   "source": [
    "clf2 = RandomForestClassifier()"
   ]
  },
  {
   "cell_type": "markdown",
   "metadata": {},
   "source": [
    "### Train the model"
   ]
  },
  {
   "cell_type": "code",
   "execution_count": 48,
   "metadata": {},
   "outputs": [
    {
     "data": {
      "text/plain": [
       "RandomForestClassifier()"
      ]
     },
     "execution_count": 48,
     "metadata": {},
     "output_type": "execute_result"
    }
   ],
   "source": [
    "clf2.fit(X_train_sm, y_train_sm)"
   ]
  },
  {
   "cell_type": "markdown",
   "metadata": {},
   "source": [
    "### List important features"
   ]
  },
  {
   "cell_type": "code",
   "execution_count": 49,
   "metadata": {},
   "outputs": [
    {
     "name": "stdout",
     "output_type": "stream",
     "text": [
      "[2.00051054e-01 2.74782573e-02 4.05724751e-02 1.48988878e-01\n",
      " 1.39606399e-01 9.18941334e-02 5.10380216e-02 5.20720944e-02\n",
      " 4.66338538e-02 4.25727342e-02 2.90993667e-02 7.07849481e-03\n",
      " 4.38150456e-02 4.51349242e-02 1.93448657e-02 1.68421059e-04\n",
      " 6.20127638e-03 3.76598245e-05 6.02243746e-03 2.18056239e-03\n",
      " 9.04507508e-06]\n",
      "[ 0  3  4  5  7  6  8 13 12  9  2 10  1 14 11 16 18 19 15 17 20]\n"
     ]
    }
   ],
   "source": [
    "importances = clf2.feature_importances_\n",
    "print(importances)\n",
    "\n",
    "indices = np.argsort(importances)[::-1]\n",
    "print(indices)"
   ]
  },
  {
   "cell_type": "code",
   "execution_count": 50,
   "metadata": {},
   "outputs": [
    {
     "data": {
      "text/html": [
       "<div>\n",
       "<style scoped>\n",
       "    .dataframe tbody tr th:only-of-type {\n",
       "        vertical-align: middle;\n",
       "    }\n",
       "\n",
       "    .dataframe tbody tr th {\n",
       "        vertical-align: top;\n",
       "    }\n",
       "\n",
       "    .dataframe thead th {\n",
       "        text-align: right;\n",
       "    }\n",
       "</style>\n",
       "<table border=\"1\" class=\"dataframe\">\n",
       "  <thead>\n",
       "    <tr style=\"text-align: right;\">\n",
       "      <th></th>\n",
       "      <th>0</th>\n",
       "      <th>1</th>\n",
       "      <th>2</th>\n",
       "      <th>3</th>\n",
       "      <th>4</th>\n",
       "      <th>5</th>\n",
       "      <th>6</th>\n",
       "      <th>7</th>\n",
       "      <th>8</th>\n",
       "      <th>9</th>\n",
       "      <th>...</th>\n",
       "      <th>11</th>\n",
       "      <th>12</th>\n",
       "      <th>13</th>\n",
       "      <th>14</th>\n",
       "      <th>15</th>\n",
       "      <th>16</th>\n",
       "      <th>17</th>\n",
       "      <th>18</th>\n",
       "      <th>19</th>\n",
       "      <th>20</th>\n",
       "    </tr>\n",
       "  </thead>\n",
       "  <tbody>\n",
       "    <tr>\n",
       "      <th>0</th>\n",
       "      <td>national_inv</td>\n",
       "      <td>forecast_3_month</td>\n",
       "      <td>forecast_6_month</td>\n",
       "      <td>forecast_9_month</td>\n",
       "      <td>sales_3_month</td>\n",
       "      <td>sales_1_month</td>\n",
       "      <td>sales_6_month</td>\n",
       "      <td>perf_12_month_avg</td>\n",
       "      <td>perf_6_month_avg</td>\n",
       "      <td>sales_9_month</td>\n",
       "      <td>...</td>\n",
       "      <td>min_bank</td>\n",
       "      <td>lead_time</td>\n",
       "      <td>local_bo_qty</td>\n",
       "      <td>pieces_past_due</td>\n",
       "      <td>deck_risk</td>\n",
       "      <td>ppap_risk</td>\n",
       "      <td>stop_auto_buy</td>\n",
       "      <td>potential_issue</td>\n",
       "      <td>oe_constraint</td>\n",
       "      <td>rev_stop</td>\n",
       "    </tr>\n",
       "    <tr>\n",
       "      <th>1</th>\n",
       "      <td>0.200051</td>\n",
       "      <td>0.148989</td>\n",
       "      <td>0.139606</td>\n",
       "      <td>0.0918941</td>\n",
       "      <td>0.0520721</td>\n",
       "      <td>0.051038</td>\n",
       "      <td>0.0466339</td>\n",
       "      <td>0.0451349</td>\n",
       "      <td>0.043815</td>\n",
       "      <td>0.0425727</td>\n",
       "      <td>...</td>\n",
       "      <td>0.0290994</td>\n",
       "      <td>0.0274783</td>\n",
       "      <td>0.0193449</td>\n",
       "      <td>0.00707849</td>\n",
       "      <td>0.00620128</td>\n",
       "      <td>0.00602244</td>\n",
       "      <td>0.00218056</td>\n",
       "      <td>0.000168421</td>\n",
       "      <td>3.76598e-05</td>\n",
       "      <td>9.04508e-06</td>\n",
       "    </tr>\n",
       "  </tbody>\n",
       "</table>\n",
       "<p>2 rows × 21 columns</p>\n",
       "</div>"
      ],
      "text/plain": [
       "             0                 1                 2                 3   \\\n",
       "0  national_inv  forecast_3_month  forecast_6_month  forecast_9_month   \n",
       "1      0.200051          0.148989          0.139606         0.0918941   \n",
       "\n",
       "              4              5              6                  7   \\\n",
       "0  sales_3_month  sales_1_month  sales_6_month  perf_12_month_avg   \n",
       "1      0.0520721       0.051038      0.0466339          0.0451349   \n",
       "\n",
       "                 8              9   ...         11         12            13  \\\n",
       "0  perf_6_month_avg  sales_9_month  ...   min_bank  lead_time  local_bo_qty   \n",
       "1          0.043815      0.0425727  ...  0.0290994  0.0274783     0.0193449   \n",
       "\n",
       "                14          15          16             17               18  \\\n",
       "0  pieces_past_due   deck_risk   ppap_risk  stop_auto_buy  potential_issue   \n",
       "1       0.00707849  0.00620128  0.00602244     0.00218056      0.000168421   \n",
       "\n",
       "              19           20  \n",
       "0  oe_constraint     rev_stop  \n",
       "1    3.76598e-05  9.04508e-06  \n",
       "\n",
       "[2 rows x 21 columns]"
      ]
     },
     "execution_count": 50,
     "metadata": {},
     "output_type": "execute_result"
    }
   ],
   "source": [
    "pd.DataFrame([ind_attr_names[indices], np.sort(importances)[::-1]])"
   ]
  },
  {
   "cell_type": "markdown",
   "metadata": {},
   "source": [
    "### Predict"
   ]
  },
  {
   "cell_type": "code",
   "execution_count": 51,
   "metadata": {},
   "outputs": [],
   "source": [
    "train_pred = clf2.predict(X_train_sm)\n",
    "test_pred = clf2.predict(X_test_con)"
   ]
  },
  {
   "cell_type": "markdown",
   "metadata": {},
   "source": [
    "### Evaluate"
   ]
  },
  {
   "cell_type": "code",
   "execution_count": 52,
   "metadata": {},
   "outputs": [
    {
     "name": "stdout",
     "output_type": "stream",
     "text": [
      "--Train--\n",
      "Confusion Matrix \n",
      " [[33006    61]\n",
      " [   47 33020]]\n",
      "Accurcay :  0.998366951946049\n",
      "Recall   :  0.99857864336045\n",
      "Precision:  0.9981560412321272\n",
      "--Test--\n",
      "Confusion Matrix \n",
      " [[13311   839]\n",
      " [  401  2905]]\n",
      "Accurcay :  0.9289642529789184\n",
      "Recall   :  0.8787053841500303\n",
      "Precision:  0.7759081196581197\n"
     ]
    }
   ],
   "source": [
    "print(\"--Train--\")\n",
    "evaluate_model(y_train_sm, train_pred)\n",
    "print(\"--Test--\")\n",
    "evaluate_model(y_test, test_pred)"
   ]
  },
  {
   "cell_type": "markdown",
   "metadata": {},
   "source": [
    "## Hyper-parameter tuning using Grid Search and Cross Validation"
   ]
  },
  {
   "cell_type": "markdown",
   "metadata": {},
   "source": [
    "### Parameters to test"
   ]
  },
  {
   "cell_type": "code",
   "execution_count": 59,
   "metadata": {},
   "outputs": [],
   "source": [
    "param_grid = {\"n_estimators\" : [50, 100],\n",
    "              \"max_depth\" : [1,5],\n",
    "              \"max_features\" : [3, 5],\n",
    "              \"min_samples_leaf\" : [1, 2, 4]}"
   ]
  },
  {
   "cell_type": "markdown",
   "metadata": {},
   "source": [
    "### Instantiate Decision Tree"
   ]
  },
  {
   "cell_type": "code",
   "execution_count": 60,
   "metadata": {},
   "outputs": [],
   "source": [
    "clf3 = RandomForestClassifier()"
   ]
  },
  {
   "cell_type": "markdown",
   "metadata": {},
   "source": [
    "### Instantiate GridSearchCV "
   ]
  },
  {
   "cell_type": "code",
   "execution_count": 61,
   "metadata": {},
   "outputs": [],
   "source": [
    "clf_grid = GridSearchCV(clf2, param_grid, cv=2)"
   ]
  },
  {
   "cell_type": "markdown",
   "metadata": {},
   "source": [
    "### Train DT using GridSearchCV"
   ]
  },
  {
   "cell_type": "code",
   "execution_count": 62,
   "metadata": {},
   "outputs": [
    {
     "data": {
      "text/plain": [
       "GridSearchCV(cv=2, estimator=RandomForestClassifier(),\n",
       "             param_grid={'max_depth': [1, 5], 'max_features': [3, 5],\n",
       "                         'min_samples_leaf': [1, 2, 4],\n",
       "                         'n_estimators': [50, 100]})"
      ]
     },
     "execution_count": 62,
     "metadata": {},
     "output_type": "execute_result"
    }
   ],
   "source": [
    "clf_grid.fit(X_train_sm, y_train_sm)"
   ]
  },
  {
   "cell_type": "markdown",
   "metadata": {},
   "source": [
    "### Best Params"
   ]
  },
  {
   "cell_type": "code",
   "execution_count": 63,
   "metadata": {
    "scrolled": true
   },
   "outputs": [
    {
     "data": {
      "text/plain": [
       "{'max_depth': 5, 'max_features': 5, 'min_samples_leaf': 1, 'n_estimators': 100}"
      ]
     },
     "execution_count": 63,
     "metadata": {},
     "output_type": "execute_result"
    }
   ],
   "source": [
    "clf_grid.best_params_"
   ]
  },
  {
   "cell_type": "markdown",
   "metadata": {},
   "source": [
    "### Predict "
   ]
  },
  {
   "cell_type": "code",
   "execution_count": 64,
   "metadata": {},
   "outputs": [],
   "source": [
    "train_pred = clf_grid.predict(X_train_sm)\n",
    "test_pred = clf_grid.predict(X_test_con)"
   ]
  },
  {
   "cell_type": "markdown",
   "metadata": {},
   "source": [
    "### Evaluate"
   ]
  },
  {
   "cell_type": "code",
   "execution_count": 65,
   "metadata": {},
   "outputs": [
    {
     "name": "stdout",
     "output_type": "stream",
     "text": [
      "--Train--\n",
      "Confusion Matrix \n",
      " [[27710  5357]\n",
      " [ 3202 29865]]\n",
      "Accurcay :  0.8705809417243778\n",
      "Recall   :  0.9031662987268273\n",
      "Precision:  0.8479075577763897\n",
      "--Test--\n",
      "Confusion Matrix \n",
      " [[11813  2337]\n",
      " [  483  2823]]\n",
      "Accurcay :  0.8384509624197983\n",
      "Recall   :  0.8539019963702359\n",
      "Precision:  0.547093023255814\n"
     ]
    }
   ],
   "source": [
    "print(\"--Train--\")\n",
    "evaluate_model(y_train_sm, train_pred)\n",
    "print(\"--Test--\")\n",
    "evaluate_model(y_test, test_pred)"
   ]
  },
  {
   "cell_type": "markdown",
   "metadata": {},
   "source": [
    "## Building RandomForestClassifier Model using Variable Importance"
   ]
  },
  {
   "cell_type": "code",
   "execution_count": 66,
   "metadata": {},
   "outputs": [
    {
     "name": "stdout",
     "output_type": "stream",
     "text": [
      "[ 3  0  4  5  2  7  6  8 14  9 10  1 12 13 11 18 16 19 15 20 17]\n",
      "[3 0 4 5 2]\n"
     ]
    }
   ],
   "source": [
    "importances = clf_grid.best_estimator_.feature_importances_\n",
    "indices = np.argsort(importances)[::-1]\n",
    "print(indices)\n",
    "\n",
    "select = indices[0:5]\n",
    "print(select)"
   ]
  },
  {
   "cell_type": "markdown",
   "metadata": {},
   "source": [
    "### Instantiate Model"
   ]
  },
  {
   "cell_type": "code",
   "execution_count": 67,
   "metadata": {},
   "outputs": [],
   "source": [
    "clf4 = RandomForestClassifier(max_depth=5, max_features=5,\n",
    "                              min_samples_leaf=2, n_estimators=100)"
   ]
  },
  {
   "cell_type": "markdown",
   "metadata": {},
   "source": [
    "### Train the model"
   ]
  },
  {
   "cell_type": "code",
   "execution_count": 68,
   "metadata": {},
   "outputs": [
    {
     "data": {
      "text/plain": [
       "RandomForestClassifier(max_depth=5, max_features=5, min_samples_leaf=2)"
      ]
     },
     "execution_count": 68,
     "metadata": {},
     "output_type": "execute_result"
    }
   ],
   "source": [
    "clf4.fit(X_train_sm[:,select], y_train_sm)"
   ]
  },
  {
   "cell_type": "markdown",
   "metadata": {},
   "source": [
    "### Predict"
   ]
  },
  {
   "cell_type": "code",
   "execution_count": 69,
   "metadata": {},
   "outputs": [],
   "source": [
    "train_pred = clf4.predict(X_train_sm[:,select])\n",
    "test_pred = clf4.predict(X_test_con[:,select])"
   ]
  },
  {
   "cell_type": "markdown",
   "metadata": {},
   "source": [
    "### Evaluate"
   ]
  },
  {
   "cell_type": "code",
   "execution_count": 70,
   "metadata": {},
   "outputs": [
    {
     "name": "stdout",
     "output_type": "stream",
     "text": [
      "--Train--\n",
      "Confusion Matrix \n",
      " [[28145  4922]\n",
      " [ 3725 29342]]\n",
      "Accurcay :  0.8692503099767139\n",
      "Recall   :  0.887349925908005\n",
      "Precision:  0.856350688769554\n",
      "--Test--\n",
      "Confusion Matrix \n",
      " [[11987  2163]\n",
      " [  552  2754]]\n",
      "Accurcay :  0.8444660861594867\n",
      "Recall   :  0.8330308529945554\n",
      "Precision:  0.5600976205003051\n"
     ]
    }
   ],
   "source": [
    "print(\"--Train--\")\n",
    "evaluate_model(y_train_sm, train_pred)\n",
    "print(\"--Test--\")\n",
    "evaluate_model(y_test, test_pred)"
   ]
  }
 ],
 "metadata": {
  "kernelspec": {
   "display_name": "Python 3 (ipykernel)",
   "language": "python",
   "name": "python3"
  },
  "language_info": {
   "codemirror_mode": {
    "name": "ipython",
    "version": 3
   },
   "file_extension": ".py",
   "mimetype": "text/x-python",
   "name": "python",
   "nbconvert_exporter": "python",
   "pygments_lexer": "ipython3",
   "version": "3.8.5"
  },
  "toc": {
   "base_numbering": 1,
   "nav_menu": {},
   "number_sections": true,
   "sideBar": true,
   "skip_h1_title": false,
   "title_cell": "Table of Contents",
   "title_sidebar": "Contents",
   "toc_cell": true,
   "toc_position": {
    "height": "calc(100% - 180px)",
    "left": "10px",
    "top": "150px",
    "width": "165px"
   },
   "toc_section_display": true,
   "toc_window_display": false
  }
 },
 "nbformat": 4,
 "nbformat_minor": 2
}
