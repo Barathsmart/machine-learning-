{
 "cells": [
  {
   "cell_type": "markdown",
   "id": "50ba549e",
   "metadata": {},
   "source": [
    "# Max Voting"
   ]
  },
  {
   "cell_type": "code",
   "execution_count": null,
   "id": "9a8c7efe",
   "metadata": {},
   "outputs": [],
   "source": [
    "model1=tree.DecisionTreeClassifier()\n",
    "model2=KNighborsClassifier()\n",
    "model3=LogisticRegression()\n",
    "\n",
    "model1.fit(x_train,y_train)\n",
    "model2.fit(x_train,y_train)\n",
    "model3.fit(x_train,y_train)\n",
    "\n",
    "\n",
    "pred1=model1.predict(x_test)\n",
    "\n",
    "pred2=model2.predict(x_test)\n",
    "\n",
    "pred3=model3.predict(x_test)\n",
    "\n",
    "final_pred=np.array([])\n",
    "\n",
    "for i in range(0,len(x_test))\n",
    " final_pred=np.append(final_pred,mode([pred1[i],pred2[i],pred3[i]]))"
   ]
  },
  {
   "cell_type": "markdown",
   "id": "09157277",
   "metadata": {},
   "source": [
    "# Using Sklearn Votingclassifier"
   ]
  },
  {
   "cell_type": "code",
   "execution_count": 1,
   "id": "ffd89499",
   "metadata": {},
   "outputs": [],
   "source": [
    "from sklearn.ensemble import VotingClassifier"
   ]
  },
  {
   "cell_type": "code",
   "execution_count": null,
   "id": "40473dfe",
   "metadata": {},
   "outputs": [],
   "source": [
    "model1=tree.DecisionTreeClassifier(random_state=1)\n",
    "model2=KNighborsClassifier(random_state=1)\n",
    "\n",
    "model=VotingClassifier(estimators=[('lr',model1),('dt',model2)],voting='hard')\n",
    "\n",
    "model.fit(x_train,y_train)\n",
    "model.score(x_test,y_test)"
   ]
  },
  {
   "cell_type": "markdown",
   "id": "66a47c61",
   "metadata": {},
   "source": [
    "# 2.Avaraging \n",
    "\n",
    "it is used for regression problem in classification we can use it for probability values"
   ]
  },
  {
   "cell_type": "code",
   "execution_count": null,
   "id": "99eeb579",
   "metadata": {},
   "outputs": [],
   "source": [
    "model1=tree.DecisionTreeClassifier()\n",
    "model2=KNighborsClassifier()\n",
    "model3=LogisticRegression()\n",
    "\n",
    "model1.fit(x_train,y_train)\n",
    "model2.fit(x_train,y_train)\n",
    "model3.fit(x_train,y_train)\n",
    "\n",
    "\n",
    "pred1=model1.predict_proba(x_test)\n",
    "\n",
    "pred2=model2.predict_proba(x_test)\n",
    "\n",
    "pred3=model3.predict_proba(x_test)\n",
    "\n",
    "final_pred=(pred1+pred2+pred3)/3"
   ]
  },
  {
   "cell_type": "markdown",
   "id": "ec4ca4ab",
   "metadata": {},
   "source": [
    "# 3.Weighted avarage"
   ]
  },
  {
   "cell_type": "code",
   "execution_count": null,
   "id": "fb0ee097",
   "metadata": {},
   "outputs": [],
   "source": [
    "model1=tree.DecisionTreeClassifier()\n",
    "model2=KNighborsClassifier()\n",
    "model3=LogisticRegression()\n",
    "\n",
    "model1.fit(x_train,y_train)\n",
    "model2.fit(x_train,y_train)\n",
    "model3.fit(x_train,y_train)\n",
    "\n",
    "\n",
    "pred1=model1.predict_proba(x_test)\n",
    "\n",
    "pred2=model2.predict_proba(x_test)\n",
    "\n",
    "pred3=model3.predict_proba(x_test)\n",
    "\n",
    "final_pred=(pred1*0.3+pred2*0.3+pred3*0.4)/3"
   ]
  },
  {
   "cell_type": "markdown",
   "id": "fb4fae9a",
   "metadata": {},
   "source": [
    "       1    |  2   |   3 |   4 |    5  |final \n",
    "\n",
    "\n",
    "- weight 0.23   0.23  0.18 0.18 0.18\n",
    "\n",
    "\n",
    "- rating  5     4     5     4   4     4.41\n"
   ]
  },
  {
   "cell_type": "code",
   "execution_count": 2,
   "id": "e591305d",
   "metadata": {},
   "outputs": [],
   "source": [
    "final=[(5*0.23)+(4*0.23)+(5*0.18)+(4*0.18)+(4*0.18)]"
   ]
  },
  {
   "cell_type": "code",
   "execution_count": 3,
   "id": "6b4eea75",
   "metadata": {},
   "outputs": [
    {
     "data": {
      "text/plain": [
       "[4.41]"
      ]
     },
     "execution_count": 3,
     "metadata": {},
     "output_type": "execute_result"
    }
   ],
   "source": [
    "final"
   ]
  },
  {
   "cell_type": "code",
   "execution_count": null,
   "id": "ffccc625",
   "metadata": {},
   "outputs": [],
   "source": []
  }
 ],
 "metadata": {
  "kernelspec": {
   "display_name": "Python 3 (ipykernel)",
   "language": "python",
   "name": "python3"
  },
  "language_info": {
   "codemirror_mode": {
    "name": "ipython",
    "version": 3
   },
   "file_extension": ".py",
   "mimetype": "text/x-python",
   "name": "python",
   "nbconvert_exporter": "python",
   "pygments_lexer": "ipython3",
   "version": "3.9.13"
  }
 },
 "nbformat": 4,
 "nbformat_minor": 5
}
