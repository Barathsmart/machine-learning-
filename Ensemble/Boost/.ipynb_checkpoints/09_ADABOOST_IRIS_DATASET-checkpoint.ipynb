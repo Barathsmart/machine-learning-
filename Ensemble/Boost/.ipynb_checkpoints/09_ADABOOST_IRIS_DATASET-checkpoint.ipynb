{
 "cells": [
  {
   "cell_type": "markdown",
   "metadata": {},
   "source": [
    "# Implementation of Ada-Boost Algorithm"
   ]
  },
  {
   "cell_type": "code",
   "execution_count": 1,
   "metadata": {},
   "outputs": [],
   "source": [
    "#Importing neccesary packages\n",
    "# Load libraries\n",
    "from sklearn.ensemble import AdaBoostClassifier\n",
    "from sklearn import datasets\n",
    "from sklearn.model_selection import train_test_split\n",
    "from sklearn import metrics"
   ]
  },
  {
   "cell_type": "code",
   "execution_count": 2,
   "metadata": {},
   "outputs": [],
   "source": [
    "# Load data\n",
    "iris = datasets.load_iris()\n",
    "X = iris.data\n",
    "y = iris.target"
   ]
  },
  {
   "cell_type": "code",
   "execution_count": 3,
   "metadata": {},
   "outputs": [],
   "source": [
    "# Split dataset into training set and test set\n",
    "X_train, X_test, y_train, y_test = train_test_split(X, y, test_size=0.2) # 80% training and 20% test"
   ]
  },
  {
   "cell_type": "code",
   "execution_count": 4,
   "metadata": {},
   "outputs": [],
   "source": [
    "# Create adaboost classifer object\n",
    "AdaModel = AdaBoostClassifier(n_estimators=100,\n",
    "                         learning_rate=1)\n",
    "# Train Adaboost Classifer\n",
    "model = AdaModel.fit(X_train, y_train)\n",
    "\n",
    "#Predict the response for test dataset\n",
    "y_pred = model.predict(X_test)"
   ]
  },
  {
   "cell_type": "code",
   "execution_count": 14,
   "metadata": {},
   "outputs": [
    {
     "name": "stdout",
     "output_type": "stream",
     "text": [
      "base estimator  :   SVC(kernel='linear', probability=True)\n",
      "Esrimatror weights: [1. 1. 1. 1. 1. 1. 1. 1. 1. 1. 1. 1. 1. 1. 1. 1. 1. 1. 1. 1. 1. 1. 1. 1.\n",
      " 1. 1. 1. 1. 1. 1. 1. 1. 1. 1. 1. 1. 1. 1. 1. 1. 1. 1. 1. 1. 1. 1. 1. 1.\n",
      " 1. 1.]\n",
      "Estimators  :   [SVC(kernel='linear', probability=True, random_state=1570153227), SVC(kernel='linear', probability=True, random_state=1262488516), SVC(kernel='linear', probability=True, random_state=1124418243), SVC(kernel='linear', probability=True, random_state=903028142), SVC(kernel='linear', probability=True, random_state=1845488299), SVC(kernel='linear', probability=True, random_state=73243663), SVC(kernel='linear', probability=True, random_state=1775953437), SVC(kernel='linear', probability=True, random_state=2008015354), SVC(kernel='linear', probability=True, random_state=535172601), SVC(kernel='linear', probability=True, random_state=617320369), SVC(kernel='linear', probability=True, random_state=597981438), SVC(kernel='linear', probability=True, random_state=408279655), SVC(kernel='linear', probability=True, random_state=1147621113), SVC(kernel='linear', probability=True, random_state=91952465), SVC(kernel='linear', probability=True, random_state=673438780), SVC(kernel='linear', probability=True, random_state=1613194535), SVC(kernel='linear', probability=True, random_state=1721759402), SVC(kernel='linear', probability=True, random_state=1118148750), SVC(kernel='linear', probability=True, random_state=1128348283), SVC(kernel='linear', probability=True, random_state=48755007), SVC(kernel='linear', probability=True, random_state=1292241416), SVC(kernel='linear', probability=True, random_state=1630721028), SVC(kernel='linear', probability=True, random_state=570306705), SVC(kernel='linear', probability=True, random_state=535586124), SVC(kernel='linear', probability=True, random_state=954318582), SVC(kernel='linear', probability=True, random_state=1963637993), SVC(kernel='linear', probability=True, random_state=366454003), SVC(kernel='linear', probability=True, random_state=714234457), SVC(kernel='linear', probability=True, random_state=777484267), SVC(kernel='linear', probability=True, random_state=347479372), SVC(kernel='linear', probability=True, random_state=1848863226), SVC(kernel='linear', probability=True, random_state=2003381459), SVC(kernel='linear', probability=True, random_state=985648864), SVC(kernel='linear', probability=True, random_state=1061107508), SVC(kernel='linear', probability=True, random_state=1322338661), SVC(kernel='linear', probability=True, random_state=336617366), SVC(kernel='linear', probability=True, random_state=394051895), SVC(kernel='linear', probability=True, random_state=1466589671), SVC(kernel='linear', probability=True, random_state=1791732526), SVC(kernel='linear', probability=True, random_state=1658641658), SVC(kernel='linear', probability=True, random_state=1736094147), SVC(kernel='linear', probability=True, random_state=2119979590), SVC(kernel='linear', probability=True, random_state=1385704313), SVC(kernel='linear', probability=True, random_state=1620545027), SVC(kernel='linear', probability=True, random_state=338414018), SVC(kernel='linear', probability=True, random_state=1510825978), SVC(kernel='linear', probability=True, random_state=165082413), SVC(kernel='linear', probability=True, random_state=1856104190), SVC(kernel='linear', probability=True, random_state=521332448), SVC(kernel='linear', probability=True, random_state=212345421)]\n",
      "Estimator weights :  [1. 1. 1. 1. 1. 1. 1. 1. 1. 1. 1. 1. 1. 1. 1. 1. 1. 1. 1. 1. 1. 1. 1. 1.\n",
      " 1. 1. 1. 1. 1. 1. 1. 1. 1. 1. 1. 1. 1. 1. 1. 1. 1. 1. 1. 1. 1. 1. 1. 1.\n",
      " 1. 1.]\n"
     ]
    }
   ],
   "source": [
    "print('base estimator  :  ',model.base_estimator_)\n",
    "#print('Esrimatror weights:',  model.estimator_weights_)\n",
    "#print('Estimators  :  ',model.estimators_)\n",
    "#print('Feature importances: ',model.feature_importances_)\n",
    "#print('Estimator weights : ', model.estimator_weights_)"
   ]
  },
  {
   "cell_type": "markdown",
   "metadata": {},
   "source": [
    "#Important Parameters\n",
    "base_estimator: It is a weak learner used to train the model. It uses DecisionTreeClassifier as default weak learner for training purpose. You can also specify different machine learning algorithms.\n",
    "\n",
    "n_estimators: Number of weak learners to train iteratively.\n",
    "\n",
    "learning_rate: It contributes to the weights of weak learners. It uses 1 as a default value."
   ]
  },
  {
   "cell_type": "code",
   "execution_count": 5,
   "metadata": {},
   "outputs": [
    {
     "name": "stdout",
     "output_type": "stream",
     "text": [
      "Accuracy: 0.9666666666666667\n"
     ]
    }
   ],
   "source": [
    "# Model Accuracy, how often is the classifier correct?\n",
    "print(\"Accuracy:\",metrics.accuracy_score(y_test, y_pred))"
   ]
  },
  {
   "cell_type": "code",
   "execution_count": 6,
   "metadata": {},
   "outputs": [],
   "source": [
    "# Import Support Vector Classifier\n",
    "from sklearn.svm import SVC\n",
    "#Import scikit-learn metrics module for accuracy calculation\n",
    "from sklearn import metrics\n",
    "svc=SVC(probability=True, kernel='linear')\n",
    "\n",
    "# Create adaboost classifer object\n",
    "abc =AdaBoostClassifier(n_estimators=50, base_estimator=svc,learning_rate=1)\n"
   ]
  },
  {
   "cell_type": "code",
   "execution_count": 7,
   "metadata": {},
   "outputs": [],
   "source": [
    "# Train Adaboost Classifer\n",
    "model = abc.fit(X_train, y_train)\n",
    "\n",
    "#Predict the response for test dataset\n",
    "y_pred = model.predict(X_test)"
   ]
  },
  {
   "cell_type": "code",
   "execution_count": 8,
   "metadata": {},
   "outputs": [
    {
     "name": "stdout",
     "output_type": "stream",
     "text": [
      "Accuracy: 0.9666666666666667\n"
     ]
    }
   ],
   "source": [
    "# Model Accuracy, how often is the classifier correct?\n",
    "print(\"Accuracy:\",metrics.accuracy_score(y_test, y_pred))"
   ]
  },
  {
   "cell_type": "markdown",
   "metadata": {},
   "source": [
    "Pros\n",
    "AdaBoost is easy to implement. It iteratively corrects the mistakes of the weak classifier and improves accuracy by combining weak learners. You can use many base classifiers with AdaBoost. AdaBoost is not prone to overfitting. This can be found out via experiment results, but there is no concrete reason available.\n",
    "\n",
    "Cons\n",
    "AdaBoost is sensitive to noise data. It is highly affected by outliers because it tries to fit each point perfectly. AdaBoost is slower compared to XGBoost."
   ]
  }
 ],
 "metadata": {
  "kernelspec": {
   "display_name": "Python 3 (ipykernel)",
   "language": "python",
   "name": "python3"
  },
  "language_info": {
   "codemirror_mode": {
    "name": "ipython",
    "version": 3
   },
   "file_extension": ".py",
   "mimetype": "text/x-python",
   "name": "python",
   "nbconvert_exporter": "python",
   "pygments_lexer": "ipython3",
   "version": "3.8.5"
  }
 },
 "nbformat": 4,
 "nbformat_minor": 2
}
