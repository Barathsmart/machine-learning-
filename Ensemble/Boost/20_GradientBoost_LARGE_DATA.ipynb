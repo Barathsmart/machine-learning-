{
 "cells": [
  {
   "cell_type": "markdown",
   "metadata": {},
   "source": [
    "# Implementation of Gradient-Boost Algorithm"
   ]
  },
  {
   "cell_type": "code",
   "execution_count": 27,
   "metadata": {},
   "outputs": [],
   "source": [
    "#Importing neccesary packages\n",
    "# Load libraries\n",
    "from sklearn.ensemble import GradientBoostingRegressor\n",
    "import numpy as np\n",
    "import pandas as pd\n",
    "from sklearn.model_selection import train_test_split\n",
    "from sklearn.metrics import mean_squared_error\n",
    "from sklearn.datasets import load_boston\n",
    "from sklearn.metrics import mean_absolute_error\n",
    "from sklearn.metrics import r2_score\n",
    "import warnings\n",
    "warnings.filterwarnings('ignore')\n",
    "import xgboost as xgb"
   ]
  },
  {
   "cell_type": "code",
   "execution_count": 26,
   "metadata": {},
   "outputs": [
    {
     "name": "stdout",
     "output_type": "stream",
     "text": [
      "Requirement already satisfied: xgboost in c:\\users\\barath murugan\\anaconda3\\lib\\site-packages (1.7.4)\n",
      "Requirement already satisfied: scipy in c:\\users\\barath murugan\\anaconda3\\lib\\site-packages (from xgboost) (1.9.1)\n",
      "Requirement already satisfied: numpy in c:\\users\\barath murugan\\anaconda3\\lib\\site-packages (from xgboost) (1.21.5)\n"
     ]
    }
   ],
   "source": [
    "!pip install xgboost"
   ]
  },
  {
   "cell_type": "markdown",
   "metadata": {},
   "source": [
    "# Data Preparation"
   ]
  },
  {
   "cell_type": "code",
   "execution_count": 8,
   "metadata": {},
   "outputs": [],
   "source": [
    "# Load data - Reading Boston Data\n",
    "boston = load_boston()\n",
    "X = pd.DataFrame(boston.data, columns=boston.feature_names) #Independent columns\n",
    "\n",
    "y = pd.Series(boston.target) #Dependent column - Median value of House"
   ]
  },
  {
   "cell_type": "markdown",
   "metadata": {},
   "source": [
    "#Data Definition\n",
    "#CRIM: Per capita crime rate by town\n",
    "\n",
    "#ZN: Proportion of residential land zoned for lots over 25,000 sq. ft\n",
    "\n",
    "#INDUS: Proportion of non-retail business acres per town\n",
    "\n",
    "#CHAS: Charles River dummy variable (= 1 if tract bounds river; 0 otherwise)\n",
    "\n",
    "#NOX: Nitric oxide concentration (parts per 10 million)\n",
    "\n",
    "#RM: Average number of rooms per dwelling\n",
    "\n",
    "#AGE: Proportion of owner-occupied units built prior to 1940\n",
    "\n",
    "#DIS: Weighted distances to five Boston employment centers\n",
    "\n",
    "#RAD: Index of accessibility to radial highways\n",
    "\n",
    "#TAX: Full-value property tax rate per $10,000\n",
    "\n",
    "#PTRATIO: Pupil-teacher ratio by town\n",
    "\n",
    "#B:  proportion of people of African American descent by town\n",
    "\n",
    "#LSTAT: Percentage of lower status of the population\n",
    "\n",
    "#MEDV: Median value of owner-occupied homes in $1000s (Output)"
   ]
  },
  {
   "cell_type": "code",
   "execution_count": 13,
   "metadata": {},
   "outputs": [
    {
     "data": {
      "text/html": [
       "<div>\n",
       "<style scoped>\n",
       "    .dataframe tbody tr th:only-of-type {\n",
       "        vertical-align: middle;\n",
       "    }\n",
       "\n",
       "    .dataframe tbody tr th {\n",
       "        vertical-align: top;\n",
       "    }\n",
       "\n",
       "    .dataframe thead th {\n",
       "        text-align: right;\n",
       "    }\n",
       "</style>\n",
       "<table border=\"1\" class=\"dataframe\">\n",
       "  <thead>\n",
       "    <tr style=\"text-align: right;\">\n",
       "      <th></th>\n",
       "      <th>CRIM</th>\n",
       "      <th>ZN</th>\n",
       "      <th>INDUS</th>\n",
       "      <th>CHAS</th>\n",
       "      <th>NOX</th>\n",
       "      <th>RM</th>\n",
       "      <th>AGE</th>\n",
       "      <th>DIS</th>\n",
       "      <th>RAD</th>\n",
       "      <th>TAX</th>\n",
       "      <th>PTRATIO</th>\n",
       "      <th>B</th>\n",
       "      <th>LSTAT</th>\n",
       "    </tr>\n",
       "  </thead>\n",
       "  <tbody>\n",
       "    <tr>\n",
       "      <th>0</th>\n",
       "      <td>0.00632</td>\n",
       "      <td>18.0</td>\n",
       "      <td>2.31</td>\n",
       "      <td>0.0</td>\n",
       "      <td>0.538</td>\n",
       "      <td>6.575</td>\n",
       "      <td>65.2</td>\n",
       "      <td>4.0900</td>\n",
       "      <td>1.0</td>\n",
       "      <td>296.0</td>\n",
       "      <td>15.3</td>\n",
       "      <td>396.90</td>\n",
       "      <td>4.98</td>\n",
       "    </tr>\n",
       "    <tr>\n",
       "      <th>1</th>\n",
       "      <td>0.02731</td>\n",
       "      <td>0.0</td>\n",
       "      <td>7.07</td>\n",
       "      <td>0.0</td>\n",
       "      <td>0.469</td>\n",
       "      <td>6.421</td>\n",
       "      <td>78.9</td>\n",
       "      <td>4.9671</td>\n",
       "      <td>2.0</td>\n",
       "      <td>242.0</td>\n",
       "      <td>17.8</td>\n",
       "      <td>396.90</td>\n",
       "      <td>9.14</td>\n",
       "    </tr>\n",
       "    <tr>\n",
       "      <th>2</th>\n",
       "      <td>0.02729</td>\n",
       "      <td>0.0</td>\n",
       "      <td>7.07</td>\n",
       "      <td>0.0</td>\n",
       "      <td>0.469</td>\n",
       "      <td>7.185</td>\n",
       "      <td>61.1</td>\n",
       "      <td>4.9671</td>\n",
       "      <td>2.0</td>\n",
       "      <td>242.0</td>\n",
       "      <td>17.8</td>\n",
       "      <td>392.83</td>\n",
       "      <td>4.03</td>\n",
       "    </tr>\n",
       "    <tr>\n",
       "      <th>3</th>\n",
       "      <td>0.03237</td>\n",
       "      <td>0.0</td>\n",
       "      <td>2.18</td>\n",
       "      <td>0.0</td>\n",
       "      <td>0.458</td>\n",
       "      <td>6.998</td>\n",
       "      <td>45.8</td>\n",
       "      <td>6.0622</td>\n",
       "      <td>3.0</td>\n",
       "      <td>222.0</td>\n",
       "      <td>18.7</td>\n",
       "      <td>394.63</td>\n",
       "      <td>2.94</td>\n",
       "    </tr>\n",
       "    <tr>\n",
       "      <th>4</th>\n",
       "      <td>0.06905</td>\n",
       "      <td>0.0</td>\n",
       "      <td>2.18</td>\n",
       "      <td>0.0</td>\n",
       "      <td>0.458</td>\n",
       "      <td>7.147</td>\n",
       "      <td>54.2</td>\n",
       "      <td>6.0622</td>\n",
       "      <td>3.0</td>\n",
       "      <td>222.0</td>\n",
       "      <td>18.7</td>\n",
       "      <td>396.90</td>\n",
       "      <td>5.33</td>\n",
       "    </tr>\n",
       "  </tbody>\n",
       "</table>\n",
       "</div>"
      ],
      "text/plain": [
       "      CRIM    ZN  INDUS  CHAS    NOX     RM   AGE     DIS  RAD    TAX  \\\n",
       "0  0.00632  18.0   2.31   0.0  0.538  6.575  65.2  4.0900  1.0  296.0   \n",
       "1  0.02731   0.0   7.07   0.0  0.469  6.421  78.9  4.9671  2.0  242.0   \n",
       "2  0.02729   0.0   7.07   0.0  0.469  7.185  61.1  4.9671  2.0  242.0   \n",
       "3  0.03237   0.0   2.18   0.0  0.458  6.998  45.8  6.0622  3.0  222.0   \n",
       "4  0.06905   0.0   2.18   0.0  0.458  7.147  54.2  6.0622  3.0  222.0   \n",
       "\n",
       "   PTRATIO       B  LSTAT  \n",
       "0     15.3  396.90   4.98  \n",
       "1     17.8  396.90   9.14  \n",
       "2     17.8  392.83   4.03  \n",
       "3     18.7  394.63   2.94  \n",
       "4     18.7  396.90   5.33  "
      ]
     },
     "execution_count": 13,
     "metadata": {},
     "output_type": "execute_result"
    }
   ],
   "source": [
    "#Viewing Data - predictors\n",
    "X.head()"
   ]
  },
  {
   "cell_type": "code",
   "execution_count": 14,
   "metadata": {},
   "outputs": [
    {
     "data": {
      "text/plain": [
       "1    21.6\n",
       "2    34.7\n",
       "3    33.4\n",
       "4    36.2\n",
       "5    28.7\n",
       "6    22.9\n",
       "7    27.1\n",
       "8    16.5\n",
       "9    18.9\n",
       "dtype: float64"
      ]
     },
     "execution_count": 14,
     "metadata": {},
     "output_type": "execute_result"
    }
   ],
   "source": [
    "y[1:10] #response"
   ]
  },
  {
   "cell_type": "code",
   "execution_count": 15,
   "metadata": {},
   "outputs": [],
   "source": [
    "# Split dataset into training set and test set\n",
    "X_train, X_test, y_train, y_test = train_test_split(X, y, test_size=0.2) # 80% training and 20% test"
   ]
  },
  {
   "cell_type": "markdown",
   "metadata": {},
   "source": [
    "# Model training and evaluation"
   ]
  },
  {
   "cell_type": "code",
   "execution_count": 16,
   "metadata": {},
   "outputs": [],
   "source": [
    "# Create gradientboost REGRESSOR object\n",
    "gradientregressor = GradientBoostingRegressor(max_depth=2,n_estimators=3,learning_rate=1.0)"
   ]
  },
  {
   "cell_type": "markdown",
   "metadata": {},
   "source": [
    "#Important Parameters\n",
    "\n",
    "#n_estimators: Number of weak learners to train iteratively.\n",
    "\n",
    "#learning_rate: It contributes to the weights of weak learners. It uses 1 as a default value."
   ]
  },
  {
   "cell_type": "code",
   "execution_count": 17,
   "metadata": {},
   "outputs": [],
   "source": [
    "# Train gradientboost REGRESSOR\n",
    "model = gradientregressor.fit(X_train, y_train)\n",
    "\n",
    "#Predict the response for test dataset\n",
    "y_pred = model.predict(X_test)"
   ]
  },
  {
   "cell_type": "code",
   "execution_count": 18,
   "metadata": {},
   "outputs": [
    {
     "data": {
      "text/plain": [
       "0.7214253546031609"
      ]
     },
     "execution_count": 18,
     "metadata": {},
     "output_type": "execute_result"
    }
   ],
   "source": [
    "r2_score(y_pred,y_test)"
   ]
  },
  {
   "cell_type": "code",
   "execution_count": 19,
   "metadata": {},
   "outputs": [
    {
     "data": {
      "image/png": "[encoded data removed]",
      "text/plain": [
       "<Figure size 640x480 with 1 Axes>"
      ]
     },
     "metadata": {},
     "output_type": "display_data"
    }
   ],
   "source": [
    "import matplotlib.pyplot as plt\n",
    "%matplotlib inline\n",
    "\n",
    "# Plot feature importance\n",
    "feature_importance = model.feature_importances_\n",
    "\n",
    "# make importances relative to max importance\n",
    "feature_importance = 100.0 * (feature_importance / feature_importance.max())\n",
    "sorted_idx = np.argsort(feature_importance)\n",
    "pos = np.arange(sorted_idx.shape[0]) + .5\n",
    "plt.barh(pos, feature_importance[sorted_idx], align='center')\n",
    "plt.yticks(pos, boston.feature_names[sorted_idx])\n",
    "plt.xlabel('Relative Importance')\n",
    "plt.title('Variable Importance')\n",
    "plt.show()"
   ]
  },
  {
   "cell_type": "markdown",
   "metadata": {},
   "source": [
    "# Lets tune the hyperparameters"
   ]
  },
  {
   "cell_type": "code",
   "execution_count": 20,
   "metadata": {},
   "outputs": [
    {
     "data": {
      "text/plain": [
       "({'learning_rate': 0.15, 'n_estimators': 100}, 0.8599531328245131)"
      ]
     },
     "execution_count": 20,
     "metadata": {},
     "output_type": "execute_result"
    }
   ],
   "source": [
    "from sklearn.model_selection import GridSearchCV\n",
    "\n",
    "LR = {'learning_rate':[0.15,0.1,0.10,0.05], 'n_estimators':[100,150,200,250]}\n",
    "\n",
    "tuning = GridSearchCV(estimator =GradientBoostingRegressor(), \n",
    "            param_grid = LR, scoring='r2')\n",
    "\n",
    "tuning.fit(X_train,y_train)\n",
    "\n",
    "tuning.best_params_, tuning.best_score_"
   ]
  },
  {
   "cell_type": "markdown",
   "metadata": {},
   "source": [
    "### Similarly other hyperparameters like max_depth, split criteria, min no of leaf nodes etc can be tuned"
   ]
  },
  {
   "cell_type": "markdown",
   "metadata": {},
   "source": [
    "## Summary:\n",
    "\n",
    "### Pros:\n",
    " \n",
    "It iteratively corrects the mistakes of the weak classifier and improves accuracy by combining weak learners. \n",
    "\n",
    "Gives better accuracy in most of the cases\n",
    "\n",
    "### Cons:\n",
    "Space and time complexity\n",
    "\n",
    "Hyperparameter tuning"
   ]
  },
  {
   "cell_type": "code",
   "execution_count": 11,
   "metadata": {},
   "outputs": [],
   "source": [
    "import optuna"
   ]
  },
  {
   "cell_type": "code",
   "execution_count": 22,
   "metadata": {},
   "outputs": [
    {
     "name": "stdout",
     "output_type": "stream",
     "text": [
      "Collecting optuna\n",
      "  Downloading optuna-3.1.0-py3-none-any.whl (365 kB)\n",
      "     -------------------------------------- 365.3/365.3 kB 2.8 MB/s eta 0:00:00\n",
      "Requirement already satisfied: sqlalchemy>=1.3.0 in c:\\users\\barath murugan\\anaconda3\\lib\\site-packages (from optuna) (1.4.39)\n",
      "Collecting colorlog\n",
      "  Downloading colorlog-6.7.0-py2.py3-none-any.whl (11 kB)\n",
      "Requirement already satisfied: tqdm in c:\\users\\barath murugan\\anaconda3\\lib\\site-packages (from optuna) (4.64.1)\n",
      "Requirement already satisfied: PyYAML in c:\\users\\barath murugan\\anaconda3\\lib\\site-packages (from optuna) (6.0)\n",
      "Requirement already satisfied: packaging>=20.0 in c:\\users\\barath murugan\\anaconda3\\lib\\site-packages (from optuna) (21.3)\n",
      "Requirement already satisfied: numpy in c:\\users\\barath murugan\\anaconda3\\lib\\site-packages (from optuna) (1.21.5)\n",
      "Collecting cmaes>=0.9.1\n",
      "  Downloading cmaes-0.9.1-py3-none-any.whl (21 kB)\n",
      "Collecting alembic>=1.5.0\n",
      "  Downloading alembic-1.9.4-py3-none-any.whl (210 kB)\n",
      "     -------------------------------------- 210.5/210.5 kB 1.8 MB/s eta 0:00:00\n",
      "Collecting Mako\n",
      "  Downloading Mako-1.2.4-py3-none-any.whl (78 kB)\n",
      "     ---------------------------------------- 78.7/78.7 kB 2.1 MB/s eta 0:00:00\n",
      "Requirement already satisfied: pyparsing!=3.0.5,>=2.0.2 in c:\\users\\barath murugan\\anaconda3\\lib\\site-packages (from packaging>=20.0->optuna) (3.0.9)\n",
      "Requirement already satisfied: greenlet!=0.4.17 in c:\\users\\barath murugan\\anaconda3\\lib\\site-packages (from sqlalchemy>=1.3.0->optuna) (1.1.1)\n",
      "Requirement already satisfied: colorama in c:\\users\\barath murugan\\anaconda3\\lib\\site-packages (from colorlog->optuna) (0.4.5)\n",
      "Requirement already satisfied: MarkupSafe>=0.9.2 in c:\\users\\barath murugan\\anaconda3\\lib\\site-packages (from Mako->alembic>=1.5.0->optuna) (2.0.1)\n",
      "Installing collected packages: Mako, colorlog, cmaes, alembic, optuna\n",
      "Successfully installed Mako-1.2.4 alembic-1.9.4 cmaes-0.9.1 colorlog-6.7.0 optuna-3.1.0\n"
     ]
    }
   ],
   "source": [
    "!pip install optuna"
   ]
  },
  {
   "cell_type": "code",
   "execution_count": 4,
   "metadata": {},
   "outputs": [
    {
     "name": "stdout",
     "output_type": "stream",
     "text": [
      "^C\n"
     ]
    }
   ],
   "source": [
    "!pip install XGboost"
   ]
  },
  {
   "cell_type": "code",
   "execution_count": 30,
   "metadata": {},
   "outputs": [],
   "source": [
    "from sklearn.metrics import mean_squared_error\n",
    "def objective(trail , data = X , target = y ):\n",
    "    train_x , test_x ,train_y , test_y = train_test_split(data , target , test_size = .10,random_state = 30  )\n",
    "    param = {\n",
    "        'lambda':trail.suggest_loguniform('lambda' , 1e-4,10.0),\n",
    "        'alpha' :trail.suggest_loguniform('alpha' , 1e-4 , 10.0),\n",
    "        'colsample_bytree' :trail.suggest_categorical('colsample_bytree' , [.1,.2,.3,.4,.5,.6,.7,.8,.9,1]),\n",
    "        'subsample' :trail.suggest_categorical('subsample' , [.1,.2,.3,.4,.5,.6,.7,.8,.9,1]),\n",
    "        'learning_rate' : trail.suggest_categorical('learning_rate' , [.00001,.0003,.008,.02,.01,1,8]),\n",
    "        'n_estimator' :30000,\n",
    "        'max_depth' :trail.suggest_categorical('max_depth', [3,4,5,6,7,8,9,10,11,12]),\n",
    "        'random_state' :trail.suggest_categorical('random_state' , [10,20,30 ,2000 , 3454,243123]),\n",
    "        'min_child_weight' :trail.suggest_int('min_child_weight' ,1,200)\n",
    "    }\n",
    "    xgb_reg_model =xgb.XGBRegressor(**param)\n",
    "    xgb_reg_model.fit(train_x,train_y,eval_set = [(test_x,test_y)] , verbose = True )\n",
    "    pred_xgb = xgb_reg_model.predict(test_x)\n",
    "    rmse = mean_squared_error(test_y,pred_xgb)\n",
    "    return rmse"
   ]
  },
  {
   "cell_type": "code",
   "execution_count": 31,
   "metadata": {},
   "outputs": [
    {
     "name": "stderr",
     "output_type": "stream",
     "text": [
      "\u001b[32m[I 2023-02-28 12:59:46,021]\u001b[0m A new study created in memory with name: no-name-75ed42c6-8dff-4b2b-9a95-d5fd05640acc\u001b[0m\n"
     ]
    },
    {
     "name": "stdout",
     "output_type": "stream",
     "text": [
      "[12:59:46] WARNING: C:/buildkite-agent/builds/buildkite-windows-cpu-autoscaling-group-i-0fc7796c793e6356f-1/xgboost/xgboost-ci-windows/src/learner.cc:767: \n",
      "Parameters: { \"n_estimator\" } are not used.\n",
      "\n",
      "[0]\tvalidation_0-rmse:21.92908\n",
      "[1]\tvalidation_0-rmse:21.92250\n",
      "[2]\tvalidation_0-rmse:21.91596\n",
      "[3]\tvalidation_0-rmse:21.90940\n",
      "[4]\tvalidation_0-rmse:21.90295\n",
      "[5]\tvalidation_0-rmse:21.89648\n",
      "[6]\tvalidation_0-rmse:21.89045\n",
      "[7]\tvalidation_0-rmse:21.88390\n",
      "[8]\tvalidation_0-rmse:21.87743\n",
      "[9]\tvalidation_0-rmse:21.87102\n",
      "[10]\tvalidation_0-rmse:21.86447\n",
      "[11]\tvalidation_0-rmse:21.85806\n",
      "[12]\tvalidation_0-rmse:21.85161\n",
      "[13]\tvalidation_0-rmse:21.84513\n",
      "[14]\tvalidation_0-rmse:21.83866\n",
      "[15]\tvalidation_0-rmse:21.83240\n",
      "[16]\tvalidation_0-rmse:21.82588\n",
      "[17]\tvalidation_0-rmse:21.81938\n",
      "[18]\tvalidation_0-rmse:21.81287\n",
      "[19]\tvalidation_0-rmse:21.80662\n",
      "[20]\tvalidation_0-rmse:21.80019\n",
      "[21]\tvalidation_0-rmse:21.79368\n",
      "[22]\tvalidation_0-rmse:21.78729\n",
      "[23]\tvalidation_0-rmse:21.78075\n",
      "[24]\tvalidation_0-rmse:21.77445\n",
      "[25]\tvalidation_0-rmse:21.76818\n",
      "[26]\tvalidation_0-rmse:21.76175\n",
      "[27]\tvalidation_0-rmse:21.75530\n",
      "[28]\tvalidation_0-rmse:21.74890\n",
      "[29]\tvalidation_0-rmse:21.74245\n",
      "[30]\tvalidation_0-rmse:21.73599\n",
      "[31]\tvalidation_0-rmse:21.72953\n",
      "[32]\tvalidation_0-rmse:21.72317\n",
      "[33]\tvalidation_0-rmse:21.71671\n",
      "[34]\tvalidation_0-rmse:21.71036\n",
      "[35]\tvalidation_0-rmse:21.70410\n",
      "[36]\tvalidation_0-rmse:21.69782\n",
      "[37]\tvalidation_0-rmse:21.69136\n",
      "[38]\tvalidation_0-rmse:21.68495\n",
      "[39]\tvalidation_0-rmse:21.67858\n",
      "[40]\tvalidation_0-rmse:21.67225\n",
      "[41]\tvalidation_0-rmse:21.66581\n",
      "[42]\tvalidation_0-rmse:21.65934\n",
      "[43]\tvalidation_0-rmse:21.65289\n",
      "[44]\tvalidation_0-rmse:21.64642\n",
      "[45]\tvalidation_0-rmse:21.64009\n",
      "[46]\tvalidation_0-rmse:21.63365\n",
      "[47]\tvalidation_0-rmse:21.62729\n",
      "[48]\tvalidation_0-rmse:21.62092\n",
      "[49]\tvalidation_0-rmse:21.61449\n",
      "[50]\tvalidation_0-rmse:21.60805\n",
      "[51]\tvalidation_0-rmse:21.60163\n",
      "[52]\tvalidation_0-rmse:21.59529\n",
      "[53]\tvalidation_0-rmse:21.58896\n",
      "[54]\tvalidation_0-rmse:21.58280\n",
      "[55]\tvalidation_0-rmse:21.57634\n",
      "[56]\tvalidation_0-rmse:21.57001\n",
      "[57]\tvalidation_0-rmse:21.56364\n",
      "[58]\tvalidation_0-rmse:21.55725\n",
      "[59]\tvalidation_0-rmse:21.55080\n",
      "[60]\tvalidation_0-rmse:21.54442\n",
      "[61]\tvalidation_0-rmse:21.53805\n",
      "[62]\tvalidation_0-rmse:21.53174\n",
      "[63]\tvalidation_0-rmse:21.52553\n",
      "[64]\tvalidation_0-rmse:21.51934\n",
      "[65]\tvalidation_0-rmse:21.51305\n",
      "[66]\tvalidation_0-rmse:21.50674\n",
      "[67]\tvalidation_0-rmse:21.50037\n",
      "[68]\tvalidation_0-rmse:21.49407\n",
      "[69]\tvalidation_0-rmse:21.48767\n",
      "[70]\tvalidation_0-rmse:21.48149\n",
      "[71]\tvalidation_0-rmse:21.47531\n",
      "[72]\tvalidation_0-rmse:21.46894\n",
      "[73]\tvalidation_0-rmse:21.46265\n",
      "[74]\tvalidation_0-rmse:21.45647\n",
      "[75]\tvalidation_0-rmse:21.45015\n",
      "[76]\tvalidation_0-rmse:21.44383\n",
      "[77]\tvalidation_0-rmse:21.43746\n",
      "[78]\tvalidation_0-rmse:21.43127\n",
      "[79]\tvalidation_0-rmse:21.42503\n",
      "[80]\tvalidation_0-rmse:21.41890\n",
      "[81]\tvalidation_0-rmse:21.41262\n",
      "[82]\tvalidation_0-rmse:21.40650\n",
      "[83]\tvalidation_0-rmse:21.40016\n",
      "[84]\tvalidation_0-rmse:21.39386\n",
      "[85]\tvalidation_0-rmse:21.38753\n",
      "[86]\tvalidation_0-rmse:21.38141\n",
      "[87]\tvalidation_0-rmse:21.37529\n",
      "[88]\tvalidation_0-rmse:21.36898\n",
      "[89]\tvalidation_0-rmse:21.36275\n",
      "[90]\tvalidation_0-rmse:21.35645\n",
      "[91]\tvalidation_0-rmse:21.35013\n",
      "[92]\tvalidation_0-rmse:21.34380\n",
      "[93]\tvalidation_0-rmse:21.33749\n",
      "[94]\tvalidation_0-rmse:21.33116\n",
      "[95]\tvalidation_0-rmse:21.32498\n",
      "[96]\tvalidation_0-rmse:21.31867\n",
      "[97]\tvalidation_0-rmse:21.31256\n",
      "[98]\tvalidation_0-rmse:21.30633\n",
      "[99]\tvalidation_0-rmse:21.30002\n"
     ]
    },
    {
     "name": "stderr",
     "output_type": "stream",
     "text": [
      "\u001b[32m[I 2023-02-28 12:59:46,254]\u001b[0m Trial 0 finished with value: 453.69094684517296 and parameters: {'lambda': 0.0031831622277515496, 'alpha': 0.09027145270161313, 'colsample_bytree': 1, 'subsample': 0.7, 'learning_rate': 0.0003, 'max_depth': 3, 'random_state': 2000, 'min_child_weight': 120}. Best is trial 0 with value: 453.69094684517296.\u001b[0m\n"
     ]
    },
    {
     "name": "stdout",
     "output_type": "stream",
     "text": [
      "[12:59:46] WARNING: C:/buildkite-agent/builds/buildkite-windows-cpu-autoscaling-group-i-0fc7796c793e6356f-1/xgboost/xgboost-ci-windows/src/learner.cc:767: \n",
      "Parameters: { \"n_estimator\" } are not used.\n",
      "\n",
      "[0]\tvalidation_0-rmse:21.93563\n",
      "[1]\tvalidation_0-rmse:21.93563\n",
      "[2]\tvalidation_0-rmse:21.93563\n",
      "[3]\tvalidation_0-rmse:21.93563\n",
      "[4]\tvalidation_0-rmse:21.93563\n",
      "[5]\tvalidation_0-rmse:21.93563\n",
      "[6]\tvalidation_0-rmse:21.93563\n",
      "[7]\tvalidation_0-rmse:21.93563\n",
      "[8]\tvalidation_0-rmse:21.93563\n",
      "[9]\tvalidation_0-rmse:21.93563\n",
      "[10]\tvalidation_0-rmse:21.93563\n",
      "[11]\tvalidation_0-rmse:21.93563\n",
      "[12]\tvalidation_0-rmse:21.93563\n",
      "[13]\tvalidation_0-rmse:21.93563\n",
      "[14]\tvalidation_0-rmse:21.93563\n",
      "[15]\tvalidation_0-rmse:21.93563\n",
      "[16]\tvalidation_0-rmse:21.93563\n",
      "[17]\tvalidation_0-rmse:21.93563\n",
      "[18]\tvalidation_0-rmse:21.93563\n",
      "[19]\tvalidation_0-rmse:21.93563\n",
      "[20]\tvalidation_0-rmse:21.93563\n",
      "[21]\tvalidation_0-rmse:21.93563\n",
      "[22]\tvalidation_0-rmse:21.93563\n",
      "[23]\tvalidation_0-rmse:21.93563\n",
      "[24]\tvalidation_0-rmse:21.93563\n",
      "[25]\tvalidation_0-rmse:21.93563\n",
      "[26]\tvalidation_0-rmse:21.93563\n",
      "[27]\tvalidation_0-rmse:21.93563\n",
      "[28]\tvalidation_0-rmse:21.93563\n",
      "[29]\tvalidation_0-rmse:21.93563\n",
      "[30]\tvalidation_0-rmse:21.93563\n",
      "[31]\tvalidation_0-rmse:21.93563\n",
      "[32]\tvalidation_0-rmse:21.93563\n",
      "[33]\tvalidation_0-rmse:21.93563\n",
      "[34]\tvalidation_0-rmse:21.93563\n",
      "[35]\tvalidation_0-rmse:21.93563\n",
      "[36]\tvalidation_0-rmse:21.93563\n",
      "[37]\tvalidation_0-rmse:21.93563\n",
      "[38]\tvalidation_0-rmse:21.93563\n",
      "[39]\tvalidation_0-rmse:21.93563\n",
      "[40]\tvalidation_0-rmse:21.93563\n",
      "[41]\tvalidation_0-rmse:21.93563\n",
      "[42]\tvalidation_0-rmse:21.93563\n",
      "[43]\tvalidation_0-rmse:21.93563\n",
      "[44]\tvalidation_0-rmse:21.93563\n",
      "[45]\tvalidation_0-rmse:21.93563\n",
      "[46]\tvalidation_0-rmse:21.93563\n",
      "[47]\tvalidation_0-rmse:21.93563\n",
      "[48]\tvalidation_0-rmse:21.50923\n",
      "[49]\tvalidation_0-rmse:21.50923\n",
      "[50]\tvalidation_0-rmse:21.50923\n",
      "[51]\tvalidation_0-rmse:21.50923\n",
      "[52]\tvalidation_0-rmse:21.50923\n",
      "[53]\tvalidation_0-rmse:21.50923\n",
      "[54]\tvalidation_0-rmse:21.50923\n",
      "[55]\tvalidation_0-rmse:21.50923\n",
      "[56]\tvalidation_0-rmse:21.50923\n",
      "[57]\tvalidation_0-rmse:21.50923\n",
      "[58]\tvalidation_0-rmse:21.50923\n",
      "[59]\tvalidation_0-rmse:21.50923\n",
      "[60]\tvalidation_0-rmse:21.50923\n",
      "[61]\tvalidation_0-rmse:21.50923\n",
      "[62]\tvalidation_0-rmse:21.50923\n",
      "[63]\tvalidation_0-rmse:21.50923\n",
      "[64]\tvalidation_0-rmse:21.50923\n",
      "[65]\tvalidation_0-rmse:21.50923\n",
      "[66]\tvalidation_0-rmse:21.50923\n",
      "[67]\tvalidation_0-rmse:21.50923\n",
      "[68]\tvalidation_0-rmse:21.50923\n",
      "[69]\tvalidation_0-rmse:21.50923\n",
      "[70]\tvalidation_0-rmse:21.50923\n",
      "[71]\tvalidation_0-rmse:21.50923\n",
      "[72]\tvalidation_0-rmse:21.50923\n",
      "[73]\tvalidation_0-rmse:21.50923\n",
      "[74]\tvalidation_0-rmse:21.50923\n",
      "[75]\tvalidation_0-rmse:21.50923\n",
      "[76]\tvalidation_0-rmse:21.50923\n",
      "[77]\tvalidation_0-rmse:21.50923\n",
      "[78]\tvalidation_0-rmse:21.50923\n",
      "[79]\tvalidation_0-rmse:21.50923\n",
      "[80]\tvalidation_0-rmse:21.50923\n",
      "[81]\tvalidation_0-rmse:21.50923\n",
      "[82]\tvalidation_0-rmse:21.50923\n",
      "[83]\tvalidation_0-rmse:21.50923\n",
      "[84]\tvalidation_0-rmse:21.50923\n",
      "[85]\tvalidation_0-rmse:21.50923\n",
      "[86]\tvalidation_0-rmse:21.50923\n",
      "[87]\tvalidation_0-rmse:21.50923\n",
      "[88]\tvalidation_0-rmse:21.50923\n",
      "[89]\tvalidation_0-rmse:21.50923\n",
      "[90]\tvalidation_0-rmse:21.50923\n",
      "[91]\tvalidation_0-rmse:21.50923\n",
      "[92]\tvalidation_0-rmse:21.50923\n",
      "[93]\tvalidation_0-rmse:21.50923\n",
      "[94]\tvalidation_0-rmse:21.50923\n",
      "[95]\tvalidation_0-rmse:21.50923\n",
      "[96]\tvalidation_0-rmse:21.50923\n",
      "[97]\tvalidation_0-rmse:21.50923\n",
      "[98]\tvalidation_0-rmse:21.50923\n",
      "[99]\tvalidation_0-rmse:21.50923\n"
     ]
    },
    {
     "name": "stderr",
     "output_type": "stream",
     "text": [
      "\u001b[32m[I 2023-02-28 12:59:46,451]\u001b[0m Trial 1 finished with value: 462.646819155684 and parameters: {'lambda': 0.001626953433317547, 'alpha': 0.00017941849462326133, 'colsample_bytree': 0.8, 'subsample': 0.2, 'learning_rate': 0.02, 'max_depth': 7, 'random_state': 243123, 'min_child_weight': 111}. Best is trial 0 with value: 453.69094684517296.\u001b[0m\n"
     ]
    },
    {
     "name": "stdout",
     "output_type": "stream",
     "text": [
      "[12:59:46] WARNING: C:/buildkite-agent/builds/buildkite-windows-cpu-autoscaling-group-i-0fc7796c793e6356f-1/xgboost/xgboost-ci-windows/src/learner.cc:767: \n",
      "Parameters: { \"n_estimator\" } are not used.\n",
      "\n",
      "[0]\tvalidation_0-rmse:155.72110\n",
      "[1]\tvalidation_0-rmse:1078.46512\n",
      "[2]\tvalidation_0-rmse:7563.24634\n",
      "[3]\tvalidation_0-rmse:52929.06744\n",
      "[4]\tvalidation_0-rmse:370512.72381\n",
      "[5]\tvalidation_0-rmse:2593577.85425\n",
      "[6]\tvalidation_0-rmse:18155050.86077\n",
      "[7]\tvalidation_0-rmse:127085301.90683\n",
      "[8]\tvalidation_0-rmse:889596928.06181\n",
      "[9]\tvalidation_0-rmse:6227176376.33505\n",
      "[10]\tvalidation_0-rmse:43590221215.27843\n",
      "[11]\tvalidation_0-rmse:305131451878.10608\n",
      "[12]\tvalidation_0-rmse:2135919450471.73047\n",
      "[13]\tvalidation_0-rmse:14951431372413.91211\n",
      "[14]\tvalidation_0-rmse:104659983034191.98438\n",
      "[15]\tvalidation_0-rmse:732619627433492.75000\n",
      "[16]\tvalidation_0-rmse:5128335811876688.00000\n",
      "[17]\tvalidation_0-rmse:35898337414648100.00000\n",
      "[18]\tvalidation_0-rmse:251288283080566656.00000\n",
      "[19]\tvalidation_0-rmse:1759017372101032704.00000\n",
      "[20]\tvalidation_0-rmse:12313117293625126912.00000\n",
      "[21]\tvalidation_0-rmse:inf\n",
      "[22]\tvalidation_0-rmse:inf\n",
      "[23]\tvalidation_0-rmse:inf\n",
      "[24]\tvalidation_0-rmse:inf\n",
      "[25]\tvalidation_0-rmse:inf\n",
      "[26]\tvalidation_0-rmse:inf\n",
      "[27]\tvalidation_0-rmse:inf\n",
      "[28]\tvalidation_0-rmse:inf\n",
      "[29]\tvalidation_0-rmse:inf\n",
      "[30]\tvalidation_0-rmse:inf\n",
      "[31]\tvalidation_0-rmse:inf\n",
      "[32]\tvalidation_0-rmse:inf\n",
      "[33]\tvalidation_0-rmse:inf\n",
      "[34]\tvalidation_0-rmse:inf\n",
      "[35]\tvalidation_0-rmse:inf\n",
      "[36]\tvalidation_0-rmse:inf\n",
      "[37]\tvalidation_0-rmse:inf\n",
      "[38]\tvalidation_0-rmse:inf\n",
      "[39]\tvalidation_0-rmse:inf\n",
      "[40]\tvalidation_0-rmse:inf\n",
      "[41]\tvalidation_0-rmse:inf\n",
      "[42]\tvalidation_0-rmse:inf\n",
      "[43]\tvalidation_0-rmse:inf\n"
     ]
    },
    {
     "name": "stderr",
     "output_type": "stream",
     "text": [
      "\u001b[33m[W 2023-02-28 12:59:46,538]\u001b[0m Trial 2 failed with parameters: {'lambda': 0.00010196680993841452, 'alpha': 4.458845484067354, 'colsample_bytree': 0.7, 'subsample': 0.8, 'learning_rate': 8, 'max_depth': 7, 'random_state': 10, 'min_child_weight': 188} because of the following error: ValueError(\"could not convert string to float: '-nan(ind)'\").\u001b[0m\n",
      "Traceback (most recent call last):\n",
      "  File \"C:\\Users\\Barath Murugan\\anaconda3\\lib\\site-packages\\optuna\\study\\_optimize.py\", line 200, in _run_trial\n",
      "    value_or_values = func(trial)\n",
      "  File \"C:\\Users\\Barath Murugan\\AppData\\Local\\Temp\\ipykernel_24028\\2874216549.py\", line 16, in objective\n",
      "    xgb_reg_model.fit(train_x,train_y,eval_set = [(test_x,test_y)] , verbose = True )\n",
      "  File \"C:\\Users\\Barath Murugan\\anaconda3\\lib\\site-packages\\xgboost\\core.py\", line 620, in inner_f\n",
      "    return func(**kwargs)\n",
      "  File \"C:\\Users\\Barath Murugan\\anaconda3\\lib\\site-packages\\xgboost\\sklearn.py\", line 1025, in fit\n",
      "    self._Booster = train(\n",
      "  File \"C:\\Users\\Barath Murugan\\anaconda3\\lib\\site-packages\\xgboost\\core.py\", line 620, in inner_f\n",
      "    return func(**kwargs)\n",
      "  File \"C:\\Users\\Barath Murugan\\anaconda3\\lib\\site-packages\\xgboost\\training.py\", line 186, in train\n",
      "    if cb_container.after_iteration(bst, i, dtrain, evals):\n",
      "  File \"C:\\Users\\Barath Murugan\\anaconda3\\lib\\site-packages\\xgboost\\callback.py\", line 245, in after_iteration\n",
      "    metric_score = [(n, float(s)) for n, s in metric_score_str]\n",
      "  File \"C:\\Users\\Barath Murugan\\anaconda3\\lib\\site-packages\\xgboost\\callback.py\", line 245, in <listcomp>\n",
      "    metric_score = [(n, float(s)) for n, s in metric_score_str]\n",
      "ValueError: could not convert string to float: '-nan(ind)'\n",
      "\u001b[33m[W 2023-02-28 12:59:46,542]\u001b[0m Trial 2 failed with value None.\u001b[0m\n"
     ]
    },
    {
     "ename": "ValueError",
     "evalue": "could not convert string to float: '-nan(ind)'",
     "output_type": "error",
     "traceback": [
      "\u001b[1;31m---------------------------------------------------------------------------\u001b[0m",
      "\u001b[1;31mValueError\u001b[0m                                Traceback (most recent call last)",
      "\u001b[1;32m~\\AppData\\Local\\Temp\\ipykernel_24028\\344700262.py\u001b[0m in \u001b[0;36m<module>\u001b[1;34m\u001b[0m\n\u001b[0;32m      1\u001b[0m \u001b[0mfind_param\u001b[0m \u001b[1;33m=\u001b[0m \u001b[0moptuna\u001b[0m\u001b[1;33m.\u001b[0m\u001b[0mcreate_study\u001b[0m\u001b[1;33m(\u001b[0m\u001b[0mdirection\u001b[0m\u001b[1;33m=\u001b[0m\u001b[1;34m'minimize'\u001b[0m\u001b[1;33m)\u001b[0m\u001b[1;33m\u001b[0m\u001b[1;33m\u001b[0m\u001b[0m\n\u001b[1;32m----> 2\u001b[1;33m \u001b[0mfind_param\u001b[0m\u001b[1;33m.\u001b[0m\u001b[0moptimize\u001b[0m\u001b[1;33m(\u001b[0m\u001b[0mobjective\u001b[0m\u001b[1;33m)\u001b[0m\u001b[1;33m\u001b[0m\u001b[1;33m\u001b[0m\u001b[0m\n\u001b[0m\u001b[0;32m      3\u001b[0m \u001b[0mfind_param\u001b[0m\u001b[1;33m.\u001b[0m\u001b[0mbest_trial\u001b[0m\u001b[1;33m.\u001b[0m\u001b[0mparams\u001b[0m\u001b[1;33m\u001b[0m\u001b[1;33m\u001b[0m\u001b[0m\n",
      "\u001b[1;32m~\\anaconda3\\lib\\site-packages\\optuna\\study\\study.py\u001b[0m in \u001b[0;36moptimize\u001b[1;34m(self, func, n_trials, timeout, n_jobs, catch, callbacks, gc_after_trial, show_progress_bar)\u001b[0m\n\u001b[0;32m    423\u001b[0m         \"\"\"\n\u001b[0;32m    424\u001b[0m \u001b[1;33m\u001b[0m\u001b[0m\n\u001b[1;32m--> 425\u001b[1;33m         _optimize(\n\u001b[0m\u001b[0;32m    426\u001b[0m             \u001b[0mstudy\u001b[0m\u001b[1;33m=\u001b[0m\u001b[0mself\u001b[0m\u001b[1;33m,\u001b[0m\u001b[1;33m\u001b[0m\u001b[1;33m\u001b[0m\u001b[0m\n\u001b[0;32m    427\u001b[0m             \u001b[0mfunc\u001b[0m\u001b[1;33m=\u001b[0m\u001b[0mfunc\u001b[0m\u001b[1;33m,\u001b[0m\u001b[1;33m\u001b[0m\u001b[1;33m\u001b[0m\u001b[0m\n",
      "\u001b[1;32m~\\anaconda3\\lib\\site-packages\\optuna\\study\\_optimize.py\u001b[0m in \u001b[0;36m_optimize\u001b[1;34m(study, func, n_trials, timeout, n_jobs, catch, callbacks, gc_after_trial, show_progress_bar)\u001b[0m\n\u001b[0;32m     64\u001b[0m     \u001b[1;32mtry\u001b[0m\u001b[1;33m:\u001b[0m\u001b[1;33m\u001b[0m\u001b[1;33m\u001b[0m\u001b[0m\n\u001b[0;32m     65\u001b[0m         \u001b[1;32mif\u001b[0m \u001b[0mn_jobs\u001b[0m \u001b[1;33m==\u001b[0m \u001b[1;36m1\u001b[0m\u001b[1;33m:\u001b[0m\u001b[1;33m\u001b[0m\u001b[1;33m\u001b[0m\u001b[0m\n\u001b[1;32m---> 66\u001b[1;33m             _optimize_sequential(\n\u001b[0m\u001b[0;32m     67\u001b[0m                 \u001b[0mstudy\u001b[0m\u001b[1;33m,\u001b[0m\u001b[1;33m\u001b[0m\u001b[1;33m\u001b[0m\u001b[0m\n\u001b[0;32m     68\u001b[0m                 \u001b[0mfunc\u001b[0m\u001b[1;33m,\u001b[0m\u001b[1;33m\u001b[0m\u001b[1;33m\u001b[0m\u001b[0m\n",
      "\u001b[1;32m~\\anaconda3\\lib\\site-packages\\optuna\\study\\_optimize.py\u001b[0m in \u001b[0;36m_optimize_sequential\u001b[1;34m(study, func, n_trials, timeout, catch, callbacks, gc_after_trial, reseed_sampler_rng, time_start, progress_bar)\u001b[0m\n\u001b[0;32m    161\u001b[0m \u001b[1;33m\u001b[0m\u001b[0m\n\u001b[0;32m    162\u001b[0m         \u001b[1;32mtry\u001b[0m\u001b[1;33m:\u001b[0m\u001b[1;33m\u001b[0m\u001b[1;33m\u001b[0m\u001b[0m\n\u001b[1;32m--> 163\u001b[1;33m             \u001b[0mfrozen_trial\u001b[0m \u001b[1;33m=\u001b[0m \u001b[0m_run_trial\u001b[0m\u001b[1;33m(\u001b[0m\u001b[0mstudy\u001b[0m\u001b[1;33m,\u001b[0m \u001b[0mfunc\u001b[0m\u001b[1;33m,\u001b[0m \u001b[0mcatch\u001b[0m\u001b[1;33m)\u001b[0m\u001b[1;33m\u001b[0m\u001b[1;33m\u001b[0m\u001b[0m\n\u001b[0m\u001b[0;32m    164\u001b[0m         \u001b[1;32mfinally\u001b[0m\u001b[1;33m:\u001b[0m\u001b[1;33m\u001b[0m\u001b[1;33m\u001b[0m\u001b[0m\n\u001b[0;32m    165\u001b[0m             \u001b[1;31m# The following line mitigates memory problems that can be occurred in some\u001b[0m\u001b[1;33m\u001b[0m\u001b[1;33m\u001b[0m\u001b[0m\n",
      "\u001b[1;32m~\\anaconda3\\lib\\site-packages\\optuna\\study\\_optimize.py\u001b[0m in \u001b[0;36m_run_trial\u001b[1;34m(study, func, catch)\u001b[0m\n\u001b[0;32m    249\u001b[0m         \u001b[1;32mand\u001b[0m \u001b[1;32mnot\u001b[0m \u001b[0misinstance\u001b[0m\u001b[1;33m(\u001b[0m\u001b[0mfunc_err\u001b[0m\u001b[1;33m,\u001b[0m \u001b[0mcatch\u001b[0m\u001b[1;33m)\u001b[0m\u001b[1;33m\u001b[0m\u001b[1;33m\u001b[0m\u001b[0m\n\u001b[0;32m    250\u001b[0m     ):\n\u001b[1;32m--> 251\u001b[1;33m         \u001b[1;32mraise\u001b[0m \u001b[0mfunc_err\u001b[0m\u001b[1;33m\u001b[0m\u001b[1;33m\u001b[0m\u001b[0m\n\u001b[0m\u001b[0;32m    252\u001b[0m     \u001b[1;32mreturn\u001b[0m \u001b[0mfrozen_trial\u001b[0m\u001b[1;33m\u001b[0m\u001b[1;33m\u001b[0m\u001b[0m\n\u001b[0;32m    253\u001b[0m \u001b[1;33m\u001b[0m\u001b[0m\n",
      "\u001b[1;32m~\\anaconda3\\lib\\site-packages\\optuna\\study\\_optimize.py\u001b[0m in \u001b[0;36m_run_trial\u001b[1;34m(study, func, catch)\u001b[0m\n\u001b[0;32m    198\u001b[0m     \u001b[1;32mwith\u001b[0m \u001b[0mget_heartbeat_thread\u001b[0m\u001b[1;33m(\u001b[0m\u001b[0mtrial\u001b[0m\u001b[1;33m.\u001b[0m\u001b[0m_trial_id\u001b[0m\u001b[1;33m,\u001b[0m \u001b[0mstudy\u001b[0m\u001b[1;33m.\u001b[0m\u001b[0m_storage\u001b[0m\u001b[1;33m)\u001b[0m\u001b[1;33m:\u001b[0m\u001b[1;33m\u001b[0m\u001b[1;33m\u001b[0m\u001b[0m\n\u001b[0;32m    199\u001b[0m         \u001b[1;32mtry\u001b[0m\u001b[1;33m:\u001b[0m\u001b[1;33m\u001b[0m\u001b[1;33m\u001b[0m\u001b[0m\n\u001b[1;32m--> 200\u001b[1;33m             \u001b[0mvalue_or_values\u001b[0m \u001b[1;33m=\u001b[0m \u001b[0mfunc\u001b[0m\u001b[1;33m(\u001b[0m\u001b[0mtrial\u001b[0m\u001b[1;33m)\u001b[0m\u001b[1;33m\u001b[0m\u001b[1;33m\u001b[0m\u001b[0m\n\u001b[0m\u001b[0;32m    201\u001b[0m         \u001b[1;32mexcept\u001b[0m \u001b[0mexceptions\u001b[0m\u001b[1;33m.\u001b[0m\u001b[0mTrialPruned\u001b[0m \u001b[1;32mas\u001b[0m \u001b[0me\u001b[0m\u001b[1;33m:\u001b[0m\u001b[1;33m\u001b[0m\u001b[1;33m\u001b[0m\u001b[0m\n\u001b[0;32m    202\u001b[0m             \u001b[1;31m# TODO(mamu): Handle multi-objective cases.\u001b[0m\u001b[1;33m\u001b[0m\u001b[1;33m\u001b[0m\u001b[0m\n",
      "\u001b[1;32m~\\AppData\\Local\\Temp\\ipykernel_24028\\2874216549.py\u001b[0m in \u001b[0;36mobjective\u001b[1;34m(trail, data, target)\u001b[0m\n\u001b[0;32m     14\u001b[0m     }\n\u001b[0;32m     15\u001b[0m     \u001b[0mxgb_reg_model\u001b[0m \u001b[1;33m=\u001b[0m\u001b[0mxgb\u001b[0m\u001b[1;33m.\u001b[0m\u001b[0mXGBRegressor\u001b[0m\u001b[1;33m(\u001b[0m\u001b[1;33m**\u001b[0m\u001b[0mparam\u001b[0m\u001b[1;33m)\u001b[0m\u001b[1;33m\u001b[0m\u001b[1;33m\u001b[0m\u001b[0m\n\u001b[1;32m---> 16\u001b[1;33m     \u001b[0mxgb_reg_model\u001b[0m\u001b[1;33m.\u001b[0m\u001b[0mfit\u001b[0m\u001b[1;33m(\u001b[0m\u001b[0mtrain_x\u001b[0m\u001b[1;33m,\u001b[0m\u001b[0mtrain_y\u001b[0m\u001b[1;33m,\u001b[0m\u001b[0meval_set\u001b[0m \u001b[1;33m=\u001b[0m \u001b[1;33m[\u001b[0m\u001b[1;33m(\u001b[0m\u001b[0mtest_x\u001b[0m\u001b[1;33m,\u001b[0m\u001b[0mtest_y\u001b[0m\u001b[1;33m)\u001b[0m\u001b[1;33m]\u001b[0m \u001b[1;33m,\u001b[0m \u001b[0mverbose\u001b[0m \u001b[1;33m=\u001b[0m \u001b[1;32mTrue\u001b[0m \u001b[1;33m)\u001b[0m\u001b[1;33m\u001b[0m\u001b[1;33m\u001b[0m\u001b[0m\n\u001b[0m\u001b[0;32m     17\u001b[0m     \u001b[0mpred_xgb\u001b[0m \u001b[1;33m=\u001b[0m \u001b[0mxgb_reg_model\u001b[0m\u001b[1;33m.\u001b[0m\u001b[0mpredict\u001b[0m\u001b[1;33m(\u001b[0m\u001b[0mtest_x\u001b[0m\u001b[1;33m)\u001b[0m\u001b[1;33m\u001b[0m\u001b[1;33m\u001b[0m\u001b[0m\n\u001b[0;32m     18\u001b[0m     \u001b[0mrmse\u001b[0m \u001b[1;33m=\u001b[0m \u001b[0mmean_squared_error\u001b[0m\u001b[1;33m(\u001b[0m\u001b[0mtest_y\u001b[0m\u001b[1;33m,\u001b[0m\u001b[0mpred_xgb\u001b[0m\u001b[1;33m)\u001b[0m\u001b[1;33m\u001b[0m\u001b[1;33m\u001b[0m\u001b[0m\n",
      "\u001b[1;32m~\\anaconda3\\lib\\site-packages\\xgboost\\core.py\u001b[0m in \u001b[0;36minner_f\u001b[1;34m(*args, **kwargs)\u001b[0m\n\u001b[0;32m    618\u001b[0m             \u001b[1;32mfor\u001b[0m \u001b[0mk\u001b[0m\u001b[1;33m,\u001b[0m \u001b[0marg\u001b[0m \u001b[1;32min\u001b[0m \u001b[0mzip\u001b[0m\u001b[1;33m(\u001b[0m\u001b[0msig\u001b[0m\u001b[1;33m.\u001b[0m\u001b[0mparameters\u001b[0m\u001b[1;33m,\u001b[0m \u001b[0margs\u001b[0m\u001b[1;33m)\u001b[0m\u001b[1;33m:\u001b[0m\u001b[1;33m\u001b[0m\u001b[1;33m\u001b[0m\u001b[0m\n\u001b[0;32m    619\u001b[0m                 \u001b[0mkwargs\u001b[0m\u001b[1;33m[\u001b[0m\u001b[0mk\u001b[0m\u001b[1;33m]\u001b[0m \u001b[1;33m=\u001b[0m \u001b[0marg\u001b[0m\u001b[1;33m\u001b[0m\u001b[1;33m\u001b[0m\u001b[0m\n\u001b[1;32m--> 620\u001b[1;33m             \u001b[1;32mreturn\u001b[0m \u001b[0mfunc\u001b[0m\u001b[1;33m(\u001b[0m\u001b[1;33m**\u001b[0m\u001b[0mkwargs\u001b[0m\u001b[1;33m)\u001b[0m\u001b[1;33m\u001b[0m\u001b[1;33m\u001b[0m\u001b[0m\n\u001b[0m\u001b[0;32m    621\u001b[0m \u001b[1;33m\u001b[0m\u001b[0m\n\u001b[0;32m    622\u001b[0m         \u001b[1;32mreturn\u001b[0m \u001b[0minner_f\u001b[0m\u001b[1;33m\u001b[0m\u001b[1;33m\u001b[0m\u001b[0m\n",
      "\u001b[1;32m~\\anaconda3\\lib\\site-packages\\xgboost\\sklearn.py\u001b[0m in \u001b[0;36mfit\u001b[1;34m(self, X, y, sample_weight, base_margin, eval_set, eval_metric, early_stopping_rounds, verbose, xgb_model, sample_weight_eval_set, base_margin_eval_set, feature_weights, callbacks)\u001b[0m\n\u001b[0;32m   1023\u001b[0m                 \u001b[0mxgb_model\u001b[0m\u001b[1;33m,\u001b[0m \u001b[0meval_metric\u001b[0m\u001b[1;33m,\u001b[0m \u001b[0mparams\u001b[0m\u001b[1;33m,\u001b[0m \u001b[0mearly_stopping_rounds\u001b[0m\u001b[1;33m,\u001b[0m \u001b[0mcallbacks\u001b[0m\u001b[1;33m\u001b[0m\u001b[1;33m\u001b[0m\u001b[0m\n\u001b[0;32m   1024\u001b[0m             )\n\u001b[1;32m-> 1025\u001b[1;33m             self._Booster = train(\n\u001b[0m\u001b[0;32m   1026\u001b[0m                 \u001b[0mparams\u001b[0m\u001b[1;33m,\u001b[0m\u001b[1;33m\u001b[0m\u001b[1;33m\u001b[0m\u001b[0m\n\u001b[0;32m   1027\u001b[0m                 \u001b[0mtrain_dmatrix\u001b[0m\u001b[1;33m,\u001b[0m\u001b[1;33m\u001b[0m\u001b[1;33m\u001b[0m\u001b[0m\n",
      "\u001b[1;32m~\\anaconda3\\lib\\site-packages\\xgboost\\core.py\u001b[0m in \u001b[0;36minner_f\u001b[1;34m(*args, **kwargs)\u001b[0m\n\u001b[0;32m    618\u001b[0m             \u001b[1;32mfor\u001b[0m \u001b[0mk\u001b[0m\u001b[1;33m,\u001b[0m \u001b[0marg\u001b[0m \u001b[1;32min\u001b[0m \u001b[0mzip\u001b[0m\u001b[1;33m(\u001b[0m\u001b[0msig\u001b[0m\u001b[1;33m.\u001b[0m\u001b[0mparameters\u001b[0m\u001b[1;33m,\u001b[0m \u001b[0margs\u001b[0m\u001b[1;33m)\u001b[0m\u001b[1;33m:\u001b[0m\u001b[1;33m\u001b[0m\u001b[1;33m\u001b[0m\u001b[0m\n\u001b[0;32m    619\u001b[0m                 \u001b[0mkwargs\u001b[0m\u001b[1;33m[\u001b[0m\u001b[0mk\u001b[0m\u001b[1;33m]\u001b[0m \u001b[1;33m=\u001b[0m \u001b[0marg\u001b[0m\u001b[1;33m\u001b[0m\u001b[1;33m\u001b[0m\u001b[0m\n\u001b[1;32m--> 620\u001b[1;33m             \u001b[1;32mreturn\u001b[0m \u001b[0mfunc\u001b[0m\u001b[1;33m(\u001b[0m\u001b[1;33m**\u001b[0m\u001b[0mkwargs\u001b[0m\u001b[1;33m)\u001b[0m\u001b[1;33m\u001b[0m\u001b[1;33m\u001b[0m\u001b[0m\n\u001b[0m\u001b[0;32m    621\u001b[0m \u001b[1;33m\u001b[0m\u001b[0m\n\u001b[0;32m    622\u001b[0m         \u001b[1;32mreturn\u001b[0m \u001b[0minner_f\u001b[0m\u001b[1;33m\u001b[0m\u001b[1;33m\u001b[0m\u001b[0m\n",
      "\u001b[1;32m~\\anaconda3\\lib\\site-packages\\xgboost\\training.py\u001b[0m in \u001b[0;36mtrain\u001b[1;34m(params, dtrain, num_boost_round, evals, obj, feval, maximize, early_stopping_rounds, evals_result, verbose_eval, xgb_model, callbacks, custom_metric)\u001b[0m\n\u001b[0;32m    184\u001b[0m             \u001b[1;32mbreak\u001b[0m\u001b[1;33m\u001b[0m\u001b[1;33m\u001b[0m\u001b[0m\n\u001b[0;32m    185\u001b[0m         \u001b[0mbst\u001b[0m\u001b[1;33m.\u001b[0m\u001b[0mupdate\u001b[0m\u001b[1;33m(\u001b[0m\u001b[0mdtrain\u001b[0m\u001b[1;33m,\u001b[0m \u001b[0mi\u001b[0m\u001b[1;33m,\u001b[0m \u001b[0mobj\u001b[0m\u001b[1;33m)\u001b[0m\u001b[1;33m\u001b[0m\u001b[1;33m\u001b[0m\u001b[0m\n\u001b[1;32m--> 186\u001b[1;33m         \u001b[1;32mif\u001b[0m \u001b[0mcb_container\u001b[0m\u001b[1;33m.\u001b[0m\u001b[0mafter_iteration\u001b[0m\u001b[1;33m(\u001b[0m\u001b[0mbst\u001b[0m\u001b[1;33m,\u001b[0m \u001b[0mi\u001b[0m\u001b[1;33m,\u001b[0m \u001b[0mdtrain\u001b[0m\u001b[1;33m,\u001b[0m \u001b[0mevals\u001b[0m\u001b[1;33m)\u001b[0m\u001b[1;33m:\u001b[0m\u001b[1;33m\u001b[0m\u001b[1;33m\u001b[0m\u001b[0m\n\u001b[0m\u001b[0;32m    187\u001b[0m             \u001b[1;32mbreak\u001b[0m\u001b[1;33m\u001b[0m\u001b[1;33m\u001b[0m\u001b[0m\n\u001b[0;32m    188\u001b[0m \u001b[1;33m\u001b[0m\u001b[0m\n",
      "\u001b[1;32m~\\anaconda3\\lib\\site-packages\\xgboost\\callback.py\u001b[0m in \u001b[0;36mafter_iteration\u001b[1;34m(self, model, epoch, dtrain, evals)\u001b[0m\n\u001b[0;32m    243\u001b[0m             \u001b[0mmetric_score_str\u001b[0m \u001b[1;33m=\u001b[0m \u001b[1;33m[\u001b[0m\u001b[0mtuple\u001b[0m\u001b[1;33m(\u001b[0m\u001b[0ms\u001b[0m\u001b[1;33m.\u001b[0m\u001b[0msplit\u001b[0m\u001b[1;33m(\u001b[0m\u001b[1;34m':'\u001b[0m\u001b[1;33m)\u001b[0m\u001b[1;33m)\u001b[0m \u001b[1;32mfor\u001b[0m \u001b[0ms\u001b[0m \u001b[1;32min\u001b[0m \u001b[0msplited\u001b[0m\u001b[1;33m]\u001b[0m\u001b[1;33m\u001b[0m\u001b[1;33m\u001b[0m\u001b[0m\n\u001b[0;32m    244\u001b[0m             \u001b[1;31m# convert to float\u001b[0m\u001b[1;33m\u001b[0m\u001b[1;33m\u001b[0m\u001b[0m\n\u001b[1;32m--> 245\u001b[1;33m             \u001b[0mmetric_score\u001b[0m \u001b[1;33m=\u001b[0m \u001b[1;33m[\u001b[0m\u001b[1;33m(\u001b[0m\u001b[0mn\u001b[0m\u001b[1;33m,\u001b[0m \u001b[0mfloat\u001b[0m\u001b[1;33m(\u001b[0m\u001b[0ms\u001b[0m\u001b[1;33m)\u001b[0m\u001b[1;33m)\u001b[0m \u001b[1;32mfor\u001b[0m \u001b[0mn\u001b[0m\u001b[1;33m,\u001b[0m \u001b[0ms\u001b[0m \u001b[1;32min\u001b[0m \u001b[0mmetric_score_str\u001b[0m\u001b[1;33m]\u001b[0m\u001b[1;33m\u001b[0m\u001b[1;33m\u001b[0m\u001b[0m\n\u001b[0m\u001b[0;32m    246\u001b[0m             \u001b[0mself\u001b[0m\u001b[1;33m.\u001b[0m\u001b[0m_update_history\u001b[0m\u001b[1;33m(\u001b[0m\u001b[0mmetric_score\u001b[0m\u001b[1;33m,\u001b[0m \u001b[0mepoch\u001b[0m\u001b[1;33m)\u001b[0m\u001b[1;33m\u001b[0m\u001b[1;33m\u001b[0m\u001b[0m\n\u001b[0;32m    247\u001b[0m         ret = any(c.after_iteration(model, epoch, self.history)\n",
      "\u001b[1;32m~\\anaconda3\\lib\\site-packages\\xgboost\\callback.py\u001b[0m in \u001b[0;36m<listcomp>\u001b[1;34m(.0)\u001b[0m\n\u001b[0;32m    243\u001b[0m             \u001b[0mmetric_score_str\u001b[0m \u001b[1;33m=\u001b[0m \u001b[1;33m[\u001b[0m\u001b[0mtuple\u001b[0m\u001b[1;33m(\u001b[0m\u001b[0ms\u001b[0m\u001b[1;33m.\u001b[0m\u001b[0msplit\u001b[0m\u001b[1;33m(\u001b[0m\u001b[1;34m':'\u001b[0m\u001b[1;33m)\u001b[0m\u001b[1;33m)\u001b[0m \u001b[1;32mfor\u001b[0m \u001b[0ms\u001b[0m \u001b[1;32min\u001b[0m \u001b[0msplited\u001b[0m\u001b[1;33m]\u001b[0m\u001b[1;33m\u001b[0m\u001b[1;33m\u001b[0m\u001b[0m\n\u001b[0;32m    244\u001b[0m             \u001b[1;31m# convert to float\u001b[0m\u001b[1;33m\u001b[0m\u001b[1;33m\u001b[0m\u001b[0m\n\u001b[1;32m--> 245\u001b[1;33m             \u001b[0mmetric_score\u001b[0m \u001b[1;33m=\u001b[0m \u001b[1;33m[\u001b[0m\u001b[1;33m(\u001b[0m\u001b[0mn\u001b[0m\u001b[1;33m,\u001b[0m \u001b[0mfloat\u001b[0m\u001b[1;33m(\u001b[0m\u001b[0ms\u001b[0m\u001b[1;33m)\u001b[0m\u001b[1;33m)\u001b[0m \u001b[1;32mfor\u001b[0m \u001b[0mn\u001b[0m\u001b[1;33m,\u001b[0m \u001b[0ms\u001b[0m \u001b[1;32min\u001b[0m \u001b[0mmetric_score_str\u001b[0m\u001b[1;33m]\u001b[0m\u001b[1;33m\u001b[0m\u001b[1;33m\u001b[0m\u001b[0m\n\u001b[0m\u001b[0;32m    246\u001b[0m             \u001b[0mself\u001b[0m\u001b[1;33m.\u001b[0m\u001b[0m_update_history\u001b[0m\u001b[1;33m(\u001b[0m\u001b[0mmetric_score\u001b[0m\u001b[1;33m,\u001b[0m \u001b[0mepoch\u001b[0m\u001b[1;33m)\u001b[0m\u001b[1;33m\u001b[0m\u001b[1;33m\u001b[0m\u001b[0m\n\u001b[0;32m    247\u001b[0m         ret = any(c.after_iteration(model, epoch, self.history)\n",
      "\u001b[1;31mValueError\u001b[0m: could not convert string to float: '-nan(ind)'"
     ]
    }
   ],
   "source": [
    "find_param = optuna.create_study(direction='minimize')\n",
    "find_param.optimize(objective)\n",
    "find_param.best_trial.params"
   ]
  },
  {
   "cell_type": "code",
   "execution_count": null,
   "metadata": {},
   "outputs": [],
   "source": []
  },
  {
   "cell_type": "code",
   "execution_count": null,
   "metadata": {},
   "outputs": [],
   "source": []
  }
 ],
 "metadata": {
  "kernelspec": {
   "display_name": "Python 3 (ipykernel)",
   "language": "python",
   "name": "python3"
  },
  "language_info": {
   "codemirror_mode": {
    "name": "ipython",
    "version": 3
   },
   "file_extension": ".py",
   "mimetype": "text/x-python",
   "name": "python",
   "nbconvert_exporter": "python",
   "pygments_lexer": "ipython3",
   "version": "3.9.13"
  }
 },
 "nbformat": 4,
 "nbformat_minor": 2
}
