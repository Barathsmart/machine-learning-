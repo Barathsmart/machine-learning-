{
 "cells": [
  {
   "cell_type": "code",
   "execution_count": 26,
   "id": "addfa2f1",
   "metadata": {},
   "outputs": [
    {
     "name": "stdout",
     "output_type": "stream",
     "text": [
      "   node_from  node_to  distance\n",
      "0          1        2       220\n",
      "1          1        3      1500\n",
      "2          2        4       650\n",
      "3          2        5       900\n",
      "4          4        7       500\n",
      "5          5        7       400\n",
      "6          3        6       500\n",
      "7          6        7       400\n"
     ]
    }
   ],
   "source": [
    "import pandas as pd, numpy as np\n",
    "from geneticalgorithm import geneticalgorithm as ga\n",
    " \n",
    "#inputs\n",
    "nodes = pd.read_excel('route_inputs.xlsx', sheet_name='nodes')\n",
    "paths = pd.read_excel('route_inputs.xlsx', sheet_name='paths')\n",
    "nVars = len(paths)\n",
    "print(paths)\n",
    "#print(nodes)"
   ]
  },
  {
   "cell_type": "code",
   "execution_count": 23,
   "id": "ca7cfb10",
   "metadata": {},
   "outputs": [],
   "source": [
    "node_origin = int(nodes.node[nodes.description=='origin'])"
   ]
  },
  {
   "cell_type": "code",
   "execution_count": 24,
   "id": "55ff9ea5",
   "metadata": {},
   "outputs": [
    {
     "data": {
      "text/plain": [
       "Int64Index([0, 1], dtype='int64')"
      ]
     },
     "execution_count": 24,
     "metadata": {},
     "output_type": "execute_result"
    }
   ],
   "source": [
    "paths.index[paths.node_from==node_origin]"
   ]
  },
  {
   "cell_type": "code",
   "execution_count": 38,
   "id": "c170b411",
   "metadata": {},
   "outputs": [],
   "source": [
    "\n",
    "#fitness function\n",
    "def f(x):\n",
    "    pen = 0\n",
    "    \n",
    "    #constraint sum(x) == 1 (origin)\n",
    "    node_origin = int(nodes.node[nodes.description=='origin'])\n",
    "    if sum([x[p] for p in paths.index[paths.node_from==node_origin]]) != 1:\n",
    "        pen += 1000000 * np.abs(sum([x[p] for p in paths.index[paths.node_from==node_origin]]) - 1)\n",
    "    #print(x)\n",
    "    #constraint sum(x) == 1 (destination)\n",
    "    node_destination = int(nodes.node[nodes.description=='destination'])\n",
    "    if sum([x[p] for p in paths.index[paths.node_to==node_destination]]) != 1:\n",
    "        pen += 1000000 * np.abs(sum([x[p] for p in paths.index[paths.node_to==node_destination]]) - 1)\n",
    "    #print(x)\n",
    "    #constraint sum(x, in) == sum(x, out)\n",
    "    for node in nodes.node[nodes.description=='middle point']:\n",
    "        sum_in = sum([x[p] for p in paths.index[paths.node_to==node]])\n",
    "        sum_out = sum([x[p] for p in paths.index[paths.node_from==node]])\n",
    "        if sum_in != sum_out:\n",
    "            pen += 1000000 * np.abs(sum_in - sum_out)\n",
    "    #print(x)\n",
    "    #objective function and return\n",
    "    objFun = sum([x[p] * paths.distance[p] for p in paths.index])\n",
    "    return objFun + pen\n",
    "\n"
   ]
  },
  {
   "cell_type": "code",
   "execution_count": 39,
   "id": "e1d09bee",
   "metadata": {},
   "outputs": [
    {
     "name": "stdout",
     "output_type": "stream",
     "text": [
      " The best solution found:                                                                           \n",
      " [1. 0. 1. 0. 1. 0. 0. 0.]\n",
      "\n",
      " Objective function:\n",
      " 1370.0\n"
     ]
    },
    {
     "data": {
      "image/png": "[encoded data removed]",
      "text/plain": [
       "<Figure size 432x288 with 1 Axes>"
      ]
     },
     "metadata": {
      "needs_background": "light"
     },
     "output_type": "display_data"
    },
    {
     "name": "stdout",
     "output_type": "stream",
     "text": [
      "\n",
      "\n",
      "All Paths:\n",
      "   node_from  node_to  distance  activated\n",
      "0          1        2       220          1\n",
      "1          1        3      1500          0\n",
      "2          2        4       650          1\n",
      "3          2        5       900          0\n",
      "4          4        7       500          1\n",
      "5          5        7       400          0\n",
      "6          3        6       500          0\n",
      "7          6        7       400          0\n",
      "\n",
      "Selected Paths:\n",
      "   node_from  node_to  distance  activated\n",
      "0          1        2       220          1\n",
      "2          2        4       650          1\n",
      "4          4        7       500          1\n",
      "\n",
      "Total path: 1370.0\n"
     ]
    }
   ],
   "source": [
    "#bounds and var type\n",
    "varbounds = np.array([[0,1]]*nVars)\n",
    "vartype = np.array(['int']*nVars)\n",
    "\n",
    "#GA parameters\n",
    "algorithm_param = {'max_num_iteration': 100,\\\n",
    "                   'population_size':20,\\\n",
    "                   'mutation_probability':0.30,\\\n",
    "                   'elit_ratio': 0.10,\\\n",
    "                   'crossover_probability': 0.50,\\\n",
    "                   'parents_portion': 0.30,\\\n",
    "                   'crossover_type':'uniform',\\\n",
    "                   'max_iteration_without_improv':100}\n",
    "\n",
    "#Solve\n",
    "model = ga(function=f,\n",
    "           dimension=nVars,\n",
    "           variable_type_mixed=vartype,\n",
    "           variable_boundaries=varbounds,\n",
    "           algorithm_parameters=algorithm_param)\n",
    "model.run()\n",
    "\n",
    "#print\n",
    "x = model.best_variable\n",
    "objFun = model.best_function\n",
    "paths['activated'] = 0\n",
    "for p in paths.index:\n",
    "    paths.activated[p] = x[p]\n",
    "\n",
    "print('\\n\\nAll Paths:')\n",
    "print(paths)\n",
    "\n",
    "print('\\nSelected Paths:')\n",
    "print(paths[paths.activated==1])\n",
    "\n",
    "print('\\nTotal path:', objFun)"
   ]
  },
  {
   "cell_type": "code",
   "execution_count": null,
   "id": "ea875ad0",
   "metadata": {},
   "outputs": [],
   "source": []
  }
 ],
 "metadata": {
  "kernelspec": {
   "display_name": "Python 3 (ipykernel)",
   "language": "python",
   "name": "python3"
  },
  "language_info": {
   "codemirror_mode": {
    "name": "ipython",
    "version": 3
   },
   "file_extension": ".py",
   "mimetype": "text/x-python",
   "name": "python",
   "nbconvert_exporter": "python",
   "pygments_lexer": "ipython3",
   "version": "3.9.13"
  }
 },
 "nbformat": 4,
 "nbformat_minor": 5
}
