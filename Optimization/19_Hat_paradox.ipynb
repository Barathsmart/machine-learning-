{
 "cells": [
  {
   "cell_type": "code",
   "execution_count": 1,
   "metadata": {
    "id": "Z2SE5zJnUb6h"
   },
   "outputs": [],
   "source": [
    "import numpy as np\n",
    "#from numpy.random import shuffle\n",
    "import matplotlib.pyplot as plt\n",
    "import statistics as st"
   ]
  },
  {
   "cell_type": "markdown",
   "metadata": {
    "id": "O0FD3gi9nnhQ"
   },
   "source": [
    "# Hat Paradox"
   ]
  },
  {
   "cell_type": "code",
   "execution_count": 2,
   "metadata": {
    "id": "63YzUwweUjb5"
   },
   "outputs": [],
   "source": [
    "def hat_paradox(n):\n",
    "  b = 0\n",
    "  data = np.array(range(n))\n",
    "  n_data = np.array(range(n))\n",
    "  np.random.shuffle(n_data)\n",
    "  return len(data) - np.count_nonzero(n_data - data)"
   ]
  },
  {
   "cell_type": "code",
   "execution_count": 3,
   "metadata": {
    "colab": {
     "base_uri": "https://localhost:8080/"
    },
    "id": "Bbtq001Ecq5r",
    "outputId": "dc727ba1-5c92-4dba-d103-bb73f9e2edfe"
   },
   "outputs": [
    {
     "data": {
      "text/plain": [
       "1"
      ]
     },
     "execution_count": 3,
     "metadata": {},
     "output_type": "execute_result"
    }
   ],
   "source": [
    "hat_paradox(30)"
   ]
  },
  {
   "cell_type": "code",
   "execution_count": 4,
   "metadata": {
    "colab": {
     "base_uri": "https://localhost:8080/"
    },
    "id": "pEf1eLZDcuB_",
    "outputId": "a8201c2b-5986-4adc-c948-ffd8aab5b116"
   },
   "outputs": [
    {
     "name": "stdout",
     "output_type": "stream",
     "text": [
      "1.04\n"
     ]
    }
   ],
   "source": [
    "sample = 100\n",
    "n = 30\n",
    "k = []\n",
    "for i in range(sample):\n",
    "  t = hat_paradox(n)\n",
    "  k.append(t)\n",
    "\n",
    "#print(k)\n",
    "print(st.mean(k))"
   ]
  },
  {
   "cell_type": "code",
   "execution_count": 5,
   "metadata": {
    "id": "VMhETkoIdZB6"
   },
   "outputs": [],
   "source": [
    "# combined code\n",
    "def hat_paradox_2(n, iter):\n",
    "  k = []\n",
    "  data = np.array(range(n))\n",
    "  for i in range(iter):\n",
    "     n_data = np.array(range(n))\n",
    "     np.random.shuffle(n_data)\n",
    "     t = len(data) - np.count_nonzero(n_data - data)\n",
    "     k.append(t) \n",
    "  return st.mean(k)"
   ]
  },
  {
   "cell_type": "code",
   "execution_count": 6,
   "metadata": {
    "colab": {
     "base_uri": "https://localhost:8080/"
    },
    "id": "RRankmh6gvf8",
    "outputId": "33b3cfbd-7d8c-4ae4-aa55-f8abe5c1b248"
   },
   "outputs": [
    {
     "data": {
      "text/plain": [
       "1.002"
      ]
     },
     "execution_count": 6,
     "metadata": {},
     "output_type": "execute_result"
    }
   ],
   "source": [
    "hat_paradox_2(30, 1000)"
   ]
  },
  {
   "cell_type": "code",
   "execution_count": 7,
   "metadata": {
    "colab": {
     "base_uri": "https://localhost:8080/"
    },
    "id": "_h16mVqjg8ib",
    "outputId": "28f4efc0-a6bc-4c79-c202-cc45885199a7"
   },
   "outputs": [
    {
     "name": "stdout",
     "output_type": "stream",
     "text": [
      "[0, 0.984, 0.951, 0.997, 0.982, 1.003, 1.03, 0.973, 1.006, 1.023, 0.954]\n"
     ]
    }
   ],
   "source": [
    "# changing number of people\n",
    "t =[]\n",
    "for i in range(0,101,10):\n",
    "  t.append(hat_paradox_2(i,1000))\n",
    "print(t)"
   ]
  },
  {
   "cell_type": "code",
   "execution_count": 8,
   "metadata": {
    "colab": {
     "base_uri": "https://localhost:8080/"
    },
    "id": "oZNyXdxThgK_",
    "outputId": "4afb2c45-e786-42f9-ef21-fbe5492bb6ca"
   },
   "outputs": [
    {
     "name": "stdout",
     "output_type": "stream",
     "text": [
      "[3, 1.031968031968032, 0.9865067466266867, 1.0059980006664446, 1.0117470632341914, 0.9986002799440112, 1.0279953341109815, 1.0091415512069704, 0.9980002499687539, 0.9995556049327853, 1.0074992500749924]\n"
     ]
    }
   ],
   "source": [
    "# changing iterations\n",
    "t =[]\n",
    "for i in range(1,10002,1000):\n",
    "  t.append(hat_paradox_2(30,i))\n",
    "print(t)"
   ]
  },
  {
   "cell_type": "code",
   "execution_count": 12,
   "metadata": {
    "colab": {
     "base_uri": "https://localhost:8080/",
     "height": 330
    },
    "id": "oC9_tAcqh-Xb",
    "outputId": "f1b66336-af58-41e8-8881-63d9b2dca8f7"
   },
   "outputs": [
    {
     "name": "stdout",
     "output_type": "stream",
     "text": [
      "[0, 1.0136, 1.0133, 1.0046, 1.0096, 0.997, 0.9895, 1.0044, 1.0108, 0.9949, 1.0053, 0.9995, 1.0003, 1.0103, 1.002, 1.0051, 1.0053, 1.0007, 1.0014, 0.9955, 0.9972] \n",
      "\n"
     ]
    },
    {
     "data": {
      "image/png": "[encoded data removed]",
      "text/plain": [
       "<Figure size 432x288 with 1 Axes>"
      ]
     },
     "metadata": {
      "needs_background": "light"
     },
     "output_type": "display_data"
    }
   ],
   "source": [
    "u = np.array(range(0,101,5))\n",
    "t =[]\n",
    "for i in u:\n",
    "    t.append(hat_paradox_2(i,10000))\n",
    "print(t, '\\n')\n",
    "plt.plot(u, t)\n",
    "plt.title('Variation in number of people with 10,000 iterations')\n",
    "plt.xlabel('Number of people')\n",
    "plt.ylabel('Average no. of people')\n",
    "plt.grid(True)\n",
    "plt.show()"
   ]
  },
  {
   "cell_type": "code",
   "execution_count": 10,
   "metadata": {
    "id": "UqnSnTwIkFGF"
   },
   "outputs": [],
   "source": []
  }
 ],
 "metadata": {
  "colab": {
   "collapsed_sections": [],
   "provenance": []
  },
  "kernelspec": {
   "display_name": "Python 3 (ipykernel)",
   "language": "python",
   "name": "python3"
  },
  "language_info": {
   "codemirror_mode": {
    "name": "ipython",
    "version": 3
   },
   "file_extension": ".py",
   "mimetype": "text/x-python",
   "name": "python",
   "nbconvert_exporter": "python",
   "pygments_lexer": "ipython3",
   "version": "3.9.12"
  }
 },
 "nbformat": 4,
 "nbformat_minor": 1
}
