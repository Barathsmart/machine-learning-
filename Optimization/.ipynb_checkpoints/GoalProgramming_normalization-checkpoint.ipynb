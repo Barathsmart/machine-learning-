{
 "cells": [
  {
   "cell_type": "code",
   "execution_count": null,
   "metadata": {
    "colab": {
     "base_uri": "https://localhost:8080/"
    },
    "id": "-AtZwhHYq_qP",
    "outputId": "8ce922dd-afbf-4b47-a708-a564ca6b8c05"
   },
   "outputs": [
    {
     "name": "stdout",
     "output_type": "stream",
     "text": [
      "Looking in indexes: https://pypi.org/simple, https://us-python.pkg.dev/colab-wheels/public/simple/\n",
      "Collecting pulp==1.6.10\n",
      "  Downloading PuLP-1.6.10.zip (13.6 MB)\n",
      "\u001b[K     |████████████████████████████████| 13.6 MB 4.9 MB/s \n",
      "\u001b[?25hRequirement already satisfied: pyparsing>=2.0.1 in /usr/local/lib/python3.7/dist-packages (from pulp==1.6.10) (3.0.9)\n",
      "Building wheels for collected packages: pulp\n",
      "  Building wheel for pulp (setup.py) ... \u001b[?25l\u001b[?25hdone\n",
      "  Created wheel for pulp: filename=PuLP-1.6.10-py3-none-any.whl size=12269877 sha256=66bc72ba0d1a38480831e5f6871b00cc60e4e1ad63d65ddfddc9549d0a2d6039\n",
      "  Stored in directory: /root/.cache/pip/wheels/27/85/c2/a49bec32316b24ee30fad73fe500547862029b107fefee46e0\n",
      "Successfully built pulp\n",
      "Installing collected packages: pulp\n",
      "Successfully installed pulp-1.6.10\n"
     ]
    }
   ],
   "source": [
    "pip install pulp==1.6.10"
   ]
  },
  {
   "cell_type": "code",
   "execution_count": null,
   "metadata": {
    "id": "-kART_bCrA_U"
   },
   "outputs": [],
   "source": [
    "import pulp\n",
    "from pulp import LpProblem"
   ]
  },
  {
   "cell_type": "code",
   "execution_count": null,
   "metadata": {
    "id": "d100_HEbrDFO"
   },
   "outputs": [],
   "source": [
    "up= pulp.LpProblem('Unit Production', pulp.LpMinimize)"
   ]
  },
  {
   "cell_type": "code",
   "execution_count": null,
   "metadata": {
    "id": "IVUBz1h7rNfl"
   },
   "outputs": [],
   "source": [
    "x1 = pulp.LpVariable('X1', lowBound=0 )\n",
    "x2 = pulp.LpVariable('X2', lowBound=0 )\n",
    "x3 = pulp.LpVariable('X3', lowBound=0 )\n",
    "d1_p = pulp.LpVariable('d1p', lowBound=0 )\n",
    "d1_n = pulp.LpVariable('d1n', lowBound=0 )\n",
    "d2_p = pulp.LpVariable('d2p', lowBound=0 )\n",
    "d2_n = pulp.LpVariable('d2n', lowBound=0 )\n",
    "d3_p = pulp.LpVariable('d3p', lowBound=0 )\n",
    "d3_n = pulp.LpVariable('d3n', lowBound=0 )"
   ]
  },
  {
   "cell_type": "code",
   "execution_count": null,
   "metadata": {
    "colab": {
     "base_uri": "https://localhost:8080/"
    },
    "id": "6g3wUtnZrgX8",
    "outputId": "daee429c-804f-46e0-ee64-afec8d361f01"
   },
   "outputs": [
    {
     "data": {
      "text/plain": [
       "Unit Production:\n",
       "MINIMIZE\n",
       "None\n",
       "VARIABLES"
      ]
     },
     "execution_count": 53,
     "metadata": {},
     "output_type": "execute_result"
    }
   ],
   "source": [
    "up"
   ]
  },
  {
   "cell_type": "code",
   "execution_count": null,
   "metadata": {
    "id": "Y2_4CRlnrjHT"
   },
   "outputs": [],
   "source": [
    "up += (5/100)*d1_p+ (8/10)*d2_n + (12/10)*d2_p + (15/30)*d3_n"
   ]
  },
  {
   "cell_type": "code",
   "execution_count": null,
   "metadata": {
    "id": "hQ6eVhC3s3nF"
   },
   "outputs": [],
   "source": [
    "up += 40*x1 + 30*x2 + 20*x3 - d1_p + d1_n == 100, 'C1'\n",
    "up += 2*x1 + 4*x2 + 3*x3 - d2_p + d1_n == 10, 'C2'\n",
    "up += 5*x1 + 8*x2 + 4*x3 - d3_p + d3_n == 30, 'C3'"
   ]
  },
  {
   "cell_type": "code",
   "execution_count": null,
   "metadata": {
    "colab": {
     "base_uri": "https://localhost:8080/"
    },
    "id": "Fdxh1ox2r8Qc",
    "outputId": "6a1c2366-d310-432d-d0bd-5163fb02308b"
   },
   "outputs": [
    {
     "data": {
      "text/plain": [
       "Unit Production:\n",
       "MINIMIZE\n",
       "0.05*d1p + 0.8*d2n + 1.2*d2p + 0.5*d3n + 0.0\n",
       "SUBJECT TO\n",
       "C1: 40 X1 + 30 X2 + 20 X3 + d1n - d1p = 100\n",
       "\n",
       "C2: 2 X1 + 4 X2 + 3 X3 + d1n - d2p = 10\n",
       "\n",
       "C3: 5 X1 + 8 X2 + 4 X3 + d3n - d3p = 30\n",
       "\n",
       "VARIABLES\n",
       "X1 Continuous\n",
       "X2 Continuous\n",
       "X3 Continuous\n",
       "d1n Continuous\n",
       "d1p Continuous\n",
       "d2n Continuous\n",
       "d2p Continuous\n",
       "d3n Continuous\n",
       "d3p Continuous"
      ]
     },
     "execution_count": 56,
     "metadata": {},
     "output_type": "execute_result"
    }
   ],
   "source": [
    "up"
   ]
  },
  {
   "cell_type": "code",
   "execution_count": null,
   "metadata": {
    "colab": {
     "base_uri": "https://localhost:8080/"
    },
    "id": "a4Ov8Ohxum58",
    "outputId": "b591781f-0b1c-41ba-ee4c-8e679e718a67"
   },
   "outputs": [
    {
     "data": {
      "text/plain": [
       "1"
      ]
     },
     "execution_count": 57,
     "metadata": {},
     "output_type": "execute_result"
    }
   ],
   "source": [
    "up.solve()"
   ]
  },
  {
   "cell_type": "code",
   "execution_count": null,
   "metadata": {
    "colab": {
     "base_uri": "https://localhost:8080/",
     "height": 35
    },
    "id": "0G5G_t3SuraI",
    "outputId": "e6d07b93-113a-4408-9e34-3c34863880ff"
   },
   "outputs": [
    {
     "data": {
      "application/vnd.google.colaboratory.intrinsic+json": {
       "type": "string"
      },
      "text/plain": [
       "'Optimal'"
      ]
     },
     "execution_count": 58,
     "metadata": {},
     "output_type": "execute_result"
    }
   ],
   "source": [
    "pulp.LpStatus[up.status]"
   ]
  },
  {
   "cell_type": "code",
   "execution_count": null,
   "metadata": {
    "colab": {
     "base_uri": "https://localhost:8080/"
    },
    "id": "obp-tn5CuvY0",
    "outputId": "79a3c014-1fba-4138-ac22-c2aa5e9847ae"
   },
   "outputs": [
    {
     "name": "stdout",
     "output_type": "stream",
     "text": [
      "The optimized solution : 4.5\n",
      "X1 1.0\n",
      "X2 2.0\n",
      "X3 0.0\n",
      "d1n 0.0\n",
      "d1p 0.0\n",
      "d2n 0.0\n",
      "d2p 0.0\n",
      "d3n 9.0\n",
      "d3p 0.0\n"
     ]
    }
   ],
   "source": [
    "print('The optimized solution :', pulp.value(up.objective))\n",
    "for variable in up.variables():\n",
    "  print(variable.name, variable.varValue)"
   ]
  },
  {
   "cell_type": "code",
   "execution_count": null,
   "metadata": {
    "id": "vMbvPMchu0Jl"
   },
   "outputs": [],
   "source": []
  }
 ],
 "metadata": {
  "colab": {
   "collapsed_sections": [],
   "provenance": []
  },
  "kernelspec": {
   "display_name": "Python 3",
   "language": "python",
   "name": "python3"
  },
  "language_info": {
   "codemirror_mode": {
    "name": "ipython",
    "version": 3
   },
   "file_extension": ".py",
   "mimetype": "text/x-python",
   "name": "python",
   "nbconvert_exporter": "python",
   "pygments_lexer": "ipython3",
   "version": "3.8.5"
  }
 },
 "nbformat": 4,
 "nbformat_minor": 1
}
