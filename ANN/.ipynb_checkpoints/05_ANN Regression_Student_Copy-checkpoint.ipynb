{
 "cells": [
  {
   "cell_type": "markdown",
   "metadata": {
    "id": "zFWXBdYDdBIH"
   },
   "source": [
    "### What did we learn?\n",
    "\n",
    "1. What are the steps to be followed in creating a neural networl Tensorflow 2. What are different activation functions?\n",
    "3. What is meant by Dense network layer?\n",
    "4. How are the weights updated in Gradient descent algorithm?\n",
    "\n",
    "Please open the web page\n",
    "\n",
    "[www.playground.tenserflow.org](https://)\n"
   ]
  },
  {
   "cell_type": "markdown",
   "metadata": {
    "id": "Jktwd2hdm5YG"
   },
   "source": [
    "### Today\n",
    "#### Artificial Neural Network for Regression \n",
    "In this lab \n",
    "1. we will design a neural network for linear regression problem. Towrds this we consider California housing dataset.\n",
    "\n",
    "2. We will design NN with functional APIs.\n",
    "\n",
    "3. We will learn how to sav the model (NN) and use it later.\n",
    "\n",
    "Before starting the session let us understand\n",
    "\n",
    "1. how is it different interms of activation functions at the hidden layers and output layer?\n",
    "2. What metric we have to consider?\n",
    "\n"
   ]
  },
  {
   "cell_type": "markdown",
   "metadata": {
    "id": "pga35GYtc-8_"
   },
   "source": [
    ""
   ]
  },
  {
   "cell_type": "markdown",
   "metadata": {
    "id": "4SKTH8Zec_zj"
   },
   "source": [
    ""
   ]
  },
  {
   "cell_type": "code",
   "execution_count": null,
   "metadata": {
    "colab": {
     "base_uri": "https://localhost:8080/"
    },
    "executionInfo": {
     "elapsed": 3450,
     "status": "ok",
     "timestamp": 1656480758119,
     "user": {
      "displayName": "Haritha Kallamadi",
      "userId": "08707752319667160902"
     },
     "user_tz": -330
    },
    "id": "RRv_10PWb4gb",
    "outputId": "7077a7d5-e4b2-4374-bd0a-0da8847a5f8d"
   },
   "outputs": [
    {
     "name": "stdout",
     "output_type": "stream",
     "text": [
      "Drive already mounted at /content/drive; to attempt to forcibly remount, call drive.mount(\"/content/drive\", force_remount=True).\n"
     ]
    }
   ],
   "source": [
    "from google.colab import drive\n",
    "drive.mount('/content/drive')"
   ]
  },
  {
   "cell_type": "code",
   "execution_count": null,
   "metadata": {
    "id": "WqeSp_rQm5YP"
   },
   "outputs": [],
   "source": [
    "# Import the necessary libraries tensorflow and keras\n",
    "import numpy as np\n",
    "import pandas as pd\n",
    "%matplotlib inline\n",
    "import matplotlib as mpl\n",
    "import matplotlib.pyplot as plt\n"
   ]
  },
  {
   "cell_type": "code",
   "execution_count": null,
   "metadata": {
    "colab": {
     "base_uri": "https://localhost:8080/"
    },
    "executionInfo": {
     "elapsed": 19,
     "status": "ok",
     "timestamp": 1656480761959,
     "user": {
      "displayName": "Haritha Kallamadi",
      "userId": "08707752319667160902"
     },
     "user_tz": -330
    },
    "id": "qqUUYRvlm5YS",
    "outputId": "03e7b3f7-cd61-417e-c20c-a27f297614e0"
   },
   "outputs": [
    {
     "name": "stdout",
     "output_type": "stream",
     "text": [
      "<class 'sklearn.utils.Bunch'>\n"
     ]
    }
   ],
   "source": [
    "# Fetch the dataset fetch_california_housing from sklearn.datasets and store in housing\n",
    "from sklearn.datasets import fetch_california_housing\n",
    "housing = fetch_california_housing()\n",
    "print(type(housing))"
   ]
  },
  {
   "cell_type": "markdown",
   "metadata": {
    "id": "jR-2EpE6m5YU"
   },
   "source": [
    "### Data Set Characteristics:\n",
    "\n",
    "##### Number of Instances:\n",
    " \t\n",
    "20640\n",
    "\n",
    "##### Number of Attributes:\n",
    " \t\n",
    "8 numeric, predictive attributes and the target\n",
    "\n",
    "##### Attribute Information:\n",
    " \t\n",
    "* MedInc median income in block\n",
    "* HouseAge median house age in block\n",
    "* AveRooms average number of rooms\n",
    "* AveBedrms average number of bedrooms\n",
    "* Population block population\n",
    "* AveOccup average house occupancy\n",
    "* Latitude house block latitude\n",
    "* Longitude house block longitude\n",
    "\n",
    "#### Target\n",
    "\n",
    "The target variable is the median house value in units of 100,000 for California districts.\n",
    "\n",
    "#### Documentation \n",
    "https://scikit-learn.org/stable/modules/generated/sklearn.datasets.fetch_california_housing.html#examples-using-sklearn-datasets-fetch-california-housing"
   ]
  },
  {
   "cell_type": "code",
   "execution_count": null,
   "metadata": {
    "colab": {
     "base_uri": "https://localhost:8080/"
    },
    "executionInfo": {
     "elapsed": 14,
     "status": "ok",
     "timestamp": 1656480761959,
     "user": {
      "displayName": "Haritha Kallamadi",
      "userId": "08707752319667160902"
     },
     "user_tz": -330
    },
    "id": "-Q1u13fxm5YW",
    "outputId": "3e1510a3-84ef-478f-c47e-e9f5aae9d4c9"
   },
   "outputs": [
    {
     "name": "stdout",
     "output_type": "stream",
     "text": [
      "['MedInc', 'HouseAge', 'AveRooms', 'AveBedrms', 'Population', 'AveOccup', 'Latitude', 'Longitude']\n"
     ]
    }
   ],
   "source": [
    "# Print the features of the dataset\n",
    "print(housing.feature_names)"
   ]
  },
  {
   "cell_type": "code",
   "execution_count": null,
   "metadata": {
    "id": "vdCk_kgWm5YX"
   },
   "outputs": [],
   "source": [
    "# Split the data into train, test, validity sets\n",
    "from sklearn.model_selection import train_test_split\n",
    "X_train_full, X_test, y_train_full, y_test = \n",
    "X_train, X_valid, y_train, y_valid = "
   ]
  },
  {
   "cell_type": "code",
   "execution_count": null,
   "metadata": {
    "id": "rBVx6Gwlm5YY"
   },
   "outputs": [],
   "source": [
    "# standardize the data using StandardScaler\n",
    "\n",
    "scaler = \n",
    "X_train = \n",
    "X_valid = \n",
    "X_test = "
   ]
  },
  {
   "cell_type": "code",
   "execution_count": null,
   "metadata": {
    "id": "KPqZJ7Khm5YZ"
   },
   "outputs": [],
   "source": [
    "np.random.seed(42)\n",
    "#tf.random.set_random_seed(42)\n",
    "tf.random.set_seed(42)"
   ]
  },
  {
   "cell_type": "code",
   "execution_count": null,
   "metadata": {
    "colab": {
     "base_uri": "https://localhost:8080/"
    },
    "executionInfo": {
     "elapsed": 15,
     "status": "ok",
     "timestamp": 1656480762772,
     "user": {
      "displayName": "Haritha Kallamadi",
      "userId": "08707752319667160902"
     },
     "user_tz": -330
    },
    "id": "etM8oKu5m5Yc",
    "outputId": "381d1446-b923-4dab-b9c7-346376139925"
   },
   "outputs": [
    {
     "data": {
      "text/plain": [
       "(11610, 8)"
      ]
     },
     "execution_count": 8,
     "metadata": {},
     "output_type": "execute_result"
    }
   ],
   "source": [
    "X_train.shape"
   ]
  },
  {
   "cell_type": "markdown",
   "metadata": {
    "id": "y2Rq5NJrm5Yd"
   },
   "source": [
    "![](Seq_api.png \"Title\")"
   ]
  },
  {
   "cell_type": "code",
   "execution_count": null,
   "metadata": {
    "id": "JeTRl4jKm5Ye"
   },
   "outputs": [],
   "source": [
    "#Build the NN with 2 hidden layers, 30, 30 with relu activation fun\n",
    "\n",
    "model = \n",
    "# keras.layers.Dense(30, activation=\"relu\", input_shape=X_train.shape[1:])"
   ]
  },
  {
   "cell_type": "code",
   "execution_count": null,
   "metadata": {
    "colab": {
     "base_uri": "https://localhost:8080/",
     "height": 633
    },
    "executionInfo": {
     "elapsed": 13,
     "status": "ok",
     "timestamp": 1656480762772,
     "user": {
      "displayName": "Haritha Kallamadi",
      "userId": "08707752319667160902"
     },
     "user_tz": -330
    },
    "id": "Oe18Cr6um5Yf",
    "outputId": "b112e542-1bcc-4047-e047-b07a96e73d1d"
   },
   "outputs": [
    {
     "name": "stdout",
     "output_type": "stream",
     "text": [
      "Model: \"sequential\"\n",
      "_________________________________________________________________\n",
      " Layer (type)                Output Shape              Param #   \n",
      "=================================================================\n",
      " dense (Dense)               (None, 30)                270       \n",
      "                                                                 \n",
      " dense_1 (Dense)             (None, 30)                930       \n",
      "                                                                 \n",
      " dense_2 (Dense)             (None, 1)                 31        \n",
      "                                                                 \n",
      "=================================================================\n",
      "Total params: 1,231\n",
      "Trainable params: 1,231\n",
      "Non-trainable params: 0\n",
      "_________________________________________________________________\n"
     ]
    },
    {
     "data": {
      "image/png": "[encoded data removed]",
      "text/plain": [
       "<IPython.core.display.Image object>"
      ]
     },
     "execution_count": 10,
     "metadata": {},
     "output_type": "execute_result"
    }
   ],
   "source": [
    "# Display model summary\n",
    "model.summary()\n",
    "keras.utils.plot_model(model, \"my_first_model.png\")"
   ]
  },
  {
   "cell_type": "code",
   "execution_count": null,
   "metadata": {
    "colab": {
     "base_uri": "https://localhost:8080/"
    },
    "executionInfo": {
     "elapsed": 7,
     "status": "ok",
     "timestamp": 1656480762772,
     "user": {
      "displayName": "Haritha Kallamadi",
      "userId": "08707752319667160902"
     },
     "user_tz": -330
    },
    "id": "DZnM8vOtm5Yf",
    "outputId": "a2012dea-e880-4344-d243-d1122f5a3ed7"
   },
   "outputs": [
    {
     "name": "stderr",
     "output_type": "stream",
     "text": [
      "/usr/local/lib/python3.7/dist-packages/keras/optimizer_v2/gradient_descent.py:102: UserWarning: The `lr` argument is deprecated, use `learning_rate` instead.\n",
      "  super(SGD, self).__init__(name, **kwargs)\n"
     ]
    }
   ],
   "source": [
    "# compile the model\n",
    "# what is the loss function and metric \n"
   ]
  },
  {
   "cell_type": "code",
   "execution_count": null,
   "metadata": {
    "colab": {
     "base_uri": "https://localhost:8080/"
    },
    "executionInfo": {
     "elapsed": 36680,
     "status": "ok",
     "timestamp": 1656480799449,
     "user": {
      "displayName": "Haritha Kallamadi",
      "userId": "08707752319667160902"
     },
     "user_tz": -330
    },
    "id": "bpHGkBUQm5Yg",
    "outputId": "d6f90fd8-04c1-4204-f289-740a5e0df45b"
   },
   "outputs": [
    {
     "name": "stdout",
     "output_type": "stream",
     "text": [
      "Epoch 1/20\n",
      "363/363 [==============================] - 3s 5ms/step - loss: 1.8866 - mae: 0.9900 - val_loss: 0.7126 - val_mae: 0.6368\n",
      "Epoch 2/20\n",
      "363/363 [==============================] - 2s 5ms/step - loss: 0.6577 - mae: 0.6042 - val_loss: 0.6880 - val_mae: 0.5704\n",
      "Epoch 3/20\n",
      "363/363 [==============================] - 2s 5ms/step - loss: 0.5934 - mae: 0.5618 - val_loss: 0.5803 - val_mae: 0.5352\n",
      "Epoch 4/20\n",
      "363/363 [==============================] - 2s 4ms/step - loss: 0.5557 - mae: 0.5398 - val_loss: 0.5166 - val_mae: 0.5207\n",
      "Epoch 5/20\n",
      "363/363 [==============================] - 2s 5ms/step - loss: 0.5272 - mae: 0.5237 - val_loss: 0.4895 - val_mae: 0.5022\n",
      "Epoch 6/20\n",
      "363/363 [==============================] - 2s 5ms/step - loss: 0.5033 - mae: 0.5113 - val_loss: 0.4951 - val_mae: 0.4934\n",
      "Epoch 7/20\n",
      "363/363 [==============================] - 2s 4ms/step - loss: 0.4854 - mae: 0.5010 - val_loss: 0.4861 - val_mae: 0.4838\n",
      "Epoch 8/20\n",
      "363/363 [==============================] - 2s 6ms/step - loss: 0.4709 - mae: 0.4924 - val_loss: 0.4554 - val_mae: 0.4753\n",
      "Epoch 9/20\n",
      "363/363 [==============================] - 2s 5ms/step - loss: 0.4578 - mae: 0.4857 - val_loss: 0.4413 - val_mae: 0.4671\n",
      "Epoch 10/20\n",
      "363/363 [==============================] - 2s 5ms/step - loss: 0.4474 - mae: 0.4797 - val_loss: 0.4379 - val_mae: 0.4623\n",
      "Epoch 11/20\n",
      "363/363 [==============================] - 2s 6ms/step - loss: 0.4393 - mae: 0.4744 - val_loss: 0.4396 - val_mae: 0.4638\n",
      "Epoch 12/20\n",
      "363/363 [==============================] - 2s 5ms/step - loss: 0.4318 - mae: 0.4703 - val_loss: 0.4507 - val_mae: 0.4573\n",
      "Epoch 13/20\n",
      "363/363 [==============================] - 2s 5ms/step - loss: 0.4261 - mae: 0.4674 - val_loss: 0.3997 - val_mae: 0.4517\n",
      "Epoch 14/20\n",
      "363/363 [==============================] - 2s 6ms/step - loss: 0.4202 - mae: 0.4636 - val_loss: 0.3956 - val_mae: 0.4497\n",
      "Epoch 15/20\n",
      "363/363 [==============================] - 2s 6ms/step - loss: 0.4155 - mae: 0.4613 - val_loss: 0.3916 - val_mae: 0.4464\n",
      "Epoch 16/20\n",
      "363/363 [==============================] - 2s 6ms/step - loss: 0.4112 - mae: 0.4591 - val_loss: 0.3937 - val_mae: 0.4445\n",
      "Epoch 17/20\n",
      "363/363 [==============================] - 2s 4ms/step - loss: 0.4077 - mae: 0.4569 - val_loss: 0.3809 - val_mae: 0.4390\n",
      "Epoch 18/20\n",
      "363/363 [==============================] - 1s 4ms/step - loss: 0.4040 - mae: 0.4545 - val_loss: 0.3793 - val_mae: 0.4368\n",
      "Epoch 19/20\n",
      "363/363 [==============================] - 1s 2ms/step - loss: 0.4004 - mae: 0.4521 - val_loss: 0.3850 - val_mae: 0.4369\n",
      "Epoch 20/20\n",
      "363/363 [==============================] - 1s 2ms/step - loss: 0.3980 - mae: 0.4508 - val_loss: 0.3809 - val_mae: 0.4368\n"
     ]
    }
   ],
   "source": [
    "#fit the model, with epoch=20, X_train, y_train\n"
   ]
  },
  {
   "cell_type": "code",
   "execution_count": null,
   "metadata": {
    "colab": {
     "base_uri": "https://localhost:8080/"
    },
    "executionInfo": {
     "elapsed": 30,
     "status": "ok",
     "timestamp": 1656480799450,
     "user": {
      "displayName": "Haritha Kallamadi",
      "userId": "08707752319667160902"
     },
     "user_tz": -330
    },
    "id": "lXxUAIodm5Yh",
    "outputId": "1a469221-111a-4016-fd39-59f8061d9111"
   },
   "outputs": [
    {
     "name": "stdout",
     "output_type": "stream",
     "text": [
      "162/162 [==============================] - 0s 1ms/step - loss: 0.3942 - mae: 0.4502\n"
     ]
    }
   ],
   "source": [
    "# Evaluate the model on test data,\n",
    "mae_test \n"
   ]
  },
  {
   "cell_type": "code",
   "execution_count": null,
   "metadata": {
    "colab": {
     "base_uri": "https://localhost:8080/"
    },
    "executionInfo": {
     "elapsed": 13,
     "status": "ok",
     "timestamp": 1656480799450,
     "user": {
      "displayName": "Haritha Kallamadi",
      "userId": "08707752319667160902"
     },
     "user_tz": -330
    },
    "id": "kBg-5jlum5Yh",
    "outputId": "9b46849d-5a13-487a-9425-00e863c49318"
   },
   "outputs": [
    {
     "data": {
      "text/plain": [
       "{'loss': [1.8866394758224487,\n",
       "  0.6577126979827881,\n",
       "  0.5934185981750488,\n",
       "  0.5557191371917725,\n",
       "  0.5271905064582825,\n",
       "  0.5032975673675537,\n",
       "  0.4853556454181671,\n",
       "  0.47091808915138245,\n",
       "  0.45779937505722046,\n",
       "  0.4474469721317291,\n",
       "  0.4393136501312256,\n",
       "  0.43176087737083435,\n",
       "  0.4260515868663788,\n",
       "  0.42017653584480286,\n",
       "  0.41549986600875854,\n",
       "  0.4111650586128235,\n",
       "  0.4077068567276001,\n",
       "  0.40395283699035645,\n",
       "  0.4004494547843933,\n",
       "  0.3979603350162506],\n",
       " 'mae': [0.9900257587432861,\n",
       "  0.6041510701179504,\n",
       "  0.5618005990982056,\n",
       "  0.5398454070091248,\n",
       "  0.5237294435501099,\n",
       "  0.5112562775611877,\n",
       "  0.5010153651237488,\n",
       "  0.492448091506958,\n",
       "  0.4857262372970581,\n",
       "  0.4797375202178955,\n",
       "  0.4744163453578949,\n",
       "  0.4703480303287506,\n",
       "  0.46740880608558655,\n",
       "  0.46360209584236145,\n",
       "  0.4612663984298706,\n",
       "  0.4591343402862549,\n",
       "  0.4568699896335602,\n",
       "  0.45453643798828125,\n",
       "  0.4521065056324005,\n",
       "  0.45083147287368774],\n",
       " 'val_loss': [0.7126055359840393,\n",
       "  0.6880088448524475,\n",
       "  0.5803287029266357,\n",
       "  0.5166085362434387,\n",
       "  0.4895075559616089,\n",
       "  0.4950792193412781,\n",
       "  0.48612526059150696,\n",
       "  0.4553801119327545,\n",
       "  0.44133704900741577,\n",
       "  0.43786385655403137,\n",
       "  0.4396442770957947,\n",
       "  0.4506688117980957,\n",
       "  0.39972352981567383,\n",
       "  0.3955893814563751,\n",
       "  0.3915725350379944,\n",
       "  0.39368298649787903,\n",
       "  0.38094857335090637,\n",
       "  0.379347562789917,\n",
       "  0.3850174844264984,\n",
       "  0.380946546792984],\n",
       " 'val_mae': [0.6368112564086914,\n",
       "  0.5703656673431396,\n",
       "  0.5351505279541016,\n",
       "  0.5206614136695862,\n",
       "  0.5022227168083191,\n",
       "  0.4933752119541168,\n",
       "  0.4838489592075348,\n",
       "  0.4752774238586426,\n",
       "  0.46705934405326843,\n",
       "  0.46234601736068726,\n",
       "  0.4637792110443115,\n",
       "  0.4572650194168091,\n",
       "  0.45166537165641785,\n",
       "  0.4496610462665558,\n",
       "  0.4463699758052826,\n",
       "  0.4444962441921234,\n",
       "  0.43897414207458496,\n",
       "  0.43681108951568604,\n",
       "  0.4369050860404968,\n",
       "  0.43676161766052246]}"
      ]
     },
     "execution_count": 14,
     "metadata": {},
     "output_type": "execute_result"
    }
   ],
   "source": [
    "model_history.history"
   ]
  },
  {
   "cell_type": "code",
   "execution_count": null,
   "metadata": {
    "colab": {
     "base_uri": "https://localhost:8080/",
     "height": 324
    },
    "executionInfo": {
     "elapsed": 1047,
     "status": "ok",
     "timestamp": 1656480800492,
     "user": {
      "displayName": "Haritha Kallamadi",
      "userId": "08707752319667160902"
     },
     "user_tz": -330
    },
    "id": "-vc-T9aqm5Yi",
    "outputId": "e18e5d4b-23b4-4a27-a85c-cb0f5eae932a"
   },
   "outputs": [
    {
     "data": {
      "image/png": "[encoded data removed]",
      "text/plain": [
       "<Figure size 576x360 with 1 Axes>"
      ]
     },
     "metadata": {
      "needs_background": "light"
     },
     "output_type": "display_data"
    }
   ],
   "source": [
    "# loss - value of the loss function we have considered\n",
    "# mae -  The metric we have considered\n",
    "# val_loss, val_mae -  value of the loss function and metric on cross validation dara\n",
    "pd.DataFrame(model_history.history).plot(figsize=(8, 5))\n",
    "plt.grid(True)\n",
    "plt.gca().set_ylim(0, 1)\n",
    "\n",
    "plt.show()"
   ]
  },
  {
   "cell_type": "code",
   "execution_count": null,
   "metadata": {
    "id": "HYi0KRIAm5Yj"
   },
   "outputs": [],
   "source": [
    "#test on few samples and display predicted and actual outputs\n",
    "X_new ="
   ]
  },
  {
   "cell_type": "code",
   "execution_count": null,
   "metadata": {
    "colab": {
     "base_uri": "https://localhost:8080/"
    },
    "executionInfo": {
     "elapsed": 36,
     "status": "ok",
     "timestamp": 1656480800493,
     "user": {
      "displayName": "Haritha Kallamadi",
      "userId": "08707752319667160902"
     },
     "user_tz": -330
    },
    "id": "kB4snZLcm5Yj",
    "outputId": "f5caa485-1adc-40f8-c0b2-eb5e1d06e52d"
   },
   "outputs": [
    {
     "name": "stdout",
     "output_type": "stream",
     "text": [
      "[[0.5328767]\n",
      " [1.8915398]\n",
      " [3.404087 ]]\n",
      "[0.477   0.458   5.00001]\n"
     ]
    }
   ],
   "source": [
    "#predict the output on the new samples\n",
    "y_pred = \n",
    "print(y_pred)\n",
    "print(y_test[:3])"
   ]
  },
  {
   "cell_type": "code",
   "execution_count": null,
   "metadata": {
    "id": "XfKuA3CSm5Yk"
   },
   "outputs": [],
   "source": [
    "# Delete the NN model\n",
    "del model"
   ]
  },
  {
   "cell_type": "code",
   "execution_count": null,
   "metadata": {
    "id": "AUbZb-B0m5Yl"
   },
   "outputs": [],
   "source": [
    "# Clear the session\n",
    "keras.backend.clear_session()"
   ]
  },
  {
   "cell_type": "markdown",
   "metadata": {
    "id": "GIEVXrwrm5Yl"
   },
   "source": [
    "# Functional API"
   ]
  },
  {
   "cell_type": "markdown",
   "metadata": {
    "id": "U7T5luOpm5Ym"
   },
   "source": [
    "Not all neural network models are simply sequential. Some may have complex topologies. Some may have multiple inputs and/or multiple outputs. For example, a Wide & Deep neural network (see [paper](https://ai.google/research/pubs/pub45413)) connects all or part of the inputs directly to the output layer.\n",
    "\n",
    "The Keras functional API is the way to go for defining complex models, such as multi-output models, directed acyclic graphs, or models with shared layers.\n",
    "\n",
    "1. A layer instance is callable (on a tensor), and it returns a tensor\n",
    "2. Input tensor(s) and output tensor(s) can then be used to define a Model\n",
    "3. Such a model can be trained just like Keras Sequential models."
   ]
  },
  {
   "cell_type": "code",
   "execution_count": null,
   "metadata": {
    "id": "x0MNDGI5m5Ym"
   },
   "outputs": [],
   "source": [
    "input_ = keras.layers.Input(shape=X_train.shape[1:])\n",
    "hidden1 = keras.layers.Dense(30, activation=\"relu\")(input_)\n",
    "hidden2 = keras.layers.Dense(30, activation=\"relu\")(hidden1)\n",
    "concat = keras.layers.concatenate([input_, hidden2])\n",
    "output = keras.layers.Dense(1)(concat)\n",
    "model = keras.models.Model(inputs=[input_], outputs=[output])"
   ]
  },
  {
   "cell_type": "code",
   "execution_count": null,
   "metadata": {
    "colab": {
     "base_uri": "https://localhost:8080/",
     "height": 839
    },
    "executionInfo": {
     "elapsed": 25,
     "status": "ok",
     "timestamp": 1656480800494,
     "user": {
      "displayName": "Haritha Kallamadi",
      "userId": "08707752319667160902"
     },
     "user_tz": -330
    },
    "id": "Uir1Ifzrm5Yn",
    "outputId": "c3d56dd8-db9b-40bc-a813-5bb2b02ef121"
   },
   "outputs": [
    {
     "name": "stdout",
     "output_type": "stream",
     "text": [
      "Model: \"model\"\n",
      "__________________________________________________________________________________________________\n",
      " Layer (type)                   Output Shape         Param #     Connected to                     \n",
      "==================================================================================================\n",
      " input_1 (InputLayer)           [(None, 8)]          0           []                               \n",
      "                                                                                                  \n",
      " dense (Dense)                  (None, 30)           270         ['input_1[0][0]']                \n",
      "                                                                                                  \n",
      " dense_1 (Dense)                (None, 30)           930         ['dense[0][0]']                  \n",
      "                                                                                                  \n",
      " concatenate (Concatenate)      (None, 38)           0           ['input_1[0][0]',                \n",
      "                                                                  'dense_1[0][0]']                \n",
      "                                                                                                  \n",
      " dense_2 (Dense)                (None, 1)            39          ['concatenate[0][0]']            \n",
      "                                                                                                  \n",
      "==================================================================================================\n",
      "Total params: 1,239\n",
      "Trainable params: 1,239\n",
      "Non-trainable params: 0\n",
      "__________________________________________________________________________________________________\n"
     ]
    },
    {
     "data": {
      "image/png": "[encoded data removed]",
      "text/plain": [
       "<IPython.core.display.Image object>"
      ]
     },
     "execution_count": 21,
     "metadata": {},
     "output_type": "execute_result"
    }
   ],
   "source": [
    "model.summary()\n",
    "keras.utils.plot_model(model, \"my_first_model.png\")"
   ]
  },
  {
   "cell_type": "code",
   "execution_count": null,
   "metadata": {
    "colab": {
     "base_uri": "https://localhost:8080/"
    },
    "executionInfo": {
     "elapsed": 13,
     "status": "ok",
     "timestamp": 1656480800494,
     "user": {
      "displayName": "Haritha Kallamadi",
      "userId": "08707752319667160902"
     },
     "user_tz": -330
    },
    "id": "hq74qXcfm5Yn",
    "outputId": "1426a122-2d46-42e3-9ecd-7290042b7491"
   },
   "outputs": [
    {
     "name": "stderr",
     "output_type": "stream",
     "text": [
      "/usr/local/lib/python3.7/dist-packages/keras/optimizer_v2/gradient_descent.py:102: UserWarning: The `lr` argument is deprecated, use `learning_rate` instead.\n",
      "  super(SGD, self).__init__(name, **kwargs)\n"
     ]
    }
   ],
   "source": [
    "model.compile(loss=\"mean_squared_error\", \n",
    "              optimizer=keras.optimizers.SGD(lr=1e-3), \n",
    "              metrics=['mae'])"
   ]
  },
  {
   "cell_type": "code",
   "execution_count": null,
   "metadata": {
    "id": "gS91uw03m5Yo"
   },
   "outputs": [],
   "source": [
    "model_history = model.fit(X_train, y_train, epochs=80, validation_data=(X_valid, y_valid), verbose = 0)"
   ]
  },
  {
   "cell_type": "code",
   "execution_count": null,
   "metadata": {
    "colab": {
     "base_uri": "https://localhost:8080/"
    },
    "executionInfo": {
     "elapsed": 1026,
     "status": "ok",
     "timestamp": 1656480843695,
     "user": {
      "displayName": "Haritha Kallamadi",
      "userId": "08707752319667160902"
     },
     "user_tz": -330
    },
    "id": "DahVemLOm5Yo",
    "outputId": "42f684e7-817f-4972-de89-a4c9ea8d5cc8"
   },
   "outputs": [
    {
     "name": "stdout",
     "output_type": "stream",
     "text": [
      "162/162 [==============================] - 0s 1ms/step - loss: 0.3453 - mae: 0.4147\n"
     ]
    }
   ],
   "source": [
    "mae_test = model.evaluate(X_test, y_test)\n"
   ]
  },
  {
   "cell_type": "code",
   "execution_count": null,
   "metadata": {
    "id": "T6oHIPLnm5Yp"
   },
   "outputs": [],
   "source": [
    "model_history.history"
   ]
  },
  {
   "cell_type": "code",
   "execution_count": null,
   "metadata": {
    "colab": {
     "base_uri": "https://localhost:8080/",
     "height": 324
    },
    "executionInfo": {
     "elapsed": 21,
     "status": "ok",
     "timestamp": 1656480843696,
     "user": {
      "displayName": "Haritha Kallamadi",
      "userId": "08707752319667160902"
     },
     "user_tz": -330
    },
    "id": "ezyLE0WPm5Yp",
    "outputId": "88609217-2085-4e34-a527-01cb65b2257e"
   },
   "outputs": [
    {
     "data": {
      "image/png": "[encoded data removed]",
      "text/plain": [
       "<Figure size 576x360 with 1 Axes>"
      ]
     },
     "metadata": {
      "needs_background": "light"
     },
     "output_type": "display_data"
    }
   ],
   "source": [
    "pd.DataFrame(model_history.history).plot(figsize=(8, 5))\n",
    "plt.grid(True)\n",
    "plt.gca().set_ylim(0, 1)\n",
    "\n",
    "plt.show()"
   ]
  },
  {
   "cell_type": "code",
   "execution_count": null,
   "metadata": {
    "colab": {
     "base_uri": "https://localhost:8080/",
     "height": 37
    },
    "executionInfo": {
     "elapsed": 20,
     "status": "ok",
     "timestamp": 1656480843696,
     "user": {
      "displayName": "Haritha Kallamadi",
      "userId": "08707752319667160902"
     },
     "user_tz": -330
    },
    "id": "2frzkfobm5Yr",
    "outputId": "edcd04f6-9e63-47b7-a0a5-5ff310d9208c"
   },
   "outputs": [
    {
     "data": {
      "application/vnd.google.colaboratory.intrinsic+json": {
       "type": "string"
      },
      "text/plain": [
       "'/content'"
      ]
     },
     "execution_count": 27,
     "metadata": {},
     "output_type": "execute_result"
    }
   ],
   "source": [
    "%pwd"
   ]
  },
  {
   "cell_type": "markdown",
   "metadata": {
    "id": "RxR5qhykm5Yt"
   },
   "source": [
    "# Saving and Restoring"
   ]
  },
  {
   "cell_type": "code",
   "execution_count": null,
   "metadata": {
    "id": "cUyfA_I_m5Yt"
   },
   "outputs": [],
   "source": [
    "#save the model\n",
    "model.save(\"my_Func_model.h5\")"
   ]
  },
  {
   "cell_type": "code",
   "execution_count": null,
   "metadata": {
    "colab": {
     "base_uri": "https://localhost:8080/",
     "height": 37
    },
    "executionInfo": {
     "elapsed": 19,
     "status": "ok",
     "timestamp": 1656480843696,
     "user": {
      "displayName": "Haritha Kallamadi",
      "userId": "08707752319667160902"
     },
     "user_tz": -330
    },
    "id": "10BL0ZFem5Yt",
    "outputId": "870427d6-43b8-4a84-b709-e08170ee1606"
   },
   "outputs": [
    {
     "data": {
      "application/vnd.google.colaboratory.intrinsic+json": {
       "type": "string"
      },
      "text/plain": [
       "'/content'"
      ]
     },
     "execution_count": 29,
     "metadata": {},
     "output_type": "execute_result"
    }
   ],
   "source": [
    "%pwd"
   ]
  },
  {
   "cell_type": "code",
   "execution_count": null,
   "metadata": {
    "id": "8rZ1EaVFm5Yu"
   },
   "outputs": [],
   "source": [
    "#delte the model\n",
    "del model"
   ]
  },
  {
   "cell_type": "code",
   "execution_count": null,
   "metadata": {
    "id": "U8T-4_Qrm5Yu"
   },
   "outputs": [],
   "source": [
    "keras.backend.clear_session()"
   ]
  },
  {
   "cell_type": "code",
   "execution_count": null,
   "metadata": {
    "id": "cH-NwLtVm5Yv"
   },
   "outputs": [],
   "source": [
    "#invoking/calling the model\n",
    "model = keras.models.load_model(\"my_Func_model.h5\")"
   ]
  },
  {
   "cell_type": "code",
   "execution_count": null,
   "metadata": {
    "colab": {
     "base_uri": "https://localhost:8080/"
    },
    "executionInfo": {
     "elapsed": 12,
     "status": "ok",
     "timestamp": 1656480843697,
     "user": {
      "displayName": "Haritha Kallamadi",
      "userId": "08707752319667160902"
     },
     "user_tz": -330
    },
    "id": "ZLwufOHim5Yv",
    "outputId": "d9e7b2f1-fb06-4603-b3ec-c851b8ba6c06"
   },
   "outputs": [
    {
     "name": "stdout",
     "output_type": "stream",
     "text": [
      "Model: \"model\"\n",
      "__________________________________________________________________________________________________\n",
      " Layer (type)                   Output Shape         Param #     Connected to                     \n",
      "==================================================================================================\n",
      " input_1 (InputLayer)           [(None, 8)]          0           []                               \n",
      "                                                                                                  \n",
      " dense (Dense)                  (None, 30)           270         ['input_1[0][0]']                \n",
      "                                                                                                  \n",
      " dense_1 (Dense)                (None, 30)           930         ['dense[0][0]']                  \n",
      "                                                                                                  \n",
      " concatenate (Concatenate)      (None, 38)           0           ['input_1[0][0]',                \n",
      "                                                                  'dense_1[0][0]']                \n",
      "                                                                                                  \n",
      " dense_2 (Dense)                (None, 1)            39          ['concatenate[0][0]']            \n",
      "                                                                                                  \n",
      "==================================================================================================\n",
      "Total params: 1,239\n",
      "Trainable params: 1,239\n",
      "Non-trainable params: 0\n",
      "__________________________________________________________________________________________________\n"
     ]
    }
   ],
   "source": [
    "model.summary()"
   ]
  },
  {
   "cell_type": "code",
   "execution_count": null,
   "metadata": {
    "colab": {
     "base_uri": "https://localhost:8080/"
    },
    "executionInfo": {
     "elapsed": 603,
     "status": "ok",
     "timestamp": 1656480844293,
     "user": {
      "displayName": "Haritha Kallamadi",
      "userId": "08707752319667160902"
     },
     "user_tz": -330
    },
    "id": "jbYO4MINm5Yw",
    "outputId": "1a3657d0-8184-4959-ad2a-63e8e06aa95e"
   },
   "outputs": [
    {
     "name": "stdout",
     "output_type": "stream",
     "text": [
      "[[0.71822155]\n",
      " [1.6817915 ]\n",
      " [4.1707244 ]]\n"
     ]
    }
   ],
   "source": [
    "#using the saved model \n",
    "y_pred = model.predict(X_new)\n",
    "print (y_pred)"
   ]
  },
  {
   "cell_type": "markdown",
   "metadata": {
    "id": "KXKKFuzmm5Yw"
   },
   "source": [
    "# Using Callbacks during Training"
   ]
  },
  {
   "cell_type": "code",
   "execution_count": null,
   "metadata": {
    "id": "S6pkGOAwm5Yx"
   },
   "outputs": [],
   "source": [
    "keras.backend.clear_session()\n",
    "np.random.seed(42)\n",
    "tf.random.set_seed(42)"
   ]
  },
  {
   "cell_type": "code",
   "execution_count": null,
   "metadata": {
    "id": "eDQ2axs1m5Yx"
   },
   "outputs": [],
   "source": [
    "model = keras.models.Sequential([\n",
    "    keras.layers.Dense(30, activation=\"relu\", input_shape=[8]),\n",
    "    keras.layers.Dense(30, activation=\"relu\"),\n",
    "    keras.layers.Dense(1)\n",
    "])    "
   ]
  },
  {
   "cell_type": "code",
   "execution_count": null,
   "metadata": {
    "colab": {
     "base_uri": "https://localhost:8080/"
    },
    "executionInfo": {
     "elapsed": 20,
     "status": "ok",
     "timestamp": 1656480844294,
     "user": {
      "displayName": "Haritha Kallamadi",
      "userId": "08707752319667160902"
     },
     "user_tz": -330
    },
    "id": "1aow0ctUm5Yx",
    "outputId": "07534fbe-3cf5-44a3-e0f6-723d9f700add"
   },
   "outputs": [
    {
     "name": "stderr",
     "output_type": "stream",
     "text": [
      "/usr/local/lib/python3.7/dist-packages/keras/optimizer_v2/gradient_descent.py:102: UserWarning: The `lr` argument is deprecated, use `learning_rate` instead.\n",
      "  super(SGD, self).__init__(name, **kwargs)\n"
     ]
    }
   ],
   "source": [
    "model.compile(loss=\"mse\", optimizer=keras.optimizers.SGD(lr=1e-3))"
   ]
  },
  {
   "cell_type": "code",
   "execution_count": null,
   "metadata": {
    "id": "Fx4Myhhum5Yy"
   },
   "outputs": [],
   "source": [
    "#saving the model after every epoch\n",
    "# see the models that are saved\n",
    "checkpoint_cb = keras.callbacks.ModelCheckpoint(\"Model-{epoch:02d}.h5\")"
   ]
  },
  {
   "cell_type": "code",
   "execution_count": null,
   "metadata": {
    "colab": {
     "base_uri": "https://localhost:8080/"
    },
    "executionInfo": {
     "elapsed": 6265,
     "status": "ok",
     "timestamp": 1656480850547,
     "user": {
      "displayName": "Haritha Kallamadi",
      "userId": "08707752319667160902"
     },
     "user_tz": -330
    },
    "id": "GSeh_jZ9m5Yy",
    "outputId": "500913f2-b4ea-4419-e1a1-a84bd41de83c"
   },
   "outputs": [
    {
     "name": "stdout",
     "output_type": "stream",
     "text": [
      "Epoch 1/10\n",
      "363/363 [==============================] - 1s 2ms/step - loss: 1.8866 - val_loss: 0.7126\n",
      "Epoch 2/10\n",
      "363/363 [==============================] - 1s 2ms/step - loss: 0.6577 - val_loss: 0.6880\n",
      "Epoch 3/10\n",
      "363/363 [==============================] - 1s 2ms/step - loss: 0.5934 - val_loss: 0.5803\n",
      "Epoch 4/10\n",
      "363/363 [==============================] - 1s 2ms/step - loss: 0.5557 - val_loss: 0.5166\n",
      "Epoch 5/10\n",
      "363/363 [==============================] - 1s 2ms/step - loss: 0.5272 - val_loss: 0.4895\n",
      "Epoch 6/10\n",
      "363/363 [==============================] - 1s 2ms/step - loss: 0.5033 - val_loss: 0.4951\n",
      "Epoch 7/10\n",
      "363/363 [==============================] - 1s 2ms/step - loss: 0.4854 - val_loss: 0.4861\n",
      "Epoch 8/10\n",
      "363/363 [==============================] - 1s 2ms/step - loss: 0.4709 - val_loss: 0.4554\n",
      "Epoch 9/10\n",
      "363/363 [==============================] - 1s 2ms/step - loss: 0.4578 - val_loss: 0.4413\n",
      "Epoch 10/10\n",
      "363/363 [==============================] - 1s 2ms/step - loss: 0.4474 - val_loss: 0.4379\n"
     ]
    }
   ],
   "source": [
    "history = model.fit(X_train, y_train, epochs=10,\n",
    "                    validation_data=(X_valid, y_valid),\n",
    "                    callbacks=[checkpoint_cb])"
   ]
  },
  {
   "cell_type": "code",
   "execution_count": null,
   "metadata": {
    "id": "O8RgpSsQm5Yz"
   },
   "outputs": [],
   "source": [
    "del model\n",
    "keras.backend.clear_session()"
   ]
  },
  {
   "cell_type": "code",
   "execution_count": null,
   "metadata": {
    "id": "a_fpHI4Bm5Yz"
   },
   "outputs": [],
   "source": [
    "#load the model that is generated after 10th epoch\n",
    "model = keras.models.load_model(\"Model-10.h5\")"
   ]
  },
  {
   "cell_type": "code",
   "execution_count": null,
   "metadata": {
    "colab": {
     "base_uri": "https://localhost:8080/"
    },
    "executionInfo": {
     "elapsed": 620,
     "status": "ok",
     "timestamp": 1656480851156,
     "user": {
      "displayName": "Haritha Kallamadi",
      "userId": "08707752319667160902"
     },
     "user_tz": -330
    },
    "id": "cDCWWZPBm5Yz",
    "outputId": "bcf4f2f1-0064-4b37-ec7f-9a16724462f2"
   },
   "outputs": [
    {
     "name": "stdout",
     "output_type": "stream",
     "text": [
      "1/1 [==============================] - 0s 83ms/step - loss: 0.4382\n"
     ]
    }
   ],
   "source": [
    "mse_test = model.evaluate(X_test, y_test,batch_size=5160)"
   ]
  },
  {
   "cell_type": "code",
   "execution_count": null,
   "metadata": {
    "colab": {
     "base_uri": "https://localhost:8080/"
    },
    "executionInfo": {
     "elapsed": 43,
     "status": "ok",
     "timestamp": 1656480851156,
     "user": {
      "displayName": "Haritha Kallamadi",
      "userId": "08707752319667160902"
     },
     "user_tz": -330
    },
    "id": "NixSgPgJm5Y0",
    "outputId": "22ad11e5-8976-4e22-cb7e-75974eca7688"
   },
   "outputs": [
    {
     "name": "stdout",
     "output_type": "stream",
     "text": [
      "0.4382284879684448\n"
     ]
    }
   ],
   "source": [
    "print (mse_test)"
   ]
  },
  {
   "cell_type": "code",
   "execution_count": null,
   "metadata": {
    "colab": {
     "base_uri": "https://localhost:8080/"
    },
    "executionInfo": {
     "elapsed": 40,
     "status": "ok",
     "timestamp": 1656480851156,
     "user": {
      "displayName": "Haritha Kallamadi",
      "userId": "08707752319667160902"
     },
     "user_tz": -330
    },
    "id": "ohu5TZUAm5Y0",
    "outputId": "120e50ca-a905-468d-834e-b5394d7e295e"
   },
   "outputs": [
    {
     "data": {
      "text/plain": [
       "['loss']"
      ]
     },
     "execution_count": 45,
     "metadata": {},
     "output_type": "execute_result"
    }
   ],
   "source": [
    "model.metrics_names"
   ]
  },
  {
   "cell_type": "code",
   "execution_count": null,
   "metadata": {
    "id": "rtdGNRBpm5Y1"
   },
   "outputs": [],
   "source": [
    "y_pred = model.predict(X_test)"
   ]
  },
  {
   "cell_type": "code",
   "execution_count": null,
   "metadata": {
    "id": "Wz_2Dhcwm5Y1"
   },
   "outputs": [],
   "source": [
    "y_diff=y_pred-y_test"
   ]
  },
  {
   "cell_type": "code",
   "execution_count": null,
   "metadata": {
    "colab": {
     "base_uri": "https://localhost:8080/"
    },
    "executionInfo": {
     "elapsed": 29,
     "status": "ok",
     "timestamp": 1656480851157,
     "user": {
      "displayName": "Haritha Kallamadi",
      "userId": "08707752319667160902"
     },
     "user_tz": -330
    },
    "id": "4A7QqJrzm5Y2",
    "outputId": "ef0ea01c-cf46-44e9-dda9-68e479409ea0"
   },
   "outputs": [
    {
     "data": {
      "text/plain": [
       "(5160, 1)"
      ]
     },
     "execution_count": 48,
     "metadata": {},
     "output_type": "execute_result"
    }
   ],
   "source": [
    "y_pred.shape"
   ]
  },
  {
   "cell_type": "code",
   "execution_count": null,
   "metadata": {
    "colab": {
     "base_uri": "https://localhost:8080/"
    },
    "executionInfo": {
     "elapsed": 20,
     "status": "ok",
     "timestamp": 1656480851157,
     "user": {
      "displayName": "Haritha Kallamadi",
      "userId": "08707752319667160902"
     },
     "user_tz": -330
    },
    "id": "3pSQLcK9m5Y2",
    "outputId": "c4f9c9cf-648d-4384-9227-d1e4d3ac3b47"
   },
   "outputs": [
    {
     "data": {
      "text/plain": [
       "array([[3.97196978e-03, 6.72786526e-03, 1.98914790e+01, ...,\n",
       "        4.05738978e-01, 4.37218245e+00, 1.82754235e+01],\n",
       "       [1.37733014e+00, 1.42228783e+00, 1.12185668e+01, ...,\n",
       "        2.24294209e-01, 9.61189855e-01, 1.00134457e+01],\n",
       "       [6.41519640e+00, 6.51180470e+00, 3.96084111e+00, ...,\n",
       "        3.35924308e+00, 1.43507471e-01, 3.25866112e+00],\n",
       "       ...,\n",
       "       [9.40873225e-01, 9.78093701e-01, 1.26239781e+01, ...,\n",
       "        7.28925473e-02, 1.40188868e+00, 1.13435170e+01],\n",
       "       [4.01343135e+00, 4.08991984e+00, 6.34866120e+00, ...,\n",
       "        1.69873432e+00, 2.26939087e-02, 5.45056716e+00],\n",
       "       [1.02430950e+01, 1.03650744e+01, 1.74907619e+00, ...,\n",
       "        6.25241803e+00, 1.09512784e+00, 1.29394365e+00]])"
      ]
     },
     "execution_count": 49,
     "metadata": {},
     "output_type": "execute_result"
    }
   ],
   "source": [
    "mse = (y_diff**2)\n",
    "mse"
   ]
  },
  {
   "cell_type": "markdown",
   "metadata": {
    "id": "XEJdiJNzm5Y3"
   },
   "source": [
    "### Best Model Only"
   ]
  },
  {
   "cell_type": "code",
   "execution_count": null,
   "metadata": {
    "id": "cHHYRGuRm5Y3"
   },
   "outputs": [],
   "source": [
    "del model\n",
    "keras.backend.clear_session()"
   ]
  },
  {
   "cell_type": "code",
   "execution_count": null,
   "metadata": {
    "id": "x3EO2VhXm5Y3"
   },
   "outputs": [],
   "source": [
    "model = keras.models.Sequential([\n",
    "    keras.layers.Dense(30, activation=\"relu\", input_shape=[8]),\n",
    "    keras.layers.Dense(30, activation=\"relu\"),\n",
    "    keras.layers.Dense(1)\n",
    "])    "
   ]
  },
  {
   "cell_type": "code",
   "execution_count": null,
   "metadata": {
    "colab": {
     "base_uri": "https://localhost:8080/"
    },
    "executionInfo": {
     "elapsed": 12,
     "status": "ok",
     "timestamp": 1656480851158,
     "user": {
      "displayName": "Haritha Kallamadi",
      "userId": "08707752319667160902"
     },
     "user_tz": -330
    },
    "id": "TytgoZyum5Y4",
    "outputId": "5ebfae06-ad34-4367-e43c-369a33c2252b"
   },
   "outputs": [
    {
     "name": "stderr",
     "output_type": "stream",
     "text": [
      "/usr/local/lib/python3.7/dist-packages/keras/optimizer_v2/gradient_descent.py:102: UserWarning: The `lr` argument is deprecated, use `learning_rate` instead.\n",
      "  super(SGD, self).__init__(name, **kwargs)\n"
     ]
    }
   ],
   "source": [
    "model.compile(loss=\"mse\", optimizer=keras.optimizers.SGD(lr=1e-3))"
   ]
  },
  {
   "cell_type": "code",
   "execution_count": null,
   "metadata": {
    "id": "aHk8RQBkm5Y4"
   },
   "outputs": [],
   "source": [
    "#creating a checkpoint for the epoch that has the best performance\n",
    "checkpoint_cb = keras.callbacks.ModelCheckpoint(\"Best_Model.h5\", save_best_only=True)"
   ]
  },
  {
   "cell_type": "code",
   "execution_count": null,
   "metadata": {
    "colab": {
     "base_uri": "https://localhost:8080/"
    },
    "executionInfo": {
     "elapsed": 8380,
     "status": "ok",
     "timestamp": 1656480859533,
     "user": {
      "displayName": "Haritha Kallamadi",
      "userId": "08707752319667160902"
     },
     "user_tz": -330
    },
    "id": "du6n7-B2m5Y4",
    "outputId": "e335d981-a029-4c79-b779-a9fdda25923e"
   },
   "outputs": [
    {
     "name": "stdout",
     "output_type": "stream",
     "text": [
      "Epoch 1/10\n",
      "363/363 [==============================] - 1s 2ms/step - loss: 1.4581 - val_loss: 0.7883\n",
      "Epoch 2/10\n",
      "363/363 [==============================] - 1s 2ms/step - loss: 0.7368 - val_loss: 0.7306\n",
      "Epoch 3/10\n",
      "363/363 [==============================] - 1s 2ms/step - loss: 0.6516 - val_loss: 0.6501\n",
      "Epoch 4/10\n",
      "363/363 [==============================] - 1s 3ms/step - loss: 0.5951 - val_loss: 0.5551\n",
      "Epoch 5/10\n",
      "363/363 [==============================] - 1s 3ms/step - loss: 0.5536 - val_loss: 0.5025\n",
      "Epoch 6/10\n",
      "363/363 [==============================] - 1s 3ms/step - loss: 0.5199 - val_loss: 0.4728\n",
      "Epoch 7/10\n",
      "363/363 [==============================] - 1s 3ms/step - loss: 0.4940 - val_loss: 0.4497\n",
      "Epoch 8/10\n",
      "363/363 [==============================] - 1s 2ms/step - loss: 0.4730 - val_loss: 0.4359\n",
      "Epoch 9/10\n",
      "363/363 [==============================] - 1s 2ms/step - loss: 0.4563 - val_loss: 0.4267\n",
      "Epoch 10/10\n",
      "363/363 [==============================] - 1s 2ms/step - loss: 0.4431 - val_loss: 0.4224\n"
     ]
    }
   ],
   "source": [
    "history = model.fit(X_train, y_train, epochs=10,\n",
    "                    validation_data=(X_valid, y_valid),\n",
    "                    callbacks=[checkpoint_cb])"
   ]
  },
  {
   "cell_type": "code",
   "execution_count": null,
   "metadata": {
    "colab": {
     "base_uri": "https://localhost:8080/"
    },
    "executionInfo": {
     "elapsed": 611,
     "status": "ok",
     "timestamp": 1656480860137,
     "user": {
      "displayName": "Haritha Kallamadi",
      "userId": "08707752319667160902"
     },
     "user_tz": -330
    },
    "id": "RGKEpMUkm5Y5",
    "outputId": "4e6cab6c-7793-4dd7-adcf-7af3263fab60"
   },
   "outputs": [
    {
     "name": "stdout",
     "output_type": "stream",
     "text": [
      "162/162 [==============================] - 0s 1ms/step - loss: 0.4366\n"
     ]
    }
   ],
   "source": [
    "#Loading/invoking/calling the model that we have saved(the best epoch)\n",
    "model = keras.models.load_model(\"Best_Model.h5\") # rollback to best model\n",
    "mse_test = model.evaluate(X_test, y_test)"
   ]
  },
  {
   "cell_type": "markdown",
   "metadata": {
    "id": "kF10meYkm5Y5"
   },
   "source": [
    "### Early Stopping Best Model Only"
   ]
  },
  {
   "cell_type": "code",
   "execution_count": null,
   "metadata": {
    "id": "BBbuh7mQm5Y6"
   },
   "outputs": [],
   "source": [
    "del model\n",
    "keras.backend.clear_session()"
   ]
  },
  {
   "cell_type": "code",
   "execution_count": null,
   "metadata": {
    "id": "8jL1_aizm5Y6"
   },
   "outputs": [],
   "source": [
    "model = keras.models.Sequential([\n",
    "    keras.layers.Dense(30, activation=\"relu\", input_shape=[8]),\n",
    "    keras.layers.Dense(30, activation=\"relu\"),\n",
    "    keras.layers.Dense(1)\n",
    "])    "
   ]
  },
  {
   "cell_type": "code",
   "execution_count": null,
   "metadata": {
    "colab": {
     "base_uri": "https://localhost:8080/"
    },
    "executionInfo": {
     "elapsed": 8,
     "status": "ok",
     "timestamp": 1656480860139,
     "user": {
      "displayName": "Haritha Kallamadi",
      "userId": "08707752319667160902"
     },
     "user_tz": -330
    },
    "id": "YVx19OEGm5Y6",
    "outputId": "d4de1014-0a43-42a4-a1f0-2badf447a9c1"
   },
   "outputs": [
    {
     "name": "stderr",
     "output_type": "stream",
     "text": [
      "/usr/local/lib/python3.7/dist-packages/keras/optimizer_v2/gradient_descent.py:102: UserWarning: The `lr` argument is deprecated, use `learning_rate` instead.\n",
      "  super(SGD, self).__init__(name, **kwargs)\n"
     ]
    }
   ],
   "source": [
    "model.compile(loss=\"mse\", optimizer=keras.optimizers.SGD(lr=1e-3))"
   ]
  },
  {
   "cell_type": "code",
   "execution_count": null,
   "metadata": {
    "id": "c3J-hWDIm5Y7"
   },
   "outputs": [],
   "source": [
    "checkpoint_cb = keras.callbacks.ModelCheckpoint(\"early_stop_model.h5\", save_best_only=True)"
   ]
  },
  {
   "cell_type": "code",
   "execution_count": null,
   "metadata": {
    "id": "J8_2Cqw9m5Y7"
   },
   "outputs": [],
   "source": [
    "early_stopping_cb = keras.callbacks.EarlyStopping(patience=10,\n",
    "                                                  restore_best_weights=True)\n",
    "\n",
    "#     patience: Number of epochs with no improvement after which training will be stopped."
   ]
  },
  {
   "cell_type": "code",
   "execution_count": null,
   "metadata": {
    "colab": {
     "base_uri": "https://localhost:8080/"
    },
    "executionInfo": {
     "elapsed": 41524,
     "status": "ok",
     "timestamp": 1656480901657,
     "user": {
      "displayName": "Haritha Kallamadi",
      "userId": "08707752319667160902"
     },
     "user_tz": -330
    },
    "id": "GRkGdKi9m5Y7",
    "outputId": "ada7588a-d5b5-4b35-881a-26b195cd51e8"
   },
   "outputs": [
    {
     "name": "stdout",
     "output_type": "stream",
     "text": [
      "Epoch 1/200\n",
      "363/363 [==============================] - 1s 2ms/step - loss: 2.5780 - val_loss: 2.2266\n",
      "Epoch 2/200\n",
      "363/363 [==============================] - 1s 2ms/step - loss: 1.0896 - val_loss: 0.9287\n",
      "Epoch 3/200\n",
      "363/363 [==============================] - 1s 2ms/step - loss: 0.8430 - val_loss: 0.9400\n",
      "Epoch 4/200\n",
      "363/363 [==============================] - 1s 2ms/step - loss: 0.7673 - val_loss: 0.7490\n",
      "Epoch 5/200\n",
      "363/363 [==============================] - 1s 2ms/step - loss: 0.7194 - val_loss: 0.6682\n",
      "Epoch 6/200\n",
      "363/363 [==============================] - 1s 2ms/step - loss: 0.6799 - val_loss: 0.6534\n",
      "Epoch 7/200\n",
      "363/363 [==============================] - 1s 2ms/step - loss: 0.6466 - val_loss: 0.6407\n",
      "Epoch 8/200\n",
      "363/363 [==============================] - 1s 2ms/step - loss: 0.6173 - val_loss: 0.5704\n",
      "Epoch 9/200\n",
      "363/363 [==============================] - 1s 2ms/step - loss: 0.5894 - val_loss: 0.5552\n",
      "Epoch 10/200\n",
      "363/363 [==============================] - 1s 2ms/step - loss: 0.5645 - val_loss: 0.5572\n",
      "Epoch 11/200\n",
      "363/363 [==============================] - 1s 2ms/step - loss: 0.5428 - val_loss: 0.5168\n",
      "Epoch 12/200\n",
      "363/363 [==============================] - 1s 2ms/step - loss: 0.5212 - val_loss: 0.5067\n",
      "Epoch 13/200\n",
      "363/363 [==============================] - 1s 2ms/step - loss: 0.5034 - val_loss: 0.4662\n",
      "Epoch 14/200\n",
      "363/363 [==============================] - 1s 2ms/step - loss: 0.4866 - val_loss: 0.4498\n",
      "Epoch 15/200\n",
      "363/363 [==============================] - 1s 2ms/step - loss: 0.4721 - val_loss: 0.4385\n",
      "Epoch 16/200\n",
      "363/363 [==============================] - 1s 2ms/step - loss: 0.4594 - val_loss: 0.4251\n",
      "Epoch 17/200\n",
      "363/363 [==============================] - 1s 2ms/step - loss: 0.4489 - val_loss: 0.4241\n",
      "Epoch 18/200\n",
      "363/363 [==============================] - 1s 2ms/step - loss: 0.4396 - val_loss: 0.4331\n",
      "Epoch 19/200\n",
      "363/363 [==============================] - 1s 2ms/step - loss: 0.4315 - val_loss: 0.4004\n",
      "Epoch 20/200\n",
      "363/363 [==============================] - 1s 2ms/step - loss: 0.4252 - val_loss: 0.4191\n",
      "Epoch 21/200\n",
      "363/363 [==============================] - 1s 2ms/step - loss: 0.4190 - val_loss: 0.3939\n",
      "Epoch 22/200\n",
      "363/363 [==============================] - 1s 2ms/step - loss: 0.4140 - val_loss: 0.4230\n",
      "Epoch 23/200\n",
      "363/363 [==============================] - 1s 2ms/step - loss: 0.4094 - val_loss: 0.3836\n",
      "Epoch 24/200\n",
      "363/363 [==============================] - 1s 2ms/step - loss: 0.4052 - val_loss: 0.4113\n",
      "Epoch 25/200\n",
      "363/363 [==============================] - 1s 2ms/step - loss: 0.4014 - val_loss: 0.4086\n",
      "Epoch 26/200\n",
      "363/363 [==============================] - 1s 2ms/step - loss: 0.3981 - val_loss: 0.4039\n",
      "Epoch 27/200\n",
      "363/363 [==============================] - 1s 2ms/step - loss: 0.3950 - val_loss: 0.3685\n",
      "Epoch 28/200\n",
      "363/363 [==============================] - 1s 2ms/step - loss: 0.3920 - val_loss: 0.4138\n",
      "Epoch 29/200\n",
      "363/363 [==============================] - 1s 2ms/step - loss: 0.3895 - val_loss: 0.3730\n",
      "Epoch 30/200\n",
      "363/363 [==============================] - 1s 2ms/step - loss: 0.3867 - val_loss: 0.4091\n",
      "Epoch 31/200\n",
      "363/363 [==============================] - 1s 2ms/step - loss: 0.3843 - val_loss: 0.3704\n",
      "Epoch 32/200\n",
      "363/363 [==============================] - 1s 2ms/step - loss: 0.3819 - val_loss: 0.4205\n",
      "Epoch 33/200\n",
      "363/363 [==============================] - 1s 2ms/step - loss: 0.3805 - val_loss: 0.3561\n",
      "Epoch 34/200\n",
      "363/363 [==============================] - 1s 2ms/step - loss: 0.3781 - val_loss: 0.3605\n",
      "Epoch 35/200\n",
      "363/363 [==============================] - 1s 2ms/step - loss: 0.3762 - val_loss: 0.4080\n",
      "Epoch 36/200\n",
      "363/363 [==============================] - 1s 2ms/step - loss: 0.3745 - val_loss: 0.3594\n",
      "Epoch 37/200\n",
      "363/363 [==============================] - 1s 2ms/step - loss: 0.3729 - val_loss: 0.3985\n",
      "Epoch 38/200\n",
      "363/363 [==============================] - 1s 2ms/step - loss: 0.3715 - val_loss: 0.3488\n",
      "Epoch 39/200\n",
      "363/363 [==============================] - 1s 2ms/step - loss: 0.3696 - val_loss: 0.3573\n",
      "Epoch 40/200\n",
      "363/363 [==============================] - 1s 2ms/step - loss: 0.3680 - val_loss: 0.3543\n",
      "Epoch 41/200\n",
      "363/363 [==============================] - 1s 2ms/step - loss: 0.3668 - val_loss: 0.3698\n",
      "Epoch 42/200\n",
      "363/363 [==============================] - 1s 2ms/step - loss: 0.3657 - val_loss: 0.3761\n",
      "Epoch 43/200\n",
      "363/363 [==============================] - 1s 2ms/step - loss: 0.3641 - val_loss: 0.3722\n",
      "Epoch 44/200\n",
      "363/363 [==============================] - 1s 2ms/step - loss: 0.3628 - val_loss: 0.3840\n",
      "Epoch 45/200\n",
      "363/363 [==============================] - 1s 2ms/step - loss: 0.3620 - val_loss: 0.3427\n",
      "Epoch 46/200\n",
      "363/363 [==============================] - 1s 2ms/step - loss: 0.3605 - val_loss: 0.3663\n",
      "Epoch 47/200\n",
      "363/363 [==============================] - 1s 2ms/step - loss: 0.3595 - val_loss: 0.3478\n",
      "Epoch 48/200\n",
      "363/363 [==============================] - 1s 2ms/step - loss: 0.3584 - val_loss: 0.3782\n",
      "Epoch 49/200\n",
      "363/363 [==============================] - 1s 2ms/step - loss: 0.3578 - val_loss: 0.3394\n",
      "Epoch 50/200\n",
      "363/363 [==============================] - 1s 2ms/step - loss: 0.3565 - val_loss: 0.3388\n",
      "Epoch 51/200\n",
      "363/363 [==============================] - 1s 2ms/step - loss: 0.3553 - val_loss: 0.3669\n",
      "Epoch 52/200\n",
      "363/363 [==============================] - 1s 2ms/step - loss: 0.3548 - val_loss: 0.3358\n",
      "Epoch 53/200\n",
      "363/363 [==============================] - 1s 2ms/step - loss: 0.3538 - val_loss: 0.3836\n",
      "Epoch 54/200\n",
      "363/363 [==============================] - 1s 2ms/step - loss: 0.3531 - val_loss: 0.3354\n",
      "Epoch 55/200\n",
      "363/363 [==============================] - 1s 3ms/step - loss: 0.3522 - val_loss: 0.3435\n",
      "Epoch 56/200\n",
      "363/363 [==============================] - 1s 2ms/step - loss: 0.3513 - val_loss: 0.3454\n",
      "Epoch 57/200\n",
      "363/363 [==============================] - 1s 2ms/step - loss: 0.3505 - val_loss: 0.3373\n",
      "Epoch 58/200\n",
      "363/363 [==============================] - 1s 2ms/step - loss: 0.3495 - val_loss: 0.3674\n",
      "Epoch 59/200\n",
      "363/363 [==============================] - 1s 2ms/step - loss: 0.3491 - val_loss: 0.3593\n",
      "Epoch 60/200\n",
      "363/363 [==============================] - 1s 2ms/step - loss: 0.3483 - val_loss: 0.3386\n",
      "Epoch 61/200\n",
      "363/363 [==============================] - 1s 2ms/step - loss: 0.3471 - val_loss: 0.3603\n",
      "Epoch 62/200\n",
      "363/363 [==============================] - 1s 2ms/step - loss: 0.3467 - val_loss: 0.3600\n",
      "Epoch 63/200\n",
      "363/363 [==============================] - 1s 2ms/step - loss: 0.3456 - val_loss: 0.3567\n",
      "Epoch 64/200\n",
      "363/363 [==============================] - 1s 2ms/step - loss: 0.3454 - val_loss: 0.3374\n"
     ]
    }
   ],
   "source": [
    "history = model.fit(X_train, y_train, epochs=200,\n",
    "                    validation_data=(X_valid, y_valid),\n",
    "                    callbacks=[checkpoint_cb, early_stopping_cb])"
   ]
  },
  {
   "cell_type": "code",
   "execution_count": null,
   "metadata": {
    "colab": {
     "base_uri": "https://localhost:8080/"
    },
    "executionInfo": {
     "elapsed": 793,
     "status": "ok",
     "timestamp": 1656480902440,
     "user": {
      "displayName": "Haritha Kallamadi",
      "userId": "08707752319667160902"
     },
     "user_tz": -330
    },
    "id": "CEdW6SdMm5Y8",
    "outputId": "34925627-0076-4900-eb3c-503db4ce5c3a"
   },
   "outputs": [
    {
     "name": "stdout",
     "output_type": "stream",
     "text": [
      "162/162 [==============================] - 0s 1ms/step - loss: 0.3481\n"
     ]
    }
   ],
   "source": [
    "model = keras.models.load_model(\"early_stop_model.h5\")\n",
    "mse_test = model.evaluate(X_test, y_test)"
   ]
  }
 ],
 "metadata": {
  "colab": {
   "collapsed_sections": [],
   "name": "05_ANN Regression_Student_Copy.ipynb",
   "provenance": [
    {
     "file_id": "1wzoYflkg631M_M2ie9yL1WiaK6GSxC5x",
     "timestamp": 1656486209559
    }
   ]
  },
  "kernelspec": {
   "display_name": "Python 3 (ipykernel)",
   "language": "python",
   "name": "python3"
  },
  "language_info": {
   "codemirror_mode": {
    "name": "ipython",
    "version": 3
   },
   "file_extension": ".py",
   "mimetype": "text/x-python",
   "name": "python",
   "nbconvert_exporter": "python",
   "pygments_lexer": "ipython3",
   "version": "3.8.5"
  }
 },
 "nbformat": 4,
 "nbformat_minor": 0
}
