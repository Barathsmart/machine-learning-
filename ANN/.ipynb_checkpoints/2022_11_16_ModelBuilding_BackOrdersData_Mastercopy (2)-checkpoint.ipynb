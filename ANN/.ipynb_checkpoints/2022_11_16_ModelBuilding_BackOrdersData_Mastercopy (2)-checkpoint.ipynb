{
 "cells": [
  {
   "cell_type": "markdown",
   "metadata": {},
   "source": [
    "#### Import the required modules"
   ]
  },
  {
   "cell_type": "code",
   "execution_count": 74,
   "metadata": {},
   "outputs": [],
   "source": [
    "import pandas as pd\n",
    "import numpy as np\n",
    "from sklearn.model_selection import train_test_split\n",
    "from sklearn.metrics import confusion_matrix, roc_curve, auc,recall_score\n",
    "\n",
    "import tensorflow as tf\n",
    "from tensorflow.keras.models import Sequential\n",
    "from tensorflow.keras.layers import Dense\n",
    "## For Grid Search\n",
    "from keras.wrappers.scikit_learn import KerasClassifier\n",
    "from sklearn.model_selection import GridSearchCV\n",
    "import matplotlib.pyplot as plt\n",
    "%matplotlib inline "
   ]
  },
  {
   "cell_type": "code",
   "execution_count": 75,
   "metadata": {},
   "outputs": [
    {
     "data": {
      "text/plain": [
       "'2.8.0'"
      ]
     },
     "execution_count": 75,
     "metadata": {},
     "output_type": "execute_result"
    }
   ],
   "source": [
    "tf.__version__"
   ]
  },
  {
   "cell_type": "markdown",
   "metadata": {},
   "source": [
    "#### Load the data"
   ]
  },
  {
   "cell_type": "code",
   "execution_count": 76,
   "metadata": {},
   "outputs": [
    {
     "data": {
      "text/html": [
       "<div>\n",
       "<style scoped>\n",
       "    .dataframe tbody tr th:only-of-type {\n",
       "        vertical-align: middle;\n",
       "    }\n",
       "\n",
       "    .dataframe tbody tr th {\n",
       "        vertical-align: top;\n",
       "    }\n",
       "\n",
       "    .dataframe thead th {\n",
       "        text-align: right;\n",
       "    }\n",
       "</style>\n",
       "<table border=\"1\" class=\"dataframe\">\n",
       "  <thead>\n",
       "    <tr style=\"text-align: right;\">\n",
       "      <th></th>\n",
       "      <th>sku</th>\n",
       "      <th>national_inv</th>\n",
       "      <th>lead_time</th>\n",
       "      <th>in_transit_qty</th>\n",
       "      <th>forecast_3_month</th>\n",
       "      <th>forecast_6_month</th>\n",
       "      <th>forecast_9_month</th>\n",
       "      <th>sales_1_month</th>\n",
       "      <th>sales_3_month</th>\n",
       "      <th>sales_6_month</th>\n",
       "      <th>...</th>\n",
       "      <th>pieces_past_due</th>\n",
       "      <th>perf_6_month_avg</th>\n",
       "      <th>perf_12_month_avg</th>\n",
       "      <th>local_bo_qty</th>\n",
       "      <th>deck_risk</th>\n",
       "      <th>oe_constraint</th>\n",
       "      <th>ppap_risk</th>\n",
       "      <th>stop_auto_buy</th>\n",
       "      <th>rev_stop</th>\n",
       "      <th>went_on_backorder</th>\n",
       "    </tr>\n",
       "  </thead>\n",
       "  <tbody>\n",
       "    <tr>\n",
       "      <th>0</th>\n",
       "      <td>1888279</td>\n",
       "      <td>117</td>\n",
       "      <td>NaN</td>\n",
       "      <td>0</td>\n",
       "      <td>0</td>\n",
       "      <td>0</td>\n",
       "      <td>0</td>\n",
       "      <td>0</td>\n",
       "      <td>0</td>\n",
       "      <td>15</td>\n",
       "      <td>...</td>\n",
       "      <td>0</td>\n",
       "      <td>-99.00</td>\n",
       "      <td>-99.00</td>\n",
       "      <td>0</td>\n",
       "      <td>No</td>\n",
       "      <td>No</td>\n",
       "      <td>Yes</td>\n",
       "      <td>Yes</td>\n",
       "      <td>No</td>\n",
       "      <td>No</td>\n",
       "    </tr>\n",
       "    <tr>\n",
       "      <th>1</th>\n",
       "      <td>1870557</td>\n",
       "      <td>7</td>\n",
       "      <td>2.0</td>\n",
       "      <td>0</td>\n",
       "      <td>0</td>\n",
       "      <td>0</td>\n",
       "      <td>0</td>\n",
       "      <td>0</td>\n",
       "      <td>0</td>\n",
       "      <td>0</td>\n",
       "      <td>...</td>\n",
       "      <td>0</td>\n",
       "      <td>0.50</td>\n",
       "      <td>0.28</td>\n",
       "      <td>0</td>\n",
       "      <td>Yes</td>\n",
       "      <td>No</td>\n",
       "      <td>No</td>\n",
       "      <td>Yes</td>\n",
       "      <td>No</td>\n",
       "      <td>No</td>\n",
       "    </tr>\n",
       "    <tr>\n",
       "      <th>2</th>\n",
       "      <td>1475481</td>\n",
       "      <td>258</td>\n",
       "      <td>15.0</td>\n",
       "      <td>10</td>\n",
       "      <td>10</td>\n",
       "      <td>77</td>\n",
       "      <td>184</td>\n",
       "      <td>46</td>\n",
       "      <td>132</td>\n",
       "      <td>256</td>\n",
       "      <td>...</td>\n",
       "      <td>0</td>\n",
       "      <td>0.54</td>\n",
       "      <td>0.70</td>\n",
       "      <td>0</td>\n",
       "      <td>No</td>\n",
       "      <td>No</td>\n",
       "      <td>No</td>\n",
       "      <td>Yes</td>\n",
       "      <td>No</td>\n",
       "      <td>No</td>\n",
       "    </tr>\n",
       "  </tbody>\n",
       "</table>\n",
       "<p>3 rows × 23 columns</p>\n",
       "</div>"
      ],
      "text/plain": [
       "       sku  national_inv  lead_time  in_transit_qty  forecast_3_month  \\\n",
       "0  1888279           117        NaN               0                 0   \n",
       "1  1870557             7        2.0               0                 0   \n",
       "2  1475481           258       15.0              10                10   \n",
       "\n",
       "   forecast_6_month  forecast_9_month  sales_1_month  sales_3_month  \\\n",
       "0                 0                 0              0              0   \n",
       "1                 0                 0              0              0   \n",
       "2                77               184             46            132   \n",
       "\n",
       "   sales_6_month  ...  pieces_past_due  perf_6_month_avg perf_12_month_avg  \\\n",
       "0             15  ...                0            -99.00            -99.00   \n",
       "1              0  ...                0              0.50              0.28   \n",
       "2            256  ...                0              0.54              0.70   \n",
       "\n",
       "   local_bo_qty  deck_risk  oe_constraint  ppap_risk stop_auto_buy rev_stop  \\\n",
       "0             0         No             No        Yes           Yes       No   \n",
       "1             0        Yes             No         No           Yes       No   \n",
       "2             0         No             No         No           Yes       No   \n",
       "\n",
       "  went_on_backorder  \n",
       "0                No  \n",
       "1                No  \n",
       "2                No  \n",
       "\n",
       "[3 rows x 23 columns]"
      ]
     },
     "execution_count": 76,
     "metadata": {},
     "output_type": "execute_result"
    }
   ],
   "source": [
    "data1=pd.read_csv(\"BackOrders.csv\")\n",
    "data1.head(3)"
   ]
  },
  {
   "cell_type": "code",
   "execution_count": 77,
   "metadata": {},
   "outputs": [
    {
     "data": {
      "text/plain": [
       "sku                    int64\n",
       "national_inv           int64\n",
       "lead_time            float64\n",
       "in_transit_qty         int64\n",
       "forecast_3_month       int64\n",
       "forecast_6_month       int64\n",
       "forecast_9_month       int64\n",
       "sales_1_month          int64\n",
       "sales_3_month          int64\n",
       "sales_6_month          int64\n",
       "sales_9_month          int64\n",
       "min_bank               int64\n",
       "potential_issue       object\n",
       "pieces_past_due        int64\n",
       "perf_6_month_avg     float64\n",
       "perf_12_month_avg    float64\n",
       "local_bo_qty           int64\n",
       "deck_risk             object\n",
       "oe_constraint         object\n",
       "ppap_risk             object\n",
       "stop_auto_buy         object\n",
       "rev_stop              object\n",
       "went_on_backorder     object\n",
       "dtype: object"
      ]
     },
     "execution_count": 77,
     "metadata": {},
     "output_type": "execute_result"
    }
   ],
   "source": [
    "# Check data type of each attribute\n",
    "data1.dtypes"
   ]
  },
  {
   "cell_type": "markdown",
   "metadata": {},
   "source": [
    "#### Convert all the attributes to appropriate type"
   ]
  },
  {
   "cell_type": "markdown",
   "metadata": {},
   "source": [
    "Data type conversion\n",
    "\n",
    "    Using astype('category') to convert potential_issue, deck_risk, oe_constraint, ppap_risk, stop_auto_buy, rev_stop, and went_on_backorder attributes to categorical attributes.\n"
   ]
  },
  {
   "cell_type": "code",
   "execution_count": 78,
   "metadata": {},
   "outputs": [],
   "source": [
    "for col in ['potential_issue', 'deck_risk', 'oe_constraint', 'ppap_risk', 'stop_auto_buy', 'rev_stop', 'went_on_backorder']:\n",
    "    data1[col] = data1[col].astype('category')"
   ]
  },
  {
   "cell_type": "markdown",
   "metadata": {},
   "source": [
    "##### Display data type of each variable"
   ]
  },
  {
   "cell_type": "code",
   "execution_count": 79,
   "metadata": {},
   "outputs": [
    {
     "data": {
      "text/plain": [
       "sku                     int64\n",
       "national_inv            int64\n",
       "lead_time             float64\n",
       "in_transit_qty          int64\n",
       "forecast_3_month        int64\n",
       "forecast_6_month        int64\n",
       "forecast_9_month        int64\n",
       "sales_1_month           int64\n",
       "sales_3_month           int64\n",
       "sales_6_month           int64\n",
       "sales_9_month           int64\n",
       "min_bank                int64\n",
       "potential_issue      category\n",
       "pieces_past_due         int64\n",
       "perf_6_month_avg      float64\n",
       "perf_12_month_avg     float64\n",
       "local_bo_qty            int64\n",
       "deck_risk            category\n",
       "oe_constraint        category\n",
       "ppap_risk            category\n",
       "stop_auto_buy        category\n",
       "rev_stop             category\n",
       "went_on_backorder    category\n",
       "dtype: object"
      ]
     },
     "execution_count": 79,
     "metadata": {},
     "output_type": "execute_result"
    }
   ],
   "source": [
    "#Display data type of each variable\n",
    "data1.dtypes"
   ]
  },
  {
   "cell_type": "code",
   "execution_count": 80,
   "metadata": {},
   "outputs": [
    {
     "data": {
      "text/plain": [
       "61589"
      ]
     },
     "execution_count": 80,
     "metadata": {},
     "output_type": "execute_result"
    }
   ],
   "source": [
    "#### Delete sku attribute\n",
    "np.size(np.unique(data1.sku, return_counts=True)[0])"
   ]
  },
  {
   "cell_type": "code",
   "execution_count": 81,
   "metadata": {},
   "outputs": [],
   "source": [
    "data1.drop('sku', axis=1, inplace=True)"
   ]
  },
  {
   "cell_type": "code",
   "execution_count": 82,
   "metadata": {},
   "outputs": [
    {
     "data": {
      "text/plain": [
       "national_inv            0\n",
       "lead_time            3403\n",
       "in_transit_qty          0\n",
       "forecast_3_month        0\n",
       "forecast_6_month        0\n",
       "forecast_9_month        0\n",
       "sales_1_month           0\n",
       "sales_3_month           0\n",
       "sales_6_month           0\n",
       "sales_9_month           0\n",
       "min_bank                0\n",
       "potential_issue         0\n",
       "pieces_past_due         0\n",
       "perf_6_month_avg        0\n",
       "perf_12_month_avg       0\n",
       "local_bo_qty            0\n",
       "deck_risk               0\n",
       "oe_constraint           0\n",
       "ppap_risk               0\n",
       "stop_auto_buy           0\n",
       "rev_stop                0\n",
       "went_on_backorder       0\n",
       "dtype: int64"
      ]
     },
     "execution_count": 82,
     "metadata": {},
     "output_type": "execute_result"
    }
   ],
   "source": [
    "#### Missing value analysis and dropping the records with missing values\n",
    "data1.isnull().sum()"
   ]
  },
  {
   "cell_type": "code",
   "execution_count": 83,
   "metadata": {},
   "outputs": [],
   "source": [
    "#Since the number of missing values is about 5%. For initial analysis we ignore all these records\n",
    "data1 = data1.dropna(axis=0)"
   ]
  },
  {
   "cell_type": "markdown",
   "metadata": {},
   "source": [
    "#### For neural networks we require the data to be in numeric form"
   ]
  },
  {
   "cell_type": "code",
   "execution_count": 84,
   "metadata": {},
   "outputs": [
    {
     "name": "stdout",
     "output_type": "stream",
     "text": [
      "Index(['forecast_3_month', 'forecast_6_month', 'forecast_9_month',\n",
      "       'in_transit_qty', 'lead_time', 'local_bo_qty', 'min_bank',\n",
      "       'national_inv', 'perf_12_month_avg', 'perf_6_month_avg',\n",
      "       'pieces_past_due', 'sales_1_month', 'sales_3_month', 'sales_6_month',\n",
      "       'sales_9_month'],\n",
      "      dtype='object')\n",
      "\n",
      "\n",
      "['potential_issue', 'deck_risk', 'oe_constraint', 'ppap_risk', 'stop_auto_buy', 'rev_stop']\n"
     ]
    }
   ],
   "source": [
    "cat_attr= ['potential_issue', 'deck_risk', 'oe_constraint',\n",
    "           'ppap_risk', 'stop_auto_buy', 'rev_stop', 'went_on_backorder']\n",
    "num_attr=data1.columns.difference(cat_attr)\n",
    "cat_attr.pop()\n",
    "\n",
    "print(num_attr)\n",
    "\n",
    "print(\"\\n\")\n",
    "print(cat_attr)"
   ]
  },
  {
   "cell_type": "markdown",
   "metadata": {},
   "source": [
    "#### Data preprocessing for numeric and categorical using pipelines"
   ]
  },
  {
   "cell_type": "code",
   "execution_count": 85,
   "metadata": {},
   "outputs": [],
   "source": [
    "from sklearn.preprocessing import StandardScaler, OneHotEncoder\n",
    "from sklearn.pipeline import Pipeline\n",
    "from sklearn.compose import ColumnTransformer\n",
    "numeric_transformer = Pipeline(steps=[\n",
    "                                      ('scale',StandardScaler()) ])\n",
    "\n",
    "categorical_transformer = Pipeline(steps=[\n",
    "                                         ('ohe',OneHotEncoder(handle_unknown='ignore'))])\n",
    "\n",
    "preprocessor = ColumnTransformer(transformers=[('num',numeric_transformer,num_attr) ,\n",
    "                                              ('cat',categorical_transformer,cat_attr)])"
   ]
  },
  {
   "cell_type": "code",
   "execution_count": 86,
   "metadata": {},
   "outputs": [
    {
     "data": {
      "text/plain": [
       "ColumnTransformer(transformers=[('num',\n",
       "                                 Pipeline(steps=[('scale', StandardScaler())]),\n",
       "                                 Index(['forecast_3_month', 'forecast_6_month', 'forecast_9_month',\n",
       "       'in_transit_qty', 'lead_time', 'local_bo_qty', 'min_bank',\n",
       "       'national_inv', 'perf_12_month_avg', 'perf_6_month_avg',\n",
       "       'pieces_past_due', 'sales_1_month', 'sales_3_month', 'sales_6_month',\n",
       "       'sales_9_month'],\n",
       "      dtype='object')),\n",
       "                                ('cat',\n",
       "                                 Pipeline(steps=[('ohe',\n",
       "                                                  OneHotEncoder(handle_unknown='ignore'))]),\n",
       "                                 ['potential_issue', 'deck_risk',\n",
       "                                  'oe_constraint', 'ppap_risk', 'stop_auto_buy',\n",
       "                                  'rev_stop'])])"
      ]
     },
     "execution_count": 86,
     "metadata": {},
     "output_type": "execute_result"
    }
   ],
   "source": [
    "preprocessor"
   ]
  },
  {
   "cell_type": "code",
   "execution_count": 87,
   "metadata": {},
   "outputs": [],
   "source": [
    "#Performing train test split on the data\n",
    "X, y = data1.loc[:,data1.columns!='went_on_backorder'], data1.loc[:,'went_on_backorder']\n",
    "\n",
    "X_train, X_test, y_train, y_test = train_test_split(X, y, test_size=0.3, random_state=123)\n"
   ]
  },
  {
   "cell_type": "code",
   "execution_count": 88,
   "metadata": {},
   "outputs": [],
   "source": [
    "X_train = preprocessor.fit_transform(X_train)\n",
    "X_test = preprocessor.fit_transform(X_test)"
   ]
  },
  {
   "cell_type": "code",
   "execution_count": 89,
   "metadata": {},
   "outputs": [],
   "source": [
    "y_test=y_test.replace({'Yes':1,'No':0})\n",
    "y_train=y_train.replace({'Yes':1,'No':0})"
   ]
  },
  {
   "cell_type": "code",
   "execution_count": 90,
   "metadata": {},
   "outputs": [],
   "source": [
    "## Convert to numeric\n",
    "y_train=y_train.values\n",
    "y_test=y_test.values"
   ]
  },
  {
   "cell_type": "code",
   "execution_count": 91,
   "metadata": {},
   "outputs": [
    {
     "data": {
      "text/plain": [
       "array([0, 1, 1, ..., 1, 1, 0], dtype=int64)"
      ]
     },
     "execution_count": 91,
     "metadata": {},
     "output_type": "execute_result"
    }
   ],
   "source": [
    "y_train"
   ]
  },
  {
   "cell_type": "code",
   "execution_count": 92,
   "metadata": {},
   "outputs": [],
   "source": [
    "train=X_train\n",
    "test=X_test"
   ]
  },
  {
   "cell_type": "code",
   "execution_count": 93,
   "metadata": {},
   "outputs": [
    {
     "name": "stdout",
     "output_type": "stream",
     "text": [
      "(40730, 27)\n",
      "(17456, 27)\n"
     ]
    }
   ],
   "source": [
    "print(train.shape)\n",
    "\n",
    "print(test.shape)\n"
   ]
  },
  {
   "cell_type": "markdown",
   "metadata": {},
   "source": [
    "### Perceptron Model (MLP) "
   ]
  },
  {
   "cell_type": "code",
   "execution_count": 94,
   "metadata": {},
   "outputs": [],
   "source": [
    "import warnings\n",
    "warnings.filterwarnings('ignore')"
   ]
  },
  {
   "cell_type": "code",
   "execution_count": 87,
   "metadata": {},
   "outputs": [],
   "source": [
    "from sklearn.model_selection import GridSearchCV\n",
    "from keras.models import sequential\n",
    "from keras.layers import Dense\n",
    "from keras.wrappers.scikit_learn import KerasClassifier\n",
    "\n",
    "def create_model(hidnodes):\n",
    "    model = Sequential()\n",
    "    model.add(Dense(hidnodes, input_dim=27, activation='tanh'))\n",
    "    model.add(Dense(1, activation='sigmoid'))\n",
    "    model.compile(loss='binary_crossentropy',optimizer='sgd',\n",
    "                  metrics=['accuracy'])\n",
    "    return model\n",
    "    "
   ]
  },
  {
   "cell_type": "code",
   "execution_count": 88,
   "metadata": {},
   "outputs": [],
   "source": [
    "batch_size = [64]\n",
    "hidnodesgrid =[10,20,30,40]\n",
    "pram_grid = dict(batch_size=batch_size,hidnodes=hidnodesgrid,epochs=[100])"
   ]
  },
  {
   "cell_type": "code",
   "execution_count": 89,
   "metadata": {},
   "outputs": [
    {
     "name": "stderr",
     "output_type": "stream",
     "text": [
      "<ipython-input-89-9b6a0a587bdc>:1: DeprecationWarning: KerasClassifier is deprecated, use Sci-Keras (https://github.com/adriangb/scikeras) instead. See https://www.adriangb.com/scikeras/stable/migration.html for help migrating.\n",
      "  model = KerasClassifier(build_fn = create_model, verbose =0)\n"
     ]
    }
   ],
   "source": [
    "model = KerasClassifier(build_fn = create_model, verbose =0)\n",
    "grid = GridSearchCV(estimator=model,param_grid=pram_grid,return_train_score=True)"
   ]
  },
  {
   "cell_type": "code",
   "execution_count": null,
   "metadata": {},
   "outputs": [],
   "source": []
  },
  {
   "cell_type": "code",
   "execution_count": 90,
   "metadata": {},
   "outputs": [
    {
     "name": "stdout",
     "output_type": "stream",
     "text": [
      "Wall time: 35min 6s\n"
     ]
    }
   ],
   "source": [
    "%time  grid_result = grid.fit(X_train,y_train)"
   ]
  },
  {
   "cell_type": "code",
   "execution_count": 91,
   "metadata": {},
   "outputs": [
    {
     "name": "stdout",
     "output_type": "stream",
     "text": [
      "Best : 0.849669 using {'batch_size': 64, 'epochs': 100, 'hidnodes': 30}\n"
     ]
    }
   ],
   "source": [
    "print(\"Best : %f using %s\" %(grid_result.best_score_,grid_result.best_params_))"
   ]
  },
  {
   "cell_type": "markdown",
   "metadata": {},
   "source": [
    "# Model Building"
   ]
  },
  {
   "cell_type": "code",
   "execution_count": 95,
   "metadata": {},
   "outputs": [],
   "source": [
    "perceptron_model = Sequential()\n",
    "perceptron_model.add(Dense(30, input_dim=27, activation='tanh'))\n",
    "perceptron_model.add(Dense(1, activation='sigmoid'))"
   ]
  },
  {
   "cell_type": "code",
   "execution_count": null,
   "metadata": {},
   "outputs": [],
   "source": []
  },
  {
   "cell_type": "code",
   "execution_count": 96,
   "metadata": {},
   "outputs": [],
   "source": [
    "perceptron_model.compile(loss='binary_crossentropy', \n",
    "                         optimizer='sgd', \n",
    "                         metrics=['accuracy'])"
   ]
  },
  {
   "cell_type": "code",
   "execution_count": 97,
   "metadata": {},
   "outputs": [
    {
     "name": "stdout",
     "output_type": "stream",
     "text": [
      "Model: \"sequential_4\"\n",
      "_________________________________________________________________\n",
      " Layer (type)                Output Shape              Param #   \n",
      "=================================================================\n",
      " dense_8 (Dense)             (None, 30)                840       \n",
      "                                                                 \n",
      " dense_9 (Dense)             (None, 1)                 31        \n",
      "                                                                 \n",
      "=================================================================\n",
      "Total params: 871\n",
      "Trainable params: 871\n",
      "Non-trainable params: 0\n",
      "_________________________________________________________________\n"
     ]
    }
   ],
   "source": [
    "perceptron_model.summary()"
   ]
  },
  {
   "cell_type": "code",
   "execution_count": 98,
   "metadata": {},
   "outputs": [
    {
     "name": "stdout",
     "output_type": "stream",
     "text": [
      "Epoch 1/50\n",
      "1019/1019 [==============================] - 2s 2ms/step - loss: 0.4863 - accuracy: 0.8100 - val_loss: 0.4759 - val_accuracy: 0.8112\n",
      "Epoch 2/50\n",
      "1019/1019 [==============================] - 2s 2ms/step - loss: 0.4728 - accuracy: 0.8121 - val_loss: 0.4704 - val_accuracy: 0.8119\n",
      "Epoch 3/50\n",
      "1019/1019 [==============================] - 1s 1ms/step - loss: 0.4691 - accuracy: 0.8126 - val_loss: 0.4677 - val_accuracy: 0.8119\n",
      "Epoch 4/50\n",
      "1019/1019 [==============================] - 2s 2ms/step - loss: 0.4670 - accuracy: 0.8129 - val_loss: 0.4657 - val_accuracy: 0.8134\n",
      "Epoch 5/50\n",
      "1019/1019 [==============================] - 2s 1ms/step - loss: 0.4653 - accuracy: 0.8134 - val_loss: 0.4643 - val_accuracy: 0.8137\n",
      "Epoch 6/50\n",
      "1019/1019 [==============================] - 2s 2ms/step - loss: 0.4638 - accuracy: 0.8139 - val_loss: 0.4631 - val_accuracy: 0.8139\n",
      "Epoch 7/50\n",
      "1019/1019 [==============================] - 2s 2ms/step - loss: 0.4625 - accuracy: 0.8142 - val_loss: 0.4619 - val_accuracy: 0.8144\n",
      "Epoch 8/50\n",
      "1019/1019 [==============================] - 2s 2ms/step - loss: 0.4615 - accuracy: 0.8145 - val_loss: 0.4607 - val_accuracy: 0.8144\n",
      "Epoch 9/50\n",
      "1019/1019 [==============================] - 2s 1ms/step - loss: 0.4604 - accuracy: 0.8147 - val_loss: 0.4600 - val_accuracy: 0.8145\n",
      "Epoch 10/50\n",
      "1019/1019 [==============================] - 2s 1ms/step - loss: 0.4594 - accuracy: 0.8149 - val_loss: 0.4590 - val_accuracy: 0.8144\n",
      "Epoch 11/50\n",
      "1019/1019 [==============================] - 2s 2ms/step - loss: 0.4585 - accuracy: 0.8154 - val_loss: 0.4581 - val_accuracy: 0.8145\n",
      "Epoch 12/50\n",
      "1019/1019 [==============================] - 2s 2ms/step - loss: 0.4576 - accuracy: 0.8156 - val_loss: 0.4577 - val_accuracy: 0.8144\n",
      "Epoch 13/50\n",
      "1019/1019 [==============================] - 2s 2ms/step - loss: 0.4567 - accuracy: 0.8158 - val_loss: 0.4570 - val_accuracy: 0.8143\n",
      "Epoch 14/50\n",
      "1019/1019 [==============================] - 2s 2ms/step - loss: 0.4559 - accuracy: 0.8158 - val_loss: 0.4561 - val_accuracy: 0.8145\n",
      "Epoch 15/50\n",
      "1019/1019 [==============================] - 2s 2ms/step - loss: 0.4552 - accuracy: 0.8160 - val_loss: 0.4549 - val_accuracy: 0.8146\n",
      "Epoch 16/50\n",
      "1019/1019 [==============================] - 2s 2ms/step - loss: 0.4542 - accuracy: 0.8162 - val_loss: 0.4550 - val_accuracy: 0.8148\n",
      "Epoch 17/50\n",
      "1019/1019 [==============================] - 2s 2ms/step - loss: 0.4535 - accuracy: 0.8161 - val_loss: 0.4534 - val_accuracy: 0.8150\n",
      "Epoch 18/50\n",
      "1019/1019 [==============================] - 2s 2ms/step - loss: 0.4528 - accuracy: 0.8161 - val_loss: 0.4530 - val_accuracy: 0.8155\n",
      "Epoch 19/50\n",
      "1019/1019 [==============================] - 2s 2ms/step - loss: 0.4520 - accuracy: 0.8166 - val_loss: 0.4528 - val_accuracy: 0.8157\n",
      "Epoch 20/50\n",
      "1019/1019 [==============================] - 2s 2ms/step - loss: 0.4513 - accuracy: 0.8167 - val_loss: 0.4516 - val_accuracy: 0.8152\n",
      "Epoch 21/50\n",
      "1019/1019 [==============================] - 2s 2ms/step - loss: 0.4506 - accuracy: 0.8168 - val_loss: 0.4506 - val_accuracy: 0.8157\n",
      "Epoch 22/50\n",
      "1019/1019 [==============================] - 2s 2ms/step - loss: 0.4499 - accuracy: 0.8170 - val_loss: 0.4497 - val_accuracy: 0.8159\n",
      "Epoch 23/50\n",
      "1019/1019 [==============================] - 2s 2ms/step - loss: 0.4492 - accuracy: 0.8172 - val_loss: 0.4492 - val_accuracy: 0.8161\n",
      "Epoch 24/50\n",
      "1019/1019 [==============================] - 2s 2ms/step - loss: 0.4485 - accuracy: 0.8170 - val_loss: 0.4485 - val_accuracy: 0.8162\n",
      "Epoch 25/50\n",
      "1019/1019 [==============================] - 2s 2ms/step - loss: 0.4479 - accuracy: 0.8175 - val_loss: 0.4511 - val_accuracy: 0.8176\n",
      "Epoch 26/50\n",
      "1019/1019 [==============================] - 2s 2ms/step - loss: 0.4473 - accuracy: 0.8178 - val_loss: 0.4485 - val_accuracy: 0.8162\n",
      "Epoch 27/50\n",
      "1019/1019 [==============================] - 2s 2ms/step - loss: 0.4467 - accuracy: 0.8181 - val_loss: 0.4468 - val_accuracy: 0.8164\n",
      "Epoch 28/50\n",
      "1019/1019 [==============================] - 2s 2ms/step - loss: 0.4460 - accuracy: 0.8179 - val_loss: 0.4469 - val_accuracy: 0.8182\n",
      "Epoch 29/50\n",
      "1019/1019 [==============================] - 2s 2ms/step - loss: 0.4454 - accuracy: 0.8182 - val_loss: 0.4455 - val_accuracy: 0.8178\n",
      "Epoch 30/50\n",
      "1019/1019 [==============================] - 2s 2ms/step - loss: 0.4448 - accuracy: 0.8185 - val_loss: 0.4454 - val_accuracy: 0.8184\n",
      "Epoch 31/50\n",
      "1019/1019 [==============================] - 2s 2ms/step - loss: 0.4442 - accuracy: 0.8188 - val_loss: 0.4446 - val_accuracy: 0.8178\n",
      "Epoch 32/50\n",
      "1019/1019 [==============================] - 2s 2ms/step - loss: 0.4438 - accuracy: 0.8188 - val_loss: 0.4450 - val_accuracy: 0.8175\n",
      "Epoch 33/50\n",
      "1019/1019 [==============================] - 2s 2ms/step - loss: 0.4428 - accuracy: 0.8191 - val_loss: 0.4432 - val_accuracy: 0.8186\n",
      "Epoch 34/50\n",
      "1019/1019 [==============================] - 2s 2ms/step - loss: 0.4426 - accuracy: 0.8191 - val_loss: 0.4444 - val_accuracy: 0.8189\n",
      "Epoch 35/50\n",
      "1019/1019 [==============================] - 2s 2ms/step - loss: 0.4419 - accuracy: 0.8189 - val_loss: 0.4419 - val_accuracy: 0.8186\n",
      "Epoch 36/50\n",
      "1019/1019 [==============================] - 2s 2ms/step - loss: 0.4415 - accuracy: 0.8190 - val_loss: 0.4414 - val_accuracy: 0.8189\n",
      "Epoch 37/50\n",
      "1019/1019 [==============================] - 2s 2ms/step - loss: 0.4409 - accuracy: 0.8191 - val_loss: 0.4417 - val_accuracy: 0.8183\n",
      "Epoch 38/50\n",
      "1019/1019 [==============================] - 2s 2ms/step - loss: 0.4402 - accuracy: 0.8193 - val_loss: 0.4406 - val_accuracy: 0.8191\n",
      "Epoch 39/50\n",
      "1019/1019 [==============================] - 2s 2ms/step - loss: 0.4399 - accuracy: 0.8195 - val_loss: 0.4402 - val_accuracy: 0.8188\n",
      "Epoch 40/50\n",
      "1019/1019 [==============================] - 2s 2ms/step - loss: 0.4393 - accuracy: 0.8195 - val_loss: 0.4391 - val_accuracy: 0.8191\n",
      "Epoch 41/50\n",
      "1019/1019 [==============================] - 2s 2ms/step - loss: 0.4388 - accuracy: 0.8194 - val_loss: 0.4387 - val_accuracy: 0.8188\n",
      "Epoch 42/50\n",
      "1019/1019 [==============================] - 2s 2ms/step - loss: 0.4383 - accuracy: 0.8196 - val_loss: 0.4383 - val_accuracy: 0.8187\n",
      "Epoch 43/50\n",
      "1019/1019 [==============================] - 2s 2ms/step - loss: 0.4376 - accuracy: 0.8198 - val_loss: 0.4378 - val_accuracy: 0.8191\n",
      "Epoch 44/50\n",
      "1019/1019 [==============================] - 2s 2ms/step - loss: 0.4372 - accuracy: 0.8199 - val_loss: 0.4371 - val_accuracy: 0.8189\n",
      "Epoch 45/50\n",
      "1019/1019 [==============================] - 2s 2ms/step - loss: 0.4367 - accuracy: 0.8198 - val_loss: 0.4363 - val_accuracy: 0.8199\n",
      "Epoch 46/50\n",
      "1019/1019 [==============================] - 2s 2ms/step - loss: 0.4362 - accuracy: 0.8202 - val_loss: 0.4358 - val_accuracy: 0.8193\n",
      "Epoch 47/50\n",
      "1019/1019 [==============================] - 2s 2ms/step - loss: 0.4356 - accuracy: 0.8201 - val_loss: 0.4377 - val_accuracy: 0.8187\n",
      "Epoch 48/50\n",
      "1019/1019 [==============================] - 2s 2ms/step - loss: 0.4350 - accuracy: 0.8202 - val_loss: 0.4346 - val_accuracy: 0.8193\n",
      "Epoch 49/50\n",
      "1019/1019 [==============================] - 2s 2ms/step - loss: 0.4348 - accuracy: 0.8202 - val_loss: 0.4340 - val_accuracy: 0.8195\n",
      "Epoch 50/50\n",
      "1019/1019 [==============================] - 2s 2ms/step - loss: 0.4342 - accuracy: 0.8210 - val_loss: 0.4341 - val_accuracy: 0.8199\n"
     ]
    }
   ],
   "source": [
    "perceptron_model_history = perceptron_model.fit(train, \n",
    "                                                y_train, \n",
    "                                                epochs=50, \n",
    "                                                batch_size=32, \n",
    "                                                validation_split=0.2)"
   ]
  },
  {
   "cell_type": "code",
   "execution_count": 99,
   "metadata": {},
   "outputs": [],
   "source": [
    "# lets write a function to get the metrics & loss plots\n",
    "\n",
    "def plot(model_history, plot_type):\n",
    "    val_type = \"val_\"+plot_type\n",
    "    plt.plot(model_history.history[plot_type])\n",
    "    plt.plot(model_history.history[val_type])\n",
    "    plt.title('Accuracy Plot')\n",
    "    plt.xlabel('Epoch')\n",
    "    plt.legend(['Train', 'Validation'])\n",
    "    plt.show()"
   ]
  },
  {
   "cell_type": "code",
   "execution_count": 100,
   "metadata": {},
   "outputs": [
    {
     "data": {
      "text/plain": [
       "<keras.engine.sequential.Sequential at 0x177f3804760>"
      ]
     },
     "execution_count": 100,
     "metadata": {},
     "output_type": "execute_result"
    }
   ],
   "source": [
    "perceptron_model"
   ]
  },
  {
   "cell_type": "code",
   "execution_count": 101,
   "metadata": {},
   "outputs": [
    {
     "name": "stdout",
     "output_type": "stream",
     "text": [
      "dict_keys(['loss', 'accuracy', 'val_loss', 'val_accuracy'])\n"
     ]
    }
   ],
   "source": [
    "print(perceptron_model_history.history.keys())"
   ]
  },
  {
   "cell_type": "code",
   "execution_count": 102,
   "metadata": {},
   "outputs": [
    {
     "data": {
      "image/png": "[encoded data removed]",
      "text/plain": [
       "<Figure size 432x288 with 1 Axes>"
      ]
     },
     "metadata": {
      "needs_background": "light"
     },
     "output_type": "display_data"
    }
   ],
   "source": [
    "plot(perceptron_model_history, 'accuracy')"
   ]
  },
  {
   "cell_type": "code",
   "execution_count": 103,
   "metadata": {},
   "outputs": [
    {
     "data": {
      "image/png": "[encoded data removed]",
      "text/plain": [
       "<Figure size 432x288 with 1 Axes>"
      ]
     },
     "metadata": {
      "needs_background": "light"
     },
     "output_type": "display_data"
    }
   ],
   "source": [
    "plot(perceptron_model_history, 'loss')"
   ]
  },
  {
   "cell_type": "code",
   "execution_count": 104,
   "metadata": {},
   "outputs": [],
   "source": [
    "# Function for Classification Report\n",
    "from sklearn.metrics import accuracy_score,classification_report\n",
    "def classifcation_report_train_test(y_train, y_train_pred, y_test, y_test_pred):\n",
    "\n",
    "    print('''\n",
    "            =========================================\n",
    "               CLASSIFICATION REPORT FOR TRAIN DATA\n",
    "            =========================================\n",
    "            ''')\n",
    "    print(classification_report(y_train, y_train_pred, digits=4))\n",
    "\n",
    "    print('''\n",
    "            =========================================\n",
    "               CLASSIFICATION REPORT FOR TEST DATA\n",
    "            =========================================\n",
    "            ''')\n",
    "    print(classification_report(y_test, y_test_pred, digits=4))"
   ]
  },
  {
   "cell_type": "code",
   "execution_count": 105,
   "metadata": {},
   "outputs": [],
   "source": [
    "y_train_Pred = (perceptron_model.predict(X_train)>0.5).astype(\"int32\")\n",
    "y_test_Pred = (perceptron_model.predict(X_test)>0.5).astype(\"int32\")"
   ]
  },
  {
   "cell_type": "code",
   "execution_count": 106,
   "metadata": {},
   "outputs": [
    {
     "name": "stdout",
     "output_type": "stream",
     "text": [
      "\n",
      "            =========================================\n",
      "               CLASSIFICATION REPORT FOR TRAIN DATA\n",
      "            =========================================\n",
      "            \n",
      "              precision    recall  f1-score   support\n",
      "\n",
      "           0     0.8228    0.9930    0.8999     33067\n",
      "           1     0.7169    0.0770    0.1391      7663\n",
      "\n",
      "    accuracy                         0.8206     40730\n",
      "   macro avg     0.7698    0.5350    0.5195     40730\n",
      "weighted avg     0.8028    0.8206    0.7567     40730\n",
      "\n",
      "\n",
      "            =========================================\n",
      "               CLASSIFICATION REPORT FOR TEST DATA\n",
      "            =========================================\n",
      "            \n",
      "              precision    recall  f1-score   support\n",
      "\n",
      "           0     0.8252    0.9907    0.9004     14150\n",
      "           1     0.7186    0.1019    0.1785      3306\n",
      "\n",
      "    accuracy                         0.8224     17456\n",
      "   macro avg     0.7719    0.5463    0.5395     17456\n",
      "weighted avg     0.8050    0.8224    0.7637     17456\n",
      "\n"
     ]
    }
   ],
   "source": [
    "classifcation_report_train_test(y_train, y_train_Pred, y_test, y_test_Pred)"
   ]
  },
  {
   "cell_type": "markdown",
   "metadata": {},
   "source": [
    "### Perceptron Model (MLP with 40 Neuron in Hidden Layer)"
   ]
  },
  {
   "cell_type": "code",
   "execution_count": 107,
   "metadata": {},
   "outputs": [],
   "source": [
    "mlp_model = Sequential()\n",
    "mlp_model.add(Dense(40, input_dim=27, activation='tanh'))\n",
    "mlp_model.add(Dense(1, activation='sigmoid'))"
   ]
  },
  {
   "cell_type": "code",
   "execution_count": 108,
   "metadata": {},
   "outputs": [
    {
     "name": "stdout",
     "output_type": "stream",
     "text": [
      "Epoch 1/50\n",
      "1019/1019 [==============================] - 2s 2ms/step - loss: 0.4903 - accuracy: 0.8006 - val_loss: 0.4725 - val_accuracy: 0.8107\n",
      "Epoch 2/50\n",
      "1019/1019 [==============================] - 2s 2ms/step - loss: 0.4701 - accuracy: 0.8119 - val_loss: 0.4680 - val_accuracy: 0.8113\n",
      "Epoch 3/50\n",
      "1019/1019 [==============================] - 2s 1ms/step - loss: 0.4665 - accuracy: 0.8125 - val_loss: 0.4676 - val_accuracy: 0.8125\n",
      "Epoch 4/50\n",
      "1019/1019 [==============================] - 2s 1ms/step - loss: 0.4647 - accuracy: 0.8130 - val_loss: 0.4641 - val_accuracy: 0.8130\n",
      "Epoch 5/50\n",
      "1019/1019 [==============================] - 2s 1ms/step - loss: 0.4633 - accuracy: 0.8136 - val_loss: 0.4626 - val_accuracy: 0.8133\n",
      "Epoch 6/50\n",
      "1019/1019 [==============================] - 2s 2ms/step - loss: 0.4620 - accuracy: 0.8138 - val_loss: 0.4617 - val_accuracy: 0.8134\n",
      "Epoch 7/50\n",
      "1019/1019 [==============================] - 2s 2ms/step - loss: 0.4609 - accuracy: 0.8141 - val_loss: 0.4604 - val_accuracy: 0.8141\n",
      "Epoch 8/50\n",
      "1019/1019 [==============================] - 2s 2ms/step - loss: 0.4598 - accuracy: 0.8145 - val_loss: 0.4596 - val_accuracy: 0.8144\n",
      "Epoch 9/50\n",
      "1019/1019 [==============================] - 2s 2ms/step - loss: 0.4588 - accuracy: 0.8148 - val_loss: 0.4586 - val_accuracy: 0.8144\n",
      "Epoch 10/50\n",
      "1019/1019 [==============================] - 2s 2ms/step - loss: 0.4579 - accuracy: 0.8149 - val_loss: 0.4591 - val_accuracy: 0.8144\n",
      "Epoch 11/50\n",
      "1019/1019 [==============================] - 2s 2ms/step - loss: 0.4572 - accuracy: 0.8152 - val_loss: 0.4574 - val_accuracy: 0.8141\n",
      "Epoch 12/50\n",
      "1019/1019 [==============================] - 2s 2ms/step - loss: 0.4563 - accuracy: 0.8155 - val_loss: 0.4568 - val_accuracy: 0.8143\n",
      "Epoch 13/50\n",
      "1019/1019 [==============================] - 2s 2ms/step - loss: 0.4554 - accuracy: 0.8158 - val_loss: 0.4555 - val_accuracy: 0.8144\n",
      "Epoch 14/50\n",
      "1019/1019 [==============================] - 2s 2ms/step - loss: 0.4547 - accuracy: 0.8159 - val_loss: 0.4554 - val_accuracy: 0.8144\n",
      "Epoch 15/50\n",
      "1019/1019 [==============================] - 2s 2ms/step - loss: 0.4539 - accuracy: 0.8163 - val_loss: 0.4540 - val_accuracy: 0.8143\n",
      "Epoch 16/50\n",
      "1019/1019 [==============================] - 2s 2ms/step - loss: 0.4533 - accuracy: 0.8160 - val_loss: 0.4534 - val_accuracy: 0.8141\n",
      "Epoch 17/50\n",
      "1019/1019 [==============================] - 2s 2ms/step - loss: 0.4525 - accuracy: 0.8163 - val_loss: 0.4527 - val_accuracy: 0.8146\n",
      "Epoch 18/50\n",
      "1019/1019 [==============================] - 2s 2ms/step - loss: 0.4519 - accuracy: 0.8164 - val_loss: 0.4542 - val_accuracy: 0.8155\n",
      "Epoch 19/50\n",
      "1019/1019 [==============================] - 2s 2ms/step - loss: 0.4513 - accuracy: 0.8165 - val_loss: 0.4514 - val_accuracy: 0.8154\n",
      "Epoch 20/50\n",
      "1019/1019 [==============================] - 2s 2ms/step - loss: 0.4505 - accuracy: 0.8170 - val_loss: 0.4514 - val_accuracy: 0.8151\n",
      "Epoch 21/50\n",
      "1019/1019 [==============================] - 2s 2ms/step - loss: 0.4500 - accuracy: 0.8170 - val_loss: 0.4515 - val_accuracy: 0.8161\n",
      "Epoch 22/50\n",
      "1019/1019 [==============================] - 2s 2ms/step - loss: 0.4488 - accuracy: 0.8169 - val_loss: 0.4498 - val_accuracy: 0.8154\n",
      "Epoch 23/50\n",
      "1019/1019 [==============================] - 2s 2ms/step - loss: 0.4485 - accuracy: 0.8171 - val_loss: 0.4488 - val_accuracy: 0.8157\n",
      "Epoch 24/50\n",
      "1019/1019 [==============================] - 2s 2ms/step - loss: 0.4477 - accuracy: 0.8173 - val_loss: 0.4499 - val_accuracy: 0.8156\n",
      "Epoch 25/50\n",
      "1019/1019 [==============================] - 2s 2ms/step - loss: 0.4472 - accuracy: 0.8175 - val_loss: 0.4478 - val_accuracy: 0.8162\n",
      "Epoch 26/50\n",
      "1019/1019 [==============================] - 2s 2ms/step - loss: 0.4466 - accuracy: 0.8175 - val_loss: 0.4478 - val_accuracy: 0.8170\n",
      "Epoch 27/50\n",
      "1019/1019 [==============================] - 2s 2ms/step - loss: 0.4459 - accuracy: 0.8177 - val_loss: 0.4471 - val_accuracy: 0.8165\n",
      "Epoch 28/50\n",
      "1019/1019 [==============================] - 2s 2ms/step - loss: 0.4454 - accuracy: 0.8177 - val_loss: 0.4476 - val_accuracy: 0.8165\n",
      "Epoch 29/50\n",
      "1019/1019 [==============================] - 2s 2ms/step - loss: 0.4448 - accuracy: 0.8180 - val_loss: 0.4456 - val_accuracy: 0.8171\n",
      "Epoch 30/50\n",
      "1019/1019 [==============================] - 2s 2ms/step - loss: 0.4442 - accuracy: 0.8183 - val_loss: 0.4445 - val_accuracy: 0.8170\n",
      "Epoch 31/50\n",
      "1019/1019 [==============================] - 2s 2ms/step - loss: 0.4436 - accuracy: 0.8182 - val_loss: 0.4440 - val_accuracy: 0.8171\n",
      "Epoch 32/50\n",
      "1019/1019 [==============================] - 2s 2ms/step - loss: 0.4430 - accuracy: 0.8184 - val_loss: 0.4445 - val_accuracy: 0.8173\n",
      "Epoch 33/50\n",
      "1019/1019 [==============================] - 2s 2ms/step - loss: 0.4424 - accuracy: 0.8187 - val_loss: 0.4428 - val_accuracy: 0.8173\n",
      "Epoch 34/50\n",
      "1019/1019 [==============================] - 2s 2ms/step - loss: 0.4418 - accuracy: 0.8190 - val_loss: 0.4430 - val_accuracy: 0.8178\n",
      "Epoch 35/50\n",
      "1019/1019 [==============================] - 2s 2ms/step - loss: 0.4413 - accuracy: 0.8189 - val_loss: 0.4434 - val_accuracy: 0.8181\n",
      "Epoch 36/50\n",
      "1019/1019 [==============================] - 2s 2ms/step - loss: 0.4407 - accuracy: 0.8193 - val_loss: 0.4409 - val_accuracy: 0.8178\n",
      "Epoch 37/50\n",
      "1019/1019 [==============================] - 2s 2ms/step - loss: 0.4401 - accuracy: 0.8191 - val_loss: 0.4423 - val_accuracy: 0.8173\n",
      "Epoch 38/50\n",
      "1019/1019 [==============================] - 2s 2ms/step - loss: 0.4394 - accuracy: 0.8192 - val_loss: 0.4400 - val_accuracy: 0.8175\n",
      "Epoch 39/50\n",
      "1019/1019 [==============================] - 2s 2ms/step - loss: 0.4390 - accuracy: 0.8192 - val_loss: 0.4412 - val_accuracy: 0.8175\n",
      "Epoch 40/50\n",
      "1019/1019 [==============================] - 2s 2ms/step - loss: 0.4386 - accuracy: 0.8194 - val_loss: 0.4404 - val_accuracy: 0.8191\n",
      "Epoch 41/50\n",
      "1019/1019 [==============================] - 2s 2ms/step - loss: 0.4380 - accuracy: 0.8196 - val_loss: 0.4393 - val_accuracy: 0.8181\n",
      "Epoch 42/50\n",
      "1019/1019 [==============================] - 2s 2ms/step - loss: 0.4374 - accuracy: 0.8197 - val_loss: 0.4414 - val_accuracy: 0.8193\n",
      "Epoch 43/50\n",
      "1019/1019 [==============================] - 2s 2ms/step - loss: 0.4367 - accuracy: 0.8195 - val_loss: 0.4374 - val_accuracy: 0.8187\n",
      "Epoch 44/50\n",
      "1019/1019 [==============================] - 2s 2ms/step - loss: 0.4362 - accuracy: 0.8198 - val_loss: 0.4394 - val_accuracy: 0.8178\n",
      "Epoch 45/50\n",
      "1019/1019 [==============================] - 2s 2ms/step - loss: 0.4358 - accuracy: 0.8199 - val_loss: 0.4369 - val_accuracy: 0.8179\n",
      "Epoch 46/50\n",
      "1019/1019 [==============================] - 2s 2ms/step - loss: 0.4354 - accuracy: 0.8202 - val_loss: 0.4400 - val_accuracy: 0.8177\n",
      "Epoch 47/50\n",
      "1019/1019 [==============================] - 2s 2ms/step - loss: 0.4350 - accuracy: 0.8201 - val_loss: 0.4379 - val_accuracy: 0.8200\n",
      "Epoch 48/50\n",
      "1019/1019 [==============================] - 2s 2ms/step - loss: 0.4342 - accuracy: 0.8202 - val_loss: 0.4364 - val_accuracy: 0.8195\n",
      "Epoch 49/50\n",
      "1019/1019 [==============================] - 2s 2ms/step - loss: 0.4340 - accuracy: 0.8202 - val_loss: 0.4346 - val_accuracy: 0.8195\n",
      "Epoch 50/50\n",
      "1019/1019 [==============================] - 2s 2ms/step - loss: 0.4336 - accuracy: 0.8205 - val_loss: 0.4384 - val_accuracy: 0.8187\n"
     ]
    }
   ],
   "source": [
    "mlp_model.compile(loss='binary_crossentropy', optimizer='SGD', metrics=['accuracy'])\n",
    "x=mlp_model.fit(train, y_train, epochs=50, batch_size=32,validation_split=0.2)"
   ]
  },
  {
   "cell_type": "code",
   "execution_count": 109,
   "metadata": {},
   "outputs": [
    {
     "name": "stdout",
     "output_type": "stream",
     "text": [
      "        loss  accuracy  val_loss  val_accuracy\n",
      "0   0.490292  0.800577  0.472518      0.810705\n",
      "1   0.470061  0.811932  0.468040      0.811318\n",
      "2   0.466530  0.812485  0.467624      0.812546\n",
      "3   0.464731  0.813037  0.464148      0.813037\n",
      "4   0.463259  0.813559  0.462572      0.813283\n",
      "5   0.462033  0.813804  0.461661      0.813405\n",
      "6   0.460863  0.814111  0.460412      0.814142\n",
      "7   0.459785  0.814541  0.459572      0.814387\n",
      "8   0.458833  0.814786  0.458560      0.814387\n",
      "9   0.457899  0.814940  0.459116      0.814387\n",
      "10  0.457221  0.815185  0.457439      0.814142\n",
      "11  0.456325  0.815492  0.456825      0.814265\n",
      "12  0.455444  0.815830  0.455491      0.814387\n",
      "13  0.454741  0.815922  0.455430      0.814387\n",
      "14  0.453904  0.816260  0.454045      0.814265\n",
      "15  0.453268  0.815983  0.453359      0.814142\n",
      "16  0.452534  0.816260  0.452738      0.814633\n",
      "17  0.451907  0.816352  0.454249      0.815492\n",
      "18  0.451254  0.816536  0.451375      0.815369\n",
      "19  0.450528  0.816965  0.451386      0.815124\n",
      "20  0.449958  0.816996  0.451459      0.816106\n",
      "21  0.448849  0.816873  0.449848      0.815369\n",
      "22  0.448502  0.817057  0.448770      0.815738\n",
      "23  0.447706  0.817272  0.449890      0.815615\n",
      "24  0.447200  0.817518  0.447816      0.816229\n",
      "25  0.446575  0.817518  0.447779      0.816965\n",
      "26  0.445896  0.817702  0.447058      0.816474\n",
      "27  0.445418  0.817671  0.447627      0.816474\n",
      "28  0.444769  0.817978  0.445602      0.817088\n",
      "29  0.444228  0.818316  0.444544      0.816965\n",
      "30  0.443610  0.818224  0.444007      0.817088\n",
      "31  0.443021  0.818377  0.444450      0.817334\n",
      "32  0.442433  0.818745  0.442806      0.817334\n",
      "33  0.441804  0.819022  0.442965      0.817825\n",
      "34  0.441256  0.818930  0.443377      0.818070\n",
      "35  0.440738  0.819298  0.440910      0.817825\n",
      "36  0.440105  0.819144  0.442265      0.817334\n",
      "37  0.439445  0.819206  0.440000      0.817456\n",
      "38  0.438976  0.819236  0.441161      0.817456\n",
      "39  0.438563  0.819359  0.440434      0.819052\n",
      "40  0.437977  0.819605  0.439335      0.818070\n",
      "41  0.437351  0.819697  0.441367      0.819298\n",
      "42  0.436718  0.819543  0.437356      0.818684\n",
      "43  0.436231  0.819789  0.439405      0.817825\n",
      "44  0.435842  0.819881  0.436942      0.817947\n",
      "45  0.435376  0.820249  0.440007      0.817702\n",
      "46  0.434996  0.820096  0.437857      0.820034\n",
      "47  0.434166  0.820188  0.436438      0.819543\n",
      "48  0.434016  0.820219  0.434580      0.819543\n",
      "49  0.433649  0.820464  0.438353      0.818684\n",
      "dict_keys(['loss', 'accuracy', 'val_loss', 'val_accuracy'])\n"
     ]
    }
   ],
   "source": [
    "print(pd.DataFrame(x.history))\n",
    "print(x.history.keys())"
   ]
  },
  {
   "cell_type": "code",
   "execution_count": 110,
   "metadata": {},
   "outputs": [
    {
     "data": {
      "text/plain": [
       "<keras.engine.sequential.Sequential at 0x177f3733a90>"
      ]
     },
     "execution_count": 110,
     "metadata": {},
     "output_type": "execute_result"
    }
   ],
   "source": [
    "mlp_model"
   ]
  },
  {
   "cell_type": "code",
   "execution_count": 111,
   "metadata": {},
   "outputs": [
    {
     "name": "stdout",
     "output_type": "stream",
     "text": [
      "dict_keys(['loss', 'accuracy', 'val_loss', 'val_accuracy'])\n"
     ]
    }
   ],
   "source": [
    "print(x.history.keys())"
   ]
  },
  {
   "cell_type": "code",
   "execution_count": 112,
   "metadata": {},
   "outputs": [
    {
     "data": {
      "image/png": "[encoded data removed]",
      "text/plain": [
       "<Figure size 432x288 with 1 Axes>"
      ]
     },
     "metadata": {
      "needs_background": "light"
     },
     "output_type": "display_data"
    }
   ],
   "source": [
    "plot(x, 'accuracy')"
   ]
  },
  {
   "cell_type": "code",
   "execution_count": 113,
   "metadata": {},
   "outputs": [
    {
     "data": {
      "image/png": "[encoded data removed]",
      "text/plain": [
       "<Figure size 432x288 with 1 Axes>"
      ]
     },
     "metadata": {
      "needs_background": "light"
     },
     "output_type": "display_data"
    }
   ],
   "source": [
    "plot(x, 'loss')"
   ]
  },
  {
   "cell_type": "markdown",
   "metadata": {},
   "source": [
    "#### Predictions"
   ]
  },
  {
   "cell_type": "code",
   "execution_count": 114,
   "metadata": {},
   "outputs": [],
   "source": [
    "y_train_Pred = (mlp_model.predict(X_train)>0.5).astype(\"int32\")\n",
    "y_test_Pred = (mlp_model.predict(X_test)>0.5).astype(\"int32\")"
   ]
  },
  {
   "cell_type": "code",
   "execution_count": 115,
   "metadata": {},
   "outputs": [
    {
     "name": "stdout",
     "output_type": "stream",
     "text": [
      "\n",
      "            =========================================\n",
      "               CLASSIFICATION REPORT FOR TRAIN DATA\n",
      "            =========================================\n",
      "            \n",
      "              precision    recall  f1-score   support\n",
      "\n",
      "           0     0.8212    0.9944    0.8995     33067\n",
      "           1     0.7304    0.0658    0.1207      7663\n",
      "\n",
      "    accuracy                         0.8197     40730\n",
      "   macro avg     0.7758    0.5301    0.5101     40730\n",
      "weighted avg     0.8041    0.8197    0.7530     40730\n",
      "\n",
      "\n",
      "            =========================================\n",
      "               CLASSIFICATION REPORT FOR TEST DATA\n",
      "            =========================================\n",
      "            \n",
      "              precision    recall  f1-score   support\n",
      "\n",
      "           0     0.8225    0.9929    0.8997     14150\n",
      "           1     0.7307    0.0829    0.1489      3306\n",
      "\n",
      "    accuracy                         0.8205     17456\n",
      "   macro avg     0.7766    0.5379    0.5243     17456\n",
      "weighted avg     0.8051    0.8205    0.7575     17456\n",
      "\n"
     ]
    }
   ],
   "source": [
    "classifcation_report_train_test(y_train, y_train_Pred, y_test, y_test_Pred)"
   ]
  },
  {
   "cell_type": "markdown",
   "metadata": {},
   "source": [
    "### Perceptron Model (MLP with 1 Neuron in Hidden Layer)"
   ]
  },
  {
   "cell_type": "code",
   "execution_count": 116,
   "metadata": {},
   "outputs": [],
   "source": [
    "mlp_model1 = Sequential()\n",
    "mlp_model1.add(Dense(16, input_dim=27, activation='tanh'))\n",
    "mlp_model1.add(Dense(1, activation='sigmoid'))"
   ]
  },
  {
   "cell_type": "code",
   "execution_count": 117,
   "metadata": {},
   "outputs": [
    {
     "name": "stdout",
     "output_type": "stream",
     "text": [
      "Epoch 1/50\n",
      "1019/1019 [==============================] - 2s 2ms/step - loss: 0.4888 - accuracy: 0.8046 - val_loss: 0.4776 - val_accuracy: 0.8108\n",
      "Epoch 2/50\n",
      "1019/1019 [==============================] - 2s 2ms/step - loss: 0.4735 - accuracy: 0.8122 - val_loss: 0.4711 - val_accuracy: 0.8117\n",
      "Epoch 3/50\n",
      "1019/1019 [==============================] - 2s 2ms/step - loss: 0.4693 - accuracy: 0.8123 - val_loss: 0.4683 - val_accuracy: 0.8123\n",
      "Epoch 4/50\n",
      "1019/1019 [==============================] - 2s 2ms/step - loss: 0.4670 - accuracy: 0.8124 - val_loss: 0.4667 - val_accuracy: 0.8133\n",
      "Epoch 5/50\n",
      "1019/1019 [==============================] - 2s 2ms/step - loss: 0.4654 - accuracy: 0.8130 - val_loss: 0.4655 - val_accuracy: 0.8130\n",
      "Epoch 6/50\n",
      "1019/1019 [==============================] - 2s 2ms/step - loss: 0.4639 - accuracy: 0.8136 - val_loss: 0.4636 - val_accuracy: 0.8134\n",
      "Epoch 7/50\n",
      "1019/1019 [==============================] - 2s 2ms/step - loss: 0.4626 - accuracy: 0.8140 - val_loss: 0.4626 - val_accuracy: 0.8134\n",
      "Epoch 8/50\n",
      "1019/1019 [==============================] - 2s 1ms/step - loss: 0.4615 - accuracy: 0.8145 - val_loss: 0.4613 - val_accuracy: 0.8141\n",
      "Epoch 9/50\n",
      "1019/1019 [==============================] - 2s 1ms/step - loss: 0.4605 - accuracy: 0.8148 - val_loss: 0.4602 - val_accuracy: 0.8148\n",
      "Epoch 10/50\n",
      "1019/1019 [==============================] - 2s 1ms/step - loss: 0.4593 - accuracy: 0.8150 - val_loss: 0.4593 - val_accuracy: 0.8149\n",
      "Epoch 11/50\n",
      "1019/1019 [==============================] - 2s 2ms/step - loss: 0.4584 - accuracy: 0.8152 - val_loss: 0.4585 - val_accuracy: 0.8148\n",
      "Epoch 12/50\n",
      "1019/1019 [==============================] - 1s 1ms/step - loss: 0.4575 - accuracy: 0.8156 - val_loss: 0.4579 - val_accuracy: 0.8146\n",
      "Epoch 13/50\n",
      "1019/1019 [==============================] - 2s 1ms/step - loss: 0.4564 - accuracy: 0.8155 - val_loss: 0.4577 - val_accuracy: 0.8146\n",
      "Epoch 14/50\n",
      "1019/1019 [==============================] - 2s 1ms/step - loss: 0.4556 - accuracy: 0.8158 - val_loss: 0.4557 - val_accuracy: 0.8146\n",
      "Epoch 15/50\n",
      "1019/1019 [==============================] - 2s 1ms/step - loss: 0.4547 - accuracy: 0.8160 - val_loss: 0.4551 - val_accuracy: 0.8145\n",
      "Epoch 16/50\n",
      "1019/1019 [==============================] - 2s 2ms/step - loss: 0.4538 - accuracy: 0.8161 - val_loss: 0.4541 - val_accuracy: 0.8149\n",
      "Epoch 17/50\n",
      "1019/1019 [==============================] - 2s 1ms/step - loss: 0.4529 - accuracy: 0.8162 - val_loss: 0.4544 - val_accuracy: 0.8149\n",
      "Epoch 18/50\n",
      "1019/1019 [==============================] - 2s 1ms/step - loss: 0.4521 - accuracy: 0.8166 - val_loss: 0.4530 - val_accuracy: 0.8154\n",
      "Epoch 19/50\n",
      "1019/1019 [==============================] - 2s 2ms/step - loss: 0.4513 - accuracy: 0.8167 - val_loss: 0.4517 - val_accuracy: 0.8151\n",
      "Epoch 20/50\n",
      "1019/1019 [==============================] - 2s 1ms/step - loss: 0.4508 - accuracy: 0.8165 - val_loss: 0.4514 - val_accuracy: 0.8154\n",
      "Epoch 21/50\n",
      "1019/1019 [==============================] - 2s 1ms/step - loss: 0.4498 - accuracy: 0.8166 - val_loss: 0.4506 - val_accuracy: 0.8159\n",
      "Epoch 22/50\n",
      "1019/1019 [==============================] - 2s 1ms/step - loss: 0.4493 - accuracy: 0.8169 - val_loss: 0.4499 - val_accuracy: 0.8160\n",
      "Epoch 23/50\n",
      "1019/1019 [==============================] - 2s 2ms/step - loss: 0.4485 - accuracy: 0.8173 - val_loss: 0.4489 - val_accuracy: 0.8159\n",
      "Epoch 24/50\n",
      "1019/1019 [==============================] - 2s 2ms/step - loss: 0.4477 - accuracy: 0.8172 - val_loss: 0.4500 - val_accuracy: 0.8161\n",
      "Epoch 25/50\n",
      "1019/1019 [==============================] - 2s 2ms/step - loss: 0.4470 - accuracy: 0.8174 - val_loss: 0.4475 - val_accuracy: 0.8160\n",
      "Epoch 26/50\n",
      "1019/1019 [==============================] - 2s 2ms/step - loss: 0.4462 - accuracy: 0.8175 - val_loss: 0.4470 - val_accuracy: 0.8166\n",
      "Epoch 27/50\n",
      "1019/1019 [==============================] - 2s 2ms/step - loss: 0.4457 - accuracy: 0.8178 - val_loss: 0.4472 - val_accuracy: 0.8175\n",
      "Epoch 28/50\n",
      "1019/1019 [==============================] - 2s 2ms/step - loss: 0.4451 - accuracy: 0.8180 - val_loss: 0.4456 - val_accuracy: 0.8170\n",
      "Epoch 29/50\n",
      "1019/1019 [==============================] - 2s 2ms/step - loss: 0.4444 - accuracy: 0.8179 - val_loss: 0.4450 - val_accuracy: 0.8168\n",
      "Epoch 30/50\n",
      "1019/1019 [==============================] - 2s 2ms/step - loss: 0.4438 - accuracy: 0.8183 - val_loss: 0.4444 - val_accuracy: 0.8173\n",
      "Epoch 31/50\n",
      "1019/1019 [==============================] - 2s 2ms/step - loss: 0.4431 - accuracy: 0.8185 - val_loss: 0.4452 - val_accuracy: 0.8176\n",
      "Epoch 32/50\n",
      "1019/1019 [==============================] - 2s 2ms/step - loss: 0.4426 - accuracy: 0.8189 - val_loss: 0.4434 - val_accuracy: 0.8175\n",
      "Epoch 33/50\n",
      "1019/1019 [==============================] - 2s 2ms/step - loss: 0.4420 - accuracy: 0.8188 - val_loss: 0.4425 - val_accuracy: 0.8173\n",
      "Epoch 34/50\n",
      "1019/1019 [==============================] - 2s 2ms/step - loss: 0.4412 - accuracy: 0.8191 - val_loss: 0.4456 - val_accuracy: 0.8173\n",
      "Epoch 35/50\n",
      "1019/1019 [==============================] - 2s 2ms/step - loss: 0.4407 - accuracy: 0.8192 - val_loss: 0.4416 - val_accuracy: 0.8178\n",
      "Epoch 36/50\n",
      "1019/1019 [==============================] - 2s 1ms/step - loss: 0.4403 - accuracy: 0.8192 - val_loss: 0.4424 - val_accuracy: 0.8187\n",
      "Epoch 37/50\n",
      "1019/1019 [==============================] - 2s 1ms/step - loss: 0.4397 - accuracy: 0.8196 - val_loss: 0.4407 - val_accuracy: 0.8175\n",
      "Epoch 38/50\n",
      "1019/1019 [==============================] - 2s 1ms/step - loss: 0.4392 - accuracy: 0.8197 - val_loss: 0.4410 - val_accuracy: 0.8175\n",
      "Epoch 39/50\n",
      "1019/1019 [==============================] - 2s 2ms/step - loss: 0.4386 - accuracy: 0.8196 - val_loss: 0.4392 - val_accuracy: 0.8176\n",
      "Epoch 40/50\n",
      "1019/1019 [==============================] - 2s 2ms/step - loss: 0.4380 - accuracy: 0.8200 - val_loss: 0.4393 - val_accuracy: 0.8188\n",
      "Epoch 41/50\n",
      "1019/1019 [==============================] - 2s 1ms/step - loss: 0.4376 - accuracy: 0.8200 - val_loss: 0.4391 - val_accuracy: 0.8191\n",
      "Epoch 42/50\n",
      "1019/1019 [==============================] - 2s 2ms/step - loss: 0.4370 - accuracy: 0.8200 - val_loss: 0.4402 - val_accuracy: 0.8181\n",
      "Epoch 43/50\n",
      "1019/1019 [==============================] - 2s 1ms/step - loss: 0.4363 - accuracy: 0.8201 - val_loss: 0.4397 - val_accuracy: 0.8182\n",
      "Epoch 44/50\n",
      "1019/1019 [==============================] - 1s 1ms/step - loss: 0.4359 - accuracy: 0.8205 - val_loss: 0.4384 - val_accuracy: 0.8192\n",
      "Epoch 45/50\n",
      "1019/1019 [==============================] - 1s 1ms/step - loss: 0.4354 - accuracy: 0.8201 - val_loss: 0.4413 - val_accuracy: 0.8198\n",
      "Epoch 46/50\n",
      "1019/1019 [==============================] - 2s 2ms/step - loss: 0.4348 - accuracy: 0.8206 - val_loss: 0.4357 - val_accuracy: 0.8192\n",
      "Epoch 47/50\n",
      "1019/1019 [==============================] - 2s 2ms/step - loss: 0.4343 - accuracy: 0.8204 - val_loss: 0.4385 - val_accuracy: 0.8186\n",
      "Epoch 48/50\n",
      "1019/1019 [==============================] - 1s 1ms/step - loss: 0.4340 - accuracy: 0.8206 - val_loss: 0.4357 - val_accuracy: 0.8198\n",
      "Epoch 49/50\n",
      "1019/1019 [==============================] - 2s 1ms/step - loss: 0.4335 - accuracy: 0.8205 - val_loss: 0.4351 - val_accuracy: 0.8188\n",
      "Epoch 50/50\n",
      "1019/1019 [==============================] - 2s 2ms/step - loss: 0.4330 - accuracy: 0.8207 - val_loss: 0.4347 - val_accuracy: 0.8200\n"
     ]
    }
   ],
   "source": [
    "mlp_model1.compile(loss='binary_crossentropy', optimizer='SGD', metrics=['accuracy'])\n",
    "x=mlp_model1.fit(train, y_train, epochs=50, batch_size=32,validation_split=0.2)"
   ]
  },
  {
   "cell_type": "code",
   "execution_count": 118,
   "metadata": {},
   "outputs": [
    {
     "name": "stdout",
     "output_type": "stream",
     "text": [
      "        loss  accuracy  val_loss  val_accuracy\n",
      "0   0.488839  0.804628  0.477642      0.810827\n",
      "1   0.473546  0.812239  0.471082      0.811687\n",
      "2   0.469270  0.812301  0.468259      0.812301\n",
      "3   0.467045  0.812423  0.466678      0.813283\n",
      "4   0.465370  0.813006  0.465524      0.813037\n",
      "5   0.463859  0.813620  0.463633      0.813405\n",
      "6   0.462628  0.813988  0.462566      0.813405\n",
      "7   0.461537  0.814510  0.461269      0.814142\n",
      "8   0.460450  0.814817  0.460182      0.814756\n",
      "9   0.459326  0.815032  0.459336      0.814878\n",
      "10  0.458425  0.815247  0.458534      0.814756\n",
      "11  0.457467  0.815584  0.457857      0.814633\n",
      "12  0.456364  0.815523  0.457690      0.814633\n",
      "13  0.455627  0.815799  0.455655      0.814633\n",
      "14  0.454701  0.816014  0.455064      0.814510\n",
      "15  0.453821  0.816075  0.454120      0.814878\n",
      "16  0.452853  0.816229  0.454429      0.814878\n",
      "17  0.452109  0.816597  0.453012      0.815369\n",
      "18  0.451339  0.816720  0.451706      0.815124\n",
      "19  0.450778  0.816474  0.451447      0.815369\n",
      "20  0.449760  0.816566  0.450649      0.815861\n",
      "21  0.449312  0.816873  0.449863      0.815983\n",
      "22  0.448463  0.817272  0.448876      0.815861\n",
      "23  0.447719  0.817180  0.449997      0.816106\n",
      "24  0.447035  0.817426  0.447454      0.815983\n",
      "25  0.446192  0.817518  0.446985      0.816597\n",
      "26  0.445725  0.817763  0.447220      0.817456\n",
      "27  0.445069  0.818009  0.445610      0.816965\n",
      "28  0.444384  0.817947  0.445005      0.816843\n",
      "29  0.443830  0.818346  0.444439      0.817334\n",
      "30  0.443064  0.818531  0.445188      0.817579\n",
      "31  0.442583  0.818868  0.443434      0.817456\n",
      "32  0.441951  0.818807  0.442463      0.817334\n",
      "33  0.441212  0.819144  0.445626      0.817334\n",
      "34  0.440726  0.819175  0.441640      0.817825\n",
      "35  0.440267  0.819236  0.442425      0.818684\n",
      "36  0.439706  0.819605  0.440673      0.817456\n",
      "37  0.439157  0.819697  0.441049      0.817456\n",
      "38  0.438595  0.819635  0.439178      0.817579\n",
      "39  0.437991  0.819973  0.439316      0.818807\n",
      "40  0.437574  0.819973  0.439127      0.819052\n",
      "41  0.436988  0.819973  0.440241      0.818070\n",
      "42  0.436276  0.820065  0.439690      0.818193\n",
      "43  0.435897  0.820464  0.438418      0.819175\n",
      "44  0.435446  0.820126  0.441302      0.819789\n",
      "45  0.434768  0.820556  0.435675      0.819175\n",
      "46  0.434310  0.820433  0.438476      0.818561\n",
      "47  0.433961  0.820617  0.435651      0.819789\n",
      "48  0.433473  0.820495  0.435069      0.818807\n",
      "49  0.432957  0.820740  0.434747      0.820034\n",
      "dict_keys(['loss', 'accuracy', 'val_loss', 'val_accuracy'])\n"
     ]
    }
   ],
   "source": [
    "print(pd.DataFrame(x.history))\n",
    "print(x.history.keys())"
   ]
  },
  {
   "cell_type": "code",
   "execution_count": 119,
   "metadata": {},
   "outputs": [
    {
     "data": {
      "text/plain": [
       "<keras.engine.sequential.Sequential at 0x177f351c520>"
      ]
     },
     "execution_count": 119,
     "metadata": {},
     "output_type": "execute_result"
    }
   ],
   "source": [
    "mlp_model1"
   ]
  },
  {
   "cell_type": "code",
   "execution_count": 120,
   "metadata": {},
   "outputs": [
    {
     "name": "stdout",
     "output_type": "stream",
     "text": [
      "dict_keys(['loss', 'accuracy', 'val_loss', 'val_accuracy'])\n"
     ]
    }
   ],
   "source": [
    "print(x.history.keys())"
   ]
  },
  {
   "cell_type": "code",
   "execution_count": 121,
   "metadata": {},
   "outputs": [
    {
     "data": {
      "image/png": "[encoded data removed]",
      "text/plain": [
       "<Figure size 432x288 with 1 Axes>"
      ]
     },
     "metadata": {
      "needs_background": "light"
     },
     "output_type": "display_data"
    }
   ],
   "source": [
    "plot(x, 'accuracy')"
   ]
  },
  {
   "cell_type": "code",
   "execution_count": 122,
   "metadata": {},
   "outputs": [
    {
     "data": {
      "image/png": "[encoded data removed]",
      "text/plain": [
       "<Figure size 432x288 with 1 Axes>"
      ]
     },
     "metadata": {
      "needs_background": "light"
     },
     "output_type": "display_data"
    }
   ],
   "source": [
    "plot(x, 'loss')"
   ]
  },
  {
   "cell_type": "markdown",
   "metadata": {},
   "source": [
    "#### Predictions"
   ]
  },
  {
   "cell_type": "code",
   "execution_count": 123,
   "metadata": {},
   "outputs": [],
   "source": [
    "y_train_Pred = (mlp_model1.predict(X_train)>0.5).astype(\"int32\")\n",
    "y_test_Pred = (mlp_model1.predict(X_test)>0.5).astype(\"int32\")"
   ]
  },
  {
   "cell_type": "code",
   "execution_count": 124,
   "metadata": {},
   "outputs": [
    {
     "name": "stdout",
     "output_type": "stream",
     "text": [
      "\n",
      "            =========================================\n",
      "               CLASSIFICATION REPORT FOR TRAIN DATA\n",
      "            =========================================\n",
      "            \n",
      "              precision    recall  f1-score   support\n",
      "\n",
      "           0     0.8233    0.9928    0.9002     33067\n",
      "           1     0.7225    0.0805    0.1449      7663\n",
      "\n",
      "    accuracy                         0.8212     40730\n",
      "   macro avg     0.7729    0.5367    0.5225     40730\n",
      "weighted avg     0.8043    0.8212    0.7581     40730\n",
      "\n",
      "\n",
      "            =========================================\n",
      "               CLASSIFICATION REPORT FOR TEST DATA\n",
      "            =========================================\n",
      "            \n",
      "              precision    recall  f1-score   support\n",
      "\n",
      "           0     0.8265    0.9888    0.9004     14150\n",
      "           1     0.6994    0.1119    0.1930      3306\n",
      "\n",
      "    accuracy                         0.8227     17456\n",
      "   macro avg     0.7630    0.5503    0.5467     17456\n",
      "weighted avg     0.8025    0.8227    0.7664     17456\n",
      "\n"
     ]
    }
   ],
   "source": [
    "classifcation_report_train_test(y_train, y_train_Pred, y_test, y_test_Pred)"
   ]
  },
  {
   "cell_type": "code",
   "execution_count": null,
   "metadata": {},
   "outputs": [],
   "source": []
  },
  {
   "cell_type": "code",
   "execution_count": null,
   "metadata": {},
   "outputs": [],
   "source": []
  },
  {
   "cell_type": "code",
   "execution_count": null,
   "metadata": {},
   "outputs": [],
   "source": []
  }
 ],
 "metadata": {
  "kernelspec": {
   "display_name": "Python 3 (ipykernel)",
   "language": "python",
   "name": "python3"
  },
  "language_info": {
   "codemirror_mode": {
    "name": "ipython",
    "version": 3
   },
   "file_extension": ".py",
   "mimetype": "text/x-python",
   "name": "python",
   "nbconvert_exporter": "python",
   "pygments_lexer": "ipython3",
   "version": "3.9.12"
  }
 },
 "nbformat": 4,
 "nbformat_minor": 2
}
