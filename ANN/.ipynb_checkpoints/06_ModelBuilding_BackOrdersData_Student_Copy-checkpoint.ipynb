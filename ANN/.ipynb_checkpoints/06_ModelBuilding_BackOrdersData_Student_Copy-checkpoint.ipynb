{
 "cells": [
  {
   "cell_type": "code",
   "execution_count": null,
   "metadata": {
    "id": "HXPoPxxHpret"
   },
   "outputs": [],
   "source": [
    "# Implement a NN with one hidden layer with two neurons \n",
    "# 1. Handle NAs\n",
    "# 2. Convert the categorical into numerical values\n",
    "# 3. Scale the numerical attributes\n",
    "# 4. Delete the unnecessary columns\n",
    "# 4. Now use this as the inout to the NN\n",
    "# 5. Crate a the model, compile, fit "
   ]
  },
  {
   "cell_type": "markdown",
   "metadata": {
    "id": "MEBw46y4rGpS"
   },
   "source": [
    "#### Import the required modules"
   ]
  },
  {
   "cell_type": "code",
   "execution_count": null,
   "metadata": {
    "colab": {
     "base_uri": "https://localhost:8080/"
    },
    "executionInfo": {
     "elapsed": 2681,
     "status": "ok",
     "timestamp": 1656488056427,
     "user": {
      "displayName": "Haritha Kallamadi",
      "userId": "08707752319667160902"
     },
     "user_tz": -330
    },
    "id": "6RfStmXsrWxu",
    "outputId": "8942bf15-7280-4d26-9cef-3b8b70e87a8f"
   },
   "outputs": [
    {
     "name": "stdout",
     "output_type": "stream",
     "text": [
      "Drive already mounted at /content/drive; to attempt to forcibly remount, call drive.mount(\"/content/drive\", force_remount=True).\n"
     ]
    }
   ],
   "source": [
    "from google.colab import drive\n",
    "drive.mount('/content/drive')"
   ]
  },
  {
   "cell_type": "code",
   "execution_count": null,
   "metadata": {
    "id": "kn3UDiSnrGpZ"
   },
   "outputs": [],
   "source": [
    "import pandas as pd\n",
    "import numpy as np\n",
    "from sklearn.model_selection import train_test_split\n",
    "from sklearn.metrics import confusion_matrix, roc_curve, auc,recall_score\n",
    "\n",
    "import tensorflow as tf\n",
    "from tensorflow import keras\n",
    "from tensorflow.keras.models import Sequential\n",
    "from tensorflow.keras.layers import Dense\n",
    "## For Grid Search\n",
    "from keras.wrappers.scikit_learn import KerasClassifier\n",
    "from sklearn.model_selection import GridSearchCV\n",
    "import matplotlib.pyplot as plt\n",
    "%matplotlib inline "
   ]
  },
  {
   "cell_type": "code",
   "execution_count": null,
   "metadata": {
    "colab": {
     "base_uri": "https://localhost:8080/",
     "height": 57
    },
    "executionInfo": {
     "elapsed": 11,
     "status": "ok",
     "timestamp": 1656488061024,
     "user": {
      "displayName": "Haritha Kallamadi",
      "userId": "08707752319667160902"
     },
     "user_tz": -330
    },
    "id": "sXyaWofIrGpd",
    "outputId": "0db761a9-bf2b-49d1-f07d-ebb691f099e8"
   },
   "outputs": [
    {
     "data": {
      "application/vnd.google.colaboratory.intrinsic+json": {
       "type": "string"
      },
      "text/plain": [
       "'2.8.2'"
      ]
     },
     "execution_count": 3,
     "metadata": {},
     "output_type": "execute_result"
    }
   ],
   "source": [
    "tf.__version__"
   ]
  },
  {
   "cell_type": "markdown",
   "metadata": {
    "id": "3FPS7evPrGpf"
   },
   "source": [
    "#### Load the data"
   ]
  },
  {
   "cell_type": "code",
   "execution_count": null,
   "metadata": {
    "colab": {
     "base_uri": "https://localhost:8080/",
     "height": 238
    },
    "executionInfo": {
     "elapsed": 1013,
     "status": "ok",
     "timestamp": 1656488062031,
     "user": {
      "displayName": "Haritha Kallamadi",
      "userId": "08707752319667160902"
     },
     "user_tz": -330
    },
    "id": "fRXgaZtZrGpg",
    "outputId": "4dea07ec-aa20-4722-b8ab-3e1993371711"
   },
   "outputs": [
    {
     "data": {
      "text/html": [
       "\n",
       "  <div id=\"df-b34c28c9-16c9-4490-bcb4-155609fe02d3\">\n",
       "    <div class=\"colab-df-container\">\n",
       "      <div>\n",
       "<style scoped>\n",
       "    .dataframe tbody tr th:only-of-type {\n",
       "        vertical-align: middle;\n",
       "    }\n",
       "\n",
       "    .dataframe tbody tr th {\n",
       "        vertical-align: top;\n",
       "    }\n",
       "\n",
       "    .dataframe thead th {\n",
       "        text-align: right;\n",
       "    }\n",
       "</style>\n",
       "<table border=\"1\" class=\"dataframe\">\n",
       "  <thead>\n",
       "    <tr style=\"text-align: right;\">\n",
       "      <th></th>\n",
       "      <th>sku</th>\n",
       "      <th>national_inv</th>\n",
       "      <th>lead_time</th>\n",
       "      <th>in_transit_qty</th>\n",
       "      <th>forecast_3_month</th>\n",
       "      <th>forecast_6_month</th>\n",
       "      <th>forecast_9_month</th>\n",
       "      <th>sales_1_month</th>\n",
       "      <th>sales_3_month</th>\n",
       "      <th>sales_6_month</th>\n",
       "      <th>...</th>\n",
       "      <th>pieces_past_due</th>\n",
       "      <th>perf_6_month_avg</th>\n",
       "      <th>perf_12_month_avg</th>\n",
       "      <th>local_bo_qty</th>\n",
       "      <th>deck_risk</th>\n",
       "      <th>oe_constraint</th>\n",
       "      <th>ppap_risk</th>\n",
       "      <th>stop_auto_buy</th>\n",
       "      <th>rev_stop</th>\n",
       "      <th>went_on_backorder</th>\n",
       "    </tr>\n",
       "  </thead>\n",
       "  <tbody>\n",
       "    <tr>\n",
       "      <th>0</th>\n",
       "      <td>1888279</td>\n",
       "      <td>117</td>\n",
       "      <td>NaN</td>\n",
       "      <td>0</td>\n",
       "      <td>0</td>\n",
       "      <td>0</td>\n",
       "      <td>0</td>\n",
       "      <td>0</td>\n",
       "      <td>0</td>\n",
       "      <td>15</td>\n",
       "      <td>...</td>\n",
       "      <td>0</td>\n",
       "      <td>-99.00</td>\n",
       "      <td>-99.00</td>\n",
       "      <td>0</td>\n",
       "      <td>No</td>\n",
       "      <td>No</td>\n",
       "      <td>Yes</td>\n",
       "      <td>Yes</td>\n",
       "      <td>No</td>\n",
       "      <td>No</td>\n",
       "    </tr>\n",
       "    <tr>\n",
       "      <th>1</th>\n",
       "      <td>1870557</td>\n",
       "      <td>7</td>\n",
       "      <td>2.0</td>\n",
       "      <td>0</td>\n",
       "      <td>0</td>\n",
       "      <td>0</td>\n",
       "      <td>0</td>\n",
       "      <td>0</td>\n",
       "      <td>0</td>\n",
       "      <td>0</td>\n",
       "      <td>...</td>\n",
       "      <td>0</td>\n",
       "      <td>0.50</td>\n",
       "      <td>0.28</td>\n",
       "      <td>0</td>\n",
       "      <td>Yes</td>\n",
       "      <td>No</td>\n",
       "      <td>No</td>\n",
       "      <td>Yes</td>\n",
       "      <td>No</td>\n",
       "      <td>No</td>\n",
       "    </tr>\n",
       "    <tr>\n",
       "      <th>2</th>\n",
       "      <td>1475481</td>\n",
       "      <td>258</td>\n",
       "      <td>15.0</td>\n",
       "      <td>10</td>\n",
       "      <td>10</td>\n",
       "      <td>77</td>\n",
       "      <td>184</td>\n",
       "      <td>46</td>\n",
       "      <td>132</td>\n",
       "      <td>256</td>\n",
       "      <td>...</td>\n",
       "      <td>0</td>\n",
       "      <td>0.54</td>\n",
       "      <td>0.70</td>\n",
       "      <td>0</td>\n",
       "      <td>No</td>\n",
       "      <td>No</td>\n",
       "      <td>No</td>\n",
       "      <td>Yes</td>\n",
       "      <td>No</td>\n",
       "      <td>No</td>\n",
       "    </tr>\n",
       "  </tbody>\n",
       "</table>\n",
       "<p>3 rows × 23 columns</p>\n",
       "</div>\n",
       "      <button class=\"colab-df-convert\" onclick=\"convertToInteractive('df-b34c28c9-16c9-4490-bcb4-155609fe02d3')\"\n",
       "              title=\"Convert this dataframe to an interactive table.\"\n",
       "              style=\"display:none;\">\n",
       "        \n",
       "  <svg xmlns=\"http://www.w3.org/2000/svg\" height=\"24px\"viewBox=\"0 0 24 24\"\n",
       "       width=\"24px\">\n",
       "    <path d=\"M0 0h24v24H0V0z\" fill=\"none\"/>\n",
       "    <path d=\"M18.56 5.44l.94 2.06.94-2.06 2.06-.94-2.06-.94-.94-2.06-.94 2.06-2.06.94zm-11 1L8.5 8.5l.94-2.06 2.06-.94-2.06-.94L8.5 2.5l-.94 2.06-2.06.94zm10 10l.94 2.06.94-2.06 2.06-.94-2.06-.94-.94-2.06-.94 2.06-2.06.94z\"/><path d=\"M17.41 7.96l-1.37-1.37c-.4-.4-.92-.59-1.43-.59-.52 0-1.04.2-1.43.59L10.3 9.45l-7.72 7.72c-.78.78-.78 2.05 0 2.83L4 21.41c.39.39.9.59 1.41.59.51 0 1.02-.2 1.41-.59l7.78-7.78 2.81-2.81c.8-.78.8-2.07 0-2.86zM5.41 20L4 18.59l7.72-7.72 1.47 1.35L5.41 20z\"/>\n",
       "  </svg>\n",
       "      </button>\n",
       "      \n",
       "  <style>\n",
       "    .colab-df-container {\n",
       "      display:flex;\n",
       "      flex-wrap:wrap;\n",
       "      gap: 12px;\n",
       "    }\n",
       "\n",
       "    .colab-df-convert {\n",
       "      background-color: #E8F0FE;\n",
       "      border: none;\n",
       "      border-radius: 50%;\n",
       "      cursor: pointer;\n",
       "      display: none;\n",
       "      fill: #1967D2;\n",
       "      height: 32px;\n",
       "      padding: 0 0 0 0;\n",
       "      width: 32px;\n",
       "    }\n",
       "\n",
       "    .colab-df-convert:hover {\n",
       "      background-color: #E2EBFA;\n",
       "      box-shadow: 0px 1px 2px rgba(60, 64, 67, 0.3), 0px 1px 3px 1px rgba(60, 64, 67, 0.15);\n",
       "      fill: #174EA6;\n",
       "    }\n",
       "\n",
       "    [theme=dark] .colab-df-convert {\n",
       "      background-color: #3B4455;\n",
       "      fill: #D2E3FC;\n",
       "    }\n",
       "\n",
       "    [theme=dark] .colab-df-convert:hover {\n",
       "      background-color: #434B5C;\n",
       "      box-shadow: 0px 1px 3px 1px rgba(0, 0, 0, 0.15);\n",
       "      filter: drop-shadow(0px 1px 2px rgba(0, 0, 0, 0.3));\n",
       "      fill: #FFFFFF;\n",
       "    }\n",
       "  </style>\n",
       "\n",
       "      <script>\n",
       "        const buttonEl =\n",
       "          document.querySelector('#df-b34c28c9-16c9-4490-bcb4-155609fe02d3 button.colab-df-convert');\n",
       "        buttonEl.style.display =\n",
       "          google.colab.kernel.accessAllowed ? 'block' : 'none';\n",
       "\n",
       "        async function convertToInteractive(key) {\n",
       "          const element = document.querySelector('#df-b34c28c9-16c9-4490-bcb4-155609fe02d3');\n",
       "          const dataTable =\n",
       "            await google.colab.kernel.invokeFunction('convertToInteractive',\n",
       "                                                     [key], {});\n",
       "          if (!dataTable) return;\n",
       "\n",
       "          const docLinkHtml = 'Like what you see? Visit the ' +\n",
       "            '<a target=\"_blank\" href=https://colab.research.google.com/notebooks/data_table.ipynb>data table notebook</a>'\n",
       "            + ' to learn more about interactive tables.';\n",
       "          element.innerHTML = '';\n",
       "          dataTable['output_type'] = 'display_data';\n",
       "          await google.colab.output.renderOutput(dataTable, element);\n",
       "          const docLink = document.createElement('div');\n",
       "          docLink.innerHTML = docLinkHtml;\n",
       "          element.appendChild(docLink);\n",
       "        }\n",
       "      </script>\n",
       "    </div>\n",
       "  </div>\n",
       "  "
      ],
      "text/plain": [
       "       sku  national_inv  lead_time  in_transit_qty  forecast_3_month  \\\n",
       "0  1888279           117        NaN               0                 0   \n",
       "1  1870557             7        2.0               0                 0   \n",
       "2  1475481           258       15.0              10                10   \n",
       "\n",
       "   forecast_6_month  forecast_9_month  sales_1_month  sales_3_month  \\\n",
       "0                 0                 0              0              0   \n",
       "1                 0                 0              0              0   \n",
       "2                77               184             46            132   \n",
       "\n",
       "   sales_6_month  ...  pieces_past_due  perf_6_month_avg perf_12_month_avg  \\\n",
       "0             15  ...                0            -99.00            -99.00   \n",
       "1              0  ...                0              0.50              0.28   \n",
       "2            256  ...                0              0.54              0.70   \n",
       "\n",
       "   local_bo_qty  deck_risk  oe_constraint  ppap_risk stop_auto_buy rev_stop  \\\n",
       "0             0         No             No        Yes           Yes       No   \n",
       "1             0        Yes             No         No           Yes       No   \n",
       "2             0         No             No         No           Yes       No   \n",
       "\n",
       "  went_on_backorder  \n",
       "0                No  \n",
       "1                No  \n",
       "2                No  \n",
       "\n",
       "[3 rows x 23 columns]"
      ]
     },
     "execution_count": 4,
     "metadata": {},
     "output_type": "execute_result"
    }
   ],
   "source": [
    "# data1 = \n",
    "data1.head(3)"
   ]
  },
  {
   "cell_type": "code",
   "execution_count": null,
   "metadata": {
    "colab": {
     "base_uri": "https://localhost:8080/"
    },
    "executionInfo": {
     "elapsed": 47,
     "status": "ok",
     "timestamp": 1656488062031,
     "user": {
      "displayName": "Haritha Kallamadi",
      "userId": "08707752319667160902"
     },
     "user_tz": -330
    },
    "id": "6OBkKuCarGph",
    "outputId": "27079ba6-77d0-4e7e-db8f-7b82dbc67c1c"
   },
   "outputs": [
    {
     "data": {
      "text/plain": [
       "sku                    int64\n",
       "national_inv           int64\n",
       "lead_time            float64\n",
       "in_transit_qty         int64\n",
       "forecast_3_month       int64\n",
       "forecast_6_month       int64\n",
       "forecast_9_month       int64\n",
       "sales_1_month          int64\n",
       "sales_3_month          int64\n",
       "sales_6_month          int64\n",
       "sales_9_month          int64\n",
       "min_bank               int64\n",
       "potential_issue       object\n",
       "pieces_past_due        int64\n",
       "perf_6_month_avg     float64\n",
       "perf_12_month_avg    float64\n",
       "local_bo_qty           int64\n",
       "deck_risk             object\n",
       "oe_constraint         object\n",
       "ppap_risk             object\n",
       "stop_auto_buy         object\n",
       "rev_stop              object\n",
       "went_on_backorder     object\n",
       "dtype: object"
      ]
     },
     "execution_count": 5,
     "metadata": {},
     "output_type": "execute_result"
    }
   ],
   "source": [
    "# Check data type of each attribute\n"
   ]
  },
  {
   "cell_type": "markdown",
   "metadata": {
    "id": "9Mi1l1nHrGpi"
   },
   "source": [
    "#### Convert all the attributes to appropriate type"
   ]
  },
  {
   "cell_type": "markdown",
   "metadata": {
    "id": "XbKsjCfFrGpj"
   },
   "source": [
    "Data type conversion\n",
    "\n",
    "    Using astype('category') to convert potential_issue, deck_risk, oe_constraint, ppap_risk, stop_auto_buy, rev_stop, and went_on_backorder attributes to categorical attributes.\n"
   ]
  },
  {
   "cell_type": "markdown",
   "metadata": {
    "id": "Xqo32u0frGpm"
   },
   "source": [
    "##### Display data type of each variable"
   ]
  },
  {
   "cell_type": "code",
   "execution_count": null,
   "metadata": {
    "id": "O02wPMQErGpp"
   },
   "outputs": [],
   "source": [
    "# Can we drop?"
   ]
  },
  {
   "cell_type": "code",
   "execution_count": null,
   "metadata": {
    "colab": {
     "base_uri": "https://localhost:8080/"
    },
    "executionInfo": {
     "elapsed": 23,
     "status": "ok",
     "timestamp": 1656488062032,
     "user": {
      "displayName": "Haritha Kallamadi",
      "userId": "08707752319667160902"
     },
     "user_tz": -330
    },
    "id": "0YAOEK8prGpp",
    "outputId": "8878aa59-8393-4d85-f439-0ea7685ce037"
   },
   "outputs": [
    {
     "data": {
      "text/plain": [
       "national_inv            0\n",
       "lead_time            3403\n",
       "in_transit_qty          0\n",
       "forecast_3_month        0\n",
       "forecast_6_month        0\n",
       "forecast_9_month        0\n",
       "sales_1_month           0\n",
       "sales_3_month           0\n",
       "sales_6_month           0\n",
       "sales_9_month           0\n",
       "min_bank                0\n",
       "potential_issue         0\n",
       "pieces_past_due         0\n",
       "perf_6_month_avg        0\n",
       "perf_12_month_avg       0\n",
       "local_bo_qty            0\n",
       "deck_risk               0\n",
       "oe_constraint           0\n",
       "ppap_risk               0\n",
       "stop_auto_buy           0\n",
       "rev_stop                0\n",
       "went_on_backorder       0\n",
       "dtype: int64"
      ]
     },
     "execution_count": 10,
     "metadata": {},
     "output_type": "execute_result"
    }
   ],
   "source": [
    "#### Missing value analysis and dropping the records with missing values\n"
   ]
  },
  {
   "cell_type": "code",
   "execution_count": null,
   "metadata": {
    "id": "C__YqgvurGpq"
   },
   "outputs": [],
   "source": [
    "#Since the number of missing values is about 5%. For initial analysis we ignore all these records\n"
   ]
  },
  {
   "cell_type": "markdown",
   "metadata": {
    "id": "NRd0dS9mrGpr"
   },
   "source": [
    "#### For neural networks we require the data to be in numeric form"
   ]
  },
  {
   "cell_type": "code",
   "execution_count": null,
   "metadata": {
    "colab": {
     "base_uri": "https://localhost:8080/"
    },
    "executionInfo": {
     "elapsed": 18,
     "status": "ok",
     "timestamp": 1656488062033,
     "user": {
      "displayName": "Haritha Kallamadi",
      "userId": "08707752319667160902"
     },
     "user_tz": -330
    },
    "id": "YbKXWIJYrGpr",
    "outputId": "05c8901e-a001-4256-dea9-338e0f0b3b7b"
   },
   "outputs": [
    {
     "name": "stdout",
     "output_type": "stream",
     "text": [
      "Index(['forecast_3_month', 'forecast_6_month', 'forecast_9_month',\n",
      "       'in_transit_qty', 'lead_time', 'local_bo_qty', 'min_bank',\n",
      "       'national_inv', 'perf_12_month_avg', 'perf_6_month_avg',\n",
      "       'pieces_past_due', 'sales_1_month', 'sales_3_month', 'sales_6_month',\n",
      "       'sales_9_month'],\n",
      "      dtype='object')\n",
      "\n",
      "\n",
      "['potential_issue', 'deck_risk', 'oe_constraint', 'ppap_risk', 'stop_auto_buy', 'rev_stop']\n"
     ]
    }
   ],
   "source": [
    "#seprarate categorical and numerical attributes \n"
   ]
  },
  {
   "cell_type": "markdown",
   "metadata": {
    "id": "JCKd_MI0rGps"
   },
   "source": [
    "#### Data preprocessing for numeric and categorical using pipelines"
   ]
  },
  {
   "cell_type": "code",
   "execution_count": null,
   "metadata": {
    "id": "aiEb72LqrGpt"
   },
   "outputs": [],
   "source": [
    "# Convert categorical into numerical, standardize the numerical data"
   ]
  },
  {
   "cell_type": "code",
   "execution_count": null,
   "metadata": {
    "colab": {
     "base_uri": "https://localhost:8080/"
    },
    "executionInfo": {
     "elapsed": 413,
     "status": "ok",
     "timestamp": 1656490593495,
     "user": {
      "displayName": "Haritha Kallamadi",
      "userId": "08707752319667160902"
     },
     "user_tz": -330
    },
    "id": "c3kpJrlqrGpv",
    "outputId": "33a5528f-776b-4288-b827-3f8b130dd43a"
   },
   "outputs": [
    {
     "name": "stdout",
     "output_type": "stream",
     "text": [
      "Index(['national_inv', 'lead_time', 'in_transit_qty', 'forecast_3_month',\n",
      "       'forecast_6_month', 'forecast_9_month', 'sales_1_month',\n",
      "       'sales_3_month', 'sales_6_month', 'sales_9_month', 'min_bank',\n",
      "       'potential_issue', 'pieces_past_due', 'perf_6_month_avg',\n",
      "       'perf_12_month_avg', 'local_bo_qty', 'deck_risk', 'oe_constraint',\n",
      "       'ppap_risk', 'stop_auto_buy', 'rev_stop'],\n",
      "      dtype='object')\n",
      "2    No\n",
      "3    No\n",
      "Name: went_on_backorder, dtype: category\n",
      "Categories (2, object): ['No', 'Yes']\n"
     ]
    }
   ],
   "source": [
    "#Performing train test split on the data\n"
   ]
  },
  {
   "cell_type": "code",
   "execution_count": null,
   "metadata": {
    "id": "EPH5shfGrGpw"
   },
   "outputs": [],
   "source": [
    "#Transform the data both train and test\n"
   ]
  },
  {
   "cell_type": "code",
   "execution_count": null,
   "metadata": {
    "id": "z8qOaKchrGpw"
   },
   "outputs": [],
   "source": [
    "# code Yes: 1, No:0 in y_train, y_test\n"
   ]
  },
  {
   "cell_type": "code",
   "execution_count": null,
   "metadata": {
    "id": "lYS4_6UrrGpx"
   },
   "outputs": [],
   "source": [
    "## Convert to numeric\n"
   ]
  },
  {
   "cell_type": "markdown",
   "metadata": {
    "id": "M8fKGJ-XrGp0"
   },
   "source": [
    "### Perceptron Model (MLP) "
   ]
  },
  {
   "cell_type": "code",
   "execution_count": null,
   "metadata": {
    "id": "so-cZ_WNrGp0"
   },
   "outputs": [],
   "source": [
    "# Design hidden layer 1 NN with number of neurons = 1, activation tanh\n",
    "# Design output layer activation sigmoid\n",
    "\n"
   ]
  },
  {
   "cell_type": "code",
   "execution_count": null,
   "metadata": {
    "id": "CBXKsTYurGp1"
   },
   "outputs": [],
   "source": [
    "# Compile the above model\n"
   ]
  },
  {
   "cell_type": "code",
   "execution_count": null,
   "metadata": {
    "colab": {
     "base_uri": "https://localhost:8080/",
     "height": 521
    },
    "executionInfo": {
     "elapsed": 644,
     "status": "ok",
     "timestamp": 1656488063060,
     "user": {
      "displayName": "Haritha Kallamadi",
      "userId": "08707752319667160902"
     },
     "user_tz": -330
    },
    "id": "MCpIiqPerGp2",
    "outputId": "90f253ff-dd0e-4dd0-eff1-43888d9efada"
   },
   "outputs": [
    {
     "name": "stdout",
     "output_type": "stream",
     "text": [
      "Model: \"sequential\"\n",
      "_________________________________________________________________\n",
      " Layer (type)                Output Shape              Param #   \n",
      "=================================================================\n",
      " dense (Dense)               (None, 1)                 28        \n",
      "                                                                 \n",
      " dense_1 (Dense)             (None, 1)                 2         \n",
      "                                                                 \n",
      "=================================================================\n",
      "Total params: 30\n",
      "Trainable params: 30\n",
      "Non-trainable params: 0\n",
      "_________________________________________________________________\n"
     ]
    },
    {
     "data": {
      "image/png": "[encoded data removed]",
      "text/plain": [
       "<IPython.core.display.Image object>"
      ]
     },
     "execution_count": 24,
     "metadata": {},
     "output_type": "execute_result"
    }
   ],
   "source": [
    "# Summary\n"
   ]
  },
  {
   "cell_type": "code",
   "execution_count": null,
   "metadata": {
    "colab": {
     "base_uri": "https://localhost:8080/"
    },
    "executionInfo": {
     "elapsed": 143244,
     "status": "ok",
     "timestamp": 1656488206295,
     "user": {
      "displayName": "Haritha Kallamadi",
      "userId": "08707752319667160902"
     },
     "user_tz": -330
    },
    "id": "kKfwDeHorGp2",
    "outputId": "43d945d2-8b88-48d0-987d-3f94465dad2a"
   },
   "outputs": [
    {
     "name": "stdout",
     "output_type": "stream",
     "text": [
      "Epoch 1/50\n",
      "1019/1019 [==============================] - 5s 4ms/step - loss: 0.5246 - accuracy: 0.8013 - val_loss: 0.4880 - val_accuracy: 0.8110\n",
      "Epoch 2/50\n",
      "1019/1019 [==============================] - 4s 3ms/step - loss: 0.4848 - accuracy: 0.8121 - val_loss: 0.4858 - val_accuracy: 0.8110\n",
      "Epoch 3/50\n",
      "1019/1019 [==============================] - 5s 4ms/step - loss: 0.4837 - accuracy: 0.8121 - val_loss: 0.4853 - val_accuracy: 0.8110\n",
      "Epoch 4/50\n",
      "1019/1019 [==============================] - 4s 4ms/step - loss: 0.4833 - accuracy: 0.8121 - val_loss: 0.4851 - val_accuracy: 0.8110\n",
      "Epoch 5/50\n",
      "1019/1019 [==============================] - 4s 4ms/step - loss: 0.4831 - accuracy: 0.8121 - val_loss: 0.4849 - val_accuracy: 0.8110\n",
      "Epoch 6/50\n",
      "1019/1019 [==============================] - 3s 3ms/step - loss: 0.4830 - accuracy: 0.8121 - val_loss: 0.4848 - val_accuracy: 0.8110\n",
      "Epoch 7/50\n",
      "1019/1019 [==============================] - 3s 2ms/step - loss: 0.4828 - accuracy: 0.8121 - val_loss: 0.4846 - val_accuracy: 0.8110\n",
      "Epoch 8/50\n",
      "1019/1019 [==============================] - 2s 2ms/step - loss: 0.4827 - accuracy: 0.8121 - val_loss: 0.4844 - val_accuracy: 0.8110\n",
      "Epoch 9/50\n",
      "1019/1019 [==============================] - 2s 2ms/step - loss: 0.4825 - accuracy: 0.8121 - val_loss: 0.4841 - val_accuracy: 0.8110\n",
      "Epoch 10/50\n",
      "1019/1019 [==============================] - 2s 2ms/step - loss: 0.4822 - accuracy: 0.8121 - val_loss: 0.4838 - val_accuracy: 0.8110\n",
      "Epoch 11/50\n",
      "1019/1019 [==============================] - 2s 2ms/step - loss: 0.4818 - accuracy: 0.8121 - val_loss: 0.4833 - val_accuracy: 0.8110\n",
      "Epoch 12/50\n",
      "1019/1019 [==============================] - 2s 2ms/step - loss: 0.4813 - accuracy: 0.8121 - val_loss: 0.4827 - val_accuracy: 0.8110\n",
      "Epoch 13/50\n",
      "1019/1019 [==============================] - 2s 2ms/step - loss: 0.4807 - accuracy: 0.8121 - val_loss: 0.4819 - val_accuracy: 0.8110\n",
      "Epoch 14/50\n",
      "1019/1019 [==============================] - 2s 2ms/step - loss: 0.4799 - accuracy: 0.8121 - val_loss: 0.4810 - val_accuracy: 0.8110\n",
      "Epoch 15/50\n",
      "1019/1019 [==============================] - 2s 2ms/step - loss: 0.4790 - accuracy: 0.8121 - val_loss: 0.4800 - val_accuracy: 0.8110\n",
      "Epoch 16/50\n",
      "1019/1019 [==============================] - 2s 2ms/step - loss: 0.4779 - accuracy: 0.8121 - val_loss: 0.4785 - val_accuracy: 0.8110\n",
      "Epoch 17/50\n",
      "1019/1019 [==============================] - 2s 2ms/step - loss: 0.4765 - accuracy: 0.8121 - val_loss: 0.4770 - val_accuracy: 0.8110\n",
      "Epoch 18/50\n",
      "1019/1019 [==============================] - 2s 2ms/step - loss: 0.4750 - accuracy: 0.8121 - val_loss: 0.4748 - val_accuracy: 0.8110\n",
      "Epoch 19/50\n",
      "1019/1019 [==============================] - 2s 2ms/step - loss: 0.4732 - accuracy: 0.8121 - val_loss: 0.4733 - val_accuracy: 0.8110\n",
      "Epoch 20/50\n",
      "1019/1019 [==============================] - 2s 2ms/step - loss: 0.4719 - accuracy: 0.8121 - val_loss: 0.4718 - val_accuracy: 0.8110\n",
      "Epoch 21/50\n",
      "1019/1019 [==============================] - 2s 2ms/step - loss: 0.4707 - accuracy: 0.8121 - val_loss: 0.4706 - val_accuracy: 0.8110\n",
      "Epoch 22/50\n",
      "1019/1019 [==============================] - 2s 2ms/step - loss: 0.4695 - accuracy: 0.8121 - val_loss: 0.4694 - val_accuracy: 0.8110\n",
      "Epoch 23/50\n",
      "1019/1019 [==============================] - 2s 2ms/step - loss: 0.4684 - accuracy: 0.8121 - val_loss: 0.4684 - val_accuracy: 0.8110\n",
      "Epoch 24/50\n",
      "1019/1019 [==============================] - 2s 2ms/step - loss: 0.4674 - accuracy: 0.8121 - val_loss: 0.4675 - val_accuracy: 0.8110\n",
      "Epoch 25/50\n",
      "1019/1019 [==============================] - 2s 2ms/step - loss: 0.4663 - accuracy: 0.8121 - val_loss: 0.4663 - val_accuracy: 0.8110\n",
      "Epoch 26/50\n",
      "1019/1019 [==============================] - 2s 2ms/step - loss: 0.4654 - accuracy: 0.8121 - val_loss: 0.4654 - val_accuracy: 0.8110\n",
      "Epoch 27/50\n",
      "1019/1019 [==============================] - 2s 2ms/step - loss: 0.4644 - accuracy: 0.8123 - val_loss: 0.4643 - val_accuracy: 0.8124\n",
      "Epoch 28/50\n",
      "1019/1019 [==============================] - 2s 2ms/step - loss: 0.4635 - accuracy: 0.8126 - val_loss: 0.4634 - val_accuracy: 0.8125\n",
      "Epoch 29/50\n",
      "1019/1019 [==============================] - 2s 2ms/step - loss: 0.4626 - accuracy: 0.8132 - val_loss: 0.4625 - val_accuracy: 0.8128\n",
      "Epoch 30/50\n",
      "1019/1019 [==============================] - 2s 2ms/step - loss: 0.4616 - accuracy: 0.8139 - val_loss: 0.4616 - val_accuracy: 0.8134\n",
      "Epoch 31/50\n",
      "1019/1019 [==============================] - 2s 2ms/step - loss: 0.4607 - accuracy: 0.8142 - val_loss: 0.4607 - val_accuracy: 0.8139\n",
      "Epoch 32/50\n",
      "1019/1019 [==============================] - 2s 2ms/step - loss: 0.4599 - accuracy: 0.8145 - val_loss: 0.4600 - val_accuracy: 0.8139\n",
      "Epoch 33/50\n",
      "1019/1019 [==============================] - 2s 2ms/step - loss: 0.4588 - accuracy: 0.8146 - val_loss: 0.4588 - val_accuracy: 0.8139\n",
      "Epoch 34/50\n",
      "1019/1019 [==============================] - 2s 2ms/step - loss: 0.4581 - accuracy: 0.8150 - val_loss: 0.4582 - val_accuracy: 0.8138\n",
      "Epoch 35/50\n",
      "1019/1019 [==============================] - 2s 2ms/step - loss: 0.4572 - accuracy: 0.8154 - val_loss: 0.4574 - val_accuracy: 0.8141\n",
      "Epoch 36/50\n",
      "1019/1019 [==============================] - 2s 2ms/step - loss: 0.4564 - accuracy: 0.8152 - val_loss: 0.4571 - val_accuracy: 0.8144\n",
      "Epoch 37/50\n",
      "1019/1019 [==============================] - 2s 2ms/step - loss: 0.4554 - accuracy: 0.8156 - val_loss: 0.4556 - val_accuracy: 0.8146\n",
      "Epoch 38/50\n",
      "1019/1019 [==============================] - 2s 2ms/step - loss: 0.4547 - accuracy: 0.8159 - val_loss: 0.4557 - val_accuracy: 0.8146\n",
      "Epoch 39/50\n",
      "1019/1019 [==============================] - 2s 2ms/step - loss: 0.4540 - accuracy: 0.8159 - val_loss: 0.4547 - val_accuracy: 0.8149\n",
      "Epoch 40/50\n",
      "1019/1019 [==============================] - 2s 2ms/step - loss: 0.4532 - accuracy: 0.8163 - val_loss: 0.4534 - val_accuracy: 0.8151\n",
      "Epoch 41/50\n",
      "1019/1019 [==============================] - 2s 2ms/step - loss: 0.4523 - accuracy: 0.8165 - val_loss: 0.4535 - val_accuracy: 0.8152\n",
      "Epoch 42/50\n",
      "1019/1019 [==============================] - 2s 2ms/step - loss: 0.4519 - accuracy: 0.8167 - val_loss: 0.4527 - val_accuracy: 0.8155\n",
      "Epoch 43/50\n",
      "1019/1019 [==============================] - 2s 2ms/step - loss: 0.4511 - accuracy: 0.8168 - val_loss: 0.4525 - val_accuracy: 0.8157\n",
      "Epoch 44/50\n",
      "1019/1019 [==============================] - 2s 2ms/step - loss: 0.4505 - accuracy: 0.8173 - val_loss: 0.4514 - val_accuracy: 0.8157\n",
      "Epoch 45/50\n",
      "1019/1019 [==============================] - 2s 2ms/step - loss: 0.4499 - accuracy: 0.8173 - val_loss: 0.4534 - val_accuracy: 0.8167\n",
      "Epoch 46/50\n",
      "1019/1019 [==============================] - 2s 2ms/step - loss: 0.4492 - accuracy: 0.8178 - val_loss: 0.4504 - val_accuracy: 0.8165\n",
      "Epoch 47/50\n",
      "1019/1019 [==============================] - 2s 2ms/step - loss: 0.4489 - accuracy: 0.8178 - val_loss: 0.4494 - val_accuracy: 0.8162\n",
      "Epoch 48/50\n",
      "1019/1019 [==============================] - 2s 2ms/step - loss: 0.4481 - accuracy: 0.8178 - val_loss: 0.4490 - val_accuracy: 0.8162\n",
      "Epoch 49/50\n",
      "1019/1019 [==============================] - 2s 2ms/step - loss: 0.4476 - accuracy: 0.8182 - val_loss: 0.4485 - val_accuracy: 0.8167\n",
      "Epoch 50/50\n",
      "1019/1019 [==============================] - 2s 2ms/step - loss: 0.4471 - accuracy: 0.8181 - val_loss: 0.4480 - val_accuracy: 0.8167\n"
     ]
    }
   ],
   "source": [
    "# fit\n"
   ]
  },
  {
   "cell_type": "code",
   "execution_count": null,
   "metadata": {
    "id": "_EPzfp_7rGp3"
   },
   "outputs": [],
   "source": [
    "# lets write a function to get the metrics & loss plots\n",
    "\n",
    "def plot(model_history, plot_type):\n",
    "    val_type = \"val_\"+plot_type\n",
    "    plt.plot(model_history.history[plot_type])\n",
    "    plt.plot(model_history.history[val_type])\n",
    "    plt.title(val_type)\n",
    "    plt.xlabel('Epoch')\n",
    "    plt.legend(['Train', 'Validation'])\n",
    "    plt.show()"
   ]
  },
  {
   "cell_type": "code",
   "execution_count": null,
   "metadata": {
    "id": "_O-aU98kHl50"
   },
   "outputs": [],
   "source": [
    "#plot accuracy"
   ]
  },
  {
   "cell_type": "markdown",
   "metadata": {
    "id": "wc2WEYU7HlNT"
   },
   "source": [
    ""
   ]
  },
  {
   "cell_type": "code",
   "execution_count": null,
   "metadata": {
    "id": "Sb1binw1rGp6"
   },
   "outputs": [],
   "source": [
    "# convert the outputs into 0s and 1s\n",
    "\n",
    "#test_pred=(perceptron_model.predict(test) > 0.5).astype(\"int32\")\n",
    "#train_pred=(perceptron_model.predict(train) > 0.5).astype(\"int32\")"
   ]
  },
  {
   "cell_type": "code",
   "execution_count": null,
   "metadata": {
    "colab": {
     "base_uri": "https://localhost:8080/"
    },
    "executionInfo": {
     "elapsed": 34,
     "status": "ok",
     "timestamp": 1656488208961,
     "user": {
      "displayName": "Haritha Kallamadi",
      "userId": "08707752319667160902"
     },
     "user_tz": -330
    },
    "id": "AK7I2fLmrGp7",
    "outputId": "b09e1f86-6a39-4587-a0f6-8ed16f394d73"
   },
   "outputs": [
    {
     "data": {
      "text/plain": [
       "array([[32779,   288],\n",
       "       [ 7131,   532]])"
      ]
     },
     "execution_count": 32,
     "metadata": {},
     "output_type": "execute_result"
    }
   ],
   "source": [
    "#confusion_matrix(y_train, train_pred)"
   ]
  },
  {
   "cell_type": "code",
   "execution_count": null,
   "metadata": {
    "colab": {
     "base_uri": "https://localhost:8080/"
    },
    "executionInfo": {
     "elapsed": 28,
     "status": "ok",
     "timestamp": 1656488208962,
     "user": {
      "displayName": "Haritha Kallamadi",
      "userId": "08707752319667160902"
     },
     "user_tz": -330
    },
    "id": "3amWHsQGrGp7",
    "outputId": "31f194cd-895e-4cfa-8949-ffa47c784299"
   },
   "outputs": [
    {
     "data": {
      "text/plain": [
       "array([[14054,    96],\n",
       "       [ 3107,   199]])"
      ]
     },
     "execution_count": 33,
     "metadata": {},
     "output_type": "execute_result"
    }
   ],
   "source": [
    "#confusion_matrix(y_test, test_pred)"
   ]
  },
  {
   "cell_type": "code",
   "execution_count": null,
   "metadata": {
    "colab": {
     "base_uri": "https://localhost:8080/"
    },
    "executionInfo": {
     "elapsed": 19,
     "status": "ok",
     "timestamp": 1656488208962,
     "user": {
      "displayName": "Haritha Kallamadi",
      "userId": "08707752319667160902"
     },
     "user_tz": -330
    },
    "id": "QowV_UCorGp7",
    "outputId": "8a50840f-49cd-44d7-f1ad-e844dfa8f5c6"
   },
   "outputs": [
    {
     "data": {
      "text/plain": [
       "(199, 3107, 96, 14054)"
      ]
     },
     "execution_count": 34,
     "metadata": {},
     "output_type": "execute_result"
    }
   ],
   "source": [
    ""
   ]
  }
 ],
 "metadata": {
  "colab": {
   "collapsed_sections": [],
   "name": "06_ModelBuilding_BackOrdersData_Student_Copy.ipynb",
   "provenance": [
    {
     "file_id": "1QEkC2QHNgvpRM4dsUMgNoXp-ZA6gSPPs",
     "timestamp": 1656492536162
    }
   ]
  },
  "kernelspec": {
   "display_name": "Python 3",
   "language": "python",
   "name": "python3"
  },
  "language_info": {
   "codemirror_mode": {
    "name": "ipython",
    "version": 3
   },
   "file_extension": ".py",
   "mimetype": "text/x-python",
   "name": "python",
   "nbconvert_exporter": "python",
   "pygments_lexer": "ipython3",
   "version": "3.7.3"
  }
 },
 "nbformat": 4,
 "nbformat_minor": 0
}
