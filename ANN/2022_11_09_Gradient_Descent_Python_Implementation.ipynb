{
 "cells": [
  {
   "cell_type": "markdown",
   "metadata": {},
   "source": [
    "# Gradient Descent "
   ]
  },
  {
   "cell_type": "code",
   "execution_count": 1,
   "metadata": {
    "ExecuteTime": {
     "end_time": "2019-03-30T07:05:07.940536Z",
     "start_time": "2019-03-30T07:05:07.414372Z"
    }
   },
   "outputs": [],
   "source": [
    "import numpy as np\n",
    "import matplotlib.pyplot as plt\n",
    "import pandas as pd\n",
    "import random"
   ]
  },
  {
   "cell_type": "raw",
   "metadata": {},
   "source": [
    "y = w1x1 + w2x2"
   ]
  },
  {
   "cell_type": "markdown",
   "metadata": {},
   "source": [
    "## Data"
   ]
  },
  {
   "cell_type": "code",
   "execution_count": 2,
   "metadata": {
    "ExecuteTime": {
     "end_time": "2019-03-30T07:05:07.949832Z",
     "start_time": "2019-03-30T07:05:07.944642Z"
    }
   },
   "outputs": [],
   "source": [
    "x1, x2 = 6, 5\n",
    "y = 30"
   ]
  },
  {
   "cell_type": "code",
   "execution_count": 3,
   "metadata": {},
   "outputs": [],
   "source": [
    "w1 = random.random()"
   ]
  },
  {
   "cell_type": "code",
   "execution_count": 4,
   "metadata": {},
   "outputs": [
    {
     "data": {
      "text/plain": [
       "0.526825929076667"
      ]
     },
     "execution_count": 4,
     "metadata": {},
     "output_type": "execute_result"
    }
   ],
   "source": [
    "w1"
   ]
  },
  {
   "cell_type": "code",
   "execution_count": 5,
   "metadata": {},
   "outputs": [],
   "source": [
    "w2 = random.random()"
   ]
  },
  {
   "cell_type": "code",
   "execution_count": 6,
   "metadata": {},
   "outputs": [
    {
     "data": {
      "text/plain": [
       "0.017034619023527653"
      ]
     },
     "execution_count": 6,
     "metadata": {},
     "output_type": "execute_result"
    }
   ],
   "source": [
    "w2"
   ]
  },
  {
   "cell_type": "markdown",
   "metadata": {},
   "source": [
    "## Predictions"
   ]
  },
  {
   "cell_type": "code",
   "execution_count": 7,
   "metadata": {
    "ExecuteTime": {
     "end_time": "2019-03-30T07:05:07.962700Z",
     "start_time": "2019-03-30T07:05:07.952534Z"
    }
   },
   "outputs": [
    {
     "name": "stdout",
     "output_type": "stream",
     "text": [
      "prediction  3.2461286695776406\n"
     ]
    }
   ],
   "source": [
    "y_pred = w1*x1 + w2*x2\n",
    "print('prediction ',y_pred)"
   ]
  },
  {
   "cell_type": "markdown",
   "metadata": {},
   "source": [
    "## Calculate cost/loss\n",
    "Loss function for regression is usually MSE"
   ]
  },
  {
   "cell_type": "code",
   "execution_count": 8,
   "metadata": {
    "ExecuteTime": {
     "end_time": "2019-03-30T07:05:07.967910Z",
     "start_time": "2019-03-30T07:05:07.964458Z"
    }
   },
   "outputs": [
    {
     "name": "stdout",
     "output_type": "stream",
     "text": [
      "     715.7696311647954\n"
     ]
    }
   ],
   "source": [
    "error = (y - y_pred)**2\n",
    "print('    ', error)"
   ]
  },
  {
   "cell_type": "markdown",
   "metadata": {},
   "source": [
    "## Gradient descent"
   ]
  },
  {
   "cell_type": "code",
   "execution_count": 9,
   "metadata": {
    "ExecuteTime": {
     "end_time": "2019-03-30T07:05:07.980471Z",
     "start_time": "2019-03-30T07:05:07.970404Z"
    },
    "scrolled": true
   },
   "outputs": [
    {
     "name": "stdout",
     "output_type": "stream",
     "text": [
      "EPOCH = 0 ==> W1: 0.526825929076667 || W2:  0.017034619023527653 || Error = 715.7696311647954\n",
      "EPOCH = 1 ==> W1: 0.8478723850417353 || W2:  0.2845733323277513 || Error = 551.7753563508421\n",
      "EPOCH = 2 ==> W1: 1.1297511733790653 || W2:  0.5194723226088596 || Error = 425.3547938051626\n",
      "EPOCH = 3 ==> W1: 1.377240749539241 || W2:  0.7257136360756726 || Error = 327.899204867699\n",
      "EPOCH = 4 ==> W1: 1.5945365974078751 || W2:  0.9067935092995345 || Error = 252.7722506452313\n",
      "EPOCH = 5 ==> W1: 1.785322351836536 || W2:  1.0657816379900853 || Error = 194.85808366639847\n",
      "EPOCH = 6 ==> W1: 1.9528322442249002 || W2:  1.2053732149803889 || Error = 150.21297896908803\n",
      "EPOCH = 7 ==> W1: 2.099905929741884 || W2:  1.3279346195778754 || Error = 115.7967820796064\n",
      "EPOCH = 8 ==> W1: 2.229036625625796 || W2:  1.4355435328144686 || Error = 89.26588655665529\n",
      "EPOCH = 9 ==> W1: 2.34241337661187 || W2:  1.5300241586361973 || Error = 68.81364369234069\n",
      "EPOCH = 10 ==> W1: 2.4419581639776435 || W2:  1.6129781481076753 || Error = 53.04733690412637\n",
      "EPOCH = 11 ==> W1: 2.5293584872847927 || W2:  1.6858117508636328 || Error = 40.89334326200056\n",
      "EPOCH = 12 ==> W1: 2.60609597114847 || W2:  1.7497596540833635 || Error = 31.52402402718404\n",
      "EPOCH = 13 ==> W1: 2.673471481980778 || W2:  1.8059059131102873 || Error = 24.301365738171715\n",
      "EPOCH = 14 ==> W1: 2.7326271804915447 || W2:  1.8552023285359263 || Error = 18.73353402570478\n",
      "EPOCH = 15 ==> W1: 2.7845658837839977 || W2:  1.8984845812796372 || Error = 14.44138164387142\n",
      "EPOCH = 16 ==> W1: 2.830168065274772 || W2:  1.9364863991886154 || Error = 11.132630047154185\n",
      "EPOCH = 17 ==> W1: 2.8702067806236715 || W2:  1.9698519953126983 || Error = 8.581966381270396\n",
      "EPOCH = 18 ==> W1: 2.9053607727000053 || W2:  1.9991469887096431 || Error = 6.615700571859231\n",
      "EPOCH = 19 ==> W1: 2.9362259777430264 || W2:  2.0248679929121605 || Error = 5.099937719637152\n",
      "EPOCH = 20 ==> W1: 2.963325627770799 || W2:  2.0474510346019708 || Error = 3.9314603890647657\n",
      "EPOCH = 21 ==> W1: 2.9871191204951835 || W2:  2.0672789452056244 || Error = 3.0306999105637913\n",
      "EPOCH = 22 ==> W1: 3.008009807107193 || W2:  2.0846878507156323 || Error = 2.3363180698550567\n",
      "EPOCH = 23 ==> W1: 3.0263518299525374 || W2:  2.0999728697534192 || Error = 1.80103021896213\n",
      "EPOCH = 24 ==> W1: 3.0424561260107494 || W2:  2.113393116468596 || Error = 1.3883853793144092\n",
      "EPOCH = 25 ==> W1: 3.05659569794986 || W2:  2.125176093084521 || Error = 1.0702840747474023\n",
      "EPOCH = 26 ==> W1: 3.0690102421123986 || W2:  2.1355215465533033 || Error = 0.8250648686775861\n",
      "EPOCH = 27 ==> W1: 3.079910211887108 || W2:  2.144604854698894 || Error = 0.6360293062256479\n",
      "EPOCH = 28 ==> W1: 3.0894803853493022 || W2:  2.152579999250723 || Error = 0.49030481570045525\n",
      "EPOCH = 29 ==> W1: 3.097882997649109 || W2:  2.1595821761672287 || Error = 0.3779681375464278\n",
      "EPOCH = 30 ==> W1: 3.1052604912483392 || W2:  2.1657300874999206 || Error = 0.29136958974434674\n",
      "EPOCH = 31 ==> W1: 3.111737930628464 || W2:  2.171127953650024 || Error = 0.22461215482047917\n",
      "EPOCH = 32 ==> W1: 3.117425122404213 || W2:  2.175867280129815 || Error = 0.17314991635663318\n",
      "EPOCH = 33 ==> W1: 3.1224184767833205 || W2:  2.1800284087790716 || Error = 0.1334785001206646\n",
      "EPOCH = 34 ==> W1: 3.1268026419281774 || W2:  2.183681879733119 || Error = 0.10289644008701744\n",
      "EPOCH = 35 ==> W1: 3.1306519389253613 || W2:  2.186889627230772 || Error = 0.07932121932004046\n",
      "EPOCH = 36 ==> W1: 3.134031621688889 || W2:  2.1897060295337116 || Error = 0.06114745883431014\n",
      "EPOCH = 37 ==> W1: 3.1369989831552663 || W2:  2.192178830755693 || Error = 0.04713759765602809\n",
      "EPOCH = 38 ==> W1: 3.1396043265227456 || W2:  2.194349950228592 || Error = 0.03633761983147075\n",
      "EPOCH = 39 ==> W1: 3.1418918179993924 || W2:  2.196256193125798 || Error = 0.02801208972616231\n",
      "EPOCH = 40 ==> W1: 3.1439002355158885 || W2:  2.1979298743895446 || Error = 0.021594071776463185\n",
      "EPOCH = 41 ==> W1: 3.145663626095372 || W2:  2.199399366539114 || Error = 0.016646524427327076\n",
      "EPOCH = 42 ==> W1: 3.147211883024158 || W2:  2.200689580646436 || Error = 0.012832539336636155\n",
      "EPOCH = 43 ==> W1: 3.1485712526076326 || W2:  2.2018223886326647 || Error = 0.00989239925398331\n",
      "EPOCH = 44 ==> W1: 3.149764779101923 || W2:  2.2028169940445737 || Error = 0.007625892306507438\n",
      "EPOCH = 45 ==> W1: 3.15081269536391 || W2:  2.2036902575962296 || Error = 0.005878678364809878\n",
      "EPOCH = 46 ==> W1: 3.1517327658419347 || W2:  2.2044569829945835 || Error = 0.004531779092577958\n",
      "EPOCH = 47 ==> W1: 3.1525405877216404 || W2:  2.205130167894338 || Error = 0.00349347599400297\n",
      "EPOCH = 48 ==> W1: 3.153249855332022 || W2:  2.205721224236323 || Error = 0.0026930647481609132\n",
      "EPOCH = 49 ==> W1: 3.153872592293937 || W2:  2.2062401717045854 || Error = 0.002076040525321488\n",
      "EPOCH = 50 ==> W1: 3.1544193553464983 || W2:  2.20669580758172 || Error = 0.0016003864243215762\n",
      "EPOCH = 51 ==> W1: 3.154899413306647 || W2:  2.207095855881844 || Error = 0.0012337122883271713\n",
      "EPOCH = 52 ==> W1: 3.155320904195658 || W2:  2.207447098289353 || Error = 0.0009510490636746624\n",
      "EPOCH = 53 ==> W1: 3.1556909731962093 || W2:  2.2077554891231457 || Error = 0.0007331485064018719\n",
      "EPOCH = 54 ==> W1: 3.1560158937786933 || W2:  2.208026256275216 || Error = 0.0005651724532091196\n",
      "EPOCH = 55 ==> W1: 3.1563011740501143 || W2:  2.2082639898347334 || Error = 0.000435682401419723\n",
      "EPOCH = 56 ==> W1: 3.156551650128422 || W2:  2.20847271989999 || Error = 0.0003358605923360334\n",
      "EPOCH = 57 ==> W1: 3.1567715681251762 || W2:  2.208655984897285 || Error = 0.00025890955686243804\n",
      "EPOCH = 58 ==> W1: 3.1569646561263265 || W2:  2.20881689156491 || Error = 0.00019958923483235952\n",
      "EPOCH = 59 ==> W1: 3.1571341873913363 || W2:  2.208958167619085 || Error = 0.00015386014770447796\n",
      "EPOCH = 60 ==> W1: 3.157283035842015 || W2:  2.2090822079946504 || Error = 0.00011860832610299557\n",
      "EPOCH = 61 ==> W1: 3.157413724781711 || W2:  2.209191115444397 || Error = 9.14332608596201e-05\n",
      "EPOCH = 62 ==> W1: 3.157528469670764 || W2:  2.209286736185274 || Error = 7.0484437864502e-05\n",
      "EPOCH = 63 ==> W1: 3.1576292156833525 || W2:  2.2093706911957645 || Error = 5.433532539873814e-05\n",
      "EPOCH = 64 ==> W1: 3.157717670682405 || W2:  2.209444403694975 || Error = 4.188623298471755e-05\n",
      "EPOCH = 65 ==> W1: 3.157795334171573 || W2:  2.209509123269282 || Error = 3.228942682820691e-05\n",
      "EPOCH = 66 ==> W1: 3.157863522715063 || W2:  2.209565947055524 || Error = 2.4891402511002416e-05\n",
      "EPOCH = 67 ==> W1: 3.1579233922562473 || W2:  2.2096158383398437 || Error = 1.9188383933319226e-05\n",
      "EPOCH = 68 ==> W1: 3.157975957713407 || W2:  2.209659642887477 || Error = 1.4792018160047503e-05\n",
      "EPOCH = 69 ==> W1: 3.1580221101847927 || W2:  2.2096981032802985 || Error = 1.1402930127271775e-05\n",
      "EPOCH = 70 ==> W1: 3.1580626320546696 || W2:  2.209731871505196 || Error = 8.79033638823759e-06\n",
      "EPOCH = 71 ==> W1: 3.1580982102564215 || W2:  2.2097615200066563 || Error = 6.7763296763122175e-06\n",
      "EPOCH = 72 ==> W1: 3.1581294479175597 || W2:  2.209787551390938 || Error = 5.223764126190662e-06\n",
      "EPOCH = 73 ==> W1: 3.158156874584039 || W2:  2.2098104069463376 || Error = 4.026916184670276e-06\n",
      "EPOCH = 74 ==> W1: 3.1581809551972078 || W2:  2.2098304741239785 || Error = 3.1042852561020835e-06\n",
      "EPOCH = 75 ==> W1: 3.15820209797557 || W2:  2.209848093105947 || Error = 2.3930438353673727e-06\n",
      "EPOCH = 76 ==> W1: 3.158220661334972 || W2:  2.2098635625721155 || Error = 1.84475920399085e-06\n",
      "EPOCH = 77 ==> W1: 3.1582369599645275 || W2:  2.2098771447634116 || Error = 1.4220953542019953e-06\n",
      "EPOCH = 78 ==> W1: 3.158251270161277 || W2:  2.209889069927369 || Error = 1.0962705550281897e-06\n",
      "EPOCH = 79 ==> W1: 3.1582638345140226 || W2:  2.209899540221324 || Error = 8.450974305414627e-07\n",
      "EPOCH = 80 ==> W1: 3.1582748660157334 || W2:  2.2099087331394167 || Error = 6.51472087650308e-07\n",
      "EPOCH = 81 ==> W1: 3.1582845516742357 || W2:  2.209916804521502 || Error = 5.022094088126449e-07\n",
      "EPOCH = 82 ==> W1: 3.1582930556824005 || W2:  2.209923891194973 || Error = 3.87145197901836e-07\n",
      "EPOCH = 83 ==> W1: 3.158300522201569 || W2:  2.20993011329428 || Error = 2.984440387431009e-07\n",
      "EPOCH = 84 ==> W1: 3.1583070778053997 || W2:  2.209935576297472 || Error = 2.3006573436120966e-07\n",
      "EPOCH = 85 ==> W1: 3.1583128336255624 || W2:  2.2099403728142746 || Error = 1.7735399356482909e-07\n",
      "EPOCH = 86 ==> W1: 3.158317887235665 || W2:  2.2099445841560272 || Error = 1.3671935597486715e-07\n",
      "EPOCH = 87 ==> W1: 3.1583223243053355 || W2:  2.209948281714086 || Error = 1.0539476401181851e-07\n",
      "EPOCH = 88 ==> W1: 3.158326220052506 || W2:  2.2099515281700617 || Error = 8.124713726117936e-08\n",
      "EPOCH = 89 ==> W1: 3.158329640518522 || W2:  2.2099543785584084 || Error = 6.263211816082398e-08\n",
      "EPOCH = 90 ==> W1: 3.1583326436876837 || W2:  2.2099568811993766 || Error = 4.828209777749395e-08\n",
      "EPOCH = 91 ==> W1: 3.158335280470208 || W2:  2.2099590785181467 || Error = 3.721989666290276e-08\n",
      "EPOCH = 92 ==> W1: 3.158337595565264 || W2:  2.209961007764027 || Error = 2.8692222818170416e-08\n",
      "EPOCH = 93 ==> W1: 3.1583396282187235 || W2:  2.20996270164191 || Error = 2.211837549479552e-08\n",
      "EPOCH = 94 ==> W1: 3.158341412888461 || W2:  2.209964188866691 || Error = 1.7050701775453236e-08\n",
      "EPOCH = 95 ==> W1: 3.15834297982849 || W2:  2.209965494650049 || Error = 1.3144113187310457e-08\n",
      "EPOCH = 96 ==> W1: 3.158344355601836 || W2:  2.209966641127837 || Error = 1.0132586549846047e-08\n",
      "EPOCH = 97 ==> W1: 3.1583455635308337 || W2:  2.209967647735335 || Error = 7.811048849897801e-09\n",
      "EPOCH = 98 ==> W1: 3.1583466240924936 || W2:  2.209968531536718 || Error = 6.021412581534041e-09\n",
      "EPOCH = 99 ==> W1: 3.158347555265631 || W2:  2.2099693075143327 || Error = 4.641810616847966e-09\n"
     ]
    }
   ],
   "source": [
    "lr = 0.001 # play with learing rate \n",
    "e = []\n",
    "\n",
    "for epoch in range(100):\n",
    "    y_pred = w1*x1 + w2*x2\n",
    "    error = (y - y_pred)**2\n",
    "    e.append(error)\n",
    "    print(\"EPOCH =\",epoch,\"==> W1:\", w1, \"|| W2: \", w2, \"|| Error =\", error)\n",
    "    dEw1 = 2*(y - y_pred)*(-x1)\n",
    "    dEw2 = 2*(y - y_pred)*(-x2)\n",
    "\n",
    "    w1 = w1 - lr*dEw1 #Wnew = Wold – (α * dL/dw)\n",
    "    w2 = w2 - lr*dEw2\n"
   ]
  },
  {
   "cell_type": "code",
   "execution_count": 10,
   "metadata": {
    "ExecuteTime": {
     "end_time": "2019-03-30T07:05:07.993697Z",
     "start_time": "2019-03-30T07:05:07.982760Z"
    }
   },
   "outputs": [
    {
     "name": "stdout",
     "output_type": "stream",
     "text": [
      "3.1583483728356456 2.2099699888226785\n"
     ]
    }
   ],
   "source": [
    "print(w1, w2)"
   ]
  },
  {
   "cell_type": "code",
   "execution_count": 11,
   "metadata": {
    "ExecuteTime": {
     "end_time": "2019-03-30T07:05:08.003905Z",
     "start_time": "2019-03-30T07:05:07.996265Z"
    }
   },
   "outputs": [
    {
     "data": {
      "text/plain": [
       "29.999940181127265"
      ]
     },
     "execution_count": 11,
     "metadata": {},
     "output_type": "execute_result"
    }
   ],
   "source": [
    "x1*w1 + x2*w2"
   ]
  },
  {
   "cell_type": "code",
   "execution_count": 12,
   "metadata": {},
   "outputs": [],
   "source": [
    "# plot of epochs Vs Error "
   ]
  },
  {
   "cell_type": "code",
   "execution_count": 13,
   "metadata": {},
   "outputs": [
    {
     "data": {
      "image/png": "[encoded data removed]",
      "text/plain": [
       "<Figure size 432x288 with 1 Axes>"
      ]
     },
     "metadata": {
      "needs_background": "light"
     },
     "output_type": "display_data"
    }
   ],
   "source": [
    "plt.plot(epoch)\n",
    "plt.plot(e)\n",
    "plt.title('model loss')\n",
    "plt.ylabel('loss')\n",
    "plt.xlabel('epoch')\n",
    "plt.show()"
   ]
  },
  {
   "cell_type": "code",
   "execution_count": null,
   "metadata": {},
   "outputs": [],
   "source": []
  }
 ],
 "metadata": {
  "kernelspec": {
   "display_name": "Python 3 (ipykernel)",
   "language": "python",
   "name": "python3"
  },
  "language_info": {
   "codemirror_mode": {
    "name": "ipython",
    "version": 3
   },
   "file_extension": ".py",
   "mimetype": "text/x-python",
   "name": "python",
   "nbconvert_exporter": "python",
   "pygments_lexer": "ipython3",
   "version": "3.9.13"
  },
  "varInspector": {
   "cols": {
    "lenName": 16,
    "lenType": 16,
    "lenVar": 40
   },
   "kernels_config": {
    "python": {
     "delete_cmd_postfix": "",
     "delete_cmd_prefix": "del ",
     "library": "var_list.py",
     "varRefreshCmd": "print(var_dic_list())"
    },
    "r": {
     "delete_cmd_postfix": ") ",
     "delete_cmd_prefix": "rm(",
     "library": "var_list.r",
     "varRefreshCmd": "cat(var_dic_list()) "
    }
   },
   "types_to_exclude": [
    "module",
    "function",
    "builtin_function_or_method",
    "instance",
    "_Feature"
   ],
   "window_display": false
  }
 },
 "nbformat": 4,
 "nbformat_minor": 2
}
