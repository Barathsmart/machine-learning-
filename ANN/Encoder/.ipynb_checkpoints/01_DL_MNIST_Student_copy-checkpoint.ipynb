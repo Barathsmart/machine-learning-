{
 "cells": [
  {
   "cell_type": "markdown",
   "metadata": {
    "id": "3v38Co--kal-"
   },
   "source": [
    "### Deep-Learning Lab Session\n",
    "In this lab we design a neural network that clssifies numbers (0 to 9). The  dataset we are going to use is from MNIST. We observe the performnce by changing \n",
    "1. activation functions\n",
    "2. optimization algorithm\n",
    "3. Number of layers."
   ]
  },
  {
   "cell_type": "code",
   "execution_count": null,
   "metadata": {
    "colab": {
     "base_uri": "https://localhost:8080/"
    },
    "executionInfo": {
     "elapsed": 3237,
     "status": "ok",
     "timestamp": 1656768149240,
     "user": {
      "displayName": "Haritha Kallamadi",
      "userId": "08707752319667160902"
     },
     "user_tz": -330
    },
    "id": "N31D7WzKnusR",
    "outputId": "10543883-48e0-41c9-c5ce-f85ae711a571"
   },
   "outputs": [
    {
     "name": "stdout",
     "output_type": "stream",
     "text": [
      "Drive already mounted at /content/drive; to attempt to forcibly remount, call drive.mount(\"/content/drive\", force_remount=True).\n"
     ]
    }
   ],
   "source": [
    "from google.colab import drive\n",
    "drive.mount('/content/drive')"
   ]
  },
  {
   "cell_type": "code",
   "execution_count": null,
   "metadata": {
    "id": "NTiRNDhSkamI"
   },
   "outputs": [],
   "source": [
    "import warnings\n",
    "warnings.filterwarnings('ignore')"
   ]
  },
  {
   "cell_type": "code",
   "execution_count": null,
   "metadata": {
    "id": "hNv40rOHkamL"
   },
   "outputs": [],
   "source": [
    "import numpy as np\n",
    "import keras\n",
    "from keras.datasets import mnist\n",
    "from keras.utils import np_utils\n",
    "from keras.models import Sequential\n",
    "from keras.layers.core import Dense, Dropout, Activation\n",
    "from keras.layers import BatchNormalization\n",
    "from keras.regularizers import l2\n",
    "import matplotlib.pyplot as plt\n",
    "import cv2"
   ]
  },
  {
   "cell_type": "markdown",
   "metadata": {
    "id": "wcxx23UJkamN"
   },
   "source": [
    "## Loading MNIST Data from Keras"
   ]
  },
  {
   "cell_type": "markdown",
   "metadata": {
    "id": "k2ufVmGWkamP"
   },
   "source": [
    "MNIST is a database. The acronym stands for “Modified National Institute of Standards and Technology.” The MNIST \n",
    "\n",
    "database contains handwritten digits (0 through 9), and can provide a baseline for testing image processing systems. \n"
   ]
  },
  {
   "cell_type": "code",
   "execution_count": null,
   "metadata": {
    "id": "wReIA7zfkamQ"
   },
   "outputs": [],
   "source": [
    "# Load  data from MNSIST\n",
    "#(x_train, y_train), (x_test, y_test) = mnist.load_data()"
   ]
  },
  {
   "cell_type": "code",
   "execution_count": null,
   "metadata": {
    "colab": {
     "base_uri": "https://localhost:8080/",
     "height": 268
    },
    "executionInfo": {
     "elapsed": 2450,
     "status": "ok",
     "timestamp": 1656768156973,
     "user": {
      "displayName": "Haritha Kallamadi",
      "userId": "08707752319667160902"
     },
     "user_tz": -330
    },
    "id": "LsU9sbQBkamR",
    "outputId": "a07190f1-b1ab-4eae-ac93-39c956f3083c"
   },
   "outputs": [
    {
     "data": {
      "image/png": "[encoded data removed]",
      "text/plain": [
       "<Figure size 432x288 with 9 Axes>"
      ]
     },
     "metadata": {
      "needs_background": "light"
     },
     "output_type": "display_data"
    }
   ],
   "source": [
    "for i in range(9):\n",
    "    plt.subplot(330 + 1 + i)\n",
    "    plt.imshow(x_train[i], cmap=plt.get_cmap('gray'))\n",
    "plt.show()"
   ]
  },
  {
   "cell_type": "code",
   "execution_count": null,
   "metadata": {
    "colab": {
     "base_uri": "https://localhost:8080/"
    },
    "executionInfo": {
     "elapsed": 35,
     "status": "ok",
     "timestamp": 1656768156975,
     "user": {
      "displayName": "Haritha Kallamadi",
      "userId": "08707752319667160902"
     },
     "user_tz": -330
    },
    "id": "uOriveAtkamT",
    "outputId": "e9b2531c-f7e1-4483-e8f7-0d2625375832"
   },
   "outputs": [
    {
     "name": "stdout",
     "output_type": "stream",
     "text": [
      "(60000, 28, 28)\n",
      "(10000, 28, 28)\n"
     ]
    }
   ],
   "source": [
    "#print shapes of x_train, x_test"
   ]
  },
  {
   "cell_type": "markdown",
   "metadata": {
    "id": "2lCDpRsTkamV"
   },
   "source": [
    "## Normalizing"
   ]
  },
  {
   "cell_type": "code",
   "execution_count": null,
   "metadata": {
    "id": "lFR6QtMDkamW"
   },
   "outputs": [],
   "source": [
    "# the values in the array lie between 0-255, first convert them into float and normalize \n",
    "# both training and testing data\n",
    "# x_train = \n",
    "# x_test = "
   ]
  },
  {
   "cell_type": "code",
   "execution_count": null,
   "metadata": {
    "colab": {
     "base_uri": "https://localhost:8080/"
    },
    "executionInfo": {
     "elapsed": 33,
     "status": "ok",
     "timestamp": 1656768156976,
     "user": {
      "displayName": "Haritha Kallamadi",
      "userId": "08707752319667160902"
     },
     "user_tz": -330
    },
    "id": "nkMaY0NSkamX",
    "outputId": "512da28d-b055-4dfd-9995-dffcb6998f59"
   },
   "outputs": [
    {
     "name": "stdout",
     "output_type": "stream",
     "text": [
      "(60000, 28, 28)\n",
      "(10000, 28, 28)\n"
     ]
    }
   ],
   "source": [
    "print (x_train.shape)\n",
    "print (x_test.shape)"
   ]
  },
  {
   "cell_type": "code",
   "execution_count": null,
   "metadata": {
    "colab": {
     "base_uri": "https://localhost:8080/"
    },
    "executionInfo": {
     "elapsed": 30,
     "status": "ok",
     "timestamp": 1656768156977,
     "user": {
      "displayName": "Haritha Kallamadi",
      "userId": "08707752319667160902"
     },
     "user_tz": -330
    },
    "id": "yKcHCwtakamY",
    "outputId": "797b255e-4b49-4429-a68c-cfeb8740bc08"
   },
   "outputs": [
    {
     "name": "stdout",
     "output_type": "stream",
     "text": [
      "60000\n"
     ]
    }
   ],
   "source": [
    "print(x_train.shape[0])"
   ]
  },
  {
   "cell_type": "code",
   "execution_count": null,
   "metadata": {
    "colab": {
     "base_uri": "https://localhost:8080/"
    },
    "executionInfo": {
     "elapsed": 28,
     "status": "ok",
     "timestamp": 1656768156978,
     "user": {
      "displayName": "Haritha Kallamadi",
      "userId": "08707752319667160902"
     },
     "user_tz": -330
    },
    "id": "AHqxecGzkamZ",
    "outputId": "46e80ab1-e60d-4fd8-af28-7a3c90a6c2ee"
   },
   "outputs": [
    {
     "name": "stdout",
     "output_type": "stream",
     "text": [
      "(28, 28)\n"
     ]
    }
   ],
   "source": [
    "print((x_train.shape[1:]))"
   ]
  },
  {
   "cell_type": "code",
   "execution_count": null,
   "metadata": {
    "colab": {
     "base_uri": "https://localhost:8080/"
    },
    "executionInfo": {
     "elapsed": 25,
     "status": "ok",
     "timestamp": 1656768156978,
     "user": {
      "displayName": "Haritha Kallamadi",
      "userId": "08707752319667160902"
     },
     "user_tz": -330
    },
    "id": "_0r2umdzkama",
    "outputId": "55f23015-c238-4af4-a700-3d9184a95ef4"
   },
   "outputs": [
    {
     "name": "stdout",
     "output_type": "stream",
     "text": [
      "784\n"
     ]
    }
   ],
   "source": [
    "print(np.prod(x_train.shape[1:]))"
   ]
  },
  {
   "cell_type": "code",
   "execution_count": null,
   "metadata": {
    "colab": {
     "base_uri": "https://localhost:8080/"
    },
    "executionInfo": {
     "elapsed": 23,
     "status": "ok",
     "timestamp": 1656768156979,
     "user": {
      "displayName": "Haritha Kallamadi",
      "userId": "08707752319667160902"
     },
     "user_tz": -330
    },
    "id": "0CnU_qq6kamb",
    "outputId": "4a8271cb-0e28-435f-b858-93c231ee67a3"
   },
   "outputs": [
    {
     "name": "stdout",
     "output_type": "stream",
     "text": [
      "(60000, 784)\n",
      "(10000, 784)\n"
     ]
    }
   ],
   "source": [
    "# Now we want to reshape 28x28, what is tyeh command used?\n",
    "# using np.prod conver it into column\n",
    "#x_train = \n",
    "#x_test = \n",
    "\n",
    "print (x_train.shape)\n",
    "print (x_test.shape)"
   ]
  },
  {
   "cell_type": "code",
   "execution_count": null,
   "metadata": {
    "colab": {
     "base_uri": "https://localhost:8080/"
    },
    "executionInfo": {
     "elapsed": 22,
     "status": "ok",
     "timestamp": 1656768156980,
     "user": {
      "displayName": "Haritha Kallamadi",
      "userId": "08707752319667160902"
     },
     "user_tz": -330
    },
    "id": "s0bNAuDfkamc",
    "outputId": "a88802d2-d745-4802-dd45-75d7310c2f93",
    "scrolled": true
   },
   "outputs": [
    {
     "name": "stdout",
     "output_type": "stream",
     "text": [
      "[5 0 4 ... 5 6 8]\n",
      "(60000,)\n"
     ]
    }
   ],
   "source": [
    "print(y_train)\n",
    "print(y_train.shape)"
   ]
  },
  {
   "cell_type": "markdown",
   "metadata": {
    "id": "ayjhXX4Ukamd"
   },
   "source": [
    "## One hot encoding the Target variable"
   ]
  },
  {
   "cell_type": "code",
   "execution_count": null,
   "metadata": {
    "id": "iX5hszZ0kamd"
   },
   "outputs": [],
   "source": [
    "# How many classes do we have?\n",
    "# Convert the data into ??????\n",
    "#n_classes = 10\n",
    "#y_train = \n",
    "#y_test = "
   ]
  },
  {
   "cell_type": "code",
   "execution_count": null,
   "metadata": {
    "colab": {
     "base_uri": "https://localhost:8080/"
    },
    "executionInfo": {
     "elapsed": 18,
     "status": "ok",
     "timestamp": 1656768156981,
     "user": {
      "displayName": "Haritha Kallamadi",
      "userId": "08707752319667160902"
     },
     "user_tz": -330
    },
    "id": "LnZG_4SZkame",
    "outputId": "699b3f4a-3640-4b41-e949-f62bc4ef730b"
   },
   "outputs": [
    {
     "name": "stdout",
     "output_type": "stream",
     "text": [
      "[[0. 0. 0. ... 0. 0. 0.]\n",
      " [1. 0. 0. ... 0. 0. 0.]\n",
      " [0. 0. 0. ... 0. 0. 0.]\n",
      " ...\n",
      " [0. 0. 0. ... 0. 0. 0.]\n",
      " [0. 0. 0. ... 0. 0. 0.]\n",
      " [0. 0. 0. ... 0. 1. 0.]]\n",
      "(60000, 10)\n"
     ]
    }
   ],
   "source": [
    "print(y_train)\n",
    "print(y_train.shape)"
   ]
  },
  {
   "cell_type": "markdown",
   "metadata": {
    "id": "jsn5jCdB_vdx"
   },
   "source": [
    "### Layers, Data and Learning Representations\n",
    "\n",
    "<br />\n",
    "\n",
    "* __Layers__: logically grouped operations in a neural network, the parameters for the operations in the layer learn to generate the best features to predict the target"
   ]
  },
  {
   "cell_type": "markdown",
   "metadata": {
    "id": "x0l_2XXcDNPi"
   },
   "source": [
    "* The network needs to have __input data__ and corresponding __targets (y)__\n",
    "\n",
    "<br />\n",
    "\n",
    "* In traditional machine learning we see that changing the representation of the data (kernel trick, etc.) helps ease the process of learning from data\n",
    "\n",
    "<br />\n",
    "\n",
    "* __Activation function__ adds that non linearity and in combination with weights (parameters) of a layer, the network learns better representations of the data at each layer\n",
    "\n",
    "<br />\n",
    "\n",
    "##### So basically, each layer takes input as data and spits out transformed data as output, simple as that. Now, let's dive into the details\n",
    "\n",
    "\n"
   ]
  },
  {
   "cell_type": "markdown",
   "metadata": {
    "id": "SBHsFgZgDySU"
   },
   "source": [
    "* The goal of training neural networks is to find these perfect representation of data, which we get by \"learning\" the right weights\n"
   ]
  },
  {
   "cell_type": "markdown",
   "metadata": {
    "id": "4y9O-uc9ECuC"
   },
   "source": [
    "* The loss function, which defines the feedback signal used for learning helps guage __how different are the targets and the predicted targets__\n"
   ]
  },
  {
   "cell_type": "markdown",
   "metadata": {
    "id": "ymOHyHY5ENBo"
   },
   "source": [
    "The optimizer, based on the feedback signal from the loss function changes the parameters / weights of the network to help make the predictions as close to the target as possible (minimizing the loss function)"
   ]
  },
  {
   "cell_type": "markdown",
   "metadata": {
    "id": "tVQZ2HTDkamg"
   },
   "source": [
    "# Neural Network Architecture"
   ]
  },
  {
   "cell_type": "markdown",
   "metadata": {
    "id": "6sAPpEgWkamh"
   },
   "source": [
    "## 1. Basic Network with 1 Hidden Layer"
   ]
  },
  {
   "cell_type": "code",
   "execution_count": null,
   "metadata": {
    "id": "eILy9Tbkkamh"
   },
   "outputs": [],
   "source": [
    "# Buid a sequential model with 1 hidden laye\n",
    "# Add a Dense layer with 512 neurons with sigmoid \n",
    "# At the output layer How many neurons?\n",
    "# What should be the activation function?\n",
    "# model1 = \n",
    "#\n",
    "#"
   ]
  },
  {
   "cell_type": "code",
   "execution_count": null,
   "metadata": {
    "id": "rE22h-dDkamk"
   },
   "outputs": [],
   "source": [
    "# Compile the model\n",
    "# What loss should we select?\n",
    "#"
   ]
  },
  {
   "cell_type": "code",
   "execution_count": null,
   "metadata": {
    "colab": {
     "base_uri": "https://localhost:8080/"
    },
    "executionInfo": {
     "elapsed": 41,
     "status": "ok",
     "timestamp": 1656768162062,
     "user": {
      "displayName": "Haritha Kallamadi",
      "userId": "08707752319667160902"
     },
     "user_tz": -330
    },
    "id": "RTr3tKiskamk",
    "outputId": "0ad558b4-de9a-4d9f-da97-c9a9dadbae55",
    "scrolled": false
   },
   "outputs": [
    {
     "name": "stdout",
     "output_type": "stream",
     "text": [
      "Model: \"sequential\"\n",
      "_________________________________________________________________\n",
      " Layer (type)                Output Shape              Param #   \n",
      "=================================================================\n",
      " dense (Dense)               (None, 512)               401920    \n",
      "                                                                 \n",
      " dense_1 (Dense)             (None, 10)                5130      \n",
      "                                                                 \n",
      "=================================================================\n",
      "Total params: 407,050\n",
      "Trainable params: 407,050\n",
      "Non-trainable params: 0\n",
      "_________________________________________________________________\n"
     ]
    }
   ],
   "source": [
    "model1.summary()\n",
    "keras.utils.plot_model(model1, \"my_first_model.png\", show_shapes = True)"
   ]
  },
  {
   "cell_type": "code",
   "execution_count": null,
   "metadata": {
    "colab": {
     "base_uri": "https://localhost:8080/"
    },
    "executionInfo": {
     "elapsed": 30,
     "status": "ok",
     "timestamp": 1656768162067,
     "user": {
      "displayName": "Haritha Kallamadi",
      "userId": "08707752319667160902"
     },
     "user_tz": -330
    },
    "id": "s3t1RFeQkaml",
    "outputId": "36d4ba5b-6831-45ea-c1a7-85e3af35098e"
   },
   "outputs": [
    {
     "data": {
      "text/plain": [
       "401920"
      ]
     },
     "execution_count": 26,
     "metadata": {},
     "output_type": "execute_result"
    }
   ],
   "source": [
    "# Compute how many wts at hidden layer "
   ]
  },
  {
   "cell_type": "code",
   "execution_count": null,
   "metadata": {
    "colab": {
     "base_uri": "https://localhost:8080/"
    },
    "executionInfo": {
     "elapsed": 84116,
     "status": "ok",
     "timestamp": 1656768246154,
     "user": {
      "displayName": "Haritha Kallamadi",
      "userId": "08707752319667160902"
     },
     "user_tz": -330
    },
    "id": "FGk4npOakamm",
    "outputId": "6aa0e7de-66d1-49d5-8f1e-dd2f74669bdf",
    "scrolled": true
   },
   "outputs": [
    {
     "name": "stdout",
     "output_type": "stream",
     "text": [
      "Epoch 1/10\n",
      "469/469 [==============================] - 9s 17ms/step - loss: 1.9215 - accuracy: 0.5653 - val_loss: 1.5846 - val_accuracy: 0.7105\n",
      "Epoch 2/10\n",
      "469/469 [==============================] - 5s 10ms/step - loss: 1.3592 - accuracy: 0.7627 - val_loss: 1.1352 - val_accuracy: 0.8067\n",
      "Epoch 3/10\n",
      "469/469 [==============================] - 4s 9ms/step - loss: 1.0190 - accuracy: 0.8104 - val_loss: 0.8835 - val_accuracy: 0.8290\n",
      "Epoch 4/10\n",
      "469/469 [==============================] - 4s 9ms/step - loss: 0.8255 - accuracy: 0.8324 - val_loss: 0.7360 - val_accuracy: 0.8494\n",
      "Epoch 5/10\n",
      "469/469 [==============================] - 4s 9ms/step - loss: 0.7089 - accuracy: 0.8460 - val_loss: 0.6442 - val_accuracy: 0.8609\n",
      "Epoch 6/10\n",
      "469/469 [==============================] - 4s 9ms/step - loss: 0.6325 - accuracy: 0.8548 - val_loss: 0.5812 - val_accuracy: 0.8663\n",
      "Epoch 7/10\n",
      "469/469 [==============================] - 4s 9ms/step - loss: 0.5790 - accuracy: 0.8617 - val_loss: 0.5364 - val_accuracy: 0.8747\n",
      "Epoch 8/10\n",
      "469/469 [==============================] - 4s 9ms/step - loss: 0.5393 - accuracy: 0.8677 - val_loss: 0.5023 - val_accuracy: 0.8802\n",
      "Epoch 9/10\n",
      "469/469 [==============================] - 4s 9ms/step - loss: 0.5090 - accuracy: 0.8723 - val_loss: 0.4749 - val_accuracy: 0.8819\n",
      "Epoch 10/10\n",
      "469/469 [==============================] - 4s 8ms/step - loss: 0.4848 - accuracy: 0.8770 - val_loss: 0.4542 - val_accuracy: 0.8849\n"
     ]
    }
   ],
   "source": [
    "# Fit the model, with batch_size = 128, epochs = 5, validation data 0.15\n",
    "\n",
    "#\n",
    "#loss, accuracy  = "
   ]
  },
  {
   "cell_type": "code",
   "execution_count": null,
   "metadata": {
    "colab": {
     "base_uri": "https://localhost:8080/",
     "height": 297
    },
    "executionInfo": {
     "elapsed": 857,
     "status": "ok",
     "timestamp": 1656768246974,
     "user": {
      "displayName": "Haritha Kallamadi",
      "userId": "08707752319667160902"
     },
     "user_tz": -330
    },
    "id": "BC-VluC-kamm",
    "outputId": "745f13d8-2838-4ddd-dc98-1c8f1a02d40b"
   },
   "outputs": [
    {
     "data": {
      "image/png": "[encoded data removed]",
      "text/plain": [
       "<Figure size 432x288 with 2 Axes>"
      ]
     },
     "metadata": {
      "needs_background": "light"
     },
     "output_type": "display_data"
    }
   ],
   "source": [
    "fig = plt.figure()\n",
    "plt.subplot(2,1,1)\n",
    "plt.plot(history.history['accuracy'])\n",
    "plt.plot(history.history['val_accuracy'])\n",
    "plt.title('model accuracy')\n",
    "plt.ylabel('accuracy')\n",
    "plt.xlabel('epoch')\n",
    "plt.legend(['train', 'test'], loc='lower right')\n",
    "\n",
    "plt.subplot(2,1,2)\n",
    "plt.plot(history.history['loss'])\n",
    "plt.plot(history.history['val_loss'])\n",
    "plt.title('model loss')\n",
    "plt.ylabel('loss')\n",
    "plt.xlabel('epoch')\n",
    "plt.legend(['train', 'test'], loc='upper right')\n",
    "\n",
    "plt.tight_layout()"
   ]
  },
  {
   "cell_type": "markdown",
   "metadata": {
    "id": "l8KIbOpfkamo"
   },
   "source": [
    "## Model Evaluation"
   ]
  },
  {
   "cell_type": "markdown",
   "metadata": {
    "id": "E3u7t8-1kamq"
   },
   "source": [
    "## 2. Network with 2 Hidden Layers"
   ]
  },
  {
   "cell_type": "code",
   "execution_count": null,
   "metadata": {
    "id": "zJIIWnjMkamq"
   },
   "outputs": [],
   "source": [
    "# Build a NN with two hidden layers\n",
    "# first layer : 512, sigmoid\n",
    "# second layer :100, sigmoid\n",
    "# output---??\n",
    "\n"
   ]
  },
  {
   "cell_type": "code",
   "execution_count": null,
   "metadata": {
    "colab": {
     "base_uri": "https://localhost:8080/"
    },
    "executionInfo": {
     "elapsed": 19,
     "status": "ok",
     "timestamp": 1656768252969,
     "user": {
      "displayName": "Haritha Kallamadi",
      "userId": "08707752319667160902"
     },
     "user_tz": -330
    },
    "id": "Uq661sZ7kamr",
    "outputId": "0e0d5815-122e-4334-adfe-7c5771f4d8c8"
   },
   "outputs": [
    {
     "name": "stdout",
     "output_type": "stream",
     "text": [
      "Model: \"sequential_1\"\n",
      "_________________________________________________________________\n",
      " Layer (type)                Output Shape              Param #   \n",
      "=================================================================\n",
      " dense_2 (Dense)             (None, 512)               401920    \n",
      "                                                                 \n",
      " dense_3 (Dense)             (None, 100)               51300     \n",
      "                                                                 \n",
      " dense_4 (Dense)             (None, 10)                1010      \n",
      "                                                                 \n",
      "=================================================================\n",
      "Total params: 454,230\n",
      "Trainable params: 454,230\n",
      "Non-trainable params: 0\n",
      "_________________________________________________________________\n"
     ]
    }
   ],
   "source": [
    "# Compile\n",
    "\n",
    "model2.summary()\n",
    "keras.utils.plot_model(model2, \"my_first_model.png\", show_shapes = True)"
   ]
  },
  {
   "cell_type": "code",
   "execution_count": null,
   "metadata": {
    "colab": {
     "base_uri": "https://localhost:8080/"
    },
    "executionInfo": {
     "elapsed": 54094,
     "status": "ok",
     "timestamp": 1656768307057,
     "user": {
      "displayName": "Haritha Kallamadi",
      "userId": "08707752319667160902"
     },
     "user_tz": -330
    },
    "id": "Htj6E7xGkams",
    "outputId": "626a0323-871b-416f-8c5c-a86b0a93f24e"
   },
   "outputs": [
    {
     "name": "stdout",
     "output_type": "stream",
     "text": [
      "Epoch 1/10\n",
      "469/469 [==============================] - 6s 12ms/step - loss: 2.2797 - accuracy: 0.1802 - val_loss: 2.2346 - val_accuracy: 0.2741\n",
      "Epoch 2/10\n",
      "469/469 [==============================] - 5s 11ms/step - loss: 2.1956 - accuracy: 0.4057 - val_loss: 2.1472 - val_accuracy: 0.4266\n",
      "Epoch 3/10\n",
      "469/469 [==============================] - 5s 11ms/step - loss: 2.0935 - accuracy: 0.5307 - val_loss: 2.0235 - val_accuracy: 0.6109\n",
      "Epoch 4/10\n",
      "469/469 [==============================] - 5s 11ms/step - loss: 1.9487 - accuracy: 0.6063 - val_loss: 1.8527 - val_accuracy: 0.6169\n",
      "Epoch 5/10\n",
      "469/469 [==============================] - 5s 10ms/step - loss: 1.7591 - accuracy: 0.6610 - val_loss: 1.6436 - val_accuracy: 0.6965\n",
      "Epoch 6/10\n",
      "469/469 [==============================] - 5s 10ms/step - loss: 1.5449 - accuracy: 0.7112 - val_loss: 1.4236 - val_accuracy: 0.7402\n",
      "Epoch 7/10\n",
      "469/469 [==============================] - 5s 10ms/step - loss: 1.3368 - accuracy: 0.7498 - val_loss: 1.2245 - val_accuracy: 0.7745\n",
      "Epoch 8/10\n",
      "469/469 [==============================] - 5s 10ms/step - loss: 1.1566 - accuracy: 0.7786 - val_loss: 1.0620 - val_accuracy: 0.7931\n",
      "Epoch 9/10\n",
      "469/469 [==============================] - 5s 11ms/step - loss: 1.0121 - accuracy: 0.7972 - val_loss: 0.9345 - val_accuracy: 0.8163\n",
      "Epoch 10/10\n",
      "469/469 [==============================] - 7s 16ms/step - loss: 0.8993 - accuracy: 0.8113 - val_loss: 0.8343 - val_accuracy: 0.8305\n",
      "313/313 [==============================] - 1s 3ms/step - loss: 0.8343 - accuracy: 0.8305\n"
     ]
    }
   ],
   "source": [
    "# Fit\n",
    "# Evaluate\n",
    "history ="
   ]
  },
  {
   "cell_type": "code",
   "execution_count": null,
   "metadata": {
    "colab": {
     "base_uri": "https://localhost:8080/",
     "height": 297
    },
    "executionInfo": {
     "elapsed": 789,
     "status": "ok",
     "timestamp": 1656768308323,
     "user": {
      "displayName": "Haritha Kallamadi",
      "userId": "08707752319667160902"
     },
     "user_tz": -330
    },
    "id": "i2S5z4okkamt",
    "outputId": "b104bbfa-b5ab-42b3-ea21-47641c084331"
   },
   "outputs": [
    {
     "data": {
      "image/png": "[encoded data removed]",
      "text/plain": [
       "<Figure size 432x288 with 2 Axes>"
      ]
     },
     "metadata": {
      "needs_background": "light"
     },
     "output_type": "display_data"
    }
   ],
   "source": [
    "fig = plt.figure()\n",
    "plt.subplot(2,1,1)\n",
    "plt.plot(history.history['accuracy'])\n",
    "plt.plot(history.history['val_accuracy'])\n",
    "plt.title('model accuracy')\n",
    "plt.ylabel('accuracy')\n",
    "plt.xlabel('epoch')\n",
    "plt.legend(['train', 'test'], loc='lower right')\n",
    "\n",
    "plt.subplot(2,1,2)\n",
    "plt.plot(history.history['loss'])\n",
    "plt.plot(history.history['val_loss'])\n",
    "plt.title('model loss')\n",
    "plt.ylabel('loss')\n",
    "plt.xlabel('epoch')\n",
    "plt.legend(['train', 'test'], loc='upper right')\n",
    "\n",
    "plt.tight_layout()"
   ]
  },
  {
   "cell_type": "markdown",
   "metadata": {
    "id": "eYOUJ96Akam6"
   },
   "source": [
    "### 3. Network with 2 layers and ReLU as an activation func for 1 layer and ADAM optimiser"
   ]
  },
  {
   "cell_type": "code",
   "execution_count": null,
   "metadata": {
    "id": "mumRyNaFkam6"
   },
   "outputs": [],
   "source": [
    "# Sequential\n",
    "## 1st layer 512, sigmoid\n",
    "# Batch Normalizatiom\n",
    "## 2nd layer 100, relu\n",
    "# Batch normalization\n",
    "## Output layer\n"
   ]
  },
  {
   "cell_type": "code",
   "execution_count": null,
   "metadata": {
    "colab": {
     "base_uri": "https://localhost:8080/"
    },
    "executionInfo": {
     "elapsed": 16,
     "status": "ok",
     "timestamp": 1656768464760,
     "user": {
      "displayName": "Haritha Kallamadi",
      "userId": "08707752319667160902"
     },
     "user_tz": -330
    },
    "id": "R41toANtkam6",
    "outputId": "64a01034-d1ec-42e7-bbbd-ab9fece737b2"
   },
   "outputs": [
    {
     "name": "stdout",
     "output_type": "stream",
     "text": [
      "Model: \"sequential_4\"\n",
      "_________________________________________________________________\n",
      " Layer (type)                Output Shape              Param #   \n",
      "=================================================================\n",
      " dense_12 (Dense)            (None, 512)               401920    \n",
      "                                                                 \n",
      " dense_13 (Dense)            (None, 100)               51300     \n",
      "                                                                 \n",
      " dense_14 (Dense)            (None, 10)                1010      \n",
      "                                                                 \n",
      "=================================================================\n",
      "Total params: 454,230\n",
      "Trainable params: 454,230\n",
      "Non-trainable params: 0\n",
      "_________________________________________________________________\n"
     ]
    }
   ],
   "source": [
    "# Compile optimizer = adam\n",
    "# Loss ??\n",
    "# Metrics accuracy\n",
    "model5.summary()"
   ]
  },
  {
   "cell_type": "code",
   "execution_count": null,
   "metadata": {
    "colab": {
     "base_uri": "https://localhost:8080/"
    },
    "executionInfo": {
     "elapsed": 55248,
     "status": "ok",
     "timestamp": 1656768519998,
     "user": {
      "displayName": "Haritha Kallamadi",
      "userId": "08707752319667160902"
     },
     "user_tz": -330
    },
    "id": "JtotS8hlkam7",
    "outputId": "998fdfcd-cd9f-420b-c376-2a0cded4be36"
   },
   "outputs": [
    {
     "name": "stdout",
     "output_type": "stream",
     "text": [
      "Epoch 1/10\n",
      "469/469 [==============================] - 6s 12ms/step - loss: 0.4366 - accuracy: 0.8785 - val_loss: 0.2614 - val_accuracy: 0.9246\n",
      "Epoch 2/10\n",
      "469/469 [==============================] - 5s 11ms/step - loss: 0.2236 - accuracy: 0.9349 - val_loss: 0.1921 - val_accuracy: 0.9439\n",
      "Epoch 3/10\n",
      "469/469 [==============================] - 5s 12ms/step - loss: 0.1648 - accuracy: 0.9514 - val_loss: 0.1487 - val_accuracy: 0.9560\n",
      "Epoch 4/10\n",
      "469/469 [==============================] - 5s 11ms/step - loss: 0.1267 - accuracy: 0.9621 - val_loss: 0.1162 - val_accuracy: 0.9634\n",
      "Epoch 5/10\n",
      "469/469 [==============================] - 5s 11ms/step - loss: 0.1007 - accuracy: 0.9696 - val_loss: 0.1015 - val_accuracy: 0.9696\n",
      "Epoch 6/10\n",
      "469/469 [==============================] - 5s 11ms/step - loss: 0.0809 - accuracy: 0.9754 - val_loss: 0.0910 - val_accuracy: 0.9729\n",
      "Epoch 7/10\n",
      "469/469 [==============================] - 5s 11ms/step - loss: 0.0647 - accuracy: 0.9806 - val_loss: 0.0785 - val_accuracy: 0.9756\n",
      "Epoch 8/10\n",
      "469/469 [==============================] - 5s 12ms/step - loss: 0.0545 - accuracy: 0.9831 - val_loss: 0.0848 - val_accuracy: 0.9740\n",
      "Epoch 9/10\n",
      "469/469 [==============================] - 5s 11ms/step - loss: 0.0445 - accuracy: 0.9868 - val_loss: 0.0718 - val_accuracy: 0.9761\n",
      "Epoch 10/10\n",
      "469/469 [==============================] - 5s 11ms/step - loss: 0.0347 - accuracy: 0.9898 - val_loss: 0.0763 - val_accuracy: 0.9770\n",
      "313/313 [==============================] - 1s 3ms/step - loss: 0.0763 - accuracy: 0.9770\n"
     ]
    }
   ],
   "source": [
    "# fit\n",
    "# Evaluate"
   ]
  },
  {
   "cell_type": "code",
   "execution_count": null,
   "metadata": {
    "colab": {
     "base_uri": "https://localhost:8080/",
     "height": 297
    },
    "executionInfo": {
     "elapsed": 998,
     "status": "ok",
     "timestamp": 1656768520958,
     "user": {
      "displayName": "Haritha Kallamadi",
      "userId": "08707752319667160902"
     },
     "user_tz": -330
    },
    "id": "dP48jpBjkam7",
    "outputId": "54088ccd-d536-4d79-b8d3-ae719b863292"
   },
   "outputs": [
    {
     "data": {
      "image/png": "[encoded data removed]",
      "text/plain": [
       "<Figure size 432x288 with 2 Axes>"
      ]
     },
     "metadata": {
      "needs_background": "light"
     },
     "output_type": "display_data"
    }
   ],
   "source": [
    "fig = plt.figure()\n",
    "plt.subplot(2,1,1)\n",
    "plt.plot(history.history['accuracy'])\n",
    "plt.plot(history.history['val_accuracy'])\n",
    "plt.title('model accuracy')\n",
    "plt.ylabel('accuracy')\n",
    "plt.xlabel('epoch')\n",
    "plt.legend(['train', 'test'], loc='lower right')\n",
    "\n",
    "plt.subplot(2,1,2)\n",
    "plt.plot(history.history['loss'])\n",
    "plt.plot(history.history['val_loss'])\n",
    "plt.title('model loss')\n",
    "plt.ylabel('loss')\n",
    "plt.xlabel('epoch')\n",
    "plt.legend(['train', 'test'], loc='upper right')\n",
    "\n",
    "plt.tight_layout()"
   ]
  },
  {
   "cell_type": "markdown",
   "metadata": {
    "id": "1XMPlD_PkanC"
   },
   "source": [
    "### 4. Network with Dropout, L2 regularizer, kernel initializer"
   ]
  },
  {
   "cell_type": "code",
   "execution_count": null,
   "metadata": {
    "id": "JDID0ZrqkanD"
   },
   "outputs": [],
   "source": [
    "# Sequential model\n",
    "# Dropout 20% at input\n",
    "# Layer 1\n",
    "# Dropout 50%, batch normalization\n",
    "# Add kernel regularizer, kernel_initializer\n",
    "# Layer 2\n",
    "# Batch noramalization, Dropout 50%\n",
    "# Layer 2\n",
    "# Dropout 50%\n",
    "# Compile\n",
    "# Summary"
   ]
  },
  {
   "cell_type": "code",
   "execution_count": null,
   "metadata": {
    "colab": {
     "base_uri": "https://localhost:8080/"
    },
    "executionInfo": {
     "elapsed": 471,
     "status": "ok",
     "timestamp": 1656768605175,
     "user": {
      "displayName": "Haritha Kallamadi",
      "userId": "08707752319667160902"
     },
     "user_tz": -330
    },
    "id": "9wgZ9aGBkanD",
    "outputId": "f75de873-b23f-4f8d-d05e-3fa98697ff34"
   },
   "outputs": [
    {
     "name": "stdout",
     "output_type": "stream",
     "text": [
      "Model: \"sequential_6\"\n",
      "_________________________________________________________________\n",
      " Layer (type)                Output Shape              Param #   \n",
      "=================================================================\n",
      " dropout (Dropout)           (None, 784)               0         \n",
      "                                                                 \n",
      " dense_18 (Dense)            (None, 512)               401920    \n",
      "                                                                 \n",
      " batch_normalization_2 (Batc  (None, 512)              2048      \n",
      " hNormalization)                                                 \n",
      "                                                                 \n",
      " dropout_1 (Dropout)         (None, 512)               0         \n",
      "                                                                 \n",
      " dense_19 (Dense)            (None, 100)               51300     \n",
      "                                                                 \n",
      " batch_normalization_3 (Batc  (None, 100)              400       \n",
      " hNormalization)                                                 \n",
      "                                                                 \n",
      " dropout_2 (Dropout)         (None, 100)               0         \n",
      "                                                                 \n",
      " dense_20 (Dense)            (None, 10)                1010      \n",
      "                                                                 \n",
      "=================================================================\n",
      "Total params: 456,678\n",
      "Trainable params: 455,454\n",
      "Non-trainable params: 1,224\n",
      "_________________________________________________________________\n"
     ]
    }
   ],
   "source": [
    "# SUmmary"
   ]
  },
  {
   "cell_type": "code",
   "execution_count": null,
   "metadata": {
    "colab": {
     "base_uri": "https://localhost:8080/"
    },
    "executionInfo": {
     "elapsed": 144462,
     "status": "ok",
     "timestamp": 1656768749617,
     "user": {
      "displayName": "Haritha Kallamadi",
      "userId": "08707752319667160902"
     },
     "user_tz": -330
    },
    "id": "eBCKKahQkanE",
    "outputId": "30110181-d091-43d5-b1a0-c472694c539f"
   },
   "outputs": [
    {
     "name": "stdout",
     "output_type": "stream",
     "text": [
      "Epoch 1/10\n",
      "469/469 [==============================] - 9s 18ms/step - loss: 1.2380 - accuracy: 0.8387 - val_loss: 0.7521 - val_accuracy: 0.9164\n",
      "Epoch 2/10\n",
      "469/469 [==============================] - 8s 17ms/step - loss: 0.6559 - accuracy: 0.8802 - val_loss: 0.4673 - val_accuracy: 0.9302\n",
      "Epoch 3/10\n",
      "469/469 [==============================] - 8s 17ms/step - loss: 0.6041 - accuracy: 0.8830 - val_loss: 0.4464 - val_accuracy: 0.9347\n",
      "Epoch 4/10\n",
      "469/469 [==============================] - 10s 20ms/step - loss: 0.5968 - accuracy: 0.8881 - val_loss: 0.4338 - val_accuracy: 0.9369\n",
      "Epoch 5/10\n",
      "469/469 [==============================] - 9s 18ms/step - loss: 0.5900 - accuracy: 0.8909 - val_loss: 0.4559 - val_accuracy: 0.9303\n",
      "Epoch 6/10\n",
      "469/469 [==============================] - 8s 17ms/step - loss: 0.5984 - accuracy: 0.8893 - val_loss: 0.4393 - val_accuracy: 0.9425\n",
      "Epoch 7/10\n",
      "469/469 [==============================] - 8s 18ms/step - loss: 0.5952 - accuracy: 0.8908 - val_loss: 0.4297 - val_accuracy: 0.9412\n",
      "Epoch 8/10\n",
      "469/469 [==============================] - 8s 17ms/step - loss: 0.5957 - accuracy: 0.8909 - val_loss: 0.4468 - val_accuracy: 0.9368\n",
      "Epoch 9/10\n",
      "469/469 [==============================] - 8s 18ms/step - loss: 0.5995 - accuracy: 0.8914 - val_loss: 0.4340 - val_accuracy: 0.9416\n",
      "Epoch 10/10\n",
      "469/469 [==============================] - 8s 17ms/step - loss: 0.5966 - accuracy: 0.8914 - val_loss: 0.4288 - val_accuracy: 0.9460\n",
      "313/313 [==============================] - 1s 4ms/step - loss: 0.4288 - accuracy: 0.9460\n"
     ]
    }
   ],
   "source": [
    "# history = fitmodel7.fit(x_train, y_train, batch_size=128, epochs=10, verbose=True, validation_data= (x_test, y_test)) #validation_split=.1\n",
    "# loss, accuracy  = evaluate"
   ]
  },
  {
   "cell_type": "code",
   "execution_count": null,
   "metadata": {
    "colab": {
     "base_uri": "https://localhost:8080/"
    },
    "executionInfo": {
     "elapsed": 993,
     "status": "ok",
     "timestamp": 1656768750591,
     "user": {
      "displayName": "Haritha Kallamadi",
      "userId": "08707752319667160902"
     },
     "user_tz": -330
    },
    "id": "yuPCktT4kanF",
    "outputId": "3239cef6-701b-4a7a-ea93-9b8fb5e9d676"
   },
   "outputs": [
    {
     "data": {
      "image/png": "[encoded data removed]",
      "text/plain": [
       "<Figure size 432x288 with 2 Axes>"
      ]
     },
     "metadata": {
      "needs_background": "light"
     },
     "output_type": "display_data"
    }
   ],
   "source": [
    "fig = plt.figure()\n",
    "plt.subplot(2,1,1)\n",
    "plt.plot(history.history['accuracy'])\n",
    "plt.plot(history.history['val_accuracy'])\n",
    "plt.title('model accuracy')\n",
    "plt.ylabel('accuracy')\n",
    "plt.xlabel('epoch')\n",
    "plt.legend(['train', 'test'], loc='lower right')\n",
    "\n",
    "plt.subplot(2,1,2)\n",
    "plt.plot(history.history['loss'])\n",
    "plt.plot(history.history['val_loss'])\n",
    "plt.title('model loss')\n",
    "plt.ylabel('loss')\n",
    "plt.xlabel('epoch')\n",
    "plt.legend(['train', 'test'], loc='upper right')\n",
    "\n",
    "plt.tight_layout()"
   ]
  },
  {
   "cell_type": "markdown",
   "metadata": {
    "id": "7QjONHhEkanF"
   },
   "source": [
    "##  Model Evaluation"
   ]
  },
  {
   "cell_type": "code",
   "execution_count": null,
   "metadata": {
    "colab": {
     "base_uri": "https://localhost:8080/"
    },
    "executionInfo": {
     "elapsed": 6577,
     "status": "ok",
     "timestamp": 1656768757138,
     "user": {
      "displayName": "Haritha Kallamadi",
      "userId": "08707752319667160902"
     },
     "user_tz": -330
    },
    "id": "tZy-nJxkkanG",
    "outputId": "8a4ec37a-4dab-478b-ae29-51d5987ef8f8"
   },
   "outputs": [
    {
     "name": "stdout",
     "output_type": "stream",
     "text": [
      "1875/1875 - 7s - loss: 0.4301 - accuracy: 0.9454 - 7s/epoch - 4ms/step\n",
      "Train Loss 0.43011078238487244\n",
      "Train Accuracy 0.9453999996185303\n"
     ]
    }
   ],
   "source": [
    "loss_and_metrics = model7.evaluate(x_train, y_train, verbose=2)\n",
    "\n",
    "print(\"Train Loss\", loss_and_metrics[0])\n",
    "print(\"Train Accuracy\", loss_and_metrics[1])"
   ]
  },
  {
   "cell_type": "code",
   "execution_count": null,
   "metadata": {
    "colab": {
     "base_uri": "https://localhost:8080/"
    },
    "executionInfo": {
     "elapsed": 1028,
     "status": "ok",
     "timestamp": 1656768758134,
     "user": {
      "displayName": "Haritha Kallamadi",
      "userId": "08707752319667160902"
     },
     "user_tz": -330
    },
    "id": "z7gd3Hw6kanH",
    "outputId": "5b501c8f-d3d9-40e5-85fd-1985d0d2bd74"
   },
   "outputs": [
    {
     "name": "stdout",
     "output_type": "stream",
     "text": [
      "313/313 - 1s - loss: 0.4288 - accuracy: 0.9460 - 924ms/epoch - 3ms/step\n",
      "Test Loss 0.428815633058548\n",
      "Test Accuracy 0.9459999799728394\n"
     ]
    }
   ],
   "source": [
    "loss_and_metrics = model7.evaluate(x_test, y_test, verbose=2)\n",
    "\n",
    "print(\"Test Loss\", loss_and_metrics[0])\n",
    "print(\"Test Accuracy\", loss_and_metrics[1])"
   ]
  }
 ],
 "metadata": {
  "colab": {
   "collapsed_sections": [],
   "name": " 01_DL_MNIST_Student_copy.ipynb",
   "provenance": [
    {
     "file_id": "1PUEB5JpK3LlYaCtIRFfccCj6K6-SOV7T",
     "timestamp": 1657193143130
    }
   ]
  },
  "kernelspec": {
   "display_name": "Python 3 (ipykernel)",
   "language": "python",
   "name": "python3"
  },
  "language_info": {
   "codemirror_mode": {
    "name": "ipython",
    "version": 3
   },
   "file_extension": ".py",
   "mimetype": "text/x-python",
   "name": "python",
   "nbconvert_exporter": "python",
   "pygments_lexer": "ipython3",
   "version": "3.8.5"
  }
 },
 "nbformat": 4,
 "nbformat_minor": 0
}
