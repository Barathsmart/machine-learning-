{
 "cells": [
  {
   "cell_type": "markdown",
   "metadata": {
    "id": "a6NnI1iXnr4R"
   },
   "source": [
    "***In this lab we will demonstarte how to use auto-encoder in data compression***\n",
    "\n",
    "We synthetically generate a data set with considerably a large set of features among which a subset (very smaller in size) of features are informative. First we consider only few features (< 50% of the features).\n",
    "\n",
    "Before we proceed,\n",
    "1. Explain how an auto-encoder can be used as a data compressor.\n",
    "\n",
    "In this lab,\n",
    "1. We design a NN without any feature reduction and construct the original data points back\n",
    "2. We design a NN witho feature reduction and construct the original data points and compare the loss with the output of the NN designed above\n",
    "3. We design a linear regression model for the original input (without any compression)\n",
    "4. We give the compressed output obtained in 2 as the input to the linear regression model we digned in 3\n",
    "5. We compare the accuracy of obtained by the uncompressed and uncompressed input data."
   ]
  },
  {
   "cell_type": "code",
   "execution_count": null,
   "metadata": {
    "id": "7vFHQYLfiWMW"
   },
   "outputs": [],
   "source": [
    "\n",
    "from sklearn.datasets import make_classification\n",
    "from sklearn.preprocessing import MinMaxScaler\n",
    "from sklearn.model_selection import train_test_split\n",
    "import tensorflow as tf\n",
    "from tensorflow import keras\n",
    "from tensorflow.keras.models import Model\n",
    "from tensorflow.keras.layers import Input\n",
    "from tensorflow.keras.layers import Dense\n",
    "from tensorflow.keras.layers import LeakyReLU\n",
    "from tensorflow.keras.layers import BatchNormalization\n",
    "from tensorflow.keras.utils import plot_model\n",
    "from matplotlib import pyplot"
   ]
  },
  {
   "cell_type": "code",
   "execution_count": null,
   "metadata": {
    "colab": {
     "background_save": true
    },
    "id": "J52U_8gQiWMe",
    "outputId": "4949c0b2-e71d-4e42-e1bd-19856e503deb"
   },
   "outputs": [
    {
     "data": {
      "image/png": "[encoded data removed]",
      "text/plain": [
       "<Figure size 432x288 with 1 Axes>"
      ]
     },
     "metadata": {},
     "output_type": "display_data"
    }
   ],
   "source": [
    "# train autoencoder for classification with no compression in the bottleneck layer\n",
    "# define dataset\n",
    "X, y = make_classification(n_samples=100000, n_features=100, n_informative=10, n_redundant=90, random_state=1)\n",
    "# number of input columns\n",
    "# n_inputs \n",
    "\n",
    "# split into train test sets\n",
    "# X_train, X_test, y_train, y_test \n",
    "\n",
    "# scale data, using minmax data\n",
    "# t\n",
    "\n",
    "t.fit(X_train)\n",
    "\n",
    "# X_train = \n",
    "# X_test = \n",
    "\n",
    "# define encoder, we will use functional approach to define the network\n",
    "# What do we do in functional approach???\n",
    "\n",
    "# Input layer\n",
    "# visible = Input(shape=(n_inputs,))\n",
    "\n",
    "# encoder level 1, no of neurons 2*n_inputs \n",
    "# e = \n",
    "#  Batch normalization of e\n",
    "# e = \n",
    "# Use LeakuReLU\n",
    "# e = \n",
    "\n",
    "# encoder level 2, # of neuron = n_inputs, batch normalization, leakyReLU\n",
    "# e = \n",
    "# e = \n",
    "# e = \n",
    "# bottleneck\n",
    "\n",
    "# using at bottleneck layer # of neurons n_inputs \n",
    "# n_bottleneck = n_inputs\n",
    "# bottleneck = \n",
    "\n",
    "# define decoder, level 1\n",
    "# d = \n",
    "# d = \n",
    "# d = \n",
    "# decoder level 2\n",
    "# d = \n",
    "# d = \n",
    "# d = \n",
    "\n",
    "# output layer\n",
    "# output = \n",
    "\n",
    "# define autoencoder model\n",
    "# model = Model(inputs=visible, outputs=output)\n",
    "\n",
    "# compile autoencoder model\n",
    "model.compile(optimizer='adam', loss='mse')\n",
    "# plot the autoencoder\n",
    "plot_model(model, 'autoencoder_no_compress.png', show_shapes=True)\n",
    "# fit the autoencoder model to reconstruct input\n",
    "history = model.fit(X_train, X_train, epochs=20, batch_size=16, validation_data=(X_test,X_test), verbose=0)\n",
    "model.save('No_Compression.h5')\n",
    "# plot loss\n",
    "pyplot.plot(history.history['loss'], label='train')\n",
    "pyplot.plot(history.history['val_loss'], label='test')\n",
    "pyplot.legend()\n",
    "pyplot.show()\n",
    "#print(model.evaluate(X_test, X_test))\n",
    "# define an encoder model (without the decoder)\n",
    "#encoder = Model(inputs=visible, outputs=bottleneck)\n",
    "#plot_model(encoder, 'encoder_no_compress.png', show_shapes=True)\n",
    "# save the encoder to file\n",
    "#encoder.save('encoder1.h5')\n",
    "#model.summary()"
   ]
  },
  {
   "cell_type": "code",
   "execution_count": null,
   "metadata": {
    "colab": {
     "background_save": true
    },
    "id": "hTGzrKdNiWMg",
    "outputId": "6773b2b1-98a0-44cb-c133-db1f4b54817c"
   },
   "outputs": [
    {
     "data": {
      "image/png": "[encoded data removed]",
      "text/plain": [
       "<Figure size 432x288 with 1 Axes>"
      ]
     },
     "metadata": {},
     "output_type": "display_data"
    }
   ],
   "source": [
    "# train autoencoder for classification with with compression in the bottleneck layer\n",
    "\n",
    "# define dataset\n",
    "X, y = make_classification(n_samples=100000, n_features=100, n_informative=10, n_redundant=90, random_state=1)\n",
    "# number of input columns\n",
    "n_inputs = X.shape[1]\n",
    "# split into train test sets\n",
    "X_train, X_test, y_train, y_test = train_test_split(X, y, test_size=0.33, random_state=1)\n",
    "# scale data\n",
    "t = MinMaxScaler()\n",
    "t.fit(X_train)\n",
    "X_train = t.transform(X_train)\n",
    "X_test = t.transform(X_test)\n",
    "# define encoder\n",
    "visible = Input(shape=(n_inputs,))\n",
    "# encoder level 1\n",
    "e = Dense(n_inputs*2)(visible)\n",
    "e = BatchNormalization()(e)\n",
    "e = LeakyReLU()(e)\n",
    "# encoder level 2\n",
    "e = Dense(n_inputs)(e)\n",
    "e = BatchNormalization()(e)\n",
    "e = LeakyReLU()(e)\n",
    "# bottleneck\n",
    "n_bottleneck = round(float(n_inputs) / 3)\n",
    "bottleneck = Dense(n_bottleneck)(e)\n",
    "# define decoder, level 1\n",
    "d = Dense(n_inputs)(bottleneck)\n",
    "d = BatchNormalization()(d)\n",
    "d = LeakyReLU()(d)\n",
    "# decoder level 2\n",
    "d = Dense(n_inputs*2)(d)\n",
    "d = BatchNormalization()(d)\n",
    "d = LeakyReLU()(d)\n",
    "# output layer\n",
    "output = Dense(n_inputs, activation='linear')(d)\n",
    "# define autoencoder model\n",
    "model = Model(inputs=visible, outputs=output)\n",
    "# compile autoencoder model\n",
    "model.compile(optimizer='adam', loss='mse')\n",
    "# fit the autoencoder model to reconstruct input\n",
    "history = model.fit(X_train, X_train, epochs=50, batch_size=16, verbose=0, validation_data=(X_test,X_test))\n",
    "model.save('With_Compression.h5')\n",
    "# plot loss\n",
    "pyplot.plot(history.history['loss'], label='train')\n",
    "pyplot.plot(history.history['val_loss'], label='test')\n",
    "pyplot.legend()\n",
    "pyplot.show()\n"
   ]
  },
  {
   "cell_type": "markdown",
   "metadata": {
    "id": "utvfSAQSiWMj"
   },
   "source": [
    "# baseline in performance with logistic regression model\n"
   ]
  },
  {
   "cell_type": "code",
   "execution_count": null,
   "metadata": {
    "colab": {
     "background_save": true
    },
    "id": "Lrdt3dMPiWMm",
    "outputId": "0936d0d4-c6bd-4236-a646-83288f320b9d"
   },
   "outputs": [
    {
     "name": "stdout",
     "output_type": "stream",
     "text": [
      "0.8178484848484848\n"
     ]
    }
   ],
   "source": [
    "from sklearn.datasets import make_classification\n",
    "from sklearn.preprocessing import MinMaxScaler\n",
    "from sklearn.preprocessing import LabelEncoder\n",
    "from sklearn.model_selection import train_test_split\n",
    "from sklearn.linear_model import LogisticRegression\n",
    "from sklearn.metrics import accuracy_score\n",
    "# define dataset\n",
    "X, y = make_classification(n_samples=100000, n_features=100, n_informative=10, n_redundant=90, random_state=1)\n",
    "# split into train test sets\n",
    "X_train, X_test, y_train, y_test = train_test_split(X, y, test_size=0.33, random_state=1)\n",
    "# scale data\n",
    "t = MinMaxScaler()\n",
    "t.fit(X_train)\n",
    "X_train = t.transform(X_train)\n",
    "X_test = t.transform(X_test)\n",
    "# define model\n",
    "model = LogisticRegression()\n",
    "# fit model on training set\n",
    "model.fit(X_train, y_train)\n",
    "# make prediction on test set\n",
    "yhat = model.predict(X_test)\n",
    "# calculate accuracy\n",
    "acc = accuracy_score(y_test, yhat)\n",
    "print(acc)"
   ]
  },
  {
   "cell_type": "code",
   "execution_count": null,
   "metadata": {
    "colab": {
     "background_save": true
    },
    "id": "8oKxnFghiWMo",
    "outputId": "d7970962-674f-4bf4-ce8a-a4cdde23c72b"
   },
   "outputs": [
    {
     "name": "stdout",
     "output_type": "stream",
     "text": [
      "0.8252121212121212\n"
     ]
    }
   ],
   "source": [
    "compressed_model = keras.models.load_model(\"/content/With_Compression.h5\")\n",
    "X_test_Compressed = compressed_model.predict(X_test)\n",
    "yhat = model.predict(X_test_Compressed)\n",
    "# calculate accuracy\n",
    "acc = accuracy_score(y_test, yhat)\n",
    "print(acc)"
   ]
  },
  {
   "cell_type": "code",
   "execution_count": null,
   "metadata": {
    "colab": {
     "background_save": true
    },
    "id": "DVlDGtl4iWMs"
   },
   "outputs": [],
   "source": [
    ""
   ]
  }
 ],
 "metadata": {
  "colab": {
   "collapsed_sections": [],
   "name": " 04_AutoEnc_Dim_reduc_StudentCopy.ipynb",
   "provenance": [
    {
     "file_id": "1eL_qCMhvVv4l2c6VKE-NSAM4EWZKH5Re",
     "timestamp": 1657200135076
    }
   ]
  },
  "kernelspec": {
   "display_name": "Python 3 (ipykernel)",
   "language": "python",
   "name": "python3"
  },
  "language_info": {
   "codemirror_mode": {
    "name": "ipython",
    "version": 3
   },
   "file_extension": ".py",
   "mimetype": "text/x-python",
   "name": "python",
   "nbconvert_exporter": "python",
   "pygments_lexer": "ipython3",
   "version": "3.8.5"
  }
 },
 "nbformat": 4,
 "nbformat_minor": 0
}
