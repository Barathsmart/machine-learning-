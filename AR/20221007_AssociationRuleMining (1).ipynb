{
 "cells": [
  {
   "cell_type": "markdown",
   "metadata": {
    "id": "pqc8F8ODXvYU"
   },
   "source": [
    "# <center> Association Rule Mining </center>"
   ]
  },
  {
   "cell_type": "markdown",
   "metadata": {
    "id": "2ut3sXPKXvYa"
   },
   "source": [
    "## Agenda"
   ]
  },
  {
   "cell_type": "markdown",
   "metadata": {
    "id": "8vjZmYoyXvYb"
   },
   "source": [
    "* Association Rules\n",
    "    * What is an association rule? \n",
    "        * Item, Itemset, Antecedent and Consequent\n",
    "    * Measuring strength of a rule\n",
    "* Data reading and preparation\n",
    "* Generating Frequent Itemset\n",
    "* Association rule mining\n",
    "    * Generating the rules\n",
    "    * Exploration with various filters\n",
    "    * Analyzing and finding patterns"
   ]
  },
  {
   "cell_type": "markdown",
   "metadata": {
    "id": "40uP53JVXvYc"
   },
   "source": [
    "__Association Rules__ is an unsupervised technique to extract pattern or relation between items. The rule defines association between A and B as A => B i.e if A is purchased B is also purchased. \n",
    "\n",
    "An association rule consists of an antecedent and a consequent.\n",
    "\n",
    "$${\\{Pen, Pencil\\}} \\to \\{Paper\\}$$\n",
    "$$     {antecedent} \\to consequent$$\n",
    "\n",
    "For a given rule, `itemset` is the list of all the items in the antecedent and the consequent.\n",
    "\n",
    "$${itemset} \\to \\{Pen, Pencil, Paper\\}$$"
   ]
  },
  {
   "cell_type": "markdown",
   "metadata": {
    "id": "mXi5BxdLXvYd"
   },
   "source": [
    "### Measuring the strength of a rule\n",
    "\n",
    "**Support**\n",
    "\n",
    "Support is the fraction of the total number of transactions in which the itemset occurs.\n",
    "\n",
    "$$\n",
    "{Support(\\{A\\} \\to \\{B\\}) = \\frac{Transactions\\ containing\\ both\\ A\\ and\\ B\"}{Total\\ number\\ of\\ transactions}}\n",
    "$$\n",
    "\n",
    "**Confidence**\n",
    "\n",
    "Confidence is the conditional probability of occurrence of consequent given the antecedent.\n",
    "\n",
    "$$\n",
    "{Confidence(\\{A\\} \\to \\{B\\}) = \\frac{Transactions\\ containing\\ both\\ A\\ and\\ B\"}{Transactions\\ containing\\ A}}\n",
    "$$\n",
    "\n",
    "**Lift**\n",
    "\n",
    "Lift is a very literal term given to this measure. Think of it as the **`lift`** that {A} provides to our confidence for having {B} on the cart. To rephrase, lift is the rise in probability of having {B} on the cart with the knowledge of {A} being present over the probability of having {B} on the cart without any knowledge about presence of {A}. Mathematically,\n",
    "\n",
    "$$\n",
    "{Lift(\\{A\\} \\to \\{B\\}) = ( \\frac{Transactions\\ containing\\ both\\ A\\ and\\ B}{Transactions\\ containing\\ A}} )/{(Fractions\\ of\\ transactions\\ containing\\ B )}\n",
    "$$"
   ]
  },
  {
   "cell_type": "markdown",
   "metadata": {
    "id": "uRel2isGXvYe"
   },
   "source": [
    "#### Frequent itemsets\n",
    "\n",
    "An itemset is considered as `frequent` if it meets a user-specified __support threshold__. \n",
    "\n",
    "For instance, if a threshold of support is 0.05 (5%), a frequent itemset is defined as a set of items that occur together in at least 5% of all transactions in the database."
   ]
  },
  {
   "cell_type": "markdown",
   "metadata": {
    "id": "Zy4uAjPcXvYf"
   },
   "source": [
    "## Case study -1 (Transaction Data)"
   ]
  },
  {
   "cell_type": "code",
   "execution_count": 1,
   "metadata": {
    "colab": {
     "base_uri": "https://localhost:8080/"
    },
    "executionInfo": {
     "elapsed": 4492,
     "status": "ok",
     "timestamp": 1665111435621,
     "user": {
      "displayName": "Pavan Kumar Srungaram",
      "userId": "00090524165272832833"
     },
     "user_tz": -330
    },
    "id": "nbCFvDFNXvYg",
    "outputId": "3f8983a0-9ba7-4057-a3ba-3a135cedeba7"
   },
   "outputs": [
    {
     "name": "stderr",
     "output_type": "stream",
     "text": [
      "ERROR: Invalid requirement: '#mlxtend'\n"
     ]
    }
   ],
   "source": [
    "!pip install mlxtend         #mlxtend : Machine learning extensions"
   ]
  },
  {
   "cell_type": "code",
   "execution_count": 46,
   "metadata": {
    "executionInfo": {
     "elapsed": 6,
     "status": "ok",
     "timestamp": 1665111437600,
     "user": {
      "displayName": "Pavan Kumar Srungaram",
      "userId": "00090524165272832833"
     },
     "user_tz": -330
    },
    "id": "w4GnmSIBXvYh"
   },
   "outputs": [],
   "source": [
    "## import libraries\n",
    "import pandas as pd\n",
    "#mlxtend : Machine learning extensions\n",
    "from mlxtend.frequent_patterns import apriori\n",
    "from mlxtend.frequent_patterns import association_rules\n",
    "\n",
    "\n",
    "import random\n",
    "import matplotlib.pyplot as plt\n",
    "%matplotlib inline\n"
   ]
  },
  {
   "cell_type": "code",
   "execution_count": 47,
   "metadata": {
    "colab": {
     "base_uri": "https://localhost:8080/",
     "height": 206
    },
    "executionInfo": {
     "elapsed": 392,
     "status": "ok",
     "timestamp": 1665111627616,
     "user": {
      "displayName": "Pavan Kumar Srungaram",
      "userId": "00090524165272832833"
     },
     "user_tz": -330
    },
    "id": "RjCKNU8wXvYi",
    "outputId": "85162897-d6ac-47b3-8976-120ef06b7fdf"
   },
   "outputs": [
    {
     "data": {
      "text/html": [
       "<div>\n",
       "<style scoped>\n",
       "    .dataframe tbody tr th:only-of-type {\n",
       "        vertical-align: middle;\n",
       "    }\n",
       "\n",
       "    .dataframe tbody tr th {\n",
       "        vertical-align: top;\n",
       "    }\n",
       "\n",
       "    .dataframe thead th {\n",
       "        text-align: right;\n",
       "    }\n",
       "</style>\n",
       "<table border=\"1\" class=\"dataframe\">\n",
       "  <thead>\n",
       "    <tr style=\"text-align: right;\">\n",
       "      <th></th>\n",
       "      <th>0</th>\n",
       "      <th>1</th>\n",
       "    </tr>\n",
       "  </thead>\n",
       "  <tbody>\n",
       "    <tr>\n",
       "      <th>0</th>\n",
       "      <td>1001</td>\n",
       "      <td>Choclates</td>\n",
       "    </tr>\n",
       "    <tr>\n",
       "      <th>1</th>\n",
       "      <td>1001</td>\n",
       "      <td>Pencil</td>\n",
       "    </tr>\n",
       "    <tr>\n",
       "      <th>2</th>\n",
       "      <td>1001</td>\n",
       "      <td>Marker</td>\n",
       "    </tr>\n",
       "    <tr>\n",
       "      <th>3</th>\n",
       "      <td>1002</td>\n",
       "      <td>Pencil</td>\n",
       "    </tr>\n",
       "    <tr>\n",
       "      <th>4</th>\n",
       "      <td>1002</td>\n",
       "      <td>Choclates</td>\n",
       "    </tr>\n",
       "  </tbody>\n",
       "</table>\n",
       "</div>"
      ],
      "text/plain": [
       "      0          1\n",
       "0  1001  Choclates\n",
       "1  1001     Pencil\n",
       "2  1001     Marker\n",
       "3  1002     Pencil\n",
       "4  1002  Choclates"
      ]
     },
     "execution_count": 47,
     "metadata": {},
     "output_type": "execute_result"
    }
   ],
   "source": [
    "#Read the data \n",
    "trans=pd.read_csv(\"Transactions.csv\",header=None)\n",
    "trans.head()"
   ]
  },
  {
   "cell_type": "code",
   "execution_count": 48,
   "metadata": {
    "colab": {
     "base_uri": "https://localhost:8080/",
     "height": 206
    },
    "executionInfo": {
     "elapsed": 401,
     "status": "ok",
     "timestamp": 1665111633618,
     "user": {
      "displayName": "Pavan Kumar Srungaram",
      "userId": "00090524165272832833"
     },
     "user_tz": -330
    },
    "id": "Xgj3CMVeXvYj",
    "outputId": "2e53b8bd-bb52-4343-c162-c90257dad224"
   },
   "outputs": [
    {
     "data": {
      "text/html": [
       "<div>\n",
       "<style scoped>\n",
       "    .dataframe tbody tr th:only-of-type {\n",
       "        vertical-align: middle;\n",
       "    }\n",
       "\n",
       "    .dataframe tbody tr th {\n",
       "        vertical-align: top;\n",
       "    }\n",
       "\n",
       "    .dataframe thead th {\n",
       "        text-align: right;\n",
       "    }\n",
       "</style>\n",
       "<table border=\"1\" class=\"dataframe\">\n",
       "  <thead>\n",
       "    <tr style=\"text-align: right;\">\n",
       "      <th></th>\n",
       "      <th>Id</th>\n",
       "      <th>Items</th>\n",
       "    </tr>\n",
       "  </thead>\n",
       "  <tbody>\n",
       "    <tr>\n",
       "      <th>0</th>\n",
       "      <td>1001</td>\n",
       "      <td>Choclates</td>\n",
       "    </tr>\n",
       "    <tr>\n",
       "      <th>1</th>\n",
       "      <td>1001</td>\n",
       "      <td>Pencil</td>\n",
       "    </tr>\n",
       "    <tr>\n",
       "      <th>2</th>\n",
       "      <td>1001</td>\n",
       "      <td>Marker</td>\n",
       "    </tr>\n",
       "    <tr>\n",
       "      <th>3</th>\n",
       "      <td>1002</td>\n",
       "      <td>Pencil</td>\n",
       "    </tr>\n",
       "    <tr>\n",
       "      <th>4</th>\n",
       "      <td>1002</td>\n",
       "      <td>Choclates</td>\n",
       "    </tr>\n",
       "  </tbody>\n",
       "</table>\n",
       "</div>"
      ],
      "text/plain": [
       "     Id      Items\n",
       "0  1001  Choclates\n",
       "1  1001     Pencil\n",
       "2  1001     Marker\n",
       "3  1002     Pencil\n",
       "4  1002  Choclates"
      ]
     },
     "execution_count": 48,
     "metadata": {},
     "output_type": "execute_result"
    }
   ],
   "source": [
    "## Assign column names\n",
    "trans.columns = ['Id','Items']\n",
    "trans.head()"
   ]
  },
  {
   "cell_type": "code",
   "execution_count": 49,
   "metadata": {
    "colab": {
     "base_uri": "https://localhost:8080/"
    },
    "executionInfo": {
     "elapsed": 3063,
     "status": "ok",
     "timestamp": 1665111638427,
     "user": {
      "displayName": "Pavan Kumar Srungaram",
      "userId": "00090524165272832833"
     },
     "user_tz": -330
    },
    "id": "BkQLwi6nYhYG",
    "outputId": "7bb6f04f-48d9-45b1-962c-046b86645afd"
   },
   "outputs": [],
   "source": [
    "# from google.colab import drive\n",
    "# drive.mount('/content/drive')"
   ]
  },
  {
   "cell_type": "code",
   "execution_count": 50,
   "metadata": {
    "colab": {
     "base_uri": "https://localhost:8080/",
     "height": 394
    },
    "executionInfo": {
     "elapsed": 379,
     "status": "ok",
     "timestamp": 1665111641844,
     "user": {
      "displayName": "Pavan Kumar Srungaram",
      "userId": "00090524165272832833"
     },
     "user_tz": -330
    },
    "id": "Vk4uPfZ4XvYk",
    "outputId": "95ebe8e8-ed1c-4f2d-a1f5-764d3683af85"
   },
   "outputs": [
    {
     "data": {
      "text/html": [
       "<div>\n",
       "<style scoped>\n",
       "    .dataframe tbody tr th:only-of-type {\n",
       "        vertical-align: middle;\n",
       "    }\n",
       "\n",
       "    .dataframe tbody tr th {\n",
       "        vertical-align: top;\n",
       "    }\n",
       "\n",
       "    .dataframe thead th {\n",
       "        text-align: right;\n",
       "    }\n",
       "</style>\n",
       "<table border=\"1\" class=\"dataframe\">\n",
       "  <thead>\n",
       "    <tr style=\"text-align: right;\">\n",
       "      <th>Items</th>\n",
       "      <th>Choclates</th>\n",
       "      <th>Coke</th>\n",
       "      <th>Cookies</th>\n",
       "      <th>Eraser</th>\n",
       "      <th>Marker</th>\n",
       "      <th>Pencil</th>\n",
       "    </tr>\n",
       "    <tr>\n",
       "      <th>Id</th>\n",
       "      <th></th>\n",
       "      <th></th>\n",
       "      <th></th>\n",
       "      <th></th>\n",
       "      <th></th>\n",
       "      <th></th>\n",
       "    </tr>\n",
       "  </thead>\n",
       "  <tbody>\n",
       "    <tr>\n",
       "      <th>1001</th>\n",
       "      <td>1</td>\n",
       "      <td>0</td>\n",
       "      <td>0</td>\n",
       "      <td>0</td>\n",
       "      <td>1</td>\n",
       "      <td>1</td>\n",
       "    </tr>\n",
       "    <tr>\n",
       "      <th>1002</th>\n",
       "      <td>1</td>\n",
       "      <td>0</td>\n",
       "      <td>0</td>\n",
       "      <td>0</td>\n",
       "      <td>0</td>\n",
       "      <td>1</td>\n",
       "    </tr>\n",
       "    <tr>\n",
       "      <th>1003</th>\n",
       "      <td>0</td>\n",
       "      <td>1</td>\n",
       "      <td>0</td>\n",
       "      <td>1</td>\n",
       "      <td>0</td>\n",
       "      <td>1</td>\n",
       "    </tr>\n",
       "    <tr>\n",
       "      <th>1004</th>\n",
       "      <td>1</td>\n",
       "      <td>0</td>\n",
       "      <td>1</td>\n",
       "      <td>0</td>\n",
       "      <td>0</td>\n",
       "      <td>1</td>\n",
       "    </tr>\n",
       "    <tr>\n",
       "      <th>1005</th>\n",
       "      <td>0</td>\n",
       "      <td>0</td>\n",
       "      <td>0</td>\n",
       "      <td>0</td>\n",
       "      <td>1</td>\n",
       "      <td>0</td>\n",
       "    </tr>\n",
       "    <tr>\n",
       "      <th>1006</th>\n",
       "      <td>0</td>\n",
       "      <td>0</td>\n",
       "      <td>0</td>\n",
       "      <td>0</td>\n",
       "      <td>1</td>\n",
       "      <td>1</td>\n",
       "    </tr>\n",
       "    <tr>\n",
       "      <th>1007</th>\n",
       "      <td>1</td>\n",
       "      <td>0</td>\n",
       "      <td>0</td>\n",
       "      <td>0</td>\n",
       "      <td>0</td>\n",
       "      <td>1</td>\n",
       "    </tr>\n",
       "    <tr>\n",
       "      <th>1008</th>\n",
       "      <td>1</td>\n",
       "      <td>0</td>\n",
       "      <td>1</td>\n",
       "      <td>0</td>\n",
       "      <td>0</td>\n",
       "      <td>1</td>\n",
       "    </tr>\n",
       "    <tr>\n",
       "      <th>1009</th>\n",
       "      <td>0</td>\n",
       "      <td>0</td>\n",
       "      <td>0</td>\n",
       "      <td>0</td>\n",
       "      <td>1</td>\n",
       "      <td>1</td>\n",
       "    </tr>\n",
       "    <tr>\n",
       "      <th>1010</th>\n",
       "      <td>0</td>\n",
       "      <td>1</td>\n",
       "      <td>0</td>\n",
       "      <td>0</td>\n",
       "      <td>1</td>\n",
       "      <td>0</td>\n",
       "    </tr>\n",
       "  </tbody>\n",
       "</table>\n",
       "</div>"
      ],
      "text/plain": [
       "Items  Choclates  Coke  Cookies  Eraser  Marker  Pencil\n",
       "Id                                                     \n",
       "1001           1     0        0       0       1       1\n",
       "1002           1     0        0       0       0       1\n",
       "1003           0     1        0       1       0       1\n",
       "1004           1     0        1       0       0       1\n",
       "1005           0     0        0       0       1       0\n",
       "1006           0     0        0       0       1       1\n",
       "1007           1     0        0       0       0       1\n",
       "1008           1     0        1       0       0       1\n",
       "1009           0     0        0       0       1       1\n",
       "1010           0     1        0       0       1       0"
      ]
     },
     "execution_count": 50,
     "metadata": {},
     "output_type": "execute_result"
    }
   ],
   "source": [
    "# basket1= pd.crosstab(trans.Id, trans.Items).astype('bool').astype('int')\n",
    "basket = pd.crosstab(trans.Id,trans.Items)\n",
    "basket"
   ]
  },
  {
   "cell_type": "code",
   "execution_count": 51,
   "metadata": {
    "colab": {
     "base_uri": "https://localhost:8080/",
     "height": 363
    },
    "executionInfo": {
     "elapsed": 529,
     "status": "ok",
     "timestamp": 1665111669617,
     "user": {
      "displayName": "Pavan Kumar Srungaram",
      "userId": "00090524165272832833"
     },
     "user_tz": -330
    },
    "id": "JwZ6KJ1iXvYk",
    "outputId": "2d2fbf51-bfeb-4473-d892-a4976d0aac9d"
   },
   "outputs": [
    {
     "data": {
      "text/html": [
       "<div>\n",
       "<style scoped>\n",
       "    .dataframe tbody tr th:only-of-type {\n",
       "        vertical-align: middle;\n",
       "    }\n",
       "\n",
       "    .dataframe tbody tr th {\n",
       "        vertical-align: top;\n",
       "    }\n",
       "\n",
       "    .dataframe thead th {\n",
       "        text-align: right;\n",
       "    }\n",
       "</style>\n",
       "<table border=\"1\" class=\"dataframe\">\n",
       "  <thead>\n",
       "    <tr style=\"text-align: right;\">\n",
       "      <th></th>\n",
       "      <th>Choclates</th>\n",
       "      <th>Coke</th>\n",
       "      <th>Cookies</th>\n",
       "      <th>Eraser</th>\n",
       "      <th>Marker</th>\n",
       "      <th>Pencil</th>\n",
       "    </tr>\n",
       "  </thead>\n",
       "  <tbody>\n",
       "    <tr>\n",
       "      <th>1001</th>\n",
       "      <td>1</td>\n",
       "      <td>0</td>\n",
       "      <td>0</td>\n",
       "      <td>0</td>\n",
       "      <td>1</td>\n",
       "      <td>1</td>\n",
       "    </tr>\n",
       "    <tr>\n",
       "      <th>1002</th>\n",
       "      <td>1</td>\n",
       "      <td>0</td>\n",
       "      <td>0</td>\n",
       "      <td>0</td>\n",
       "      <td>0</td>\n",
       "      <td>1</td>\n",
       "    </tr>\n",
       "    <tr>\n",
       "      <th>1003</th>\n",
       "      <td>0</td>\n",
       "      <td>1</td>\n",
       "      <td>0</td>\n",
       "      <td>1</td>\n",
       "      <td>0</td>\n",
       "      <td>1</td>\n",
       "    </tr>\n",
       "    <tr>\n",
       "      <th>1004</th>\n",
       "      <td>1</td>\n",
       "      <td>0</td>\n",
       "      <td>1</td>\n",
       "      <td>0</td>\n",
       "      <td>0</td>\n",
       "      <td>1</td>\n",
       "    </tr>\n",
       "    <tr>\n",
       "      <th>1005</th>\n",
       "      <td>0</td>\n",
       "      <td>0</td>\n",
       "      <td>0</td>\n",
       "      <td>0</td>\n",
       "      <td>1</td>\n",
       "      <td>0</td>\n",
       "    </tr>\n",
       "    <tr>\n",
       "      <th>1006</th>\n",
       "      <td>0</td>\n",
       "      <td>0</td>\n",
       "      <td>0</td>\n",
       "      <td>0</td>\n",
       "      <td>1</td>\n",
       "      <td>1</td>\n",
       "    </tr>\n",
       "    <tr>\n",
       "      <th>1007</th>\n",
       "      <td>1</td>\n",
       "      <td>0</td>\n",
       "      <td>0</td>\n",
       "      <td>0</td>\n",
       "      <td>0</td>\n",
       "      <td>1</td>\n",
       "    </tr>\n",
       "    <tr>\n",
       "      <th>1008</th>\n",
       "      <td>1</td>\n",
       "      <td>0</td>\n",
       "      <td>1</td>\n",
       "      <td>0</td>\n",
       "      <td>0</td>\n",
       "      <td>1</td>\n",
       "    </tr>\n",
       "    <tr>\n",
       "      <th>1009</th>\n",
       "      <td>0</td>\n",
       "      <td>0</td>\n",
       "      <td>0</td>\n",
       "      <td>0</td>\n",
       "      <td>1</td>\n",
       "      <td>1</td>\n",
       "    </tr>\n",
       "    <tr>\n",
       "      <th>1010</th>\n",
       "      <td>0</td>\n",
       "      <td>1</td>\n",
       "      <td>0</td>\n",
       "      <td>0</td>\n",
       "      <td>1</td>\n",
       "      <td>0</td>\n",
       "    </tr>\n",
       "  </tbody>\n",
       "</table>\n",
       "</div>"
      ],
      "text/plain": [
       "      Choclates  Coke  Cookies  Eraser  Marker  Pencil\n",
       "1001          1     0        0       0       1       1\n",
       "1002          1     0        0       0       0       1\n",
       "1003          0     1        0       1       0       1\n",
       "1004          1     0        1       0       0       1\n",
       "1005          0     0        0       0       1       0\n",
       "1006          0     0        0       0       1       1\n",
       "1007          1     0        0       0       0       1\n",
       "1008          1     0        1       0       0       1\n",
       "1009          0     0        0       0       1       1\n",
       "1010          0     1        0       0       1       0"
      ]
     },
     "execution_count": 51,
     "metadata": {},
     "output_type": "execute_result"
    }
   ],
   "source": [
    "basket.columns.name = None\n",
    "basket.index.name = None\n",
    "basket"
   ]
  },
  {
   "cell_type": "code",
   "execution_count": 52,
   "metadata": {
    "colab": {
     "base_uri": "https://localhost:8080/"
    },
    "executionInfo": {
     "elapsed": 381,
     "status": "ok",
     "timestamp": 1665111672294,
     "user": {
      "displayName": "Pavan Kumar Srungaram",
      "userId": "00090524165272832833"
     },
     "user_tz": -330
    },
    "id": "rngm_EgVXvYl",
    "outputId": "26b24bd9-1fb0-42cd-9f09-1b56a8353cc7",
    "scrolled": true
   },
   "outputs": [
    {
     "name": "stdout",
     "output_type": "stream",
     "text": [
      "    support                      itemsets\n",
      "0       0.5                   (Choclates)\n",
      "1       0.2                        (Coke)\n",
      "2       0.2                     (Cookies)\n",
      "3       0.1                      (Eraser)\n",
      "4       0.5                      (Marker)\n",
      "5       0.8                      (Pencil)\n",
      "6       0.2          (Cookies, Choclates)\n",
      "7       0.1           (Marker, Choclates)\n",
      "8       0.5           (Choclates, Pencil)\n",
      "9       0.1                (Coke, Eraser)\n",
      "10      0.1                (Marker, Coke)\n",
      "11      0.1                (Coke, Pencil)\n",
      "12      0.2             (Cookies, Pencil)\n",
      "13      0.1              (Eraser, Pencil)\n",
      "14      0.3              (Marker, Pencil)\n",
      "15      0.2  (Cookies, Choclates, Pencil)\n",
      "16      0.1   (Marker, Choclates, Pencil)\n",
      "17      0.1        (Coke, Eraser, Pencil)\n"
     ]
    },
    {
     "name": "stderr",
     "output_type": "stream",
     "text": [
      "C:\\Users\\Barath Murugan\\anaconda3\\lib\\site-packages\\mlxtend\\frequent_patterns\\fpcommon.py:111: DeprecationWarning: DataFrames with non-bool types result in worse computationalperformance and their support might be discontinued in the future.Please use a DataFrame with bool type\n",
      "  warnings.warn(\n"
     ]
    }
   ],
   "source": [
    "frequent_itemsets = apriori(basket, min_support=0.07, use_colnames=True)\n",
    "print(frequent_itemsets )"
   ]
  },
  {
   "cell_type": "code",
   "execution_count": 53,
   "metadata": {
    "colab": {
     "base_uri": "https://localhost:8080/",
     "height": 865
    },
    "executionInfo": {
     "elapsed": 656,
     "status": "ok",
     "timestamp": 1665111676883,
     "user": {
      "displayName": "Pavan Kumar Srungaram",
      "userId": "00090524165272832833"
     },
     "user_tz": -330
    },
    "id": "IkkGfuJYXvYl",
    "outputId": "08bc94f3-c730-4c92-9525-956936672570"
   },
   "outputs": [
    {
     "data": {
      "text/html": [
       "<div>\n",
       "<style scoped>\n",
       "    .dataframe tbody tr th:only-of-type {\n",
       "        vertical-align: middle;\n",
       "    }\n",
       "\n",
       "    .dataframe tbody tr th {\n",
       "        vertical-align: top;\n",
       "    }\n",
       "\n",
       "    .dataframe thead th {\n",
       "        text-align: right;\n",
       "    }\n",
       "</style>\n",
       "<table border=\"1\" class=\"dataframe\">\n",
       "  <thead>\n",
       "    <tr style=\"text-align: right;\">\n",
       "      <th></th>\n",
       "      <th>antecedents</th>\n",
       "      <th>consequents</th>\n",
       "      <th>support</th>\n",
       "      <th>confidence</th>\n",
       "      <th>lift</th>\n",
       "    </tr>\n",
       "  </thead>\n",
       "  <tbody>\n",
       "    <tr>\n",
       "      <th>0</th>\n",
       "      <td>(Cookies)</td>\n",
       "      <td>(Choclates)</td>\n",
       "      <td>0.2</td>\n",
       "      <td>1.000</td>\n",
       "      <td>2.00</td>\n",
       "    </tr>\n",
       "    <tr>\n",
       "      <th>1</th>\n",
       "      <td>(Choclates)</td>\n",
       "      <td>(Cookies)</td>\n",
       "      <td>0.2</td>\n",
       "      <td>0.400</td>\n",
       "      <td>2.00</td>\n",
       "    </tr>\n",
       "    <tr>\n",
       "      <th>2</th>\n",
       "      <td>(Choclates)</td>\n",
       "      <td>(Pencil)</td>\n",
       "      <td>0.5</td>\n",
       "      <td>1.000</td>\n",
       "      <td>1.25</td>\n",
       "    </tr>\n",
       "    <tr>\n",
       "      <th>3</th>\n",
       "      <td>(Pencil)</td>\n",
       "      <td>(Choclates)</td>\n",
       "      <td>0.5</td>\n",
       "      <td>0.625</td>\n",
       "      <td>1.25</td>\n",
       "    </tr>\n",
       "    <tr>\n",
       "      <th>4</th>\n",
       "      <td>(Coke)</td>\n",
       "      <td>(Eraser)</td>\n",
       "      <td>0.1</td>\n",
       "      <td>0.500</td>\n",
       "      <td>5.00</td>\n",
       "    </tr>\n",
       "    <tr>\n",
       "      <th>5</th>\n",
       "      <td>(Eraser)</td>\n",
       "      <td>(Coke)</td>\n",
       "      <td>0.1</td>\n",
       "      <td>1.000</td>\n",
       "      <td>5.00</td>\n",
       "    </tr>\n",
       "    <tr>\n",
       "      <th>6</th>\n",
       "      <td>(Marker)</td>\n",
       "      <td>(Coke)</td>\n",
       "      <td>0.1</td>\n",
       "      <td>0.200</td>\n",
       "      <td>1.00</td>\n",
       "    </tr>\n",
       "    <tr>\n",
       "      <th>7</th>\n",
       "      <td>(Coke)</td>\n",
       "      <td>(Marker)</td>\n",
       "      <td>0.1</td>\n",
       "      <td>0.500</td>\n",
       "      <td>1.00</td>\n",
       "    </tr>\n",
       "    <tr>\n",
       "      <th>8</th>\n",
       "      <td>(Cookies)</td>\n",
       "      <td>(Pencil)</td>\n",
       "      <td>0.2</td>\n",
       "      <td>1.000</td>\n",
       "      <td>1.25</td>\n",
       "    </tr>\n",
       "    <tr>\n",
       "      <th>9</th>\n",
       "      <td>(Pencil)</td>\n",
       "      <td>(Cookies)</td>\n",
       "      <td>0.2</td>\n",
       "      <td>0.250</td>\n",
       "      <td>1.25</td>\n",
       "    </tr>\n",
       "    <tr>\n",
       "      <th>10</th>\n",
       "      <td>(Eraser)</td>\n",
       "      <td>(Pencil)</td>\n",
       "      <td>0.1</td>\n",
       "      <td>1.000</td>\n",
       "      <td>1.25</td>\n",
       "    </tr>\n",
       "    <tr>\n",
       "      <th>11</th>\n",
       "      <td>(Pencil)</td>\n",
       "      <td>(Eraser)</td>\n",
       "      <td>0.1</td>\n",
       "      <td>0.125</td>\n",
       "      <td>1.25</td>\n",
       "    </tr>\n",
       "    <tr>\n",
       "      <th>12</th>\n",
       "      <td>(Cookies, Choclates)</td>\n",
       "      <td>(Pencil)</td>\n",
       "      <td>0.2</td>\n",
       "      <td>1.000</td>\n",
       "      <td>1.25</td>\n",
       "    </tr>\n",
       "    <tr>\n",
       "      <th>13</th>\n",
       "      <td>(Cookies, Pencil)</td>\n",
       "      <td>(Choclates)</td>\n",
       "      <td>0.2</td>\n",
       "      <td>1.000</td>\n",
       "      <td>2.00</td>\n",
       "    </tr>\n",
       "    <tr>\n",
       "      <th>14</th>\n",
       "      <td>(Choclates, Pencil)</td>\n",
       "      <td>(Cookies)</td>\n",
       "      <td>0.2</td>\n",
       "      <td>0.400</td>\n",
       "      <td>2.00</td>\n",
       "    </tr>\n",
       "    <tr>\n",
       "      <th>15</th>\n",
       "      <td>(Cookies)</td>\n",
       "      <td>(Choclates, Pencil)</td>\n",
       "      <td>0.2</td>\n",
       "      <td>1.000</td>\n",
       "      <td>2.00</td>\n",
       "    </tr>\n",
       "    <tr>\n",
       "      <th>16</th>\n",
       "      <td>(Choclates)</td>\n",
       "      <td>(Cookies, Pencil)</td>\n",
       "      <td>0.2</td>\n",
       "      <td>0.400</td>\n",
       "      <td>2.00</td>\n",
       "    </tr>\n",
       "    <tr>\n",
       "      <th>17</th>\n",
       "      <td>(Pencil)</td>\n",
       "      <td>(Cookies, Choclates)</td>\n",
       "      <td>0.2</td>\n",
       "      <td>0.250</td>\n",
       "      <td>1.25</td>\n",
       "    </tr>\n",
       "    <tr>\n",
       "      <th>18</th>\n",
       "      <td>(Marker, Choclates)</td>\n",
       "      <td>(Pencil)</td>\n",
       "      <td>0.1</td>\n",
       "      <td>1.000</td>\n",
       "      <td>1.25</td>\n",
       "    </tr>\n",
       "    <tr>\n",
       "      <th>19</th>\n",
       "      <td>(Pencil)</td>\n",
       "      <td>(Marker, Choclates)</td>\n",
       "      <td>0.1</td>\n",
       "      <td>0.125</td>\n",
       "      <td>1.25</td>\n",
       "    </tr>\n",
       "    <tr>\n",
       "      <th>20</th>\n",
       "      <td>(Coke, Eraser)</td>\n",
       "      <td>(Pencil)</td>\n",
       "      <td>0.1</td>\n",
       "      <td>1.000</td>\n",
       "      <td>1.25</td>\n",
       "    </tr>\n",
       "    <tr>\n",
       "      <th>21</th>\n",
       "      <td>(Coke, Pencil)</td>\n",
       "      <td>(Eraser)</td>\n",
       "      <td>0.1</td>\n",
       "      <td>1.000</td>\n",
       "      <td>10.00</td>\n",
       "    </tr>\n",
       "    <tr>\n",
       "      <th>22</th>\n",
       "      <td>(Eraser, Pencil)</td>\n",
       "      <td>(Coke)</td>\n",
       "      <td>0.1</td>\n",
       "      <td>1.000</td>\n",
       "      <td>5.00</td>\n",
       "    </tr>\n",
       "    <tr>\n",
       "      <th>23</th>\n",
       "      <td>(Coke)</td>\n",
       "      <td>(Eraser, Pencil)</td>\n",
       "      <td>0.1</td>\n",
       "      <td>0.500</td>\n",
       "      <td>5.00</td>\n",
       "    </tr>\n",
       "    <tr>\n",
       "      <th>24</th>\n",
       "      <td>(Eraser)</td>\n",
       "      <td>(Coke, Pencil)</td>\n",
       "      <td>0.1</td>\n",
       "      <td>1.000</td>\n",
       "      <td>10.00</td>\n",
       "    </tr>\n",
       "    <tr>\n",
       "      <th>25</th>\n",
       "      <td>(Pencil)</td>\n",
       "      <td>(Coke, Eraser)</td>\n",
       "      <td>0.1</td>\n",
       "      <td>0.125</td>\n",
       "      <td>1.25</td>\n",
       "    </tr>\n",
       "  </tbody>\n",
       "</table>\n",
       "</div>"
      ],
      "text/plain": [
       "             antecedents           consequents  support  confidence   lift\n",
       "0              (Cookies)           (Choclates)      0.2       1.000   2.00\n",
       "1            (Choclates)             (Cookies)      0.2       0.400   2.00\n",
       "2            (Choclates)              (Pencil)      0.5       1.000   1.25\n",
       "3               (Pencil)           (Choclates)      0.5       0.625   1.25\n",
       "4                 (Coke)              (Eraser)      0.1       0.500   5.00\n",
       "5               (Eraser)                (Coke)      0.1       1.000   5.00\n",
       "6               (Marker)                (Coke)      0.1       0.200   1.00\n",
       "7                 (Coke)              (Marker)      0.1       0.500   1.00\n",
       "8              (Cookies)              (Pencil)      0.2       1.000   1.25\n",
       "9               (Pencil)             (Cookies)      0.2       0.250   1.25\n",
       "10              (Eraser)              (Pencil)      0.1       1.000   1.25\n",
       "11              (Pencil)              (Eraser)      0.1       0.125   1.25\n",
       "12  (Cookies, Choclates)              (Pencil)      0.2       1.000   1.25\n",
       "13     (Cookies, Pencil)           (Choclates)      0.2       1.000   2.00\n",
       "14   (Choclates, Pencil)             (Cookies)      0.2       0.400   2.00\n",
       "15             (Cookies)   (Choclates, Pencil)      0.2       1.000   2.00\n",
       "16           (Choclates)     (Cookies, Pencil)      0.2       0.400   2.00\n",
       "17              (Pencil)  (Cookies, Choclates)      0.2       0.250   1.25\n",
       "18   (Marker, Choclates)              (Pencil)      0.1       1.000   1.25\n",
       "19              (Pencil)   (Marker, Choclates)      0.1       0.125   1.25\n",
       "20        (Coke, Eraser)              (Pencil)      0.1       1.000   1.25\n",
       "21        (Coke, Pencil)              (Eraser)      0.1       1.000  10.00\n",
       "22      (Eraser, Pencil)                (Coke)      0.1       1.000   5.00\n",
       "23                (Coke)      (Eraser, Pencil)      0.1       0.500   5.00\n",
       "24              (Eraser)        (Coke, Pencil)      0.1       1.000  10.00\n",
       "25              (Pencil)        (Coke, Eraser)      0.1       0.125   1.25"
      ]
     },
     "execution_count": 53,
     "metadata": {},
     "output_type": "execute_result"
    }
   ],
   "source": [
    "## Extract the rules\n",
    "rules = association_rules(frequent_itemsets, metric=\"lift\")\n",
    "\n",
    "rules = rules.loc[:,[\"antecedents\",\"consequents\",\"support\",\"confidence\",\"lift\"]]\n",
    "\n",
    "rules"
   ]
  },
  {
   "cell_type": "code",
   "execution_count": 54,
   "metadata": {
    "colab": {
     "base_uri": "https://localhost:8080/",
     "height": 175
    },
    "executionInfo": {
     "elapsed": 11,
     "status": "ok",
     "timestamp": 1665111680616,
     "user": {
      "displayName": "Pavan Kumar Srungaram",
      "userId": "00090524165272832833"
     },
     "user_tz": -330
    },
    "id": "he4f3vdGXvYm",
    "outputId": "9fe64ae5-b4f1-47cc-bc55-6c690c8f3e82",
    "scrolled": true
   },
   "outputs": [
    {
     "data": {
      "text/html": [
       "<div>\n",
       "<style scoped>\n",
       "    .dataframe tbody tr th:only-of-type {\n",
       "        vertical-align: middle;\n",
       "    }\n",
       "\n",
       "    .dataframe tbody tr th {\n",
       "        vertical-align: top;\n",
       "    }\n",
       "\n",
       "    .dataframe thead th {\n",
       "        text-align: right;\n",
       "    }\n",
       "</style>\n",
       "<table border=\"1\" class=\"dataframe\">\n",
       "  <thead>\n",
       "    <tr style=\"text-align: right;\">\n",
       "      <th></th>\n",
       "      <th>antecedents</th>\n",
       "      <th>consequents</th>\n",
       "      <th>support</th>\n",
       "      <th>confidence</th>\n",
       "      <th>lift</th>\n",
       "    </tr>\n",
       "  </thead>\n",
       "  <tbody>\n",
       "    <tr>\n",
       "      <th>5</th>\n",
       "      <td>(Eraser)</td>\n",
       "      <td>(Coke)</td>\n",
       "      <td>0.1</td>\n",
       "      <td>1.0</td>\n",
       "      <td>5.0</td>\n",
       "    </tr>\n",
       "    <tr>\n",
       "      <th>21</th>\n",
       "      <td>(Coke, Pencil)</td>\n",
       "      <td>(Eraser)</td>\n",
       "      <td>0.1</td>\n",
       "      <td>1.0</td>\n",
       "      <td>10.0</td>\n",
       "    </tr>\n",
       "    <tr>\n",
       "      <th>22</th>\n",
       "      <td>(Eraser, Pencil)</td>\n",
       "      <td>(Coke)</td>\n",
       "      <td>0.1</td>\n",
       "      <td>1.0</td>\n",
       "      <td>5.0</td>\n",
       "    </tr>\n",
       "    <tr>\n",
       "      <th>24</th>\n",
       "      <td>(Eraser)</td>\n",
       "      <td>(Coke, Pencil)</td>\n",
       "      <td>0.1</td>\n",
       "      <td>1.0</td>\n",
       "      <td>10.0</td>\n",
       "    </tr>\n",
       "  </tbody>\n",
       "</table>\n",
       "</div>"
      ],
      "text/plain": [
       "         antecedents     consequents  support  confidence  lift\n",
       "5           (Eraser)          (Coke)      0.1         1.0   5.0\n",
       "21    (Coke, Pencil)        (Eraser)      0.1         1.0  10.0\n",
       "22  (Eraser, Pencil)          (Coke)      0.1         1.0   5.0\n",
       "24          (Eraser)  (Coke, Pencil)      0.1         1.0  10.0"
      ]
     },
     "execution_count": 54,
     "metadata": {},
     "output_type": "execute_result"
    }
   ],
   "source": [
    "## Set thresholds on lift,confidance,support and check \n",
    "\n",
    "rules[ (rules['lift'] >= 1.5) &\n",
    "       (rules['confidence'] >= 0.8) &\n",
    "     (rules['support'] < 0.2)]"
   ]
  },
  {
   "cell_type": "markdown",
   "metadata": {
    "id": "iTY9xYgEXvYm"
   },
   "source": [
    "## Visualizing the rules "
   ]
  },
  {
   "cell_type": "code",
   "execution_count": 15,
   "metadata": {
    "executionInfo": {
     "elapsed": 379,
     "status": "ok",
     "timestamp": 1665111689791,
     "user": {
      "displayName": "Pavan Kumar Srungaram",
      "userId": "00090524165272832833"
     },
     "user_tz": -330
    },
    "id": "8RMpShNjXvYn"
   },
   "outputs": [],
   "source": [
    "## Store the column as a numpy array\n",
    "support = rules['support'].values\n",
    "confidence = rules['confidence'].values"
   ]
  },
  {
   "cell_type": "code",
   "execution_count": 19,
   "metadata": {
    "colab": {
     "base_uri": "https://localhost:8080/",
     "height": 279
    },
    "executionInfo": {
     "elapsed": 499,
     "status": "ok",
     "timestamp": 1665111693212,
     "user": {
      "displayName": "Pavan Kumar Srungaram",
      "userId": "00090524165272832833"
     },
     "user_tz": -330
    },
    "id": "EsOIHC0zXvYn",
    "outputId": "74224b5d-e38a-4871-aede-245cda3dba6b"
   },
   "outputs": [
    {
     "data": {
      "image/png": "[encoded data removed]",
      "text/plain": [
       "<Figure size 640x480 with 1 Axes>"
      ]
     },
     "metadata": {},
     "output_type": "display_data"
    }
   ],
   "source": [
    "## Without jitter\n",
    "plt.scatter(rules.support, rules.confidence,alpha=1, marker=\"+\")\n",
    "plt.xlabel('support')\n",
    "plt.ylabel('confidence') \n",
    "plt.show()"
   ]
  },
  {
   "cell_type": "code",
   "execution_count": null,
   "metadata": {
    "id": "slPY5Un9XvYn",
    "outputId": "4e0a418c-feb2-46fd-cbb4-176c3d1863b4"
   },
   "outputs": [
    {
     "data": {
      "text/plain": [
       "26"
      ]
     },
     "execution_count": 21,
     "metadata": {},
     "output_type": "execute_result"
    }
   ],
   "source": [
    "len(support)"
   ]
  },
  {
   "cell_type": "code",
   "execution_count": 17,
   "metadata": {
    "colab": {
     "base_uri": "https://localhost:8080/",
     "height": 279
    },
    "executionInfo": {
     "elapsed": 1166,
     "status": "ok",
     "timestamp": 1665111744344,
     "user": {
      "displayName": "Pavan Kumar Srungaram",
      "userId": "00090524165272832833"
     },
     "user_tz": -330
    },
    "id": "2UhT06ZaXvYo",
    "outputId": "696fd74b-15f6-4e5d-dc55-ca5fae3578a8"
   },
   "outputs": [
    {
     "data": {
      "image/png": "[encoded data removed]",
      "text/plain": [
       "<Figure size 432x288 with 1 Axes>"
      ]
     },
     "metadata": {
      "needs_background": "light"
     },
     "output_type": "display_data"
    }
   ],
   "source": [
    "## With jitter\n",
    "for i in range (len(support)):\n",
    "    support[i] = support[i] + 0.0025 * (random.randint(1,10) - 5) \n",
    "    confidence[i] = confidence[i] + 0.0025 * (random.randint(1,10) - 5)\n",
    "plt.scatter(support, confidence,alpha=0.5, marker=\"*\")\n",
    "plt.xlabel('support')\n",
    "plt.ylabel('confidence') \n",
    "plt.show()"
   ]
  },
  {
   "cell_type": "markdown",
   "metadata": {
    "id": "Crzvu54EXvYo"
   },
   "source": [
    "## Case study - 2 (Store Data)"
   ]
  },
  {
   "cell_type": "markdown",
   "metadata": {
    "id": "l83FBh2IXvYp"
   },
   "source": [
    "#### Read transaction data"
   ]
  },
  {
   "cell_type": "code",
   "execution_count": 20,
   "metadata": {
    "executionInfo": {
     "elapsed": 4,
     "status": "ok",
     "timestamp": 1665111809158,
     "user": {
      "displayName": "Pavan Kumar Srungaram",
      "userId": "00090524165272832833"
     },
     "user_tz": -330
    },
    "id": "Ha1MRv-eXvYp",
    "scrolled": true
   },
   "outputs": [],
   "source": [
    "FILE_PATH = 'store_data.csv'"
   ]
  },
  {
   "cell_type": "code",
   "execution_count": 21,
   "metadata": {
    "colab": {
     "base_uri": "https://localhost:8080/"
    },
    "executionInfo": {
     "elapsed": 646,
     "status": "ok",
     "timestamp": 1665111813025,
     "user": {
      "displayName": "Pavan Kumar Srungaram",
      "userId": "00090524165272832833"
     },
     "user_tz": -330
    },
    "id": "UpyEI3XvXvYp",
    "outputId": "4431dac2-d34f-483c-bc9c-9f9b8ca4cf81"
   },
   "outputs": [
    {
     "name": "stdout",
     "output_type": "stream",
     "text": [
      "7501\n",
      "[['shrimp', 'almonds', 'avocado', 'vegetables mix', 'green grapes', 'whole weat flour', 'yams', 'cottage cheese', 'energy drink', 'tomato juice', 'low fat yogurt', 'green tea', 'honey', 'salad', 'mineral water', 'salmon', 'antioxydant juice', 'frozen smoothie', 'spinach', 'olive oil'], ['burgers', 'meatballs', 'eggs'], ['chutney'], ['turkey', 'avocado']]\n"
     ]
    },
    {
     "data": {
      "text/plain": [
       "26"
      ]
     },
     "execution_count": 21,
     "metadata": {},
     "output_type": "execute_result"
    }
   ],
   "source": [
    "dataset = []\n",
    "with open(FILE_PATH) as fp: \n",
    "    for line in fp:\n",
    "        dataset.append(line.strip().split(','))\n",
    "print(len(dataset))\n",
    "print(dataset[:4])\n",
    "\n",
    "len(support)"
   ]
  },
  {
   "cell_type": "code",
   "execution_count": 22,
   "metadata": {
    "colab": {
     "base_uri": "https://localhost:8080/"
    },
    "executionInfo": {
     "elapsed": 389,
     "status": "ok",
     "timestamp": 1665111820073,
     "user": {
      "displayName": "Pavan Kumar Srungaram",
      "userId": "00090524165272832833"
     },
     "user_tz": -330
    },
    "id": "NjtIhk66XvYq",
    "outputId": "503e61e3-b686-48a1-9ae6-9f62df006049"
   },
   "outputs": [
    {
     "name": "stdout",
     "output_type": "stream",
     "text": [
      "7501\n",
      "[['shrimp', 'almonds', 'avocado', 'vegetables mix', 'green grapes', 'whole weat flour', 'yams', 'cottage cheese', 'energy drink', 'tomato juice', 'low fat yogurt', 'green tea', 'honey', 'salad', 'mineral water', 'salmon', 'antioxydant juice', 'frozen smoothie', 'spinach', 'olive oil'], ['burgers', 'meatballs', 'eggs'], ['chutney'], ['turkey', 'avocado']]\n"
     ]
    },
    {
     "data": {
      "text/plain": [
       "26"
      ]
     },
     "execution_count": 22,
     "metadata": {},
     "output_type": "execute_result"
    }
   ],
   "source": [
    "dataset = []\n",
    "with open(FILE_PATH) as fp: \n",
    "    for line in fp:\n",
    "        dataset.append([i.strip() for i in line.strip().split(',')])\n",
    "print(len(dataset))\n",
    "print(dataset[:4])\n",
    "\n",
    "len(support)"
   ]
  },
  {
   "cell_type": "code",
   "execution_count": 40,
   "metadata": {
    "colab": {
     "base_uri": "https://localhost:8080/"
    },
    "executionInfo": {
     "elapsed": 448,
     "status": "ok",
     "timestamp": 1665111822512,
     "user": {
      "displayName": "Pavan Kumar Srungaram",
      "userId": "00090524165272832833"
     },
     "user_tz": -330
    },
    "id": "tVvZxZbhXvYq",
    "outputId": "267969a0-c63e-411e-b4a7-6f75e825c653"
   },
   "outputs": [
    {
     "data": {
      "text/plain": [
       "['shrimp',\n",
       " 'almonds',\n",
       " 'avocado',\n",
       " 'vegetables mix',\n",
       " 'green grapes',\n",
       " 'whole weat flour',\n",
       " 'yams',\n",
       " 'cottage cheese',\n",
       " 'energy drink',\n",
       " 'tomato juice',\n",
       " 'low fat yogurt',\n",
       " 'green tea',\n",
       " 'honey',\n",
       " 'salad',\n",
       " 'mineral water',\n",
       " 'salmon',\n",
       " 'antioxydant juice',\n",
       " 'frozen smoothie',\n",
       " 'spinach',\n",
       " 'olive oil']"
      ]
     },
     "execution_count": 40,
     "metadata": {},
     "output_type": "execute_result"
    }
   ],
   "source": [
    "dataset[0]"
   ]
  },
  {
   "cell_type": "markdown",
   "metadata": {
    "id": "SsDhL0acXvYq"
   },
   "source": [
    "#### Generating Frequent Itemsets\n",
    "\n",
    "* The `apriori` function expects data in a `one-hot encoded` __pandas DataFrame__. "
   ]
  },
  {
   "cell_type": "markdown",
   "metadata": {
    "id": "6bkjTrchXvYq"
   },
   "source": [
    "#### `TransactionEncoder`\n",
    "\n",
    "Transform into one-hot encoded pandas DataFrame "
   ]
  },
  {
   "cell_type": "code",
   "execution_count": 23,
   "metadata": {
    "executionInfo": {
     "elapsed": 1114,
     "status": "ok",
     "timestamp": 1665111843992,
     "user": {
      "displayName": "Pavan Kumar Srungaram",
      "userId": "00090524165272832833"
     },
     "user_tz": -330
    },
    "id": "PzlpJebhXvYr"
   },
   "outputs": [],
   "source": [
    "import pandas as pd\n",
    "from mlxtend.preprocessing import TransactionEncoder"
   ]
  },
  {
   "cell_type": "code",
   "execution_count": 24,
   "metadata": {
    "executionInfo": {
     "elapsed": 386,
     "status": "ok",
     "timestamp": 1665111845875,
     "user": {
      "displayName": "Pavan Kumar Srungaram",
      "userId": "00090524165272832833"
     },
     "user_tz": -330
    },
    "id": "XHU1SPvuXvYr"
   },
   "outputs": [],
   "source": [
    "te = TransactionEncoder()\n",
    "te_fit = te.fit(dataset)\n",
    "te_ary = te_fit.transform(dataset)"
   ]
  },
  {
   "cell_type": "code",
   "execution_count": 25,
   "metadata": {
    "colab": {
     "base_uri": "https://localhost:8080/"
    },
    "executionInfo": {
     "elapsed": 5,
     "status": "ok",
     "timestamp": 1665111847686,
     "user": {
      "displayName": "Pavan Kumar Srungaram",
      "userId": "00090524165272832833"
     },
     "user_tz": -330
    },
    "id": "1sBIjQkPXvYr",
    "outputId": "6990cf68-8ccc-40b6-d8bf-c14f93789e33"
   },
   "outputs": [
    {
     "name": "stdout",
     "output_type": "stream",
     "text": [
      "<class 'list'>\n",
      "['almonds', 'antioxydant juice', 'asparagus', 'avocado', 'babies food', 'bacon', 'barbecue sauce', 'black tea', 'blueberries', 'body spray', 'bramble', 'brownies', 'bug spray', 'burger sauce', 'burgers', 'butter', 'cake', 'candy bars', 'carrots', 'cauliflower', 'cereals', 'champagne', 'chicken', 'chili', 'chocolate', 'chocolate bread', 'chutney', 'cider', 'clothes accessories', 'cookies', 'cooking oil', 'corn', 'cottage cheese', 'cream', 'dessert wine', 'eggplant', 'eggs', 'energy bar', 'energy drink', 'escalope', 'extra dark chocolate', 'flax seed', 'french fries', 'french wine', 'fresh bread', 'fresh tuna', 'fromage blanc', 'frozen smoothie', 'frozen vegetables', 'gluten free bar', 'grated cheese', 'green beans', 'green grapes', 'green tea', 'ground beef', 'gums', 'ham', 'hand protein bar', 'herb & pepper', 'honey', 'hot dogs', 'ketchup', 'light cream', 'light mayo', 'low fat yogurt', 'magazines', 'mashed potato', 'mayonnaise', 'meatballs', 'melons', 'milk', 'mineral water', 'mint', 'mint green tea', 'muffins', 'mushroom cream sauce', 'napkins', 'nonfat milk', 'oatmeal', 'oil', 'olive oil', 'pancakes', 'parmesan cheese', 'pasta', 'pepper', 'pet food', 'pickles', 'protein bar', 'red wine', 'rice', 'salad', 'salmon', 'salt', 'sandwich', 'shallot', 'shampoo', 'shrimp', 'soda', 'soup', 'spaghetti', 'sparkling water', 'spinach', 'strawberries', 'strong cheese', 'tea', 'tomato juice', 'tomato sauce', 'tomatoes', 'toothpaste', 'turkey', 'vegetables mix', 'water spray', 'white wine', 'whole weat flour', 'whole wheat pasta', 'whole wheat rice', 'yams', 'yogurt cake', 'zucchini']\n",
      "119\n",
      "<class 'numpy.ndarray'>\n",
      "[[ True  True False ...  True False False]\n",
      " [False False False ... False False False]\n",
      " [False False False ... False False False]\n",
      " ...\n",
      " [False False False ... False False False]\n",
      " [False False False ... False False False]\n",
      " [False False False ... False  True False]]\n"
     ]
    }
   ],
   "source": [
    "print(type(te.columns_))\n",
    "print(te.columns_)\n",
    "print(len(te.columns_))\n",
    "\n",
    "print(type(te_ary))\n",
    "print(te_ary)"
   ]
  },
  {
   "cell_type": "code",
   "execution_count": 26,
   "metadata": {
    "colab": {
     "base_uri": "https://localhost:8080/",
     "height": 522
    },
    "executionInfo": {
     "elapsed": 517,
     "status": "ok",
     "timestamp": 1665111852456,
     "user": {
      "displayName": "Pavan Kumar Srungaram",
      "userId": "00090524165272832833"
     },
     "user_tz": -330
    },
    "id": "viJmHc0xXvYr",
    "outputId": "84884ed8-8c78-4a00-d4e0-22a1a727aff3"
   },
   "outputs": [
    {
     "data": {
      "text/html": [
       "<div>\n",
       "<style scoped>\n",
       "    .dataframe tbody tr th:only-of-type {\n",
       "        vertical-align: middle;\n",
       "    }\n",
       "\n",
       "    .dataframe tbody tr th {\n",
       "        vertical-align: top;\n",
       "    }\n",
       "\n",
       "    .dataframe thead th {\n",
       "        text-align: right;\n",
       "    }\n",
       "</style>\n",
       "<table border=\"1\" class=\"dataframe\">\n",
       "  <thead>\n",
       "    <tr style=\"text-align: right;\">\n",
       "      <th></th>\n",
       "      <th>almonds</th>\n",
       "      <th>antioxydant juice</th>\n",
       "      <th>asparagus</th>\n",
       "      <th>avocado</th>\n",
       "      <th>babies food</th>\n",
       "      <th>bacon</th>\n",
       "      <th>barbecue sauce</th>\n",
       "      <th>black tea</th>\n",
       "      <th>blueberries</th>\n",
       "      <th>body spray</th>\n",
       "      <th>...</th>\n",
       "      <th>turkey</th>\n",
       "      <th>vegetables mix</th>\n",
       "      <th>water spray</th>\n",
       "      <th>white wine</th>\n",
       "      <th>whole weat flour</th>\n",
       "      <th>whole wheat pasta</th>\n",
       "      <th>whole wheat rice</th>\n",
       "      <th>yams</th>\n",
       "      <th>yogurt cake</th>\n",
       "      <th>zucchini</th>\n",
       "    </tr>\n",
       "  </thead>\n",
       "  <tbody>\n",
       "    <tr>\n",
       "      <th>0</th>\n",
       "      <td>True</td>\n",
       "      <td>True</td>\n",
       "      <td>False</td>\n",
       "      <td>True</td>\n",
       "      <td>False</td>\n",
       "      <td>False</td>\n",
       "      <td>False</td>\n",
       "      <td>False</td>\n",
       "      <td>False</td>\n",
       "      <td>False</td>\n",
       "      <td>...</td>\n",
       "      <td>False</td>\n",
       "      <td>True</td>\n",
       "      <td>False</td>\n",
       "      <td>False</td>\n",
       "      <td>True</td>\n",
       "      <td>False</td>\n",
       "      <td>False</td>\n",
       "      <td>True</td>\n",
       "      <td>False</td>\n",
       "      <td>False</td>\n",
       "    </tr>\n",
       "    <tr>\n",
       "      <th>1</th>\n",
       "      <td>False</td>\n",
       "      <td>False</td>\n",
       "      <td>False</td>\n",
       "      <td>False</td>\n",
       "      <td>False</td>\n",
       "      <td>False</td>\n",
       "      <td>False</td>\n",
       "      <td>False</td>\n",
       "      <td>False</td>\n",
       "      <td>False</td>\n",
       "      <td>...</td>\n",
       "      <td>False</td>\n",
       "      <td>False</td>\n",
       "      <td>False</td>\n",
       "      <td>False</td>\n",
       "      <td>False</td>\n",
       "      <td>False</td>\n",
       "      <td>False</td>\n",
       "      <td>False</td>\n",
       "      <td>False</td>\n",
       "      <td>False</td>\n",
       "    </tr>\n",
       "    <tr>\n",
       "      <th>2</th>\n",
       "      <td>False</td>\n",
       "      <td>False</td>\n",
       "      <td>False</td>\n",
       "      <td>False</td>\n",
       "      <td>False</td>\n",
       "      <td>False</td>\n",
       "      <td>False</td>\n",
       "      <td>False</td>\n",
       "      <td>False</td>\n",
       "      <td>False</td>\n",
       "      <td>...</td>\n",
       "      <td>False</td>\n",
       "      <td>False</td>\n",
       "      <td>False</td>\n",
       "      <td>False</td>\n",
       "      <td>False</td>\n",
       "      <td>False</td>\n",
       "      <td>False</td>\n",
       "      <td>False</td>\n",
       "      <td>False</td>\n",
       "      <td>False</td>\n",
       "    </tr>\n",
       "    <tr>\n",
       "      <th>3</th>\n",
       "      <td>False</td>\n",
       "      <td>False</td>\n",
       "      <td>False</td>\n",
       "      <td>True</td>\n",
       "      <td>False</td>\n",
       "      <td>False</td>\n",
       "      <td>False</td>\n",
       "      <td>False</td>\n",
       "      <td>False</td>\n",
       "      <td>False</td>\n",
       "      <td>...</td>\n",
       "      <td>True</td>\n",
       "      <td>False</td>\n",
       "      <td>False</td>\n",
       "      <td>False</td>\n",
       "      <td>False</td>\n",
       "      <td>False</td>\n",
       "      <td>False</td>\n",
       "      <td>False</td>\n",
       "      <td>False</td>\n",
       "      <td>False</td>\n",
       "    </tr>\n",
       "    <tr>\n",
       "      <th>4</th>\n",
       "      <td>False</td>\n",
       "      <td>False</td>\n",
       "      <td>False</td>\n",
       "      <td>False</td>\n",
       "      <td>False</td>\n",
       "      <td>False</td>\n",
       "      <td>False</td>\n",
       "      <td>False</td>\n",
       "      <td>False</td>\n",
       "      <td>False</td>\n",
       "      <td>...</td>\n",
       "      <td>False</td>\n",
       "      <td>False</td>\n",
       "      <td>False</td>\n",
       "      <td>False</td>\n",
       "      <td>False</td>\n",
       "      <td>False</td>\n",
       "      <td>True</td>\n",
       "      <td>False</td>\n",
       "      <td>False</td>\n",
       "      <td>False</td>\n",
       "    </tr>\n",
       "    <tr>\n",
       "      <th>...</th>\n",
       "      <td>...</td>\n",
       "      <td>...</td>\n",
       "      <td>...</td>\n",
       "      <td>...</td>\n",
       "      <td>...</td>\n",
       "      <td>...</td>\n",
       "      <td>...</td>\n",
       "      <td>...</td>\n",
       "      <td>...</td>\n",
       "      <td>...</td>\n",
       "      <td>...</td>\n",
       "      <td>...</td>\n",
       "      <td>...</td>\n",
       "      <td>...</td>\n",
       "      <td>...</td>\n",
       "      <td>...</td>\n",
       "      <td>...</td>\n",
       "      <td>...</td>\n",
       "      <td>...</td>\n",
       "      <td>...</td>\n",
       "      <td>...</td>\n",
       "    </tr>\n",
       "    <tr>\n",
       "      <th>7496</th>\n",
       "      <td>False</td>\n",
       "      <td>False</td>\n",
       "      <td>False</td>\n",
       "      <td>False</td>\n",
       "      <td>False</td>\n",
       "      <td>False</td>\n",
       "      <td>False</td>\n",
       "      <td>False</td>\n",
       "      <td>False</td>\n",
       "      <td>False</td>\n",
       "      <td>...</td>\n",
       "      <td>False</td>\n",
       "      <td>False</td>\n",
       "      <td>False</td>\n",
       "      <td>False</td>\n",
       "      <td>False</td>\n",
       "      <td>False</td>\n",
       "      <td>False</td>\n",
       "      <td>False</td>\n",
       "      <td>False</td>\n",
       "      <td>False</td>\n",
       "    </tr>\n",
       "    <tr>\n",
       "      <th>7497</th>\n",
       "      <td>False</td>\n",
       "      <td>False</td>\n",
       "      <td>False</td>\n",
       "      <td>False</td>\n",
       "      <td>False</td>\n",
       "      <td>False</td>\n",
       "      <td>False</td>\n",
       "      <td>False</td>\n",
       "      <td>False</td>\n",
       "      <td>False</td>\n",
       "      <td>...</td>\n",
       "      <td>False</td>\n",
       "      <td>False</td>\n",
       "      <td>False</td>\n",
       "      <td>False</td>\n",
       "      <td>False</td>\n",
       "      <td>False</td>\n",
       "      <td>False</td>\n",
       "      <td>False</td>\n",
       "      <td>False</td>\n",
       "      <td>False</td>\n",
       "    </tr>\n",
       "    <tr>\n",
       "      <th>7498</th>\n",
       "      <td>False</td>\n",
       "      <td>False</td>\n",
       "      <td>False</td>\n",
       "      <td>False</td>\n",
       "      <td>False</td>\n",
       "      <td>False</td>\n",
       "      <td>False</td>\n",
       "      <td>False</td>\n",
       "      <td>False</td>\n",
       "      <td>False</td>\n",
       "      <td>...</td>\n",
       "      <td>False</td>\n",
       "      <td>False</td>\n",
       "      <td>False</td>\n",
       "      <td>False</td>\n",
       "      <td>False</td>\n",
       "      <td>False</td>\n",
       "      <td>False</td>\n",
       "      <td>False</td>\n",
       "      <td>False</td>\n",
       "      <td>False</td>\n",
       "    </tr>\n",
       "    <tr>\n",
       "      <th>7499</th>\n",
       "      <td>False</td>\n",
       "      <td>False</td>\n",
       "      <td>False</td>\n",
       "      <td>False</td>\n",
       "      <td>False</td>\n",
       "      <td>False</td>\n",
       "      <td>False</td>\n",
       "      <td>False</td>\n",
       "      <td>False</td>\n",
       "      <td>False</td>\n",
       "      <td>...</td>\n",
       "      <td>False</td>\n",
       "      <td>False</td>\n",
       "      <td>False</td>\n",
       "      <td>False</td>\n",
       "      <td>False</td>\n",
       "      <td>False</td>\n",
       "      <td>False</td>\n",
       "      <td>False</td>\n",
       "      <td>False</td>\n",
       "      <td>False</td>\n",
       "    </tr>\n",
       "    <tr>\n",
       "      <th>7500</th>\n",
       "      <td>False</td>\n",
       "      <td>False</td>\n",
       "      <td>False</td>\n",
       "      <td>False</td>\n",
       "      <td>False</td>\n",
       "      <td>False</td>\n",
       "      <td>False</td>\n",
       "      <td>False</td>\n",
       "      <td>False</td>\n",
       "      <td>False</td>\n",
       "      <td>...</td>\n",
       "      <td>False</td>\n",
       "      <td>False</td>\n",
       "      <td>False</td>\n",
       "      <td>False</td>\n",
       "      <td>False</td>\n",
       "      <td>False</td>\n",
       "      <td>False</td>\n",
       "      <td>False</td>\n",
       "      <td>True</td>\n",
       "      <td>False</td>\n",
       "    </tr>\n",
       "  </tbody>\n",
       "</table>\n",
       "<p>7501 rows × 119 columns</p>\n",
       "</div>"
      ],
      "text/plain": [
       "      almonds  antioxydant juice  asparagus  avocado  babies food  bacon  \\\n",
       "0        True               True      False     True        False  False   \n",
       "1       False              False      False    False        False  False   \n",
       "2       False              False      False    False        False  False   \n",
       "3       False              False      False     True        False  False   \n",
       "4       False              False      False    False        False  False   \n",
       "...       ...                ...        ...      ...          ...    ...   \n",
       "7496    False              False      False    False        False  False   \n",
       "7497    False              False      False    False        False  False   \n",
       "7498    False              False      False    False        False  False   \n",
       "7499    False              False      False    False        False  False   \n",
       "7500    False              False      False    False        False  False   \n",
       "\n",
       "      barbecue sauce  black tea  blueberries  body spray  ...  turkey  \\\n",
       "0              False      False        False       False  ...   False   \n",
       "1              False      False        False       False  ...   False   \n",
       "2              False      False        False       False  ...   False   \n",
       "3              False      False        False       False  ...    True   \n",
       "4              False      False        False       False  ...   False   \n",
       "...              ...        ...          ...         ...  ...     ...   \n",
       "7496           False      False        False       False  ...   False   \n",
       "7497           False      False        False       False  ...   False   \n",
       "7498           False      False        False       False  ...   False   \n",
       "7499           False      False        False       False  ...   False   \n",
       "7500           False      False        False       False  ...   False   \n",
       "\n",
       "      vegetables mix  water spray  white wine  whole weat flour  \\\n",
       "0               True        False       False              True   \n",
       "1              False        False       False             False   \n",
       "2              False        False       False             False   \n",
       "3              False        False       False             False   \n",
       "4              False        False       False             False   \n",
       "...              ...          ...         ...               ...   \n",
       "7496           False        False       False             False   \n",
       "7497           False        False       False             False   \n",
       "7498           False        False       False             False   \n",
       "7499           False        False       False             False   \n",
       "7500           False        False       False             False   \n",
       "\n",
       "      whole wheat pasta  whole wheat rice   yams  yogurt cake  zucchini  \n",
       "0                 False             False   True        False     False  \n",
       "1                 False             False  False        False     False  \n",
       "2                 False             False  False        False     False  \n",
       "3                 False             False  False        False     False  \n",
       "4                 False              True  False        False     False  \n",
       "...                 ...               ...    ...          ...       ...  \n",
       "7496              False             False  False        False     False  \n",
       "7497              False             False  False        False     False  \n",
       "7498              False             False  False        False     False  \n",
       "7499              False             False  False        False     False  \n",
       "7500              False             False  False         True     False  \n",
       "\n",
       "[7501 rows x 119 columns]"
      ]
     },
     "execution_count": 26,
     "metadata": {},
     "output_type": "execute_result"
    }
   ],
   "source": [
    "df = pd.DataFrame(te_ary, columns=te.columns_)\n",
    "df"
   ]
  },
  {
   "cell_type": "markdown",
   "metadata": {
    "id": "yw_OjJoMXvYs"
   },
   "source": [
    "### Get frequent itemsets from a one-hot DataFrame"
   ]
  },
  {
   "cell_type": "markdown",
   "metadata": {
    "id": "90m7Ptj8XvYs"
   },
   "source": [
    "* __Apriori__ is a popular algorithm for __extracting__ `frequent itemsets` with applications in association rule learning. \n",
    "* The apriori algorithm has been designed to operate on databases containing transactions, such as purchases by customers of a store. "
   ]
  },
  {
   "cell_type": "markdown",
   "metadata": {
    "id": "kTJaRPOeXvYs"
   },
   "source": [
    "apriori(df, min_support=0.5, use_colnames=False, max_len=None, verbose=0, low_memory=False)"
   ]
  },
  {
   "cell_type": "code",
   "execution_count": 27,
   "metadata": {
    "executionInfo": {
     "elapsed": 530,
     "status": "ok",
     "timestamp": 1665111864205,
     "user": {
      "displayName": "Pavan Kumar Srungaram",
      "userId": "00090524165272832833"
     },
     "user_tz": -330
    },
    "id": "tWxNwgd-XvYs"
   },
   "outputs": [],
   "source": [
    "from mlxtend.frequent_patterns import apriori\n",
    "\n",
    "frequent_itemsets = apriori(df, min_support=0.05, use_colnames=True)"
   ]
  },
  {
   "cell_type": "markdown",
   "metadata": {
    "id": "UjHFLtLyXvYs"
   },
   "source": [
    "Returns pandas DataFrame with columns ['support', 'itemsets'] of all itemsets that are `>=` __min_support__ and `<` than __max_len__ (if max_len is not None)."
   ]
  },
  {
   "cell_type": "code",
   "execution_count": 28,
   "metadata": {
    "colab": {
     "base_uri": "https://localhost:8080/",
     "height": 927
    },
    "executionInfo": {
     "elapsed": 15,
     "status": "ok",
     "timestamp": 1665111867829,
     "user": {
      "displayName": "Pavan Kumar Srungaram",
      "userId": "00090524165272832833"
     },
     "user_tz": -330
    },
    "id": "qHsKr-v_XvYt",
    "outputId": "0892c1f6-35b8-49ce-bc15-31521a07eb05"
   },
   "outputs": [
    {
     "data": {
      "text/html": [
       "<div>\n",
       "<style scoped>\n",
       "    .dataframe tbody tr th:only-of-type {\n",
       "        vertical-align: middle;\n",
       "    }\n",
       "\n",
       "    .dataframe tbody tr th {\n",
       "        vertical-align: top;\n",
       "    }\n",
       "\n",
       "    .dataframe thead th {\n",
       "        text-align: right;\n",
       "    }\n",
       "</style>\n",
       "<table border=\"1\" class=\"dataframe\">\n",
       "  <thead>\n",
       "    <tr style=\"text-align: right;\">\n",
       "      <th></th>\n",
       "      <th>support</th>\n",
       "      <th>itemsets</th>\n",
       "    </tr>\n",
       "  </thead>\n",
       "  <tbody>\n",
       "    <tr>\n",
       "      <th>0</th>\n",
       "      <td>0.087188</td>\n",
       "      <td>(burgers)</td>\n",
       "    </tr>\n",
       "    <tr>\n",
       "      <th>1</th>\n",
       "      <td>0.081056</td>\n",
       "      <td>(cake)</td>\n",
       "    </tr>\n",
       "    <tr>\n",
       "      <th>2</th>\n",
       "      <td>0.059992</td>\n",
       "      <td>(chicken)</td>\n",
       "    </tr>\n",
       "    <tr>\n",
       "      <th>3</th>\n",
       "      <td>0.163845</td>\n",
       "      <td>(chocolate)</td>\n",
       "    </tr>\n",
       "    <tr>\n",
       "      <th>4</th>\n",
       "      <td>0.080389</td>\n",
       "      <td>(cookies)</td>\n",
       "    </tr>\n",
       "    <tr>\n",
       "      <th>5</th>\n",
       "      <td>0.051060</td>\n",
       "      <td>(cooking oil)</td>\n",
       "    </tr>\n",
       "    <tr>\n",
       "      <th>6</th>\n",
       "      <td>0.179709</td>\n",
       "      <td>(eggs)</td>\n",
       "    </tr>\n",
       "    <tr>\n",
       "      <th>7</th>\n",
       "      <td>0.079323</td>\n",
       "      <td>(escalope)</td>\n",
       "    </tr>\n",
       "    <tr>\n",
       "      <th>8</th>\n",
       "      <td>0.170911</td>\n",
       "      <td>(french fries)</td>\n",
       "    </tr>\n",
       "    <tr>\n",
       "      <th>9</th>\n",
       "      <td>0.063325</td>\n",
       "      <td>(frozen smoothie)</td>\n",
       "    </tr>\n",
       "    <tr>\n",
       "      <th>10</th>\n",
       "      <td>0.095321</td>\n",
       "      <td>(frozen vegetables)</td>\n",
       "    </tr>\n",
       "    <tr>\n",
       "      <th>11</th>\n",
       "      <td>0.052393</td>\n",
       "      <td>(grated cheese)</td>\n",
       "    </tr>\n",
       "    <tr>\n",
       "      <th>12</th>\n",
       "      <td>0.132116</td>\n",
       "      <td>(green tea)</td>\n",
       "    </tr>\n",
       "    <tr>\n",
       "      <th>13</th>\n",
       "      <td>0.098254</td>\n",
       "      <td>(ground beef)</td>\n",
       "    </tr>\n",
       "    <tr>\n",
       "      <th>14</th>\n",
       "      <td>0.076523</td>\n",
       "      <td>(low fat yogurt)</td>\n",
       "    </tr>\n",
       "    <tr>\n",
       "      <th>15</th>\n",
       "      <td>0.129583</td>\n",
       "      <td>(milk)</td>\n",
       "    </tr>\n",
       "    <tr>\n",
       "      <th>16</th>\n",
       "      <td>0.238368</td>\n",
       "      <td>(mineral water)</td>\n",
       "    </tr>\n",
       "    <tr>\n",
       "      <th>17</th>\n",
       "      <td>0.065858</td>\n",
       "      <td>(olive oil)</td>\n",
       "    </tr>\n",
       "    <tr>\n",
       "      <th>18</th>\n",
       "      <td>0.095054</td>\n",
       "      <td>(pancakes)</td>\n",
       "    </tr>\n",
       "    <tr>\n",
       "      <th>19</th>\n",
       "      <td>0.071457</td>\n",
       "      <td>(shrimp)</td>\n",
       "    </tr>\n",
       "    <tr>\n",
       "      <th>20</th>\n",
       "      <td>0.050527</td>\n",
       "      <td>(soup)</td>\n",
       "    </tr>\n",
       "    <tr>\n",
       "      <th>21</th>\n",
       "      <td>0.174110</td>\n",
       "      <td>(spaghetti)</td>\n",
       "    </tr>\n",
       "    <tr>\n",
       "      <th>22</th>\n",
       "      <td>0.068391</td>\n",
       "      <td>(tomatoes)</td>\n",
       "    </tr>\n",
       "    <tr>\n",
       "      <th>23</th>\n",
       "      <td>0.062525</td>\n",
       "      <td>(turkey)</td>\n",
       "    </tr>\n",
       "    <tr>\n",
       "      <th>24</th>\n",
       "      <td>0.058526</td>\n",
       "      <td>(whole wheat rice)</td>\n",
       "    </tr>\n",
       "    <tr>\n",
       "      <th>25</th>\n",
       "      <td>0.052660</td>\n",
       "      <td>(chocolate, mineral water)</td>\n",
       "    </tr>\n",
       "    <tr>\n",
       "      <th>26</th>\n",
       "      <td>0.050927</td>\n",
       "      <td>(mineral water, eggs)</td>\n",
       "    </tr>\n",
       "    <tr>\n",
       "      <th>27</th>\n",
       "      <td>0.059725</td>\n",
       "      <td>(spaghetti, mineral water)</td>\n",
       "    </tr>\n",
       "  </tbody>\n",
       "</table>\n",
       "</div>"
      ],
      "text/plain": [
       "     support                    itemsets\n",
       "0   0.087188                   (burgers)\n",
       "1   0.081056                      (cake)\n",
       "2   0.059992                   (chicken)\n",
       "3   0.163845                 (chocolate)\n",
       "4   0.080389                   (cookies)\n",
       "5   0.051060               (cooking oil)\n",
       "6   0.179709                      (eggs)\n",
       "7   0.079323                  (escalope)\n",
       "8   0.170911              (french fries)\n",
       "9   0.063325           (frozen smoothie)\n",
       "10  0.095321         (frozen vegetables)\n",
       "11  0.052393             (grated cheese)\n",
       "12  0.132116                 (green tea)\n",
       "13  0.098254               (ground beef)\n",
       "14  0.076523            (low fat yogurt)\n",
       "15  0.129583                      (milk)\n",
       "16  0.238368             (mineral water)\n",
       "17  0.065858                 (olive oil)\n",
       "18  0.095054                  (pancakes)\n",
       "19  0.071457                    (shrimp)\n",
       "20  0.050527                      (soup)\n",
       "21  0.174110                 (spaghetti)\n",
       "22  0.068391                  (tomatoes)\n",
       "23  0.062525                    (turkey)\n",
       "24  0.058526          (whole wheat rice)\n",
       "25  0.052660  (chocolate, mineral water)\n",
       "26  0.050927       (mineral water, eggs)\n",
       "27  0.059725  (spaghetti, mineral water)"
      ]
     },
     "execution_count": 28,
     "metadata": {},
     "output_type": "execute_result"
    }
   ],
   "source": [
    "frequent_itemsets"
   ]
  },
  {
   "cell_type": "markdown",
   "metadata": {
    "id": "TK2DPEX3XvYt"
   },
   "source": [
    "Retain only itemsets of length 2 that have a support of at least 0.05. "
   ]
  },
  {
   "cell_type": "code",
   "execution_count": 29,
   "metadata": {
    "colab": {
     "base_uri": "https://localhost:8080/",
     "height": 927
    },
    "executionInfo": {
     "elapsed": 384,
     "status": "ok",
     "timestamp": 1665111893140,
     "user": {
      "displayName": "Pavan Kumar Srungaram",
      "userId": "00090524165272832833"
     },
     "user_tz": -330
    },
    "id": "wwLR1uwSXvYt",
    "outputId": "b49c0d26-ee10-44d0-c26d-9d2c1b4ea6a1"
   },
   "outputs": [
    {
     "data": {
      "text/html": [
       "<div>\n",
       "<style scoped>\n",
       "    .dataframe tbody tr th:only-of-type {\n",
       "        vertical-align: middle;\n",
       "    }\n",
       "\n",
       "    .dataframe tbody tr th {\n",
       "        vertical-align: top;\n",
       "    }\n",
       "\n",
       "    .dataframe thead th {\n",
       "        text-align: right;\n",
       "    }\n",
       "</style>\n",
       "<table border=\"1\" class=\"dataframe\">\n",
       "  <thead>\n",
       "    <tr style=\"text-align: right;\">\n",
       "      <th></th>\n",
       "      <th>support</th>\n",
       "      <th>itemsets</th>\n",
       "      <th>length</th>\n",
       "    </tr>\n",
       "  </thead>\n",
       "  <tbody>\n",
       "    <tr>\n",
       "      <th>0</th>\n",
       "      <td>0.087188</td>\n",
       "      <td>(burgers)</td>\n",
       "      <td>1</td>\n",
       "    </tr>\n",
       "    <tr>\n",
       "      <th>1</th>\n",
       "      <td>0.081056</td>\n",
       "      <td>(cake)</td>\n",
       "      <td>1</td>\n",
       "    </tr>\n",
       "    <tr>\n",
       "      <th>2</th>\n",
       "      <td>0.059992</td>\n",
       "      <td>(chicken)</td>\n",
       "      <td>1</td>\n",
       "    </tr>\n",
       "    <tr>\n",
       "      <th>3</th>\n",
       "      <td>0.163845</td>\n",
       "      <td>(chocolate)</td>\n",
       "      <td>1</td>\n",
       "    </tr>\n",
       "    <tr>\n",
       "      <th>4</th>\n",
       "      <td>0.080389</td>\n",
       "      <td>(cookies)</td>\n",
       "      <td>1</td>\n",
       "    </tr>\n",
       "    <tr>\n",
       "      <th>5</th>\n",
       "      <td>0.051060</td>\n",
       "      <td>(cooking oil)</td>\n",
       "      <td>1</td>\n",
       "    </tr>\n",
       "    <tr>\n",
       "      <th>6</th>\n",
       "      <td>0.179709</td>\n",
       "      <td>(eggs)</td>\n",
       "      <td>1</td>\n",
       "    </tr>\n",
       "    <tr>\n",
       "      <th>7</th>\n",
       "      <td>0.079323</td>\n",
       "      <td>(escalope)</td>\n",
       "      <td>1</td>\n",
       "    </tr>\n",
       "    <tr>\n",
       "      <th>8</th>\n",
       "      <td>0.170911</td>\n",
       "      <td>(french fries)</td>\n",
       "      <td>1</td>\n",
       "    </tr>\n",
       "    <tr>\n",
       "      <th>9</th>\n",
       "      <td>0.063325</td>\n",
       "      <td>(frozen smoothie)</td>\n",
       "      <td>1</td>\n",
       "    </tr>\n",
       "    <tr>\n",
       "      <th>10</th>\n",
       "      <td>0.095321</td>\n",
       "      <td>(frozen vegetables)</td>\n",
       "      <td>1</td>\n",
       "    </tr>\n",
       "    <tr>\n",
       "      <th>11</th>\n",
       "      <td>0.052393</td>\n",
       "      <td>(grated cheese)</td>\n",
       "      <td>1</td>\n",
       "    </tr>\n",
       "    <tr>\n",
       "      <th>12</th>\n",
       "      <td>0.132116</td>\n",
       "      <td>(green tea)</td>\n",
       "      <td>1</td>\n",
       "    </tr>\n",
       "    <tr>\n",
       "      <th>13</th>\n",
       "      <td>0.098254</td>\n",
       "      <td>(ground beef)</td>\n",
       "      <td>1</td>\n",
       "    </tr>\n",
       "    <tr>\n",
       "      <th>14</th>\n",
       "      <td>0.076523</td>\n",
       "      <td>(low fat yogurt)</td>\n",
       "      <td>1</td>\n",
       "    </tr>\n",
       "    <tr>\n",
       "      <th>15</th>\n",
       "      <td>0.129583</td>\n",
       "      <td>(milk)</td>\n",
       "      <td>1</td>\n",
       "    </tr>\n",
       "    <tr>\n",
       "      <th>16</th>\n",
       "      <td>0.238368</td>\n",
       "      <td>(mineral water)</td>\n",
       "      <td>1</td>\n",
       "    </tr>\n",
       "    <tr>\n",
       "      <th>17</th>\n",
       "      <td>0.065858</td>\n",
       "      <td>(olive oil)</td>\n",
       "      <td>1</td>\n",
       "    </tr>\n",
       "    <tr>\n",
       "      <th>18</th>\n",
       "      <td>0.095054</td>\n",
       "      <td>(pancakes)</td>\n",
       "      <td>1</td>\n",
       "    </tr>\n",
       "    <tr>\n",
       "      <th>19</th>\n",
       "      <td>0.071457</td>\n",
       "      <td>(shrimp)</td>\n",
       "      <td>1</td>\n",
       "    </tr>\n",
       "    <tr>\n",
       "      <th>20</th>\n",
       "      <td>0.050527</td>\n",
       "      <td>(soup)</td>\n",
       "      <td>1</td>\n",
       "    </tr>\n",
       "    <tr>\n",
       "      <th>21</th>\n",
       "      <td>0.174110</td>\n",
       "      <td>(spaghetti)</td>\n",
       "      <td>1</td>\n",
       "    </tr>\n",
       "    <tr>\n",
       "      <th>22</th>\n",
       "      <td>0.068391</td>\n",
       "      <td>(tomatoes)</td>\n",
       "      <td>1</td>\n",
       "    </tr>\n",
       "    <tr>\n",
       "      <th>23</th>\n",
       "      <td>0.062525</td>\n",
       "      <td>(turkey)</td>\n",
       "      <td>1</td>\n",
       "    </tr>\n",
       "    <tr>\n",
       "      <th>24</th>\n",
       "      <td>0.058526</td>\n",
       "      <td>(whole wheat rice)</td>\n",
       "      <td>1</td>\n",
       "    </tr>\n",
       "    <tr>\n",
       "      <th>25</th>\n",
       "      <td>0.052660</td>\n",
       "      <td>(chocolate, mineral water)</td>\n",
       "      <td>2</td>\n",
       "    </tr>\n",
       "    <tr>\n",
       "      <th>26</th>\n",
       "      <td>0.050927</td>\n",
       "      <td>(mineral water, eggs)</td>\n",
       "      <td>2</td>\n",
       "    </tr>\n",
       "    <tr>\n",
       "      <th>27</th>\n",
       "      <td>0.059725</td>\n",
       "      <td>(spaghetti, mineral water)</td>\n",
       "      <td>2</td>\n",
       "    </tr>\n",
       "  </tbody>\n",
       "</table>\n",
       "</div>"
      ],
      "text/plain": [
       "     support                    itemsets  length\n",
       "0   0.087188                   (burgers)       1\n",
       "1   0.081056                      (cake)       1\n",
       "2   0.059992                   (chicken)       1\n",
       "3   0.163845                 (chocolate)       1\n",
       "4   0.080389                   (cookies)       1\n",
       "5   0.051060               (cooking oil)       1\n",
       "6   0.179709                      (eggs)       1\n",
       "7   0.079323                  (escalope)       1\n",
       "8   0.170911              (french fries)       1\n",
       "9   0.063325           (frozen smoothie)       1\n",
       "10  0.095321         (frozen vegetables)       1\n",
       "11  0.052393             (grated cheese)       1\n",
       "12  0.132116                 (green tea)       1\n",
       "13  0.098254               (ground beef)       1\n",
       "14  0.076523            (low fat yogurt)       1\n",
       "15  0.129583                      (milk)       1\n",
       "16  0.238368             (mineral water)       1\n",
       "17  0.065858                 (olive oil)       1\n",
       "18  0.095054                  (pancakes)       1\n",
       "19  0.071457                    (shrimp)       1\n",
       "20  0.050527                      (soup)       1\n",
       "21  0.174110                 (spaghetti)       1\n",
       "22  0.068391                  (tomatoes)       1\n",
       "23  0.062525                    (turkey)       1\n",
       "24  0.058526          (whole wheat rice)       1\n",
       "25  0.052660  (chocolate, mineral water)       2\n",
       "26  0.050927       (mineral water, eggs)       2\n",
       "27  0.059725  (spaghetti, mineral water)       2"
      ]
     },
     "execution_count": 29,
     "metadata": {},
     "output_type": "execute_result"
    }
   ],
   "source": [
    "frequent_itemsets['length'] = frequent_itemsets['itemsets'].apply(lambda x: len(x))\n",
    "frequent_itemsets"
   ]
  },
  {
   "cell_type": "markdown",
   "metadata": {
    "id": "v0EB-7IKXvYt"
   },
   "source": [
    "Select the results that satisfy our desired criteria"
   ]
  },
  {
   "cell_type": "code",
   "execution_count": 30,
   "metadata": {
    "colab": {
     "base_uri": "https://localhost:8080/",
     "height": 143
    },
    "executionInfo": {
     "elapsed": 406,
     "status": "ok",
     "timestamp": 1665111911048,
     "user": {
      "displayName": "Pavan Kumar Srungaram",
      "userId": "00090524165272832833"
     },
     "user_tz": -330
    },
    "id": "O9_nTHK6XvYt",
    "outputId": "f5afaea1-39db-4e1c-807c-a893c3c2fd56"
   },
   "outputs": [
    {
     "data": {
      "text/html": [
       "<div>\n",
       "<style scoped>\n",
       "    .dataframe tbody tr th:only-of-type {\n",
       "        vertical-align: middle;\n",
       "    }\n",
       "\n",
       "    .dataframe tbody tr th {\n",
       "        vertical-align: top;\n",
       "    }\n",
       "\n",
       "    .dataframe thead th {\n",
       "        text-align: right;\n",
       "    }\n",
       "</style>\n",
       "<table border=\"1\" class=\"dataframe\">\n",
       "  <thead>\n",
       "    <tr style=\"text-align: right;\">\n",
       "      <th></th>\n",
       "      <th>support</th>\n",
       "      <th>itemsets</th>\n",
       "      <th>length</th>\n",
       "    </tr>\n",
       "  </thead>\n",
       "  <tbody>\n",
       "    <tr>\n",
       "      <th>25</th>\n",
       "      <td>0.052660</td>\n",
       "      <td>(chocolate, mineral water)</td>\n",
       "      <td>2</td>\n",
       "    </tr>\n",
       "    <tr>\n",
       "      <th>26</th>\n",
       "      <td>0.050927</td>\n",
       "      <td>(mineral water, eggs)</td>\n",
       "      <td>2</td>\n",
       "    </tr>\n",
       "    <tr>\n",
       "      <th>27</th>\n",
       "      <td>0.059725</td>\n",
       "      <td>(spaghetti, mineral water)</td>\n",
       "      <td>2</td>\n",
       "    </tr>\n",
       "  </tbody>\n",
       "</table>\n",
       "</div>"
      ],
      "text/plain": [
       "     support                    itemsets  length\n",
       "25  0.052660  (chocolate, mineral water)       2\n",
       "26  0.050927       (mineral water, eggs)       2\n",
       "27  0.059725  (spaghetti, mineral water)       2"
      ]
     },
     "execution_count": 30,
     "metadata": {},
     "output_type": "execute_result"
    }
   ],
   "source": [
    "frequent_itemsets[ (frequent_itemsets['length'] == 2) &\n",
    "                   (frequent_itemsets['support'] >= 0.05) ]"
   ]
  },
  {
   "cell_type": "markdown",
   "metadata": {
    "id": "M8qUYx4IXvYu"
   },
   "source": [
    "#### Association Rules Generation from Frequent Itemsets\n",
    "\n",
    "The `generate_rules` takes __dataframes__ of `frequent itemsets` as produced by the `apriori` or `fpgrowth` functions in mlxtend.association.\n",
    "\n",
    "The `generate_rules()` function allows you to specify your `metric` of interest and the according `threshold`. "
   ]
  },
  {
   "cell_type": "code",
   "execution_count": 31,
   "metadata": {
    "colab": {
     "base_uri": "https://localhost:8080/",
     "height": 238
    },
    "executionInfo": {
     "elapsed": 12,
     "status": "ok",
     "timestamp": 1665111920492,
     "user": {
      "displayName": "Pavan Kumar Srungaram",
      "userId": "00090524165272832833"
     },
     "user_tz": -330
    },
    "id": "q1MpwZF8XvYu",
    "outputId": "3ef51d0a-1157-400b-bb33-08a756c3f61a"
   },
   "outputs": [
    {
     "data": {
      "text/html": [
       "<div>\n",
       "<style scoped>\n",
       "    .dataframe tbody tr th:only-of-type {\n",
       "        vertical-align: middle;\n",
       "    }\n",
       "\n",
       "    .dataframe tbody tr th {\n",
       "        vertical-align: top;\n",
       "    }\n",
       "\n",
       "    .dataframe thead th {\n",
       "        text-align: right;\n",
       "    }\n",
       "</style>\n",
       "<table border=\"1\" class=\"dataframe\">\n",
       "  <thead>\n",
       "    <tr style=\"text-align: right;\">\n",
       "      <th></th>\n",
       "      <th>antecedents</th>\n",
       "      <th>consequents</th>\n",
       "      <th>support</th>\n",
       "      <th>confidence</th>\n",
       "      <th>lift</th>\n",
       "    </tr>\n",
       "  </thead>\n",
       "  <tbody>\n",
       "    <tr>\n",
       "      <th>0</th>\n",
       "      <td>(chocolate)</td>\n",
       "      <td>(mineral water)</td>\n",
       "      <td>0.052660</td>\n",
       "      <td>0.321400</td>\n",
       "      <td>1.348332</td>\n",
       "    </tr>\n",
       "    <tr>\n",
       "      <th>1</th>\n",
       "      <td>(mineral water)</td>\n",
       "      <td>(chocolate)</td>\n",
       "      <td>0.052660</td>\n",
       "      <td>0.220917</td>\n",
       "      <td>1.348332</td>\n",
       "    </tr>\n",
       "    <tr>\n",
       "      <th>2</th>\n",
       "      <td>(mineral water)</td>\n",
       "      <td>(eggs)</td>\n",
       "      <td>0.050927</td>\n",
       "      <td>0.213647</td>\n",
       "      <td>1.188845</td>\n",
       "    </tr>\n",
       "    <tr>\n",
       "      <th>3</th>\n",
       "      <td>(eggs)</td>\n",
       "      <td>(mineral water)</td>\n",
       "      <td>0.050927</td>\n",
       "      <td>0.283383</td>\n",
       "      <td>1.188845</td>\n",
       "    </tr>\n",
       "    <tr>\n",
       "      <th>4</th>\n",
       "      <td>(spaghetti)</td>\n",
       "      <td>(mineral water)</td>\n",
       "      <td>0.059725</td>\n",
       "      <td>0.343032</td>\n",
       "      <td>1.439085</td>\n",
       "    </tr>\n",
       "    <tr>\n",
       "      <th>5</th>\n",
       "      <td>(mineral water)</td>\n",
       "      <td>(spaghetti)</td>\n",
       "      <td>0.059725</td>\n",
       "      <td>0.250559</td>\n",
       "      <td>1.439085</td>\n",
       "    </tr>\n",
       "  </tbody>\n",
       "</table>\n",
       "</div>"
      ],
      "text/plain": [
       "       antecedents      consequents   support  confidence      lift\n",
       "0      (chocolate)  (mineral water)  0.052660    0.321400  1.348332\n",
       "1  (mineral water)      (chocolate)  0.052660    0.220917  1.348332\n",
       "2  (mineral water)           (eggs)  0.050927    0.213647  1.188845\n",
       "3           (eggs)  (mineral water)  0.050927    0.283383  1.188845\n",
       "4      (spaghetti)  (mineral water)  0.059725    0.343032  1.439085\n",
       "5  (mineral water)      (spaghetti)  0.059725    0.250559  1.439085"
      ]
     },
     "execution_count": 31,
     "metadata": {},
     "output_type": "execute_result"
    }
   ],
   "source": [
    "from mlxtend.frequent_patterns import association_rules\n",
    "\n",
    "#rules = association_rules(frequent_itemsets, metric=\"confidence\", min_threshold=0.1)\n",
    "rules = association_rules(frequent_itemsets, metric=\"lift\", min_threshold=1)\n",
    "rules = rules.loc[:,[\"antecedents\",\"consequents\",\"support\",\"confidence\",\"lift\"]]\n",
    "\n",
    "rules"
   ]
  },
  {
   "cell_type": "markdown",
   "metadata": {
    "id": "ADUcgLCrXvYu"
   },
   "source": [
    "Pandas DataFrames make it easy to filter the results further. Let's say we are ony interested in rules that satisfy the following criteria:\n",
    "\n",
    "* at least 1 antecedents\n",
    "* a confidence > 0.20\n",
    "* a lift score > 1.2\n",
    "\n",
    "We could compute the antecedent length as follows:"
   ]
  },
  {
   "cell_type": "code",
   "execution_count": 32,
   "metadata": {
    "colab": {
     "base_uri": "https://localhost:8080/",
     "height": 238
    },
    "executionInfo": {
     "elapsed": 424,
     "status": "ok",
     "timestamp": 1665111955397,
     "user": {
      "displayName": "Pavan Kumar Srungaram",
      "userId": "00090524165272832833"
     },
     "user_tz": -330
    },
    "id": "VlNVycA9XvYv",
    "outputId": "af21a955-0c3b-4efe-aea5-cb1b26e206d3"
   },
   "outputs": [
    {
     "data": {
      "text/html": [
       "<div>\n",
       "<style scoped>\n",
       "    .dataframe tbody tr th:only-of-type {\n",
       "        vertical-align: middle;\n",
       "    }\n",
       "\n",
       "    .dataframe tbody tr th {\n",
       "        vertical-align: top;\n",
       "    }\n",
       "\n",
       "    .dataframe thead th {\n",
       "        text-align: right;\n",
       "    }\n",
       "</style>\n",
       "<table border=\"1\" class=\"dataframe\">\n",
       "  <thead>\n",
       "    <tr style=\"text-align: right;\">\n",
       "      <th></th>\n",
       "      <th>antecedents</th>\n",
       "      <th>consequents</th>\n",
       "      <th>support</th>\n",
       "      <th>confidence</th>\n",
       "      <th>lift</th>\n",
       "      <th>antecedent_len</th>\n",
       "    </tr>\n",
       "  </thead>\n",
       "  <tbody>\n",
       "    <tr>\n",
       "      <th>0</th>\n",
       "      <td>(chocolate)</td>\n",
       "      <td>(mineral water)</td>\n",
       "      <td>0.052660</td>\n",
       "      <td>0.321400</td>\n",
       "      <td>1.348332</td>\n",
       "      <td>1</td>\n",
       "    </tr>\n",
       "    <tr>\n",
       "      <th>1</th>\n",
       "      <td>(mineral water)</td>\n",
       "      <td>(chocolate)</td>\n",
       "      <td>0.052660</td>\n",
       "      <td>0.220917</td>\n",
       "      <td>1.348332</td>\n",
       "      <td>1</td>\n",
       "    </tr>\n",
       "    <tr>\n",
       "      <th>2</th>\n",
       "      <td>(mineral water)</td>\n",
       "      <td>(eggs)</td>\n",
       "      <td>0.050927</td>\n",
       "      <td>0.213647</td>\n",
       "      <td>1.188845</td>\n",
       "      <td>1</td>\n",
       "    </tr>\n",
       "    <tr>\n",
       "      <th>3</th>\n",
       "      <td>(eggs)</td>\n",
       "      <td>(mineral water)</td>\n",
       "      <td>0.050927</td>\n",
       "      <td>0.283383</td>\n",
       "      <td>1.188845</td>\n",
       "      <td>1</td>\n",
       "    </tr>\n",
       "    <tr>\n",
       "      <th>4</th>\n",
       "      <td>(spaghetti)</td>\n",
       "      <td>(mineral water)</td>\n",
       "      <td>0.059725</td>\n",
       "      <td>0.343032</td>\n",
       "      <td>1.439085</td>\n",
       "      <td>1</td>\n",
       "    </tr>\n",
       "    <tr>\n",
       "      <th>5</th>\n",
       "      <td>(mineral water)</td>\n",
       "      <td>(spaghetti)</td>\n",
       "      <td>0.059725</td>\n",
       "      <td>0.250559</td>\n",
       "      <td>1.439085</td>\n",
       "      <td>1</td>\n",
       "    </tr>\n",
       "  </tbody>\n",
       "</table>\n",
       "</div>"
      ],
      "text/plain": [
       "       antecedents      consequents   support  confidence      lift  \\\n",
       "0      (chocolate)  (mineral water)  0.052660    0.321400  1.348332   \n",
       "1  (mineral water)      (chocolate)  0.052660    0.220917  1.348332   \n",
       "2  (mineral water)           (eggs)  0.050927    0.213647  1.188845   \n",
       "3           (eggs)  (mineral water)  0.050927    0.283383  1.188845   \n",
       "4      (spaghetti)  (mineral water)  0.059725    0.343032  1.439085   \n",
       "5  (mineral water)      (spaghetti)  0.059725    0.250559  1.439085   \n",
       "\n",
       "   antecedent_len  \n",
       "0               1  \n",
       "1               1  \n",
       "2               1  \n",
       "3               1  \n",
       "4               1  \n",
       "5               1  "
      ]
     },
     "execution_count": 32,
     "metadata": {},
     "output_type": "execute_result"
    }
   ],
   "source": [
    "rules[\"antecedent_len\"] = rules[\"antecedents\"].apply(lambda x: len(x))\n",
    "rules = rules.loc[:,[\"antecedents\",\"consequents\",\"support\",\"confidence\",\"lift\",\"antecedent_len\"]]\n",
    "\n",
    "rules"
   ]
  },
  {
   "cell_type": "markdown",
   "metadata": {
    "id": "yzsSaHpeXvYv"
   },
   "source": [
    " `pandas` selection syntax as shown below:"
   ]
  },
  {
   "cell_type": "code",
   "execution_count": 33,
   "metadata": {
    "colab": {
     "base_uri": "https://localhost:8080/",
     "height": 175
    },
    "executionInfo": {
     "elapsed": 394,
     "status": "ok",
     "timestamp": 1665111996943,
     "user": {
      "displayName": "Pavan Kumar Srungaram",
      "userId": "00090524165272832833"
     },
     "user_tz": -330
    },
    "id": "Remu7OgSXvYv",
    "outputId": "a75acd00-625b-44cc-873c-9d88939547c2"
   },
   "outputs": [
    {
     "data": {
      "text/html": [
       "<div>\n",
       "<style scoped>\n",
       "    .dataframe tbody tr th:only-of-type {\n",
       "        vertical-align: middle;\n",
       "    }\n",
       "\n",
       "    .dataframe tbody tr th {\n",
       "        vertical-align: top;\n",
       "    }\n",
       "\n",
       "    .dataframe thead th {\n",
       "        text-align: right;\n",
       "    }\n",
       "</style>\n",
       "<table border=\"1\" class=\"dataframe\">\n",
       "  <thead>\n",
       "    <tr style=\"text-align: right;\">\n",
       "      <th></th>\n",
       "      <th>antecedents</th>\n",
       "      <th>consequents</th>\n",
       "      <th>support</th>\n",
       "      <th>confidence</th>\n",
       "      <th>lift</th>\n",
       "      <th>antecedent_len</th>\n",
       "    </tr>\n",
       "  </thead>\n",
       "  <tbody>\n",
       "    <tr>\n",
       "      <th>0</th>\n",
       "      <td>(chocolate)</td>\n",
       "      <td>(mineral water)</td>\n",
       "      <td>0.052660</td>\n",
       "      <td>0.321400</td>\n",
       "      <td>1.348332</td>\n",
       "      <td>1</td>\n",
       "    </tr>\n",
       "    <tr>\n",
       "      <th>1</th>\n",
       "      <td>(mineral water)</td>\n",
       "      <td>(chocolate)</td>\n",
       "      <td>0.052660</td>\n",
       "      <td>0.220917</td>\n",
       "      <td>1.348332</td>\n",
       "      <td>1</td>\n",
       "    </tr>\n",
       "    <tr>\n",
       "      <th>4</th>\n",
       "      <td>(spaghetti)</td>\n",
       "      <td>(mineral water)</td>\n",
       "      <td>0.059725</td>\n",
       "      <td>0.343032</td>\n",
       "      <td>1.439085</td>\n",
       "      <td>1</td>\n",
       "    </tr>\n",
       "    <tr>\n",
       "      <th>5</th>\n",
       "      <td>(mineral water)</td>\n",
       "      <td>(spaghetti)</td>\n",
       "      <td>0.059725</td>\n",
       "      <td>0.250559</td>\n",
       "      <td>1.439085</td>\n",
       "      <td>1</td>\n",
       "    </tr>\n",
       "  </tbody>\n",
       "</table>\n",
       "</div>"
      ],
      "text/plain": [
       "       antecedents      consequents   support  confidence      lift  \\\n",
       "0      (chocolate)  (mineral water)  0.052660    0.321400  1.348332   \n",
       "1  (mineral water)      (chocolate)  0.052660    0.220917  1.348332   \n",
       "4      (spaghetti)  (mineral water)  0.059725    0.343032  1.439085   \n",
       "5  (mineral water)      (spaghetti)  0.059725    0.250559  1.439085   \n",
       "\n",
       "   antecedent_len  \n",
       "0               1  \n",
       "1               1  \n",
       "4               1  \n",
       "5               1  "
      ]
     },
     "execution_count": 33,
     "metadata": {},
     "output_type": "execute_result"
    }
   ],
   "source": [
    "rules[ (rules['antecedent_len'] >= 1) &\n",
    "       (rules['confidence'] > 0.20) &\n",
    "       (rules['lift'] > 1.2) ]"
   ]
  },
  {
   "cell_type": "markdown",
   "metadata": {
    "id": "Mhu0cJXRXvYv"
   },
   "source": [
    "Similarly, using the Pandas API, we can select entries based on the \"antecedents\" or \"consequents\" columns:"
   ]
  },
  {
   "cell_type": "code",
   "execution_count": 34,
   "metadata": {
    "id": "hPZR-BjUXvYw",
    "outputId": "09569c05-cdda-4df2-eb4e-ce3af894ba5b"
   },
   "outputs": [
    {
     "data": {
      "text/html": [
       "<div>\n",
       "<style scoped>\n",
       "    .dataframe tbody tr th:only-of-type {\n",
       "        vertical-align: middle;\n",
       "    }\n",
       "\n",
       "    .dataframe tbody tr th {\n",
       "        vertical-align: top;\n",
       "    }\n",
       "\n",
       "    .dataframe thead th {\n",
       "        text-align: right;\n",
       "    }\n",
       "</style>\n",
       "<table border=\"1\" class=\"dataframe\">\n",
       "  <thead>\n",
       "    <tr style=\"text-align: right;\">\n",
       "      <th></th>\n",
       "      <th>antecedents</th>\n",
       "      <th>consequents</th>\n",
       "      <th>support</th>\n",
       "      <th>confidence</th>\n",
       "      <th>lift</th>\n",
       "      <th>antecedent_len</th>\n",
       "    </tr>\n",
       "  </thead>\n",
       "  <tbody>\n",
       "    <tr>\n",
       "      <th>0</th>\n",
       "      <td>(chocolate)</td>\n",
       "      <td>(mineral water)</td>\n",
       "      <td>0.05266</td>\n",
       "      <td>0.3214</td>\n",
       "      <td>1.348332</td>\n",
       "      <td>1</td>\n",
       "    </tr>\n",
       "  </tbody>\n",
       "</table>\n",
       "</div>"
      ],
      "text/plain": [
       "   antecedents      consequents  support  confidence      lift  antecedent_len\n",
       "0  (chocolate)  (mineral water)  0.05266      0.3214  1.348332               1"
      ]
     },
     "execution_count": 34,
     "metadata": {},
     "output_type": "execute_result"
    }
   ],
   "source": [
    "rules[rules['antecedents'] == {'chocolate'}]"
   ]
  },
  {
   "cell_type": "markdown",
   "metadata": {
    "id": "dZTc0ovhXvYw"
   },
   "source": [
    "Write rules to a csv file."
   ]
  },
  {
   "cell_type": "code",
   "execution_count": 35,
   "metadata": {
    "id": "CmnGUKMwXvYw"
   },
   "outputs": [],
   "source": [
    "rules.to_csv('output_arules.csv')"
   ]
  },
  {
   "cell_type": "markdown",
   "metadata": {
    "id": "vktGYkbBXvYw"
   },
   "source": [
    "### Learning Outcomes\n",
    "* Be able understand how to use mlxtend for Association Rule Mining\n",
    "    * Be able to read transaction data in the format of list of list\n",
    "    * Be able to generate Frequent Itemsets\n",
    "        * Be able to transform into one-hot encoded pandas DataFrame\n",
    "        * Be able to get frequent itemsets from a one-hot DataFrame\n",
    "    * Be able to generate Association Rules from Frequent Itemsets\n",
    "    * Be able to select entries based on the antecedents or consequents or antecedents length"
   ]
  },
  {
   "cell_type": "code",
   "execution_count": null,
   "metadata": {},
   "outputs": [],
   "source": []
  }
 ],
 "metadata": {
  "colab": {
   "provenance": []
  },
  "kernelspec": {
   "display_name": "Python 3 (ipykernel)",
   "language": "python",
   "name": "python3"
  },
  "language_info": {
   "codemirror_mode": {
    "name": "ipython",
    "version": 3
   },
   "file_extension": ".py",
   "mimetype": "text/x-python",
   "name": "python",
   "nbconvert_exporter": "python",
   "pygments_lexer": "ipython3",
   "version": "3.9.13"
  }
 },
 "nbformat": 4,
 "nbformat_minor": 1
}
