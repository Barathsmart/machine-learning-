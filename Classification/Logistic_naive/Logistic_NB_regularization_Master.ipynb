{
 "cells": [
  {
   "cell_type": "markdown",
   "metadata": {},
   "source": [
    "## Agenda\n",
    "   \n",
    "    ♦ Problem Description\n",
    "    ♦ Data Understanding and exploration\n",
    "    ♦ Split the data into Train and Validation sets\n",
    "    ♦ Model Building\n",
    "       - Logistic Regression\n",
    "       - ROC curve to fix the threshold values\n",
    "    ♦ Construct a confusion matrix\n",
    "    ♦ Evaluation of the error metrics\n",
    "    ♦ How do we implement Regularization techniques\n",
    "    ♦ Build model using Naive Bayes classifier\n",
    "    ♦ Compute Evaluation metrics\n",
    "    ♦ Prinicpal Component Analysis\n",
    "    "
   ]
  },
  {
   "cell_type": "markdown",
   "metadata": {},
   "source": [
    "## Problem Description"
   ]
  },
  {
   "cell_type": "markdown",
   "metadata": {},
   "source": [
    "A Regional Bank XYZ with 40000+ Customers would like to expand its business by predicting Customer's behavior to better sell cross products (eg: Selling Term Deposits to Retail Customers). The Bank has approached us to assess the same by providing access to their Customer campaign data. \n",
    "\n",
    "The data is related with direct marketing campaigns. The marketing campaigns were based on phone calls. Often, more than one contact to the same client was required, in order to access if the product (bank term deposit) would be ('yes') or not ('no') subscribed. \n",
    "\n",
    "Predict if an existing customer would subscribe to a Term Deposit"
   ]
  },
  {
   "cell_type": "markdown",
   "metadata": {},
   "source": [
    "#### Attribute information:\n"
   ]
  },
  {
   "cell_type": "markdown",
   "metadata": {},
   "source": [
    "\n",
    "Input variables:\n",
    "\n",
    "1 - age (numeric)\n",
    "\n",
    "2 - job : type of job (categorical: \"admin.\",\"unknown\",\"unemployed\",\"management\",\"housemaid\",\"entrepreneur\",\"student\",\n",
    "                                   \"blue-collar\",\"self-employed\",\"retired\",\"technician\",\"services\") \n",
    "\n",
    "3 - marital : marital status (categorical: \"married\",\"divorced\",\"single\"; note: \"divorced\" means divorced or widowed)\n",
    "\n",
    "4 - education (categorical: \"unknown\",\"secondary\",\"primary\",\"tertiary\")\n",
    "\n",
    "5 - default: has credit in default? (binary: \"yes\",\"no\")\n",
    "\n",
    "6 - balance: average yearly balance, in euros (numeric) \n",
    "\n",
    "7 - housing: has housing loan? (binary: \"yes\",\"no\")\n",
    "\n",
    "8 - loan: has personal loan? (binary: \"yes\",\"no\") \n",
    "\n",
    "##### Related with the last contact of the current campaign:\n",
    "\n",
    "9 - contact: contact communication type (categorical: \"unknown\",\"telephone\",\"cellular\") \n",
    "\n",
    "10 - month: last contact month of year (categorical: \"jan\", \"feb\", \"mar\", ..., \"nov\", \"dec\")\n",
    "\n",
    "11 - duration: last contact duration, in seconds (numeric)\n",
    "\n",
    "##### Other attributes:\n",
    "12 - campaign: number of contacts performed during this campaign and for this client (numeric, includes last contact)\n",
    "\n",
    "13 - pdays: number of days that passed by after the client was last contacted from a previous campaign (numeric, -1 means client was not previously contacted)\n",
    "\n",
    "14 - previous: number of contacts performed before this campaign and for this client (numeric)\n",
    "\n",
    "15 - poutcome: outcome of the previous marketing campaign (categorical: \"unknown\",\"other\",\"failure\",\"success\")\n",
    "\n",
    "##### Output variable (desired target):\n",
    "\n",
    "16 - y - has the client subscribed a term deposit? (binary: \"yes\",\"no\")\n",
    "\n",
    " "
   ]
  },
  {
   "cell_type": "code",
   "execution_count": 1,
   "metadata": {},
   "outputs": [],
   "source": [
    "import pandas as pd\n",
    "import numpy as np\n",
    "from sklearn.model_selection import train_test_split\n",
    "from sklearn.linear_model import LogisticRegression\n",
    "from sklearn.metrics import confusion_matrix\n",
    "from sklearn.metrics import classification_report\n",
    "from sklearn.metrics import roc_curve, auc\n",
    "from sklearn.metrics import accuracy_score,recall_score,precision_score\n",
    "import matplotlib.pyplot as plt\n",
    "from sklearn.preprocessing import StandardScaler,MinMaxScaler\n",
    "from sklearn.decomposition import PCA\n",
    "from sklearn.naive_bayes import MultinomialNB \n",
    "from sklearn.naive_bayes import GaussianNB \n",
    "%matplotlib inline"
   ]
  },
  {
   "cell_type": "markdown",
   "metadata": {},
   "source": [
    "### Loading the data"
   ]
  },
  {
   "cell_type": "code",
   "execution_count": 2,
   "metadata": {},
   "outputs": [],
   "source": [
    "df=pd.read_csv(\"Bank_Data.csv\")"
   ]
  },
  {
   "cell_type": "markdown",
   "metadata": {},
   "source": [
    "### Understanding the data"
   ]
  },
  {
   "cell_type": "code",
   "execution_count": 3,
   "metadata": {},
   "outputs": [
    {
     "data": {
      "text/plain": [
       "(4521, 16)"
      ]
     },
     "execution_count": 3,
     "metadata": {},
     "output_type": "execute_result"
    }
   ],
   "source": [
    "df.shape"
   ]
  },
  {
   "cell_type": "code",
   "execution_count": 4,
   "metadata": {},
   "outputs": [
    {
     "data": {
      "text/plain": [
       "age           int64\n",
       "job          object\n",
       "marital      object\n",
       "education    object\n",
       "default      object\n",
       "balance       int64\n",
       "housing      object\n",
       "loan         object\n",
       "contact      object\n",
       "month        object\n",
       "duration      int64\n",
       "campaign      int64\n",
       "pdays         int64\n",
       "previous      int64\n",
       "poutcome     object\n",
       "y            object\n",
       "dtype: object"
      ]
     },
     "execution_count": 4,
     "metadata": {},
     "output_type": "execute_result"
    }
   ],
   "source": [
    "df.dtypes"
   ]
  },
  {
   "cell_type": "code",
   "execution_count": 5,
   "metadata": {
    "scrolled": true
   },
   "outputs": [
    {
     "data": {
      "text/html": [
       "<div>\n",
       "<style scoped>\n",
       "    .dataframe tbody tr th:only-of-type {\n",
       "        vertical-align: middle;\n",
       "    }\n",
       "\n",
       "    .dataframe tbody tr th {\n",
       "        vertical-align: top;\n",
       "    }\n",
       "\n",
       "    .dataframe thead th {\n",
       "        text-align: right;\n",
       "    }\n",
       "</style>\n",
       "<table border=\"1\" class=\"dataframe\">\n",
       "  <thead>\n",
       "    <tr style=\"text-align: right;\">\n",
       "      <th></th>\n",
       "      <th>age</th>\n",
       "      <th>job</th>\n",
       "      <th>marital</th>\n",
       "      <th>education</th>\n",
       "      <th>default</th>\n",
       "      <th>balance</th>\n",
       "      <th>housing</th>\n",
       "      <th>loan</th>\n",
       "      <th>contact</th>\n",
       "      <th>month</th>\n",
       "      <th>duration</th>\n",
       "      <th>campaign</th>\n",
       "      <th>pdays</th>\n",
       "      <th>previous</th>\n",
       "      <th>poutcome</th>\n",
       "      <th>y</th>\n",
       "    </tr>\n",
       "  </thead>\n",
       "  <tbody>\n",
       "    <tr>\n",
       "      <th>0</th>\n",
       "      <td>30</td>\n",
       "      <td>unemployed</td>\n",
       "      <td>married</td>\n",
       "      <td>primary</td>\n",
       "      <td>no</td>\n",
       "      <td>1787</td>\n",
       "      <td>no</td>\n",
       "      <td>no</td>\n",
       "      <td>cellular</td>\n",
       "      <td>oct</td>\n",
       "      <td>79</td>\n",
       "      <td>1</td>\n",
       "      <td>-1</td>\n",
       "      <td>0</td>\n",
       "      <td>unknown</td>\n",
       "      <td>no</td>\n",
       "    </tr>\n",
       "    <tr>\n",
       "      <th>1</th>\n",
       "      <td>33</td>\n",
       "      <td>services</td>\n",
       "      <td>married</td>\n",
       "      <td>secondary</td>\n",
       "      <td>no</td>\n",
       "      <td>4789</td>\n",
       "      <td>yes</td>\n",
       "      <td>yes</td>\n",
       "      <td>cellular</td>\n",
       "      <td>may</td>\n",
       "      <td>220</td>\n",
       "      <td>1</td>\n",
       "      <td>339</td>\n",
       "      <td>4</td>\n",
       "      <td>failure</td>\n",
       "      <td>no</td>\n",
       "    </tr>\n",
       "    <tr>\n",
       "      <th>2</th>\n",
       "      <td>35</td>\n",
       "      <td>management</td>\n",
       "      <td>single</td>\n",
       "      <td>tertiary</td>\n",
       "      <td>no</td>\n",
       "      <td>1350</td>\n",
       "      <td>yes</td>\n",
       "      <td>no</td>\n",
       "      <td>cellular</td>\n",
       "      <td>apr</td>\n",
       "      <td>185</td>\n",
       "      <td>1</td>\n",
       "      <td>330</td>\n",
       "      <td>1</td>\n",
       "      <td>failure</td>\n",
       "      <td>no</td>\n",
       "    </tr>\n",
       "    <tr>\n",
       "      <th>3</th>\n",
       "      <td>30</td>\n",
       "      <td>management</td>\n",
       "      <td>married</td>\n",
       "      <td>tertiary</td>\n",
       "      <td>no</td>\n",
       "      <td>1476</td>\n",
       "      <td>yes</td>\n",
       "      <td>yes</td>\n",
       "      <td>unknown</td>\n",
       "      <td>jun</td>\n",
       "      <td>199</td>\n",
       "      <td>4</td>\n",
       "      <td>-1</td>\n",
       "      <td>0</td>\n",
       "      <td>unknown</td>\n",
       "      <td>no</td>\n",
       "    </tr>\n",
       "    <tr>\n",
       "      <th>4</th>\n",
       "      <td>59</td>\n",
       "      <td>blue-collar</td>\n",
       "      <td>married</td>\n",
       "      <td>secondary</td>\n",
       "      <td>no</td>\n",
       "      <td>0</td>\n",
       "      <td>yes</td>\n",
       "      <td>no</td>\n",
       "      <td>unknown</td>\n",
       "      <td>may</td>\n",
       "      <td>226</td>\n",
       "      <td>1</td>\n",
       "      <td>-1</td>\n",
       "      <td>0</td>\n",
       "      <td>unknown</td>\n",
       "      <td>no</td>\n",
       "    </tr>\n",
       "  </tbody>\n",
       "</table>\n",
       "</div>"
      ],
      "text/plain": [
       "   age          job  marital  education default  balance housing loan  \\\n",
       "0   30   unemployed  married    primary      no     1787      no   no   \n",
       "1   33     services  married  secondary      no     4789     yes  yes   \n",
       "2   35   management   single   tertiary      no     1350     yes   no   \n",
       "3   30   management  married   tertiary      no     1476     yes  yes   \n",
       "4   59  blue-collar  married  secondary      no        0     yes   no   \n",
       "\n",
       "    contact month  duration  campaign  pdays  previous poutcome   y  \n",
       "0  cellular   oct        79         1     -1         0  unknown  no  \n",
       "1  cellular   may       220         1    339         4  failure  no  \n",
       "2  cellular   apr       185         1    330         1  failure  no  \n",
       "3   unknown   jun       199         4     -1         0  unknown  no  \n",
       "4   unknown   may       226         1     -1         0  unknown  no  "
      ]
     },
     "execution_count": 5,
     "metadata": {},
     "output_type": "execute_result"
    }
   ],
   "source": [
    "df.head()"
   ]
  },
  {
   "cell_type": "code",
   "execution_count": 6,
   "metadata": {},
   "outputs": [
    {
     "data": {
      "text/html": [
       "<div>\n",
       "<style scoped>\n",
       "    .dataframe tbody tr th:only-of-type {\n",
       "        vertical-align: middle;\n",
       "    }\n",
       "\n",
       "    .dataframe tbody tr th {\n",
       "        vertical-align: top;\n",
       "    }\n",
       "\n",
       "    .dataframe thead th {\n",
       "        text-align: right;\n",
       "    }\n",
       "</style>\n",
       "<table border=\"1\" class=\"dataframe\">\n",
       "  <thead>\n",
       "    <tr style=\"text-align: right;\">\n",
       "      <th></th>\n",
       "      <th>age</th>\n",
       "      <th>job</th>\n",
       "      <th>marital</th>\n",
       "      <th>education</th>\n",
       "      <th>default</th>\n",
       "      <th>balance</th>\n",
       "      <th>housing</th>\n",
       "      <th>loan</th>\n",
       "      <th>contact</th>\n",
       "      <th>month</th>\n",
       "      <th>duration</th>\n",
       "      <th>campaign</th>\n",
       "      <th>pdays</th>\n",
       "      <th>previous</th>\n",
       "      <th>poutcome</th>\n",
       "      <th>y</th>\n",
       "    </tr>\n",
       "  </thead>\n",
       "  <tbody>\n",
       "    <tr>\n",
       "      <th>4516</th>\n",
       "      <td>33</td>\n",
       "      <td>services</td>\n",
       "      <td>married</td>\n",
       "      <td>secondary</td>\n",
       "      <td>no</td>\n",
       "      <td>-333</td>\n",
       "      <td>yes</td>\n",
       "      <td>no</td>\n",
       "      <td>cellular</td>\n",
       "      <td>jul</td>\n",
       "      <td>329</td>\n",
       "      <td>5</td>\n",
       "      <td>-1</td>\n",
       "      <td>0</td>\n",
       "      <td>unknown</td>\n",
       "      <td>no</td>\n",
       "    </tr>\n",
       "    <tr>\n",
       "      <th>4517</th>\n",
       "      <td>57</td>\n",
       "      <td>self-employed</td>\n",
       "      <td>married</td>\n",
       "      <td>tertiary</td>\n",
       "      <td>yes</td>\n",
       "      <td>-3313</td>\n",
       "      <td>yes</td>\n",
       "      <td>yes</td>\n",
       "      <td>unknown</td>\n",
       "      <td>may</td>\n",
       "      <td>153</td>\n",
       "      <td>1</td>\n",
       "      <td>-1</td>\n",
       "      <td>0</td>\n",
       "      <td>unknown</td>\n",
       "      <td>no</td>\n",
       "    </tr>\n",
       "    <tr>\n",
       "      <th>4518</th>\n",
       "      <td>57</td>\n",
       "      <td>technician</td>\n",
       "      <td>married</td>\n",
       "      <td>secondary</td>\n",
       "      <td>no</td>\n",
       "      <td>295</td>\n",
       "      <td>no</td>\n",
       "      <td>no</td>\n",
       "      <td>cellular</td>\n",
       "      <td>aug</td>\n",
       "      <td>151</td>\n",
       "      <td>11</td>\n",
       "      <td>-1</td>\n",
       "      <td>0</td>\n",
       "      <td>unknown</td>\n",
       "      <td>no</td>\n",
       "    </tr>\n",
       "    <tr>\n",
       "      <th>4519</th>\n",
       "      <td>28</td>\n",
       "      <td>blue-collar</td>\n",
       "      <td>married</td>\n",
       "      <td>secondary</td>\n",
       "      <td>no</td>\n",
       "      <td>1137</td>\n",
       "      <td>no</td>\n",
       "      <td>no</td>\n",
       "      <td>cellular</td>\n",
       "      <td>feb</td>\n",
       "      <td>129</td>\n",
       "      <td>4</td>\n",
       "      <td>211</td>\n",
       "      <td>3</td>\n",
       "      <td>other</td>\n",
       "      <td>no</td>\n",
       "    </tr>\n",
       "    <tr>\n",
       "      <th>4520</th>\n",
       "      <td>44</td>\n",
       "      <td>entrepreneur</td>\n",
       "      <td>single</td>\n",
       "      <td>tertiary</td>\n",
       "      <td>no</td>\n",
       "      <td>1136</td>\n",
       "      <td>yes</td>\n",
       "      <td>yes</td>\n",
       "      <td>cellular</td>\n",
       "      <td>apr</td>\n",
       "      <td>345</td>\n",
       "      <td>2</td>\n",
       "      <td>249</td>\n",
       "      <td>7</td>\n",
       "      <td>other</td>\n",
       "      <td>no</td>\n",
       "    </tr>\n",
       "  </tbody>\n",
       "</table>\n",
       "</div>"
      ],
      "text/plain": [
       "      age            job  marital  education default  balance housing loan  \\\n",
       "4516   33       services  married  secondary      no     -333     yes   no   \n",
       "4517   57  self-employed  married   tertiary     yes    -3313     yes  yes   \n",
       "4518   57     technician  married  secondary      no      295      no   no   \n",
       "4519   28    blue-collar  married  secondary      no     1137      no   no   \n",
       "4520   44   entrepreneur   single   tertiary      no     1136     yes  yes   \n",
       "\n",
       "       contact month  duration  campaign  pdays  previous poutcome   y  \n",
       "4516  cellular   jul       329         5     -1         0  unknown  no  \n",
       "4517   unknown   may       153         1     -1         0  unknown  no  \n",
       "4518  cellular   aug       151        11     -1         0  unknown  no  \n",
       "4519  cellular   feb       129         4    211         3    other  no  \n",
       "4520  cellular   apr       345         2    249         7    other  no  "
      ]
     },
     "execution_count": 6,
     "metadata": {},
     "output_type": "execute_result"
    }
   ],
   "source": [
    "df.tail()"
   ]
  },
  {
   "cell_type": "markdown",
   "metadata": {},
   "source": [
    "### Summary statistics"
   ]
  },
  {
   "cell_type": "code",
   "execution_count": 7,
   "metadata": {},
   "outputs": [
    {
     "data": {
      "text/html": [
       "<div>\n",
       "<style scoped>\n",
       "    .dataframe tbody tr th:only-of-type {\n",
       "        vertical-align: middle;\n",
       "    }\n",
       "\n",
       "    .dataframe tbody tr th {\n",
       "        vertical-align: top;\n",
       "    }\n",
       "\n",
       "    .dataframe thead th {\n",
       "        text-align: right;\n",
       "    }\n",
       "</style>\n",
       "<table border=\"1\" class=\"dataframe\">\n",
       "  <thead>\n",
       "    <tr style=\"text-align: right;\">\n",
       "      <th></th>\n",
       "      <th>age</th>\n",
       "      <th>balance</th>\n",
       "      <th>duration</th>\n",
       "      <th>campaign</th>\n",
       "      <th>pdays</th>\n",
       "      <th>previous</th>\n",
       "    </tr>\n",
       "  </thead>\n",
       "  <tbody>\n",
       "    <tr>\n",
       "      <th>count</th>\n",
       "      <td>4521.000000</td>\n",
       "      <td>4521.000000</td>\n",
       "      <td>4521.000000</td>\n",
       "      <td>4521.000000</td>\n",
       "      <td>4521.000000</td>\n",
       "      <td>4521.000000</td>\n",
       "    </tr>\n",
       "    <tr>\n",
       "      <th>mean</th>\n",
       "      <td>41.170095</td>\n",
       "      <td>1422.657819</td>\n",
       "      <td>263.961292</td>\n",
       "      <td>2.793630</td>\n",
       "      <td>39.766645</td>\n",
       "      <td>0.542579</td>\n",
       "    </tr>\n",
       "    <tr>\n",
       "      <th>std</th>\n",
       "      <td>10.576211</td>\n",
       "      <td>3009.638142</td>\n",
       "      <td>259.856633</td>\n",
       "      <td>3.109807</td>\n",
       "      <td>100.121124</td>\n",
       "      <td>1.693562</td>\n",
       "    </tr>\n",
       "    <tr>\n",
       "      <th>min</th>\n",
       "      <td>19.000000</td>\n",
       "      <td>-3313.000000</td>\n",
       "      <td>4.000000</td>\n",
       "      <td>1.000000</td>\n",
       "      <td>-1.000000</td>\n",
       "      <td>0.000000</td>\n",
       "    </tr>\n",
       "    <tr>\n",
       "      <th>25%</th>\n",
       "      <td>33.000000</td>\n",
       "      <td>69.000000</td>\n",
       "      <td>104.000000</td>\n",
       "      <td>1.000000</td>\n",
       "      <td>-1.000000</td>\n",
       "      <td>0.000000</td>\n",
       "    </tr>\n",
       "    <tr>\n",
       "      <th>50%</th>\n",
       "      <td>39.000000</td>\n",
       "      <td>444.000000</td>\n",
       "      <td>185.000000</td>\n",
       "      <td>2.000000</td>\n",
       "      <td>-1.000000</td>\n",
       "      <td>0.000000</td>\n",
       "    </tr>\n",
       "    <tr>\n",
       "      <th>75%</th>\n",
       "      <td>49.000000</td>\n",
       "      <td>1480.000000</td>\n",
       "      <td>329.000000</td>\n",
       "      <td>3.000000</td>\n",
       "      <td>-1.000000</td>\n",
       "      <td>0.000000</td>\n",
       "    </tr>\n",
       "    <tr>\n",
       "      <th>max</th>\n",
       "      <td>87.000000</td>\n",
       "      <td>71188.000000</td>\n",
       "      <td>3025.000000</td>\n",
       "      <td>50.000000</td>\n",
       "      <td>871.000000</td>\n",
       "      <td>25.000000</td>\n",
       "    </tr>\n",
       "  </tbody>\n",
       "</table>\n",
       "</div>"
      ],
      "text/plain": [
       "               age       balance     duration     campaign        pdays  \\\n",
       "count  4521.000000   4521.000000  4521.000000  4521.000000  4521.000000   \n",
       "mean     41.170095   1422.657819   263.961292     2.793630    39.766645   \n",
       "std      10.576211   3009.638142   259.856633     3.109807   100.121124   \n",
       "min      19.000000  -3313.000000     4.000000     1.000000    -1.000000   \n",
       "25%      33.000000     69.000000   104.000000     1.000000    -1.000000   \n",
       "50%      39.000000    444.000000   185.000000     2.000000    -1.000000   \n",
       "75%      49.000000   1480.000000   329.000000     3.000000    -1.000000   \n",
       "max      87.000000  71188.000000  3025.000000    50.000000   871.000000   \n",
       "\n",
       "          previous  \n",
       "count  4521.000000  \n",
       "mean      0.542579  \n",
       "std       1.693562  \n",
       "min       0.000000  \n",
       "25%       0.000000  \n",
       "50%       0.000000  \n",
       "75%       0.000000  \n",
       "max      25.000000  "
      ]
     },
     "execution_count": 7,
     "metadata": {},
     "output_type": "execute_result"
    }
   ],
   "source": [
    "df.describe()"
   ]
  },
  {
   "cell_type": "code",
   "execution_count": 8,
   "metadata": {},
   "outputs": [
    {
     "data": {
      "text/plain": [
       "Index(['age', 'job', 'marital', 'education', 'default', 'balance', 'housing',\n",
       "       'loan', 'contact', 'month', 'duration', 'campaign', 'pdays', 'previous',\n",
       "       'poutcome', 'y'],\n",
       "      dtype='object')"
      ]
     },
     "execution_count": 8,
     "metadata": {},
     "output_type": "execute_result"
    }
   ],
   "source": [
    "df.columns"
   ]
  },
  {
   "cell_type": "code",
   "execution_count": 9,
   "metadata": {},
   "outputs": [
    {
     "data": {
      "text/plain": [
       "no     0.88476\n",
       "yes    0.11524\n",
       "Name: y, dtype: float64"
      ]
     },
     "execution_count": 9,
     "metadata": {},
     "output_type": "execute_result"
    }
   ],
   "source": [
    "df.y.value_counts(normalize=True) # frequency for each level within the target variable"
   ]
  },
  {
   "cell_type": "code",
   "execution_count": 10,
   "metadata": {},
   "outputs": [
    {
     "data": {
      "text/plain": [
       "no     4000\n",
       "yes     521\n",
       "Name: y, dtype: int64"
      ]
     },
     "execution_count": 10,
     "metadata": {},
     "output_type": "execute_result"
    }
   ],
   "source": [
    "df.y.value_counts() # frequency for each level"
   ]
  },
  {
   "cell_type": "code",
   "execution_count": 11,
   "metadata": {},
   "outputs": [
    {
     "data": {
      "text/plain": [
       "'jagan'"
      ]
     },
     "execution_count": 11,
     "metadata": {},
     "output_type": "execute_result"
    }
   ],
   "source": [
    "' jagan    '.strip()"
   ]
  },
  {
   "cell_type": "markdown",
   "metadata": {},
   "source": [
    "### Recode the levels of target on  data ; yes=1 and no=0\n"
   ]
  },
  {
   "cell_type": "code",
   "execution_count": 12,
   "metadata": {},
   "outputs": [],
   "source": [
    "df['y'] = df['y'].apply(lambda x: 0 if x.strip()=='no' else 1)\n"
   ]
  },
  {
   "cell_type": "code",
   "execution_count": 14,
   "metadata": {},
   "outputs": [
    {
     "data": {
      "text/html": [
       "<div>\n",
       "<style scoped>\n",
       "    .dataframe tbody tr th:only-of-type {\n",
       "        vertical-align: middle;\n",
       "    }\n",
       "\n",
       "    .dataframe tbody tr th {\n",
       "        vertical-align: top;\n",
       "    }\n",
       "\n",
       "    .dataframe thead th {\n",
       "        text-align: right;\n",
       "    }\n",
       "</style>\n",
       "<table border=\"1\" class=\"dataframe\">\n",
       "  <thead>\n",
       "    <tr style=\"text-align: right;\">\n",
       "      <th></th>\n",
       "      <th>age</th>\n",
       "      <th>balance</th>\n",
       "      <th>duration</th>\n",
       "      <th>campaign</th>\n",
       "      <th>pdays</th>\n",
       "      <th>previous</th>\n",
       "      <th>y</th>\n",
       "      <th>job_blue-collar</th>\n",
       "      <th>job_entrepreneur</th>\n",
       "      <th>job_housemaid</th>\n",
       "      <th>...</th>\n",
       "      <th>month_jul</th>\n",
       "      <th>month_jun</th>\n",
       "      <th>month_mar</th>\n",
       "      <th>month_may</th>\n",
       "      <th>month_nov</th>\n",
       "      <th>month_oct</th>\n",
       "      <th>month_sep</th>\n",
       "      <th>poutcome_other</th>\n",
       "      <th>poutcome_success</th>\n",
       "      <th>poutcome_unknown</th>\n",
       "    </tr>\n",
       "  </thead>\n",
       "  <tbody>\n",
       "    <tr>\n",
       "      <th>0</th>\n",
       "      <td>30</td>\n",
       "      <td>1787</td>\n",
       "      <td>79</td>\n",
       "      <td>1</td>\n",
       "      <td>-1</td>\n",
       "      <td>0</td>\n",
       "      <td>0</td>\n",
       "      <td>0</td>\n",
       "      <td>0</td>\n",
       "      <td>0</td>\n",
       "      <td>...</td>\n",
       "      <td>0</td>\n",
       "      <td>0</td>\n",
       "      <td>0</td>\n",
       "      <td>0</td>\n",
       "      <td>0</td>\n",
       "      <td>1</td>\n",
       "      <td>0</td>\n",
       "      <td>0</td>\n",
       "      <td>0</td>\n",
       "      <td>1</td>\n",
       "    </tr>\n",
       "    <tr>\n",
       "      <th>1</th>\n",
       "      <td>33</td>\n",
       "      <td>4789</td>\n",
       "      <td>220</td>\n",
       "      <td>1</td>\n",
       "      <td>339</td>\n",
       "      <td>4</td>\n",
       "      <td>0</td>\n",
       "      <td>0</td>\n",
       "      <td>0</td>\n",
       "      <td>0</td>\n",
       "      <td>...</td>\n",
       "      <td>0</td>\n",
       "      <td>0</td>\n",
       "      <td>0</td>\n",
       "      <td>1</td>\n",
       "      <td>0</td>\n",
       "      <td>0</td>\n",
       "      <td>0</td>\n",
       "      <td>0</td>\n",
       "      <td>0</td>\n",
       "      <td>0</td>\n",
       "    </tr>\n",
       "    <tr>\n",
       "      <th>2</th>\n",
       "      <td>35</td>\n",
       "      <td>1350</td>\n",
       "      <td>185</td>\n",
       "      <td>1</td>\n",
       "      <td>330</td>\n",
       "      <td>1</td>\n",
       "      <td>0</td>\n",
       "      <td>0</td>\n",
       "      <td>0</td>\n",
       "      <td>0</td>\n",
       "      <td>...</td>\n",
       "      <td>0</td>\n",
       "      <td>0</td>\n",
       "      <td>0</td>\n",
       "      <td>0</td>\n",
       "      <td>0</td>\n",
       "      <td>0</td>\n",
       "      <td>0</td>\n",
       "      <td>0</td>\n",
       "      <td>0</td>\n",
       "      <td>0</td>\n",
       "    </tr>\n",
       "    <tr>\n",
       "      <th>3</th>\n",
       "      <td>30</td>\n",
       "      <td>1476</td>\n",
       "      <td>199</td>\n",
       "      <td>4</td>\n",
       "      <td>-1</td>\n",
       "      <td>0</td>\n",
       "      <td>0</td>\n",
       "      <td>0</td>\n",
       "      <td>0</td>\n",
       "      <td>0</td>\n",
       "      <td>...</td>\n",
       "      <td>0</td>\n",
       "      <td>1</td>\n",
       "      <td>0</td>\n",
       "      <td>0</td>\n",
       "      <td>0</td>\n",
       "      <td>0</td>\n",
       "      <td>0</td>\n",
       "      <td>0</td>\n",
       "      <td>0</td>\n",
       "      <td>1</td>\n",
       "    </tr>\n",
       "    <tr>\n",
       "      <th>4</th>\n",
       "      <td>59</td>\n",
       "      <td>0</td>\n",
       "      <td>226</td>\n",
       "      <td>1</td>\n",
       "      <td>-1</td>\n",
       "      <td>0</td>\n",
       "      <td>0</td>\n",
       "      <td>1</td>\n",
       "      <td>0</td>\n",
       "      <td>0</td>\n",
       "      <td>...</td>\n",
       "      <td>0</td>\n",
       "      <td>0</td>\n",
       "      <td>0</td>\n",
       "      <td>1</td>\n",
       "      <td>0</td>\n",
       "      <td>0</td>\n",
       "      <td>0</td>\n",
       "      <td>0</td>\n",
       "      <td>0</td>\n",
       "      <td>1</td>\n",
       "    </tr>\n",
       "  </tbody>\n",
       "</table>\n",
       "<p>5 rows × 42 columns</p>\n",
       "</div>"
      ],
      "text/plain": [
       "   age  balance  duration  campaign  pdays  previous  y  job_blue-collar  \\\n",
       "0   30     1787        79         1     -1         0  0                0   \n",
       "1   33     4789       220         1    339         4  0                0   \n",
       "2   35     1350       185         1    330         1  0                0   \n",
       "3   30     1476       199         4     -1         0  0                0   \n",
       "4   59        0       226         1     -1         0  0                1   \n",
       "\n",
       "   job_entrepreneur  job_housemaid  ...  month_jul  month_jun  month_mar  \\\n",
       "0                 0              0  ...          0          0          0   \n",
       "1                 0              0  ...          0          0          0   \n",
       "2                 0              0  ...          0          0          0   \n",
       "3                 0              0  ...          0          1          0   \n",
       "4                 0              0  ...          0          0          0   \n",
       "\n",
       "   month_may  month_nov  month_oct  month_sep  poutcome_other  \\\n",
       "0          0          0          1          0               0   \n",
       "1          1          0          0          0               0   \n",
       "2          0          0          0          0               0   \n",
       "3          0          0          0          0               0   \n",
       "4          1          0          0          0               0   \n",
       "\n",
       "   poutcome_success  poutcome_unknown  \n",
       "0                 0                 1  \n",
       "1                 0                 0  \n",
       "2                 0                 0  \n",
       "3                 0                 1  \n",
       "4                 0                 1  \n",
       "\n",
       "[5 rows x 42 columns]"
      ]
     },
     "execution_count": 14,
     "metadata": {},
     "output_type": "execute_result"
    }
   ],
   "source": [
    "data = pd.get_dummies( data = df, drop_first=True)\n",
    "data.head()"
   ]
  },
  {
   "cell_type": "code",
   "execution_count": 15,
   "metadata": {},
   "outputs": [
    {
     "data": {
      "text/plain": [
       "Index(['age', 'balance', 'duration', 'campaign', 'pdays', 'previous', 'y',\n",
       "       'job_blue-collar', 'job_entrepreneur', 'job_housemaid',\n",
       "       'job_management', 'job_retired', 'job_self-employed', 'job_services',\n",
       "       'job_student', 'job_technician', 'job_unemployed', 'job_unknown',\n",
       "       'marital_married', 'marital_single', 'education_secondary',\n",
       "       'education_tertiary', 'education_unknown', 'default_yes', 'housing_yes',\n",
       "       'loan_yes', 'contact_telephone', 'contact_unknown', 'month_aug',\n",
       "       'month_dec', 'month_feb', 'month_jan', 'month_jul', 'month_jun',\n",
       "       'month_mar', 'month_may', 'month_nov', 'month_oct', 'month_sep',\n",
       "       'poutcome_other', 'poutcome_success', 'poutcome_unknown'],\n",
       "      dtype='object')"
      ]
     },
     "execution_count": 15,
     "metadata": {},
     "output_type": "execute_result"
    }
   ],
   "source": [
    "data.columns"
   ]
  },
  {
   "cell_type": "markdown",
   "metadata": {},
   "source": [
    "### Splitting the data into train and Validation sets"
   ]
  },
  {
   "cell_type": "code",
   "execution_count": 16,
   "metadata": {},
   "outputs": [],
   "source": [
    "X = data.loc[:,data.columns.difference(['y'])] # taking all the independent columns\n",
    "y = data.y # separting the target variable"
   ]
  },
  {
   "cell_type": "code",
   "execution_count": 17,
   "metadata": {},
   "outputs": [
    {
     "data": {
      "text/html": [
       "<div>\n",
       "<style scoped>\n",
       "    .dataframe tbody tr th:only-of-type {\n",
       "        vertical-align: middle;\n",
       "    }\n",
       "\n",
       "    .dataframe tbody tr th {\n",
       "        vertical-align: top;\n",
       "    }\n",
       "\n",
       "    .dataframe thead th {\n",
       "        text-align: right;\n",
       "    }\n",
       "</style>\n",
       "<table border=\"1\" class=\"dataframe\">\n",
       "  <thead>\n",
       "    <tr style=\"text-align: right;\">\n",
       "      <th></th>\n",
       "      <th>age</th>\n",
       "      <th>balance</th>\n",
       "      <th>campaign</th>\n",
       "      <th>contact_telephone</th>\n",
       "      <th>contact_unknown</th>\n",
       "      <th>default_yes</th>\n",
       "      <th>duration</th>\n",
       "      <th>education_secondary</th>\n",
       "      <th>education_tertiary</th>\n",
       "      <th>education_unknown</th>\n",
       "      <th>...</th>\n",
       "      <th>month_mar</th>\n",
       "      <th>month_may</th>\n",
       "      <th>month_nov</th>\n",
       "      <th>month_oct</th>\n",
       "      <th>month_sep</th>\n",
       "      <th>pdays</th>\n",
       "      <th>poutcome_other</th>\n",
       "      <th>poutcome_success</th>\n",
       "      <th>poutcome_unknown</th>\n",
       "      <th>previous</th>\n",
       "    </tr>\n",
       "  </thead>\n",
       "  <tbody>\n",
       "    <tr>\n",
       "      <th>0</th>\n",
       "      <td>30</td>\n",
       "      <td>1787</td>\n",
       "      <td>1</td>\n",
       "      <td>0</td>\n",
       "      <td>0</td>\n",
       "      <td>0</td>\n",
       "      <td>79</td>\n",
       "      <td>0</td>\n",
       "      <td>0</td>\n",
       "      <td>0</td>\n",
       "      <td>...</td>\n",
       "      <td>0</td>\n",
       "      <td>0</td>\n",
       "      <td>0</td>\n",
       "      <td>1</td>\n",
       "      <td>0</td>\n",
       "      <td>-1</td>\n",
       "      <td>0</td>\n",
       "      <td>0</td>\n",
       "      <td>1</td>\n",
       "      <td>0</td>\n",
       "    </tr>\n",
       "    <tr>\n",
       "      <th>1</th>\n",
       "      <td>33</td>\n",
       "      <td>4789</td>\n",
       "      <td>1</td>\n",
       "      <td>0</td>\n",
       "      <td>0</td>\n",
       "      <td>0</td>\n",
       "      <td>220</td>\n",
       "      <td>1</td>\n",
       "      <td>0</td>\n",
       "      <td>0</td>\n",
       "      <td>...</td>\n",
       "      <td>0</td>\n",
       "      <td>1</td>\n",
       "      <td>0</td>\n",
       "      <td>0</td>\n",
       "      <td>0</td>\n",
       "      <td>339</td>\n",
       "      <td>0</td>\n",
       "      <td>0</td>\n",
       "      <td>0</td>\n",
       "      <td>4</td>\n",
       "    </tr>\n",
       "    <tr>\n",
       "      <th>2</th>\n",
       "      <td>35</td>\n",
       "      <td>1350</td>\n",
       "      <td>1</td>\n",
       "      <td>0</td>\n",
       "      <td>0</td>\n",
       "      <td>0</td>\n",
       "      <td>185</td>\n",
       "      <td>0</td>\n",
       "      <td>1</td>\n",
       "      <td>0</td>\n",
       "      <td>...</td>\n",
       "      <td>0</td>\n",
       "      <td>0</td>\n",
       "      <td>0</td>\n",
       "      <td>0</td>\n",
       "      <td>0</td>\n",
       "      <td>330</td>\n",
       "      <td>0</td>\n",
       "      <td>0</td>\n",
       "      <td>0</td>\n",
       "      <td>1</td>\n",
       "    </tr>\n",
       "    <tr>\n",
       "      <th>3</th>\n",
       "      <td>30</td>\n",
       "      <td>1476</td>\n",
       "      <td>4</td>\n",
       "      <td>0</td>\n",
       "      <td>1</td>\n",
       "      <td>0</td>\n",
       "      <td>199</td>\n",
       "      <td>0</td>\n",
       "      <td>1</td>\n",
       "      <td>0</td>\n",
       "      <td>...</td>\n",
       "      <td>0</td>\n",
       "      <td>0</td>\n",
       "      <td>0</td>\n",
       "      <td>0</td>\n",
       "      <td>0</td>\n",
       "      <td>-1</td>\n",
       "      <td>0</td>\n",
       "      <td>0</td>\n",
       "      <td>1</td>\n",
       "      <td>0</td>\n",
       "    </tr>\n",
       "    <tr>\n",
       "      <th>4</th>\n",
       "      <td>59</td>\n",
       "      <td>0</td>\n",
       "      <td>1</td>\n",
       "      <td>0</td>\n",
       "      <td>1</td>\n",
       "      <td>0</td>\n",
       "      <td>226</td>\n",
       "      <td>1</td>\n",
       "      <td>0</td>\n",
       "      <td>0</td>\n",
       "      <td>...</td>\n",
       "      <td>0</td>\n",
       "      <td>1</td>\n",
       "      <td>0</td>\n",
       "      <td>0</td>\n",
       "      <td>0</td>\n",
       "      <td>-1</td>\n",
       "      <td>0</td>\n",
       "      <td>0</td>\n",
       "      <td>1</td>\n",
       "      <td>0</td>\n",
       "    </tr>\n",
       "  </tbody>\n",
       "</table>\n",
       "<p>5 rows × 41 columns</p>\n",
       "</div>"
      ],
      "text/plain": [
       "   age  balance  campaign  contact_telephone  contact_unknown  default_yes  \\\n",
       "0   30     1787         1                  0                0            0   \n",
       "1   33     4789         1                  0                0            0   \n",
       "2   35     1350         1                  0                0            0   \n",
       "3   30     1476         4                  0                1            0   \n",
       "4   59        0         1                  0                1            0   \n",
       "\n",
       "   duration  education_secondary  education_tertiary  education_unknown  ...  \\\n",
       "0        79                    0                   0                  0  ...   \n",
       "1       220                    1                   0                  0  ...   \n",
       "2       185                    0                   1                  0  ...   \n",
       "3       199                    0                   1                  0  ...   \n",
       "4       226                    1                   0                  0  ...   \n",
       "\n",
       "   month_mar  month_may  month_nov  month_oct  month_sep  pdays  \\\n",
       "0          0          0          0          1          0     -1   \n",
       "1          0          1          0          0          0    339   \n",
       "2          0          0          0          0          0    330   \n",
       "3          0          0          0          0          0     -1   \n",
       "4          0          1          0          0          0     -1   \n",
       "\n",
       "   poutcome_other  poutcome_success  poutcome_unknown  previous  \n",
       "0               0                 0                 1         0  \n",
       "1               0                 0                 0         4  \n",
       "2               0                 0                 0         1  \n",
       "3               0                 0                 1         0  \n",
       "4               0                 0                 1         0  \n",
       "\n",
       "[5 rows x 41 columns]"
      ]
     },
     "execution_count": 17,
     "metadata": {},
     "output_type": "execute_result"
    }
   ],
   "source": [
    "X.head()"
   ]
  },
  {
   "cell_type": "code",
   "execution_count": 18,
   "metadata": {},
   "outputs": [
    {
     "data": {
      "text/plain": [
       "0    0\n",
       "1    0\n",
       "2    0\n",
       "3    0\n",
       "4    0\n",
       "5    0\n",
       "Name: y, dtype: int64"
      ]
     },
     "execution_count": 18,
     "metadata": {},
     "output_type": "execute_result"
    }
   ],
   "source": [
    "y[:6]"
   ]
  },
  {
   "cell_type": "code",
   "execution_count": 19,
   "metadata": {},
   "outputs": [
    {
     "data": {
      "text/plain": [
       "0    0.88476\n",
       "1    0.11524\n",
       "Name: y, dtype: float64"
      ]
     },
     "execution_count": 19,
     "metadata": {},
     "output_type": "execute_result"
    }
   ],
   "source": [
    "data['y'].value_counts(normalize=True)"
   ]
  },
  {
   "cell_type": "code",
   "execution_count": 20,
   "metadata": {},
   "outputs": [
    {
     "name": "stdout",
     "output_type": "stream",
     "text": [
      "(3164, 41)\n",
      "(1357, 41)\n",
      "(3164,)\n",
      "(1357,)\n"
     ]
    }
   ],
   "source": [
    "X_train, X_test, y_train, y_test = train_test_split(X, y, stratify= y, test_size = 0.3, random_state=2323)\n",
    "\n",
    "#X_train, X_test, y_train, y_test = train_test_split(X, y, test_size = 0.3, random_state=124)\n",
    "\n",
    "print(X_train.shape)\n",
    "print(X_test.shape)\n",
    "print(y_train.shape)\n",
    "print(y_test.shape)"
   ]
  },
  {
   "cell_type": "code",
   "execution_count": 21,
   "metadata": {},
   "outputs": [
    {
     "name": "stdout",
     "output_type": "stream",
     "text": [
      "train - Stratification 0    2799\n",
      "1     365\n",
      "Name: y, dtype: int64\n",
      "test - Stratification 0    1201\n",
      "1     156\n",
      "Name: y, dtype: int64\n"
     ]
    }
   ],
   "source": [
    "print('train - Stratification',y_train.value_counts())\n",
    "print('test - Stratification',y_test.value_counts())"
   ]
  },
  {
   "cell_type": "code",
   "execution_count": 22,
   "metadata": {
    "scrolled": true
   },
   "outputs": [
    {
     "name": "stdout",
     "output_type": "stream",
     "text": [
      "(3164, 41)\n",
      "(1357, 41)\n",
      "(3164,)\n",
      "(1357,)\n"
     ]
    }
   ],
   "source": [
    "#X_train, X_test, y_train, y_test = train_test_split(X, y, stratify= y, test_size = 0.3, random_state=124)\n",
    "\n",
    "X_train, X_test, y_train, y_test = train_test_split(X, y, test_size = 0.3, random_state=2323)\n",
    "\n",
    "print(X_train.shape)\n",
    "print(X_test.shape)\n",
    "print(y_train.shape)\n",
    "print(y_test.shape)"
   ]
  },
  {
   "cell_type": "code",
   "execution_count": 23,
   "metadata": {},
   "outputs": [
    {
     "name": "stdout",
     "output_type": "stream",
     "text": [
      "train - rand 0    2782\n",
      "1     382\n",
      "Name: y, dtype: int64\n",
      "test - rand 0    1218\n",
      "1     139\n",
      "Name: y, dtype: int64\n"
     ]
    }
   ],
   "source": [
    "print('train - rand',y_train.value_counts())\n",
    "print('test - rand',y_test.value_counts())"
   ]
  },
  {
   "cell_type": "markdown",
   "metadata": {},
   "source": [
    "### Standardizing the numeric attributes in the train and test data"
   ]
  },
  {
   "cell_type": "code",
   "execution_count": 24,
   "metadata": {},
   "outputs": [],
   "source": [
    "scaler = MinMaxScaler()\n",
    "X_train[['age','balance','duration','pdays','previous','campaign']] = scaler.fit_transform(X_train[['age','balance','duration','pdays','previous','campaign']])\n",
    "X_test[['age','balance','duration','pdays','previous','campaign']]=scaler.transform(X_test[['age','balance','duration','pdays','previous','campaign']])"
   ]
  },
  {
   "cell_type": "code",
   "execution_count": 25,
   "metadata": {},
   "outputs": [
    {
     "data": {
      "text/html": [
       "<div>\n",
       "<style scoped>\n",
       "    .dataframe tbody tr th:only-of-type {\n",
       "        vertical-align: middle;\n",
       "    }\n",
       "\n",
       "    .dataframe tbody tr th {\n",
       "        vertical-align: top;\n",
       "    }\n",
       "\n",
       "    .dataframe thead th {\n",
       "        text-align: right;\n",
       "    }\n",
       "</style>\n",
       "<table border=\"1\" class=\"dataframe\">\n",
       "  <thead>\n",
       "    <tr style=\"text-align: right;\">\n",
       "      <th></th>\n",
       "      <th>age</th>\n",
       "      <th>balance</th>\n",
       "      <th>campaign</th>\n",
       "      <th>contact_telephone</th>\n",
       "      <th>contact_unknown</th>\n",
       "      <th>default_yes</th>\n",
       "      <th>duration</th>\n",
       "      <th>education_secondary</th>\n",
       "      <th>education_tertiary</th>\n",
       "      <th>education_unknown</th>\n",
       "      <th>...</th>\n",
       "      <th>month_mar</th>\n",
       "      <th>month_may</th>\n",
       "      <th>month_nov</th>\n",
       "      <th>month_oct</th>\n",
       "      <th>month_sep</th>\n",
       "      <th>pdays</th>\n",
       "      <th>poutcome_other</th>\n",
       "      <th>poutcome_success</th>\n",
       "      <th>poutcome_unknown</th>\n",
       "      <th>previous</th>\n",
       "    </tr>\n",
       "  </thead>\n",
       "  <tbody>\n",
       "    <tr>\n",
       "      <th>4209</th>\n",
       "      <td>0.279412</td>\n",
       "      <td>0.023939</td>\n",
       "      <td>0.102041</td>\n",
       "      <td>0</td>\n",
       "      <td>0</td>\n",
       "      <td>0</td>\n",
       "      <td>0.531284</td>\n",
       "      <td>1</td>\n",
       "      <td>0</td>\n",
       "      <td>0</td>\n",
       "      <td>...</td>\n",
       "      <td>0</td>\n",
       "      <td>0</td>\n",
       "      <td>0</td>\n",
       "      <td>0</td>\n",
       "      <td>0</td>\n",
       "      <td>0.000000</td>\n",
       "      <td>0</td>\n",
       "      <td>0</td>\n",
       "      <td>1</td>\n",
       "      <td>0.000000</td>\n",
       "    </tr>\n",
       "    <tr>\n",
       "      <th>3748</th>\n",
       "      <td>0.235294</td>\n",
       "      <td>0.062234</td>\n",
       "      <td>0.020408</td>\n",
       "      <td>0</td>\n",
       "      <td>0</td>\n",
       "      <td>0</td>\n",
       "      <td>0.091863</td>\n",
       "      <td>0</td>\n",
       "      <td>1</td>\n",
       "      <td>0</td>\n",
       "      <td>...</td>\n",
       "      <td>0</td>\n",
       "      <td>0</td>\n",
       "      <td>1</td>\n",
       "      <td>0</td>\n",
       "      <td>0</td>\n",
       "      <td>0.000000</td>\n",
       "      <td>0</td>\n",
       "      <td>0</td>\n",
       "      <td>1</td>\n",
       "      <td>0.000000</td>\n",
       "    </tr>\n",
       "    <tr>\n",
       "      <th>1516</th>\n",
       "      <td>0.147059</td>\n",
       "      <td>0.027258</td>\n",
       "      <td>0.061224</td>\n",
       "      <td>0</td>\n",
       "      <td>0</td>\n",
       "      <td>0</td>\n",
       "      <td>0.024955</td>\n",
       "      <td>0</td>\n",
       "      <td>1</td>\n",
       "      <td>0</td>\n",
       "      <td>...</td>\n",
       "      <td>0</td>\n",
       "      <td>0</td>\n",
       "      <td>0</td>\n",
       "      <td>0</td>\n",
       "      <td>0</td>\n",
       "      <td>0.000000</td>\n",
       "      <td>0</td>\n",
       "      <td>0</td>\n",
       "      <td>1</td>\n",
       "      <td>0.000000</td>\n",
       "    </tr>\n",
       "    <tr>\n",
       "      <th>1364</th>\n",
       "      <td>0.220588</td>\n",
       "      <td>0.050073</td>\n",
       "      <td>0.040816</td>\n",
       "      <td>0</td>\n",
       "      <td>0</td>\n",
       "      <td>0</td>\n",
       "      <td>0.023146</td>\n",
       "      <td>0</td>\n",
       "      <td>1</td>\n",
       "      <td>0</td>\n",
       "      <td>...</td>\n",
       "      <td>0</td>\n",
       "      <td>0</td>\n",
       "      <td>0</td>\n",
       "      <td>0</td>\n",
       "      <td>0</td>\n",
       "      <td>0.000000</td>\n",
       "      <td>0</td>\n",
       "      <td>0</td>\n",
       "      <td>1</td>\n",
       "      <td>0.000000</td>\n",
       "    </tr>\n",
       "    <tr>\n",
       "      <th>1735</th>\n",
       "      <td>0.235294</td>\n",
       "      <td>0.029520</td>\n",
       "      <td>0.102041</td>\n",
       "      <td>0</td>\n",
       "      <td>0</td>\n",
       "      <td>0</td>\n",
       "      <td>0.002893</td>\n",
       "      <td>1</td>\n",
       "      <td>0</td>\n",
       "      <td>0</td>\n",
       "      <td>...</td>\n",
       "      <td>0</td>\n",
       "      <td>0</td>\n",
       "      <td>0</td>\n",
       "      <td>0</td>\n",
       "      <td>0</td>\n",
       "      <td>0.000000</td>\n",
       "      <td>0</td>\n",
       "      <td>0</td>\n",
       "      <td>1</td>\n",
       "      <td>0.000000</td>\n",
       "    </tr>\n",
       "    <tr>\n",
       "      <th>...</th>\n",
       "      <td>...</td>\n",
       "      <td>...</td>\n",
       "      <td>...</td>\n",
       "      <td>...</td>\n",
       "      <td>...</td>\n",
       "      <td>...</td>\n",
       "      <td>...</td>\n",
       "      <td>...</td>\n",
       "      <td>...</td>\n",
       "      <td>...</td>\n",
       "      <td>...</td>\n",
       "      <td>...</td>\n",
       "      <td>...</td>\n",
       "      <td>...</td>\n",
       "      <td>...</td>\n",
       "      <td>...</td>\n",
       "      <td>...</td>\n",
       "      <td>...</td>\n",
       "      <td>...</td>\n",
       "      <td>...</td>\n",
       "      <td>...</td>\n",
       "    </tr>\n",
       "    <tr>\n",
       "      <th>2004</th>\n",
       "      <td>0.132353</td>\n",
       "      <td>0.038542</td>\n",
       "      <td>0.000000</td>\n",
       "      <td>0</td>\n",
       "      <td>0</td>\n",
       "      <td>0</td>\n",
       "      <td>0.145389</td>\n",
       "      <td>1</td>\n",
       "      <td>0</td>\n",
       "      <td>0</td>\n",
       "      <td>...</td>\n",
       "      <td>0</td>\n",
       "      <td>0</td>\n",
       "      <td>0</td>\n",
       "      <td>0</td>\n",
       "      <td>0</td>\n",
       "      <td>0.364679</td>\n",
       "      <td>0</td>\n",
       "      <td>0</td>\n",
       "      <td>0</td>\n",
       "      <td>0.041667</td>\n",
       "    </tr>\n",
       "    <tr>\n",
       "      <th>2868</th>\n",
       "      <td>0.308824</td>\n",
       "      <td>0.034511</td>\n",
       "      <td>0.061224</td>\n",
       "      <td>0</td>\n",
       "      <td>0</td>\n",
       "      <td>0</td>\n",
       "      <td>0.061121</td>\n",
       "      <td>1</td>\n",
       "      <td>0</td>\n",
       "      <td>0</td>\n",
       "      <td>...</td>\n",
       "      <td>0</td>\n",
       "      <td>1</td>\n",
       "      <td>0</td>\n",
       "      <td>0</td>\n",
       "      <td>0</td>\n",
       "      <td>0.000000</td>\n",
       "      <td>0</td>\n",
       "      <td>0</td>\n",
       "      <td>1</td>\n",
       "      <td>0.000000</td>\n",
       "    </tr>\n",
       "    <tr>\n",
       "      <th>3503</th>\n",
       "      <td>0.117647</td>\n",
       "      <td>0.027587</td>\n",
       "      <td>0.000000</td>\n",
       "      <td>0</td>\n",
       "      <td>0</td>\n",
       "      <td>0</td>\n",
       "      <td>0.082459</td>\n",
       "      <td>1</td>\n",
       "      <td>0</td>\n",
       "      <td>0</td>\n",
       "      <td>...</td>\n",
       "      <td>0</td>\n",
       "      <td>0</td>\n",
       "      <td>0</td>\n",
       "      <td>0</td>\n",
       "      <td>0</td>\n",
       "      <td>0.000000</td>\n",
       "      <td>0</td>\n",
       "      <td>0</td>\n",
       "      <td>1</td>\n",
       "      <td>0.000000</td>\n",
       "    </tr>\n",
       "    <tr>\n",
       "      <th>2280</th>\n",
       "      <td>0.147059</td>\n",
       "      <td>0.022500</td>\n",
       "      <td>0.040816</td>\n",
       "      <td>0</td>\n",
       "      <td>1</td>\n",
       "      <td>0</td>\n",
       "      <td>0.000362</td>\n",
       "      <td>1</td>\n",
       "      <td>0</td>\n",
       "      <td>0</td>\n",
       "      <td>...</td>\n",
       "      <td>0</td>\n",
       "      <td>1</td>\n",
       "      <td>0</td>\n",
       "      <td>0</td>\n",
       "      <td>0</td>\n",
       "      <td>0.000000</td>\n",
       "      <td>0</td>\n",
       "      <td>0</td>\n",
       "      <td>1</td>\n",
       "      <td>0.000000</td>\n",
       "    </tr>\n",
       "    <tr>\n",
       "      <th>2120</th>\n",
       "      <td>0.632353</td>\n",
       "      <td>0.023939</td>\n",
       "      <td>0.020408</td>\n",
       "      <td>0</td>\n",
       "      <td>0</td>\n",
       "      <td>0</td>\n",
       "      <td>0.080651</td>\n",
       "      <td>0</td>\n",
       "      <td>1</td>\n",
       "      <td>0</td>\n",
       "      <td>...</td>\n",
       "      <td>0</td>\n",
       "      <td>0</td>\n",
       "      <td>1</td>\n",
       "      <td>0</td>\n",
       "      <td>0</td>\n",
       "      <td>0.000000</td>\n",
       "      <td>0</td>\n",
       "      <td>0</td>\n",
       "      <td>1</td>\n",
       "      <td>0.000000</td>\n",
       "    </tr>\n",
       "  </tbody>\n",
       "</table>\n",
       "<p>3164 rows × 41 columns</p>\n",
       "</div>"
      ],
      "text/plain": [
       "           age   balance  campaign  contact_telephone  contact_unknown  \\\n",
       "4209  0.279412  0.023939  0.102041                  0                0   \n",
       "3748  0.235294  0.062234  0.020408                  0                0   \n",
       "1516  0.147059  0.027258  0.061224                  0                0   \n",
       "1364  0.220588  0.050073  0.040816                  0                0   \n",
       "1735  0.235294  0.029520  0.102041                  0                0   \n",
       "...        ...       ...       ...                ...              ...   \n",
       "2004  0.132353  0.038542  0.000000                  0                0   \n",
       "2868  0.308824  0.034511  0.061224                  0                0   \n",
       "3503  0.117647  0.027587  0.000000                  0                0   \n",
       "2280  0.147059  0.022500  0.040816                  0                1   \n",
       "2120  0.632353  0.023939  0.020408                  0                0   \n",
       "\n",
       "      default_yes  duration  education_secondary  education_tertiary  \\\n",
       "4209            0  0.531284                    1                   0   \n",
       "3748            0  0.091863                    0                   1   \n",
       "1516            0  0.024955                    0                   1   \n",
       "1364            0  0.023146                    0                   1   \n",
       "1735            0  0.002893                    1                   0   \n",
       "...           ...       ...                  ...                 ...   \n",
       "2004            0  0.145389                    1                   0   \n",
       "2868            0  0.061121                    1                   0   \n",
       "3503            0  0.082459                    1                   0   \n",
       "2280            0  0.000362                    1                   0   \n",
       "2120            0  0.080651                    0                   1   \n",
       "\n",
       "      education_unknown  ...  month_mar  month_may  month_nov  month_oct  \\\n",
       "4209                  0  ...          0          0          0          0   \n",
       "3748                  0  ...          0          0          1          0   \n",
       "1516                  0  ...          0          0          0          0   \n",
       "1364                  0  ...          0          0          0          0   \n",
       "1735                  0  ...          0          0          0          0   \n",
       "...                 ...  ...        ...        ...        ...        ...   \n",
       "2004                  0  ...          0          0          0          0   \n",
       "2868                  0  ...          0          1          0          0   \n",
       "3503                  0  ...          0          0          0          0   \n",
       "2280                  0  ...          0          1          0          0   \n",
       "2120                  0  ...          0          0          1          0   \n",
       "\n",
       "      month_sep     pdays  poutcome_other  poutcome_success  poutcome_unknown  \\\n",
       "4209          0  0.000000               0                 0                 1   \n",
       "3748          0  0.000000               0                 0                 1   \n",
       "1516          0  0.000000               0                 0                 1   \n",
       "1364          0  0.000000               0                 0                 1   \n",
       "1735          0  0.000000               0                 0                 1   \n",
       "...         ...       ...             ...               ...               ...   \n",
       "2004          0  0.364679               0                 0                 0   \n",
       "2868          0  0.000000               0                 0                 1   \n",
       "3503          0  0.000000               0                 0                 1   \n",
       "2280          0  0.000000               0                 0                 1   \n",
       "2120          0  0.000000               0                 0                 1   \n",
       "\n",
       "      previous  \n",
       "4209  0.000000  \n",
       "3748  0.000000  \n",
       "1516  0.000000  \n",
       "1364  0.000000  \n",
       "1735  0.000000  \n",
       "...        ...  \n",
       "2004  0.041667  \n",
       "2868  0.000000  \n",
       "3503  0.000000  \n",
       "2280  0.000000  \n",
       "2120  0.000000  \n",
       "\n",
       "[3164 rows x 41 columns]"
      ]
     },
     "execution_count": 25,
     "metadata": {},
     "output_type": "execute_result"
    }
   ],
   "source": [
    "X_train"
   ]
  },
  {
   "cell_type": "code",
   "execution_count": 26,
   "metadata": {},
   "outputs": [],
   "source": [
    "# import statsmodels.api as sm\n",
    "# # "
   ]
  },
  {
   "cell_type": "code",
   "execution_count": 27,
   "metadata": {},
   "outputs": [],
   "source": [
    "# X_train = sm.add_constant(X_train)\n",
    "# X_test = sm.add_constant(X_test)"
   ]
  },
  {
   "cell_type": "markdown",
   "metadata": {},
   "source": [
    "### Model Building"
   ]
  },
  {
   "cell_type": "code",
   "execution_count": 28,
   "metadata": {},
   "outputs": [],
   "source": [
    "# X_train.columns"
   ]
  },
  {
   "cell_type": "code",
   "execution_count": 29,
   "metadata": {},
   "outputs": [],
   "source": [
    "# logit_model=sm.Logit(y_train,X_train)\n",
    "# result=logit_model.fit()\n",
    "# print(result.summary2())"
   ]
  },
  {
   "cell_type": "code",
   "execution_count": 30,
   "metadata": {},
   "outputs": [],
   "source": [
    "# X_train[['age','const']][:5]"
   ]
  },
  {
   "cell_type": "code",
   "execution_count": 31,
   "metadata": {},
   "outputs": [],
   "source": [
    "# train_preds[:5]"
   ]
  },
  {
   "cell_type": "code",
   "execution_count": 32,
   "metadata": {},
   "outputs": [],
   "source": [
    "# train_preds = result.predict(X_train[['age','const']])\n",
    "# #train_preds_prob=result.predict_proba(X_train[['age','const']])[:,1]\n",
    "# #test_preds = result.predict(X_test[['age','const']])\n",
    "# #test_preds_prob=result.predict_proba(X_test[['age','const']])[:,1]"
   ]
  },
  {
   "cell_type": "markdown",
   "metadata": {},
   "source": [
    "### Logistic Regression"
   ]
  },
  {
   "cell_type": "code",
   "execution_count": 33,
   "metadata": {},
   "outputs": [
    {
     "data": {
      "text/plain": [
       "LogisticRegression(penalty='none')"
      ]
     },
     "execution_count": 33,
     "metadata": {},
     "output_type": "execute_result"
    }
   ],
   "source": [
    "logistic_model = LogisticRegression(penalty='none')\n",
    "\n",
    "logistic_model.fit(X_train,y_train)"
   ]
  },
  {
   "cell_type": "markdown",
   "metadata": {},
   "source": [
    "### Generating predictions"
   ]
  },
  {
   "cell_type": "code",
   "execution_count": 34,
   "metadata": {},
   "outputs": [],
   "source": [
    "train_preds = logistic_model.predict(X_train)\n",
    "train_preds_prob=logistic_model.predict_proba(X_train)[:,1]\n",
    "test_preds = logistic_model.predict(X_test)\n",
    "test_preds_prob=logistic_model.predict_proba(X_test)[:,1]"
   ]
  },
  {
   "cell_type": "code",
   "execution_count": 35,
   "metadata": {},
   "outputs": [
    {
     "data": {
      "text/plain": [
       "array([1, 0, 0, 0, 0], dtype=int64)"
      ]
     },
     "execution_count": 35,
     "metadata": {},
     "output_type": "execute_result"
    }
   ],
   "source": [
    "train_preds[:5]"
   ]
  },
  {
   "cell_type": "code",
   "execution_count": 36,
   "metadata": {},
   "outputs": [
    {
     "data": {
      "text/plain": [
       "array([0.85660646, 0.08080151, 0.01944842, 0.02104828, 0.02292423])"
      ]
     },
     "execution_count": 36,
     "metadata": {},
     "output_type": "execute_result"
    }
   ],
   "source": [
    "train_preds_prob[:5]"
   ]
  },
  {
   "cell_type": "code",
   "execution_count": 37,
   "metadata": {},
   "outputs": [
    {
     "data": {
      "text/plain": [
       "array([[-0.28198269,  0.07760227, -3.11116351, -0.01484557, -1.55760149,\n",
       "         0.46326696, 13.01405766,  0.20153961,  0.53015509, -0.14798311,\n",
       "        -0.33573048, -0.18992016,  0.05347582, -0.25613026, -0.17015522,\n",
       "         0.5824729 , -0.22984521, -0.11870207,  0.5880833 , -0.2210737 ,\n",
       "        -0.57917608,  0.80469858, -0.83535413, -0.61460343, -0.5365956 ,\n",
       "        -0.46237465,  0.21990313,  0.05012589, -0.72730644, -0.89547102,\n",
       "         0.57381026,  1.62401157, -0.42127306, -0.77760973,  1.40500977,\n",
       "         0.53082428, -0.39458411,  0.45313794,  2.5189402 ,  0.0562126 ,\n",
       "        -0.14148761]])"
      ]
     },
     "execution_count": 37,
     "metadata": {},
     "output_type": "execute_result"
    }
   ],
   "source": [
    "logistic_model.coef_"
   ]
  },
  {
   "cell_type": "markdown",
   "metadata": {},
   "source": [
    "### Confusion Matrix"
   ]
  },
  {
   "cell_type": "code",
   "execution_count": 38,
   "metadata": {},
   "outputs": [
    {
     "data": {
      "text/plain": [
       "array([[2719,   63],\n",
       "       [ 238,  144]], dtype=int64)"
      ]
     },
     "execution_count": 38,
     "metadata": {},
     "output_type": "execute_result"
    }
   ],
   "source": [
    "confusion_matrix(y_train,train_preds)"
   ]
  },
  {
   "cell_type": "code",
   "execution_count": 39,
   "metadata": {},
   "outputs": [],
   "source": [
    "train_accuracy_1= accuracy_score(y_train,train_preds)\n",
    "train_recall_1= recall_score(y_train,train_preds)\n",
    "train_precision_1= precision_score(y_train,train_preds)\n",
    "\n",
    "test_accuracy_1= accuracy_score(y_test,test_preds)\n",
    "test_recall_1= recall_score(y_test,test_preds)\n",
    "test_precision_1= precision_score(y_test,test_preds)"
   ]
  },
  {
   "cell_type": "code",
   "execution_count": 40,
   "metadata": {},
   "outputs": [
    {
     "name": "stdout",
     "output_type": "stream",
     "text": [
      "0.9048672566371682\n",
      "0.3769633507853403\n",
      "0.6956521739130435\n",
      "0.9056742815033162\n",
      "0.35251798561151076\n",
      "0.5632183908045977\n"
     ]
    }
   ],
   "source": [
    "print(train_accuracy_1)\n",
    "print(train_recall_1)\n",
    "print(train_precision_1)\n",
    "\n",
    "print(test_accuracy_1)\n",
    "print(test_recall_1)\n",
    "print(test_precision_1)"
   ]
  },
  {
   "cell_type": "code",
   "execution_count": 41,
   "metadata": {},
   "outputs": [
    {
     "name": "stdout",
     "output_type": "stream",
     "text": [
      "              precision    recall  f1-score   support\n",
      "\n",
      "           0       0.92      0.98      0.95      2782\n",
      "           1       0.70      0.38      0.49       382\n",
      "\n",
      "    accuracy                           0.90      3164\n",
      "   macro avg       0.81      0.68      0.72      3164\n",
      "weighted avg       0.89      0.90      0.89      3164\n",
      "\n"
     ]
    }
   ],
   "source": [
    "#Classification report\n",
    "print(classification_report(y_train,train_preds))"
   ]
  },
  {
   "cell_type": "code",
   "execution_count": 42,
   "metadata": {},
   "outputs": [
    {
     "name": "stdout",
     "output_type": "stream",
     "text": [
      "              precision    recall  f1-score   support\n",
      "\n",
      "           0       0.93      0.97      0.95      1218\n",
      "           1       0.56      0.35      0.43       139\n",
      "\n",
      "    accuracy                           0.91      1357\n",
      "   macro avg       0.75      0.66      0.69      1357\n",
      "weighted avg       0.89      0.91      0.90      1357\n",
      "\n"
     ]
    }
   ],
   "source": [
    "print(classification_report(y_test,test_preds))"
   ]
  },
  {
   "cell_type": "markdown",
   "metadata": {},
   "source": [
    "### ROC and AUC"
   ]
  },
  {
   "cell_type": "code",
   "execution_count": 43,
   "metadata": {},
   "outputs": [],
   "source": [
    "fpr, tpr, threshold = roc_curve(y_train, train_preds_prob)\n",
    "roc_auc = auc(fpr, tpr)"
   ]
  },
  {
   "cell_type": "code",
   "execution_count": 44,
   "metadata": {
    "scrolled": true
   },
   "outputs": [
    {
     "data": {
      "application/javascript": [
       "/* Put everything inside the global mpl namespace */\n",
       "/* global mpl */\n",
       "window.mpl = {};\n",
       "\n",
       "mpl.get_websocket_type = function () {\n",
       "    if (typeof WebSocket !== 'undefined') {\n",
       "        return WebSocket;\n",
       "    } else if (typeof MozWebSocket !== 'undefined') {\n",
       "        return MozWebSocket;\n",
       "    } else {\n",
       "        alert(\n",
       "            'Your browser does not have WebSocket support. ' +\n",
       "                'Please try Chrome, Safari or Firefox ≥ 6. ' +\n",
       "                'Firefox 4 and 5 are also supported but you ' +\n",
       "                'have to enable WebSockets in about:config.'\n",
       "        );\n",
       "    }\n",
       "};\n",
       "\n",
       "mpl.figure = function (figure_id, websocket, ondownload, parent_element) {\n",
       "    this.id = figure_id;\n",
       "\n",
       "    this.ws = websocket;\n",
       "\n",
       "    this.supports_binary = this.ws.binaryType !== undefined;\n",
       "\n",
       "    if (!this.supports_binary) {\n",
       "        var warnings = document.getElementById('mpl-warnings');\n",
       "        if (warnings) {\n",
       "            warnings.style.display = 'block';\n",
       "            warnings.textContent =\n",
       "                'This browser does not support binary websocket messages. ' +\n",
       "                'Performance may be slow.';\n",
       "        }\n",
       "    }\n",
       "\n",
       "    this.imageObj = new Image();\n",
       "\n",
       "    this.context = undefined;\n",
       "    this.message = undefined;\n",
       "    this.canvas = undefined;\n",
       "    this.rubberband_canvas = undefined;\n",
       "    this.rubberband_context = undefined;\n",
       "    this.format_dropdown = undefined;\n",
       "\n",
       "    this.image_mode = 'full';\n",
       "\n",
       "    this.root = document.createElement('div');\n",
       "    this.root.setAttribute('style', 'display: inline-block');\n",
       "    this._root_extra_style(this.root);\n",
       "\n",
       "    parent_element.appendChild(this.root);\n",
       "\n",
       "    this._init_header(this);\n",
       "    this._init_canvas(this);\n",
       "    this._init_toolbar(this);\n",
       "\n",
       "    var fig = this;\n",
       "\n",
       "    this.waiting = false;\n",
       "\n",
       "    this.ws.onopen = function () {\n",
       "        fig.send_message('supports_binary', { value: fig.supports_binary });\n",
       "        fig.send_message('send_image_mode', {});\n",
       "        if (fig.ratio !== 1) {\n",
       "            fig.send_message('set_device_pixel_ratio', {\n",
       "                device_pixel_ratio: fig.ratio,\n",
       "            });\n",
       "        }\n",
       "        fig.send_message('refresh', {});\n",
       "    };\n",
       "\n",
       "    this.imageObj.onload = function () {\n",
       "        if (fig.image_mode === 'full') {\n",
       "            // Full images could contain transparency (where diff images\n",
       "            // almost always do), so we need to clear the canvas so that\n",
       "            // there is no ghosting.\n",
       "            fig.context.clearRect(0, 0, fig.canvas.width, fig.canvas.height);\n",
       "        }\n",
       "        fig.context.drawImage(fig.imageObj, 0, 0);\n",
       "    };\n",
       "\n",
       "    this.imageObj.onunload = function () {\n",
       "        fig.ws.close();\n",
       "    };\n",
       "\n",
       "    this.ws.onmessage = this._make_on_message_function(this);\n",
       "\n",
       "    this.ondownload = ondownload;\n",
       "};\n",
       "\n",
       "mpl.figure.prototype._init_header = function () {\n",
       "    var titlebar = document.createElement('div');\n",
       "    titlebar.classList =\n",
       "        'ui-dialog-titlebar ui-widget-header ui-corner-all ui-helper-clearfix';\n",
       "    var titletext = document.createElement('div');\n",
       "    titletext.classList = 'ui-dialog-title';\n",
       "    titletext.setAttribute(\n",
       "        'style',\n",
       "        'width: 100%; text-align: center; padding: 3px;'\n",
       "    );\n",
       "    titlebar.appendChild(titletext);\n",
       "    this.root.appendChild(titlebar);\n",
       "    this.header = titletext;\n",
       "};\n",
       "\n",
       "mpl.figure.prototype._canvas_extra_style = function (_canvas_div) {};\n",
       "\n",
       "mpl.figure.prototype._root_extra_style = function (_canvas_div) {};\n",
       "\n",
       "mpl.figure.prototype._init_canvas = function () {\n",
       "    var fig = this;\n",
       "\n",
       "    var canvas_div = (this.canvas_div = document.createElement('div'));\n",
       "    canvas_div.setAttribute(\n",
       "        'style',\n",
       "        'border: 1px solid #ddd;' +\n",
       "            'box-sizing: content-box;' +\n",
       "            'clear: both;' +\n",
       "            'min-height: 1px;' +\n",
       "            'min-width: 1px;' +\n",
       "            'outline: 0;' +\n",
       "            'overflow: hidden;' +\n",
       "            'position: relative;' +\n",
       "            'resize: both;'\n",
       "    );\n",
       "\n",
       "    function on_keyboard_event_closure(name) {\n",
       "        return function (event) {\n",
       "            return fig.key_event(event, name);\n",
       "        };\n",
       "    }\n",
       "\n",
       "    canvas_div.addEventListener(\n",
       "        'keydown',\n",
       "        on_keyboard_event_closure('key_press')\n",
       "    );\n",
       "    canvas_div.addEventListener(\n",
       "        'keyup',\n",
       "        on_keyboard_event_closure('key_release')\n",
       "    );\n",
       "\n",
       "    this._canvas_extra_style(canvas_div);\n",
       "    this.root.appendChild(canvas_div);\n",
       "\n",
       "    var canvas = (this.canvas = document.createElement('canvas'));\n",
       "    canvas.classList.add('mpl-canvas');\n",
       "    canvas.setAttribute('style', 'box-sizing: content-box;');\n",
       "\n",
       "    this.context = canvas.getContext('2d');\n",
       "\n",
       "    var backingStore =\n",
       "        this.context.backingStorePixelRatio ||\n",
       "        this.context.webkitBackingStorePixelRatio ||\n",
       "        this.context.mozBackingStorePixelRatio ||\n",
       "        this.context.msBackingStorePixelRatio ||\n",
       "        this.context.oBackingStorePixelRatio ||\n",
       "        this.context.backingStorePixelRatio ||\n",
       "        1;\n",
       "\n",
       "    this.ratio = (window.devicePixelRatio || 1) / backingStore;\n",
       "\n",
       "    var rubberband_canvas = (this.rubberband_canvas = document.createElement(\n",
       "        'canvas'\n",
       "    ));\n",
       "    rubberband_canvas.setAttribute(\n",
       "        'style',\n",
       "        'box-sizing: content-box; position: absolute; left: 0; top: 0; z-index: 1;'\n",
       "    );\n",
       "\n",
       "    // Apply a ponyfill if ResizeObserver is not implemented by browser.\n",
       "    if (this.ResizeObserver === undefined) {\n",
       "        if (window.ResizeObserver !== undefined) {\n",
       "            this.ResizeObserver = window.ResizeObserver;\n",
       "        } else {\n",
       "            var obs = _JSXTOOLS_RESIZE_OBSERVER({});\n",
       "            this.ResizeObserver = obs.ResizeObserver;\n",
       "        }\n",
       "    }\n",
       "\n",
       "    this.resizeObserverInstance = new this.ResizeObserver(function (entries) {\n",
       "        var nentries = entries.length;\n",
       "        for (var i = 0; i < nentries; i++) {\n",
       "            var entry = entries[i];\n",
       "            var width, height;\n",
       "            if (entry.contentBoxSize) {\n",
       "                if (entry.contentBoxSize instanceof Array) {\n",
       "                    // Chrome 84 implements new version of spec.\n",
       "                    width = entry.contentBoxSize[0].inlineSize;\n",
       "                    height = entry.contentBoxSize[0].blockSize;\n",
       "                } else {\n",
       "                    // Firefox implements old version of spec.\n",
       "                    width = entry.contentBoxSize.inlineSize;\n",
       "                    height = entry.contentBoxSize.blockSize;\n",
       "                }\n",
       "            } else {\n",
       "                // Chrome <84 implements even older version of spec.\n",
       "                width = entry.contentRect.width;\n",
       "                height = entry.contentRect.height;\n",
       "            }\n",
       "\n",
       "            // Keep the size of the canvas and rubber band canvas in sync with\n",
       "            // the canvas container.\n",
       "            if (entry.devicePixelContentBoxSize) {\n",
       "                // Chrome 84 implements new version of spec.\n",
       "                canvas.setAttribute(\n",
       "                    'width',\n",
       "                    entry.devicePixelContentBoxSize[0].inlineSize\n",
       "                );\n",
       "                canvas.setAttribute(\n",
       "                    'height',\n",
       "                    entry.devicePixelContentBoxSize[0].blockSize\n",
       "                );\n",
       "            } else {\n",
       "                canvas.setAttribute('width', width * fig.ratio);\n",
       "                canvas.setAttribute('height', height * fig.ratio);\n",
       "            }\n",
       "            canvas.setAttribute(\n",
       "                'style',\n",
       "                'width: ' + width + 'px; height: ' + height + 'px;'\n",
       "            );\n",
       "\n",
       "            rubberband_canvas.setAttribute('width', width);\n",
       "            rubberband_canvas.setAttribute('height', height);\n",
       "\n",
       "            // And update the size in Python. We ignore the initial 0/0 size\n",
       "            // that occurs as the element is placed into the DOM, which should\n",
       "            // otherwise not happen due to the minimum size styling.\n",
       "            if (fig.ws.readyState == 1 && width != 0 && height != 0) {\n",
       "                fig.request_resize(width, height);\n",
       "            }\n",
       "        }\n",
       "    });\n",
       "    this.resizeObserverInstance.observe(canvas_div);\n",
       "\n",
       "    function on_mouse_event_closure(name) {\n",
       "        return function (event) {\n",
       "            return fig.mouse_event(event, name);\n",
       "        };\n",
       "    }\n",
       "\n",
       "    rubberband_canvas.addEventListener(\n",
       "        'mousedown',\n",
       "        on_mouse_event_closure('button_press')\n",
       "    );\n",
       "    rubberband_canvas.addEventListener(\n",
       "        'mouseup',\n",
       "        on_mouse_event_closure('button_release')\n",
       "    );\n",
       "    rubberband_canvas.addEventListener(\n",
       "        'dblclick',\n",
       "        on_mouse_event_closure('dblclick')\n",
       "    );\n",
       "    // Throttle sequential mouse events to 1 every 20ms.\n",
       "    rubberband_canvas.addEventListener(\n",
       "        'mousemove',\n",
       "        on_mouse_event_closure('motion_notify')\n",
       "    );\n",
       "\n",
       "    rubberband_canvas.addEventListener(\n",
       "        'mouseenter',\n",
       "        on_mouse_event_closure('figure_enter')\n",
       "    );\n",
       "    rubberband_canvas.addEventListener(\n",
       "        'mouseleave',\n",
       "        on_mouse_event_closure('figure_leave')\n",
       "    );\n",
       "\n",
       "    canvas_div.addEventListener('wheel', function (event) {\n",
       "        if (event.deltaY < 0) {\n",
       "            event.step = 1;\n",
       "        } else {\n",
       "            event.step = -1;\n",
       "        }\n",
       "        on_mouse_event_closure('scroll')(event);\n",
       "    });\n",
       "\n",
       "    canvas_div.appendChild(canvas);\n",
       "    canvas_div.appendChild(rubberband_canvas);\n",
       "\n",
       "    this.rubberband_context = rubberband_canvas.getContext('2d');\n",
       "    this.rubberband_context.strokeStyle = '#000000';\n",
       "\n",
       "    this._resize_canvas = function (width, height, forward) {\n",
       "        if (forward) {\n",
       "            canvas_div.style.width = width + 'px';\n",
       "            canvas_div.style.height = height + 'px';\n",
       "        }\n",
       "    };\n",
       "\n",
       "    // Disable right mouse context menu.\n",
       "    this.rubberband_canvas.addEventListener('contextmenu', function (_e) {\n",
       "        event.preventDefault();\n",
       "        return false;\n",
       "    });\n",
       "\n",
       "    function set_focus() {\n",
       "        canvas.focus();\n",
       "        canvas_div.focus();\n",
       "    }\n",
       "\n",
       "    window.setTimeout(set_focus, 100);\n",
       "};\n",
       "\n",
       "mpl.figure.prototype._init_toolbar = function () {\n",
       "    var fig = this;\n",
       "\n",
       "    var toolbar = document.createElement('div');\n",
       "    toolbar.classList = 'mpl-toolbar';\n",
       "    this.root.appendChild(toolbar);\n",
       "\n",
       "    function on_click_closure(name) {\n",
       "        return function (_event) {\n",
       "            return fig.toolbar_button_onclick(name);\n",
       "        };\n",
       "    }\n",
       "\n",
       "    function on_mouseover_closure(tooltip) {\n",
       "        return function (event) {\n",
       "            if (!event.currentTarget.disabled) {\n",
       "                return fig.toolbar_button_onmouseover(tooltip);\n",
       "            }\n",
       "        };\n",
       "    }\n",
       "\n",
       "    fig.buttons = {};\n",
       "    var buttonGroup = document.createElement('div');\n",
       "    buttonGroup.classList = 'mpl-button-group';\n",
       "    for (var toolbar_ind in mpl.toolbar_items) {\n",
       "        var name = mpl.toolbar_items[toolbar_ind][0];\n",
       "        var tooltip = mpl.toolbar_items[toolbar_ind][1];\n",
       "        var image = mpl.toolbar_items[toolbar_ind][2];\n",
       "        var method_name = mpl.toolbar_items[toolbar_ind][3];\n",
       "\n",
       "        if (!name) {\n",
       "            /* Instead of a spacer, we start a new button group. */\n",
       "            if (buttonGroup.hasChildNodes()) {\n",
       "                toolbar.appendChild(buttonGroup);\n",
       "            }\n",
       "            buttonGroup = document.createElement('div');\n",
       "            buttonGroup.classList = 'mpl-button-group';\n",
       "            continue;\n",
       "        }\n",
       "\n",
       "        var button = (fig.buttons[name] = document.createElement('button'));\n",
       "        button.classList = 'mpl-widget';\n",
       "        button.setAttribute('role', 'button');\n",
       "        button.setAttribute('aria-disabled', 'false');\n",
       "        button.addEventListener('click', on_click_closure(method_name));\n",
       "        button.addEventListener('mouseover', on_mouseover_closure(tooltip));\n",
       "\n",
       "        var icon_img = document.createElement('img');\n",
       "        icon_img.src = '_images/' + image + '.png';\n",
       "        icon_img.srcset = '_images/' + image + '_large.png 2x';\n",
       "        icon_img.alt = tooltip;\n",
       "        button.appendChild(icon_img);\n",
       "\n",
       "        buttonGroup.appendChild(button);\n",
       "    }\n",
       "\n",
       "    if (buttonGroup.hasChildNodes()) {\n",
       "        toolbar.appendChild(buttonGroup);\n",
       "    }\n",
       "\n",
       "    var fmt_picker = document.createElement('select');\n",
       "    fmt_picker.classList = 'mpl-widget';\n",
       "    toolbar.appendChild(fmt_picker);\n",
       "    this.format_dropdown = fmt_picker;\n",
       "\n",
       "    for (var ind in mpl.extensions) {\n",
       "        var fmt = mpl.extensions[ind];\n",
       "        var option = document.createElement('option');\n",
       "        option.selected = fmt === mpl.default_extension;\n",
       "        option.innerHTML = fmt;\n",
       "        fmt_picker.appendChild(option);\n",
       "    }\n",
       "\n",
       "    var status_bar = document.createElement('span');\n",
       "    status_bar.classList = 'mpl-message';\n",
       "    toolbar.appendChild(status_bar);\n",
       "    this.message = status_bar;\n",
       "};\n",
       "\n",
       "mpl.figure.prototype.request_resize = function (x_pixels, y_pixels) {\n",
       "    // Request matplotlib to resize the figure. Matplotlib will then trigger a resize in the client,\n",
       "    // which will in turn request a refresh of the image.\n",
       "    this.send_message('resize', { width: x_pixels, height: y_pixels });\n",
       "};\n",
       "\n",
       "mpl.figure.prototype.send_message = function (type, properties) {\n",
       "    properties['type'] = type;\n",
       "    properties['figure_id'] = this.id;\n",
       "    this.ws.send(JSON.stringify(properties));\n",
       "};\n",
       "\n",
       "mpl.figure.prototype.send_draw_message = function () {\n",
       "    if (!this.waiting) {\n",
       "        this.waiting = true;\n",
       "        this.ws.send(JSON.stringify({ type: 'draw', figure_id: this.id }));\n",
       "    }\n",
       "};\n",
       "\n",
       "mpl.figure.prototype.handle_save = function (fig, _msg) {\n",
       "    var format_dropdown = fig.format_dropdown;\n",
       "    var format = format_dropdown.options[format_dropdown.selectedIndex].value;\n",
       "    fig.ondownload(fig, format);\n",
       "};\n",
       "\n",
       "mpl.figure.prototype.handle_resize = function (fig, msg) {\n",
       "    var size = msg['size'];\n",
       "    if (size[0] !== fig.canvas.width || size[1] !== fig.canvas.height) {\n",
       "        fig._resize_canvas(size[0], size[1], msg['forward']);\n",
       "        fig.send_message('refresh', {});\n",
       "    }\n",
       "};\n",
       "\n",
       "mpl.figure.prototype.handle_rubberband = function (fig, msg) {\n",
       "    var x0 = msg['x0'] / fig.ratio;\n",
       "    var y0 = (fig.canvas.height - msg['y0']) / fig.ratio;\n",
       "    var x1 = msg['x1'] / fig.ratio;\n",
       "    var y1 = (fig.canvas.height - msg['y1']) / fig.ratio;\n",
       "    x0 = Math.floor(x0) + 0.5;\n",
       "    y0 = Math.floor(y0) + 0.5;\n",
       "    x1 = Math.floor(x1) + 0.5;\n",
       "    y1 = Math.floor(y1) + 0.5;\n",
       "    var min_x = Math.min(x0, x1);\n",
       "    var min_y = Math.min(y0, y1);\n",
       "    var width = Math.abs(x1 - x0);\n",
       "    var height = Math.abs(y1 - y0);\n",
       "\n",
       "    fig.rubberband_context.clearRect(\n",
       "        0,\n",
       "        0,\n",
       "        fig.canvas.width / fig.ratio,\n",
       "        fig.canvas.height / fig.ratio\n",
       "    );\n",
       "\n",
       "    fig.rubberband_context.strokeRect(min_x, min_y, width, height);\n",
       "};\n",
       "\n",
       "mpl.figure.prototype.handle_figure_label = function (fig, msg) {\n",
       "    // Updates the figure title.\n",
       "    fig.header.textContent = msg['label'];\n",
       "};\n",
       "\n",
       "mpl.figure.prototype.handle_cursor = function (fig, msg) {\n",
       "    fig.rubberband_canvas.style.cursor = msg['cursor'];\n",
       "};\n",
       "\n",
       "mpl.figure.prototype.handle_message = function (fig, msg) {\n",
       "    fig.message.textContent = msg['message'];\n",
       "};\n",
       "\n",
       "mpl.figure.prototype.handle_draw = function (fig, _msg) {\n",
       "    // Request the server to send over a new figure.\n",
       "    fig.send_draw_message();\n",
       "};\n",
       "\n",
       "mpl.figure.prototype.handle_image_mode = function (fig, msg) {\n",
       "    fig.image_mode = msg['mode'];\n",
       "};\n",
       "\n",
       "mpl.figure.prototype.handle_history_buttons = function (fig, msg) {\n",
       "    for (var key in msg) {\n",
       "        if (!(key in fig.buttons)) {\n",
       "            continue;\n",
       "        }\n",
       "        fig.buttons[key].disabled = !msg[key];\n",
       "        fig.buttons[key].setAttribute('aria-disabled', !msg[key]);\n",
       "    }\n",
       "};\n",
       "\n",
       "mpl.figure.prototype.handle_navigate_mode = function (fig, msg) {\n",
       "    if (msg['mode'] === 'PAN') {\n",
       "        fig.buttons['Pan'].classList.add('active');\n",
       "        fig.buttons['Zoom'].classList.remove('active');\n",
       "    } else if (msg['mode'] === 'ZOOM') {\n",
       "        fig.buttons['Pan'].classList.remove('active');\n",
       "        fig.buttons['Zoom'].classList.add('active');\n",
       "    } else {\n",
       "        fig.buttons['Pan'].classList.remove('active');\n",
       "        fig.buttons['Zoom'].classList.remove('active');\n",
       "    }\n",
       "};\n",
       "\n",
       "mpl.figure.prototype.updated_canvas_event = function () {\n",
       "    // Called whenever the canvas gets updated.\n",
       "    this.send_message('ack', {});\n",
       "};\n",
       "\n",
       "// A function to construct a web socket function for onmessage handling.\n",
       "// Called in the figure constructor.\n",
       "mpl.figure.prototype._make_on_message_function = function (fig) {\n",
       "    return function socket_on_message(evt) {\n",
       "        if (evt.data instanceof Blob) {\n",
       "            var img = evt.data;\n",
       "            if (img.type !== 'image/png') {\n",
       "                /* FIXME: We get \"Resource interpreted as Image but\n",
       "                 * transferred with MIME type text/plain:\" errors on\n",
       "                 * Chrome.  But how to set the MIME type?  It doesn't seem\n",
       "                 * to be part of the websocket stream */\n",
       "                img.type = 'image/png';\n",
       "            }\n",
       "\n",
       "            /* Free the memory for the previous frames */\n",
       "            if (fig.imageObj.src) {\n",
       "                (window.URL || window.webkitURL).revokeObjectURL(\n",
       "                    fig.imageObj.src\n",
       "                );\n",
       "            }\n",
       "\n",
       "            fig.imageObj.src = (window.URL || window.webkitURL).createObjectURL(\n",
       "                img\n",
       "            );\n",
       "            fig.updated_canvas_event();\n",
       "            fig.waiting = false;\n",
       "            return;\n",
       "        } else if (\n",
       "            typeof evt.data === 'string' &&\n",
       "            evt.data.slice(0, 21) === 'data:image/png;base64'\n",
       "        ) {\n",
       "            fig.imageObj.src = evt.data;\n",
       "            fig.updated_canvas_event();\n",
       "            fig.waiting = false;\n",
       "            return;\n",
       "        }\n",
       "\n",
       "        var msg = JSON.parse(evt.data);\n",
       "        var msg_type = msg['type'];\n",
       "\n",
       "        // Call the  \"handle_{type}\" callback, which takes\n",
       "        // the figure and JSON message as its only arguments.\n",
       "        try {\n",
       "            var callback = fig['handle_' + msg_type];\n",
       "        } catch (e) {\n",
       "            console.log(\n",
       "                \"No handler for the '\" + msg_type + \"' message type: \",\n",
       "                msg\n",
       "            );\n",
       "            return;\n",
       "        }\n",
       "\n",
       "        if (callback) {\n",
       "            try {\n",
       "                // console.log(\"Handling '\" + msg_type + \"' message: \", msg);\n",
       "                callback(fig, msg);\n",
       "            } catch (e) {\n",
       "                console.log(\n",
       "                    \"Exception inside the 'handler_\" + msg_type + \"' callback:\",\n",
       "                    e,\n",
       "                    e.stack,\n",
       "                    msg\n",
       "                );\n",
       "            }\n",
       "        }\n",
       "    };\n",
       "};\n",
       "\n",
       "// from https://stackoverflow.com/questions/1114465/getting-mouse-location-in-canvas\n",
       "mpl.findpos = function (e) {\n",
       "    //this section is from http://www.quirksmode.org/js/events_properties.html\n",
       "    var targ;\n",
       "    if (!e) {\n",
       "        e = window.event;\n",
       "    }\n",
       "    if (e.target) {\n",
       "        targ = e.target;\n",
       "    } else if (e.srcElement) {\n",
       "        targ = e.srcElement;\n",
       "    }\n",
       "    if (targ.nodeType === 3) {\n",
       "        // defeat Safari bug\n",
       "        targ = targ.parentNode;\n",
       "    }\n",
       "\n",
       "    // pageX,Y are the mouse positions relative to the document\n",
       "    var boundingRect = targ.getBoundingClientRect();\n",
       "    var x = e.pageX - (boundingRect.left + document.body.scrollLeft);\n",
       "    var y = e.pageY - (boundingRect.top + document.body.scrollTop);\n",
       "\n",
       "    return { x: x, y: y };\n",
       "};\n",
       "\n",
       "/*\n",
       " * return a copy of an object with only non-object keys\n",
       " * we need this to avoid circular references\n",
       " * https://stackoverflow.com/a/24161582/3208463\n",
       " */\n",
       "function simpleKeys(original) {\n",
       "    return Object.keys(original).reduce(function (obj, key) {\n",
       "        if (typeof original[key] !== 'object') {\n",
       "            obj[key] = original[key];\n",
       "        }\n",
       "        return obj;\n",
       "    }, {});\n",
       "}\n",
       "\n",
       "mpl.figure.prototype.mouse_event = function (event, name) {\n",
       "    var canvas_pos = mpl.findpos(event);\n",
       "\n",
       "    if (name === 'button_press') {\n",
       "        this.canvas.focus();\n",
       "        this.canvas_div.focus();\n",
       "    }\n",
       "\n",
       "    var x = canvas_pos.x * this.ratio;\n",
       "    var y = canvas_pos.y * this.ratio;\n",
       "\n",
       "    this.send_message(name, {\n",
       "        x: x,\n",
       "        y: y,\n",
       "        button: event.button,\n",
       "        step: event.step,\n",
       "        guiEvent: simpleKeys(event),\n",
       "    });\n",
       "\n",
       "    /* This prevents the web browser from automatically changing to\n",
       "     * the text insertion cursor when the button is pressed.  We want\n",
       "     * to control all of the cursor setting manually through the\n",
       "     * 'cursor' event from matplotlib */\n",
       "    event.preventDefault();\n",
       "    return false;\n",
       "};\n",
       "\n",
       "mpl.figure.prototype._key_event_extra = function (_event, _name) {\n",
       "    // Handle any extra behaviour associated with a key event\n",
       "};\n",
       "\n",
       "mpl.figure.prototype.key_event = function (event, name) {\n",
       "    // Prevent repeat events\n",
       "    if (name === 'key_press') {\n",
       "        if (event.key === this._key) {\n",
       "            return;\n",
       "        } else {\n",
       "            this._key = event.key;\n",
       "        }\n",
       "    }\n",
       "    if (name === 'key_release') {\n",
       "        this._key = null;\n",
       "    }\n",
       "\n",
       "    var value = '';\n",
       "    if (event.ctrlKey && event.key !== 'Control') {\n",
       "        value += 'ctrl+';\n",
       "    }\n",
       "    else if (event.altKey && event.key !== 'Alt') {\n",
       "        value += 'alt+';\n",
       "    }\n",
       "    else if (event.shiftKey && event.key !== 'Shift') {\n",
       "        value += 'shift+';\n",
       "    }\n",
       "\n",
       "    value += 'k' + event.key;\n",
       "\n",
       "    this._key_event_extra(event, name);\n",
       "\n",
       "    this.send_message(name, { key: value, guiEvent: simpleKeys(event) });\n",
       "    return false;\n",
       "};\n",
       "\n",
       "mpl.figure.prototype.toolbar_button_onclick = function (name) {\n",
       "    if (name === 'download') {\n",
       "        this.handle_save(this, null);\n",
       "    } else {\n",
       "        this.send_message('toolbar_button', { name: name });\n",
       "    }\n",
       "};\n",
       "\n",
       "mpl.figure.prototype.toolbar_button_onmouseover = function (tooltip) {\n",
       "    this.message.textContent = tooltip;\n",
       "};\n",
       "\n",
       "///////////////// REMAINING CONTENT GENERATED BY embed_js.py /////////////////\n",
       "// prettier-ignore\n",
       "var _JSXTOOLS_RESIZE_OBSERVER=function(A){var t,i=new WeakMap,n=new WeakMap,a=new WeakMap,r=new WeakMap,o=new Set;function s(e){if(!(this instanceof s))throw new TypeError(\"Constructor requires 'new' operator\");i.set(this,e)}function h(){throw new TypeError(\"Function is not a constructor\")}function c(e,t,i,n){e=0 in arguments?Number(arguments[0]):0,t=1 in arguments?Number(arguments[1]):0,i=2 in arguments?Number(arguments[2]):0,n=3 in arguments?Number(arguments[3]):0,this.right=(this.x=this.left=e)+(this.width=i),this.bottom=(this.y=this.top=t)+(this.height=n),Object.freeze(this)}function d(){t=requestAnimationFrame(d);var s=new WeakMap,p=new Set;o.forEach((function(t){r.get(t).forEach((function(i){var r=t instanceof window.SVGElement,o=a.get(t),d=r?0:parseFloat(o.paddingTop),f=r?0:parseFloat(o.paddingRight),l=r?0:parseFloat(o.paddingBottom),u=r?0:parseFloat(o.paddingLeft),g=r?0:parseFloat(o.borderTopWidth),m=r?0:parseFloat(o.borderRightWidth),w=r?0:parseFloat(o.borderBottomWidth),b=u+f,F=d+l,v=(r?0:parseFloat(o.borderLeftWidth))+m,W=g+w,y=r?0:t.offsetHeight-W-t.clientHeight,E=r?0:t.offsetWidth-v-t.clientWidth,R=b+v,z=F+W,M=r?t.width:parseFloat(o.width)-R-E,O=r?t.height:parseFloat(o.height)-z-y;if(n.has(t)){var k=n.get(t);if(k[0]===M&&k[1]===O)return}n.set(t,[M,O]);var S=Object.create(h.prototype);S.target=t,S.contentRect=new c(u,d,M,O),s.has(i)||(s.set(i,[]),p.add(i)),s.get(i).push(S)}))})),p.forEach((function(e){i.get(e).call(e,s.get(e),e)}))}return s.prototype.observe=function(i){if(i instanceof window.Element){r.has(i)||(r.set(i,new Set),o.add(i),a.set(i,window.getComputedStyle(i)));var n=r.get(i);n.has(this)||n.add(this),cancelAnimationFrame(t),t=requestAnimationFrame(d)}},s.prototype.unobserve=function(i){if(i instanceof window.Element&&r.has(i)){var n=r.get(i);n.has(this)&&(n.delete(this),n.size||(r.delete(i),o.delete(i))),n.size||r.delete(i),o.size||cancelAnimationFrame(t)}},A.DOMRectReadOnly=c,A.ResizeObserver=s,A.ResizeObserverEntry=h,A}; // eslint-disable-line\n",
       "mpl.toolbar_items = [[\"Home\", \"Reset original view\", \"fa fa-home icon-home\", \"home\"], [\"Back\", \"Back to previous view\", \"fa fa-arrow-left icon-arrow-left\", \"back\"], [\"Forward\", \"Forward to next view\", \"fa fa-arrow-right icon-arrow-right\", \"forward\"], [\"\", \"\", \"\", \"\"], [\"Pan\", \"Left button pans, Right button zooms\\nx/y fixes axis, CTRL fixes aspect\", \"fa fa-arrows icon-move\", \"pan\"], [\"Zoom\", \"Zoom to rectangle\\nx/y fixes axis\", \"fa fa-square-o icon-check-empty\", \"zoom\"], [\"\", \"\", \"\", \"\"], [\"Download\", \"Download plot\", \"fa fa-floppy-o icon-save\", \"download\"]];\n",
       "\n",
       "mpl.extensions = [\"eps\", \"jpeg\", \"pgf\", \"pdf\", \"png\", \"ps\", \"raw\", \"svg\", \"tif\"];\n",
       "\n",
       "mpl.default_extension = \"png\";/* global mpl */\n",
       "\n",
       "var comm_websocket_adapter = function (comm) {\n",
       "    // Create a \"websocket\"-like object which calls the given IPython comm\n",
       "    // object with the appropriate methods. Currently this is a non binary\n",
       "    // socket, so there is still some room for performance tuning.\n",
       "    var ws = {};\n",
       "\n",
       "    ws.binaryType = comm.kernel.ws.binaryType;\n",
       "    ws.readyState = comm.kernel.ws.readyState;\n",
       "    function updateReadyState(_event) {\n",
       "        if (comm.kernel.ws) {\n",
       "            ws.readyState = comm.kernel.ws.readyState;\n",
       "        } else {\n",
       "            ws.readyState = 3; // Closed state.\n",
       "        }\n",
       "    }\n",
       "    comm.kernel.ws.addEventListener('open', updateReadyState);\n",
       "    comm.kernel.ws.addEventListener('close', updateReadyState);\n",
       "    comm.kernel.ws.addEventListener('error', updateReadyState);\n",
       "\n",
       "    ws.close = function () {\n",
       "        comm.close();\n",
       "    };\n",
       "    ws.send = function (m) {\n",
       "        //console.log('sending', m);\n",
       "        comm.send(m);\n",
       "    };\n",
       "    // Register the callback with on_msg.\n",
       "    comm.on_msg(function (msg) {\n",
       "        //console.log('receiving', msg['content']['data'], msg);\n",
       "        var data = msg['content']['data'];\n",
       "        if (data['blob'] !== undefined) {\n",
       "            data = {\n",
       "                data: new Blob(msg['buffers'], { type: data['blob'] }),\n",
       "            };\n",
       "        }\n",
       "        // Pass the mpl event to the overridden (by mpl) onmessage function.\n",
       "        ws.onmessage(data);\n",
       "    });\n",
       "    return ws;\n",
       "};\n",
       "\n",
       "mpl.mpl_figure_comm = function (comm, msg) {\n",
       "    // This is the function which gets called when the mpl process\n",
       "    // starts-up an IPython Comm through the \"matplotlib\" channel.\n",
       "\n",
       "    var id = msg.content.data.id;\n",
       "    // Get hold of the div created by the display call when the Comm\n",
       "    // socket was opened in Python.\n",
       "    var element = document.getElementById(id);\n",
       "    var ws_proxy = comm_websocket_adapter(comm);\n",
       "\n",
       "    function ondownload(figure, _format) {\n",
       "        window.open(figure.canvas.toDataURL());\n",
       "    }\n",
       "\n",
       "    var fig = new mpl.figure(id, ws_proxy, ondownload, element);\n",
       "\n",
       "    // Call onopen now - mpl needs it, as it is assuming we've passed it a real\n",
       "    // web socket which is closed, not our websocket->open comm proxy.\n",
       "    ws_proxy.onopen();\n",
       "\n",
       "    fig.parent_element = element;\n",
       "    fig.cell_info = mpl.find_output_cell(\"<div id='\" + id + \"'></div>\");\n",
       "    if (!fig.cell_info) {\n",
       "        console.error('Failed to find cell for figure', id, fig);\n",
       "        return;\n",
       "    }\n",
       "    fig.cell_info[0].output_area.element.on(\n",
       "        'cleared',\n",
       "        { fig: fig },\n",
       "        fig._remove_fig_handler\n",
       "    );\n",
       "};\n",
       "\n",
       "mpl.figure.prototype.handle_close = function (fig, msg) {\n",
       "    var width = fig.canvas.width / fig.ratio;\n",
       "    fig.cell_info[0].output_area.element.off(\n",
       "        'cleared',\n",
       "        fig._remove_fig_handler\n",
       "    );\n",
       "    fig.resizeObserverInstance.unobserve(fig.canvas_div);\n",
       "\n",
       "    // Update the output cell to use the data from the current canvas.\n",
       "    fig.push_to_output();\n",
       "    var dataURL = fig.canvas.toDataURL();\n",
       "    // Re-enable the keyboard manager in IPython - without this line, in FF,\n",
       "    // the notebook keyboard shortcuts fail.\n",
       "    IPython.keyboard_manager.enable();\n",
       "    fig.parent_element.innerHTML =\n",
       "        '<img src=\"' + dataURL + '\" width=\"' + width + '\">';\n",
       "    fig.close_ws(fig, msg);\n",
       "};\n",
       "\n",
       "mpl.figure.prototype.close_ws = function (fig, msg) {\n",
       "    fig.send_message('closing', msg);\n",
       "    // fig.ws.close()\n",
       "};\n",
       "\n",
       "mpl.figure.prototype.push_to_output = function (_remove_interactive) {\n",
       "    // Turn the data on the canvas into data in the output cell.\n",
       "    var width = this.canvas.width / this.ratio;\n",
       "    var dataURL = this.canvas.toDataURL();\n",
       "    this.cell_info[1]['text/html'] =\n",
       "        '<img src=\"' + dataURL + '\" width=\"' + width + '\">';\n",
       "};\n",
       "\n",
       "mpl.figure.prototype.updated_canvas_event = function () {\n",
       "    // Tell IPython that the notebook contents must change.\n",
       "    IPython.notebook.set_dirty(true);\n",
       "    this.send_message('ack', {});\n",
       "    var fig = this;\n",
       "    // Wait a second, then push the new image to the DOM so\n",
       "    // that it is saved nicely (might be nice to debounce this).\n",
       "    setTimeout(function () {\n",
       "        fig.push_to_output();\n",
       "    }, 1000);\n",
       "};\n",
       "\n",
       "mpl.figure.prototype._init_toolbar = function () {\n",
       "    var fig = this;\n",
       "\n",
       "    var toolbar = document.createElement('div');\n",
       "    toolbar.classList = 'btn-toolbar';\n",
       "    this.root.appendChild(toolbar);\n",
       "\n",
       "    function on_click_closure(name) {\n",
       "        return function (_event) {\n",
       "            return fig.toolbar_button_onclick(name);\n",
       "        };\n",
       "    }\n",
       "\n",
       "    function on_mouseover_closure(tooltip) {\n",
       "        return function (event) {\n",
       "            if (!event.currentTarget.disabled) {\n",
       "                return fig.toolbar_button_onmouseover(tooltip);\n",
       "            }\n",
       "        };\n",
       "    }\n",
       "\n",
       "    fig.buttons = {};\n",
       "    var buttonGroup = document.createElement('div');\n",
       "    buttonGroup.classList = 'btn-group';\n",
       "    var button;\n",
       "    for (var toolbar_ind in mpl.toolbar_items) {\n",
       "        var name = mpl.toolbar_items[toolbar_ind][0];\n",
       "        var tooltip = mpl.toolbar_items[toolbar_ind][1];\n",
       "        var image = mpl.toolbar_items[toolbar_ind][2];\n",
       "        var method_name = mpl.toolbar_items[toolbar_ind][3];\n",
       "\n",
       "        if (!name) {\n",
       "            /* Instead of a spacer, we start a new button group. */\n",
       "            if (buttonGroup.hasChildNodes()) {\n",
       "                toolbar.appendChild(buttonGroup);\n",
       "            }\n",
       "            buttonGroup = document.createElement('div');\n",
       "            buttonGroup.classList = 'btn-group';\n",
       "            continue;\n",
       "        }\n",
       "\n",
       "        button = fig.buttons[name] = document.createElement('button');\n",
       "        button.classList = 'btn btn-default';\n",
       "        button.href = '#';\n",
       "        button.title = name;\n",
       "        button.innerHTML = '<i class=\"fa ' + image + ' fa-lg\"></i>';\n",
       "        button.addEventListener('click', on_click_closure(method_name));\n",
       "        button.addEventListener('mouseover', on_mouseover_closure(tooltip));\n",
       "        buttonGroup.appendChild(button);\n",
       "    }\n",
       "\n",
       "    if (buttonGroup.hasChildNodes()) {\n",
       "        toolbar.appendChild(buttonGroup);\n",
       "    }\n",
       "\n",
       "    // Add the status bar.\n",
       "    var status_bar = document.createElement('span');\n",
       "    status_bar.classList = 'mpl-message pull-right';\n",
       "    toolbar.appendChild(status_bar);\n",
       "    this.message = status_bar;\n",
       "\n",
       "    // Add the close button to the window.\n",
       "    var buttongrp = document.createElement('div');\n",
       "    buttongrp.classList = 'btn-group inline pull-right';\n",
       "    button = document.createElement('button');\n",
       "    button.classList = 'btn btn-mini btn-primary';\n",
       "    button.href = '#';\n",
       "    button.title = 'Stop Interaction';\n",
       "    button.innerHTML = '<i class=\"fa fa-power-off icon-remove icon-large\"></i>';\n",
       "    button.addEventListener('click', function (_evt) {\n",
       "        fig.handle_close(fig, {});\n",
       "    });\n",
       "    button.addEventListener(\n",
       "        'mouseover',\n",
       "        on_mouseover_closure('Stop Interaction')\n",
       "    );\n",
       "    buttongrp.appendChild(button);\n",
       "    var titlebar = this.root.querySelector('.ui-dialog-titlebar');\n",
       "    titlebar.insertBefore(buttongrp, titlebar.firstChild);\n",
       "};\n",
       "\n",
       "mpl.figure.prototype._remove_fig_handler = function (event) {\n",
       "    var fig = event.data.fig;\n",
       "    if (event.target !== this) {\n",
       "        // Ignore bubbled events from children.\n",
       "        return;\n",
       "    }\n",
       "    fig.close_ws(fig, {});\n",
       "};\n",
       "\n",
       "mpl.figure.prototype._root_extra_style = function (el) {\n",
       "    el.style.boxSizing = 'content-box'; // override notebook setting of border-box.\n",
       "};\n",
       "\n",
       "mpl.figure.prototype._canvas_extra_style = function (el) {\n",
       "    // this is important to make the div 'focusable\n",
       "    el.setAttribute('tabindex', 0);\n",
       "    // reach out to IPython and tell the keyboard manager to turn it's self\n",
       "    // off when our div gets focus\n",
       "\n",
       "    // location in version 3\n",
       "    if (IPython.notebook.keyboard_manager) {\n",
       "        IPython.notebook.keyboard_manager.register_events(el);\n",
       "    } else {\n",
       "        // location in version 2\n",
       "        IPython.keyboard_manager.register_events(el);\n",
       "    }\n",
       "};\n",
       "\n",
       "mpl.figure.prototype._key_event_extra = function (event, _name) {\n",
       "    // Check for shift+enter\n",
       "    if (event.shiftKey && event.which === 13) {\n",
       "        this.canvas_div.blur();\n",
       "        // select the cell after this one\n",
       "        var index = IPython.notebook.find_cell_index(this.cell_info[0]);\n",
       "        IPython.notebook.select(index + 1);\n",
       "    }\n",
       "};\n",
       "\n",
       "mpl.figure.prototype.handle_save = function (fig, _msg) {\n",
       "    fig.ondownload(fig, null);\n",
       "};\n",
       "\n",
       "mpl.find_output_cell = function (html_output) {\n",
       "    // Return the cell and output element which can be found *uniquely* in the notebook.\n",
       "    // Note - this is a bit hacky, but it is done because the \"notebook_saving.Notebook\"\n",
       "    // IPython event is triggered only after the cells have been serialised, which for\n",
       "    // our purposes (turning an active figure into a static one), is too late.\n",
       "    var cells = IPython.notebook.get_cells();\n",
       "    var ncells = cells.length;\n",
       "    for (var i = 0; i < ncells; i++) {\n",
       "        var cell = cells[i];\n",
       "        if (cell.cell_type === 'code') {\n",
       "            for (var j = 0; j < cell.output_area.outputs.length; j++) {\n",
       "                var data = cell.output_area.outputs[j];\n",
       "                if (data.data) {\n",
       "                    // IPython >= 3 moved mimebundle to data attribute of output\n",
       "                    data = data.data;\n",
       "                }\n",
       "                if (data['text/html'] === html_output) {\n",
       "                    return [cell, data, j];\n",
       "                }\n",
       "            }\n",
       "        }\n",
       "    }\n",
       "};\n",
       "\n",
       "// Register the function which deals with the matplotlib target/channel.\n",
       "// The kernel may be null if the page has been refreshed.\n",
       "if (IPython.notebook.kernel !== null) {\n",
       "    IPython.notebook.kernel.comm_manager.register_target(\n",
       "        'matplotlib',\n",
       "        mpl.mpl_figure_comm\n",
       "    );\n",
       "}\n"
      ],
      "text/plain": [
       "<IPython.core.display.Javascript object>"
      ]
     },
     "metadata": {},
     "output_type": "display_data"
    },
    {
     "data": {
      "text/html": [
       "<img src=\"data:image/png;base64,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\" width=\"640.00004521123\">"
      ],
      "text/plain": [
       "<IPython.core.display.HTML object>"
      ]
     },
     "metadata": {},
     "output_type": "display_data"
    },
    {
     "data": {
      "text/plain": [
       "<matplotlib.legend.Legend at 0x216b773d4f0>"
      ]
     },
     "execution_count": 44,
     "metadata": {},
     "output_type": "execute_result"
    }
   ],
   "source": [
    "%matplotlib notebook\n",
    "# plt.figure()\n",
    "plt.plot([0,1],[0,1],color='navy', lw=2, linestyle='--')\n",
    "plt.plot(fpr,tpr,color='orange', lw=3, label='ROC curve (area = %0.2f)' % roc_auc)\n",
    "\n",
    "plt.xlabel('FPR')\n",
    "plt.ylabel('TPR')\n",
    "plt.legend(loc=\"lower right\")"
   ]
  },
  {
   "cell_type": "markdown",
   "metadata": {},
   "source": [
    "### Manual inspection of threshold value"
   ]
  },
  {
   "cell_type": "code",
   "execution_count": 45,
   "metadata": {},
   "outputs": [
    {
     "data": {
      "text/html": [
       "<div>\n",
       "<style scoped>\n",
       "    .dataframe tbody tr th:only-of-type {\n",
       "        vertical-align: middle;\n",
       "    }\n",
       "\n",
       "    .dataframe tbody tr th {\n",
       "        vertical-align: top;\n",
       "    }\n",
       "\n",
       "    .dataframe thead th {\n",
       "        text-align: right;\n",
       "    }\n",
       "</style>\n",
       "<table border=\"1\" class=\"dataframe\">\n",
       "  <thead>\n",
       "    <tr style=\"text-align: right;\">\n",
       "      <th></th>\n",
       "      <th>FPR</th>\n",
       "      <th>TPR</th>\n",
       "      <th>Threshold</th>\n",
       "    </tr>\n",
       "  </thead>\n",
       "  <tbody>\n",
       "    <tr>\n",
       "      <th>0</th>\n",
       "      <td>0.000000</td>\n",
       "      <td>0.000000</td>\n",
       "      <td>1.999906</td>\n",
       "    </tr>\n",
       "    <tr>\n",
       "      <th>1</th>\n",
       "      <td>0.000000</td>\n",
       "      <td>0.002618</td>\n",
       "      <td>0.999906</td>\n",
       "    </tr>\n",
       "    <tr>\n",
       "      <th>2</th>\n",
       "      <td>0.000000</td>\n",
       "      <td>0.010471</td>\n",
       "      <td>0.996285</td>\n",
       "    </tr>\n",
       "    <tr>\n",
       "      <th>3</th>\n",
       "      <td>0.000359</td>\n",
       "      <td>0.010471</td>\n",
       "      <td>0.995685</td>\n",
       "    </tr>\n",
       "    <tr>\n",
       "      <th>4</th>\n",
       "      <td>0.000359</td>\n",
       "      <td>0.015707</td>\n",
       "      <td>0.994616</td>\n",
       "    </tr>\n",
       "    <tr>\n",
       "      <th>...</th>\n",
       "      <td>...</td>\n",
       "      <td>...</td>\n",
       "      <td>...</td>\n",
       "    </tr>\n",
       "    <tr>\n",
       "      <th>439</th>\n",
       "      <td>0.654925</td>\n",
       "      <td>0.994764</td>\n",
       "      <td>0.023282</td>\n",
       "    </tr>\n",
       "    <tr>\n",
       "      <th>440</th>\n",
       "      <td>0.654925</td>\n",
       "      <td>0.997382</td>\n",
       "      <td>0.023237</td>\n",
       "    </tr>\n",
       "    <tr>\n",
       "      <th>441</th>\n",
       "      <td>0.864486</td>\n",
       "      <td>0.997382</td>\n",
       "      <td>0.010020</td>\n",
       "    </tr>\n",
       "    <tr>\n",
       "      <th>442</th>\n",
       "      <td>0.864486</td>\n",
       "      <td>1.000000</td>\n",
       "      <td>0.009912</td>\n",
       "    </tr>\n",
       "    <tr>\n",
       "      <th>443</th>\n",
       "      <td>1.000000</td>\n",
       "      <td>1.000000</td>\n",
       "      <td>0.000326</td>\n",
       "    </tr>\n",
       "  </tbody>\n",
       "</table>\n",
       "<p>444 rows × 3 columns</p>\n",
       "</div>"
      ],
      "text/plain": [
       "          FPR       TPR  Threshold\n",
       "0    0.000000  0.000000   1.999906\n",
       "1    0.000000  0.002618   0.999906\n",
       "2    0.000000  0.010471   0.996285\n",
       "3    0.000359  0.010471   0.995685\n",
       "4    0.000359  0.015707   0.994616\n",
       "..        ...       ...        ...\n",
       "439  0.654925  0.994764   0.023282\n",
       "440  0.654925  0.997382   0.023237\n",
       "441  0.864486  0.997382   0.010020\n",
       "442  0.864486  1.000000   0.009912\n",
       "443  1.000000  1.000000   0.000326\n",
       "\n",
       "[444 rows x 3 columns]"
      ]
     },
     "execution_count": 45,
     "metadata": {},
     "output_type": "execute_result"
    }
   ],
   "source": [
    "roc_df = pd.DataFrame({'FPR':fpr, 'TPR':tpr, 'Threshold':threshold})\n",
    "\n",
    "roc_df"
   ]
  },
  {
   "cell_type": "code",
   "execution_count": 46,
   "metadata": {},
   "outputs": [],
   "source": [
    "roc_df.sort_values('TPR',ascending=False,inplace=True)\n"
   ]
  },
  {
   "cell_type": "code",
   "execution_count": 47,
   "metadata": {},
   "outputs": [],
   "source": [
    "optimal_idx = np.argmax(tpr - fpr)\n",
    "optimal_threshold = threshold[optimal_idx]"
   ]
  },
  {
   "cell_type": "code",
   "execution_count": 48,
   "metadata": {},
   "outputs": [
    {
     "data": {
      "text/plain": [
       "0.09484043485633534"
      ]
     },
     "execution_count": 48,
     "metadata": {},
     "output_type": "execute_result"
    }
   ],
   "source": [
    "optimal_threshold"
   ]
  },
  {
   "cell_type": "code",
   "execution_count": 49,
   "metadata": {},
   "outputs": [
    {
     "data": {
      "text/plain": [
       "1    996\n",
       "0    361\n",
       "dtype: int64"
      ]
     },
     "execution_count": 49,
     "metadata": {},
     "output_type": "execute_result"
    }
   ],
   "source": [
    "custom_threshold = 0.099\n",
    "\n",
    "\n",
    "## To get in 0-1 format vector (pandas Series)\n",
    "final_pred_array = pd.Series([0 if x>custom_threshold else 1 for x in train_preds_prob])\n",
    "final_pred_array.value_counts()\n",
    "\n",
    "final_test_pred_array = pd.Series([0 if x>custom_threshold else 1 for x in test_preds_prob])\n",
    "final_test_pred_array.value_counts()"
   ]
  },
  {
   "cell_type": "code",
   "execution_count": 50,
   "metadata": {},
   "outputs": [],
   "source": [
    "## To get True-False format vector (pandas Series)\n",
    "final_pred = pd.Series(train_preds_prob > 0.099)\n",
    "final_pred.value_counts()\n",
    "final_test_pred=pd.Series(test_preds_prob > 0.099)"
   ]
  },
  {
   "cell_type": "code",
   "execution_count": 51,
   "metadata": {},
   "outputs": [
    {
     "name": "stdout",
     "output_type": "stream",
     "text": [
      "              precision    recall  f1-score   support\n",
      "\n",
      "           0       0.98      0.81      0.89      2782\n",
      "           1       0.38      0.86      0.53       382\n",
      "\n",
      "    accuracy                           0.82      3164\n",
      "   macro avg       0.68      0.83      0.71      3164\n",
      "weighted avg       0.90      0.82      0.84      3164\n",
      "\n"
     ]
    }
   ],
   "source": [
    "print(classification_report(y_train,final_pred))"
   ]
  },
  {
   "cell_type": "code",
   "execution_count": 52,
   "metadata": {},
   "outputs": [
    {
     "name": "stdout",
     "output_type": "stream",
     "text": [
      "              precision    recall  f1-score   support\n",
      "\n",
      "           0       0.98      0.80      0.88      1218\n",
      "           1       0.32      0.83      0.46       139\n",
      "\n",
      "    accuracy                           0.80      1357\n",
      "   macro avg       0.65      0.81      0.67      1357\n",
      "weighted avg       0.91      0.80      0.84      1357\n",
      "\n"
     ]
    }
   ],
   "source": [
    "print(classification_report(y_test,final_test_pred))"
   ]
  },
  {
   "cell_type": "code",
   "execution_count": 53,
   "metadata": {},
   "outputs": [
    {
     "name": "stdout",
     "output_type": "stream",
     "text": [
      "0.8151074589127687\n",
      "0.8586387434554974\n",
      "0.8010316875460575\n",
      "0.8273381294964028\n"
     ]
    }
   ],
   "source": [
    "train_accuracy= accuracy_score(y_train,final_pred)\n",
    "train_recall= recall_score(y_train,final_pred)\n",
    "print(train_accuracy)\n",
    "print(train_recall)\n",
    "\n",
    "test_accuracy= accuracy_score(y_test,final_test_pred)\n",
    "test_recall= recall_score(y_test,final_test_pred)\n",
    "print(test_accuracy)\n",
    "print(test_recall)"
   ]
  },
  {
   "cell_type": "markdown",
   "metadata": {},
   "source": [
    "### Logistic model 2 -   Using Penalty as 'L1'"
   ]
  },
  {
   "cell_type": "code",
   "execution_count": 54,
   "metadata": {},
   "outputs": [],
   "source": [
    "l1_model = LogisticRegression(penalty='l1', solver='saga')\n",
    "\n",
    "l1_model.fit(X_train,y_train)\n",
    "\n",
    "l1_train_pred = l1_model.predict(X_train)\n",
    "l1_test_pred = l1_model.predict(X_test)"
   ]
  },
  {
   "cell_type": "markdown",
   "metadata": {},
   "source": [
    "#### Confusion Matrix for model2"
   ]
  },
  {
   "cell_type": "code",
   "execution_count": 55,
   "metadata": {},
   "outputs": [
    {
     "data": {
      "text/plain": [
       "array([[2722,   60],\n",
       "       [ 246,  136]], dtype=int64)"
      ]
     },
     "execution_count": 55,
     "metadata": {},
     "output_type": "execute_result"
    }
   ],
   "source": [
    "confusion_matrix(y_train,l1_train_pred)"
   ]
  },
  {
   "cell_type": "code",
   "execution_count": 56,
   "metadata": {},
   "outputs": [
    {
     "name": "stdout",
     "output_type": "stream",
     "text": [
      "[1 0 0 ... 0 0 0]\n"
     ]
    }
   ],
   "source": [
    "train_pred_prob = l1_model.predict_proba(X_train)[:,1]\n",
    "train_pred_classes=l1_model.predict(X_train)\n",
    "print(train_pred_classes)\n",
    "\n",
    "test_pred_classes=l1_model.predict(X_test)\n",
    "test_pred_prob=l1_model.predict_proba(X_train)[:,1]"
   ]
  },
  {
   "cell_type": "code",
   "execution_count": 57,
   "metadata": {},
   "outputs": [
    {
     "data": {
      "text/plain": [
       "array([[ 0.00000000e+00,  0.00000000e+00, -6.41910157e-01,\n",
       "         0.00000000e+00, -1.42006097e+00,  2.00954178e-01,\n",
       "         1.22819780e+01,  1.62593868e-01,  4.44177364e-01,\n",
       "         0.00000000e+00, -3.44048999e-01, -6.37642468e-02,\n",
       "         8.71812954e-03, -9.50834241e-03, -1.47933272e-02,\n",
       "         5.81534487e-01,  0.00000000e+00,  0.00000000e+00,\n",
       "         5.71398566e-01, -7.01573631e-02, -2.73927993e-01,\n",
       "         4.48121369e-01, -7.53229631e-01, -5.37397456e-01,\n",
       "        -3.93150790e-01, -5.02082686e-01,  0.00000000e+00,\n",
       "         0.00000000e+00, -5.70672596e-01, -8.66681604e-01,\n",
       "         4.23926155e-01,  1.39834955e+00, -4.31998167e-01,\n",
       "        -6.91437250e-01,  1.28919662e+00,  3.73455882e-01,\n",
       "         0.00000000e+00,  2.63661913e-01,  2.32548063e+00,\n",
       "         2.95484971e-03,  0.00000000e+00]])"
      ]
     },
     "execution_count": 57,
     "metadata": {},
     "output_type": "execute_result"
    }
   ],
   "source": [
    "l1_model.coef_"
   ]
  },
  {
   "cell_type": "code",
   "execution_count": 58,
   "metadata": {},
   "outputs": [],
   "source": [
    "train_accuracy_2 = accuracy_score(y_train,train_pred_classes)\n",
    "train_recall_2 = recall_score(y_train,train_pred_classes)\n",
    "train_precision_2 = precision_score(y_train,train_pred_classes)\n",
    "\n",
    "test_accuracy_2= accuracy_score(y_test,test_pred_classes)\n",
    "test_recall_2= recall_score(y_test,test_pred_classes)\n",
    "test_precision_2= precision_score(y_test,test_pred_classes)"
   ]
  },
  {
   "cell_type": "code",
   "execution_count": 59,
   "metadata": {},
   "outputs": [
    {
     "name": "stdout",
     "output_type": "stream",
     "text": [
      "0.9032869785082175\n",
      "0.35602094240837695\n",
      "0.6938775510204082\n",
      "0.9056742815033162\n",
      "0.3237410071942446\n",
      "0.569620253164557\n"
     ]
    }
   ],
   "source": [
    "print(train_accuracy_2)\n",
    "print(train_recall_2)\n",
    "print(train_precision_2)\n",
    "\n",
    "print(test_accuracy_2)\n",
    "print(test_recall_2)\n",
    "print(test_precision_2)"
   ]
  },
  {
   "cell_type": "markdown",
   "metadata": {},
   "source": [
    "### Model using penalty 'L2'"
   ]
  },
  {
   "cell_type": "code",
   "execution_count": 60,
   "metadata": {},
   "outputs": [],
   "source": [
    "l2_model = LogisticRegression(penalty='l2')\n",
    "\n",
    "l2_model.fit(X_train,y_train)\n",
    "\n",
    "l2_train_pred = l2_model.predict(X_train)\n",
    "l2_test_pred = l2_model.predict(X_test)"
   ]
  },
  {
   "cell_type": "code",
   "execution_count": 61,
   "metadata": {},
   "outputs": [
    {
     "data": {
      "text/plain": [
       "array([[2734,   48],\n",
       "       [ 269,  113]], dtype=int64)"
      ]
     },
     "execution_count": 61,
     "metadata": {},
     "output_type": "execute_result"
    }
   ],
   "source": [
    "confusion_matrix(y_train,l2_train_pred)"
   ]
  },
  {
   "cell_type": "code",
   "execution_count": 62,
   "metadata": {},
   "outputs": [
    {
     "name": "stdout",
     "output_type": "stream",
     "text": [
      "[1 0 0 ... 0 0 0]\n"
     ]
    }
   ],
   "source": [
    "train_l2 = l2_model.predict_proba(X_train)[:,1]\n",
    "train_l2c=l2_model.predict(X_train)\n",
    "print(train_l2c)\n",
    "\n",
    "test_l2c=l2_model.predict(X_test)\n",
    "test_l2=l2_model.predict_proba(X_train)[:,1]"
   ]
  },
  {
   "cell_type": "code",
   "execution_count": 63,
   "metadata": {},
   "outputs": [
    {
     "data": {
      "text/plain": [
       "array([[-2.33888744e-02, -5.21288011e-02, -9.17133959e-01,\n",
       "        -5.11461765e-02, -1.28634617e+00,  3.20563754e-01,\n",
       "         9.08712012e+00,  1.48795920e-01,  3.86350289e-01,\n",
       "        -1.31057894e-01, -2.93588561e-01, -1.42420855e-01,\n",
       "         8.64649474e-02, -1.07494004e-01, -9.07566610e-02,\n",
       "         5.49239961e-01, -1.18950687e-01, -1.14327878e-01,\n",
       "         5.28085948e-01, -2.02419457e-01, -3.87016200e-01,\n",
       "         5.36306165e-01, -7.09321315e-01, -5.69621212e-01,\n",
       "        -4.16882094e-01, -5.10595547e-01,  2.33948590e-01,\n",
       "        -7.72927198e-03, -6.49371787e-01, -7.92257014e-01,\n",
       "         3.74136654e-01,  1.17325847e+00, -4.47214922e-01,\n",
       "        -6.59537772e-01,  1.14160762e+00,  4.03736220e-01,\n",
       "        -3.03446665e-01,  3.63005358e-01,  2.19024223e+00,\n",
       "        -2.65857429e-02,  5.61615812e-03]])"
      ]
     },
     "execution_count": 63,
     "metadata": {},
     "output_type": "execute_result"
    }
   ],
   "source": [
    "l2_model.coef_"
   ]
  },
  {
   "cell_type": "code",
   "execution_count": 64,
   "metadata": {},
   "outputs": [],
   "source": [
    "train_accuracy_3 = accuracy_score(y_train,train_l2c)\n",
    "train_recall_3 = recall_score(y_train,train_l2c)\n",
    "train_precision_3 = precision_score(y_train,train_l2c)\n",
    "\n",
    "test_accuracy_3= accuracy_score(y_test,test_l2c)\n",
    "test_recall_3= recall_score(y_test,test_l2c)\n",
    "test_precision_3= precision_score(y_test,test_l2c)"
   ]
  },
  {
   "cell_type": "code",
   "execution_count": 65,
   "metadata": {},
   "outputs": [
    {
     "name": "stdout",
     "output_type": "stream",
     "text": [
      "0.899810366624526\n",
      "0.29581151832460734\n",
      "0.7018633540372671\n",
      "0.9034635224760501\n",
      "0.2517985611510791\n",
      "0.5645161290322581\n"
     ]
    }
   ],
   "source": [
    "print(train_accuracy_3)\n",
    "print(train_recall_3)\n",
    "print(train_precision_3)\n",
    "\n",
    "print(test_accuracy_3)\n",
    "print(test_recall_3)\n",
    "print(test_precision_3)"
   ]
  },
  {
   "cell_type": "markdown",
   "metadata": {},
   "source": [
    "### Using penalty 'elasticnet'"
   ]
  },
  {
   "cell_type": "code",
   "execution_count": 66,
   "metadata": {},
   "outputs": [],
   "source": [
    "reg_model = LogisticRegression(penalty='elasticnet', solver='saga', l1_ratio=0.5)\n",
    "\n",
    "reg_model.fit(X_train,y_train)\n",
    "\n",
    "train_pred = reg_model.predict(X_train)\n",
    "test_pred = reg_model.predict(X_test)"
   ]
  },
  {
   "cell_type": "code",
   "execution_count": 67,
   "metadata": {},
   "outputs": [
    {
     "data": {
      "text/plain": [
       "array([[ 0.00000000e+00,  0.00000000e+00, -8.51686256e-01,\n",
       "        -1.35426316e-02, -1.32941300e+00,  2.67344882e-01,\n",
       "         1.03269766e+01,  1.52860994e-01,  4.06573036e-01,\n",
       "        -6.41991344e-02, -3.11630865e-01, -9.01731327e-02,\n",
       "         6.87845182e-02, -4.39895589e-02, -3.83805419e-02,\n",
       "         5.73209571e-01, -3.95160544e-02, -2.82075102e-02,\n",
       "         5.61057326e-01, -1.30417764e-01, -3.16913415e-01,\n",
       "         5.06875944e-01, -7.20865402e-01, -5.53859847e-01,\n",
       "        -4.01517933e-01, -5.04093495e-01,  7.22185201e-02,\n",
       "         0.00000000e+00, -6.16404363e-01, -8.19370799e-01,\n",
       "         3.84384568e-01,  1.25707513e+00, -4.43337369e-01,\n",
       "        -6.69051711e-01,  1.19447306e+00,  3.82738116e-01,\n",
       "        -1.08022196e-01,  3.23713997e-01,  2.25456520e+00,\n",
       "         3.52583969e-03,  0.00000000e+00]])"
      ]
     },
     "execution_count": 67,
     "metadata": {},
     "output_type": "execute_result"
    }
   ],
   "source": [
    "reg_model.coef_"
   ]
  },
  {
   "cell_type": "markdown",
   "metadata": {},
   "source": [
    "### Naive Bayes Classifier"
   ]
  },
  {
   "cell_type": "code",
   "execution_count": 68,
   "metadata": {},
   "outputs": [
    {
     "name": "stdout",
     "output_type": "stream",
     "text": [
      "0.8536662452591656\n",
      "0.4712041884816754\n",
      "0.8585114222549742\n",
      "0.460431654676259\n"
     ]
    }
   ],
   "source": [
    "model = GaussianNB().fit(X_train,y_train) \n",
    "\n",
    "pred_train = model.predict(X_train)  \n",
    "pred_test = model.predict(X_test) #predict on test data \n",
    "\n",
    "print(accuracy_score(y_train,pred_train)) \n",
    "print(recall_score(y_train,pred_train)) \n",
    "print(accuracy_score(y_test,pred_test))\n",
    "print(recall_score(y_test,pred_test))"
   ]
  },
  {
   "cell_type": "code",
   "execution_count": 69,
   "metadata": {},
   "outputs": [
    {
     "data": {
      "text/plain": [
       "array([[1101,  117],\n",
       "       [  75,   64]], dtype=int64)"
      ]
     },
     "execution_count": 69,
     "metadata": {},
     "output_type": "execute_result"
    }
   ],
   "source": [
    "confusion_matrix(y_train,pred_train)\n",
    "confusion_matrix(y_test,pred_test)"
   ]
  },
  {
   "cell_type": "markdown",
   "metadata": {},
   "source": [
    "### Balancing the class weights"
   ]
  },
  {
   "cell_type": "code",
   "execution_count": 71,
   "metadata": {},
   "outputs": [
    {
     "data": {
      "text/plain": [
       "LogisticRegression(class_weight='balanced', penalty='none')"
      ]
     },
     "execution_count": 71,
     "metadata": {},
     "output_type": "execute_result"
    }
   ],
   "source": [
    "logistic_model = LogisticRegression(penalty='none', class_weight='balanced')\n",
    "\n",
    "logistic_model.fit(X_train,y_train)"
   ]
  },
  {
   "cell_type": "code",
   "execution_count": 72,
   "metadata": {},
   "outputs": [],
   "source": [
    "train_preds = logistic_model.predict(X_train)\n",
    "train_preds_prob=logistic_model.predict_proba(X_train)[:,1]\n",
    "test_preds = logistic_model.predict(X_test)\n",
    "test_preds_prob=logistic_model.predict_proba(X_test)[:,1]"
   ]
  },
  {
   "cell_type": "code",
   "execution_count": 73,
   "metadata": {},
   "outputs": [
    {
     "data": {
      "text/plain": [
       "array([[-0.47468535,  0.41818831, -5.4688391 ,  0.21899032, -1.58069385,\n",
       "         0.44010892, 17.42226887,  0.17766158,  0.39835011, -0.15701666,\n",
       "        -0.42493277, -0.56996582,  0.10902207, -0.19353112, -0.34172223,\n",
       "         0.66820065, -0.81949884, -0.45296887,  0.78550429, -0.34458917,\n",
       "        -0.80320084,  0.8221361 , -1.03496984, -0.49068447, -0.42006176,\n",
       "        -0.5688514 ,  0.40622061,  0.02831671, -1.35817757, -1.32914331,\n",
       "         0.39917232,  1.91132463, -0.67737581, -0.9323739 ,  1.79068776,\n",
       "         0.21372323, -0.12523815,  0.41382656,  2.71401969, -0.11721387,\n",
       "         0.22087841]])"
      ]
     },
     "execution_count": 73,
     "metadata": {},
     "output_type": "execute_result"
    }
   ],
   "source": [
    "logistic_model.coef_"
   ]
  },
  {
   "cell_type": "code",
   "execution_count": 74,
   "metadata": {},
   "outputs": [
    {
     "data": {
      "text/plain": [
       "array([[2369,  413],\n",
       "       [  72,  310]], dtype=int64)"
      ]
     },
     "execution_count": 74,
     "metadata": {},
     "output_type": "execute_result"
    }
   ],
   "source": [
    "confusion_matrix(y_train,train_preds)"
   ]
  },
  {
   "cell_type": "code",
   "execution_count": 75,
   "metadata": {},
   "outputs": [],
   "source": [
    "train_accuracy_1= accuracy_score(y_train,train_preds)\n",
    "train_recall_1= recall_score(y_train,train_preds)\n",
    "train_precision_1= precision_score(y_train,train_preds)\n",
    "\n",
    "test_accuracy_1= accuracy_score(y_test,test_preds)\n",
    "test_recall_1= recall_score(y_test,test_preds)\n",
    "test_precision_1= precision_score(y_test,test_preds)"
   ]
  },
  {
   "cell_type": "code",
   "execution_count": 76,
   "metadata": {},
   "outputs": [
    {
     "name": "stdout",
     "output_type": "stream",
     "text": [
      "0.8467130214917825\n",
      "0.8115183246073299\n",
      "0.4287690179806362\n",
      "0.8246131171702284\n",
      "0.762589928057554\n",
      "0.3408360128617363\n"
     ]
    }
   ],
   "source": [
    "print(train_accuracy_1)\n",
    "print(train_recall_1)\n",
    "print(train_precision_1)\n",
    "\n",
    "print(test_accuracy_1)\n",
    "print(test_recall_1)\n",
    "print(test_precision_1)"
   ]
  },
  {
   "cell_type": "code",
   "execution_count": 77,
   "metadata": {},
   "outputs": [
    {
     "name": "stdout",
     "output_type": "stream",
     "text": [
      "              precision    recall  f1-score   support\n",
      "\n",
      "           0       0.97      0.85      0.91      2782\n",
      "           1       0.43      0.81      0.56       382\n",
      "\n",
      "    accuracy                           0.85      3164\n",
      "   macro avg       0.70      0.83      0.73      3164\n",
      "weighted avg       0.91      0.85      0.87      3164\n",
      "\n"
     ]
    }
   ],
   "source": [
    "print(classification_report(y_train,train_preds))"
   ]
  },
  {
   "cell_type": "code",
   "execution_count": 78,
   "metadata": {},
   "outputs": [
    {
     "name": "stdout",
     "output_type": "stream",
     "text": [
      "              precision    recall  f1-score   support\n",
      "\n",
      "           0       0.97      0.83      0.89      1218\n",
      "           1       0.34      0.76      0.47       139\n",
      "\n",
      "    accuracy                           0.82      1357\n",
      "   macro avg       0.65      0.80      0.68      1357\n",
      "weighted avg       0.90      0.82      0.85      1357\n",
      "\n"
     ]
    }
   ],
   "source": [
    "print(classification_report(y_test,test_preds))"
   ]
  },
  {
   "cell_type": "code",
   "execution_count": null,
   "metadata": {},
   "outputs": [],
   "source": []
  },
  {
   "cell_type": "code",
   "execution_count": null,
   "metadata": {},
   "outputs": [],
   "source": []
  },
  {
   "cell_type": "code",
   "execution_count": null,
   "metadata": {},
   "outputs": [],
   "source": []
  }
 ],
 "metadata": {
  "kernelspec": {
   "display_name": "Python 3 (ipykernel)",
   "language": "python",
   "name": "python3"
  },
  "language_info": {
   "codemirror_mode": {
    "name": "ipython",
    "version": 3
   },
   "file_extension": ".py",
   "mimetype": "text/x-python",
   "name": "python",
   "nbconvert_exporter": "python",
   "pygments_lexer": "ipython3",
   "version": "3.9.13"
  }
 },
 "nbformat": 4,
 "nbformat_minor": 2
}
