{
 "cells": [
  {
   "cell_type": "markdown",
   "metadata": {},
   "source": [
    "## Agenda\n",
    "   \n",
    "    ♦ Problem Description\n",
    "    ♦ Data Understanding and exploration\n",
    "    ♦ Split the data into Train and Validation sets\n",
    "    ♦ Model Building\n",
    "       - Logistic Regression\n",
    "       - ROC curve to fix the threshold values\n",
    "    ♦ Construct a confusion matrix\n",
    "    ♦ Evaluation of the error metrics\n",
    "    ♦ How do we implement Regularization techniques\n",
    "    ♦ Build model using Naive Bayes classifier\n",
    "    ♦ Compute Evaluation metrics\n",
    "    ♦ Prinicpal Component Analysis\n",
    "    "
   ]
  },
  {
   "cell_type": "markdown",
   "metadata": {},
   "source": [
    "## Problem Description"
   ]
  },
  {
   "cell_type": "markdown",
   "metadata": {},
   "source": [
    "A Regional Bank XYZ with 40000+ Customers would like to expand its business by predicting Customer's behavior to better sell cross products (eg: Selling Term Deposits to Retail Customers). The Bank has approached us to assess the same by providing access to their Customer campaign data. \n",
    "\n",
    "The data is related with direct marketing campaigns. The marketing campaigns were based on phone calls. Often, more than one contact to the same client was required, in order to access if the product (bank term deposit) would be ('yes') or not ('no') subscribed. \n",
    "\n",
    "Predict if an existing customer would subscribe to a Term Deposit"
   ]
  },
  {
   "cell_type": "markdown",
   "metadata": {},
   "source": [
    "#### Attribute information:\n"
   ]
  },
  {
   "cell_type": "markdown",
   "metadata": {},
   "source": [
    "\n",
    "Input variables:\n",
    "\n",
    "1 - age (numeric)\n",
    "\n",
    "2 - job : type of job (categorical: \"admin.\",\"unknown\",\"unemployed\",\"management\",\"housemaid\",\"entrepreneur\",\"student\",\n",
    "                                   \"blue-collar\",\"self-employed\",\"retired\",\"technician\",\"services\") \n",
    "\n",
    "3 - marital : marital status (categorical: \"married\",\"divorced\",\"single\"; note: \"divorced\" means divorced or widowed)\n",
    "\n",
    "4 - education (categorical: \"unknown\",\"secondary\",\"primary\",\"tertiary\")\n",
    "\n",
    "5 - default: has credit in default? (binary: \"yes\",\"no\")\n",
    "\n",
    "6 - balance: average yearly balance, in euros (numeric) \n",
    "\n",
    "7 - housing: has housing loan? (binary: \"yes\",\"no\")\n",
    "\n",
    "8 - loan: has personal loan? (binary: \"yes\",\"no\") \n",
    "\n",
    "##### Related with the last contact of the current campaign:\n",
    "\n",
    "9 - contact: contact communication type (categorical: \"unknown\",\"telephone\",\"cellular\") \n",
    "\n",
    "10 - month: last contact month of year (categorical: \"jan\", \"feb\", \"mar\", ..., \"nov\", \"dec\")\n",
    "\n",
    "11 - duration: last contact duration, in seconds (numeric)\n",
    "\n",
    "##### Other attributes:\n",
    "12 - campaign: number of contacts performed during this campaign and for this client (numeric, includes last contact)\n",
    "\n",
    "13 - pdays: number of days that passed by after the client was last contacted from a previous campaign (numeric, -1 means client was not previously contacted)\n",
    "\n",
    "14 - previous: number of contacts performed before this campaign and for this client (numeric)\n",
    "\n",
    "15 - poutcome: outcome of the previous marketing campaign (categorical: \"unknown\",\"other\",\"failure\",\"success\")\n",
    "\n",
    "##### Output variable (desired target):\n",
    "\n",
    "16 - y - has the client subscribed a term deposit? (binary: \"yes\",\"no\")\n",
    "\n",
    " "
   ]
  },
  {
   "cell_type": "code",
   "execution_count": 19,
   "metadata": {},
   "outputs": [],
   "source": [
    "import pandas as pd\n",
    "import numpy as np\n",
    "from sklearn.model_selection import train_test_split\n",
    "from sklearn.linear_model import LogisticRegression\n",
    "from sklearn.metrics import confusion_matrix\n",
    "from sklearn.metrics import classification_report\n",
    "from sklearn.metrics import roc_curve, auc\n",
    "from sklearn.metrics import accuracy_score,recall_score,precision_score\n",
    "import matplotlib.pyplot as plt\n",
    "from sklearn.preprocessing import StandardScaler,MinMaxScaler\n",
    "from sklearn.decomposition import PCA\n",
    "from sklearn.naive_bayes import MultinomialNB \n",
    "from sklearn.naive_bayes import GaussianNB \n",
    "%matplotlib inline"
   ]
  },
  {
   "cell_type": "markdown",
   "metadata": {},
   "source": [
    "### Loading the data"
   ]
  },
  {
   "cell_type": "code",
   "execution_count": 20,
   "metadata": {},
   "outputs": [],
   "source": [
    "df=pd.read_csv(\"./Data/Bank_Data.csv\")"
   ]
  },
  {
   "cell_type": "markdown",
   "metadata": {},
   "source": [
    "### Understanding the data"
   ]
  },
  {
   "cell_type": "code",
   "execution_count": 21,
   "metadata": {},
   "outputs": [
    {
     "data": {
      "text/plain": [
       "(4521, 16)"
      ]
     },
     "execution_count": 21,
     "metadata": {},
     "output_type": "execute_result"
    }
   ],
   "source": [
    "df.shape"
   ]
  },
  {
   "cell_type": "code",
   "execution_count": 22,
   "metadata": {},
   "outputs": [
    {
     "data": {
      "text/plain": [
       "age           int64\n",
       "job          object\n",
       "marital      object\n",
       "education    object\n",
       "default      object\n",
       "balance       int64\n",
       "housing      object\n",
       "loan         object\n",
       "contact      object\n",
       "month        object\n",
       "duration      int64\n",
       "campaign      int64\n",
       "pdays         int64\n",
       "previous      int64\n",
       "poutcome     object\n",
       "y            object\n",
       "dtype: object"
      ]
     },
     "execution_count": 22,
     "metadata": {},
     "output_type": "execute_result"
    }
   ],
   "source": [
    "df.dtypes"
   ]
  },
  {
   "cell_type": "code",
   "execution_count": 23,
   "metadata": {
    "scrolled": true
   },
   "outputs": [
    {
     "data": {
      "text/html": [
       "<div>\n",
       "<style scoped>\n",
       "    .dataframe tbody tr th:only-of-type {\n",
       "        vertical-align: middle;\n",
       "    }\n",
       "\n",
       "    .dataframe tbody tr th {\n",
       "        vertical-align: top;\n",
       "    }\n",
       "\n",
       "    .dataframe thead th {\n",
       "        text-align: right;\n",
       "    }\n",
       "</style>\n",
       "<table border=\"1\" class=\"dataframe\">\n",
       "  <thead>\n",
       "    <tr style=\"text-align: right;\">\n",
       "      <th></th>\n",
       "      <th>age</th>\n",
       "      <th>job</th>\n",
       "      <th>marital</th>\n",
       "      <th>education</th>\n",
       "      <th>default</th>\n",
       "      <th>balance</th>\n",
       "      <th>housing</th>\n",
       "      <th>loan</th>\n",
       "      <th>contact</th>\n",
       "      <th>month</th>\n",
       "      <th>duration</th>\n",
       "      <th>campaign</th>\n",
       "      <th>pdays</th>\n",
       "      <th>previous</th>\n",
       "      <th>poutcome</th>\n",
       "      <th>y</th>\n",
       "    </tr>\n",
       "  </thead>\n",
       "  <tbody>\n",
       "    <tr>\n",
       "      <th>0</th>\n",
       "      <td>30</td>\n",
       "      <td>unemployed</td>\n",
       "      <td>married</td>\n",
       "      <td>primary</td>\n",
       "      <td>no</td>\n",
       "      <td>1787</td>\n",
       "      <td>no</td>\n",
       "      <td>no</td>\n",
       "      <td>cellular</td>\n",
       "      <td>oct</td>\n",
       "      <td>79</td>\n",
       "      <td>1</td>\n",
       "      <td>-1</td>\n",
       "      <td>0</td>\n",
       "      <td>unknown</td>\n",
       "      <td>no</td>\n",
       "    </tr>\n",
       "    <tr>\n",
       "      <th>1</th>\n",
       "      <td>33</td>\n",
       "      <td>services</td>\n",
       "      <td>married</td>\n",
       "      <td>secondary</td>\n",
       "      <td>no</td>\n",
       "      <td>4789</td>\n",
       "      <td>yes</td>\n",
       "      <td>yes</td>\n",
       "      <td>cellular</td>\n",
       "      <td>may</td>\n",
       "      <td>220</td>\n",
       "      <td>1</td>\n",
       "      <td>339</td>\n",
       "      <td>4</td>\n",
       "      <td>failure</td>\n",
       "      <td>no</td>\n",
       "    </tr>\n",
       "    <tr>\n",
       "      <th>2</th>\n",
       "      <td>35</td>\n",
       "      <td>management</td>\n",
       "      <td>single</td>\n",
       "      <td>tertiary</td>\n",
       "      <td>no</td>\n",
       "      <td>1350</td>\n",
       "      <td>yes</td>\n",
       "      <td>no</td>\n",
       "      <td>cellular</td>\n",
       "      <td>apr</td>\n",
       "      <td>185</td>\n",
       "      <td>1</td>\n",
       "      <td>330</td>\n",
       "      <td>1</td>\n",
       "      <td>failure</td>\n",
       "      <td>no</td>\n",
       "    </tr>\n",
       "    <tr>\n",
       "      <th>3</th>\n",
       "      <td>30</td>\n",
       "      <td>management</td>\n",
       "      <td>married</td>\n",
       "      <td>tertiary</td>\n",
       "      <td>no</td>\n",
       "      <td>1476</td>\n",
       "      <td>yes</td>\n",
       "      <td>yes</td>\n",
       "      <td>unknown</td>\n",
       "      <td>jun</td>\n",
       "      <td>199</td>\n",
       "      <td>4</td>\n",
       "      <td>-1</td>\n",
       "      <td>0</td>\n",
       "      <td>unknown</td>\n",
       "      <td>no</td>\n",
       "    </tr>\n",
       "    <tr>\n",
       "      <th>4</th>\n",
       "      <td>59</td>\n",
       "      <td>blue-collar</td>\n",
       "      <td>married</td>\n",
       "      <td>secondary</td>\n",
       "      <td>no</td>\n",
       "      <td>0</td>\n",
       "      <td>yes</td>\n",
       "      <td>no</td>\n",
       "      <td>unknown</td>\n",
       "      <td>may</td>\n",
       "      <td>226</td>\n",
       "      <td>1</td>\n",
       "      <td>-1</td>\n",
       "      <td>0</td>\n",
       "      <td>unknown</td>\n",
       "      <td>no</td>\n",
       "    </tr>\n",
       "  </tbody>\n",
       "</table>\n",
       "</div>"
      ],
      "text/plain": [
       "   age          job  marital  education default  balance housing loan  \\\n",
       "0   30   unemployed  married    primary      no     1787      no   no   \n",
       "1   33     services  married  secondary      no     4789     yes  yes   \n",
       "2   35   management   single   tertiary      no     1350     yes   no   \n",
       "3   30   management  married   tertiary      no     1476     yes  yes   \n",
       "4   59  blue-collar  married  secondary      no        0     yes   no   \n",
       "\n",
       "    contact month  duration  campaign  pdays  previous poutcome   y  \n",
       "0  cellular   oct        79         1     -1         0  unknown  no  \n",
       "1  cellular   may       220         1    339         4  failure  no  \n",
       "2  cellular   apr       185         1    330         1  failure  no  \n",
       "3   unknown   jun       199         4     -1         0  unknown  no  \n",
       "4   unknown   may       226         1     -1         0  unknown  no  "
      ]
     },
     "execution_count": 23,
     "metadata": {},
     "output_type": "execute_result"
    }
   ],
   "source": [
    "df.head()"
   ]
  },
  {
   "cell_type": "code",
   "execution_count": 24,
   "metadata": {},
   "outputs": [
    {
     "data": {
      "text/html": [
       "<div>\n",
       "<style scoped>\n",
       "    .dataframe tbody tr th:only-of-type {\n",
       "        vertical-align: middle;\n",
       "    }\n",
       "\n",
       "    .dataframe tbody tr th {\n",
       "        vertical-align: top;\n",
       "    }\n",
       "\n",
       "    .dataframe thead th {\n",
       "        text-align: right;\n",
       "    }\n",
       "</style>\n",
       "<table border=\"1\" class=\"dataframe\">\n",
       "  <thead>\n",
       "    <tr style=\"text-align: right;\">\n",
       "      <th></th>\n",
       "      <th>age</th>\n",
       "      <th>job</th>\n",
       "      <th>marital</th>\n",
       "      <th>education</th>\n",
       "      <th>default</th>\n",
       "      <th>balance</th>\n",
       "      <th>housing</th>\n",
       "      <th>loan</th>\n",
       "      <th>contact</th>\n",
       "      <th>month</th>\n",
       "      <th>duration</th>\n",
       "      <th>campaign</th>\n",
       "      <th>pdays</th>\n",
       "      <th>previous</th>\n",
       "      <th>poutcome</th>\n",
       "      <th>y</th>\n",
       "    </tr>\n",
       "  </thead>\n",
       "  <tbody>\n",
       "    <tr>\n",
       "      <th>4516</th>\n",
       "      <td>33</td>\n",
       "      <td>services</td>\n",
       "      <td>married</td>\n",
       "      <td>secondary</td>\n",
       "      <td>no</td>\n",
       "      <td>-333</td>\n",
       "      <td>yes</td>\n",
       "      <td>no</td>\n",
       "      <td>cellular</td>\n",
       "      <td>jul</td>\n",
       "      <td>329</td>\n",
       "      <td>5</td>\n",
       "      <td>-1</td>\n",
       "      <td>0</td>\n",
       "      <td>unknown</td>\n",
       "      <td>no</td>\n",
       "    </tr>\n",
       "    <tr>\n",
       "      <th>4517</th>\n",
       "      <td>57</td>\n",
       "      <td>self-employed</td>\n",
       "      <td>married</td>\n",
       "      <td>tertiary</td>\n",
       "      <td>yes</td>\n",
       "      <td>-3313</td>\n",
       "      <td>yes</td>\n",
       "      <td>yes</td>\n",
       "      <td>unknown</td>\n",
       "      <td>may</td>\n",
       "      <td>153</td>\n",
       "      <td>1</td>\n",
       "      <td>-1</td>\n",
       "      <td>0</td>\n",
       "      <td>unknown</td>\n",
       "      <td>no</td>\n",
       "    </tr>\n",
       "    <tr>\n",
       "      <th>4518</th>\n",
       "      <td>57</td>\n",
       "      <td>technician</td>\n",
       "      <td>married</td>\n",
       "      <td>secondary</td>\n",
       "      <td>no</td>\n",
       "      <td>295</td>\n",
       "      <td>no</td>\n",
       "      <td>no</td>\n",
       "      <td>cellular</td>\n",
       "      <td>aug</td>\n",
       "      <td>151</td>\n",
       "      <td>11</td>\n",
       "      <td>-1</td>\n",
       "      <td>0</td>\n",
       "      <td>unknown</td>\n",
       "      <td>no</td>\n",
       "    </tr>\n",
       "    <tr>\n",
       "      <th>4519</th>\n",
       "      <td>28</td>\n",
       "      <td>blue-collar</td>\n",
       "      <td>married</td>\n",
       "      <td>secondary</td>\n",
       "      <td>no</td>\n",
       "      <td>1137</td>\n",
       "      <td>no</td>\n",
       "      <td>no</td>\n",
       "      <td>cellular</td>\n",
       "      <td>feb</td>\n",
       "      <td>129</td>\n",
       "      <td>4</td>\n",
       "      <td>211</td>\n",
       "      <td>3</td>\n",
       "      <td>other</td>\n",
       "      <td>no</td>\n",
       "    </tr>\n",
       "    <tr>\n",
       "      <th>4520</th>\n",
       "      <td>44</td>\n",
       "      <td>entrepreneur</td>\n",
       "      <td>single</td>\n",
       "      <td>tertiary</td>\n",
       "      <td>no</td>\n",
       "      <td>1136</td>\n",
       "      <td>yes</td>\n",
       "      <td>yes</td>\n",
       "      <td>cellular</td>\n",
       "      <td>apr</td>\n",
       "      <td>345</td>\n",
       "      <td>2</td>\n",
       "      <td>249</td>\n",
       "      <td>7</td>\n",
       "      <td>other</td>\n",
       "      <td>no</td>\n",
       "    </tr>\n",
       "  </tbody>\n",
       "</table>\n",
       "</div>"
      ],
      "text/plain": [
       "      age            job  marital  education default  balance housing loan  \\\n",
       "4516   33       services  married  secondary      no     -333     yes   no   \n",
       "4517   57  self-employed  married   tertiary     yes    -3313     yes  yes   \n",
       "4518   57     technician  married  secondary      no      295      no   no   \n",
       "4519   28    blue-collar  married  secondary      no     1137      no   no   \n",
       "4520   44   entrepreneur   single   tertiary      no     1136     yes  yes   \n",
       "\n",
       "       contact month  duration  campaign  pdays  previous poutcome   y  \n",
       "4516  cellular   jul       329         5     -1         0  unknown  no  \n",
       "4517   unknown   may       153         1     -1         0  unknown  no  \n",
       "4518  cellular   aug       151        11     -1         0  unknown  no  \n",
       "4519  cellular   feb       129         4    211         3    other  no  \n",
       "4520  cellular   apr       345         2    249         7    other  no  "
      ]
     },
     "execution_count": 24,
     "metadata": {},
     "output_type": "execute_result"
    }
   ],
   "source": [
    "df.tail()"
   ]
  },
  {
   "cell_type": "markdown",
   "metadata": {},
   "source": [
    "### Summary statistics"
   ]
  },
  {
   "cell_type": "code",
   "execution_count": 25,
   "metadata": {},
   "outputs": [
    {
     "data": {
      "text/html": [
       "<div>\n",
       "<style scoped>\n",
       "    .dataframe tbody tr th:only-of-type {\n",
       "        vertical-align: middle;\n",
       "    }\n",
       "\n",
       "    .dataframe tbody tr th {\n",
       "        vertical-align: top;\n",
       "    }\n",
       "\n",
       "    .dataframe thead th {\n",
       "        text-align: right;\n",
       "    }\n",
       "</style>\n",
       "<table border=\"1\" class=\"dataframe\">\n",
       "  <thead>\n",
       "    <tr style=\"text-align: right;\">\n",
       "      <th></th>\n",
       "      <th>age</th>\n",
       "      <th>balance</th>\n",
       "      <th>duration</th>\n",
       "      <th>campaign</th>\n",
       "      <th>pdays</th>\n",
       "      <th>previous</th>\n",
       "    </tr>\n",
       "  </thead>\n",
       "  <tbody>\n",
       "    <tr>\n",
       "      <th>count</th>\n",
       "      <td>4521.000000</td>\n",
       "      <td>4521.000000</td>\n",
       "      <td>4521.000000</td>\n",
       "      <td>4521.000000</td>\n",
       "      <td>4521.000000</td>\n",
       "      <td>4521.000000</td>\n",
       "    </tr>\n",
       "    <tr>\n",
       "      <th>mean</th>\n",
       "      <td>41.170095</td>\n",
       "      <td>1422.657819</td>\n",
       "      <td>263.961292</td>\n",
       "      <td>2.793630</td>\n",
       "      <td>39.766645</td>\n",
       "      <td>0.542579</td>\n",
       "    </tr>\n",
       "    <tr>\n",
       "      <th>std</th>\n",
       "      <td>10.576211</td>\n",
       "      <td>3009.638142</td>\n",
       "      <td>259.856633</td>\n",
       "      <td>3.109807</td>\n",
       "      <td>100.121124</td>\n",
       "      <td>1.693562</td>\n",
       "    </tr>\n",
       "    <tr>\n",
       "      <th>min</th>\n",
       "      <td>19.000000</td>\n",
       "      <td>-3313.000000</td>\n",
       "      <td>4.000000</td>\n",
       "      <td>1.000000</td>\n",
       "      <td>-1.000000</td>\n",
       "      <td>0.000000</td>\n",
       "    </tr>\n",
       "    <tr>\n",
       "      <th>25%</th>\n",
       "      <td>33.000000</td>\n",
       "      <td>69.000000</td>\n",
       "      <td>104.000000</td>\n",
       "      <td>1.000000</td>\n",
       "      <td>-1.000000</td>\n",
       "      <td>0.000000</td>\n",
       "    </tr>\n",
       "    <tr>\n",
       "      <th>50%</th>\n",
       "      <td>39.000000</td>\n",
       "      <td>444.000000</td>\n",
       "      <td>185.000000</td>\n",
       "      <td>2.000000</td>\n",
       "      <td>-1.000000</td>\n",
       "      <td>0.000000</td>\n",
       "    </tr>\n",
       "    <tr>\n",
       "      <th>75%</th>\n",
       "      <td>49.000000</td>\n",
       "      <td>1480.000000</td>\n",
       "      <td>329.000000</td>\n",
       "      <td>3.000000</td>\n",
       "      <td>-1.000000</td>\n",
       "      <td>0.000000</td>\n",
       "    </tr>\n",
       "    <tr>\n",
       "      <th>max</th>\n",
       "      <td>87.000000</td>\n",
       "      <td>71188.000000</td>\n",
       "      <td>3025.000000</td>\n",
       "      <td>50.000000</td>\n",
       "      <td>871.000000</td>\n",
       "      <td>25.000000</td>\n",
       "    </tr>\n",
       "  </tbody>\n",
       "</table>\n",
       "</div>"
      ],
      "text/plain": [
       "               age       balance     duration     campaign        pdays  \\\n",
       "count  4521.000000   4521.000000  4521.000000  4521.000000  4521.000000   \n",
       "mean     41.170095   1422.657819   263.961292     2.793630    39.766645   \n",
       "std      10.576211   3009.638142   259.856633     3.109807   100.121124   \n",
       "min      19.000000  -3313.000000     4.000000     1.000000    -1.000000   \n",
       "25%      33.000000     69.000000   104.000000     1.000000    -1.000000   \n",
       "50%      39.000000    444.000000   185.000000     2.000000    -1.000000   \n",
       "75%      49.000000   1480.000000   329.000000     3.000000    -1.000000   \n",
       "max      87.000000  71188.000000  3025.000000    50.000000   871.000000   \n",
       "\n",
       "          previous  \n",
       "count  4521.000000  \n",
       "mean      0.542579  \n",
       "std       1.693562  \n",
       "min       0.000000  \n",
       "25%       0.000000  \n",
       "50%       0.000000  \n",
       "75%       0.000000  \n",
       "max      25.000000  "
      ]
     },
     "execution_count": 25,
     "metadata": {},
     "output_type": "execute_result"
    }
   ],
   "source": [
    "df.describe()"
   ]
  },
  {
   "cell_type": "code",
   "execution_count": 26,
   "metadata": {},
   "outputs": [
    {
     "data": {
      "text/plain": [
       "Index(['age', 'job', 'marital', 'education', 'default', 'balance', 'housing',\n",
       "       'loan', 'contact', 'month', 'duration', 'campaign', 'pdays', 'previous',\n",
       "       'poutcome', 'y'],\n",
       "      dtype='object')"
      ]
     },
     "execution_count": 26,
     "metadata": {},
     "output_type": "execute_result"
    }
   ],
   "source": [
    "df.columns"
   ]
  },
  {
   "cell_type": "code",
   "execution_count": 29,
   "metadata": {},
   "outputs": [
    {
     "data": {
      "text/plain": [
       "no     0.88476\n",
       "yes    0.11524\n",
       "Name: y, dtype: float64"
      ]
     },
     "execution_count": 29,
     "metadata": {},
     "output_type": "execute_result"
    }
   ],
   "source": [
    "df.y.value_counts(normalize=True) # frequency for each level within the target variable"
   ]
  },
  {
   "cell_type": "code",
   "execution_count": 27,
   "metadata": {},
   "outputs": [
    {
     "data": {
      "text/plain": [
       "no     4000\n",
       "yes     521\n",
       "Name: y, dtype: int64"
      ]
     },
     "execution_count": 27,
     "metadata": {},
     "output_type": "execute_result"
    }
   ],
   "source": [
    "df.y.value_counts() # frequency for each level"
   ]
  },
  {
   "cell_type": "code",
   "execution_count": 31,
   "metadata": {},
   "outputs": [
    {
     "data": {
      "text/plain": [
       "'jagan'"
      ]
     },
     "execution_count": 31,
     "metadata": {},
     "output_type": "execute_result"
    }
   ],
   "source": [
    "' jagan    '.strip()"
   ]
  },
  {
   "cell_type": "markdown",
   "metadata": {},
   "source": [
    "### Recode the levels of target on  data ; yes=1 and no=0\n"
   ]
  },
  {
   "cell_type": "code",
   "execution_count": 10,
   "metadata": {},
   "outputs": [],
   "source": [
    "df['y'] = df['y'].apply(lambda x: 0 if x.strip()=='no' else 1)\n"
   ]
  },
  {
   "cell_type": "code",
   "execution_count": 32,
   "metadata": {},
   "outputs": [
    {
     "data": {
      "text/plain": [
       "Index(['job', 'marital', 'education', 'default', 'housing', 'loan', 'contact',\n",
       "       'month', 'poutcome'],\n",
       "      dtype='object')"
      ]
     },
     "execution_count": 32,
     "metadata": {},
     "output_type": "execute_result"
    }
   ],
   "source": [
    "cat_attr"
   ]
  },
  {
   "cell_type": "code",
   "execution_count": 11,
   "metadata": {},
   "outputs": [],
   "source": [
    "cat_attr=df.select_dtypes(include ='object').columns \n",
    "\n",
    "df[cat_attr]= df[cat_attr].astype('category')"
   ]
  },
  {
   "cell_type": "code",
   "execution_count": 12,
   "metadata": {},
   "outputs": [
    {
     "data": {
      "text/html": [
       "<div>\n",
       "<style scoped>\n",
       "    .dataframe tbody tr th:only-of-type {\n",
       "        vertical-align: middle;\n",
       "    }\n",
       "\n",
       "    .dataframe tbody tr th {\n",
       "        vertical-align: top;\n",
       "    }\n",
       "\n",
       "    .dataframe thead th {\n",
       "        text-align: right;\n",
       "    }\n",
       "</style>\n",
       "<table border=\"1\" class=\"dataframe\">\n",
       "  <thead>\n",
       "    <tr style=\"text-align: right;\">\n",
       "      <th></th>\n",
       "      <th>age</th>\n",
       "      <th>balance</th>\n",
       "      <th>duration</th>\n",
       "      <th>campaign</th>\n",
       "      <th>pdays</th>\n",
       "      <th>previous</th>\n",
       "      <th>y</th>\n",
       "      <th>job_blue-collar</th>\n",
       "      <th>job_entrepreneur</th>\n",
       "      <th>job_housemaid</th>\n",
       "      <th>...</th>\n",
       "      <th>month_jul</th>\n",
       "      <th>month_jun</th>\n",
       "      <th>month_mar</th>\n",
       "      <th>month_may</th>\n",
       "      <th>month_nov</th>\n",
       "      <th>month_oct</th>\n",
       "      <th>month_sep</th>\n",
       "      <th>poutcome_other</th>\n",
       "      <th>poutcome_success</th>\n",
       "      <th>poutcome_unknown</th>\n",
       "    </tr>\n",
       "  </thead>\n",
       "  <tbody>\n",
       "    <tr>\n",
       "      <th>0</th>\n",
       "      <td>30</td>\n",
       "      <td>1787</td>\n",
       "      <td>79</td>\n",
       "      <td>1</td>\n",
       "      <td>-1</td>\n",
       "      <td>0</td>\n",
       "      <td>0</td>\n",
       "      <td>0</td>\n",
       "      <td>0</td>\n",
       "      <td>0</td>\n",
       "      <td>...</td>\n",
       "      <td>0</td>\n",
       "      <td>0</td>\n",
       "      <td>0</td>\n",
       "      <td>0</td>\n",
       "      <td>0</td>\n",
       "      <td>1</td>\n",
       "      <td>0</td>\n",
       "      <td>0</td>\n",
       "      <td>0</td>\n",
       "      <td>1</td>\n",
       "    </tr>\n",
       "    <tr>\n",
       "      <th>1</th>\n",
       "      <td>33</td>\n",
       "      <td>4789</td>\n",
       "      <td>220</td>\n",
       "      <td>1</td>\n",
       "      <td>339</td>\n",
       "      <td>4</td>\n",
       "      <td>0</td>\n",
       "      <td>0</td>\n",
       "      <td>0</td>\n",
       "      <td>0</td>\n",
       "      <td>...</td>\n",
       "      <td>0</td>\n",
       "      <td>0</td>\n",
       "      <td>0</td>\n",
       "      <td>1</td>\n",
       "      <td>0</td>\n",
       "      <td>0</td>\n",
       "      <td>0</td>\n",
       "      <td>0</td>\n",
       "      <td>0</td>\n",
       "      <td>0</td>\n",
       "    </tr>\n",
       "    <tr>\n",
       "      <th>2</th>\n",
       "      <td>35</td>\n",
       "      <td>1350</td>\n",
       "      <td>185</td>\n",
       "      <td>1</td>\n",
       "      <td>330</td>\n",
       "      <td>1</td>\n",
       "      <td>0</td>\n",
       "      <td>0</td>\n",
       "      <td>0</td>\n",
       "      <td>0</td>\n",
       "      <td>...</td>\n",
       "      <td>0</td>\n",
       "      <td>0</td>\n",
       "      <td>0</td>\n",
       "      <td>0</td>\n",
       "      <td>0</td>\n",
       "      <td>0</td>\n",
       "      <td>0</td>\n",
       "      <td>0</td>\n",
       "      <td>0</td>\n",
       "      <td>0</td>\n",
       "    </tr>\n",
       "    <tr>\n",
       "      <th>3</th>\n",
       "      <td>30</td>\n",
       "      <td>1476</td>\n",
       "      <td>199</td>\n",
       "      <td>4</td>\n",
       "      <td>-1</td>\n",
       "      <td>0</td>\n",
       "      <td>0</td>\n",
       "      <td>0</td>\n",
       "      <td>0</td>\n",
       "      <td>0</td>\n",
       "      <td>...</td>\n",
       "      <td>0</td>\n",
       "      <td>1</td>\n",
       "      <td>0</td>\n",
       "      <td>0</td>\n",
       "      <td>0</td>\n",
       "      <td>0</td>\n",
       "      <td>0</td>\n",
       "      <td>0</td>\n",
       "      <td>0</td>\n",
       "      <td>1</td>\n",
       "    </tr>\n",
       "    <tr>\n",
       "      <th>4</th>\n",
       "      <td>59</td>\n",
       "      <td>0</td>\n",
       "      <td>226</td>\n",
       "      <td>1</td>\n",
       "      <td>-1</td>\n",
       "      <td>0</td>\n",
       "      <td>0</td>\n",
       "      <td>1</td>\n",
       "      <td>0</td>\n",
       "      <td>0</td>\n",
       "      <td>...</td>\n",
       "      <td>0</td>\n",
       "      <td>0</td>\n",
       "      <td>0</td>\n",
       "      <td>1</td>\n",
       "      <td>0</td>\n",
       "      <td>0</td>\n",
       "      <td>0</td>\n",
       "      <td>0</td>\n",
       "      <td>0</td>\n",
       "      <td>1</td>\n",
       "    </tr>\n",
       "  </tbody>\n",
       "</table>\n",
       "<p>5 rows × 42 columns</p>\n",
       "</div>"
      ],
      "text/plain": [
       "   age  balance  duration  campaign  pdays  previous  y  job_blue-collar  \\\n",
       "0   30     1787        79         1     -1         0  0                0   \n",
       "1   33     4789       220         1    339         4  0                0   \n",
       "2   35     1350       185         1    330         1  0                0   \n",
       "3   30     1476       199         4     -1         0  0                0   \n",
       "4   59        0       226         1     -1         0  0                1   \n",
       "\n",
       "   job_entrepreneur  job_housemaid  ...  month_jul  month_jun  month_mar  \\\n",
       "0                 0              0  ...          0          0          0   \n",
       "1                 0              0  ...          0          0          0   \n",
       "2                 0              0  ...          0          0          0   \n",
       "3                 0              0  ...          0          1          0   \n",
       "4                 0              0  ...          0          0          0   \n",
       "\n",
       "   month_may  month_nov  month_oct  month_sep  poutcome_other  \\\n",
       "0          0          0          1          0               0   \n",
       "1          1          0          0          0               0   \n",
       "2          0          0          0          0               0   \n",
       "3          0          0          0          0               0   \n",
       "4          1          0          0          0               0   \n",
       "\n",
       "   poutcome_success  poutcome_unknown  \n",
       "0                 0                 1  \n",
       "1                 0                 0  \n",
       "2                 0                 0  \n",
       "3                 0                 1  \n",
       "4                 0                 1  \n",
       "\n",
       "[5 rows x 42 columns]"
      ]
     },
     "execution_count": 12,
     "metadata": {},
     "output_type": "execute_result"
    }
   ],
   "source": [
    "data = pd.get_dummies(columns=cat_attr, data = df, prefix=cat_attr, prefix_sep=\"_\", drop_first=True)\n",
    "data.head()"
   ]
  },
  {
   "cell_type": "code",
   "execution_count": 33,
   "metadata": {},
   "outputs": [
    {
     "data": {
      "text/plain": [
       "Index(['age', 'balance', 'duration', 'campaign', 'pdays', 'previous', 'y',\n",
       "       'job_blue-collar', 'job_entrepreneur', 'job_housemaid',\n",
       "       'job_management', 'job_retired', 'job_self-employed', 'job_services',\n",
       "       'job_student', 'job_technician', 'job_unemployed', 'job_unknown',\n",
       "       'marital_married', 'marital_single', 'education_secondary',\n",
       "       'education_tertiary', 'education_unknown', 'default_yes', 'housing_yes',\n",
       "       'loan_yes', 'contact_telephone', 'contact_unknown', 'month_aug',\n",
       "       'month_dec', 'month_feb', 'month_jan', 'month_jul', 'month_jun',\n",
       "       'month_mar', 'month_may', 'month_nov', 'month_oct', 'month_sep',\n",
       "       'poutcome_other', 'poutcome_success', 'poutcome_unknown'],\n",
       "      dtype='object')"
      ]
     },
     "execution_count": 33,
     "metadata": {},
     "output_type": "execute_result"
    }
   ],
   "source": [
    "data.columns"
   ]
  },
  {
   "cell_type": "markdown",
   "metadata": {},
   "source": [
    "### Splitting the data into train and Validation sets"
   ]
  },
  {
   "cell_type": "code",
   "execution_count": 36,
   "metadata": {},
   "outputs": [],
   "source": [
    "X = data.loc[:,data.columns.difference(['y'])] # taking all the independent columns\n",
    "y = data.y # separting the target variable"
   ]
  },
  {
   "cell_type": "code",
   "execution_count": 37,
   "metadata": {},
   "outputs": [
    {
     "data": {
      "text/html": [
       "<div>\n",
       "<style scoped>\n",
       "    .dataframe tbody tr th:only-of-type {\n",
       "        vertical-align: middle;\n",
       "    }\n",
       "\n",
       "    .dataframe tbody tr th {\n",
       "        vertical-align: top;\n",
       "    }\n",
       "\n",
       "    .dataframe thead th {\n",
       "        text-align: right;\n",
       "    }\n",
       "</style>\n",
       "<table border=\"1\" class=\"dataframe\">\n",
       "  <thead>\n",
       "    <tr style=\"text-align: right;\">\n",
       "      <th></th>\n",
       "      <th>age</th>\n",
       "      <th>balance</th>\n",
       "      <th>campaign</th>\n",
       "      <th>contact_telephone</th>\n",
       "      <th>contact_unknown</th>\n",
       "      <th>default_yes</th>\n",
       "      <th>duration</th>\n",
       "      <th>education_secondary</th>\n",
       "      <th>education_tertiary</th>\n",
       "      <th>education_unknown</th>\n",
       "      <th>...</th>\n",
       "      <th>month_mar</th>\n",
       "      <th>month_may</th>\n",
       "      <th>month_nov</th>\n",
       "      <th>month_oct</th>\n",
       "      <th>month_sep</th>\n",
       "      <th>pdays</th>\n",
       "      <th>poutcome_other</th>\n",
       "      <th>poutcome_success</th>\n",
       "      <th>poutcome_unknown</th>\n",
       "      <th>previous</th>\n",
       "    </tr>\n",
       "  </thead>\n",
       "  <tbody>\n",
       "    <tr>\n",
       "      <th>0</th>\n",
       "      <td>30</td>\n",
       "      <td>1787</td>\n",
       "      <td>1</td>\n",
       "      <td>0</td>\n",
       "      <td>0</td>\n",
       "      <td>0</td>\n",
       "      <td>79</td>\n",
       "      <td>0</td>\n",
       "      <td>0</td>\n",
       "      <td>0</td>\n",
       "      <td>...</td>\n",
       "      <td>0</td>\n",
       "      <td>0</td>\n",
       "      <td>0</td>\n",
       "      <td>1</td>\n",
       "      <td>0</td>\n",
       "      <td>-1</td>\n",
       "      <td>0</td>\n",
       "      <td>0</td>\n",
       "      <td>1</td>\n",
       "      <td>0</td>\n",
       "    </tr>\n",
       "    <tr>\n",
       "      <th>1</th>\n",
       "      <td>33</td>\n",
       "      <td>4789</td>\n",
       "      <td>1</td>\n",
       "      <td>0</td>\n",
       "      <td>0</td>\n",
       "      <td>0</td>\n",
       "      <td>220</td>\n",
       "      <td>1</td>\n",
       "      <td>0</td>\n",
       "      <td>0</td>\n",
       "      <td>...</td>\n",
       "      <td>0</td>\n",
       "      <td>1</td>\n",
       "      <td>0</td>\n",
       "      <td>0</td>\n",
       "      <td>0</td>\n",
       "      <td>339</td>\n",
       "      <td>0</td>\n",
       "      <td>0</td>\n",
       "      <td>0</td>\n",
       "      <td>4</td>\n",
       "    </tr>\n",
       "    <tr>\n",
       "      <th>2</th>\n",
       "      <td>35</td>\n",
       "      <td>1350</td>\n",
       "      <td>1</td>\n",
       "      <td>0</td>\n",
       "      <td>0</td>\n",
       "      <td>0</td>\n",
       "      <td>185</td>\n",
       "      <td>0</td>\n",
       "      <td>1</td>\n",
       "      <td>0</td>\n",
       "      <td>...</td>\n",
       "      <td>0</td>\n",
       "      <td>0</td>\n",
       "      <td>0</td>\n",
       "      <td>0</td>\n",
       "      <td>0</td>\n",
       "      <td>330</td>\n",
       "      <td>0</td>\n",
       "      <td>0</td>\n",
       "      <td>0</td>\n",
       "      <td>1</td>\n",
       "    </tr>\n",
       "    <tr>\n",
       "      <th>3</th>\n",
       "      <td>30</td>\n",
       "      <td>1476</td>\n",
       "      <td>4</td>\n",
       "      <td>0</td>\n",
       "      <td>1</td>\n",
       "      <td>0</td>\n",
       "      <td>199</td>\n",
       "      <td>0</td>\n",
       "      <td>1</td>\n",
       "      <td>0</td>\n",
       "      <td>...</td>\n",
       "      <td>0</td>\n",
       "      <td>0</td>\n",
       "      <td>0</td>\n",
       "      <td>0</td>\n",
       "      <td>0</td>\n",
       "      <td>-1</td>\n",
       "      <td>0</td>\n",
       "      <td>0</td>\n",
       "      <td>1</td>\n",
       "      <td>0</td>\n",
       "    </tr>\n",
       "    <tr>\n",
       "      <th>4</th>\n",
       "      <td>59</td>\n",
       "      <td>0</td>\n",
       "      <td>1</td>\n",
       "      <td>0</td>\n",
       "      <td>1</td>\n",
       "      <td>0</td>\n",
       "      <td>226</td>\n",
       "      <td>1</td>\n",
       "      <td>0</td>\n",
       "      <td>0</td>\n",
       "      <td>...</td>\n",
       "      <td>0</td>\n",
       "      <td>1</td>\n",
       "      <td>0</td>\n",
       "      <td>0</td>\n",
       "      <td>0</td>\n",
       "      <td>-1</td>\n",
       "      <td>0</td>\n",
       "      <td>0</td>\n",
       "      <td>1</td>\n",
       "      <td>0</td>\n",
       "    </tr>\n",
       "  </tbody>\n",
       "</table>\n",
       "<p>5 rows × 41 columns</p>\n",
       "</div>"
      ],
      "text/plain": [
       "   age  balance  campaign  contact_telephone  contact_unknown  default_yes  \\\n",
       "0   30     1787         1                  0                0            0   \n",
       "1   33     4789         1                  0                0            0   \n",
       "2   35     1350         1                  0                0            0   \n",
       "3   30     1476         4                  0                1            0   \n",
       "4   59        0         1                  0                1            0   \n",
       "\n",
       "   duration  education_secondary  education_tertiary  education_unknown  ...  \\\n",
       "0        79                    0                   0                  0  ...   \n",
       "1       220                    1                   0                  0  ...   \n",
       "2       185                    0                   1                  0  ...   \n",
       "3       199                    0                   1                  0  ...   \n",
       "4       226                    1                   0                  0  ...   \n",
       "\n",
       "   month_mar  month_may  month_nov  month_oct  month_sep  pdays  \\\n",
       "0          0          0          0          1          0     -1   \n",
       "1          0          1          0          0          0    339   \n",
       "2          0          0          0          0          0    330   \n",
       "3          0          0          0          0          0     -1   \n",
       "4          0          1          0          0          0     -1   \n",
       "\n",
       "   poutcome_other  poutcome_success  poutcome_unknown  previous  \n",
       "0               0                 0                 1         0  \n",
       "1               0                 0                 0         4  \n",
       "2               0                 0                 0         1  \n",
       "3               0                 0                 1         0  \n",
       "4               0                 0                 1         0  \n",
       "\n",
       "[5 rows x 41 columns]"
      ]
     },
     "execution_count": 37,
     "metadata": {},
     "output_type": "execute_result"
    }
   ],
   "source": [
    "X.head()"
   ]
  },
  {
   "cell_type": "code",
   "execution_count": 38,
   "metadata": {},
   "outputs": [
    {
     "data": {
      "text/plain": [
       "0    0\n",
       "1    0\n",
       "2    0\n",
       "3    0\n",
       "4    0\n",
       "5    0\n",
       "Name: y, dtype: int64"
      ]
     },
     "execution_count": 38,
     "metadata": {},
     "output_type": "execute_result"
    }
   ],
   "source": [
    "y[:6]"
   ]
  },
  {
   "cell_type": "code",
   "execution_count": 40,
   "metadata": {},
   "outputs": [
    {
     "data": {
      "text/plain": [
       "0    0.88476\n",
       "1    0.11524\n",
       "Name: y, dtype: float64"
      ]
     },
     "execution_count": 40,
     "metadata": {},
     "output_type": "execute_result"
    }
   ],
   "source": [
    "data['y'].value_counts(normalize=True)"
   ]
  },
  {
   "cell_type": "code",
   "execution_count": 55,
   "metadata": {},
   "outputs": [
    {
     "name": "stdout",
     "output_type": "stream",
     "text": [
      "(3164, 41)\n",
      "(1357, 41)\n",
      "(3164,)\n",
      "(1357,)\n"
     ]
    }
   ],
   "source": [
    "X_train, X_test, y_train, y_test = train_test_split(X, y, stratify= y, test_size = 0.3, random_state=2323)\n",
    "\n",
    "#X_train, X_test, y_train, y_test = train_test_split(X, y, test_size = 0.3, random_state=124)\n",
    "\n",
    "print(X_train.shape)\n",
    "print(X_test.shape)\n",
    "print(y_train.shape)\n",
    "print(y_test.shape)"
   ]
  },
  {
   "cell_type": "code",
   "execution_count": 56,
   "metadata": {},
   "outputs": [
    {
     "name": "stdout",
     "output_type": "stream",
     "text": [
      "train - Stratification 0    2799\n",
      "1     365\n",
      "Name: y, dtype: int64\n",
      "test - Stratification 0    1201\n",
      "1     156\n",
      "Name: y, dtype: int64\n"
     ]
    }
   ],
   "source": [
    "print('train - Stratification',y_train.value_counts())\n",
    "print('test - Stratification',y_test.value_counts())"
   ]
  },
  {
   "cell_type": "code",
   "execution_count": 57,
   "metadata": {
    "scrolled": true
   },
   "outputs": [
    {
     "name": "stdout",
     "output_type": "stream",
     "text": [
      "(3164, 41)\n",
      "(1357, 41)\n",
      "(3164,)\n",
      "(1357,)\n"
     ]
    }
   ],
   "source": [
    "#X_train, X_test, y_train, y_test = train_test_split(X, y, stratify= y, test_size = 0.3, random_state=124)\n",
    "\n",
    "X_train, X_test, y_train, y_test = train_test_split(X, y, test_size = 0.3, random_state=2323)\n",
    "\n",
    "print(X_train.shape)\n",
    "print(X_test.shape)\n",
    "print(y_train.shape)\n",
    "print(y_test.shape)"
   ]
  },
  {
   "cell_type": "code",
   "execution_count": 58,
   "metadata": {},
   "outputs": [
    {
     "name": "stdout",
     "output_type": "stream",
     "text": [
      "train - rand 0    2782\n",
      "1     382\n",
      "Name: y, dtype: int64\n",
      "test - rand 0    1218\n",
      "1     139\n",
      "Name: y, dtype: int64\n"
     ]
    }
   ],
   "source": [
    "print('train - rand',y_train.value_counts())\n",
    "print('test - rand',y_test.value_counts())"
   ]
  },
  {
   "cell_type": "markdown",
   "metadata": {},
   "source": [
    "### Standardizing the numeric attributes in the train and test data"
   ]
  },
  {
   "cell_type": "code",
   "execution_count": 59,
   "metadata": {},
   "outputs": [],
   "source": [
    "scaler = MinMaxScaler()\n",
    "X_train[['age','balance','duration','pdays','previous','campaign']] = scaler.fit_transform(X_train[['age','balance','duration','pdays','previous','campaign']])\n",
    "X_test[['age','balance','duration','pdays','previous','campaign']]=scaler.transform(X_test[['age','balance','duration','pdays','previous','campaign']])"
   ]
  },
  {
   "cell_type": "code",
   "execution_count": 60,
   "metadata": {},
   "outputs": [],
   "source": [
    "import statsmodels.api as sm\n"
   ]
  },
  {
   "cell_type": "code",
   "execution_count": 62,
   "metadata": {},
   "outputs": [],
   "source": [
    "X_train = sm.add_constant(X_train)\n",
    "X_test = sm.add_constant(X_test)"
   ]
  },
  {
   "cell_type": "markdown",
   "metadata": {},
   "source": [
    "### Model Building"
   ]
  },
  {
   "cell_type": "code",
   "execution_count": 68,
   "metadata": {},
   "outputs": [
    {
     "data": {
      "text/plain": [
       "Index(['const', 'age', 'balance', 'campaign', 'contact_telephone',\n",
       "       'contact_unknown', 'default_yes', 'duration', 'education_secondary',\n",
       "       'education_tertiary', 'education_unknown', 'housing_yes',\n",
       "       'job_blue-collar', 'job_entrepreneur', 'job_housemaid',\n",
       "       'job_management', 'job_retired', 'job_self-employed', 'job_services',\n",
       "       'job_student', 'job_technician', 'job_unemployed', 'job_unknown',\n",
       "       'loan_yes', 'marital_married', 'marital_single', 'month_aug',\n",
       "       'month_dec', 'month_feb', 'month_jan', 'month_jul', 'month_jun',\n",
       "       'month_mar', 'month_may', 'month_nov', 'month_oct', 'month_sep',\n",
       "       'pdays', 'poutcome_other', 'poutcome_success', 'poutcome_unknown',\n",
       "       'previous'],\n",
       "      dtype='object')"
      ]
     },
     "execution_count": 68,
     "metadata": {},
     "output_type": "execute_result"
    }
   ],
   "source": [
    "X_train.columns"
   ]
  },
  {
   "cell_type": "code",
   "execution_count": 84,
   "metadata": {},
   "outputs": [
    {
     "name": "stdout",
     "output_type": "stream",
     "text": [
      "Optimization terminated successfully.\n",
      "         Current function value: 0.238201\n",
      "         Iterations 8\n",
      "                          Results: Logit\n",
      "===================================================================\n",
      "Model:               Logit            Pseudo R-squared: 0.353      \n",
      "Dependent Variable:  y                AIC:              1591.3336  \n",
      "Date:                2022-03-31 19:52 BIC:              1845.8365  \n",
      "No. Observations:    3164             Log-Likelihood:   -753.67    \n",
      "Df Model:            41               LL-Null:          -1165.6    \n",
      "Df Residuals:        3122             LLR p-value:      2.4625e-146\n",
      "Converged:           1.0000           Scale:            1.0000     \n",
      "No. Iterations:      8.0000                                        \n",
      "-------------------------------------------------------------------\n",
      "                     Coef.  Std.Err.    z    P>|z|   [0.025  0.975]\n",
      "-------------------------------------------------------------------\n",
      "const               -2.5251   0.6442 -3.9195 0.0001 -3.7877 -1.2624\n",
      "age                 -0.2827   0.5815 -0.4862 0.6268 -1.4225  0.8571\n",
      "balance              0.0742   1.3662  0.0543 0.9567 -2.6035  2.7518\n",
      "campaign            -3.1153   1.7014 -1.8310 0.0671 -6.4501  0.2195\n",
      "contact_telephone   -0.0147   0.2918 -0.0504 0.9598 -0.5865  0.5571\n",
      "contact_unknown     -1.5577   0.2705 -5.7595 0.0000 -2.0878 -1.0276\n",
      "default_yes          0.4629   0.5262  0.8798 0.3790 -0.5684  1.4943\n",
      "duration            13.0145   0.7107 18.3132 0.0000 11.6216 14.4073\n",
      "education_secondary  0.2016   0.2400  0.8400 0.4009 -0.2688  0.6721\n",
      "education_tertiary   0.5304   0.2795  1.8974 0.0578 -0.0175  1.0782\n",
      "education_unknown   -0.1480   0.4339 -0.3410 0.7331 -0.9984  0.7025\n",
      "housing_yes         -0.3357   0.1675 -2.0048 0.0450 -0.6639 -0.0075\n",
      "job_blue-collar     -0.1901   0.2945 -0.6454 0.5187 -0.7673  0.3871\n",
      "job_entrepreneur     0.0533   0.4468  0.1192 0.9051 -0.8225  0.9290\n",
      "job_housemaid       -0.2561   0.4969 -0.5154 0.6063 -1.2300  0.7178\n",
      "job_management      -0.1705   0.2972 -0.5735 0.5663 -0.7530  0.4121\n",
      "job_retired          0.5827   0.3851  1.5131 0.1302 -0.1721  1.3374\n",
      "job_self-employed   -0.2298   0.4296 -0.5349 0.5927 -1.0717  0.6122\n",
      "job_services        -0.1190   0.3343 -0.3560 0.7218 -0.7743  0.5362\n",
      "job_student          0.5878   0.4496  1.3073 0.1911 -0.2934  1.4689\n",
      "job_technician      -0.2213   0.2858 -0.7744 0.4387 -0.7815  0.3389\n",
      "job_unemployed      -0.5794   0.4819 -1.2024 0.2292 -1.5239  0.3650\n",
      "job_unknown          0.8052   0.6262  1.2859 0.1985 -0.4221  2.0326\n",
      "loan_yes            -0.8354   0.2518 -3.3184 0.0009 -1.3289 -0.3420\n",
      "marital_married     -0.6146   0.2067 -2.9737 0.0029 -1.0198 -0.2095\n",
      "marital_single      -0.5367   0.2459 -2.1822 0.0291 -1.0187 -0.0547\n",
      "month_aug           -0.4621   0.3007 -1.5368 0.1243 -1.0514  0.1272\n",
      "month_dec            0.2198   0.7131  0.3083 0.7579 -1.1777  1.6174\n",
      "month_feb            0.0504   0.3322  0.1516 0.8795 -0.6008  0.7015\n",
      "month_jan           -0.7271   0.4421 -1.6447 0.1000 -1.5935  0.1393\n",
      "month_jul           -0.8954   0.2977 -3.0072 0.0026 -1.4789 -0.3118\n",
      "month_jun            0.5741   0.3433  1.6722 0.0945 -0.0988  1.2470\n",
      "month_mar            1.6245   0.4621  3.5155 0.0004  0.7188  2.5302\n",
      "month_may           -0.4212   0.2739 -1.5378 0.1241 -0.9579  0.1156\n",
      "month_nov           -0.7775   0.3197 -2.4318 0.0150 -1.4041 -0.1508\n",
      "month_oct            1.4053   0.3918  3.5872 0.0003  0.6375  2.1731\n",
      "month_sep            0.5309   0.4939  1.0750 0.2824 -0.4371  1.4988\n",
      "pdays               -0.3949   1.1462 -0.3445 0.7305 -2.6413  1.8516\n",
      "poutcome_other       0.4532   0.3379  1.3413 0.1798 -0.2091  1.1155\n",
      "poutcome_success     2.5189   0.3582  7.0322 0.0000  1.8168  3.2209\n",
      "poutcome_unknown     0.0556   0.4135  0.1346 0.8929 -0.7548  0.8661\n",
      "previous            -0.1450   1.1714 -0.1238 0.9015 -2.4409  2.1508\n",
      "===================================================================\n",
      "\n"
     ]
    }
   ],
   "source": [
    "logit_model=sm.Logit(y_train,X_train)\n",
    "result=logit_model.fit()\n",
    "print(result.summary2())"
   ]
  },
  {
   "cell_type": "code",
   "execution_count": 81,
   "metadata": {},
   "outputs": [
    {
     "data": {
      "text/html": [
       "<div>\n",
       "<style scoped>\n",
       "    .dataframe tbody tr th:only-of-type {\n",
       "        vertical-align: middle;\n",
       "    }\n",
       "\n",
       "    .dataframe tbody tr th {\n",
       "        vertical-align: top;\n",
       "    }\n",
       "\n",
       "    .dataframe thead th {\n",
       "        text-align: right;\n",
       "    }\n",
       "</style>\n",
       "<table border=\"1\" class=\"dataframe\">\n",
       "  <thead>\n",
       "    <tr style=\"text-align: right;\">\n",
       "      <th></th>\n",
       "      <th>age</th>\n",
       "      <th>const</th>\n",
       "    </tr>\n",
       "  </thead>\n",
       "  <tbody>\n",
       "    <tr>\n",
       "      <th>4209</th>\n",
       "      <td>0.279412</td>\n",
       "      <td>1.0</td>\n",
       "    </tr>\n",
       "    <tr>\n",
       "      <th>3748</th>\n",
       "      <td>0.235294</td>\n",
       "      <td>1.0</td>\n",
       "    </tr>\n",
       "    <tr>\n",
       "      <th>1516</th>\n",
       "      <td>0.147059</td>\n",
       "      <td>1.0</td>\n",
       "    </tr>\n",
       "    <tr>\n",
       "      <th>1364</th>\n",
       "      <td>0.220588</td>\n",
       "      <td>1.0</td>\n",
       "    </tr>\n",
       "    <tr>\n",
       "      <th>1735</th>\n",
       "      <td>0.235294</td>\n",
       "      <td>1.0</td>\n",
       "    </tr>\n",
       "  </tbody>\n",
       "</table>\n",
       "</div>"
      ],
      "text/plain": [
       "           age  const\n",
       "4209  0.279412    1.0\n",
       "3748  0.235294    1.0\n",
       "1516  0.147059    1.0\n",
       "1364  0.220588    1.0\n",
       "1735  0.235294    1.0"
      ]
     },
     "execution_count": 81,
     "metadata": {},
     "output_type": "execute_result"
    }
   ],
   "source": [
    "X_train[['age','const']][:5]"
   ]
  },
  {
   "cell_type": "code",
   "execution_count": 82,
   "metadata": {},
   "outputs": [
    {
     "data": {
      "text/plain": [
       "4209    0.114379\n",
       "3748    0.109471\n",
       "1516    0.100207\n",
       "1364    0.107877\n",
       "1735    0.109471\n",
       "dtype: float64"
      ]
     },
     "execution_count": 82,
     "metadata": {},
     "output_type": "execute_result"
    }
   ],
   "source": [
    "train_preds[:5]"
   ]
  },
  {
   "cell_type": "code",
   "execution_count": 83,
   "metadata": {},
   "outputs": [],
   "source": [
    "train_preds = result.predict(X_train[['age','const']])\n",
    "#train_preds_prob=result.predict_proba(X_train[['age','const']])[:,1]\n",
    "#test_preds = result.predict(X_test[['age','const']])\n",
    "#test_preds_prob=result.predict_proba(X_test[['age','const']])[:,1]"
   ]
  },
  {
   "cell_type": "markdown",
   "metadata": {},
   "source": [
    "### Logistic Regression"
   ]
  },
  {
   "cell_type": "code",
   "execution_count": 85,
   "metadata": {},
   "outputs": [
    {
     "data": {
      "text/plain": [
       "LogisticRegression(penalty='none')"
      ]
     },
     "execution_count": 85,
     "metadata": {},
     "output_type": "execute_result"
    }
   ],
   "source": [
    "logistic_model = LogisticRegression(penalty='none')\n",
    "\n",
    "logistic_model.fit(X_train,y_train)"
   ]
  },
  {
   "cell_type": "markdown",
   "metadata": {},
   "source": [
    "### Generating predictions"
   ]
  },
  {
   "cell_type": "code",
   "execution_count": 86,
   "metadata": {},
   "outputs": [],
   "source": [
    "train_preds = logistic_model.predict(X_train)\n",
    "train_preds_prob=logistic_model.predict_proba(X_train)[:,1]\n",
    "test_preds = logistic_model.predict(X_test)\n",
    "test_preds_prob=logistic_model.predict_proba(X_test)[:,1]"
   ]
  },
  {
   "cell_type": "code",
   "execution_count": 87,
   "metadata": {},
   "outputs": [
    {
     "data": {
      "text/plain": [
       "array([1, 0, 0, 0, 0])"
      ]
     },
     "execution_count": 87,
     "metadata": {},
     "output_type": "execute_result"
    }
   ],
   "source": [
    "train_preds[:5]"
   ]
  },
  {
   "cell_type": "code",
   "execution_count": 88,
   "metadata": {},
   "outputs": [
    {
     "data": {
      "text/plain": [
       "array([0.85664702, 0.08079027, 0.01945116, 0.02104693, 0.02291449])"
      ]
     },
     "execution_count": 88,
     "metadata": {},
     "output_type": "execute_result"
    }
   ],
   "source": [
    "train_preds_prob[:5]"
   ]
  },
  {
   "cell_type": "code",
   "execution_count": 68,
   "metadata": {},
   "outputs": [
    {
     "data": {
      "text/plain": [
       "array([[-0.98477239, -0.04692803, -0.98378516, -2.24583127, -0.01390572,\n",
       "        -1.36255178,  0.12843002, 12.7384954 , -0.12102335,  0.15318758,\n",
       "        -0.46624448, -0.2917254 , -0.65034421, -0.05779099, -0.41895847,\n",
       "        -0.34290137,  0.36646608, -0.57082786, -0.48286498,  0.25167875,\n",
       "        -0.33033404, -0.799167  ,  0.39104086, -0.91648376, -0.56062518,\n",
       "        -0.27926841, -0.16053139,  1.00712411,  0.17178137, -0.57051554,\n",
       "        -0.45640724,  0.67984217,  1.60504932, -0.37830692, -0.83617182,\n",
       "         1.36833687,  1.01843484, -0.06270185,  0.22911892,  2.31712389,\n",
       "        -0.2874725 , -0.05620251]])"
      ]
     },
     "execution_count": 68,
     "metadata": {},
     "output_type": "execute_result"
    }
   ],
   "source": [
    "logistic_model.coef_"
   ]
  },
  {
   "cell_type": "markdown",
   "metadata": {},
   "source": [
    "### Confusion Matrix"
   ]
  },
  {
   "cell_type": "code",
   "execution_count": 69,
   "metadata": {},
   "outputs": [
    {
     "data": {
      "text/plain": [
       "array([[2736,   63],\n",
       "       [ 236,  129]])"
      ]
     },
     "execution_count": 69,
     "metadata": {},
     "output_type": "execute_result"
    }
   ],
   "source": [
    "confusion_matrix(y_train,train_preds)"
   ]
  },
  {
   "cell_type": "code",
   "execution_count": 70,
   "metadata": {},
   "outputs": [],
   "source": [
    "train_accuracy_1= accuracy_score(y_train,train_preds)\n",
    "train_recall_1= recall_score(y_train,train_preds)\n",
    "train_precision_1= precision_score(y_train,train_preds)\n",
    "\n",
    "test_accuracy_1= accuracy_score(y_test,test_preds)\n",
    "test_recall_1= recall_score(y_test,test_preds)\n",
    "test_precision_1= precision_score(y_test,test_preds)"
   ]
  },
  {
   "cell_type": "code",
   "execution_count": 71,
   "metadata": {},
   "outputs": [
    {
     "name": "stdout",
     "output_type": "stream",
     "text": [
      "0.9054993678887484\n",
      "0.35342465753424657\n",
      "0.671875\n",
      "0.9005158437730287\n",
      "0.33974358974358976\n",
      "0.6235294117647059\n"
     ]
    }
   ],
   "source": [
    "print(train_accuracy_1)\n",
    "print(train_recall_1)\n",
    "print(train_precision_1)\n",
    "\n",
    "print(test_accuracy_1)\n",
    "print(test_recall_1)\n",
    "print(test_precision_1)"
   ]
  },
  {
   "cell_type": "code",
   "execution_count": 72,
   "metadata": {},
   "outputs": [
    {
     "name": "stdout",
     "output_type": "stream",
     "text": [
      "              precision    recall  f1-score   support\n",
      "\n",
      "           0       0.92      0.98      0.95      2799\n",
      "           1       0.67      0.35      0.46       365\n",
      "\n",
      "    accuracy                           0.91      3164\n",
      "   macro avg       0.80      0.67      0.71      3164\n",
      "weighted avg       0.89      0.91      0.89      3164\n",
      "\n"
     ]
    }
   ],
   "source": [
    "#Classification report\n",
    "print(classification_report(y_train,train_preds))"
   ]
  },
  {
   "cell_type": "code",
   "execution_count": 73,
   "metadata": {},
   "outputs": [
    {
     "name": "stdout",
     "output_type": "stream",
     "text": [
      "              precision    recall  f1-score   support\n",
      "\n",
      "           0       0.92      0.97      0.95      1201\n",
      "           1       0.62      0.34      0.44       156\n",
      "\n",
      "    accuracy                           0.90      1357\n",
      "   macro avg       0.77      0.66      0.69      1357\n",
      "weighted avg       0.89      0.90      0.89      1357\n",
      "\n"
     ]
    }
   ],
   "source": [
    "print(classification_report(y_test,test_preds))"
   ]
  },
  {
   "cell_type": "markdown",
   "metadata": {},
   "source": [
    "### ROC and AUC"
   ]
  },
  {
   "cell_type": "code",
   "execution_count": 74,
   "metadata": {},
   "outputs": [],
   "source": [
    "fpr, tpr, threshold = roc_curve(y_train, train_preds_prob)\n",
    "roc_auc = auc(fpr, tpr)"
   ]
  },
  {
   "cell_type": "code",
   "execution_count": 75,
   "metadata": {
    "scrolled": true
   },
   "outputs": [
    {
     "data": {
      "application/javascript": [
       "/* Put everything inside the global mpl namespace */\n",
       "window.mpl = {};\n",
       "\n",
       "\n",
       "mpl.get_websocket_type = function() {\n",
       "    if (typeof(WebSocket) !== 'undefined') {\n",
       "        return WebSocket;\n",
       "    } else if (typeof(MozWebSocket) !== 'undefined') {\n",
       "        return MozWebSocket;\n",
       "    } else {\n",
       "        alert('Your browser does not have WebSocket support.' +\n",
       "              'Please try Chrome, Safari or Firefox ≥ 6. ' +\n",
       "              'Firefox 4 and 5 are also supported but you ' +\n",
       "              'have to enable WebSockets in about:config.');\n",
       "    };\n",
       "}\n",
       "\n",
       "mpl.figure = function(figure_id, websocket, ondownload, parent_element) {\n",
       "    this.id = figure_id;\n",
       "\n",
       "    this.ws = websocket;\n",
       "\n",
       "    this.supports_binary = (this.ws.binaryType != undefined);\n",
       "\n",
       "    if (!this.supports_binary) {\n",
       "        var warnings = document.getElementById(\"mpl-warnings\");\n",
       "        if (warnings) {\n",
       "            warnings.style.display = 'block';\n",
       "            warnings.textContent = (\n",
       "                \"This browser does not support binary websocket messages. \" +\n",
       "                    \"Performance may be slow.\");\n",
       "        }\n",
       "    }\n",
       "\n",
       "    this.imageObj = new Image();\n",
       "\n",
       "    this.context = undefined;\n",
       "    this.message = undefined;\n",
       "    this.canvas = undefined;\n",
       "    this.rubberband_canvas = undefined;\n",
       "    this.rubberband_context = undefined;\n",
       "    this.format_dropdown = undefined;\n",
       "\n",
       "    this.image_mode = 'full';\n",
       "\n",
       "    this.root = $('<div/>');\n",
       "    this._root_extra_style(this.root)\n",
       "    this.root.attr('style', 'display: inline-block');\n",
       "\n",
       "    $(parent_element).append(this.root);\n",
       "\n",
       "    this._init_header(this);\n",
       "    this._init_canvas(this);\n",
       "    this._init_toolbar(this);\n",
       "\n",
       "    var fig = this;\n",
       "\n",
       "    this.waiting = false;\n",
       "\n",
       "    this.ws.onopen =  function () {\n",
       "            fig.send_message(\"supports_binary\", {value: fig.supports_binary});\n",
       "            fig.send_message(\"send_image_mode\", {});\n",
       "            if (mpl.ratio != 1) {\n",
       "                fig.send_message(\"set_dpi_ratio\", {'dpi_ratio': mpl.ratio});\n",
       "            }\n",
       "            fig.send_message(\"refresh\", {});\n",
       "        }\n",
       "\n",
       "    this.imageObj.onload = function() {\n",
       "            if (fig.image_mode == 'full') {\n",
       "                // Full images could contain transparency (where diff images\n",
       "                // almost always do), so we need to clear the canvas so that\n",
       "                // there is no ghosting.\n",
       "                fig.context.clearRect(0, 0, fig.canvas.width, fig.canvas.height);\n",
       "            }\n",
       "            fig.context.drawImage(fig.imageObj, 0, 0);\n",
       "        };\n",
       "\n",
       "    this.imageObj.onunload = function() {\n",
       "        fig.ws.close();\n",
       "    }\n",
       "\n",
       "    this.ws.onmessage = this._make_on_message_function(this);\n",
       "\n",
       "    this.ondownload = ondownload;\n",
       "}\n",
       "\n",
       "mpl.figure.prototype._init_header = function() {\n",
       "    var titlebar = $(\n",
       "        '<div class=\"ui-dialog-titlebar ui-widget-header ui-corner-all ' +\n",
       "        'ui-helper-clearfix\"/>');\n",
       "    var titletext = $(\n",
       "        '<div class=\"ui-dialog-title\" style=\"width: 100%; ' +\n",
       "        'text-align: center; padding: 3px;\"/>');\n",
       "    titlebar.append(titletext)\n",
       "    this.root.append(titlebar);\n",
       "    this.header = titletext[0];\n",
       "}\n",
       "\n",
       "\n",
       "\n",
       "mpl.figure.prototype._canvas_extra_style = function(canvas_div) {\n",
       "\n",
       "}\n",
       "\n",
       "\n",
       "mpl.figure.prototype._root_extra_style = function(canvas_div) {\n",
       "\n",
       "}\n",
       "\n",
       "mpl.figure.prototype._init_canvas = function() {\n",
       "    var fig = this;\n",
       "\n",
       "    var canvas_div = $('<div/>');\n",
       "\n",
       "    canvas_div.attr('style', 'position: relative; clear: both; outline: 0');\n",
       "\n",
       "    function canvas_keyboard_event(event) {\n",
       "        return fig.key_event(event, event['data']);\n",
       "    }\n",
       "\n",
       "    canvas_div.keydown('key_press', canvas_keyboard_event);\n",
       "    canvas_div.keyup('key_release', canvas_keyboard_event);\n",
       "    this.canvas_div = canvas_div\n",
       "    this._canvas_extra_style(canvas_div)\n",
       "    this.root.append(canvas_div);\n",
       "\n",
       "    var canvas = $('<canvas/>');\n",
       "    canvas.addClass('mpl-canvas');\n",
       "    canvas.attr('style', \"left: 0; top: 0; z-index: 0; outline: 0\")\n",
       "\n",
       "    this.canvas = canvas[0];\n",
       "    this.context = canvas[0].getContext(\"2d\");\n",
       "\n",
       "    var backingStore = this.context.backingStorePixelRatio ||\n",
       "\tthis.context.webkitBackingStorePixelRatio ||\n",
       "\tthis.context.mozBackingStorePixelRatio ||\n",
       "\tthis.context.msBackingStorePixelRatio ||\n",
       "\tthis.context.oBackingStorePixelRatio ||\n",
       "\tthis.context.backingStorePixelRatio || 1;\n",
       "\n",
       "    mpl.ratio = (window.devicePixelRatio || 1) / backingStore;\n",
       "\n",
       "    var rubberband = $('<canvas/>');\n",
       "    rubberband.attr('style', \"position: absolute; left: 0; top: 0; z-index: 1;\")\n",
       "\n",
       "    var pass_mouse_events = true;\n",
       "\n",
       "    canvas_div.resizable({\n",
       "        start: function(event, ui) {\n",
       "            pass_mouse_events = false;\n",
       "        },\n",
       "        resize: function(event, ui) {\n",
       "            fig.request_resize(ui.size.width, ui.size.height);\n",
       "        },\n",
       "        stop: function(event, ui) {\n",
       "            pass_mouse_events = true;\n",
       "            fig.request_resize(ui.size.width, ui.size.height);\n",
       "        },\n",
       "    });\n",
       "\n",
       "    function mouse_event_fn(event) {\n",
       "        if (pass_mouse_events)\n",
       "            return fig.mouse_event(event, event['data']);\n",
       "    }\n",
       "\n",
       "    rubberband.mousedown('button_press', mouse_event_fn);\n",
       "    rubberband.mouseup('button_release', mouse_event_fn);\n",
       "    // Throttle sequential mouse events to 1 every 20ms.\n",
       "    rubberband.mousemove('motion_notify', mouse_event_fn);\n",
       "\n",
       "    rubberband.mouseenter('figure_enter', mouse_event_fn);\n",
       "    rubberband.mouseleave('figure_leave', mouse_event_fn);\n",
       "\n",
       "    canvas_div.on(\"wheel\", function (event) {\n",
       "        event = event.originalEvent;\n",
       "        event['data'] = 'scroll'\n",
       "        if (event.deltaY < 0) {\n",
       "            event.step = 1;\n",
       "        } else {\n",
       "            event.step = -1;\n",
       "        }\n",
       "        mouse_event_fn(event);\n",
       "    });\n",
       "\n",
       "    canvas_div.append(canvas);\n",
       "    canvas_div.append(rubberband);\n",
       "\n",
       "    this.rubberband = rubberband;\n",
       "    this.rubberband_canvas = rubberband[0];\n",
       "    this.rubberband_context = rubberband[0].getContext(\"2d\");\n",
       "    this.rubberband_context.strokeStyle = \"#000000\";\n",
       "\n",
       "    this._resize_canvas = function(width, height) {\n",
       "        // Keep the size of the canvas, canvas container, and rubber band\n",
       "        // canvas in synch.\n",
       "        canvas_div.css('width', width)\n",
       "        canvas_div.css('height', height)\n",
       "\n",
       "        canvas.attr('width', width * mpl.ratio);\n",
       "        canvas.attr('height', height * mpl.ratio);\n",
       "        canvas.attr('style', 'width: ' + width + 'px; height: ' + height + 'px;');\n",
       "\n",
       "        rubberband.attr('width', width);\n",
       "        rubberband.attr('height', height);\n",
       "    }\n",
       "\n",
       "    // Set the figure to an initial 600x600px, this will subsequently be updated\n",
       "    // upon first draw.\n",
       "    this._resize_canvas(600, 600);\n",
       "\n",
       "    // Disable right mouse context menu.\n",
       "    $(this.rubberband_canvas).bind(\"contextmenu\",function(e){\n",
       "        return false;\n",
       "    });\n",
       "\n",
       "    function set_focus () {\n",
       "        canvas.focus();\n",
       "        canvas_div.focus();\n",
       "    }\n",
       "\n",
       "    window.setTimeout(set_focus, 100);\n",
       "}\n",
       "\n",
       "mpl.figure.prototype._init_toolbar = function() {\n",
       "    var fig = this;\n",
       "\n",
       "    var nav_element = $('<div/>')\n",
       "    nav_element.attr('style', 'width: 100%');\n",
       "    this.root.append(nav_element);\n",
       "\n",
       "    // Define a callback function for later on.\n",
       "    function toolbar_event(event) {\n",
       "        return fig.toolbar_button_onclick(event['data']);\n",
       "    }\n",
       "    function toolbar_mouse_event(event) {\n",
       "        return fig.toolbar_button_onmouseover(event['data']);\n",
       "    }\n",
       "\n",
       "    for(var toolbar_ind in mpl.toolbar_items) {\n",
       "        var name = mpl.toolbar_items[toolbar_ind][0];\n",
       "        var tooltip = mpl.toolbar_items[toolbar_ind][1];\n",
       "        var image = mpl.toolbar_items[toolbar_ind][2];\n",
       "        var method_name = mpl.toolbar_items[toolbar_ind][3];\n",
       "\n",
       "        if (!name) {\n",
       "            // put a spacer in here.\n",
       "            continue;\n",
       "        }\n",
       "        var button = $('<button/>');\n",
       "        button.addClass('ui-button ui-widget ui-state-default ui-corner-all ' +\n",
       "                        'ui-button-icon-only');\n",
       "        button.attr('role', 'button');\n",
       "        button.attr('aria-disabled', 'false');\n",
       "        button.click(method_name, toolbar_event);\n",
       "        button.mouseover(tooltip, toolbar_mouse_event);\n",
       "\n",
       "        var icon_img = $('<span/>');\n",
       "        icon_img.addClass('ui-button-icon-primary ui-icon');\n",
       "        icon_img.addClass(image);\n",
       "        icon_img.addClass('ui-corner-all');\n",
       "\n",
       "        var tooltip_span = $('<span/>');\n",
       "        tooltip_span.addClass('ui-button-text');\n",
       "        tooltip_span.html(tooltip);\n",
       "\n",
       "        button.append(icon_img);\n",
       "        button.append(tooltip_span);\n",
       "\n",
       "        nav_element.append(button);\n",
       "    }\n",
       "\n",
       "    var fmt_picker_span = $('<span/>');\n",
       "\n",
       "    var fmt_picker = $('<select/>');\n",
       "    fmt_picker.addClass('mpl-toolbar-option ui-widget ui-widget-content');\n",
       "    fmt_picker_span.append(fmt_picker);\n",
       "    nav_element.append(fmt_picker_span);\n",
       "    this.format_dropdown = fmt_picker[0];\n",
       "\n",
       "    for (var ind in mpl.extensions) {\n",
       "        var fmt = mpl.extensions[ind];\n",
       "        var option = $(\n",
       "            '<option/>', {selected: fmt === mpl.default_extension}).html(fmt);\n",
       "        fmt_picker.append(option)\n",
       "    }\n",
       "\n",
       "    // Add hover states to the ui-buttons\n",
       "    $( \".ui-button\" ).hover(\n",
       "        function() { $(this).addClass(\"ui-state-hover\");},\n",
       "        function() { $(this).removeClass(\"ui-state-hover\");}\n",
       "    );\n",
       "\n",
       "    var status_bar = $('<span class=\"mpl-message\"/>');\n",
       "    nav_element.append(status_bar);\n",
       "    this.message = status_bar[0];\n",
       "}\n",
       "\n",
       "mpl.figure.prototype.request_resize = function(x_pixels, y_pixels) {\n",
       "    // Request matplotlib to resize the figure. Matplotlib will then trigger a resize in the client,\n",
       "    // which will in turn request a refresh of the image.\n",
       "    this.send_message('resize', {'width': x_pixels, 'height': y_pixels});\n",
       "}\n",
       "\n",
       "mpl.figure.prototype.send_message = function(type, properties) {\n",
       "    properties['type'] = type;\n",
       "    properties['figure_id'] = this.id;\n",
       "    this.ws.send(JSON.stringify(properties));\n",
       "}\n",
       "\n",
       "mpl.figure.prototype.send_draw_message = function() {\n",
       "    if (!this.waiting) {\n",
       "        this.waiting = true;\n",
       "        this.ws.send(JSON.stringify({type: \"draw\", figure_id: this.id}));\n",
       "    }\n",
       "}\n",
       "\n",
       "\n",
       "mpl.figure.prototype.handle_save = function(fig, msg) {\n",
       "    var format_dropdown = fig.format_dropdown;\n",
       "    var format = format_dropdown.options[format_dropdown.selectedIndex].value;\n",
       "    fig.ondownload(fig, format);\n",
       "}\n",
       "\n",
       "\n",
       "mpl.figure.prototype.handle_resize = function(fig, msg) {\n",
       "    var size = msg['size'];\n",
       "    if (size[0] != fig.canvas.width || size[1] != fig.canvas.height) {\n",
       "        fig._resize_canvas(size[0], size[1]);\n",
       "        fig.send_message(\"refresh\", {});\n",
       "    };\n",
       "}\n",
       "\n",
       "mpl.figure.prototype.handle_rubberband = function(fig, msg) {\n",
       "    var x0 = msg['x0'] / mpl.ratio;\n",
       "    var y0 = (fig.canvas.height - msg['y0']) / mpl.ratio;\n",
       "    var x1 = msg['x1'] / mpl.ratio;\n",
       "    var y1 = (fig.canvas.height - msg['y1']) / mpl.ratio;\n",
       "    x0 = Math.floor(x0) + 0.5;\n",
       "    y0 = Math.floor(y0) + 0.5;\n",
       "    x1 = Math.floor(x1) + 0.5;\n",
       "    y1 = Math.floor(y1) + 0.5;\n",
       "    var min_x = Math.min(x0, x1);\n",
       "    var min_y = Math.min(y0, y1);\n",
       "    var width = Math.abs(x1 - x0);\n",
       "    var height = Math.abs(y1 - y0);\n",
       "\n",
       "    fig.rubberband_context.clearRect(\n",
       "        0, 0, fig.canvas.width, fig.canvas.height);\n",
       "\n",
       "    fig.rubberband_context.strokeRect(min_x, min_y, width, height);\n",
       "}\n",
       "\n",
       "mpl.figure.prototype.handle_figure_label = function(fig, msg) {\n",
       "    // Updates the figure title.\n",
       "    fig.header.textContent = msg['label'];\n",
       "}\n",
       "\n",
       "mpl.figure.prototype.handle_cursor = function(fig, msg) {\n",
       "    var cursor = msg['cursor'];\n",
       "    switch(cursor)\n",
       "    {\n",
       "    case 0:\n",
       "        cursor = 'pointer';\n",
       "        break;\n",
       "    case 1:\n",
       "        cursor = 'default';\n",
       "        break;\n",
       "    case 2:\n",
       "        cursor = 'crosshair';\n",
       "        break;\n",
       "    case 3:\n",
       "        cursor = 'move';\n",
       "        break;\n",
       "    }\n",
       "    fig.rubberband_canvas.style.cursor = cursor;\n",
       "}\n",
       "\n",
       "mpl.figure.prototype.handle_message = function(fig, msg) {\n",
       "    fig.message.textContent = msg['message'];\n",
       "}\n",
       "\n",
       "mpl.figure.prototype.handle_draw = function(fig, msg) {\n",
       "    // Request the server to send over a new figure.\n",
       "    fig.send_draw_message();\n",
       "}\n",
       "\n",
       "mpl.figure.prototype.handle_image_mode = function(fig, msg) {\n",
       "    fig.image_mode = msg['mode'];\n",
       "}\n",
       "\n",
       "mpl.figure.prototype.updated_canvas_event = function() {\n",
       "    // Called whenever the canvas gets updated.\n",
       "    this.send_message(\"ack\", {});\n",
       "}\n",
       "\n",
       "// A function to construct a web socket function for onmessage handling.\n",
       "// Called in the figure constructor.\n",
       "mpl.figure.prototype._make_on_message_function = function(fig) {\n",
       "    return function socket_on_message(evt) {\n",
       "        if (evt.data instanceof Blob) {\n",
       "            /* FIXME: We get \"Resource interpreted as Image but\n",
       "             * transferred with MIME type text/plain:\" errors on\n",
       "             * Chrome.  But how to set the MIME type?  It doesn't seem\n",
       "             * to be part of the websocket stream */\n",
       "            evt.data.type = \"image/png\";\n",
       "\n",
       "            /* Free the memory for the previous frames */\n",
       "            if (fig.imageObj.src) {\n",
       "                (window.URL || window.webkitURL).revokeObjectURL(\n",
       "                    fig.imageObj.src);\n",
       "            }\n",
       "\n",
       "            fig.imageObj.src = (window.URL || window.webkitURL).createObjectURL(\n",
       "                evt.data);\n",
       "            fig.updated_canvas_event();\n",
       "            fig.waiting = false;\n",
       "            return;\n",
       "        }\n",
       "        else if (typeof evt.data === 'string' && evt.data.slice(0, 21) == \"data:image/png;base64\") {\n",
       "            fig.imageObj.src = evt.data;\n",
       "            fig.updated_canvas_event();\n",
       "            fig.waiting = false;\n",
       "            return;\n",
       "        }\n",
       "\n",
       "        var msg = JSON.parse(evt.data);\n",
       "        var msg_type = msg['type'];\n",
       "\n",
       "        // Call the  \"handle_{type}\" callback, which takes\n",
       "        // the figure and JSON message as its only arguments.\n",
       "        try {\n",
       "            var callback = fig[\"handle_\" + msg_type];\n",
       "        } catch (e) {\n",
       "            console.log(\"No handler for the '\" + msg_type + \"' message type: \", msg);\n",
       "            return;\n",
       "        }\n",
       "\n",
       "        if (callback) {\n",
       "            try {\n",
       "                // console.log(\"Handling '\" + msg_type + \"' message: \", msg);\n",
       "                callback(fig, msg);\n",
       "            } catch (e) {\n",
       "                console.log(\"Exception inside the 'handler_\" + msg_type + \"' callback:\", e, e.stack, msg);\n",
       "            }\n",
       "        }\n",
       "    };\n",
       "}\n",
       "\n",
       "// from http://stackoverflow.com/questions/1114465/getting-mouse-location-in-canvas\n",
       "mpl.findpos = function(e) {\n",
       "    //this section is from http://www.quirksmode.org/js/events_properties.html\n",
       "    var targ;\n",
       "    if (!e)\n",
       "        e = window.event;\n",
       "    if (e.target)\n",
       "        targ = e.target;\n",
       "    else if (e.srcElement)\n",
       "        targ = e.srcElement;\n",
       "    if (targ.nodeType == 3) // defeat Safari bug\n",
       "        targ = targ.parentNode;\n",
       "\n",
       "    // jQuery normalizes the pageX and pageY\n",
       "    // pageX,Y are the mouse positions relative to the document\n",
       "    // offset() returns the position of the element relative to the document\n",
       "    var x = e.pageX - $(targ).offset().left;\n",
       "    var y = e.pageY - $(targ).offset().top;\n",
       "\n",
       "    return {\"x\": x, \"y\": y};\n",
       "};\n",
       "\n",
       "/*\n",
       " * return a copy of an object with only non-object keys\n",
       " * we need this to avoid circular references\n",
       " * http://stackoverflow.com/a/24161582/3208463\n",
       " */\n",
       "function simpleKeys (original) {\n",
       "  return Object.keys(original).reduce(function (obj, key) {\n",
       "    if (typeof original[key] !== 'object')\n",
       "        obj[key] = original[key]\n",
       "    return obj;\n",
       "  }, {});\n",
       "}\n",
       "\n",
       "mpl.figure.prototype.mouse_event = function(event, name) {\n",
       "    var canvas_pos = mpl.findpos(event)\n",
       "\n",
       "    if (name === 'button_press')\n",
       "    {\n",
       "        this.canvas.focus();\n",
       "        this.canvas_div.focus();\n",
       "    }\n",
       "\n",
       "    var x = canvas_pos.x * mpl.ratio;\n",
       "    var y = canvas_pos.y * mpl.ratio;\n",
       "\n",
       "    this.send_message(name, {x: x, y: y, button: event.button,\n",
       "                             step: event.step,\n",
       "                             guiEvent: simpleKeys(event)});\n",
       "\n",
       "    /* This prevents the web browser from automatically changing to\n",
       "     * the text insertion cursor when the button is pressed.  We want\n",
       "     * to control all of the cursor setting manually through the\n",
       "     * 'cursor' event from matplotlib */\n",
       "    event.preventDefault();\n",
       "    return false;\n",
       "}\n",
       "\n",
       "mpl.figure.prototype._key_event_extra = function(event, name) {\n",
       "    // Handle any extra behaviour associated with a key event\n",
       "}\n",
       "\n",
       "mpl.figure.prototype.key_event = function(event, name) {\n",
       "\n",
       "    // Prevent repeat events\n",
       "    if (name == 'key_press')\n",
       "    {\n",
       "        if (event.which === this._key)\n",
       "            return;\n",
       "        else\n",
       "            this._key = event.which;\n",
       "    }\n",
       "    if (name == 'key_release')\n",
       "        this._key = null;\n",
       "\n",
       "    var value = '';\n",
       "    if (event.ctrlKey && event.which != 17)\n",
       "        value += \"ctrl+\";\n",
       "    if (event.altKey && event.which != 18)\n",
       "        value += \"alt+\";\n",
       "    if (event.shiftKey && event.which != 16)\n",
       "        value += \"shift+\";\n",
       "\n",
       "    value += 'k';\n",
       "    value += event.which.toString();\n",
       "\n",
       "    this._key_event_extra(event, name);\n",
       "\n",
       "    this.send_message(name, {key: value,\n",
       "                             guiEvent: simpleKeys(event)});\n",
       "    return false;\n",
       "}\n",
       "\n",
       "mpl.figure.prototype.toolbar_button_onclick = function(name) {\n",
       "    if (name == 'download') {\n",
       "        this.handle_save(this, null);\n",
       "    } else {\n",
       "        this.send_message(\"toolbar_button\", {name: name});\n",
       "    }\n",
       "};\n",
       "\n",
       "mpl.figure.prototype.toolbar_button_onmouseover = function(tooltip) {\n",
       "    this.message.textContent = tooltip;\n",
       "};\n",
       "mpl.toolbar_items = [[\"Home\", \"Reset original view\", \"fa fa-home icon-home\", \"home\"], [\"Back\", \"Back to previous view\", \"fa fa-arrow-left icon-arrow-left\", \"back\"], [\"Forward\", \"Forward to next view\", \"fa fa-arrow-right icon-arrow-right\", \"forward\"], [\"\", \"\", \"\", \"\"], [\"Pan\", \"Pan axes with left mouse, zoom with right\", \"fa fa-arrows icon-move\", \"pan\"], [\"Zoom\", \"Zoom to rectangle\", \"fa fa-square-o icon-check-empty\", \"zoom\"], [\"\", \"\", \"\", \"\"], [\"Download\", \"Download plot\", \"fa fa-floppy-o icon-save\", \"download\"]];\n",
       "\n",
       "mpl.extensions = [\"eps\", \"jpeg\", \"pdf\", \"png\", \"ps\", \"raw\", \"svg\", \"tif\"];\n",
       "\n",
       "mpl.default_extension = \"png\";var comm_websocket_adapter = function(comm) {\n",
       "    // Create a \"websocket\"-like object which calls the given IPython comm\n",
       "    // object with the appropriate methods. Currently this is a non binary\n",
       "    // socket, so there is still some room for performance tuning.\n",
       "    var ws = {};\n",
       "\n",
       "    ws.close = function() {\n",
       "        comm.close()\n",
       "    };\n",
       "    ws.send = function(m) {\n",
       "        //console.log('sending', m);\n",
       "        comm.send(m);\n",
       "    };\n",
       "    // Register the callback with on_msg.\n",
       "    comm.on_msg(function(msg) {\n",
       "        //console.log('receiving', msg['content']['data'], msg);\n",
       "        // Pass the mpl event to the overridden (by mpl) onmessage function.\n",
       "        ws.onmessage(msg['content']['data'])\n",
       "    });\n",
       "    return ws;\n",
       "}\n",
       "\n",
       "mpl.mpl_figure_comm = function(comm, msg) {\n",
       "    // This is the function which gets called when the mpl process\n",
       "    // starts-up an IPython Comm through the \"matplotlib\" channel.\n",
       "\n",
       "    var id = msg.content.data.id;\n",
       "    // Get hold of the div created by the display call when the Comm\n",
       "    // socket was opened in Python.\n",
       "    var element = $(\"#\" + id);\n",
       "    var ws_proxy = comm_websocket_adapter(comm)\n",
       "\n",
       "    function ondownload(figure, format) {\n",
       "        window.open(figure.imageObj.src);\n",
       "    }\n",
       "\n",
       "    var fig = new mpl.figure(id, ws_proxy,\n",
       "                           ondownload,\n",
       "                           element.get(0));\n",
       "\n",
       "    // Call onopen now - mpl needs it, as it is assuming we've passed it a real\n",
       "    // web socket which is closed, not our websocket->open comm proxy.\n",
       "    ws_proxy.onopen();\n",
       "\n",
       "    fig.parent_element = element.get(0);\n",
       "    fig.cell_info = mpl.find_output_cell(\"<div id='\" + id + \"'></div>\");\n",
       "    if (!fig.cell_info) {\n",
       "        console.error(\"Failed to find cell for figure\", id, fig);\n",
       "        return;\n",
       "    }\n",
       "\n",
       "    var output_index = fig.cell_info[2]\n",
       "    var cell = fig.cell_info[0];\n",
       "\n",
       "};\n",
       "\n",
       "mpl.figure.prototype.handle_close = function(fig, msg) {\n",
       "    var width = fig.canvas.width/mpl.ratio\n",
       "    fig.root.unbind('remove')\n",
       "\n",
       "    // Update the output cell to use the data from the current canvas.\n",
       "    fig.push_to_output();\n",
       "    var dataURL = fig.canvas.toDataURL();\n",
       "    // Re-enable the keyboard manager in IPython - without this line, in FF,\n",
       "    // the notebook keyboard shortcuts fail.\n",
       "    IPython.keyboard_manager.enable()\n",
       "    $(fig.parent_element).html('<img src=\"' + dataURL + '\" width=\"' + width + '\">');\n",
       "    fig.close_ws(fig, msg);\n",
       "}\n",
       "\n",
       "mpl.figure.prototype.close_ws = function(fig, msg){\n",
       "    fig.send_message('closing', msg);\n",
       "    // fig.ws.close()\n",
       "}\n",
       "\n",
       "mpl.figure.prototype.push_to_output = function(remove_interactive) {\n",
       "    // Turn the data on the canvas into data in the output cell.\n",
       "    var width = this.canvas.width/mpl.ratio\n",
       "    var dataURL = this.canvas.toDataURL();\n",
       "    this.cell_info[1]['text/html'] = '<img src=\"' + dataURL + '\" width=\"' + width + '\">';\n",
       "}\n",
       "\n",
       "mpl.figure.prototype.updated_canvas_event = function() {\n",
       "    // Tell IPython that the notebook contents must change.\n",
       "    IPython.notebook.set_dirty(true);\n",
       "    this.send_message(\"ack\", {});\n",
       "    var fig = this;\n",
       "    // Wait a second, then push the new image to the DOM so\n",
       "    // that it is saved nicely (might be nice to debounce this).\n",
       "    setTimeout(function () { fig.push_to_output() }, 1000);\n",
       "}\n",
       "\n",
       "mpl.figure.prototype._init_toolbar = function() {\n",
       "    var fig = this;\n",
       "\n",
       "    var nav_element = $('<div/>')\n",
       "    nav_element.attr('style', 'width: 100%');\n",
       "    this.root.append(nav_element);\n",
       "\n",
       "    // Define a callback function for later on.\n",
       "    function toolbar_event(event) {\n",
       "        return fig.toolbar_button_onclick(event['data']);\n",
       "    }\n",
       "    function toolbar_mouse_event(event) {\n",
       "        return fig.toolbar_button_onmouseover(event['data']);\n",
       "    }\n",
       "\n",
       "    for(var toolbar_ind in mpl.toolbar_items){\n",
       "        var name = mpl.toolbar_items[toolbar_ind][0];\n",
       "        var tooltip = mpl.toolbar_items[toolbar_ind][1];\n",
       "        var image = mpl.toolbar_items[toolbar_ind][2];\n",
       "        var method_name = mpl.toolbar_items[toolbar_ind][3];\n",
       "\n",
       "        if (!name) { continue; };\n",
       "\n",
       "        var button = $('<button class=\"btn btn-default\" href=\"#\" title=\"' + name + '\"><i class=\"fa ' + image + ' fa-lg\"></i></button>');\n",
       "        button.click(method_name, toolbar_event);\n",
       "        button.mouseover(tooltip, toolbar_mouse_event);\n",
       "        nav_element.append(button);\n",
       "    }\n",
       "\n",
       "    // Add the status bar.\n",
       "    var status_bar = $('<span class=\"mpl-message\" style=\"text-align:right; float: right;\"/>');\n",
       "    nav_element.append(status_bar);\n",
       "    this.message = status_bar[0];\n",
       "\n",
       "    // Add the close button to the window.\n",
       "    var buttongrp = $('<div class=\"btn-group inline pull-right\"></div>');\n",
       "    var button = $('<button class=\"btn btn-mini btn-primary\" href=\"#\" title=\"Stop Interaction\"><i class=\"fa fa-power-off icon-remove icon-large\"></i></button>');\n",
       "    button.click(function (evt) { fig.handle_close(fig, {}); } );\n",
       "    button.mouseover('Stop Interaction', toolbar_mouse_event);\n",
       "    buttongrp.append(button);\n",
       "    var titlebar = this.root.find($('.ui-dialog-titlebar'));\n",
       "    titlebar.prepend(buttongrp);\n",
       "}\n",
       "\n",
       "mpl.figure.prototype._root_extra_style = function(el){\n",
       "    var fig = this\n",
       "    el.on(\"remove\", function(){\n",
       "\tfig.close_ws(fig, {});\n",
       "    });\n",
       "}\n",
       "\n",
       "mpl.figure.prototype._canvas_extra_style = function(el){\n",
       "    // this is important to make the div 'focusable\n",
       "    el.attr('tabindex', 0)\n",
       "    // reach out to IPython and tell the keyboard manager to turn it's self\n",
       "    // off when our div gets focus\n",
       "\n",
       "    // location in version 3\n",
       "    if (IPython.notebook.keyboard_manager) {\n",
       "        IPython.notebook.keyboard_manager.register_events(el);\n",
       "    }\n",
       "    else {\n",
       "        // location in version 2\n",
       "        IPython.keyboard_manager.register_events(el);\n",
       "    }\n",
       "\n",
       "}\n",
       "\n",
       "mpl.figure.prototype._key_event_extra = function(event, name) {\n",
       "    var manager = IPython.notebook.keyboard_manager;\n",
       "    if (!manager)\n",
       "        manager = IPython.keyboard_manager;\n",
       "\n",
       "    // Check for shift+enter\n",
       "    if (event.shiftKey && event.which == 13) {\n",
       "        this.canvas_div.blur();\n",
       "        event.shiftKey = false;\n",
       "        // Send a \"J\" for go to next cell\n",
       "        event.which = 74;\n",
       "        event.keyCode = 74;\n",
       "        manager.command_mode();\n",
       "        manager.handle_keydown(event);\n",
       "    }\n",
       "}\n",
       "\n",
       "mpl.figure.prototype.handle_save = function(fig, msg) {\n",
       "    fig.ondownload(fig, null);\n",
       "}\n",
       "\n",
       "\n",
       "mpl.find_output_cell = function(html_output) {\n",
       "    // Return the cell and output element which can be found *uniquely* in the notebook.\n",
       "    // Note - this is a bit hacky, but it is done because the \"notebook_saving.Notebook\"\n",
       "    // IPython event is triggered only after the cells have been serialised, which for\n",
       "    // our purposes (turning an active figure into a static one), is too late.\n",
       "    var cells = IPython.notebook.get_cells();\n",
       "    var ncells = cells.length;\n",
       "    for (var i=0; i<ncells; i++) {\n",
       "        var cell = cells[i];\n",
       "        if (cell.cell_type === 'code'){\n",
       "            for (var j=0; j<cell.output_area.outputs.length; j++) {\n",
       "                var data = cell.output_area.outputs[j];\n",
       "                if (data.data) {\n",
       "                    // IPython >= 3 moved mimebundle to data attribute of output\n",
       "                    data = data.data;\n",
       "                }\n",
       "                if (data['text/html'] == html_output) {\n",
       "                    return [cell, data, j];\n",
       "                }\n",
       "            }\n",
       "        }\n",
       "    }\n",
       "}\n",
       "\n",
       "// Register the function which deals with the matplotlib target/channel.\n",
       "// The kernel may be null if the page has been refreshed.\n",
       "if (IPython.notebook.kernel != null) {\n",
       "    IPython.notebook.kernel.comm_manager.register_target('matplotlib', mpl.mpl_figure_comm);\n",
       "}\n"
      ],
      "text/plain": [
       "<IPython.core.display.Javascript object>"
      ]
     },
     "metadata": {},
     "output_type": "display_data"
    },
    {
     "data": {
      "text/html": [
       "<img src=\"data:image/png;base64,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\" width=\"431.24999357387435\">"
      ],
      "text/plain": [
       "<IPython.core.display.HTML object>"
      ]
     },
     "metadata": {},
     "output_type": "display_data"
    },
    {
     "data": {
      "text/plain": [
       "<matplotlib.legend.Legend at 0x11fbf7128>"
      ]
     },
     "execution_count": 75,
     "metadata": {},
     "output_type": "execute_result"
    }
   ],
   "source": [
    "%matplotlib notebook\n",
    "# plt.figure()\n",
    "plt.plot([0,1],[0,1],color='navy', lw=2, linestyle='--')\n",
    "plt.plot(fpr,tpr,color='orange', lw=3, label='ROC curve (area = %0.2f)' % roc_auc)\n",
    "\n",
    "plt.xlabel('FPR')\n",
    "plt.ylabel('TPR')\n",
    "plt.legend(loc=\"lower right\")"
   ]
  },
  {
   "cell_type": "markdown",
   "metadata": {},
   "source": [
    "### Manual inspection of threshold value"
   ]
  },
  {
   "cell_type": "code",
   "execution_count": 77,
   "metadata": {},
   "outputs": [
    {
     "data": {
      "text/html": [
       "<div>\n",
       "<style scoped>\n",
       "    .dataframe tbody tr th:only-of-type {\n",
       "        vertical-align: middle;\n",
       "    }\n",
       "\n",
       "    .dataframe tbody tr th {\n",
       "        vertical-align: top;\n",
       "    }\n",
       "\n",
       "    .dataframe thead th {\n",
       "        text-align: right;\n",
       "    }\n",
       "</style>\n",
       "<table border=\"1\" class=\"dataframe\">\n",
       "  <thead>\n",
       "    <tr style=\"text-align: right;\">\n",
       "      <th></th>\n",
       "      <th>FPR</th>\n",
       "      <th>TPR</th>\n",
       "      <th>Threshold</th>\n",
       "    </tr>\n",
       "  </thead>\n",
       "  <tbody>\n",
       "    <tr>\n",
       "      <th>0</th>\n",
       "      <td>0.000000</td>\n",
       "      <td>0.000000</td>\n",
       "      <td>1.999788</td>\n",
       "    </tr>\n",
       "    <tr>\n",
       "      <th>1</th>\n",
       "      <td>0.000357</td>\n",
       "      <td>0.000000</td>\n",
       "      <td>0.999788</td>\n",
       "    </tr>\n",
       "    <tr>\n",
       "      <th>2</th>\n",
       "      <td>0.000357</td>\n",
       "      <td>0.016438</td>\n",
       "      <td>0.990268</td>\n",
       "    </tr>\n",
       "    <tr>\n",
       "      <th>3</th>\n",
       "      <td>0.000715</td>\n",
       "      <td>0.016438</td>\n",
       "      <td>0.987232</td>\n",
       "    </tr>\n",
       "    <tr>\n",
       "      <th>4</th>\n",
       "      <td>0.000715</td>\n",
       "      <td>0.019178</td>\n",
       "      <td>0.983515</td>\n",
       "    </tr>\n",
       "    <tr>\n",
       "      <th>...</th>\n",
       "      <td>...</td>\n",
       "      <td>...</td>\n",
       "      <td>...</td>\n",
       "    </tr>\n",
       "    <tr>\n",
       "      <th>437</th>\n",
       "      <td>0.595570</td>\n",
       "      <td>0.994521</td>\n",
       "      <td>0.029973</td>\n",
       "    </tr>\n",
       "    <tr>\n",
       "      <th>438</th>\n",
       "      <td>0.595570</td>\n",
       "      <td>0.997260</td>\n",
       "      <td>0.029952</td>\n",
       "    </tr>\n",
       "    <tr>\n",
       "      <th>439</th>\n",
       "      <td>0.866738</td>\n",
       "      <td>0.997260</td>\n",
       "      <td>0.010434</td>\n",
       "    </tr>\n",
       "    <tr>\n",
       "      <th>440</th>\n",
       "      <td>0.866738</td>\n",
       "      <td>1.000000</td>\n",
       "      <td>0.010360</td>\n",
       "    </tr>\n",
       "    <tr>\n",
       "      <th>441</th>\n",
       "      <td>1.000000</td>\n",
       "      <td>1.000000</td>\n",
       "      <td>0.000692</td>\n",
       "    </tr>\n",
       "  </tbody>\n",
       "</table>\n",
       "<p>442 rows × 3 columns</p>\n",
       "</div>"
      ],
      "text/plain": [
       "          FPR       TPR  Threshold\n",
       "0    0.000000  0.000000   1.999788\n",
       "1    0.000357  0.000000   0.999788\n",
       "2    0.000357  0.016438   0.990268\n",
       "3    0.000715  0.016438   0.987232\n",
       "4    0.000715  0.019178   0.983515\n",
       "..        ...       ...        ...\n",
       "437  0.595570  0.994521   0.029973\n",
       "438  0.595570  0.997260   0.029952\n",
       "439  0.866738  0.997260   0.010434\n",
       "440  0.866738  1.000000   0.010360\n",
       "441  1.000000  1.000000   0.000692\n",
       "\n",
       "[442 rows x 3 columns]"
      ]
     },
     "execution_count": 77,
     "metadata": {},
     "output_type": "execute_result"
    }
   ],
   "source": [
    "roc_df = pd.DataFrame({'FPR':fpr, 'TPR':tpr, 'Threshold':threshold})\n",
    "\n",
    "roc_df"
   ]
  },
  {
   "cell_type": "code",
   "execution_count": 78,
   "metadata": {},
   "outputs": [],
   "source": [
    "roc_df.sort_values('TPR',ascending=False,inplace=True)\n"
   ]
  },
  {
   "cell_type": "code",
   "execution_count": 79,
   "metadata": {},
   "outputs": [],
   "source": [
    "optimal_idx = np.argmax(tpr - fpr)\n",
    "optimal_threshold = threshold[optimal_idx]"
   ]
  },
  {
   "cell_type": "code",
   "execution_count": 80,
   "metadata": {},
   "outputs": [
    {
     "data": {
      "text/plain": [
       "0.09936133439145774"
      ]
     },
     "execution_count": 80,
     "metadata": {},
     "output_type": "execute_result"
    }
   ],
   "source": [
    "optimal_threshold"
   ]
  },
  {
   "cell_type": "code",
   "execution_count": 81,
   "metadata": {},
   "outputs": [
    {
     "data": {
      "text/plain": [
       "1    973\n",
       "0    384\n",
       "dtype: int64"
      ]
     },
     "execution_count": 81,
     "metadata": {},
     "output_type": "execute_result"
    }
   ],
   "source": [
    "custom_threshold = 0.099\n",
    "\n",
    "\n",
    "## To get in 0-1 format vector (pandas Series)\n",
    "final_pred_array = pd.Series([0 if x>custom_threshold else 1 for x in train_preds_prob])\n",
    "final_pred_array.value_counts()\n",
    "\n",
    "final_test_pred_array = pd.Series([0 if x>custom_threshold else 1 for x in test_preds_prob])\n",
    "final_test_pred_array.value_counts()"
   ]
  },
  {
   "cell_type": "code",
   "execution_count": 82,
   "metadata": {},
   "outputs": [],
   "source": [
    "## To get True-False format vector (pandas Series)\n",
    "final_pred = pd.Series(train_preds_prob > 0.099)\n",
    "final_pred.value_counts()\n",
    "final_test_pred=pd.Series(test_preds_prob > 0.099)"
   ]
  },
  {
   "cell_type": "code",
   "execution_count": 83,
   "metadata": {},
   "outputs": [
    {
     "name": "stdout",
     "output_type": "stream",
     "text": [
      "              precision    recall  f1-score   support\n",
      "\n",
      "           0       0.98      0.81      0.89      2799\n",
      "           1       0.38      0.86      0.52       365\n",
      "\n",
      "    accuracy                           0.82      3164\n",
      "   macro avg       0.68      0.84      0.71      3164\n",
      "weighted avg       0.91      0.82      0.85      3164\n",
      "\n"
     ]
    }
   ],
   "source": [
    "print(classification_report(y_train,final_pred))"
   ]
  },
  {
   "cell_type": "code",
   "execution_count": 84,
   "metadata": {},
   "outputs": [
    {
     "name": "stdout",
     "output_type": "stream",
     "text": [
      "              precision    recall  f1-score   support\n",
      "\n",
      "           0       0.97      0.79      0.87      1201\n",
      "           1       0.34      0.83      0.48       156\n",
      "\n",
      "    accuracy                           0.79      1357\n",
      "   macro avg       0.66      0.81      0.68      1357\n",
      "weighted avg       0.90      0.79      0.83      1357\n",
      "\n"
     ]
    }
   ],
   "source": [
    "print(classification_report(y_test,final_test_pred))"
   ]
  },
  {
   "cell_type": "code",
   "execution_count": 85,
   "metadata": {},
   "outputs": [
    {
     "name": "stdout",
     "output_type": "stream",
     "text": [
      "0.81826801517067\n",
      "0.863013698630137\n",
      "0.793662490788504\n",
      "0.8333333333333334\n"
     ]
    }
   ],
   "source": [
    "train_accuracy= accuracy_score(y_train,final_pred)\n",
    "train_recall= recall_score(y_train,final_pred)\n",
    "print(train_accuracy)\n",
    "print(train_recall)\n",
    "\n",
    "test_accuracy= accuracy_score(y_test,final_test_pred)\n",
    "test_recall= recall_score(y_test,final_test_pred)\n",
    "print(test_accuracy)\n",
    "print(test_recall)"
   ]
  },
  {
   "cell_type": "markdown",
   "metadata": {},
   "source": [
    "### Logistic model 2 -   Using Penalty as 'L1'"
   ]
  },
  {
   "cell_type": "code",
   "execution_count": 36,
   "metadata": {},
   "outputs": [],
   "source": [
    "l1_model = LogisticRegression(penalty='l1', solver='saga')\n",
    "\n",
    "l1_model.fit(X_train,y_train)\n",
    "\n",
    "l1_train_pred = l1_model.predict(X_train)\n",
    "l1_test_pred = l1_model.predict(X_test)"
   ]
  },
  {
   "cell_type": "markdown",
   "metadata": {},
   "source": [
    "#### Confusion Matrix for model2"
   ]
  },
  {
   "cell_type": "code",
   "execution_count": 37,
   "metadata": {},
   "outputs": [
    {
     "data": {
      "text/plain": [
       "array([[2745,   54],\n",
       "       [ 242,  123]])"
      ]
     },
     "execution_count": 37,
     "metadata": {},
     "output_type": "execute_result"
    }
   ],
   "source": [
    "confusion_matrix(y_train,l1_train_pred)"
   ]
  },
  {
   "cell_type": "code",
   "execution_count": 38,
   "metadata": {},
   "outputs": [
    {
     "name": "stdout",
     "output_type": "stream",
     "text": [
      "[0 0 0 ... 0 0 0]\n"
     ]
    }
   ],
   "source": [
    "train_pred_prob = l1_model.predict_proba(X_train)[:,1]\n",
    "train_pred_classes=l1_model.predict(X_train)\n",
    "print(train_pred_classes)\n",
    "\n",
    "test_pred_classes=l1_model.predict(X_test)\n",
    "test_pred_prob=l1_model.predict_proba(X_train)[:,1]"
   ]
  },
  {
   "cell_type": "code",
   "execution_count": 39,
   "metadata": {},
   "outputs": [
    {
     "data": {
      "text/plain": [
       "array([[ 0.00000000e+00,  0.00000000e+00, -3.69266739e-01,\n",
       "         0.00000000e+00, -1.23923987e+00,  0.00000000e+00,\n",
       "         1.19327000e+01, -2.26992033e-02,  1.65830050e-01,\n",
       "        -1.88516625e-01, -3.05989010e-01, -4.53375411e-01,\n",
       "         0.00000000e+00, -2.02321504e-03, -1.33990640e-01,\n",
       "         4.82409486e-01, -2.57743732e-01, -2.71768934e-01,\n",
       "         2.81811248e-01, -1.49607771e-01, -3.87165990e-01,\n",
       "         3.52304275e-02, -8.32040544e-01, -4.82977369e-01,\n",
       "        -1.74287845e-01, -2.47281506e-01,  3.53863578e-01,\n",
       "         2.81770127e-03, -4.73620442e-01, -5.05590337e-01,\n",
       "         4.59196820e-01,  1.35404982e+00, -4.31087702e-01,\n",
       "        -8.11009285e-01,  1.15517286e+00,  7.81936121e-01,\n",
       "         0.00000000e+00,  1.33748373e-01,  2.20012821e+00,\n",
       "        -3.28928209e-01,  0.00000000e+00]])"
      ]
     },
     "execution_count": 39,
     "metadata": {},
     "output_type": "execute_result"
    }
   ],
   "source": [
    "l1_model.coef_"
   ]
  },
  {
   "cell_type": "code",
   "execution_count": 40,
   "metadata": {},
   "outputs": [],
   "source": [
    "train_accuracy_2 = accuracy_score(y_train,train_pred_classes)\n",
    "train_recall_2 = recall_score(y_train,train_pred_classes)\n",
    "train_precision_2 = precision_score(y_train,train_pred_classes)\n",
    "\n",
    "test_accuracy_2= accuracy_score(y_test,test_pred_classes)\n",
    "test_recall_2= recall_score(y_test,test_pred_classes)\n",
    "test_precision_2= precision_score(y_test,test_pred_classes)"
   ]
  },
  {
   "cell_type": "code",
   "execution_count": 41,
   "metadata": {},
   "outputs": [
    {
     "name": "stdout",
     "output_type": "stream",
     "text": [
      "0.9064475347661188\n",
      "0.336986301369863\n",
      "0.6949152542372882\n",
      "0.8975681650700074\n",
      "0.30128205128205127\n",
      "0.6103896103896104\n"
     ]
    }
   ],
   "source": [
    "print(train_accuracy_2)\n",
    "print(train_recall_2)\n",
    "print(train_precision_2)\n",
    "\n",
    "print(test_accuracy_2)\n",
    "print(test_recall_2)\n",
    "print(test_precision_2)"
   ]
  },
  {
   "cell_type": "markdown",
   "metadata": {},
   "source": [
    "### Model using penalty 'L2'"
   ]
  },
  {
   "cell_type": "code",
   "execution_count": 42,
   "metadata": {},
   "outputs": [],
   "source": [
    "l2_model = LogisticRegression(penalty='l2')\n",
    "\n",
    "l2_model.fit(X_train,y_train)\n",
    "\n",
    "l2_train_pred = l2_model.predict(X_train)\n",
    "l2_test_pred = l2_model.predict(X_test)"
   ]
  },
  {
   "cell_type": "code",
   "execution_count": 43,
   "metadata": {},
   "outputs": [
    {
     "data": {
      "text/plain": [
       "array([[2757,   42],\n",
       "       [ 268,   97]])"
      ]
     },
     "execution_count": 43,
     "metadata": {},
     "output_type": "execute_result"
    }
   ],
   "source": [
    "confusion_matrix(y_train,l2_train_pred)"
   ]
  },
  {
   "cell_type": "code",
   "execution_count": 44,
   "metadata": {},
   "outputs": [
    {
     "name": "stdout",
     "output_type": "stream",
     "text": [
      "[0 0 0 ... 0 0 0]\n"
     ]
    }
   ],
   "source": [
    "train_l2 = l2_model.predict_proba(X_train)[:,1]\n",
    "train_l2c=l2_model.predict(X_train)\n",
    "print(train_l2c)\n",
    "\n",
    "test_l2c=l2_model.predict(X_test)\n",
    "test_l2=l2_model.predict_proba(X_train)[:,1]"
   ]
  },
  {
   "cell_type": "code",
   "execution_count": 45,
   "metadata": {},
   "outputs": [
    {
     "data": {
      "text/plain": [
       "array([[ 5.94269264e-02, -3.75055946e-01, -6.99259042e-01,\n",
       "        -8.52791693e-03, -1.12652146e+00,  9.84086844e-02,\n",
       "         8.63887252e+00, -5.30686781e-02,  1.47230666e-01,\n",
       "        -2.57817199e-01, -2.56435030e-01, -4.72280281e-01,\n",
       "         7.06174690e-03, -1.67146554e-01, -2.22213454e-01,\n",
       "         4.34002528e-01, -3.44302381e-01, -3.81971174e-01,\n",
       "         2.80608779e-01, -2.69727651e-01, -4.43810561e-01,\n",
       "         2.66030128e-01, -7.80406653e-01, -5.42165240e-01,\n",
       "        -2.09555461e-01, -2.74412125e-01,  5.92009710e-01,\n",
       "         1.32501309e-02, -5.87422826e-01, -4.52928441e-01,\n",
       "         4.20096152e-01,  1.12576693e+00, -4.38105543e-01,\n",
       "        -7.73401562e-01,  1.06707863e+00,  7.21166089e-01,\n",
       "        -4.77856236e-02,  1.71093019e-01,  2.08232642e+00,\n",
       "        -3.12932304e-01,  1.01885606e-01]])"
      ]
     },
     "execution_count": 45,
     "metadata": {},
     "output_type": "execute_result"
    }
   ],
   "source": [
    "l2_model.coef_"
   ]
  },
  {
   "cell_type": "code",
   "execution_count": 46,
   "metadata": {},
   "outputs": [],
   "source": [
    "train_accuracy_3 = accuracy_score(y_train,train_l2c)\n",
    "train_recall_3 = recall_score(y_train,train_l2c)\n",
    "train_precision_3 = precision_score(y_train,train_l2c)\n",
    "\n",
    "test_accuracy_3= accuracy_score(y_test,test_l2c)\n",
    "test_recall_3= recall_score(y_test,test_l2c)\n",
    "test_precision_3= precision_score(y_test,test_l2c)"
   ]
  },
  {
   "cell_type": "code",
   "execution_count": 47,
   "metadata": {},
   "outputs": [
    {
     "name": "stdout",
     "output_type": "stream",
     "text": [
      "0.9020227560050569\n",
      "0.26575342465753427\n",
      "0.697841726618705\n",
      "0.8975681650700074\n",
      "0.24358974358974358\n",
      "0.6440677966101694\n"
     ]
    }
   ],
   "source": [
    "print(train_accuracy_3)\n",
    "print(train_recall_3)\n",
    "print(train_precision_3)\n",
    "\n",
    "print(test_accuracy_3)\n",
    "print(test_recall_3)\n",
    "print(test_precision_3)"
   ]
  },
  {
   "cell_type": "markdown",
   "metadata": {},
   "source": [
    "### Using penalty 'elasticnet'"
   ]
  },
  {
   "cell_type": "code",
   "execution_count": 48,
   "metadata": {},
   "outputs": [],
   "source": [
    "reg_model = LogisticRegression(penalty='elasticnet', solver='saga', l1_ratio=0.5)\n",
    "\n",
    "reg_model.fit(X_train,y_train)\n",
    "\n",
    "train_pred = reg_model.predict(X_train)\n",
    "test_pred = reg_model.predict(X_test)"
   ]
  },
  {
   "cell_type": "code",
   "execution_count": 49,
   "metadata": {},
   "outputs": [
    {
     "data": {
      "text/plain": [
       "array([[ 0.00000000e+00, -2.44027748e-02, -6.07989144e-01,\n",
       "         0.00000000e+00, -1.16263190e+00,  0.00000000e+00,\n",
       "         9.91105389e+00, -4.04109371e-02,  1.50598057e-01,\n",
       "        -2.18237993e-01, -2.75474305e-01, -4.59266885e-01,\n",
       "         0.00000000e+00, -9.16767112e-02, -1.81981090e-01,\n",
       "         4.58290449e-01, -3.01114240e-01, -3.35004181e-01,\n",
       "         2.72900518e-01, -2.19261751e-01, -4.11545625e-01,\n",
       "         1.76708049e-01, -7.92769086e-01, -5.17034190e-01,\n",
       "        -1.98208360e-01, -2.58748913e-01,  5.02812015e-01,\n",
       "         9.14648881e-03, -5.39637101e-01, -4.66393663e-01,\n",
       "         4.28802856e-01,  1.21232738e+00, -4.30905974e-01,\n",
       "        -7.86249937e-01,  1.09723012e+00,  7.40371064e-01,\n",
       "         0.00000000e+00,  1.58593274e-01,  2.13368554e+00,\n",
       "        -3.15090649e-01,  0.00000000e+00]])"
      ]
     },
     "execution_count": 49,
     "metadata": {},
     "output_type": "execute_result"
    }
   ],
   "source": [
    "reg_model.coef_"
   ]
  },
  {
   "cell_type": "markdown",
   "metadata": {},
   "source": [
    "### Naive Bayes Classifier"
   ]
  },
  {
   "cell_type": "code",
   "execution_count": 86,
   "metadata": {},
   "outputs": [
    {
     "name": "stdout",
     "output_type": "stream",
     "text": [
      "0.8460809102402023\n",
      "0.4520547945205479\n",
      "0.8400884303610906\n",
      "0.42948717948717946\n"
     ]
    }
   ],
   "source": [
    "model = GaussianNB().fit(X_train,y_train) \n",
    "\n",
    "pred_train = model.predict(X_train)  \n",
    "pred_test = model.predict(X_test) #predict on test data \n",
    "\n",
    "print(accuracy_score(y_train,pred_train)) \n",
    "print(recall_score(y_train,pred_train)) \n",
    "print(accuracy_score(y_test,pred_test))\n",
    "print(recall_score(y_test,pred_test))"
   ]
  },
  {
   "cell_type": "code",
   "execution_count": 87,
   "metadata": {},
   "outputs": [
    {
     "data": {
      "text/plain": [
       "array([[1073,  128],\n",
       "       [  89,   67]])"
      ]
     },
     "execution_count": 87,
     "metadata": {},
     "output_type": "execute_result"
    }
   ],
   "source": [
    "confusion_matrix(y_train,pred_train)\n",
    "confusion_matrix(y_test,pred_test)"
   ]
  },
  {
   "cell_type": "markdown",
   "metadata": {},
   "source": [
    "### Balancing the class weights"
   ]
  },
  {
   "cell_type": "code",
   "execution_count": 80,
   "metadata": {},
   "outputs": [
    {
     "data": {
      "text/plain": [
       "LogisticRegression(C=1.0, class_weight='balanced', dual=False,\n",
       "                   fit_intercept=True, intercept_scaling=1, l1_ratio=None,\n",
       "                   max_iter=100, multi_class='auto', n_jobs=None,\n",
       "                   penalty='none', random_state=None, solver='lbfgs',\n",
       "                   tol=0.0001, verbose=0, warm_start=False)"
      ]
     },
     "execution_count": 80,
     "metadata": {},
     "output_type": "execute_result"
    }
   ],
   "source": [
    "logistic_model = LogisticRegression(penalty='none', class_weight='balanced')\n",
    "\n",
    "logistic_model.fit(X_train,y_train)"
   ]
  },
  {
   "cell_type": "code",
   "execution_count": 81,
   "metadata": {},
   "outputs": [],
   "source": [
    "train_preds = logistic_model.predict(X_train)\n",
    "train_preds_prob=logistic_model.predict_proba(X_train)[:,1]\n",
    "test_preds = logistic_model.predict(X_test)\n",
    "test_preds_prob=logistic_model.predict_proba(X_test)[:,1]"
   ]
  },
  {
   "cell_type": "code",
   "execution_count": 82,
   "metadata": {},
   "outputs": [
    {
     "data": {
      "text/plain": [
       "array([[-0.05719819, -1.06264921, -5.03299116,  0.20300295, -1.43736724,\n",
       "        -0.05157771, 18.20054463, -0.03471874,  0.09623885, -0.32352011,\n",
       "        -0.30760532, -0.99091598, -0.22284338, -0.38091642, -0.43370438,\n",
       "         0.36264382, -0.74533016, -0.68609119,  0.27885408, -0.4081228 ,\n",
       "        -0.77432992,  0.47738301, -1.15927732, -0.43651184, -0.13080537,\n",
       "        -0.37814643,  0.70945383,  0.13410137, -0.9437042 , -0.96423591,\n",
       "         0.48298593,  1.73356476, -0.86112252, -0.78285516,  1.53783985,\n",
       "         1.16969852,  0.10283404,  0.26856747,  2.41095531, -0.45540592,\n",
       "        -0.26988001]])"
      ]
     },
     "execution_count": 82,
     "metadata": {},
     "output_type": "execute_result"
    }
   ],
   "source": [
    "logistic_model.coef_"
   ]
  },
  {
   "cell_type": "code",
   "execution_count": 83,
   "metadata": {},
   "outputs": [
    {
     "data": {
      "text/plain": [
       "array([[2370,  429],\n",
       "       [  64,  301]])"
      ]
     },
     "execution_count": 83,
     "metadata": {},
     "output_type": "execute_result"
    }
   ],
   "source": [
    "confusion_matrix(y_train,train_preds)"
   ]
  },
  {
   "cell_type": "code",
   "execution_count": 84,
   "metadata": {},
   "outputs": [],
   "source": [
    "train_accuracy_1= accuracy_score(y_train,train_preds)\n",
    "train_recall_1= recall_score(y_train,train_preds)\n",
    "train_precision_1= precision_score(y_train,train_preds)\n",
    "\n",
    "test_accuracy_1= accuracy_score(y_test,test_preds)\n",
    "test_recall_1= recall_score(y_test,test_preds)\n",
    "test_precision_1= precision_score(y_test,test_preds)"
   ]
  },
  {
   "cell_type": "code",
   "execution_count": 85,
   "metadata": {},
   "outputs": [
    {
     "name": "stdout",
     "output_type": "stream",
     "text": [
      "0.8441845764854614\n",
      "0.8246575342465754\n",
      "0.4123287671232877\n",
      "0.8282977155490051\n",
      "0.8012820512820513\n",
      "0.382262996941896\n"
     ]
    }
   ],
   "source": [
    "print(train_accuracy_1)\n",
    "print(train_recall_1)\n",
    "print(train_precision_1)\n",
    "\n",
    "print(test_accuracy_1)\n",
    "print(test_recall_1)\n",
    "print(test_precision_1)"
   ]
  },
  {
   "cell_type": "code",
   "execution_count": 86,
   "metadata": {},
   "outputs": [
    {
     "name": "stdout",
     "output_type": "stream",
     "text": [
      "              precision    recall  f1-score   support\n",
      "\n",
      "           0       0.97      0.85      0.91      2799\n",
      "           1       0.41      0.82      0.55       365\n",
      "\n",
      "    accuracy                           0.84      3164\n",
      "   macro avg       0.69      0.84      0.73      3164\n",
      "weighted avg       0.91      0.84      0.86      3164\n",
      "\n"
     ]
    }
   ],
   "source": [
    "print(classification_report(y_train,train_preds))"
   ]
  },
  {
   "cell_type": "code",
   "execution_count": 87,
   "metadata": {},
   "outputs": [
    {
     "name": "stdout",
     "output_type": "stream",
     "text": [
      "              precision    recall  f1-score   support\n",
      "\n",
      "           0       0.97      0.83      0.90      1201\n",
      "           1       0.38      0.80      0.52       156\n",
      "\n",
      "    accuracy                           0.83      1357\n",
      "   macro avg       0.68      0.82      0.71      1357\n",
      "weighted avg       0.90      0.83      0.85      1357\n",
      "\n"
     ]
    }
   ],
   "source": [
    "print(classification_report(y_test,test_preds))"
   ]
  },
  {
   "cell_type": "code",
   "execution_count": null,
   "metadata": {},
   "outputs": [],
   "source": []
  }
 ],
 "metadata": {
  "kernelspec": {
   "display_name": "Python 3",
   "language": "python",
   "name": "python3"
  },
  "language_info": {
   "codemirror_mode": {
    "name": "ipython",
    "version": 3
   },
   "file_extension": ".py",
   "mimetype": "text/x-python",
   "name": "python",
   "nbconvert_exporter": "python",
   "pygments_lexer": "ipython3",
   "version": "3.7.3"
  }
 },
 "nbformat": 4,
 "nbformat_minor": 2
}
